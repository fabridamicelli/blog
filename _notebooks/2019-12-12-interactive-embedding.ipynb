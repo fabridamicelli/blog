{
 "cells": [
  {
   "cell_type": "markdown",
   "metadata": {},
   "source": [
    "# \"Does your embedding make sense?\"\n",
    "> \"Projecting data is easy. Understanding the outcome, less so.\"\n",
    "\n",
    "- toc: false\n",
    "- author: Fabrizio Damicelli\n",
    "- branch: master\n",
    "- badges: true\n",
    "- comments: false\n",
    "- categories: [python, dataviz, dimensionality-reduction]"
   ]
  },
  {
   "cell_type": "markdown",
   "metadata": {},
   "source": [
    "It's not about the projections for the rest of 2020, I promise. Nor 2021.\n",
    "\n",
    "Imagine you are working with high-dimensional data, that is, the position of each data point in that multidimensional space can be represented by a large number of other features/coordinates.\n",
    "For example, you measure a bunch of properties of a product where each item has some values associated, say, size, cost of production, price, CO2 footprint, etc.\n",
    "It could also be the case that your features are more abstract quantities.\n",
    "Instead of price or size, you could just have a bunch of numbers representing each item that don't necessarily have a human meaning, for instance a vector like this [0.11, 0.34, 0.15, 0.9].\n",
    "Hopefully, those number actually mean something (whatever we understand by \"meaning something\").\n",
    "Hopefully.\n",
    "Things start to get trickier.\n",
    "A beautiful example of that are [word-embeddings](https://en.wikipedia.org/wiki/Word_embedding), which is the thing I was originally playing with when I needed the visualization that I will show you.\n",
    "These embeddings represent each word with a vector, typically of length between 300 and 1000.\n",
    "That's what I mean high-dimensional.\n",
    "What the coordinates actually mean in that case is highly non-trivial and you can find out about it in the article linked above.\n",
    "Other datasets are even more massive in terms of the number of features though, e.g., [gene expression data](https://en.wikipedia.org/wiki/DNA_microarray) are usually orders of magnitude larger.\n",
    "\n",
    "I'd be saying nothing new if I pointed out that humans (we typically don't talk about that with other animals) have a hard time visualizing space with more than three dimensions. \n",
    "Even with [86 billion of neurons](https://en.wikipedia.org/wiki/List_of_animals_by_number_of_neurons) between their ears.\n",
    "At this point, several of you will be saying: \"but! Carl Sagan... bla, bla\"..\n",
    "In case you're too young, too old or simple had something else better to do and didn't watch that episode, just this short video and then get back – you won't regreat:"
   ]
  },
  {
   "cell_type": "markdown",
   "metadata": {},
   "source": [
    "> youtube: https://www.youtu.be/N0WjV6MmCyM"
   ]
  },
  {
   "cell_type": "markdown",
   "metadata": {},
   "source": [
    "Back to your data.\n",
    "People do all sorts of tricks to wrap their mind around those wild, high-dimensional data, living in spaces with really funky shapes and fundamentally counterintuitive to our daily spatial perception of the world.\n",
    "Here comes a whole zoo of [dimensionality reduction methods](https://en.wikipedia.org/wiki/Dimensionality_reduction) (e.g., PCA, tSNE) that project your data down to something your visual system can deal with. \n",
    "Of course, visualization is just one use case, but you may also want to store your data more efficiently or find outliers, or simply make life easier to your machine learning algorithm.\n",
    "We won't talk about those here.\n",
    "\n",
    "#### Why bother? *The good, the bad and the ugly* metric.\n",
    "Let's say you have your projected data in 2D, for example, after PCA.\n",
    "First things first: you might want to check if the projection that your method just spit out makes any sense at all.\n",
    "But, why, what can go wrong?\n",
    "Well, a lot.\n",
    "For instance, your dimensionality reduction method might be using an inappropiate metric.\n",
    "In other words, the algorithm could be using a notion of distance between points in the multidimensional space which does not capture some fundamental aspect of the funky space that those data points live in.\n",
    "Thus, further operations we do with/to our data might be strongly misleading.\n",
    "That is not what we want.\n",
    "To keep it concrete, just take a look at these nice examples from the [documentation of the UMAP library](https://umap-learn.readthedocs.io/en/latest/parameters.html#metric), where the effect of using different metrics is clearly depicted."
   ]
  },
  {
   "cell_type": "markdown",
   "metadata": {},
   "source": [
    "Some libraries, like UMAP, also allow you to [document your embedding](https://umap-learn.readthedocs.io/en/latest/document_embedding.html) or [plot interactive figures](https://umap-learn.readthedocs.io/en/latest/plotting.html).\n",
    "But you might have a tougher luck this time around and just get a cloud of unintelligible points scattered when you plot the 2D-projected data.\n",
    "In that case, you might find it useful to interact with it by looking at the labels of your data.\n",
    "The labels can be anything, like known categories of your data or the result of your favourite clustering method.\n",
    "\n",
    "That's what you came for :)\n",
    "So without further ado, on to the code."
   ]
  },
  {
   "cell_type": "code",
   "execution_count": 1,
   "metadata": {},
   "outputs": [],
   "source": [
    "#collapse-hide\n",
    "\n",
    "import pandas as pd\n",
    "from sklearn.datasets import load_digits\n",
    "from sklearn.manifold import TSNE\n",
    "from sklearn.cluster import KMeans\n",
    "\n",
    "import altair as alt\n",
    "\n",
    "\n",
    "def plot_interactive_embedding(\n",
    "    source=None,\n",
    "    x=None,\n",
    "    y=None,\n",
    "    target_col=None,\n",
    "    color_col=None,\n",
    "    alpha=0.9,\n",
    "    markersize=40,\n",
    "    grid=True,\n",
    "    max_n_show = 25,\n",
    "    figsize=(500, 500),\n",
    "    filename=None\n",
    "):\n",
    "    \"\"\"\n",
    "    Simple function for interactive visualization labels of a 2D embedding\n",
    "    (e.g., PCA projection).\n",
    "\n",
    "    Altair Chart is generated (as html), where one can brush over the scatter\n",
    "    plots and given labels are shown.\n",
    "    Color can be optionally mapped to values as well (e.g., to compare embedding\n",
    "    with a clustering method).\n",
    "\n",
    "    This is a quick adaptation of this example:\n",
    "    https://altair-viz.github.io/gallery/scatter_linked_table.html\n",
    "    \n",
    "    Parameters\n",
    "    ----------\n",
    "    source: pandas Dataframe\n",
    "        Data to plot.\n",
    "    x: str\n",
    "        Column name of x coordinate data.\n",
    "        This name will be also used as axis label.\n",
    "    y: str\n",
    "        Column name of y coordinate data.\n",
    "        This name will be also used as axis label.\n",
    "    target_col: str\n",
    "        Column name of target data, i.e., the labels to brush over.\n",
    "    color_col: str, optional. Default None.\n",
    "        Column name of data encoding color.\n",
    "        If None, all points will have same color.\n",
    "    alpha: float (0-1), optional. Default .9.\n",
    "        Opacity of points.\n",
    "    markersize: float, int, optional. Default 40.\n",
    "        Size of the points.\n",
    "    grid: bool, optional. Default True.\n",
    "        Grid in the background. Set to False to remove it.\n",
    "    max_n_show: int, optional. Dafault 25.\n",
    "        Maximum number of (target) labels to show when brushing over the points.\n",
    "    figsize: tuple (floats), optional. Default (500, 500).\n",
    "        Values for (width, height)\n",
    "    filename: str, optional. Default None.\n",
    "        If given, the chart will be saved.\n",
    "        The name must include extension - one of [.json, .html, .svg, .png].\n",
    "\n",
    "    Returns\n",
    "    -------\n",
    "    chart: Altair Chart\n",
    "        Instance of chart for further tweaking\n",
    "\n",
    "    \"\"\"\n",
    "    width, height = figsize\n",
    "    # Brush for selection\n",
    "    brush = alt.selection(type='interval')\n",
    "\n",
    "    # Scatter Plot\n",
    "    points = alt.Chart(\n",
    "        source,\n",
    "        width=width,\n",
    "        height=height\n",
    "    ).mark_circle(size=markersize).encode(\n",
    "        x=x,\n",
    "        y=y,\n",
    "        color=alt.value('steelblue')\n",
    "              if color_col is None\n",
    "              else alt.Color(color_col+\":N\", scale=alt.Scale(scheme='Spectral'))\n",
    "\n",
    "    ).add_selection(brush)\n",
    "\n",
    "    # Base chart for data tables\n",
    "    ranked_text = alt.Chart(source).mark_text().encode(\n",
    "        y=alt.Y('row_number:O',axis=None)\n",
    "    ).transform_window(\n",
    "        row_number='row_number()'\n",
    "    ).transform_filter(\n",
    "        brush\n",
    "    ).transform_window(\n",
    "        rank='rank(row_number)'\n",
    "    ).transform_filter(\n",
    "        alt.datum.rank < max_n_show\n",
    "    )\n",
    "\n",
    "    # Data Tables\n",
    "    text = ranked_text.encode(text=target_col+\":N\").properties(title=target_col)\n",
    "\n",
    "    chart = alt.hconcat(\n",
    "    points,\n",
    "    text,\n",
    "    ).configure_axis(grid=grid)\n",
    "\n",
    "    if filename:\n",
    "        chart.save(filename)\n",
    "\n",
    "    return chart"
   ]
  },
  {
   "cell_type": "code",
   "execution_count": 7,
   "metadata": {},
   "outputs": [
    {
     "data": {
      "application/vnd.vegalite.v3+json": {
       "$schema": "https://vega.github.io/schema/vega-lite/v3.4.0.json",
       "config": {
        "axis": {
         "grid": true
        },
        "mark": {
         "tooltip": null
        },
        "view": {
         "height": 300,
         "width": 400
        }
       },
       "data": {
        "name": "data-894415832b55ba9dda8cd1ab5d4b1eb5"
       },
       "datasets": {
        "data-894415832b55ba9dda8cd1ab5d4b1eb5": [
         {
          "KM-label": 8,
          "digit": 0,
          "tSNE-1": -42.14216613769531,
          "tSNE-2": -7.9949517250061035
         },
         {
          "KM-label": 5,
          "digit": 1,
          "tSNE-1": 2.434354066848755,
          "tSNE-2": 10.063398361206055
         },
         {
          "KM-label": 5,
          "digit": 2,
          "tSNE-1": 21.126920700073242,
          "tSNE-2": -4.70371150970459
         },
         {
          "KM-label": 6,
          "digit": 3,
          "tSNE-1": 14.739131927490234,
          "tSNE-2": -31.31871223449707
         },
         {
          "KM-label": 0,
          "digit": 4,
          "tSNE-1": -7.946986198425293,
          "tSNE-2": 32.267845153808594
         },
         {
          "KM-label": 4,
          "digit": 5,
          "tSNE-1": 3.093745231628418,
          "tSNE-2": -34.54151153564453
         },
         {
          "KM-label": 7,
          "digit": 6,
          "tSNE-1": -26.589075088500977,
          "tSNE-2": 21.5615291595459
         },
         {
          "KM-label": 3,
          "digit": 7,
          "tSNE-1": 27.006309509277344,
          "tSNE-2": 23.72671127319336
         },
         {
          "KM-label": 5,
          "digit": 8,
          "tSNE-1": 10.517300605773926,
          "tSNE-2": -11.920736312866211
         },
         {
          "KM-label": 4,
          "digit": 9,
          "tSNE-1": -1.234421730041504,
          "tSNE-2": -30.781997680664062
         },
         {
          "KM-label": 8,
          "digit": 0,
          "tSNE-1": -43.215362548828125,
          "tSNE-2": -10.681615829467773
         },
         {
          "KM-label": 1,
          "digit": 1,
          "tSNE-1": -4.812420845031738,
          "tSNE-2": 12.694519996643066
         },
         {
          "KM-label": 2,
          "digit": 2,
          "tSNE-1": 38.7681999206543,
          "tSNE-2": -5.351415634155273
         },
         {
          "KM-label": 6,
          "digit": 3,
          "tSNE-1": 22.86876678466797,
          "tSNE-2": -27.73073387145996
         },
         {
          "KM-label": 0,
          "digit": 4,
          "tSNE-1": -3.9236459732055664,
          "tSNE-2": 35.465084075927734
         },
         {
          "KM-label": 9,
          "digit": 5,
          "tSNE-1": -16.944561004638672,
          "tSNE-2": -12.807235717773438
         },
         {
          "KM-label": 7,
          "digit": 6,
          "tSNE-1": -31.890647888183594,
          "tSNE-2": 20.36454963684082
         },
         {
          "KM-label": 3,
          "digit": 7,
          "tSNE-1": 21.8349666595459,
          "tSNE-2": 29.4992733001709
         },
         {
          "KM-label": 5,
          "digit": 8,
          "tSNE-1": 7.592484951019287,
          "tSNE-2": -2.963735342025757
         },
         {
          "KM-label": 4,
          "digit": 9,
          "tSNE-1": 4.989133358001709,
          "tSNE-2": -36.39818572998047
         },
         {
          "KM-label": 8,
          "digit": 0,
          "tSNE-1": -37.127174377441406,
          "tSNE-2": -0.6394037008285522
         },
         {
          "KM-label": 1,
          "digit": 1,
          "tSNE-1": -5.595078468322754,
          "tSNE-2": 10.259751319885254
         },
         {
          "KM-label": 2,
          "digit": 2,
          "tSNE-1": 36.298030853271484,
          "tSNE-2": -3.027437686920166
         },
         {
          "KM-label": 6,
          "digit": 3,
          "tSNE-1": 26.683086395263672,
          "tSNE-2": -23.607845306396484
         },
         {
          "KM-label": 0,
          "digit": 4,
          "tSNE-1": -6.47866678237915,
          "tSNE-2": 31.222885131835938
         },
         {
          "KM-label": 9,
          "digit": 5,
          "tSNE-1": -19.023221969604492,
          "tSNE-2": -9.852373123168945
         },
         {
          "KM-label": 7,
          "digit": 6,
          "tSNE-1": -26.104534149169922,
          "tSNE-2": 22.027774810791016
         },
         {
          "KM-label": 1,
          "digit": 7,
          "tSNE-1": 20.487506866455078,
          "tSNE-2": 34.75809860229492
         },
         {
          "KM-label": 5,
          "digit": 8,
          "tSNE-1": 10.26864242553711,
          "tSNE-2": -6.077107906341553
         },
         {
          "KM-label": 4,
          "digit": 9,
          "tSNE-1": 4.610639572143555,
          "tSNE-2": -35.891056060791016
         },
         {
          "KM-label": 8,
          "digit": 0,
          "tSNE-1": -35.834259033203125,
          "tSNE-2": -7.6956658363342285
         },
         {
          "KM-label": 4,
          "digit": 9,
          "tSNE-1": 4.956704616546631,
          "tSNE-2": -36.80121994018555
         },
         {
          "KM-label": 9,
          "digit": 5,
          "tSNE-1": -18.476699829101562,
          "tSNE-2": -18.944541931152344
         },
         {
          "KM-label": 9,
          "digit": 5,
          "tSNE-1": -12.232388496398926,
          "tSNE-2": -13.570002555847168
         },
         {
          "KM-label": 7,
          "digit": 6,
          "tSNE-1": -31.044795989990234,
          "tSNE-2": 19.140382766723633
         },
         {
          "KM-label": 9,
          "digit": 5,
          "tSNE-1": -12.17513370513916,
          "tSNE-2": -13.59347915649414
         },
         {
          "KM-label": 8,
          "digit": 0,
          "tSNE-1": -35.10132598876953,
          "tSNE-2": -2.391281843185425
         },
         {
          "KM-label": 4,
          "digit": 9,
          "tSNE-1": 5.611202716827393,
          "tSNE-2": -32.9519157409668
         },
         {
          "KM-label": 5,
          "digit": 8,
          "tSNE-1": 4.890951156616211,
          "tSNE-2": -1.5755958557128906
         },
         {
          "KM-label": 4,
          "digit": 9,
          "tSNE-1": -4.010217189788818,
          "tSNE-2": -40.757293701171875
         },
         {
          "KM-label": 5,
          "digit": 8,
          "tSNE-1": 9.941301345825195,
          "tSNE-2": -5.3519062995910645
         },
         {
          "KM-label": 0,
          "digit": 4,
          "tSNE-1": -3.6374173164367676,
          "tSNE-2": 36.62683868408203
         },
         {
          "KM-label": 1,
          "digit": 1,
          "tSNE-1": -3.872073173522949,
          "tSNE-2": 11.498831748962402
         },
         {
          "KM-label": 3,
          "digit": 7,
          "tSNE-1": 21.103992462158203,
          "tSNE-2": 34.10655212402344
         },
         {
          "KM-label": 3,
          "digit": 7,
          "tSNE-1": 27.50459861755371,
          "tSNE-2": 24.374290466308594
         },
         {
          "KM-label": 6,
          "digit": 3,
          "tSNE-1": 25.2625732421875,
          "tSNE-2": -28.4529972076416
         },
         {
          "KM-label": 9,
          "digit": 5,
          "tSNE-1": -11.922139167785645,
          "tSNE-2": -12.682455062866211
         },
         {
          "KM-label": 1,
          "digit": 1,
          "tSNE-1": -3.6746253967285156,
          "tSNE-2": 10.036930084228516
         },
         {
          "KM-label": 8,
          "digit": 0,
          "tSNE-1": -45.392723083496094,
          "tSNE-2": -8.898772239685059
         },
         {
          "KM-label": 8,
          "digit": 0,
          "tSNE-1": -42.199012756347656,
          "tSNE-2": -2.4442696571350098
         },
         {
          "KM-label": 5,
          "digit": 2,
          "tSNE-1": 22.390222549438477,
          "tSNE-2": -4.56667423248291
         },
         {
          "KM-label": 5,
          "digit": 2,
          "tSNE-1": 21.29180335998535,
          "tSNE-2": -3.9397618770599365
         },
         {
          "KM-label": 3,
          "digit": 7,
          "tSNE-1": 20.8448429107666,
          "tSNE-2": 33.03298568725586
         },
         {
          "KM-label": 5,
          "digit": 8,
          "tSNE-1": 11.842031478881836,
          "tSNE-2": -4.873495578765869
         },
         {
          "KM-label": 3,
          "digit": 2,
          "tSNE-1": 21.156885147094727,
          "tSNE-2": -3.810539722442627
         },
         {
          "KM-label": 8,
          "digit": 0,
          "tSNE-1": -36.791988372802734,
          "tSNE-2": 0.18747273087501526
         },
         {
          "KM-label": 1,
          "digit": 1,
          "tSNE-1": -4.401814937591553,
          "tSNE-2": 10.24001693725586
         },
         {
          "KM-label": 5,
          "digit": 2,
          "tSNE-1": 21.13676643371582,
          "tSNE-2": -4.5542097091674805
         },
         {
          "KM-label": 7,
          "digit": 6,
          "tSNE-1": -26.81562614440918,
          "tSNE-2": 22.439165115356445
         },
         {
          "KM-label": 6,
          "digit": 3,
          "tSNE-1": 23.10150909423828,
          "tSNE-2": -25.307687759399414
         },
         {
          "KM-label": 6,
          "digit": 3,
          "tSNE-1": 25.24699592590332,
          "tSNE-2": -28.012630462646484
         },
         {
          "KM-label": 3,
          "digit": 7,
          "tSNE-1": 21.67988395690918,
          "tSNE-2": 30.092222213745117
         },
         {
          "KM-label": 6,
          "digit": 3,
          "tSNE-1": 25.770732879638672,
          "tSNE-2": -27.546066284179688
         },
         {
          "KM-label": 6,
          "digit": 3,
          "tSNE-1": 24.83109474182129,
          "tSNE-2": -25.559036254882812
         },
         {
          "KM-label": 0,
          "digit": 4,
          "tSNE-1": -6.521063804626465,
          "tSNE-2": 35.19566345214844
         },
         {
          "KM-label": 7,
          "digit": 6,
          "tSNE-1": -31.866397857666016,
          "tSNE-2": 22.222511291503906
         },
         {
          "KM-label": 7,
          "digit": 6,
          "tSNE-1": -27.0507755279541,
          "tSNE-2": 22.16264533996582
         },
         {
          "KM-label": 7,
          "digit": 6,
          "tSNE-1": -27.761581420898438,
          "tSNE-2": 27.428436279296875
         },
         {
          "KM-label": 0,
          "digit": 4,
          "tSNE-1": 0.5650663375854492,
          "tSNE-2": 38.20686721801758
         },
         {
          "KM-label": 3,
          "digit": 9,
          "tSNE-1": 18.824504852294922,
          "tSNE-2": 15.68510913848877
         },
         {
          "KM-label": 1,
          "digit": 1,
          "tSNE-1": -3.2030980587005615,
          "tSNE-2": 9.303778648376465
         },
         {
          "KM-label": 9,
          "digit": 5,
          "tSNE-1": -19.549036026000977,
          "tSNE-2": -18.655832290649414
         },
         {
          "KM-label": 8,
          "digit": 0,
          "tSNE-1": -37.94586181640625,
          "tSNE-2": 1.3103806972503662
         },
         {
          "KM-label": 4,
          "digit": 9,
          "tSNE-1": 3.701617956161499,
          "tSNE-2": -35.30253219604492
         },
         {
          "KM-label": 9,
          "digit": 5,
          "tSNE-1": -14.082565307617188,
          "tSNE-2": -18.29769515991211
         },
         {
          "KM-label": 1,
          "digit": 2,
          "tSNE-1": 21.02724838256836,
          "tSNE-2": -3.688591957092285
         },
         {
          "KM-label": 5,
          "digit": 8,
          "tSNE-1": 4.967432022094727,
          "tSNE-2": -4.865222930908203
         },
         {
          "KM-label": 1,
          "digit": 2,
          "tSNE-1": 20.826404571533203,
          "tSNE-2": -3.369119882583618
         },
         {
          "KM-label": 8,
          "digit": 0,
          "tSNE-1": -45.74378967285156,
          "tSNE-2": -1.8996933698654175
         },
         {
          "KM-label": 8,
          "digit": 0,
          "tSNE-1": -43.77351379394531,
          "tSNE-2": -1.3245854377746582
         },
         {
          "KM-label": 1,
          "digit": 1,
          "tSNE-1": -4.546810626983643,
          "tSNE-2": 9.981139183044434
         },
         {
          "KM-label": 3,
          "digit": 7,
          "tSNE-1": 25.962215423583984,
          "tSNE-2": 27.443632125854492
         },
         {
          "KM-label": 7,
          "digit": 6,
          "tSNE-1": -26.761093139648438,
          "tSNE-2": 21.77223014831543
         },
         {
          "KM-label": 6,
          "digit": 3,
          "tSNE-1": 26.531673431396484,
          "tSNE-2": -25.713176727294922
         },
         {
          "KM-label": 2,
          "digit": 2,
          "tSNE-1": 38.97086715698242,
          "tSNE-2": 2.8183844089508057
         },
         {
          "KM-label": 1,
          "digit": 1,
          "tSNE-1": -2.566523790359497,
          "tSNE-2": 11.111759185791016
         },
         {
          "KM-label": 3,
          "digit": 7,
          "tSNE-1": 19.327425003051758,
          "tSNE-2": 35.57437515258789
         },
         {
          "KM-label": 0,
          "digit": 4,
          "tSNE-1": 2.5590522289276123,
          "tSNE-2": 38.47834396362305
         },
         {
          "KM-label": 7,
          "digit": 6,
          "tSNE-1": -28.760047912597656,
          "tSNE-2": 20.149141311645508
         },
         {
          "KM-label": 6,
          "digit": 3,
          "tSNE-1": 25.98443603515625,
          "tSNE-2": -27.11683464050293
         },
         {
          "KM-label": 1,
          "digit": 1,
          "tSNE-1": -3.7656428813934326,
          "tSNE-2": 11.631070137023926
         },
         {
          "KM-label": 6,
          "digit": 3,
          "tSNE-1": 24.925844192504883,
          "tSNE-2": -24.706003189086914
         },
         {
          "KM-label": 6,
          "digit": 9,
          "tSNE-1": -5.751550674438477,
          "tSNE-2": -40.1052131652832
         },
         {
          "KM-label": 5,
          "digit": 1,
          "tSNE-1": 2.2447991371154785,
          "tSNE-2": 10.052924156188965
         },
         {
          "KM-label": 3,
          "digit": 7,
          "tSNE-1": 21.863571166992188,
          "tSNE-2": 27.167011260986328
         },
         {
          "KM-label": 5,
          "digit": 6,
          "tSNE-1": -24.78144073486328,
          "tSNE-2": 21.12325668334961
         },
         {
          "KM-label": 5,
          "digit": 8,
          "tSNE-1": 5.684991359710693,
          "tSNE-2": -2.463444948196411
         },
         {
          "KM-label": 0,
          "digit": 4,
          "tSNE-1": -6.2855939865112305,
          "tSNE-2": 31.976673126220703
         },
         {
          "KM-label": 6,
          "digit": 3,
          "tSNE-1": 25.534574508666992,
          "tSNE-2": -25.405357360839844
         },
         {
          "KM-label": 5,
          "digit": 1,
          "tSNE-1": 5.229317665100098,
          "tSNE-2": 7.13770055770874
         },
         {
          "KM-label": 0,
          "digit": 4,
          "tSNE-1": -6.674854755401611,
          "tSNE-2": 31.997148513793945
         },
         {
          "KM-label": 8,
          "digit": 0,
          "tSNE-1": -39.44884490966797,
          "tSNE-2": 1.2320257425308228
         },
         {
          "KM-label": 9,
          "digit": 5,
          "tSNE-1": -15.331494331359863,
          "tSNE-2": -17.45948028564453
         },
         {
          "KM-label": 3,
          "digit": 3,
          "tSNE-1": 21.275630950927734,
          "tSNE-2": -17.205018997192383
         },
         {
          "KM-label": 7,
          "digit": 6,
          "tSNE-1": -24.32211685180664,
          "tSNE-2": 20.312992095947266
         },
         {
          "KM-label": 4,
          "digit": 9,
          "tSNE-1": 3.9800989627838135,
          "tSNE-2": -37.54867172241211
         },
         {
          "KM-label": 7,
          "digit": 6,
          "tSNE-1": -26.080535888671875,
          "tSNE-2": 20.71824073791504
         },
         {
          "KM-label": 1,
          "digit": 1,
          "tSNE-1": -5.874331474304199,
          "tSNE-2": 13.051393508911133
         },
         {
          "KM-label": 3,
          "digit": 7,
          "tSNE-1": 21.405574798583984,
          "tSNE-2": 30.906822204589844
         },
         {
          "KM-label": 9,
          "digit": 5,
          "tSNE-1": -17.50558090209961,
          "tSNE-2": -11.092178344726562
         },
         {
          "KM-label": 0,
          "digit": 4,
          "tSNE-1": 0.46948564052581787,
          "tSNE-2": 39.40558624267578
         },
         {
          "KM-label": 0,
          "digit": 4,
          "tSNE-1": -0.09974338859319687,
          "tSNE-2": 38.3181037902832
         },
         {
          "KM-label": 3,
          "digit": 7,
          "tSNE-1": 24.897743225097656,
          "tSNE-2": 28.461483001708984
         },
         {
          "KM-label": 2,
          "digit": 2,
          "tSNE-1": 34.1628303527832,
          "tSNE-2": -2.5964832305908203
         },
         {
          "KM-label": 5,
          "digit": 8,
          "tSNE-1": 6.431489944458008,
          "tSNE-2": -6.434511184692383
         },
         {
          "KM-label": 5,
          "digit": 2,
          "tSNE-1": 22.00543212890625,
          "tSNE-2": -4.326723098754883
         },
         {
          "KM-label": 5,
          "digit": 2,
          "tSNE-1": 22.641006469726562,
          "tSNE-2": -4.56585693359375
         },
         {
          "KM-label": 9,
          "digit": 5,
          "tSNE-1": -15.495014190673828,
          "tSNE-2": -10.022919654846191
         },
         {
          "KM-label": 3,
          "digit": 7,
          "tSNE-1": 23.427919387817383,
          "tSNE-2": 30.0048885345459
         },
         {
          "KM-label": 4,
          "digit": 9,
          "tSNE-1": 3.723355770111084,
          "tSNE-2": -38.797481536865234
         },
         {
          "KM-label": 9,
          "digit": 5,
          "tSNE-1": -11.775248527526855,
          "tSNE-2": -13.907025337219238
         },
         {
          "KM-label": 0,
          "digit": 4,
          "tSNE-1": 2.4485678672790527,
          "tSNE-2": 38.405235290527344
         },
         {
          "KM-label": 5,
          "digit": 8,
          "tSNE-1": 10.50679874420166,
          "tSNE-2": -3.4811596870422363
         },
         {
          "KM-label": 5,
          "digit": 8,
          "tSNE-1": 12.6256742477417,
          "tSNE-2": -6.7686028480529785
         },
         {
          "KM-label": 0,
          "digit": 4,
          "tSNE-1": -3.547434091567993,
          "tSNE-2": 36.950279235839844
         },
         {
          "KM-label": 4,
          "digit": 9,
          "tSNE-1": 0.9715062379837036,
          "tSNE-2": -32.04307174682617
         },
         {
          "KM-label": 8,
          "digit": 0,
          "tSNE-1": -37.79753112792969,
          "tSNE-2": 0.866659939289093
         },
         {
          "KM-label": 5,
          "digit": 8,
          "tSNE-1": 4.744887351989746,
          "tSNE-2": -1.203245759010315
         },
         {
          "KM-label": 4,
          "digit": 9,
          "tSNE-1": -7.216240882873535,
          "tSNE-2": -39.25520324707031
         },
         {
          "KM-label": 5,
          "digit": 8,
          "tSNE-1": 4.717893123626709,
          "tSNE-2": 5.715672492980957
         },
         {
          "KM-label": 8,
          "digit": 0,
          "tSNE-1": -42.668277740478516,
          "tSNE-2": -3.8992273807525635
         },
         {
          "KM-label": 1,
          "digit": 1,
          "tSNE-1": -8.902618408203125,
          "tSNE-2": 11.324495315551758
         },
         {
          "KM-label": 2,
          "digit": 2,
          "tSNE-1": 37.26655960083008,
          "tSNE-2": 3.8459742069244385
         },
         {
          "KM-label": 6,
          "digit": 3,
          "tSNE-1": 26.488441467285156,
          "tSNE-2": -24.868356704711914
         },
         {
          "KM-label": 0,
          "digit": 4,
          "tSNE-1": -2.032815456390381,
          "tSNE-2": 26.334646224975586
         },
         {
          "KM-label": 9,
          "digit": 5,
          "tSNE-1": -16.337661743164062,
          "tSNE-2": -8.767009735107422
         },
         {
          "KM-label": 7,
          "digit": 6,
          "tSNE-1": -33.46389389038086,
          "tSNE-2": 28.383317947387695
         },
         {
          "KM-label": 3,
          "digit": 7,
          "tSNE-1": 27.192386627197266,
          "tSNE-2": 30.946836471557617
         },
         {
          "KM-label": 5,
          "digit": 8,
          "tSNE-1": 9.839877128601074,
          "tSNE-2": -7.671775817871094
         },
         {
          "KM-label": 4,
          "digit": 9,
          "tSNE-1": 2.5831539630889893,
          "tSNE-2": -37.01288986206055
         },
         {
          "KM-label": 8,
          "digit": 0,
          "tSNE-1": -34.31855010986328,
          "tSNE-2": -2.221848249435425
         },
         {
          "KM-label": 1,
          "digit": 1,
          "tSNE-1": -6.534369468688965,
          "tSNE-2": 12.770599365234375
         },
         {
          "KM-label": 2,
          "digit": 2,
          "tSNE-1": 34.4868278503418,
          "tSNE-2": 4.315759658813477
         },
         {
          "KM-label": 6,
          "digit": 3,
          "tSNE-1": 26.243364334106445,
          "tSNE-2": -27.671314239501953
         },
         {
          "KM-label": 0,
          "digit": 4,
          "tSNE-1": -2.767035484313965,
          "tSNE-2": 25.76378059387207
         },
         {
          "KM-label": 9,
          "digit": 5,
          "tSNE-1": -14.891020774841309,
          "tSNE-2": -11.62684154510498
         },
         {
          "KM-label": 7,
          "digit": 6,
          "tSNE-1": -32.994686126708984,
          "tSNE-2": 17.319820404052734
         },
         {
          "KM-label": 3,
          "digit": 7,
          "tSNE-1": 27.75830841064453,
          "tSNE-2": 31.106637954711914
         },
         {
          "KM-label": 5,
          "digit": 8,
          "tSNE-1": 7.448760032653809,
          "tSNE-2": -9.053560256958008
         },
         {
          "KM-label": 4,
          "digit": 9,
          "tSNE-1": 2.058868408203125,
          "tSNE-2": -34.87191390991211
         },
         {
          "KM-label": 8,
          "digit": 0,
          "tSNE-1": -40.15386199951172,
          "tSNE-2": 0.30180439352989197
         },
         {
          "KM-label": 1,
          "digit": 1,
          "tSNE-1": -7.638999938964844,
          "tSNE-2": 12.770120620727539
         },
         {
          "KM-label": 2,
          "digit": 2,
          "tSNE-1": 30.806615829467773,
          "tSNE-2": -3.045654535293579
         },
         {
          "KM-label": 6,
          "digit": 3,
          "tSNE-1": 26.572450637817383,
          "tSNE-2": -24.365461349487305
         },
         {
          "KM-label": 0,
          "digit": 4,
          "tSNE-1": -4.008713245391846,
          "tSNE-2": 26.75069236755371
         },
         {
          "KM-label": 9,
          "digit": 5,
          "tSNE-1": -18.057668685913086,
          "tSNE-2": -5.273075580596924
         },
         {
          "KM-label": 7,
          "digit": 6,
          "tSNE-1": -28.593717575073242,
          "tSNE-2": 20.302690505981445
         },
         {
          "KM-label": 3,
          "digit": 7,
          "tSNE-1": 30.17041778564453,
          "tSNE-2": 29.710594177246094
         },
         {
          "KM-label": 5,
          "digit": 8,
          "tSNE-1": 12.281952857971191,
          "tSNE-2": -3.551395893096924
         },
         {
          "KM-label": 4,
          "digit": 9,
          "tSNE-1": 2.351621389389038,
          "tSNE-2": -36.18265151977539
         },
         {
          "KM-label": 8,
          "digit": 0,
          "tSNE-1": -35.42059326171875,
          "tSNE-2": -3.2608742713928223
         },
         {
          "KM-label": 6,
          "digit": 9,
          "tSNE-1": 3.0576231479644775,
          "tSNE-2": -36.25650405883789
         },
         {
          "KM-label": 9,
          "digit": 5,
          "tSNE-1": -15.904308319091797,
          "tSNE-2": -10.481911659240723
         },
         {
          "KM-label": 9,
          "digit": 5,
          "tSNE-1": -17.42595100402832,
          "tSNE-2": -6.131783485412598
         },
         {
          "KM-label": 7,
          "digit": 6,
          "tSNE-1": -28.573450088500977,
          "tSNE-2": 28.36163902282715
         },
         {
          "KM-label": 9,
          "digit": 5,
          "tSNE-1": -16.45840835571289,
          "tSNE-2": -7.415732383728027
         },
         {
          "KM-label": 8,
          "digit": 0,
          "tSNE-1": -37.72470474243164,
          "tSNE-2": -5.496248722076416
         },
         {
          "KM-label": 4,
          "digit": 9,
          "tSNE-1": 1.6810723543167114,
          "tSNE-2": -38.71510314941406
         },
         {
          "KM-label": 5,
          "digit": 8,
          "tSNE-1": 9.846744537353516,
          "tSNE-2": -7.447573661804199
         },
         {
          "KM-label": 4,
          "digit": 9,
          "tSNE-1": 2.952503204345703,
          "tSNE-2": -37.343109130859375
         },
         {
          "KM-label": 5,
          "digit": 8,
          "tSNE-1": 12.749608993530273,
          "tSNE-2": -0.8059040904045105
         },
         {
          "KM-label": 0,
          "digit": 4,
          "tSNE-1": -3.773252248764038,
          "tSNE-2": 24.939817428588867
         },
         {
          "KM-label": 1,
          "digit": 1,
          "tSNE-1": -7.001522541046143,
          "tSNE-2": 11.261717796325684
         },
         {
          "KM-label": 3,
          "digit": 7,
          "tSNE-1": 20.612546920776367,
          "tSNE-2": 32.92776107788086
         },
         {
          "KM-label": 3,
          "digit": 7,
          "tSNE-1": 18.642940521240234,
          "tSNE-2": 29.6110782623291
         },
         {
          "KM-label": 6,
          "digit": 3,
          "tSNE-1": 23.759496688842773,
          "tSNE-2": -24.98747444152832
         },
         {
          "KM-label": 9,
          "digit": 5,
          "tSNE-1": -16.562685012817383,
          "tSNE-2": -10.252216339111328
         },
         {
          "KM-label": 1,
          "digit": 1,
          "tSNE-1": -7.811073303222656,
          "tSNE-2": 12.272104263305664
         },
         {
          "KM-label": 8,
          "digit": 0,
          "tSNE-1": -44.54433059692383,
          "tSNE-2": -1.0014939308166504
         },
         {
          "KM-label": 8,
          "digit": 0,
          "tSNE-1": -36.722110748291016,
          "tSNE-2": 0.5372602939605713
         },
         {
          "KM-label": 2,
          "digit": 2,
          "tSNE-1": 32.293121337890625,
          "tSNE-2": 4.1384806632995605
         },
         {
          "KM-label": 2,
          "digit": 2,
          "tSNE-1": 34.141605377197266,
          "tSNE-2": 3.851715087890625
         },
         {
          "KM-label": 3,
          "digit": 7,
          "tSNE-1": 27.254756927490234,
          "tSNE-2": 29.745079040527344
         },
         {
          "KM-label": 5,
          "digit": 8,
          "tSNE-1": 11.792712211608887,
          "tSNE-2": -7.655660152435303
         },
         {
          "KM-label": 2,
          "digit": 2,
          "tSNE-1": 40.16742706298828,
          "tSNE-2": 4.545340061187744
         },
         {
          "KM-label": 8,
          "digit": 0,
          "tSNE-1": -37.699623107910156,
          "tSNE-2": 0.9047713279724121
         },
         {
          "KM-label": 1,
          "digit": 1,
          "tSNE-1": -6.535579681396484,
          "tSNE-2": 10.517227172851562
         },
         {
          "KM-label": 2,
          "digit": 2,
          "tSNE-1": 41.15345764160156,
          "tSNE-2": 1.803672432899475
         },
         {
          "KM-label": 7,
          "digit": 6,
          "tSNE-1": -27.332006454467773,
          "tSNE-2": 25.709810256958008
         },
         {
          "KM-label": 6,
          "digit": 3,
          "tSNE-1": 26.5047664642334,
          "tSNE-2": -27.86293601989746
         },
         {
          "KM-label": 6,
          "digit": 3,
          "tSNE-1": 26.721057891845703,
          "tSNE-2": -26.673673629760742
         },
         {
          "KM-label": 3,
          "digit": 7,
          "tSNE-1": 31.981292724609375,
          "tSNE-2": 30.417509078979492
         },
         {
          "KM-label": 6,
          "digit": 3,
          "tSNE-1": 27.663185119628906,
          "tSNE-2": -24.279739379882812
         },
         {
          "KM-label": 6,
          "digit": 3,
          "tSNE-1": 25.544090270996094,
          "tSNE-2": -26.68152618408203
         },
         {
          "KM-label": 0,
          "digit": 4,
          "tSNE-1": -5.720810413360596,
          "tSNE-2": 26.63998794555664
         },
         {
          "KM-label": 7,
          "digit": 6,
          "tSNE-1": -28.833049774169922,
          "tSNE-2": 19.068510055541992
         },
         {
          "KM-label": 7,
          "digit": 6,
          "tSNE-1": -27.48863410949707,
          "tSNE-2": 25.654949188232422
         },
         {
          "KM-label": 7,
          "digit": 6,
          "tSNE-1": -29.179000854492188,
          "tSNE-2": 28.095352172851562
         },
         {
          "KM-label": 5,
          "digit": 4,
          "tSNE-1": -5.6818952560424805,
          "tSNE-2": 24.738842010498047
         },
         {
          "KM-label": 4,
          "digit": 9,
          "tSNE-1": 1.106934905052185,
          "tSNE-2": -34.645896911621094
         },
         {
          "KM-label": 1,
          "digit": 1,
          "tSNE-1": -4.698171138763428,
          "tSNE-2": 13.47755241394043
         },
         {
          "KM-label": 9,
          "digit": 5,
          "tSNE-1": -16.759674072265625,
          "tSNE-2": -9.528915405273438
         },
         {
          "KM-label": 8,
          "digit": 0,
          "tSNE-1": -41.23767852783203,
          "tSNE-2": -0.5538176894187927
         },
         {
          "KM-label": 4,
          "digit": 9,
          "tSNE-1": -1.208421230316162,
          "tSNE-2": -33.387123107910156
         },
         {
          "KM-label": 9,
          "digit": 5,
          "tSNE-1": -17.602798461914062,
          "tSNE-2": -5.2899603843688965
         },
         {
          "KM-label": 3,
          "digit": 2,
          "tSNE-1": 30.465787887573242,
          "tSNE-2": -2.8363983631134033
         },
         {
          "KM-label": 5,
          "digit": 8,
          "tSNE-1": 12.686973571777344,
          "tSNE-2": -0.9177572131156921
         },
         {
          "KM-label": 2,
          "digit": 2,
          "tSNE-1": 33.16401672363281,
          "tSNE-2": 3.923309803009033
         },
         {
          "KM-label": 8,
          "digit": 0,
          "tSNE-1": -35.86201477050781,
          "tSNE-2": -0.4905363917350769
         },
         {
          "KM-label": 8,
          "digit": 0,
          "tSNE-1": -39.17219543457031,
          "tSNE-2": 1.131144404411316
         },
         {
          "KM-label": 1,
          "digit": 1,
          "tSNE-1": -6.950840473175049,
          "tSNE-2": 11.499542236328125
         },
         {
          "KM-label": 3,
          "digit": 7,
          "tSNE-1": 31.32966423034668,
          "tSNE-2": 23.50172233581543
         },
         {
          "KM-label": 7,
          "digit": 6,
          "tSNE-1": -27.51534652709961,
          "tSNE-2": 27.238004684448242
         },
         {
          "KM-label": 6,
          "digit": 3,
          "tSNE-1": 26.498022079467773,
          "tSNE-2": -25.752864837646484
         },
         {
          "KM-label": 2,
          "digit": 2,
          "tSNE-1": 34.73482131958008,
          "tSNE-2": 4.094558238983154
         },
         {
          "KM-label": 1,
          "digit": 1,
          "tSNE-1": -4.439180850982666,
          "tSNE-2": 14.236105918884277
         },
         {
          "KM-label": 3,
          "digit": 7,
          "tSNE-1": 31.417572021484375,
          "tSNE-2": 30.37583351135254
         },
         {
          "KM-label": 6,
          "digit": 3,
          "tSNE-1": 26.788497924804688,
          "tSNE-2": -25.930570602416992
         },
         {
          "KM-label": 1,
          "digit": 1,
          "tSNE-1": -7.594324588775635,
          "tSNE-2": 12.843924522399902
         },
         {
          "KM-label": 6,
          "digit": 3,
          "tSNE-1": 25.54546356201172,
          "tSNE-2": -26.121559143066406
         },
         {
          "KM-label": 4,
          "digit": 9,
          "tSNE-1": -2.0938000679016113,
          "tSNE-2": -33.22486877441406
         },
         {
          "KM-label": 1,
          "digit": 1,
          "tSNE-1": -5.618239879608154,
          "tSNE-2": 11.34581470489502
         },
         {
          "KM-label": 3,
          "digit": 7,
          "tSNE-1": 22.851293563842773,
          "tSNE-2": 31.326515197753906
         },
         {
          "KM-label": 7,
          "digit": 6,
          "tSNE-1": -30.72829246520996,
          "tSNE-2": 20.274066925048828
         },
         {
          "KM-label": 5,
          "digit": 8,
          "tSNE-1": 14.49299430847168,
          "tSNE-2": -6.787562370300293
         },
         {
          "KM-label": 0,
          "digit": 4,
          "tSNE-1": -3.3829593658447266,
          "tSNE-2": 25.52251625061035
         },
         {
          "KM-label": 6,
          "digit": 3,
          "tSNE-1": 27.330829620361328,
          "tSNE-2": -24.544504165649414
         },
         {
          "KM-label": 1,
          "digit": 1,
          "tSNE-1": -4.808889865875244,
          "tSNE-2": 12.731253623962402
         },
         {
          "KM-label": 0,
          "digit": 4,
          "tSNE-1": -3.5885555744171143,
          "tSNE-2": 25.806201934814453
         },
         {
          "KM-label": 8,
          "digit": 0,
          "tSNE-1": -43.35945129394531,
          "tSNE-2": -0.858096182346344
         },
         {
          "KM-label": 9,
          "digit": 5,
          "tSNE-1": -15.934977531433105,
          "tSNE-2": -7.76121711730957
         },
         {
          "KM-label": 3,
          "digit": 3,
          "tSNE-1": 26.905235290527344,
          "tSNE-2": -23.177709579467773
         },
         {
          "KM-label": 7,
          "digit": 6,
          "tSNE-1": -30.941802978515625,
          "tSNE-2": 15.959821701049805
         },
         {
          "KM-label": 4,
          "digit": 9,
          "tSNE-1": 2.6039085388183594,
          "tSNE-2": -35.46923828125
         },
         {
          "KM-label": 7,
          "digit": 6,
          "tSNE-1": -34.302608489990234,
          "tSNE-2": 29.728355407714844
         },
         {
          "KM-label": 1,
          "digit": 1,
          "tSNE-1": -5.865481853485107,
          "tSNE-2": 11.698845863342285
         },
         {
          "KM-label": 3,
          "digit": 7,
          "tSNE-1": 29.5290470123291,
          "tSNE-2": 28.908872604370117
         },
         {
          "KM-label": 9,
          "digit": 5,
          "tSNE-1": -16.63694953918457,
          "tSNE-2": -8.159457206726074
         },
         {
          "KM-label": 5,
          "digit": 4,
          "tSNE-1": -5.715207576751709,
          "tSNE-2": 24.846052169799805
         },
         {
          "KM-label": 0,
          "digit": 4,
          "tSNE-1": -4.295586585998535,
          "tSNE-2": 25.953649520874023
         },
         {
          "KM-label": 3,
          "digit": 7,
          "tSNE-1": 30.98369598388672,
          "tSNE-2": 30.511396408081055
         },
         {
          "KM-label": 2,
          "digit": 2,
          "tSNE-1": 40.37309265136719,
          "tSNE-2": 4.836839199066162
         },
         {
          "KM-label": 5,
          "digit": 8,
          "tSNE-1": 11.600159645080566,
          "tSNE-2": -3.514496326446533
         },
         {
          "KM-label": 2,
          "digit": 2,
          "tSNE-1": 40.08509063720703,
          "tSNE-2": 5.0728960037231445
         },
         {
          "KM-label": 2,
          "digit": 2,
          "tSNE-1": 32.12321472167969,
          "tSNE-2": 4.4304518699646
         },
         {
          "KM-label": 9,
          "digit": 5,
          "tSNE-1": -16.294048309326172,
          "tSNE-2": -7.50003719329834
         },
         {
          "KM-label": 9,
          "digit": 5,
          "tSNE-1": -15.826831817626953,
          "tSNE-2": -8.664840698242188
         },
         {
          "KM-label": 1,
          "digit": 4,
          "tSNE-1": -4.742361068725586,
          "tSNE-2": 25.92713165283203
         },
         {
          "KM-label": 5,
          "digit": 8,
          "tSNE-1": 11.840848922729492,
          "tSNE-2": -6.4769744873046875
         },
         {
          "KM-label": 5,
          "digit": 8,
          "tSNE-1": 12.44693660736084,
          "tSNE-2": -6.99676513671875
         },
         {
          "KM-label": 0,
          "digit": 4,
          "tSNE-1": -2.8759777545928955,
          "tSNE-2": 25.837722778320312
         },
         {
          "KM-label": 4,
          "digit": 9,
          "tSNE-1": -1.9463878870010376,
          "tSNE-2": -30.418380737304688
         },
         {
          "KM-label": 8,
          "digit": 0,
          "tSNE-1": -39.985107421875,
          "tSNE-2": -0.5327918529510498
         },
         {
          "KM-label": 5,
          "digit": 8,
          "tSNE-1": 14.369670867919922,
          "tSNE-2": -6.722558498382568
         },
         {
          "KM-label": 4,
          "digit": 9,
          "tSNE-1": -1.4239270687103271,
          "tSNE-2": -32.114845275878906
         },
         {
          "KM-label": 5,
          "digit": 8,
          "tSNE-1": 6.611364364624023,
          "tSNE-2": -6.762911796569824
         },
         {
          "KM-label": 8,
          "digit": 0,
          "tSNE-1": -42.860595703125,
          "tSNE-2": -11.25368595123291
         },
         {
          "KM-label": 5,
          "digit": 1,
          "tSNE-1": 8.249373435974121,
          "tSNE-2": 6.330862522125244
         },
         {
          "KM-label": 2,
          "digit": 2,
          "tSNE-1": 36.06142807006836,
          "tSNE-2": 0.49424803256988525
         },
         {
          "KM-label": 6,
          "digit": 3,
          "tSNE-1": 14.43248462677002,
          "tSNE-2": -30.993799209594727
         },
         {
          "KM-label": 0,
          "digit": 4,
          "tSNE-1": -0.37841933965682983,
          "tSNE-2": 38.243011474609375
         },
         {
          "KM-label": 4,
          "digit": 5,
          "tSNE-1": -16.748615264892578,
          "tSNE-2": -26.410202026367188
         },
         {
          "KM-label": 7,
          "digit": 6,
          "tSNE-1": -32.609500885009766,
          "tSNE-2": 28.437631607055664
         },
         {
          "KM-label": 3,
          "digit": 7,
          "tSNE-1": 22.560134887695312,
          "tSNE-2": 33.0536003112793
         },
         {
          "KM-label": 4,
          "digit": 8,
          "tSNE-1": 6.643360137939453,
          "tSNE-2": -15.538044929504395
         },
         {
          "KM-label": 9,
          "digit": 9,
          "tSNE-1": 10.793262481689453,
          "tSNE-2": 22.697208404541016
         },
         {
          "KM-label": 8,
          "digit": 0,
          "tSNE-1": -42.488285064697266,
          "tSNE-2": 1.3361972570419312
         },
         {
          "KM-label": 5,
          "digit": 1,
          "tSNE-1": -0.14979475736618042,
          "tSNE-2": 13.108582496643066
         },
         {
          "KM-label": 2,
          "digit": 2,
          "tSNE-1": 36.356300354003906,
          "tSNE-2": 0.5795173645019531
         },
         {
          "KM-label": 6,
          "digit": 3,
          "tSNE-1": 19.964155197143555,
          "tSNE-2": -30.07440948486328
         },
         {
          "KM-label": 0,
          "digit": 4,
          "tSNE-1": -2.0566115379333496,
          "tSNE-2": 38.22648239135742
         },
         {
          "KM-label": 9,
          "digit": 5,
          "tSNE-1": -14.51812744140625,
          "tSNE-2": -10.883674621582031
         },
         {
          "KM-label": 7,
          "digit": 6,
          "tSNE-1": -32.392822265625,
          "tSNE-2": 26.916284561157227
         },
         {
          "KM-label": 3,
          "digit": 7,
          "tSNE-1": 27.397798538208008,
          "tSNE-2": 27.764984130859375
         },
         {
          "KM-label": 5,
          "digit": 8,
          "tSNE-1": 3.41668438911438,
          "tSNE-2": -6.617832660675049
         },
         {
          "KM-label": 3,
          "digit": 9,
          "tSNE-1": 11.563581466674805,
          "tSNE-2": 21.637046813964844
         },
         {
          "KM-label": 8,
          "digit": 0,
          "tSNE-1": -43.01558303833008,
          "tSNE-2": -9.750243186950684
         },
         {
          "KM-label": 5,
          "digit": 1,
          "tSNE-1": 8.577085494995117,
          "tSNE-2": 3.0298609733581543
         },
         {
          "KM-label": 2,
          "digit": 2,
          "tSNE-1": 35.370361328125,
          "tSNE-2": 1.8086150884628296
         },
         {
          "KM-label": 6,
          "digit": 3,
          "tSNE-1": 17.923738479614258,
          "tSNE-2": -34.710453033447266
         },
         {
          "KM-label": 0,
          "digit": 4,
          "tSNE-1": -1.2437800168991089,
          "tSNE-2": 40.36387634277344
         },
         {
          "KM-label": 9,
          "digit": 5,
          "tSNE-1": -17.645734786987305,
          "tSNE-2": -22.619529724121094
         },
         {
          "KM-label": 7,
          "digit": 6,
          "tSNE-1": -28.341571807861328,
          "tSNE-2": 28.4277400970459
         },
         {
          "KM-label": 3,
          "digit": 7,
          "tSNE-1": 16.96907615661621,
          "tSNE-2": 31.12509536743164
         },
         {
          "KM-label": 5,
          "digit": 8,
          "tSNE-1": 3.6343674659729004,
          "tSNE-2": -6.919451713562012
         },
         {
          "KM-label": 4,
          "digit": 9,
          "tSNE-1": -3.180098533630371,
          "tSNE-2": -39.29692459106445
         },
         {
          "KM-label": 8,
          "digit": 0,
          "tSNE-1": -43.666072845458984,
          "tSNE-2": -11.395502090454102
         },
         {
          "KM-label": 4,
          "digit": 9,
          "tSNE-1": 2.5319998264312744,
          "tSNE-2": -39.314697265625
         },
         {
          "KM-label": 9,
          "digit": 5,
          "tSNE-1": -18.38814353942871,
          "tSNE-2": -22.00056266784668
         },
         {
          "KM-label": 4,
          "digit": 5,
          "tSNE-1": -13.013005256652832,
          "tSNE-2": -25.29764747619629
         },
         {
          "KM-label": 7,
          "digit": 6,
          "tSNE-1": -32.98330307006836,
          "tSNE-2": 24.128646850585938
         },
         {
          "KM-label": 4,
          "digit": 5,
          "tSNE-1": -12.729642868041992,
          "tSNE-2": -28.389116287231445
         },
         {
          "KM-label": 8,
          "digit": 0,
          "tSNE-1": -44.7371826171875,
          "tSNE-2": -11.852655410766602
         },
         {
          "KM-label": 4,
          "digit": 9,
          "tSNE-1": -4.443902015686035,
          "tSNE-2": -32.65290069580078
         },
         {
          "KM-label": 5,
          "digit": 8,
          "tSNE-1": 8.894204139709473,
          "tSNE-2": -11.62229061126709
         },
         {
          "KM-label": 4,
          "digit": 9,
          "tSNE-1": 0.6322936415672302,
          "tSNE-2": -40.86836624145508
         },
         {
          "KM-label": 5,
          "digit": 8,
          "tSNE-1": 8.425524711608887,
          "tSNE-2": -11.93143367767334
         },
         {
          "KM-label": 0,
          "digit": 4,
          "tSNE-1": -5.870096683502197,
          "tSNE-2": 38.147979736328125
         },
         {
          "KM-label": 5,
          "digit": 1,
          "tSNE-1": 6.10426664352417,
          "tSNE-2": 4.593216419219971
         },
         {
          "KM-label": 3,
          "digit": 7,
          "tSNE-1": 28.005319595336914,
          "tSNE-2": 27.757221221923828
         },
         {
          "KM-label": 3,
          "digit": 7,
          "tSNE-1": 17.638917922973633,
          "tSNE-2": 29.472583770751953
         },
         {
          "KM-label": 6,
          "digit": 3,
          "tSNE-1": 20.672849655151367,
          "tSNE-2": -30.4356632232666
         },
         {
          "KM-label": 9,
          "digit": 5,
          "tSNE-1": -18.74912452697754,
          "tSNE-2": -21.606229782104492
         },
         {
          "KM-label": 5,
          "digit": 1,
          "tSNE-1": 10.587347984313965,
          "tSNE-2": 6.750600814819336
         },
         {
          "KM-label": 8,
          "digit": 0,
          "tSNE-1": -45.43050003051758,
          "tSNE-2": -8.921320915222168
         },
         {
          "KM-label": 8,
          "digit": 0,
          "tSNE-1": -44.70695114135742,
          "tSNE-2": -8.509267807006836
         },
         {
          "KM-label": 2,
          "digit": 2,
          "tSNE-1": 36.679176330566406,
          "tSNE-2": 4.0366530418396
         },
         {
          "KM-label": 2,
          "digit": 2,
          "tSNE-1": 34.0452766418457,
          "tSNE-2": 2.94710636138916
         },
         {
          "KM-label": 3,
          "digit": 7,
          "tSNE-1": 19.223617553710938,
          "tSNE-2": 32.55765914916992
         },
         {
          "KM-label": 4,
          "digit": 8,
          "tSNE-1": 4.06328821182251,
          "tSNE-2": -16.270488739013672
         },
         {
          "KM-label": 2,
          "digit": 2,
          "tSNE-1": 35.6374397277832,
          "tSNE-2": 0.15859955549240112
         },
         {
          "KM-label": 8,
          "digit": 0,
          "tSNE-1": -44.214176177978516,
          "tSNE-2": -9.2824125289917
         },
         {
          "KM-label": 1,
          "digit": 1,
          "tSNE-1": -4.493155002593994,
          "tSNE-2": 14.053648948669434
         },
         {
          "KM-label": 2,
          "digit": 2,
          "tSNE-1": 36.82208251953125,
          "tSNE-2": 1.559351921081543
         },
         {
          "KM-label": 7,
          "digit": 6,
          "tSNE-1": -33.513694763183594,
          "tSNE-2": 31.01660919189453
         },
         {
          "KM-label": 6,
          "digit": 3,
          "tSNE-1": 16.402437210083008,
          "tSNE-2": -28.855060577392578
         },
         {
          "KM-label": 6,
          "digit": 3,
          "tSNE-1": 22.022136688232422,
          "tSNE-2": -30.284961700439453
         },
         {
          "KM-label": 3,
          "digit": 7,
          "tSNE-1": 17.145477294921875,
          "tSNE-2": 31.368728637695312
         },
         {
          "KM-label": 6,
          "digit": 3,
          "tSNE-1": 18.708789825439453,
          "tSNE-2": -30.07284927368164
         },
         {
          "KM-label": 6,
          "digit": 3,
          "tSNE-1": 18.71864128112793,
          "tSNE-2": -29.973112106323242
         },
         {
          "KM-label": 0,
          "digit": 4,
          "tSNE-1": -2.5572469234466553,
          "tSNE-2": 39.319454193115234
         },
         {
          "KM-label": 7,
          "digit": 6,
          "tSNE-1": -30.60259437561035,
          "tSNE-2": 26.101699829101562
         },
         {
          "KM-label": 7,
          "digit": 6,
          "tSNE-1": -30.755420684814453,
          "tSNE-2": 25.99422836303711
         },
         {
          "KM-label": 7,
          "digit": 6,
          "tSNE-1": -31.789230346679688,
          "tSNE-2": 24.320301055908203
         },
         {
          "KM-label": 0,
          "digit": 4,
          "tSNE-1": -2.009817123413086,
          "tSNE-2": 40.86313247680664
         },
         {
          "KM-label": 3,
          "digit": 9,
          "tSNE-1": 10.690115928649902,
          "tSNE-2": 21.96082878112793
         },
         {
          "KM-label": 5,
          "digit": 1,
          "tSNE-1": 6.801368236541748,
          "tSNE-2": 6.701466083526611
         },
         {
          "KM-label": 9,
          "digit": 5,
          "tSNE-1": -19.056901931762695,
          "tSNE-2": -13.682697296142578
         },
         {
          "KM-label": 8,
          "digit": 0,
          "tSNE-1": -41.9478645324707,
          "tSNE-2": -9.525800704956055
         },
         {
          "KM-label": 3,
          "digit": 9,
          "tSNE-1": 11.470833778381348,
          "tSNE-2": 21.709218978881836
         },
         {
          "KM-label": 9,
          "digit": 5,
          "tSNE-1": -18.533111572265625,
          "tSNE-2": -22.042314529418945
         },
         {
          "KM-label": 2,
          "digit": 2,
          "tSNE-1": 35.213897705078125,
          "tSNE-2": 0.5607408285140991
         },
         {
          "KM-label": 4,
          "digit": 8,
          "tSNE-1": 6.894155502319336,
          "tSNE-2": -15.007071495056152
         },
         {
          "KM-label": 2,
          "digit": 2,
          "tSNE-1": 35.853843688964844,
          "tSNE-2": 3.3233869075775146
         },
         {
          "KM-label": 8,
          "digit": 0,
          "tSNE-1": -43.57244873046875,
          "tSNE-2": -9.946706771850586
         },
         {
          "KM-label": 8,
          "digit": 0,
          "tSNE-1": -41.6524658203125,
          "tSNE-2": -9.911696434020996
         },
         {
          "KM-label": 5,
          "digit": 1,
          "tSNE-1": 0.6650657653808594,
          "tSNE-2": 12.886783599853516
         },
         {
          "KM-label": 3,
          "digit": 7,
          "tSNE-1": 21.104507446289062,
          "tSNE-2": 27.35845184326172
         },
         {
          "KM-label": 7,
          "digit": 6,
          "tSNE-1": -30.805511474609375,
          "tSNE-2": 21.387468338012695
         },
         {
          "KM-label": 6,
          "digit": 3,
          "tSNE-1": 20.136064529418945,
          "tSNE-2": -30.23161506652832
         },
         {
          "KM-label": 2,
          "digit": 2,
          "tSNE-1": 34.52522277832031,
          "tSNE-2": 2.4170703887939453
         },
         {
          "KM-label": 5,
          "digit": 1,
          "tSNE-1": 0.2528574466705322,
          "tSNE-2": 13.053600311279297
         },
         {
          "KM-label": 3,
          "digit": 7,
          "tSNE-1": 21.736600875854492,
          "tSNE-2": 27.795494079589844
         },
         {
          "KM-label": 0,
          "digit": 4,
          "tSNE-1": -2.223112106323242,
          "tSNE-2": 38.411827087402344
         },
         {
          "KM-label": 7,
          "digit": 6,
          "tSNE-1": -32.742271423339844,
          "tSNE-2": 29.45182991027832
         },
         {
          "KM-label": 6,
          "digit": 3,
          "tSNE-1": 21.813425064086914,
          "tSNE-2": -28.805599212646484
         },
         {
          "KM-label": 5,
          "digit": 1,
          "tSNE-1": 9.042890548706055,
          "tSNE-2": 7.237078666687012
         },
         {
          "KM-label": 6,
          "digit": 3,
          "tSNE-1": 16.110576629638672,
          "tSNE-2": -28.954919815063477
         },
         {
          "KM-label": 3,
          "digit": 9,
          "tSNE-1": 10.995816230773926,
          "tSNE-2": 22.30002212524414
         },
         {
          "KM-label": 5,
          "digit": 1,
          "tSNE-1": 6.654650688171387,
          "tSNE-2": 8.77291488647461
         },
         {
          "KM-label": 3,
          "digit": 7,
          "tSNE-1": 28.939645767211914,
          "tSNE-2": 30.180959701538086
         },
         {
          "KM-label": 7,
          "digit": 6,
          "tSNE-1": -33.2745475769043,
          "tSNE-2": 24.162206649780273
         },
         {
          "KM-label": 5,
          "digit": 8,
          "tSNE-1": 8.504922866821289,
          "tSNE-2": -8.13838005065918
         },
         {
          "KM-label": 0,
          "digit": 4,
          "tSNE-1": -7.5973591804504395,
          "tSNE-2": 38.45804977416992
         },
         {
          "KM-label": 6,
          "digit": 3,
          "tSNE-1": 16.01108741760254,
          "tSNE-2": -28.537343978881836
         },
         {
          "KM-label": 5,
          "digit": 1,
          "tSNE-1": 8.71052360534668,
          "tSNE-2": 10.117233276367188
         },
         {
          "KM-label": 0,
          "digit": 4,
          "tSNE-1": 1.062342643737793,
          "tSNE-2": 37.024593353271484
         },
         {
          "KM-label": 8,
          "digit": 0,
          "tSNE-1": -41.4337158203125,
          "tSNE-2": 2.2953975200653076
         },
         {
          "KM-label": 4,
          "digit": 5,
          "tSNE-1": -16.874677658081055,
          "tSNE-2": -25.56224250793457
         },
         {
          "KM-label": 6,
          "digit": 3,
          "tSNE-1": 17.85201644897461,
          "tSNE-2": -34.801151275634766
         },
         {
          "KM-label": 7,
          "digit": 6,
          "tSNE-1": -31.796815872192383,
          "tSNE-2": 27.392501831054688
         },
         {
          "KM-label": 3,
          "digit": 9,
          "tSNE-1": 11.095810890197754,
          "tSNE-2": 21.768495559692383
         },
         {
          "KM-label": 7,
          "digit": 6,
          "tSNE-1": -30.287992477416992,
          "tSNE-2": 25.570222854614258
         },
         {
          "KM-label": 5,
          "digit": 1,
          "tSNE-1": 4.464179039001465,
          "tSNE-2": 3.622208595275879
         },
         {
          "KM-label": 3,
          "digit": 7,
          "tSNE-1": 29.96414566040039,
          "tSNE-2": 30.89266586303711
         },
         {
          "KM-label": 9,
          "digit": 5,
          "tSNE-1": -17.088926315307617,
          "tSNE-2": -19.028335571289062
         },
         {
          "KM-label": 0,
          "digit": 4,
          "tSNE-1": -10.27696418762207,
          "tSNE-2": 38.28091049194336
         },
         {
          "KM-label": 0,
          "digit": 4,
          "tSNE-1": -3.700577735900879,
          "tSNE-2": 37.95888137817383
         },
         {
          "KM-label": 3,
          "digit": 7,
          "tSNE-1": 21.768054962158203,
          "tSNE-2": 27.821704864501953
         },
         {
          "KM-label": 2,
          "digit": 2,
          "tSNE-1": 35.28221893310547,
          "tSNE-2": 1.1407736539840698
         },
         {
          "KM-label": 4,
          "digit": 8,
          "tSNE-1": 7.754363536834717,
          "tSNE-2": -12.817350387573242
         },
         {
          "KM-label": 2,
          "digit": 2,
          "tSNE-1": 35.821022033691406,
          "tSNE-2": 3.4078657627105713
         },
         {
          "KM-label": 2,
          "digit": 2,
          "tSNE-1": 37.59906768798828,
          "tSNE-2": 1.503623127937317
         },
         {
          "KM-label": 4,
          "digit": 5,
          "tSNE-1": -13.989136695861816,
          "tSNE-2": -26.35817527770996
         },
         {
          "KM-label": 3,
          "digit": 7,
          "tSNE-1": 19.549293518066406,
          "tSNE-2": 30.5634765625
         },
         {
          "KM-label": 1,
          "digit": 9,
          "tSNE-1": -11.088115692138672,
          "tSNE-2": 16.92970085144043
         },
         {
          "KM-label": 9,
          "digit": 5,
          "tSNE-1": -15.347942352294922,
          "tSNE-2": -6.651655673980713
         },
         {
          "KM-label": 0,
          "digit": 4,
          "tSNE-1": -2.4316282272338867,
          "tSNE-2": 40.05757522583008
         },
         {
          "KM-label": 4,
          "digit": 8,
          "tSNE-1": 9.937602996826172,
          "tSNE-2": -17.1354923248291
         },
         {
          "KM-label": 4,
          "digit": 8,
          "tSNE-1": 8.040040969848633,
          "tSNE-2": -12.119318008422852
         },
         {
          "KM-label": 0,
          "digit": 4,
          "tSNE-1": -3.591878652572632,
          "tSNE-2": 36.66178894042969
         },
         {
          "KM-label": 1,
          "digit": 9,
          "tSNE-1": -11.28885555267334,
          "tSNE-2": 16.233226776123047
         },
         {
          "KM-label": 8,
          "digit": 0,
          "tSNE-1": -43.73866271972656,
          "tSNE-2": -3.2355995178222656
         },
         {
          "KM-label": 5,
          "digit": 8,
          "tSNE-1": 3.809906005859375,
          "tSNE-2": -6.61729621887207
         },
         {
          "KM-label": 3,
          "digit": 9,
          "tSNE-1": 10.807831764221191,
          "tSNE-2": 22.375507354736328
         },
         {
          "KM-label": 6,
          "digit": 3,
          "tSNE-1": 21.593868255615234,
          "tSNE-2": -25.816003799438477
         },
         {
          "KM-label": 8,
          "digit": 0,
          "tSNE-1": -44.69359588623047,
          "tSNE-2": 0.6994859576225281
         },
         {
          "KM-label": 1,
          "digit": 1,
          "tSNE-1": -8.542412757873535,
          "tSNE-2": 9.27957534790039
         },
         {
          "KM-label": 2,
          "digit": 2,
          "tSNE-1": 38.35744094848633,
          "tSNE-2": -4.452315807342529
         },
         {
          "KM-label": 6,
          "digit": 3,
          "tSNE-1": 22.540685653686523,
          "tSNE-2": -29.703779220581055
         },
         {
          "KM-label": 0,
          "digit": 4,
          "tSNE-1": -6.276716232299805,
          "tSNE-2": 25.93044662475586
         },
         {
          "KM-label": 9,
          "digit": 5,
          "tSNE-1": -10.57609748840332,
          "tSNE-2": -16.68021011352539
         },
         {
          "KM-label": 7,
          "digit": 6,
          "tSNE-1": -29.96983528137207,
          "tSNE-2": 15.111509323120117
         },
         {
          "KM-label": 3,
          "digit": 7,
          "tSNE-1": 12.140230178833008,
          "tSNE-2": 26.542646408081055
         },
         {
          "KM-label": 4,
          "digit": 8,
          "tSNE-1": 3.7495787143707275,
          "tSNE-2": -14.273125648498535
         },
         {
          "KM-label": 4,
          "digit": 9,
          "tSNE-1": -5.800703048706055,
          "tSNE-2": -39.5864372253418
         },
         {
          "KM-label": 8,
          "digit": 0,
          "tSNE-1": -42.891395568847656,
          "tSNE-2": -0.5872048735618591
         },
         {
          "KM-label": 1,
          "digit": 1,
          "tSNE-1": -4.33367395401001,
          "tSNE-2": 7.581945419311523
         },
         {
          "KM-label": 2,
          "digit": 2,
          "tSNE-1": 40.408260345458984,
          "tSNE-2": -6.360006809234619
         },
         {
          "KM-label": 6,
          "digit": 3,
          "tSNE-1": 12.109369277954102,
          "tSNE-2": -31.243349075317383
         },
         {
          "KM-label": 0,
          "digit": 4,
          "tSNE-1": -4.834743976593018,
          "tSNE-2": 44.702659606933594
         },
         {
          "KM-label": 9,
          "digit": 5,
          "tSNE-1": -12.530265808105469,
          "tSNE-2": -15.732370376586914
         },
         {
          "KM-label": 7,
          "digit": 6,
          "tSNE-1": -30.362689971923828,
          "tSNE-2": 14.104300498962402
         },
         {
          "KM-label": 3,
          "digit": 7,
          "tSNE-1": 11.740796089172363,
          "tSNE-2": 26.64518928527832
         },
         {
          "KM-label": 5,
          "digit": 8,
          "tSNE-1": 8.754650115966797,
          "tSNE-2": -6.744381427764893
         },
         {
          "KM-label": 4,
          "digit": 9,
          "tSNE-1": 0.9847697019577026,
          "tSNE-2": -38.10771179199219
         },
         {
          "KM-label": 8,
          "digit": 0,
          "tSNE-1": -40.97127151489258,
          "tSNE-2": -0.7605848908424377
         },
         {
          "KM-label": 1,
          "digit": 1,
          "tSNE-1": -5.708383560180664,
          "tSNE-2": 9.231389999389648
         },
         {
          "KM-label": 2,
          "digit": 2,
          "tSNE-1": 40.41183853149414,
          "tSNE-2": -1.622641921043396
         },
         {
          "KM-label": 6,
          "digit": 3,
          "tSNE-1": 13.569341659545898,
          "tSNE-2": -36.816123962402344
         },
         {
          "KM-label": 0,
          "digit": 4,
          "tSNE-1": -5.205699443817139,
          "tSNE-2": 27.309236526489258
         },
         {
          "KM-label": 9,
          "digit": 5,
          "tSNE-1": -12.432849884033203,
          "tSNE-2": -15.947030067443848
         },
         {
          "KM-label": 7,
          "digit": 6,
          "tSNE-1": -31.673137664794922,
          "tSNE-2": 15.042205810546875
         },
         {
          "KM-label": 3,
          "digit": 7,
          "tSNE-1": 11.446972846984863,
          "tSNE-2": 26.875938415527344
         },
         {
          "KM-label": 4,
          "digit": 8,
          "tSNE-1": 1.5120609998703003,
          "tSNE-2": -13.792043685913086
         },
         {
          "KM-label": 4,
          "digit": 9,
          "tSNE-1": 0.966999351978302,
          "tSNE-2": -38.21379470825195
         },
         {
          "KM-label": 8,
          "digit": 0,
          "tSNE-1": -34.15495300292969,
          "tSNE-2": -2.7869362831115723
         },
         {
          "KM-label": 4,
          "digit": 9,
          "tSNE-1": -1.375937819480896,
          "tSNE-2": -29.375165939331055
         },
         {
          "KM-label": 6,
          "digit": 5,
          "tSNE-1": -10.063157081604004,
          "tSNE-2": -16.878177642822266
         },
         {
          "KM-label": 9,
          "digit": 5,
          "tSNE-1": -12.89433479309082,
          "tSNE-2": -16.616317749023438
         },
         {
          "KM-label": 7,
          "digit": 6,
          "tSNE-1": -31.210041046142578,
          "tSNE-2": 13.716750144958496
         },
         {
          "KM-label": 4,
          "digit": 5,
          "tSNE-1": -9.057705879211426,
          "tSNE-2": -17.245126724243164
         },
         {
          "KM-label": 8,
          "digit": 0,
          "tSNE-1": -44.230960845947266,
          "tSNE-2": 0.8550989031791687
         },
         {
          "KM-label": 4,
          "digit": 9,
          "tSNE-1": -1.2662032842636108,
          "tSNE-2": -29.158903121948242
         },
         {
          "KM-label": 4,
          "digit": 8,
          "tSNE-1": 5.151199817657471,
          "tSNE-2": -14.118392944335938
         },
         {
          "KM-label": 4,
          "digit": 9,
          "tSNE-1": -1.7484852075576782,
          "tSNE-2": -37.03976058959961
         },
         {
          "KM-label": 4,
          "digit": 8,
          "tSNE-1": 5.263214588165283,
          "tSNE-2": -13.363777160644531
         },
         {
          "KM-label": 0,
          "digit": 4,
          "tSNE-1": -4.076037883758545,
          "tSNE-2": 28.840456008911133
         },
         {
          "KM-label": 1,
          "digit": 1,
          "tSNE-1": -6.213416576385498,
          "tSNE-2": 9.808760643005371
         },
         {
          "KM-label": 3,
          "digit": 7,
          "tSNE-1": 10.01388168334961,
          "tSNE-2": 26.896575927734375
         },
         {
          "KM-label": 3,
          "digit": 7,
          "tSNE-1": 13.639800071716309,
          "tSNE-2": 26.015287399291992
         },
         {
          "KM-label": 6,
          "digit": 3,
          "tSNE-1": 11.900472640991211,
          "tSNE-2": -30.20901870727539
         },
         {
          "KM-label": 9,
          "digit": 5,
          "tSNE-1": -11.734334945678711,
          "tSNE-2": -16.118003845214844
         },
         {
          "KM-label": 1,
          "digit": 1,
          "tSNE-1": -4.317086219787598,
          "tSNE-2": 7.70220422744751
         },
         {
          "KM-label": 8,
          "digit": 0,
          "tSNE-1": -43.44161605834961,
          "tSNE-2": -1.7557756900787354
         },
         {
          "KM-label": 8,
          "digit": 0,
          "tSNE-1": -41.52505111694336,
          "tSNE-2": -1.605677843093872
         },
         {
          "KM-label": 2,
          "digit": 2,
          "tSNE-1": 40.75111389160156,
          "tSNE-2": -6.081849575042725
         },
         {
          "KM-label": 2,
          "digit": 2,
          "tSNE-1": 39.548370361328125,
          "tSNE-2": -3.6949853897094727
         },
         {
          "KM-label": 3,
          "digit": 7,
          "tSNE-1": 11.93038558959961,
          "tSNE-2": 26.537731170654297
         },
         {
          "KM-label": 4,
          "digit": 8,
          "tSNE-1": 2.664970636367798,
          "tSNE-2": -16.443431854248047
         },
         {
          "KM-label": 2,
          "digit": 2,
          "tSNE-1": 39.79183578491211,
          "tSNE-2": -4.603013515472412
         },
         {
          "KM-label": 8,
          "digit": 0,
          "tSNE-1": -44.30683517456055,
          "tSNE-2": -5.672849655151367
         },
         {
          "KM-label": 2,
          "digit": 1,
          "tSNE-1": 51.742977142333984,
          "tSNE-2": 0.0954860970377922
         },
         {
          "KM-label": 2,
          "digit": 2,
          "tSNE-1": 40.34144592285156,
          "tSNE-2": -6.740561008453369
         },
         {
          "KM-label": 7,
          "digit": 6,
          "tSNE-1": -37.37694549560547,
          "tSNE-2": 25.785463333129883
         },
         {
          "KM-label": 6,
          "digit": 3,
          "tSNE-1": 11.574603080749512,
          "tSNE-2": -29.600622177124023
         },
         {
          "KM-label": 4,
          "digit": 3,
          "tSNE-1": 11.446000099182129,
          "tSNE-2": -31.037124633789062
         },
         {
          "KM-label": 9,
          "digit": 7,
          "tSNE-1": 10.896332740783691,
          "tSNE-2": 27.28104019165039
         },
         {
          "KM-label": 4,
          "digit": 3,
          "tSNE-1": 11.633529663085938,
          "tSNE-2": -29.998804092407227
         },
         {
          "KM-label": 4,
          "digit": 3,
          "tSNE-1": 11.631912231445312,
          "tSNE-2": -31.546398162841797
         },
         {
          "KM-label": 0,
          "digit": 4,
          "tSNE-1": -6.116463661193848,
          "tSNE-2": 27.693735122680664
         },
         {
          "KM-label": 7,
          "digit": 6,
          "tSNE-1": -31.760608673095703,
          "tSNE-2": 15.336411476135254
         },
         {
          "KM-label": 7,
          "digit": 6,
          "tSNE-1": -30.23019027709961,
          "tSNE-2": 14.647066116333008
         },
         {
          "KM-label": 7,
          "digit": 6,
          "tSNE-1": -31.80295753479004,
          "tSNE-2": 15.213820457458496
         },
         {
          "KM-label": 0,
          "digit": 4,
          "tSNE-1": -5.373049259185791,
          "tSNE-2": 27.40467643737793
         },
         {
          "KM-label": 4,
          "digit": 9,
          "tSNE-1": -2.2570812702178955,
          "tSNE-2": -36.531150817871094
         },
         {
          "KM-label": 1,
          "digit": 1,
          "tSNE-1": -5.826415061950684,
          "tSNE-2": 9.920950889587402
         },
         {
          "KM-label": 4,
          "digit": 5,
          "tSNE-1": -20.177684783935547,
          "tSNE-2": -21.91693115234375
         },
         {
          "KM-label": 8,
          "digit": 0,
          "tSNE-1": -37.674949645996094,
          "tSNE-2": -5.3395490646362305
         },
         {
          "KM-label": 4,
          "digit": 9,
          "tSNE-1": -1.197034478187561,
          "tSNE-2": -29.092723846435547
         },
         {
          "KM-label": 9,
          "digit": 5,
          "tSNE-1": -12.92164421081543,
          "tSNE-2": -16.668251037597656
         },
         {
          "KM-label": 2,
          "digit": 2,
          "tSNE-1": 40.878501892089844,
          "tSNE-2": -4.828107833862305
         },
         {
          "KM-label": 5,
          "digit": 8,
          "tSNE-1": 5.063723564147949,
          "tSNE-2": -12.639992713928223
         },
         {
          "KM-label": 2,
          "digit": 2,
          "tSNE-1": 39.29658508300781,
          "tSNE-2": -0.5721837878227234
         },
         {
          "KM-label": 8,
          "digit": 0,
          "tSNE-1": -42.97034454345703,
          "tSNE-2": -6.3946356773376465
         },
         {
          "KM-label": 8,
          "digit": 0,
          "tSNE-1": -44.078250885009766,
          "tSNE-2": -0.6291950941085815
         },
         {
          "KM-label": 1,
          "digit": 1,
          "tSNE-1": -3.649961233139038,
          "tSNE-2": 8.165104866027832
         },
         {
          "KM-label": 9,
          "digit": 7,
          "tSNE-1": 10.007925987243652,
          "tSNE-2": 26.912878036499023
         },
         {
          "KM-label": 7,
          "digit": 6,
          "tSNE-1": -27.31717872619629,
          "tSNE-2": 18.499858856201172
         },
         {
          "KM-label": 6,
          "digit": 3,
          "tSNE-1": 11.977886199951172,
          "tSNE-2": -31.214832305908203
         },
         {
          "KM-label": 2,
          "digit": 2,
          "tSNE-1": 41.615028381347656,
          "tSNE-2": 0.6757813692092896
         },
         {
          "KM-label": 1,
          "digit": 1,
          "tSNE-1": -3.1610546112060547,
          "tSNE-2": 8.144686698913574
         },
         {
          "KM-label": 3,
          "digit": 7,
          "tSNE-1": 13.163352012634277,
          "tSNE-2": 26.233854293823242
         },
         {
          "KM-label": 0,
          "digit": 4,
          "tSNE-1": -6.3905229568481445,
          "tSNE-2": 30.50636100769043
         },
         {
          "KM-label": 7,
          "digit": 6,
          "tSNE-1": -33.29558563232422,
          "tSNE-2": 16.164730072021484
         },
         {
          "KM-label": 6,
          "digit": 3,
          "tSNE-1": 12.083508491516113,
          "tSNE-2": -31.688222885131836
         },
         {
          "KM-label": 1,
          "digit": 1,
          "tSNE-1": -4.504813194274902,
          "tSNE-2": 10.770051956176758
         },
         {
          "KM-label": 6,
          "digit": 3,
          "tSNE-1": 13.212178230285645,
          "tSNE-2": -30.051485061645508
         },
         {
          "KM-label": 4,
          "digit": 9,
          "tSNE-1": -0.9832881093025208,
          "tSNE-2": -36.45263671875
         },
         {
          "KM-label": 1,
          "digit": 1,
          "tSNE-1": -5.258880615234375,
          "tSNE-2": 8.572789192199707
         },
         {
          "KM-label": 9,
          "digit": 7,
          "tSNE-1": 10.746539115905762,
          "tSNE-2": 23.712305068969727
         },
         {
          "KM-label": 7,
          "digit": 6,
          "tSNE-1": -32.70719909667969,
          "tSNE-2": 14.109068870544434
         },
         {
          "KM-label": 4,
          "digit": 8,
          "tSNE-1": 7.480779647827148,
          "tSNE-2": -17.270084381103516
         },
         {
          "KM-label": 0,
          "digit": 4,
          "tSNE-1": -6.497739791870117,
          "tSNE-2": 27.571115493774414
         },
         {
          "KM-label": 6,
          "digit": 3,
          "tSNE-1": 13.303969383239746,
          "tSNE-2": -30.609394073486328
         },
         {
          "KM-label": 1,
          "digit": 1,
          "tSNE-1": -4.866871356964111,
          "tSNE-2": 8.091927528381348
         },
         {
          "KM-label": 0,
          "digit": 4,
          "tSNE-1": -4.7601470947265625,
          "tSNE-2": 27.815568923950195
         },
         {
          "KM-label": 8,
          "digit": 0,
          "tSNE-1": -43.80145263671875,
          "tSNE-2": 2.1276824474334717
         },
         {
          "KM-label": 9,
          "digit": 5,
          "tSNE-1": -17.9315242767334,
          "tSNE-2": -18.010055541992188
         },
         {
          "KM-label": 6,
          "digit": 3,
          "tSNE-1": 11.118858337402344,
          "tSNE-2": -32.047969818115234
         },
         {
          "KM-label": 7,
          "digit": 6,
          "tSNE-1": -31.364980697631836,
          "tSNE-2": 16.00079345703125
         },
         {
          "KM-label": 4,
          "digit": 9,
          "tSNE-1": -1.1783336400985718,
          "tSNE-2": -28.990617752075195
         },
         {
          "KM-label": 5,
          "digit": 6,
          "tSNE-1": 0.6792177557945251,
          "tSNE-2": -2.543802499771118
         },
         {
          "KM-label": 1,
          "digit": 1,
          "tSNE-1": -6.182900428771973,
          "tSNE-2": 9.418207168579102
         },
         {
          "KM-label": 3,
          "digit": 7,
          "tSNE-1": 11.253399848937988,
          "tSNE-2": 27.152069091796875
         },
         {
          "KM-label": 9,
          "digit": 5,
          "tSNE-1": -12.984699249267578,
          "tSNE-2": -16.257108688354492
         },
         {
          "KM-label": 1,
          "digit": 4,
          "tSNE-1": -5.755534648895264,
          "tSNE-2": 30.005136489868164
         },
         {
          "KM-label": 0,
          "digit": 4,
          "tSNE-1": -5.487154006958008,
          "tSNE-2": 28.417930603027344
         },
         {
          "KM-label": 9,
          "digit": 7,
          "tSNE-1": 11.480123519897461,
          "tSNE-2": 26.57646942138672
         },
         {
          "KM-label": 2,
          "digit": 2,
          "tSNE-1": 39.3438606262207,
          "tSNE-2": 0.11709614098072052
         },
         {
          "KM-label": 4,
          "digit": 8,
          "tSNE-1": 6.308125972747803,
          "tSNE-2": -16.436481475830078
         },
         {
          "KM-label": 2,
          "digit": 2,
          "tSNE-1": 40.68485641479492,
          "tSNE-2": -0.743215799331665
         },
         {
          "KM-label": 5,
          "digit": 2,
          "tSNE-1": 21.973533630371094,
          "tSNE-2": -5.090357303619385
         },
         {
          "KM-label": 9,
          "digit": 5,
          "tSNE-1": -17.804676055908203,
          "tSNE-2": -10.572659492492676
         },
         {
          "KM-label": 3,
          "digit": 7,
          "tSNE-1": 12.96405029296875,
          "tSNE-2": 26.2487850189209
         },
         {
          "KM-label": 4,
          "digit": 9,
          "tSNE-1": -1.2890034914016724,
          "tSNE-2": -36.826622009277344
         },
         {
          "KM-label": 9,
          "digit": 5,
          "tSNE-1": -12.085724830627441,
          "tSNE-2": -16.835180282592773
         },
         {
          "KM-label": 0,
          "digit": 4,
          "tSNE-1": -5.982784271240234,
          "tSNE-2": 30.407068252563477
         },
         {
          "KM-label": 5,
          "digit": 8,
          "tSNE-1": 8.728506088256836,
          "tSNE-2": -7.491374492645264
         },
         {
          "KM-label": 5,
          "digit": 8,
          "tSNE-1": 7.890107154846191,
          "tSNE-2": -7.4804301261901855
         },
         {
          "KM-label": 0,
          "digit": 4,
          "tSNE-1": -6.206782341003418,
          "tSNE-2": 25.64463233947754
         },
         {
          "KM-label": 4,
          "digit": 9,
          "tSNE-1": -8.097648620605469,
          "tSNE-2": -38.21487808227539
         },
         {
          "KM-label": 8,
          "digit": 0,
          "tSNE-1": -41.630455017089844,
          "tSNE-2": -5.775646209716797
         },
         {
          "KM-label": 4,
          "digit": 8,
          "tSNE-1": 6.16452169418335,
          "tSNE-2": -14.176017761230469
         },
         {
          "KM-label": 4,
          "digit": 9,
          "tSNE-1": -1.494185447692871,
          "tSNE-2": -36.61088943481445
         },
         {
          "KM-label": 4,
          "digit": 8,
          "tSNE-1": 4.945036888122559,
          "tSNE-2": -13.582993507385254
         },
         {
          "KM-label": 8,
          "digit": 0,
          "tSNE-1": -38.67633819580078,
          "tSNE-2": -6.157446384429932
         },
         {
          "KM-label": 2,
          "digit": 1,
          "tSNE-1": 53.55949401855469,
          "tSNE-2": -0.08510895818471909
         },
         {
          "KM-label": 2,
          "digit": 2,
          "tSNE-1": 37.766319274902344,
          "tSNE-2": -9.414555549621582
         },
         {
          "KM-label": 4,
          "digit": 3,
          "tSNE-1": 8.317604064941406,
          "tSNE-2": -24.855850219726562
         },
         {
          "KM-label": 0,
          "digit": 4,
          "tSNE-1": -2.0617098808288574,
          "tSNE-2": 44.28693389892578
         },
         {
          "KM-label": 9,
          "digit": 5,
          "tSNE-1": -20.089805603027344,
          "tSNE-2": -23.624589920043945
         },
         {
          "KM-label": 7,
          "digit": 6,
          "tSNE-1": -26.88624382019043,
          "tSNE-2": 17.683427810668945
         },
         {
          "KM-label": 3,
          "digit": 7,
          "tSNE-1": 31.371803283691406,
          "tSNE-2": 23.163578033447266
         },
         {
          "KM-label": 5,
          "digit": 8,
          "tSNE-1": 16.52052879333496,
          "tSNE-2": -5.675344467163086
         },
         {
          "KM-label": 4,
          "digit": 9,
          "tSNE-1": 0.4244192838668823,
          "tSNE-2": -27.097225189208984
         },
         {
          "KM-label": 8,
          "digit": 0,
          "tSNE-1": -46.59689712524414,
          "tSNE-2": -7.986884117126465
         },
         {
          "KM-label": 2,
          "digit": 1,
          "tSNE-1": 51.927059173583984,
          "tSNE-2": 0.5294045209884644
         },
         {
          "KM-label": 2,
          "digit": 2,
          "tSNE-1": 34.160743713378906,
          "tSNE-2": -6.997008800506592
         },
         {
          "KM-label": 6,
          "digit": 3,
          "tSNE-1": 9.483498573303223,
          "tSNE-2": -24.274885177612305
         },
         {
          "KM-label": 3,
          "digit": 4,
          "tSNE-1": -0.5601920485496521,
          "tSNE-2": 43.64781951904297
         },
         {
          "KM-label": 4,
          "digit": 5,
          "tSNE-1": -18.974750518798828,
          "tSNE-2": -26.607839584350586
         },
         {
          "KM-label": 7,
          "digit": 6,
          "tSNE-1": -35.69566345214844,
          "tSNE-2": 25.473594665527344
         },
         {
          "KM-label": 3,
          "digit": 7,
          "tSNE-1": 26.796064376831055,
          "tSNE-2": 25.268203735351562
         },
         {
          "KM-label": 5,
          "digit": 8,
          "tSNE-1": 16.361730575561523,
          "tSNE-2": -7.251865863800049
         },
         {
          "KM-label": 4,
          "digit": 9,
          "tSNE-1": -8.666321754455566,
          "tSNE-2": -36.591552734375
         },
         {
          "KM-label": 8,
          "digit": 0,
          "tSNE-1": -38.36651611328125,
          "tSNE-2": -7.324010848999023
         },
         {
          "KM-label": 2,
          "digit": 1,
          "tSNE-1": 52.56562805175781,
          "tSNE-2": 1.2878726720809937
         },
         {
          "KM-label": 2,
          "digit": 2,
          "tSNE-1": 34.30155944824219,
          "tSNE-2": -7.198711395263672
         },
         {
          "KM-label": 2,
          "digit": 3,
          "tSNE-1": 9.478938102722168,
          "tSNE-2": -23.270463943481445
         },
         {
          "KM-label": 0,
          "digit": 4,
          "tSNE-1": -5.841498851776123,
          "tSNE-2": 43.94113540649414
         },
         {
          "KM-label": 4,
          "digit": 5,
          "tSNE-1": -18.6767520904541,
          "tSNE-2": -25.271080017089844
         },
         {
          "KM-label": 7,
          "digit": 6,
          "tSNE-1": -34.454105377197266,
          "tSNE-2": 25.476276397705078
         },
         {
          "KM-label": 3,
          "digit": 7,
          "tSNE-1": 19.24898910522461,
          "tSNE-2": 32.8099479675293
         },
         {
          "KM-label": 5,
          "digit": 8,
          "tSNE-1": 16.375667572021484,
          "tSNE-2": -7.927407264709473
         },
         {
          "KM-label": 4,
          "digit": 9,
          "tSNE-1": 2.058234453201294,
          "tSNE-2": -27.716352462768555
         },
         {
          "KM-label": 8,
          "digit": 0,
          "tSNE-1": -38.41878890991211,
          "tSNE-2": -6.4101457595825195
         },
         {
          "KM-label": 9,
          "digit": 9,
          "tSNE-1": 4.047574996948242,
          "tSNE-2": -8.388164520263672
         },
         {
          "KM-label": 9,
          "digit": 5,
          "tSNE-1": -19.448558807373047,
          "tSNE-2": -20.408597946166992
         },
         {
          "KM-label": 4,
          "digit": 5,
          "tSNE-1": -18.233062744140625,
          "tSNE-2": -26.696304321289062
         },
         {
          "KM-label": 7,
          "digit": 6,
          "tSNE-1": -25.32146644592285,
          "tSNE-2": 17.887523651123047
         },
         {
          "KM-label": 4,
          "digit": 5,
          "tSNE-1": -18.54435920715332,
          "tSNE-2": -26.012968063354492
         },
         {
          "KM-label": 8,
          "digit": 0,
          "tSNE-1": -46.37080001831055,
          "tSNE-2": -5.70176362991333
         },
         {
          "KM-label": 4,
          "digit": 9,
          "tSNE-1": -7.779603958129883,
          "tSNE-2": -39.480125427246094
         },
         {
          "KM-label": 5,
          "digit": 8,
          "tSNE-1": 16.92722511291504,
          "tSNE-2": -5.959258079528809
         },
         {
          "KM-label": 4,
          "digit": 9,
          "tSNE-1": 1.2872841358184814,
          "tSNE-2": -26.66438102722168
         },
         {
          "KM-label": 5,
          "digit": 8,
          "tSNE-1": 16.914113998413086,
          "tSNE-2": -7.6873698234558105
         },
         {
          "KM-label": 0,
          "digit": 4,
          "tSNE-1": -3.158709764480591,
          "tSNE-2": 43.30378723144531
         },
         {
          "KM-label": 2,
          "digit": 1,
          "tSNE-1": 52.158897399902344,
          "tSNE-2": 1.3374521732330322
         },
         {
          "KM-label": 3,
          "digit": 7,
          "tSNE-1": 22.752017974853516,
          "tSNE-2": 29.87929916381836
         },
         {
          "KM-label": 3,
          "digit": 7,
          "tSNE-1": 25.74489402770996,
          "tSNE-2": 25.875810623168945
         },
         {
          "KM-label": 6,
          "digit": 3,
          "tSNE-1": 8.923386573791504,
          "tSNE-2": -25.08553695678711
         },
         {
          "KM-label": 4,
          "digit": 5,
          "tSNE-1": -18.473817825317383,
          "tSNE-2": -25.223495483398438
         },
         {
          "KM-label": 7,
          "digit": 1,
          "tSNE-1": 53.564544677734375,
          "tSNE-2": 1.8726439476013184
         },
         {
          "KM-label": 8,
          "digit": 0,
          "tSNE-1": -40.50806427001953,
          "tSNE-2": -4.780507564544678
         },
         {
          "KM-label": 8,
          "digit": 0,
          "tSNE-1": -47.498085021972656,
          "tSNE-2": -1.7540583610534668
         },
         {
          "KM-label": 2,
          "digit": 2,
          "tSNE-1": 35.43927001953125,
          "tSNE-2": -5.731761932373047
         },
         {
          "KM-label": 2,
          "digit": 2,
          "tSNE-1": 35.16389465332031,
          "tSNE-2": -5.781700134277344
         },
         {
          "KM-label": 3,
          "digit": 7,
          "tSNE-1": 29.19624900817871,
          "tSNE-2": 24.571176528930664
         },
         {
          "KM-label": 7,
          "digit": 8,
          "tSNE-1": 17.5394229888916,
          "tSNE-2": -8.353099822998047
         },
         {
          "KM-label": 2,
          "digit": 2,
          "tSNE-1": 36.665645599365234,
          "tSNE-2": -5.952517509460449
         },
         {
          "KM-label": 8,
          "digit": 0,
          "tSNE-1": -39.87992477416992,
          "tSNE-2": -8.617140769958496
         },
         {
          "KM-label": 2,
          "digit": 1,
          "tSNE-1": 51.90265655517578,
          "tSNE-2": 1.5192915201187134
         },
         {
          "KM-label": 2,
          "digit": 2,
          "tSNE-1": 35.19895935058594,
          "tSNE-2": -5.771051406860352
         },
         {
          "KM-label": 7,
          "digit": 6,
          "tSNE-1": -24.193254470825195,
          "tSNE-2": 18.439559936523438
         },
         {
          "KM-label": 4,
          "digit": 3,
          "tSNE-1": 8.162537574768066,
          "tSNE-2": -25.498552322387695
         },
         {
          "KM-label": 6,
          "digit": 3,
          "tSNE-1": 12.275250434875488,
          "tSNE-2": -24.83043670654297
         },
         {
          "KM-label": 3,
          "digit": 7,
          "tSNE-1": 18.564632415771484,
          "tSNE-2": 32.795494079589844
         },
         {
          "KM-label": 4,
          "digit": 3,
          "tSNE-1": 8.107257843017578,
          "tSNE-2": -23.67225456237793
         },
         {
          "KM-label": 4,
          "digit": 3,
          "tSNE-1": 8.682647705078125,
          "tSNE-2": -24.697509765625
         },
         {
          "KM-label": 0,
          "digit": 4,
          "tSNE-1": -3.3216142654418945,
          "tSNE-2": 41.80653381347656
         },
         {
          "KM-label": 7,
          "digit": 6,
          "tSNE-1": -24.386024475097656,
          "tSNE-2": 17.065326690673828
         },
         {
          "KM-label": 7,
          "digit": 6,
          "tSNE-1": -26.415912628173828,
          "tSNE-2": 17.8142032623291
         },
         {
          "KM-label": 7,
          "digit": 6,
          "tSNE-1": -36.14607238769531,
          "tSNE-2": 25.43718719482422
         },
         {
          "KM-label": 0,
          "digit": 4,
          "tSNE-1": -0.8891836404800415,
          "tSNE-2": 43.799007415771484
         },
         {
          "KM-label": 4,
          "digit": 9,
          "tSNE-1": -7.892910957336426,
          "tSNE-2": -36.77464294433594
         },
         {
          "KM-label": 7,
          "digit": 1,
          "tSNE-1": 53.61255645751953,
          "tSNE-2": 1.4834303855895996
         },
         {
          "KM-label": 9,
          "digit": 5,
          "tSNE-1": -18.36130714416504,
          "tSNE-2": -24.159318923950195
         },
         {
          "KM-label": 8,
          "digit": 0,
          "tSNE-1": -38.98508834838867,
          "tSNE-2": 2.7825815677642822
         },
         {
          "KM-label": 4,
          "digit": 9,
          "tSNE-1": -4.969429969787598,
          "tSNE-2": -34.73297882080078
         },
         {
          "KM-label": 4,
          "digit": 5,
          "tSNE-1": -19.458539962768555,
          "tSNE-2": -26.69434356689453
         },
         {
          "KM-label": 2,
          "digit": 2,
          "tSNE-1": 36.64339065551758,
          "tSNE-2": -7.760725498199463
         },
         {
          "KM-label": 5,
          "digit": 8,
          "tSNE-1": 17.47504425048828,
          "tSNE-2": -7.86985445022583
         },
         {
          "KM-label": 2,
          "digit": 2,
          "tSNE-1": 36.57520294189453,
          "tSNE-2": 0.21303367614746094
         },
         {
          "KM-label": 8,
          "digit": 0,
          "tSNE-1": -42.428890228271484,
          "tSNE-2": -5.445959091186523
         },
         {
          "KM-label": 8,
          "digit": 0,
          "tSNE-1": -38.25688171386719,
          "tSNE-2": -6.682413578033447
         },
         {
          "KM-label": 2,
          "digit": 1,
          "tSNE-1": 52.99338150024414,
          "tSNE-2": 1.9412480592727661
         },
         {
          "KM-label": 3,
          "digit": 7,
          "tSNE-1": 27.7904052734375,
          "tSNE-2": 26.026662826538086
         },
         {
          "KM-label": 7,
          "digit": 6,
          "tSNE-1": -24.414098739624023,
          "tSNE-2": 17.04541778564453
         },
         {
          "KM-label": 6,
          "digit": 3,
          "tSNE-1": 8.15410327911377,
          "tSNE-2": -25.464210510253906
         },
         {
          "KM-label": 2,
          "digit": 2,
          "tSNE-1": 39.52688980102539,
          "tSNE-2": 2.6034810543060303
         },
         {
          "KM-label": 2,
          "digit": 1,
          "tSNE-1": 53.558250427246094,
          "tSNE-2": 1.275763750076294
         },
         {
          "KM-label": 3,
          "digit": 7,
          "tSNE-1": 26.45647621154785,
          "tSNE-2": 25.95773696899414
         },
         {
          "KM-label": 0,
          "digit": 4,
          "tSNE-1": -2.067981719970703,
          "tSNE-2": 44.794376373291016
         },
         {
          "KM-label": 7,
          "digit": 6,
          "tSNE-1": -24.19659423828125,
          "tSNE-2": 18.651084899902344
         },
         {
          "KM-label": 6,
          "digit": 3,
          "tSNE-1": 8.841408729553223,
          "tSNE-2": -23.74958610534668
         },
         {
          "KM-label": 2,
          "digit": 1,
          "tSNE-1": 52.876075744628906,
          "tSNE-2": 2.3115735054016113
         },
         {
          "KM-label": 4,
          "digit": 3,
          "tSNE-1": 9.072299003601074,
          "tSNE-2": -23.695537567138672
         },
         {
          "KM-label": 4,
          "digit": 9,
          "tSNE-1": 1.2591038942337036,
          "tSNE-2": -26.647504806518555
         },
         {
          "KM-label": 2,
          "digit": 1,
          "tSNE-1": 53.764427185058594,
          "tSNE-2": 0.3256974518299103
         },
         {
          "KM-label": 3,
          "digit": 7,
          "tSNE-1": 27.22644805908203,
          "tSNE-2": 28.998769760131836
         },
         {
          "KM-label": 7,
          "digit": 6,
          "tSNE-1": -26.890708923339844,
          "tSNE-2": 17.596092224121094
         },
         {
          "KM-label": 5,
          "digit": 8,
          "tSNE-1": 16.90106964111328,
          "tSNE-2": -7.512733459472656
         },
         {
          "KM-label": 0,
          "digit": 4,
          "tSNE-1": -3.3371939659118652,
          "tSNE-2": 43.83164596557617
         },
         {
          "KM-label": 6,
          "digit": 3,
          "tSNE-1": 9.293339729309082,
          "tSNE-2": -24.921228408813477
         },
         {
          "KM-label": 5,
          "digit": 1,
          "tSNE-1": 8.088083267211914,
          "tSNE-2": 1.7443526983261108
         },
         {
          "KM-label": 0,
          "digit": 4,
          "tSNE-1": -3.0436105728149414,
          "tSNE-2": 44.36448669433594
         },
         {
          "KM-label": 8,
          "digit": 0,
          "tSNE-1": -37.92880630493164,
          "tSNE-2": -8.047163963317871
         },
         {
          "KM-label": 4,
          "digit": 5,
          "tSNE-1": -18.032480239868164,
          "tSNE-2": -27.231660842895508
         },
         {
          "KM-label": 6,
          "digit": 3,
          "tSNE-1": 9.298408508300781,
          "tSNE-2": -24.73304557800293
         },
         {
          "KM-label": 7,
          "digit": 6,
          "tSNE-1": -26.755659103393555,
          "tSNE-2": 18.247989654541016
         },
         {
          "KM-label": 4,
          "digit": 9,
          "tSNE-1": 1.2792123556137085,
          "tSNE-2": -26.6634464263916
         },
         {
          "KM-label": 7,
          "digit": 6,
          "tSNE-1": -25.173627853393555,
          "tSNE-2": 17.79485511779785
         },
         {
          "KM-label": 2,
          "digit": 1,
          "tSNE-1": 54.40597152709961,
          "tSNE-2": -0.7412534952163696
         },
         {
          "KM-label": 3,
          "digit": 7,
          "tSNE-1": 26.199722290039062,
          "tSNE-2": 27.355451583862305
         },
         {
          "KM-label": 9,
          "digit": 5,
          "tSNE-1": -17.98032569885254,
          "tSNE-2": -24.043210983276367
         },
         {
          "KM-label": 0,
          "digit": 4,
          "tSNE-1": -6.358921527862549,
          "tSNE-2": 45.137386322021484
         },
         {
          "KM-label": 0,
          "digit": 4,
          "tSNE-1": -3.3925275802612305,
          "tSNE-2": 41.393733978271484
         },
         {
          "KM-label": 3,
          "digit": 7,
          "tSNE-1": 31.090774536132812,
          "tSNE-2": 26.90753173828125
         },
         {
          "KM-label": 2,
          "digit": 2,
          "tSNE-1": 34.77739715576172,
          "tSNE-2": -6.187790870666504
         },
         {
          "KM-label": 5,
          "digit": 8,
          "tSNE-1": 17.5076904296875,
          "tSNE-2": -5.5991902351379395
         },
         {
          "KM-label": 2,
          "digit": 2,
          "tSNE-1": 35.70412826538086,
          "tSNE-2": -0.9277908802032471
         },
         {
          "KM-label": 2,
          "digit": 2,
          "tSNE-1": 35.32059860229492,
          "tSNE-2": -5.766726016998291
         },
         {
          "KM-label": 9,
          "digit": 5,
          "tSNE-1": -20.490253448486328,
          "tSNE-2": -23.5084171295166
         },
         {
          "KM-label": 3,
          "digit": 7,
          "tSNE-1": 25.973533630371094,
          "tSNE-2": 25.642635345458984
         },
         {
          "KM-label": 4,
          "digit": 9,
          "tSNE-1": -0.7930657863616943,
          "tSNE-2": -39.78668212890625
         },
         {
          "KM-label": 4,
          "digit": 5,
          "tSNE-1": -18.928966522216797,
          "tSNE-2": -26.39948272705078
         },
         {
          "KM-label": 3,
          "digit": 4,
          "tSNE-1": -1.7015736103057861,
          "tSNE-2": 44.92818069458008
         },
         {
          "KM-label": 1,
          "digit": 8,
          "tSNE-1": 16.743576049804688,
          "tSNE-2": -5.9245123863220215
         },
         {
          "KM-label": 5,
          "digit": 8,
          "tSNE-1": 17.43674087524414,
          "tSNE-2": -7.494710445404053
         },
         {
          "KM-label": 3,
          "digit": 4,
          "tSNE-1": -2.1746890544891357,
          "tSNE-2": 44.370208740234375
         },
         {
          "KM-label": 4,
          "digit": 9,
          "tSNE-1": -6.957442760467529,
          "tSNE-2": -36.90122985839844
         },
         {
          "KM-label": 8,
          "digit": 0,
          "tSNE-1": -39.235633850097656,
          "tSNE-2": -6.084691047668457
         },
         {
          "KM-label": 5,
          "digit": 8,
          "tSNE-1": 17.2806453704834,
          "tSNE-2": -7.682560443878174
         },
         {
          "KM-label": 4,
          "digit": 9,
          "tSNE-1": -0.20251475274562836,
          "tSNE-2": -38.087127685546875
         },
         {
          "KM-label": 5,
          "digit": 8,
          "tSNE-1": 16.955530166625977,
          "tSNE-2": -6.118636608123779
         },
         {
          "KM-label": 8,
          "digit": 0,
          "tSNE-1": -35.80901336669922,
          "tSNE-2": -5.079843997955322
         },
         {
          "KM-label": 5,
          "digit": 1,
          "tSNE-1": 8.66491985321045,
          "tSNE-2": 4.9746599197387695
         },
         {
          "KM-label": 2,
          "digit": 2,
          "tSNE-1": 31.397825241088867,
          "tSNE-2": 2.5910816192626953
         },
         {
          "KM-label": 6,
          "digit": 3,
          "tSNE-1": 21.247852325439453,
          "tSNE-2": -30.94442367553711
         },
         {
          "KM-label": 0,
          "digit": 4,
          "tSNE-1": -3.8039355278015137,
          "tSNE-2": 27.282760620117188
         },
         {
          "KM-label": 9,
          "digit": 5,
          "tSNE-1": -14.398885726928711,
          "tSNE-2": -21.927513122558594
         },
         {
          "KM-label": 7,
          "digit": 6,
          "tSNE-1": -29.86252212524414,
          "tSNE-2": 26.397403717041016
         },
         {
          "KM-label": 3,
          "digit": 7,
          "tSNE-1": 26.462739944458008,
          "tSNE-2": 27.030780792236328
         },
         {
          "KM-label": 4,
          "digit": 8,
          "tSNE-1": 7.976909160614014,
          "tSNE-2": -14.053305625915527
         },
         {
          "KM-label": 1,
          "digit": 9,
          "tSNE-1": -10.73736572265625,
          "tSNE-2": 16.23046875
         },
         {
          "KM-label": 8,
          "digit": 0,
          "tSNE-1": -38.05101776123047,
          "tSNE-2": -11.241728782653809
         },
         {
          "KM-label": 5,
          "digit": 1,
          "tSNE-1": 6.179116725921631,
          "tSNE-2": 3.8781535625457764
         },
         {
          "KM-label": 2,
          "digit": 2,
          "tSNE-1": 30.841100692749023,
          "tSNE-2": 3.053089141845703
         },
         {
          "KM-label": 6,
          "digit": 3,
          "tSNE-1": 21.788864135742188,
          "tSNE-2": -32.16736602783203
         },
         {
          "KM-label": 0,
          "digit": 4,
          "tSNE-1": -3.9363949298858643,
          "tSNE-2": 26.98615837097168
         },
         {
          "KM-label": 9,
          "digit": 5,
          "tSNE-1": -19.281641006469727,
          "tSNE-2": -9.769415855407715
         },
         {
          "KM-label": 7,
          "digit": 6,
          "tSNE-1": -30.3372802734375,
          "tSNE-2": 27.00697135925293
         },
         {
          "KM-label": 3,
          "digit": 7,
          "tSNE-1": 18.642770767211914,
          "tSNE-2": 32.97732925415039
         },
         {
          "KM-label": 5,
          "digit": 8,
          "tSNE-1": 5.482301235198975,
          "tSNE-2": -9.785246849060059
         },
         {
          "KM-label": 1,
          "digit": 9,
          "tSNE-1": -11.649240493774414,
          "tSNE-2": 15.218908309936523
         },
         {
          "KM-label": 8,
          "digit": 0,
          "tSNE-1": -35.89558029174805,
          "tSNE-2": -4.560326099395752
         },
         {
          "KM-label": 5,
          "digit": 1,
          "tSNE-1": 5.605948448181152,
          "tSNE-2": 3.984787702560425
         },
         {
          "KM-label": 2,
          "digit": 2,
          "tSNE-1": 31.855329513549805,
          "tSNE-2": 0.9057232737541199
         },
         {
          "KM-label": 6,
          "digit": 3,
          "tSNE-1": 20.11898422241211,
          "tSNE-2": -29.575475692749023
         },
         {
          "KM-label": 1,
          "digit": 4,
          "tSNE-1": -6.601276874542236,
          "tSNE-2": 29.58848762512207
         },
         {
          "KM-label": 9,
          "digit": 5,
          "tSNE-1": -19.12427520751953,
          "tSNE-2": -9.569563865661621
         },
         {
          "KM-label": 7,
          "digit": 6,
          "tSNE-1": -30.592870712280273,
          "tSNE-2": 27.31067657470703
         },
         {
          "KM-label": 3,
          "digit": 7,
          "tSNE-1": 16.92150115966797,
          "tSNE-2": 35.69499588012695
         },
         {
          "KM-label": 4,
          "digit": 8,
          "tSNE-1": 7.897237777709961,
          "tSNE-2": -14.000359535217285
         },
         {
          "KM-label": 1,
          "digit": 9,
          "tSNE-1": -11.08958911895752,
          "tSNE-2": 15.667510986328125
         },
         {
          "KM-label": 8,
          "digit": 0,
          "tSNE-1": -41.283329010009766,
          "tSNE-2": -9.500677108764648
         },
         {
          "KM-label": 1,
          "digit": 9,
          "tSNE-1": -11.768487930297852,
          "tSNE-2": 14.925165176391602
         },
         {
          "KM-label": 0,
          "digit": 5,
          "tSNE-1": -10.558523178100586,
          "tSNE-2": -20.929670333862305
         },
         {
          "KM-label": 9,
          "digit": 5,
          "tSNE-1": -20.438493728637695,
          "tSNE-2": -11.186921119689941
         },
         {
          "KM-label": 7,
          "digit": 6,
          "tSNE-1": -29.024768829345703,
          "tSNE-2": 28.39515495300293
         },
         {
          "KM-label": 9,
          "digit": 5,
          "tSNE-1": -19.722076416015625,
          "tSNE-2": -9.410387992858887
         },
         {
          "KM-label": 8,
          "digit": 0,
          "tSNE-1": -42.617855072021484,
          "tSNE-2": -0.8100221157073975
         },
         {
          "KM-label": 1,
          "digit": 9,
          "tSNE-1": -9.298270225524902,
          "tSNE-2": 14.484216690063477
         },
         {
          "KM-label": 5,
          "digit": 8,
          "tSNE-1": 6.347648620605469,
          "tSNE-2": -10.469982147216797
         },
         {
          "KM-label": 1,
          "digit": 9,
          "tSNE-1": -11.353425025939941,
          "tSNE-2": 15.28346061706543
         },
         {
          "KM-label": 4,
          "digit": 8,
          "tSNE-1": 6.412296295166016,
          "tSNE-2": -10.904752731323242
         },
         {
          "KM-label": 0,
          "digit": 4,
          "tSNE-1": -3.0725083351135254,
          "tSNE-2": 28.604761123657227
         },
         {
          "KM-label": 5,
          "digit": 1,
          "tSNE-1": 11.438969612121582,
          "tSNE-2": 3.2586827278137207
         },
         {
          "KM-label": 3,
          "digit": 7,
          "tSNE-1": 17.23497772216797,
          "tSNE-2": 35.7955207824707
         },
         {
          "KM-label": 1,
          "digit": 7,
          "tSNE-1": 17.172700881958008,
          "tSNE-2": 35.784603118896484
         },
         {
          "KM-label": 6,
          "digit": 3,
          "tSNE-1": 25.100528717041016,
          "tSNE-2": -32.466522216796875
         },
         {
          "KM-label": 9,
          "digit": 5,
          "tSNE-1": -18.058673858642578,
          "tSNE-2": -10.162697792053223
         },
         {
          "KM-label": 5,
          "digit": 1,
          "tSNE-1": 11.31698226928711,
          "tSNE-2": 3.194854259490967
         },
         {
          "KM-label": 8,
          "digit": 0,
          "tSNE-1": -37.614559173583984,
          "tSNE-2": -3.3595752716064453
         },
         {
          "KM-label": 8,
          "digit": 0,
          "tSNE-1": -39.67195510864258,
          "tSNE-2": -9.753900527954102
         },
         {
          "KM-label": 6,
          "digit": 2,
          "tSNE-1": 29.666189193725586,
          "tSNE-2": -1.9730315208435059
         },
         {
          "KM-label": 2,
          "digit": 2,
          "tSNE-1": 30.143129348754883,
          "tSNE-2": 0.34860163927078247
         },
         {
          "KM-label": 3,
          "digit": 7,
          "tSNE-1": 19.56788444519043,
          "tSNE-2": 33.6620979309082
         },
         {
          "KM-label": 5,
          "digit": 8,
          "tSNE-1": 5.409482002258301,
          "tSNE-2": -9.050169944763184
         },
         {
          "KM-label": 5,
          "digit": 2,
          "tSNE-1": 28.976219177246094,
          "tSNE-2": -2.0966637134552
         },
         {
          "KM-label": 8,
          "digit": 0,
          "tSNE-1": -35.89531326293945,
          "tSNE-2": -0.0028851882088929415
         },
         {
          "KM-label": 5,
          "digit": 1,
          "tSNE-1": 10.198793411254883,
          "tSNE-2": 8.825066566467285
         },
         {
          "KM-label": 4,
          "digit": 2,
          "tSNE-1": 29.096778869628906,
          "tSNE-2": -2.221689224243164
         },
         {
          "KM-label": 7,
          "digit": 6,
          "tSNE-1": -28.273387908935547,
          "tSNE-2": 27.304487228393555
         },
         {
          "KM-label": 6,
          "digit": 3,
          "tSNE-1": 22.556852340698242,
          "tSNE-2": -32.093971252441406
         },
         {
          "KM-label": 6,
          "digit": 3,
          "tSNE-1": 21.57097053527832,
          "tSNE-2": -31.06584358215332
         },
         {
          "KM-label": 3,
          "digit": 7,
          "tSNE-1": 18.76766586303711,
          "tSNE-2": 33.474761962890625
         },
         {
          "KM-label": 6,
          "digit": 3,
          "tSNE-1": 22.654361724853516,
          "tSNE-2": -32.87736511230469
         },
         {
          "KM-label": 6,
          "digit": 3,
          "tSNE-1": 20.853771209716797,
          "tSNE-2": -29.496240615844727
         },
         {
          "KM-label": 0,
          "digit": 4,
          "tSNE-1": -2.5818750858306885,
          "tSNE-2": 29.210609436035156
         },
         {
          "KM-label": 7,
          "digit": 6,
          "tSNE-1": -31.879188537597656,
          "tSNE-2": 29.178659439086914
         },
         {
          "KM-label": 7,
          "digit": 6,
          "tSNE-1": -31.843433380126953,
          "tSNE-2": 24.55567169189453
         },
         {
          "KM-label": 7,
          "digit": 6,
          "tSNE-1": -30.66983985900879,
          "tSNE-2": 29.994054794311523
         },
         {
          "KM-label": 0,
          "digit": 4,
          "tSNE-1": -4.546132564544678,
          "tSNE-2": 27.30145835876465
         },
         {
          "KM-label": 1,
          "digit": 9,
          "tSNE-1": -10.975162506103516,
          "tSNE-2": 15.189410209655762
         },
         {
          "KM-label": 5,
          "digit": 1,
          "tSNE-1": 5.585279941558838,
          "tSNE-2": 2.322551965713501
         },
         {
          "KM-label": 9,
          "digit": 5,
          "tSNE-1": -11.62451457977295,
          "tSNE-2": -20.80335235595703
         },
         {
          "KM-label": 8,
          "digit": 0,
          "tSNE-1": -37.032554626464844,
          "tSNE-2": -3.2142040729522705
         },
         {
          "KM-label": 1,
          "digit": 9,
          "tSNE-1": -10.742453575134277,
          "tSNE-2": 14.267436981201172
         },
         {
          "KM-label": 9,
          "digit": 5,
          "tSNE-1": -11.356078147888184,
          "tSNE-2": -20.79033088684082
         },
         {
          "KM-label": 6,
          "digit": 2,
          "tSNE-1": 29.8272762298584,
          "tSNE-2": -1.1303044557571411
         },
         {
          "KM-label": 4,
          "digit": 8,
          "tSNE-1": 5.447573184967041,
          "tSNE-2": -15.998114585876465
         },
         {
          "KM-label": 2,
          "digit": 2,
          "tSNE-1": 31.06919288635254,
          "tSNE-2": 3.752427101135254
         },
         {
          "KM-label": 8,
          "digit": 0,
          "tSNE-1": -35.289772033691406,
          "tSNE-2": -3.833146333694458
         },
         {
          "KM-label": 8,
          "digit": 0,
          "tSNE-1": -41.944095611572266,
          "tSNE-2": -9.301102638244629
         },
         {
          "KM-label": 5,
          "digit": 1,
          "tSNE-1": 10.428499221801758,
          "tSNE-2": 8.837804794311523
         },
         {
          "KM-label": 3,
          "digit": 7,
          "tSNE-1": 19.268815994262695,
          "tSNE-2": 34.30063247680664
         },
         {
          "KM-label": 7,
          "digit": 6,
          "tSNE-1": -31.082889556884766,
          "tSNE-2": 27.306299209594727
         },
         {
          "KM-label": 6,
          "digit": 3,
          "tSNE-1": 22.05315589904785,
          "tSNE-2": -31.579496383666992
         },
         {
          "KM-label": 2,
          "digit": 2,
          "tSNE-1": 36.53696060180664,
          "tSNE-2": 5.325923442840576
         },
         {
          "KM-label": 5,
          "digit": 1,
          "tSNE-1": 4.461099147796631,
          "tSNE-2": 1.850627064704895
         },
         {
          "KM-label": 3,
          "digit": 7,
          "tSNE-1": 17.17298698425293,
          "tSNE-2": 35.68360900878906
         },
         {
          "KM-label": 0,
          "digit": 4,
          "tSNE-1": -4.2246174812316895,
          "tSNE-2": 27.59699249267578
         },
         {
          "KM-label": 7,
          "digit": 6,
          "tSNE-1": -29.15557098388672,
          "tSNE-2": 22.995466232299805
         },
         {
          "KM-label": 6,
          "digit": 3,
          "tSNE-1": 22.848377227783203,
          "tSNE-2": -33.04896926879883
         },
         {
          "KM-label": 5,
          "digit": 1,
          "tSNE-1": 4.391981601715088,
          "tSNE-2": 2.3731634616851807
         },
         {
          "KM-label": 6,
          "digit": 3,
          "tSNE-1": 14.657551765441895,
          "tSNE-2": -28.23409652709961
         },
         {
          "KM-label": 1,
          "digit": 9,
          "tSNE-1": -10.613852500915527,
          "tSNE-2": 14.535900115966797
         },
         {
          "KM-label": 5,
          "digit": 1,
          "tSNE-1": 6.127220630645752,
          "tSNE-2": 2.4885830879211426
         },
         {
          "KM-label": 3,
          "digit": 7,
          "tSNE-1": 18.982847213745117,
          "tSNE-2": 34.40886688232422
         },
         {
          "KM-label": 7,
          "digit": 6,
          "tSNE-1": -32.433128356933594,
          "tSNE-2": 29.210426330566406
         },
         {
          "KM-label": 5,
          "digit": 8,
          "tSNE-1": 6.756651401519775,
          "tSNE-2": -8.511761665344238
         },
         {
          "KM-label": 0,
          "digit": 4,
          "tSNE-1": -2.6474218368530273,
          "tSNE-2": 44.55052947998047
         },
         {
          "KM-label": 6,
          "digit": 3,
          "tSNE-1": 14.669621467590332,
          "tSNE-2": -28.270355224609375
         },
         {
          "KM-label": 5,
          "digit": 1,
          "tSNE-1": 5.457038402557373,
          "tSNE-2": 2.0170865058898926
         },
         {
          "KM-label": 3,
          "digit": 4,
          "tSNE-1": 5.871527671813965,
          "tSNE-2": 36.727169036865234
         },
         {
          "KM-label": 8,
          "digit": 0,
          "tSNE-1": -39.06545639038086,
          "tSNE-2": -2.1869797706604004
         },
         {
          "KM-label": 9,
          "digit": 5,
          "tSNE-1": -13.007610321044922,
          "tSNE-2": -22.55790901184082
         },
         {
          "KM-label": 6,
          "digit": 3,
          "tSNE-1": 19.6865291595459,
          "tSNE-2": -29.149545669555664
         },
         {
          "KM-label": 7,
          "digit": 6,
          "tSNE-1": -29.37730598449707,
          "tSNE-2": 22.37364959716797
         },
         {
          "KM-label": 1,
          "digit": 9,
          "tSNE-1": -12.053128242492676,
          "tSNE-2": 15.279304504394531
         },
         {
          "KM-label": 7,
          "digit": 6,
          "tSNE-1": -29.50299644470215,
          "tSNE-2": 22.413862228393555
         },
         {
          "KM-label": 5,
          "digit": 1,
          "tSNE-1": 9.083645820617676,
          "tSNE-2": 4.864011287689209
         },
         {
          "KM-label": 3,
          "digit": 7,
          "tSNE-1": 19.04334259033203,
          "tSNE-2": 34.557430267333984
         },
         {
          "KM-label": 9,
          "digit": 5,
          "tSNE-1": -17.785703659057617,
          "tSNE-2": -9.723394393920898
         },
         {
          "KM-label": 0,
          "digit": 4,
          "tSNE-1": -6.421567916870117,
          "tSNE-2": 45.230247497558594
         },
         {
          "KM-label": 3,
          "digit": 4,
          "tSNE-1": 5.287822246551514,
          "tSNE-2": 36.71500778198242
         },
         {
          "KM-label": 3,
          "digit": 7,
          "tSNE-1": 18.72470474243164,
          "tSNE-2": 35.260597229003906
         },
         {
          "KM-label": 2,
          "digit": 2,
          "tSNE-1": 30.9271240234375,
          "tSNE-2": 1.6151931285858154
         },
         {
          "KM-label": 5,
          "digit": 8,
          "tSNE-1": 4.532051086425781,
          "tSNE-2": -6.0596232414245605
         },
         {
          "KM-label": 2,
          "digit": 2,
          "tSNE-1": 30.608198165893555,
          "tSNE-2": 1.4868080615997314
         },
         {
          "KM-label": 2,
          "digit": 2,
          "tSNE-1": 31.42778778076172,
          "tSNE-2": 2.0291860103607178
         },
         {
          "KM-label": 9,
          "digit": 5,
          "tSNE-1": -18.9627742767334,
          "tSNE-2": -8.380145072937012
         },
         {
          "KM-label": 3,
          "digit": 7,
          "tSNE-1": 25.81509780883789,
          "tSNE-2": 26.80265235900879
         },
         {
          "KM-label": 1,
          "digit": 9,
          "tSNE-1": -11.387450218200684,
          "tSNE-2": 15.785890579223633
         },
         {
          "KM-label": 9,
          "digit": 5,
          "tSNE-1": -18.621583938598633,
          "tSNE-2": -5.152806282043457
         },
         {
          "KM-label": 0,
          "digit": 4,
          "tSNE-1": -7.125369548797607,
          "tSNE-2": 44.69795608520508
         },
         {
          "KM-label": 4,
          "digit": 8,
          "tSNE-1": 6.267527103424072,
          "tSNE-2": -14.955296516418457
         },
         {
          "KM-label": 5,
          "digit": 8,
          "tSNE-1": 4.208040714263916,
          "tSNE-2": -4.264852046966553
         },
         {
          "KM-label": 3,
          "digit": 4,
          "tSNE-1": 5.5121684074401855,
          "tSNE-2": 36.722984313964844
         },
         {
          "KM-label": 1,
          "digit": 9,
          "tSNE-1": -10.65151596069336,
          "tSNE-2": 15.81372356414795
         },
         {
          "KM-label": 8,
          "digit": 0,
          "tSNE-1": -37.61145782470703,
          "tSNE-2": -3.5387728214263916
         },
         {
          "KM-label": 4,
          "digit": 8,
          "tSNE-1": 7.95244026184082,
          "tSNE-2": -13.664929389953613
         },
         {
          "KM-label": 1,
          "digit": 9,
          "tSNE-1": -9.859293937683105,
          "tSNE-2": 15.784969329833984
         },
         {
          "KM-label": 5,
          "digit": 8,
          "tSNE-1": 5.418342113494873,
          "tSNE-2": -8.07265567779541
         },
         {
          "KM-label": 8,
          "digit": 0,
          "tSNE-1": -45.933616638183594,
          "tSNE-2": -10.995546340942383
         },
         {
          "KM-label": 5,
          "digit": 1,
          "tSNE-1": 7.868919372558594,
          "tSNE-2": 9.966322898864746
         },
         {
          "KM-label": 2,
          "digit": 2,
          "tSNE-1": 37.128875732421875,
          "tSNE-2": 3.331357479095459
         },
         {
          "KM-label": 6,
          "digit": 3,
          "tSNE-1": 15.248880386352539,
          "tSNE-2": -27.674177169799805
         },
         {
          "KM-label": 0,
          "digit": 4,
          "tSNE-1": -8.361627578735352,
          "tSNE-2": 42.301292419433594
         },
         {
          "KM-label": 9,
          "digit": 5,
          "tSNE-1": -15.430416107177734,
          "tSNE-2": -11.82589054107666
         },
         {
          "KM-label": 7,
          "digit": 6,
          "tSNE-1": -35.09773635864258,
          "tSNE-2": 13.452367782592773
         },
         {
          "KM-label": 3,
          "digit": 7,
          "tSNE-1": 20.90241050720215,
          "tSNE-2": 28.17836570739746
         },
         {
          "KM-label": 7,
          "digit": 8,
          "tSNE-1": 20.218982696533203,
          "tSNE-2": 3.1577091217041016
         },
         {
          "KM-label": 4,
          "digit": 9,
          "tSNE-1": -0.2951977550983429,
          "tSNE-2": -39.98225021362305
         },
         {
          "KM-label": 8,
          "digit": 0,
          "tSNE-1": -47.7260856628418,
          "tSNE-2": -3.4259836673736572
         },
         {
          "KM-label": 5,
          "digit": 1,
          "tSNE-1": 9.454455375671387,
          "tSNE-2": 10.69906997680664
         },
         {
          "KM-label": 2,
          "digit": 2,
          "tSNE-1": 37.92689895629883,
          "tSNE-2": 1.982744812965393
         },
         {
          "KM-label": 6,
          "digit": 3,
          "tSNE-1": 17.0534610748291,
          "tSNE-2": -29.491004943847656
         },
         {
          "KM-label": 0,
          "digit": 4,
          "tSNE-1": -6.680491924285889,
          "tSNE-2": 40.865379333496094
         },
         {
          "KM-label": 9,
          "digit": 5,
          "tSNE-1": -15.822425842285156,
          "tSNE-2": -6.195993900299072
         },
         {
          "KM-label": 8,
          "digit": 6,
          "tSNE-1": -35.47825241088867,
          "tSNE-2": 12.983086585998535
         },
         {
          "KM-label": 3,
          "digit": 7,
          "tSNE-1": 27.2274112701416,
          "tSNE-2": 28.547897338867188
         },
         {
          "KM-label": 1,
          "digit": 8,
          "tSNE-1": -2.618494987487793,
          "tSNE-2": 8.69315242767334
         },
         {
          "KM-label": 4,
          "digit": 9,
          "tSNE-1": -8.362515449523926,
          "tSNE-2": -40.35332489013672
         },
         {
          "KM-label": 8,
          "digit": 0,
          "tSNE-1": -44.378726959228516,
          "tSNE-2": -11.310443878173828
         },
         {
          "KM-label": 5,
          "digit": 1,
          "tSNE-1": 9.623222351074219,
          "tSNE-2": 8.7775297164917
         },
         {
          "KM-label": 2,
          "digit": 2,
          "tSNE-1": 36.881439208984375,
          "tSNE-2": 4.986554145812988
         },
         {
          "KM-label": 6,
          "digit": 3,
          "tSNE-1": 17.396076202392578,
          "tSNE-2": -31.184215545654297
         },
         {
          "KM-label": 0,
          "digit": 4,
          "tSNE-1": -6.50554895401001,
          "tSNE-2": 43.08740997314453
         },
         {
          "KM-label": 9,
          "digit": 5,
          "tSNE-1": -16.54001808166504,
          "tSNE-2": -6.640271186828613
         },
         {
          "KM-label": 7,
          "digit": 6,
          "tSNE-1": -32.74089431762695,
          "tSNE-2": 15.007619857788086
         },
         {
          "KM-label": 3,
          "digit": 7,
          "tSNE-1": 26.49918556213379,
          "tSNE-2": 29.459381103515625
         },
         {
          "KM-label": 5,
          "digit": 8,
          "tSNE-1": 5.223203182220459,
          "tSNE-2": -6.62633752822876
         },
         {
          "KM-label": 4,
          "digit": 9,
          "tSNE-1": 0.0005105822347104549,
          "tSNE-2": -38.32457733154297
         },
         {
          "KM-label": 8,
          "digit": 0,
          "tSNE-1": -44.29344177246094,
          "tSNE-2": -8.602872848510742
         },
         {
          "KM-label": 4,
          "digit": 9,
          "tSNE-1": -7.899802207946777,
          "tSNE-2": -39.859771728515625
         },
         {
          "KM-label": 9,
          "digit": 5,
          "tSNE-1": -13.245034217834473,
          "tSNE-2": -11.351517677307129
         },
         {
          "KM-label": 9,
          "digit": 5,
          "tSNE-1": -17.95394515991211,
          "tSNE-2": -8.214797973632812
         },
         {
          "KM-label": 7,
          "digit": 6,
          "tSNE-1": -36.74513244628906,
          "tSNE-2": 30.230669021606445
         },
         {
          "KM-label": 9,
          "digit": 5,
          "tSNE-1": -15.227727890014648,
          "tSNE-2": -11.57262897491455
         },
         {
          "KM-label": 8,
          "digit": 0,
          "tSNE-1": -43.572837829589844,
          "tSNE-2": -8.896668434143066
         },
         {
          "KM-label": 4,
          "digit": 9,
          "tSNE-1": 7.553615093231201,
          "tSNE-2": -26.060976028442383
         },
         {
          "KM-label": 4,
          "digit": 8,
          "tSNE-1": 4.464187145233154,
          "tSNE-2": -17.32870101928711
         },
         {
          "KM-label": 4,
          "digit": 9,
          "tSNE-1": -6.988320827484131,
          "tSNE-2": -37.70597839355469
         },
         {
          "KM-label": 4,
          "digit": 8,
          "tSNE-1": 0.5443747043609619,
          "tSNE-2": -15.986441612243652
         },
         {
          "KM-label": 0,
          "digit": 4,
          "tSNE-1": -7.490301609039307,
          "tSNE-2": 37.48562240600586
         },
         {
          "KM-label": 5,
          "digit": 1,
          "tSNE-1": 9.31892204284668,
          "tSNE-2": 1.8823975324630737
         },
         {
          "KM-label": 3,
          "digit": 7,
          "tSNE-1": 31.308391571044922,
          "tSNE-2": 28.795499801635742
         },
         {
          "KM-label": 3,
          "digit": 7,
          "tSNE-1": 20.430418014526367,
          "tSNE-2": 28.743255615234375
         },
         {
          "KM-label": 6,
          "digit": 3,
          "tSNE-1": 18.086105346679688,
          "tSNE-2": -27.66527557373047
         },
         {
          "KM-label": 9,
          "digit": 5,
          "tSNE-1": -15.366617202758789,
          "tSNE-2": -10.747045516967773
         },
         {
          "KM-label": 5,
          "digit": 1,
          "tSNE-1": 8.159103393554688,
          "tSNE-2": 4.0230207443237305
         },
         {
          "KM-label": 8,
          "digit": 0,
          "tSNE-1": -40.74834060668945,
          "tSNE-2": 2.9216554164886475
         },
         {
          "KM-label": 8,
          "digit": 0,
          "tSNE-1": -42.38329315185547,
          "tSNE-2": -11.686908721923828
         },
         {
          "KM-label": 2,
          "digit": 2,
          "tSNE-1": 33.626564025878906,
          "tSNE-2": 3.6788320541381836
         },
         {
          "KM-label": 2,
          "digit": 2,
          "tSNE-1": 39.762943267822266,
          "tSNE-2": 5.273405075073242
         },
         {
          "KM-label": 3,
          "digit": 7,
          "tSNE-1": 31.74883460998535,
          "tSNE-2": 29.88882827758789
         },
         {
          "KM-label": 1,
          "digit": 8,
          "tSNE-1": 0.31164196133613586,
          "tSNE-2": -16.00229835510254
         },
         {
          "KM-label": 2,
          "digit": 2,
          "tSNE-1": 36.29319381713867,
          "tSNE-2": 4.884018421173096
         },
         {
          "KM-label": 8,
          "digit": 0,
          "tSNE-1": -35.688961029052734,
          "tSNE-2": -6.4618377685546875
         },
         {
          "KM-label": 2,
          "digit": 1,
          "tSNE-1": 50.593406677246094,
          "tSNE-2": 1.0306873321533203
         },
         {
          "KM-label": 2,
          "digit": 2,
          "tSNE-1": 41.4910774230957,
          "tSNE-2": 0.708745539188385
         },
         {
          "KM-label": 7,
          "digit": 6,
          "tSNE-1": -29.621248245239258,
          "tSNE-2": 17.768199920654297
         },
         {
          "KM-label": 6,
          "digit": 3,
          "tSNE-1": 17.94369125366211,
          "tSNE-2": -27.20780372619629
         },
         {
          "KM-label": 6,
          "digit": 3,
          "tSNE-1": 18.087371826171875,
          "tSNE-2": -27.020998001098633
         },
         {
          "KM-label": 3,
          "digit": 7,
          "tSNE-1": 25.98331642150879,
          "tSNE-2": 30.13973617553711
         },
         {
          "KM-label": 6,
          "digit": 3,
          "tSNE-1": 23.773162841796875,
          "tSNE-2": -29.380727767944336
         },
         {
          "KM-label": 6,
          "digit": 3,
          "tSNE-1": 23.560033798217773,
          "tSNE-2": -28.66302490234375
         },
         {
          "KM-label": 0,
          "digit": 4,
          "tSNE-1": -5.4323039054870605,
          "tSNE-2": 41.255699157714844
         },
         {
          "KM-label": 7,
          "digit": 6,
          "tSNE-1": -30.56854248046875,
          "tSNE-2": 16.039438247680664
         },
         {
          "KM-label": 7,
          "digit": 6,
          "tSNE-1": -36.87519454956055,
          "tSNE-2": 30.328697204589844
         },
         {
          "KM-label": 7,
          "digit": 6,
          "tSNE-1": -35.16398620605469,
          "tSNE-2": 13.404995918273926
         },
         {
          "KM-label": 0,
          "digit": 4,
          "tSNE-1": -6.72674036026001,
          "tSNE-2": 42.43230438232422
         },
         {
          "KM-label": 4,
          "digit": 9,
          "tSNE-1": -0.0035984686110168695,
          "tSNE-2": -38.65823745727539
         },
         {
          "KM-label": 5,
          "digit": 1,
          "tSNE-1": 11.519423484802246,
          "tSNE-2": 5.224365234375
         },
         {
          "KM-label": 9,
          "digit": 5,
          "tSNE-1": -13.287381172180176,
          "tSNE-2": -11.13381290435791
         },
         {
          "KM-label": 8,
          "digit": 0,
          "tSNE-1": -36.8469352722168,
          "tSNE-2": -1.9927353858947754
         },
         {
          "KM-label": 4,
          "digit": 9,
          "tSNE-1": -1.6503674983978271,
          "tSNE-2": -34.27397155761719
         },
         {
          "KM-label": 9,
          "digit": 5,
          "tSNE-1": -13.862876892089844,
          "tSNE-2": -10.388009071350098
         },
         {
          "KM-label": 2,
          "digit": 2,
          "tSNE-1": 37.67059326171875,
          "tSNE-2": 5.437739372253418
         },
         {
          "KM-label": 5,
          "digit": 8,
          "tSNE-1": 3.260744094848633,
          "tSNE-2": -11.465142250061035
         },
         {
          "KM-label": 2,
          "digit": 2,
          "tSNE-1": 39.30671691894531,
          "tSNE-2": 5.069946765899658
         },
         {
          "KM-label": 8,
          "digit": 0,
          "tSNE-1": -35.19611740112305,
          "tSNE-2": -1.3667484521865845
         },
         {
          "KM-label": 8,
          "digit": 0,
          "tSNE-1": -43.7056770324707,
          "tSNE-2": -6.220071315765381
         },
         {
          "KM-label": 5,
          "digit": 1,
          "tSNE-1": 5.4847941398620605,
          "tSNE-2": 4.395815372467041
         },
         {
          "KM-label": 3,
          "digit": 7,
          "tSNE-1": 25.95357322692871,
          "tSNE-2": 30.65146255493164
         },
         {
          "KM-label": 7,
          "digit": 6,
          "tSNE-1": -36.975032806396484,
          "tSNE-2": 28.272361755371094
         },
         {
          "KM-label": 6,
          "digit": 3,
          "tSNE-1": 21.07796287536621,
          "tSNE-2": -27.905885696411133
         },
         {
          "KM-label": 3,
          "digit": 2,
          "tSNE-1": 30.432287216186523,
          "tSNE-2": -4.295072555541992
         },
         {
          "KM-label": 5,
          "digit": 1,
          "tSNE-1": 8.391550064086914,
          "tSNE-2": 5.9023518562316895
         },
         {
          "KM-label": 3,
          "digit": 7,
          "tSNE-1": 22.8369140625,
          "tSNE-2": 32.41952133178711
         },
         {
          "KM-label": 0,
          "digit": 4,
          "tSNE-1": -9.291522026062012,
          "tSNE-2": 35.1821403503418
         },
         {
          "KM-label": 7,
          "digit": 6,
          "tSNE-1": -33.92312240600586,
          "tSNE-2": 14.557869911193848
         },
         {
          "KM-label": 6,
          "digit": 3,
          "tSNE-1": 15.735097885131836,
          "tSNE-2": -29.788135528564453
         },
         {
          "KM-label": 5,
          "digit": 1,
          "tSNE-1": 7.154794216156006,
          "tSNE-2": 7.092013359069824
         },
         {
          "KM-label": 6,
          "digit": 3,
          "tSNE-1": 16.69502067565918,
          "tSNE-2": -30.8288516998291
         },
         {
          "KM-label": 4,
          "digit": 9,
          "tSNE-1": -7.613656997680664,
          "tSNE-2": -39.656761169433594
         },
         {
          "KM-label": 5,
          "digit": 1,
          "tSNE-1": 6.562743663787842,
          "tSNE-2": 7.339442253112793
         },
         {
          "KM-label": 3,
          "digit": 7,
          "tSNE-1": 31.24080467224121,
          "tSNE-2": 29.487045288085938
         },
         {
          "KM-label": 7,
          "digit": 6,
          "tSNE-1": -35.73430252075195,
          "tSNE-2": 27.411954879760742
         },
         {
          "KM-label": 2,
          "digit": 8,
          "tSNE-1": 20.288471221923828,
          "tSNE-2": 3.0786173343658447
         },
         {
          "KM-label": 0,
          "digit": 4,
          "tSNE-1": -7.841091156005859,
          "tSNE-2": 42.80723571777344
         },
         {
          "KM-label": 6,
          "digit": 3,
          "tSNE-1": 15.794286727905273,
          "tSNE-2": -30.71259307861328
         },
         {
          "KM-label": 5,
          "digit": 1,
          "tSNE-1": 8.397625923156738,
          "tSNE-2": 8.292452812194824
         },
         {
          "KM-label": 0,
          "digit": 4,
          "tSNE-1": -11.367713928222656,
          "tSNE-2": 38.297996520996094
         },
         {
          "KM-label": 8,
          "digit": 0,
          "tSNE-1": -42.45123291015625,
          "tSNE-2": -8.185691833496094
         },
         {
          "KM-label": 9,
          "digit": 5,
          "tSNE-1": -14.187341690063477,
          "tSNE-2": -11.927176475524902
         },
         {
          "KM-label": 6,
          "digit": 3,
          "tSNE-1": 22.10118865966797,
          "tSNE-2": -26.698196411132812
         },
         {
          "KM-label": 7,
          "digit": 6,
          "tSNE-1": -30.804208755493164,
          "tSNE-2": 18.79415512084961
         },
         {
          "KM-label": 4,
          "digit": 9,
          "tSNE-1": 1.409801959991455,
          "tSNE-2": -38.767494201660156
         },
         {
          "KM-label": 7,
          "digit": 6,
          "tSNE-1": -29.847869873046875,
          "tSNE-2": 28.772016525268555
         },
         {
          "KM-label": 5,
          "digit": 1,
          "tSNE-1": 11.487879753112793,
          "tSNE-2": 5.7078680992126465
         },
         {
          "KM-label": 3,
          "digit": 7,
          "tSNE-1": 27.40640640258789,
          "tSNE-2": 30.507587432861328
         },
         {
          "KM-label": 9,
          "digit": 5,
          "tSNE-1": -17.025035858154297,
          "tSNE-2": -7.644759654998779
         },
         {
          "KM-label": 0,
          "digit": 4,
          "tSNE-1": -6.647773742675781,
          "tSNE-2": 42.81169509887695
         },
         {
          "KM-label": 0,
          "digit": 4,
          "tSNE-1": -7.081364631652832,
          "tSNE-2": 36.44322204589844
         },
         {
          "KM-label": 3,
          "digit": 7,
          "tSNE-1": 26.096773147583008,
          "tSNE-2": 30.304567337036133
         },
         {
          "KM-label": 2,
          "digit": 2,
          "tSNE-1": 38.3447151184082,
          "tSNE-2": 5.389459133148193
         },
         {
          "KM-label": 1,
          "digit": 8,
          "tSNE-1": -0.367792010307312,
          "tSNE-2": -14.107234954833984
         },
         {
          "KM-label": 3,
          "digit": 2,
          "tSNE-1": 28.70946502685547,
          "tSNE-2": -5.829579830169678
         },
         {
          "KM-label": 2,
          "digit": 2,
          "tSNE-1": 32.217567443847656,
          "tSNE-2": 1.8112105131149292
         },
         {
          "KM-label": 9,
          "digit": 5,
          "tSNE-1": -14.466923713684082,
          "tSNE-2": -13.273882865905762
         },
         {
          "KM-label": 3,
          "digit": 7,
          "tSNE-1": 30.59919548034668,
          "tSNE-2": 23.84441375732422
         },
         {
          "KM-label": 4,
          "digit": 9,
          "tSNE-1": -7.621103286743164,
          "tSNE-2": -38.535152435302734
         },
         {
          "KM-label": 9,
          "digit": 5,
          "tSNE-1": -16.101154327392578,
          "tSNE-2": -6.751197814941406
         },
         {
          "KM-label": 0,
          "digit": 4,
          "tSNE-1": -8.272604942321777,
          "tSNE-2": 42.23527145385742
         },
         {
          "KM-label": 1,
          "digit": 8,
          "tSNE-1": -0.18467330932617188,
          "tSNE-2": -14.317835807800293
         },
         {
          "KM-label": 4,
          "digit": 8,
          "tSNE-1": 12.671124458312988,
          "tSNE-2": -10.19437313079834
         },
         {
          "KM-label": 0,
          "digit": 4,
          "tSNE-1": -10.673907279968262,
          "tSNE-2": 37.69007873535156
         },
         {
          "KM-label": 4,
          "digit": 9,
          "tSNE-1": -7.842478275299072,
          "tSNE-2": -38.2458610534668
         },
         {
          "KM-label": 8,
          "digit": 0,
          "tSNE-1": -40.34086990356445,
          "tSNE-2": -6.068667888641357
         },
         {
          "KM-label": 5,
          "digit": 8,
          "tSNE-1": -0.4106137752532959,
          "tSNE-2": -13.898131370544434
         },
         {
          "KM-label": 4,
          "digit": 9,
          "tSNE-1": -4.907020092010498,
          "tSNE-2": -39.76857376098633
         },
         {
          "KM-label": 5,
          "digit": 8,
          "tSNE-1": 20.035497665405273,
          "tSNE-2": 3.2365617752075195
         },
         {
          "KM-label": 2,
          "digit": 1,
          "tSNE-1": 51.015647888183594,
          "tSNE-2": 1.0404057502746582
         },
         {
          "KM-label": 2,
          "digit": 2,
          "tSNE-1": 36.593990325927734,
          "tSNE-2": -0.6702731847763062
         },
         {
          "KM-label": 6,
          "digit": 3,
          "tSNE-1": 15.568222045898438,
          "tSNE-2": -35.81481170654297
         },
         {
          "KM-label": 0,
          "digit": 4,
          "tSNE-1": -7.568742275238037,
          "tSNE-2": 34.13484573364258
         },
         {
          "KM-label": 9,
          "digit": 5,
          "tSNE-1": -18.110401153564453,
          "tSNE-2": -23.632118225097656
         },
         {
          "KM-label": 7,
          "digit": 6,
          "tSNE-1": -28.77723503112793,
          "tSNE-2": 30.93996238708496
         },
         {
          "KM-label": 3,
          "digit": 7,
          "tSNE-1": 17.506650924682617,
          "tSNE-2": 26.397659301757812
         },
         {
          "KM-label": 4,
          "digit": 8,
          "tSNE-1": 9.052878379821777,
          "tSNE-2": -14.334851264953613
         },
         {
          "KM-label": 4,
          "digit": 9,
          "tSNE-1": 1.9059405326843262,
          "tSNE-2": -41.81896209716797
         },
         {
          "KM-label": 8,
          "digit": 0,
          "tSNE-1": -46.370662689208984,
          "tSNE-2": -6.861922740936279
         },
         {
          "KM-label": 2,
          "digit": 1,
          "tSNE-1": 50.82185363769531,
          "tSNE-2": 0.8600465655326843
         },
         {
          "KM-label": 2,
          "digit": 2,
          "tSNE-1": 41.51413345336914,
          "tSNE-2": 3.473651885986328
         },
         {
          "KM-label": 6,
          "digit": 3,
          "tSNE-1": 14.678407669067383,
          "tSNE-2": -33.18486785888672
         },
         {
          "KM-label": 0,
          "digit": 4,
          "tSNE-1": -7.9710211753845215,
          "tSNE-2": 33.94618606567383
         },
         {
          "KM-label": 4,
          "digit": 5,
          "tSNE-1": -16.534709930419922,
          "tSNE-2": -28.229473114013672
         },
         {
          "KM-label": 7,
          "digit": 6,
          "tSNE-1": -29.489891052246094,
          "tSNE-2": 29.440927505493164
         },
         {
          "KM-label": 3,
          "digit": 7,
          "tSNE-1": 19.080236434936523,
          "tSNE-2": 25.012393951416016
         },
         {
          "KM-label": 4,
          "digit": 8,
          "tSNE-1": 8.811819076538086,
          "tSNE-2": -15.49051570892334
         },
         {
          "KM-label": 4,
          "digit": 9,
          "tSNE-1": 0.1022198423743248,
          "tSNE-2": -41.29327392578125
         },
         {
          "KM-label": 8,
          "digit": 0,
          "tSNE-1": -45.9598388671875,
          "tSNE-2": -6.489230632781982
         },
         {
          "KM-label": 2,
          "digit": 1,
          "tSNE-1": 50.68638229370117,
          "tSNE-2": 1.3420231342315674
         },
         {
          "KM-label": 2,
          "digit": 2,
          "tSNE-1": 37.385406494140625,
          "tSNE-2": -1.8568364381790161
         },
         {
          "KM-label": 6,
          "digit": 3,
          "tSNE-1": 12.950701713562012,
          "tSNE-2": -32.9970703125
         },
         {
          "KM-label": 0,
          "digit": 4,
          "tSNE-1": -3.967435121536255,
          "tSNE-2": 32.79805374145508
         },
         {
          "KM-label": 4,
          "digit": 5,
          "tSNE-1": -15.938474655151367,
          "tSNE-2": -30.042390823364258
         },
         {
          "KM-label": 7,
          "digit": 6,
          "tSNE-1": -31.726070404052734,
          "tSNE-2": 29.881681442260742
         },
         {
          "KM-label": 3,
          "digit": 7,
          "tSNE-1": 17.408000946044922,
          "tSNE-2": 26.879329681396484
         },
         {
          "KM-label": 4,
          "digit": 8,
          "tSNE-1": 9.311477661132812,
          "tSNE-2": -15.191890716552734
         },
         {
          "KM-label": 4,
          "digit": 9,
          "tSNE-1": 0.9833118319511414,
          "tSNE-2": -41.88535690307617
         },
         {
          "KM-label": 8,
          "digit": 0,
          "tSNE-1": -42.01648712158203,
          "tSNE-2": -4.38263463973999
         },
         {
          "KM-label": 4,
          "digit": 9,
          "tSNE-1": -2.916858196258545,
          "tSNE-2": -39.34854507446289
         },
         {
          "KM-label": 4,
          "digit": 5,
          "tSNE-1": -15.391334533691406,
          "tSNE-2": -28.947317123413086
         },
         {
          "KM-label": 4,
          "digit": 5,
          "tSNE-1": -16.624427795410156,
          "tSNE-2": -26.557119369506836
         },
         {
          "KM-label": 7,
          "digit": 6,
          "tSNE-1": -33.67039489746094,
          "tSNE-2": 26.06202507019043
         },
         {
          "KM-label": 4,
          "digit": 5,
          "tSNE-1": -15.833260536193848,
          "tSNE-2": -29.63846778869629
         },
         {
          "KM-label": 8,
          "digit": 0,
          "tSNE-1": -45.224185943603516,
          "tSNE-2": -6.80339241027832
         },
         {
          "KM-label": 4,
          "digit": 9,
          "tSNE-1": 1.1281410455703735,
          "tSNE-2": -40.297393798828125
         },
         {
          "KM-label": 4,
          "digit": 8,
          "tSNE-1": 8.409449577331543,
          "tSNE-2": -14.778854370117188
         },
         {
          "KM-label": 4,
          "digit": 9,
          "tSNE-1": -1.1322760581970215,
          "tSNE-2": -41.01028823852539
         },
         {
          "KM-label": 5,
          "digit": 8,
          "tSNE-1": 5.46006441116333,
          "tSNE-2": -13.407890319824219
         },
         {
          "KM-label": 0,
          "digit": 4,
          "tSNE-1": -1.4857194423675537,
          "tSNE-2": 34.92000961303711
         },
         {
          "KM-label": 6,
          "digit": 1,
          "tSNE-1": 54.17932891845703,
          "tSNE-2": -1.0331335067749023
         },
         {
          "KM-label": 3,
          "digit": 7,
          "tSNE-1": 19.795686721801758,
          "tSNE-2": 25.351350784301758
         },
         {
          "KM-label": 3,
          "digit": 7,
          "tSNE-1": 16.40709114074707,
          "tSNE-2": 28.473121643066406
         },
         {
          "KM-label": 6,
          "digit": 3,
          "tSNE-1": 13.521868705749512,
          "tSNE-2": -32.94367599487305
         },
         {
          "KM-label": 4,
          "digit": 5,
          "tSNE-1": -14.956008911132812,
          "tSNE-2": -30.312040328979492
         },
         {
          "KM-label": 2,
          "digit": 1,
          "tSNE-1": 52.54353713989258,
          "tSNE-2": -0.5368653535842896
         },
         {
          "KM-label": 2,
          "digit": 2,
          "tSNE-1": 38.24839401245117,
          "tSNE-2": -2.4805760383605957
         },
         {
          "KM-label": 3,
          "digit": 7,
          "tSNE-1": 19.28562355041504,
          "tSNE-2": 25.22069549560547
         },
         {
          "KM-label": 4,
          "digit": 8,
          "tSNE-1": 8.648963928222656,
          "tSNE-2": -15.919836044311523
         },
         {
          "KM-label": 2,
          "digit": 2,
          "tSNE-1": 38.4496955871582,
          "tSNE-2": -7.658350467681885
         },
         {
          "KM-label": 8,
          "digit": 0,
          "tSNE-1": -44.21821975708008,
          "tSNE-2": -6.078652381896973
         },
         {
          "KM-label": 2,
          "digit": 1,
          "tSNE-1": 52.10280227661133,
          "tSNE-2": -0.10589376837015152
         },
         {
          "KM-label": 2,
          "digit": 2,
          "tSNE-1": 37.92229461669922,
          "tSNE-2": -5.039858818054199
         },
         {
          "KM-label": 7,
          "digit": 6,
          "tSNE-1": -28.769264221191406,
          "tSNE-2": 30.961292266845703
         },
         {
          "KM-label": 6,
          "digit": 3,
          "tSNE-1": 15.866813659667969,
          "tSNE-2": -32.50098419189453
         },
         {
          "KM-label": 6,
          "digit": 3,
          "tSNE-1": 14.97060775756836,
          "tSNE-2": -33.40348434448242
         },
         {
          "KM-label": 3,
          "digit": 7,
          "tSNE-1": 17.780900955200195,
          "tSNE-2": 25.68190574645996
         },
         {
          "KM-label": 6,
          "digit": 3,
          "tSNE-1": 14.938878059387207,
          "tSNE-2": -36.80183410644531
         },
         {
          "KM-label": 6,
          "digit": 3,
          "tSNE-1": 13.139664649963379,
          "tSNE-2": -35.549354553222656
         },
         {
          "KM-label": 0,
          "digit": 4,
          "tSNE-1": -3.15997576713562,
          "tSNE-2": 32.75946807861328
         },
         {
          "KM-label": 7,
          "digit": 6,
          "tSNE-1": -34.144039154052734,
          "tSNE-2": 25.974281311035156
         },
         {
          "KM-label": 7,
          "digit": 6,
          "tSNE-1": -33.40022659301758,
          "tSNE-2": 26.826133728027344
         },
         {
          "KM-label": 7,
          "digit": 6,
          "tSNE-1": -31.056100845336914,
          "tSNE-2": 28.585845947265625
         },
         {
          "KM-label": 0,
          "digit": 4,
          "tSNE-1": -4.048318862915039,
          "tSNE-2": 32.77561569213867
         },
         {
          "KM-label": 4,
          "digit": 9,
          "tSNE-1": 2.0884625911712646,
          "tSNE-2": -41.29335403442383
         },
         {
          "KM-label": 2,
          "digit": 1,
          "tSNE-1": 53.80455780029297,
          "tSNE-2": -0.7816213369369507
         },
         {
          "KM-label": 4,
          "digit": 5,
          "tSNE-1": -16.500577926635742,
          "tSNE-2": -26.910600662231445
         },
         {
          "KM-label": 8,
          "digit": 0,
          "tSNE-1": -45.73997497558594,
          "tSNE-2": -6.55581521987915
         },
         {
          "KM-label": 4,
          "digit": 9,
          "tSNE-1": 1.766152262687683,
          "tSNE-2": -41.85260009765625
         },
         {
          "KM-label": 4,
          "digit": 5,
          "tSNE-1": -15.94340991973877,
          "tSNE-2": -28.089181900024414
         },
         {
          "KM-label": 2,
          "digit": 2,
          "tSNE-1": 37.834232330322266,
          "tSNE-2": -7.6937384605407715
         },
         {
          "KM-label": 4,
          "digit": 8,
          "tSNE-1": 6.50113582611084,
          "tSNE-2": -14.261088371276855
         },
         {
          "KM-label": 2,
          "digit": 2,
          "tSNE-1": 38.23429870605469,
          "tSNE-2": -7.250326633453369
         },
         {
          "KM-label": 8,
          "digit": 0,
          "tSNE-1": -45.99783706665039,
          "tSNE-2": -10.990862846374512
         },
         {
          "KM-label": 8,
          "digit": 0,
          "tSNE-1": -45.83283233642578,
          "tSNE-2": -3.949150562286377
         },
         {
          "KM-label": 2,
          "digit": 1,
          "tSNE-1": 52.586917877197266,
          "tSNE-2": -0.4071624279022217
         },
         {
          "KM-label": 3,
          "digit": 7,
          "tSNE-1": 21.248550415039062,
          "tSNE-2": 28.69505500793457
         },
         {
          "KM-label": 7,
          "digit": 6,
          "tSNE-1": -31.774389266967773,
          "tSNE-2": 28.837615966796875
         },
         {
          "KM-label": 6,
          "digit": 3,
          "tSNE-1": 14.71364974975586,
          "tSNE-2": -37.23926544189453
         },
         {
          "KM-label": 2,
          "digit": 2,
          "tSNE-1": 39.00578689575195,
          "tSNE-2": -1.1175553798675537
         },
         {
          "KM-label": 2,
          "digit": 1,
          "tSNE-1": 51.08140563964844,
          "tSNE-2": 1.024152398109436
         },
         {
          "KM-label": 0,
          "digit": 4,
          "tSNE-1": -12.505170822143555,
          "tSNE-2": 36.72581100463867
         },
         {
          "KM-label": 7,
          "digit": 6,
          "tSNE-1": -32.016822814941406,
          "tSNE-2": 22.269187927246094
         },
         {
          "KM-label": 6,
          "digit": 3,
          "tSNE-1": 15.908537864685059,
          "tSNE-2": -35.72541046142578
         },
         {
          "KM-label": 2,
          "digit": 1,
          "tSNE-1": 52.596492767333984,
          "tSNE-2": -0.09998929500579834
         },
         {
          "KM-label": 6,
          "digit": 3,
          "tSNE-1": 13.908048629760742,
          "tSNE-2": -36.849246978759766
         },
         {
          "KM-label": 4,
          "digit": 9,
          "tSNE-1": 1.186855673789978,
          "tSNE-2": -40.21955490112305
         },
         {
          "KM-label": 2,
          "digit": 1,
          "tSNE-1": 53.5509147644043,
          "tSNE-2": -0.7498238682746887
         },
         {
          "KM-label": 3,
          "digit": 7,
          "tSNE-1": 17.78167152404785,
          "tSNE-2": 25.732534408569336
         },
         {
          "KM-label": 7,
          "digit": 6,
          "tSNE-1": -35.00342559814453,
          "tSNE-2": 24.207843780517578
         },
         {
          "KM-label": 4,
          "digit": 8,
          "tSNE-1": 3.389024019241333,
          "tSNE-2": -16.4491024017334
         },
         {
          "KM-label": 0,
          "digit": 4,
          "tSNE-1": -3.0906596183776855,
          "tSNE-2": 32.744483947753906
         },
         {
          "KM-label": 6,
          "digit": 3,
          "tSNE-1": 16.397085189819336,
          "tSNE-2": -32.040645599365234
         },
         {
          "KM-label": 2,
          "digit": 1,
          "tSNE-1": 53.575843811035156,
          "tSNE-2": -0.9412528872489929
         },
         {
          "KM-label": 0,
          "digit": 4,
          "tSNE-1": -8.795862197875977,
          "tSNE-2": 32.53308868408203
         },
         {
          "KM-label": 8,
          "digit": 0,
          "tSNE-1": -44.4199333190918,
          "tSNE-2": -6.697996616363525
         },
         {
          "KM-label": 9,
          "digit": 5,
          "tSNE-1": -17.877967834472656,
          "tSNE-2": -22.680545806884766
         },
         {
          "KM-label": 6,
          "digit": 3,
          "tSNE-1": 13.230937957763672,
          "tSNE-2": -35.484107971191406
         },
         {
          "KM-label": 7,
          "digit": 6,
          "tSNE-1": -32.7586555480957,
          "tSNE-2": 28.803850173950195
         },
         {
          "KM-label": 4,
          "digit": 9,
          "tSNE-1": -0.3232786953449249,
          "tSNE-2": -41.89590072631836
         },
         {
          "KM-label": 7,
          "digit": 6,
          "tSNE-1": -34.43095779418945,
          "tSNE-2": 28.76423454284668
         },
         {
          "KM-label": 2,
          "digit": 1,
          "tSNE-1": 51.827213287353516,
          "tSNE-2": 0.19713962078094482
         },
         {
          "KM-label": 3,
          "digit": 7,
          "tSNE-1": 17.14866065979004,
          "tSNE-2": 26.888355255126953
         },
         {
          "KM-label": 4,
          "digit": 5,
          "tSNE-1": -15.577877044677734,
          "tSNE-2": -29.117591857910156
         },
         {
          "KM-label": 0,
          "digit": 4,
          "tSNE-1": -6.996549129486084,
          "tSNE-2": 33.871856689453125
         },
         {
          "KM-label": 0,
          "digit": 4,
          "tSNE-1": -1.0582358837127686,
          "tSNE-2": 34.26526641845703
         },
         {
          "KM-label": 3,
          "digit": 7,
          "tSNE-1": 20.290605545043945,
          "tSNE-2": 25.800058364868164
         },
         {
          "KM-label": 2,
          "digit": 2,
          "tSNE-1": 37.422794342041016,
          "tSNE-2": -5.127992630004883
         },
         {
          "KM-label": 4,
          "digit": 8,
          "tSNE-1": 9.583600044250488,
          "tSNE-2": -15.362569808959961
         },
         {
          "KM-label": 2,
          "digit": 2,
          "tSNE-1": 38.48715591430664,
          "tSNE-2": -8.045083999633789
         },
         {
          "KM-label": 2,
          "digit": 2,
          "tSNE-1": 41.071044921875,
          "tSNE-2": -1.7902624607086182
         },
         {
          "KM-label": 4,
          "digit": 5,
          "tSNE-1": -15.651788711547852,
          "tSNE-2": -29.37681770324707
         },
         {
          "KM-label": 3,
          "digit": 7,
          "tSNE-1": 18.730846405029297,
          "tSNE-2": 26.66793441772461
         },
         {
          "KM-label": 4,
          "digit": 9,
          "tSNE-1": -2.4353132247924805,
          "tSNE-2": -39.55034637451172
         },
         {
          "KM-label": 4,
          "digit": 5,
          "tSNE-1": -14.955453872680664,
          "tSNE-2": -26.833871841430664
         },
         {
          "KM-label": 0,
          "digit": 4,
          "tSNE-1": 0.2880822718143463,
          "tSNE-2": 34.15190124511719
         },
         {
          "KM-label": 0,
          "digit": 4,
          "tSNE-1": 0.10089980810880661,
          "tSNE-2": 36.24832534790039
         },
         {
          "KM-label": 4,
          "digit": 9,
          "tSNE-1": 2.6272804737091064,
          "tSNE-2": -28.630603790283203
         },
         {
          "KM-label": 8,
          "digit": 0,
          "tSNE-1": -47.04216003417969,
          "tSNE-2": -6.847784996032715
         },
         {
          "KM-label": 4,
          "digit": 8,
          "tSNE-1": 4.585214614868164,
          "tSNE-2": -16.642154693603516
         },
         {
          "KM-label": 4,
          "digit": 9,
          "tSNE-1": -0.26356077194213867,
          "tSNE-2": -41.51713180541992
         },
         {
          "KM-label": 4,
          "digit": 8,
          "tSNE-1": 8.020201683044434,
          "tSNE-2": -14.549833297729492
         },
         {
          "KM-label": 8,
          "digit": 0,
          "tSNE-1": -41.73619079589844,
          "tSNE-2": -7.698004245758057
         },
         {
          "KM-label": 5,
          "digit": 1,
          "tSNE-1": 10.297816276550293,
          "tSNE-2": 2.455181121826172
         },
         {
          "KM-label": 2,
          "digit": 2,
          "tSNE-1": 38.562339782714844,
          "tSNE-2": 1.7321910858154297
         },
         {
          "KM-label": 6,
          "digit": 3,
          "tSNE-1": 18.218219757080078,
          "tSNE-2": -35.49147415161133
         },
         {
          "KM-label": 0,
          "digit": 4,
          "tSNE-1": 0.04123575612902641,
          "tSNE-2": 34.79616165161133
         },
         {
          "KM-label": 9,
          "digit": 5,
          "tSNE-1": -17.375015258789062,
          "tSNE-2": -13.873238563537598
         },
         {
          "KM-label": 7,
          "digit": 6,
          "tSNE-1": -32.248443603515625,
          "tSNE-2": 29.794734954833984
         },
         {
          "KM-label": 3,
          "digit": 7,
          "tSNE-1": 22.44556999206543,
          "tSNE-2": 25.0478572845459
         },
         {
          "KM-label": 3,
          "digit": 8,
          "tSNE-1": 2.8948721885681152,
          "tSNE-2": -7.676944255828857
         },
         {
          "KM-label": 6,
          "digit": 9,
          "tSNE-1": 8.385005950927734,
          "tSNE-2": -34.18336868286133
         },
         {
          "KM-label": 8,
          "digit": 0,
          "tSNE-1": -42.752891540527344,
          "tSNE-2": -2.416433095932007
         },
         {
          "KM-label": 5,
          "digit": 1,
          "tSNE-1": 10.123069763183594,
          "tSNE-2": 5.746460437774658
         },
         {
          "KM-label": 2,
          "digit": 2,
          "tSNE-1": 34.690589904785156,
          "tSNE-2": -3.2292683124542236
         },
         {
          "KM-label": 6,
          "digit": 3,
          "tSNE-1": 18.21187400817871,
          "tSNE-2": -35.85888671875
         },
         {
          "KM-label": 0,
          "digit": 4,
          "tSNE-1": -0.14055387675762177,
          "tSNE-2": 34.30763244628906
         },
         {
          "KM-label": 9,
          "digit": 5,
          "tSNE-1": -18.546024322509766,
          "tSNE-2": -16.446544647216797
         },
         {
          "KM-label": 7,
          "digit": 6,
          "tSNE-1": -35.34788131713867,
          "tSNE-2": 29.640031814575195
         },
         {
          "KM-label": 3,
          "digit": 7,
          "tSNE-1": 20.351259231567383,
          "tSNE-2": 25.972177505493164
         },
         {
          "KM-label": 5,
          "digit": 8,
          "tSNE-1": 9.03430461883545,
          "tSNE-2": -3.0459671020507812
         },
         {
          "KM-label": 4,
          "digit": 9,
          "tSNE-1": 3.7066774368286133,
          "tSNE-2": -30.366378784179688
         },
         {
          "KM-label": 8,
          "digit": 0,
          "tSNE-1": -48.297706604003906,
          "tSNE-2": -5.235611915588379
         },
         {
          "KM-label": 5,
          "digit": 1,
          "tSNE-1": 7.230335235595703,
          "tSNE-2": 8.872422218322754
         },
         {
          "KM-label": 2,
          "digit": 2,
          "tSNE-1": 36.925106048583984,
          "tSNE-2": -7.780216693878174
         },
         {
          "KM-label": 6,
          "digit": 3,
          "tSNE-1": 19.778480529785156,
          "tSNE-2": -35.01934814453125
         },
         {
          "KM-label": 0,
          "digit": 4,
          "tSNE-1": -0.7164899706840515,
          "tSNE-2": 35.166866302490234
         },
         {
          "KM-label": 9,
          "digit": 5,
          "tSNE-1": -19.041271209716797,
          "tSNE-2": -22.15758514404297
         },
         {
          "KM-label": 7,
          "digit": 6,
          "tSNE-1": -33.24504470825195,
          "tSNE-2": 25.392637252807617
         },
         {
          "KM-label": 3,
          "digit": 7,
          "tSNE-1": 22.309127807617188,
          "tSNE-2": 24.49543571472168
         },
         {
          "KM-label": 4,
          "digit": 8,
          "tSNE-1": 12.949639320373535,
          "tSNE-2": -12.666359901428223
         },
         {
          "KM-label": 4,
          "digit": 9,
          "tSNE-1": 3.0954666137695312,
          "tSNE-2": -31.19964027404785
         },
         {
          "KM-label": 8,
          "digit": 0,
          "tSNE-1": -45.60005187988281,
          "tSNE-2": -4.941608905792236
         },
         {
          "KM-label": 4,
          "digit": 9,
          "tSNE-1": -4.0611572265625,
          "tSNE-2": -31.3930606842041
         },
         {
          "KM-label": 9,
          "digit": 5,
          "tSNE-1": -17.388586044311523,
          "tSNE-2": -15.046371459960938
         },
         {
          "KM-label": 9,
          "digit": 5,
          "tSNE-1": -18.520652770996094,
          "tSNE-2": -14.068277359008789
         },
         {
          "KM-label": 7,
          "digit": 6,
          "tSNE-1": -31.381946563720703,
          "tSNE-2": 20.338441848754883
         },
         {
          "KM-label": 9,
          "digit": 5,
          "tSNE-1": -17.434749603271484,
          "tSNE-2": -14.903790473937988
         },
         {
          "KM-label": 8,
          "digit": 0,
          "tSNE-1": -41.546932220458984,
          "tSNE-2": -2.2226755619049072
         },
         {
          "KM-label": 4,
          "digit": 9,
          "tSNE-1": 3.879394292831421,
          "tSNE-2": -30.69791603088379
         },
         {
          "KM-label": 4,
          "digit": 8,
          "tSNE-1": 12.301965713500977,
          "tSNE-2": -13.987261772155762
         },
         {
          "KM-label": 4,
          "digit": 9,
          "tSNE-1": -4.310500144958496,
          "tSNE-2": -31.660903930664062
         },
         {
          "KM-label": 5,
          "digit": 8,
          "tSNE-1": 11.076190948486328,
          "tSNE-2": -7.310949325561523
         },
         {
          "KM-label": 0,
          "digit": 4,
          "tSNE-1": -0.8747525215148926,
          "tSNE-2": 33.75440979003906
         },
         {
          "KM-label": 5,
          "digit": 1,
          "tSNE-1": 9.88887882232666,
          "tSNE-2": 3.907273054122925
         },
         {
          "KM-label": 3,
          "digit": 7,
          "tSNE-1": 21.19966697692871,
          "tSNE-2": 23.94365119934082
         },
         {
          "KM-label": 3,
          "digit": 7,
          "tSNE-1": 21.547183990478516,
          "tSNE-2": 26.074968338012695
         },
         {
          "KM-label": 6,
          "digit": 3,
          "tSNE-1": 24.0671329498291,
          "tSNE-2": -32.12983322143555
         },
         {
          "KM-label": 9,
          "digit": 5,
          "tSNE-1": -17.34233856201172,
          "tSNE-2": -19.259899139404297
         },
         {
          "KM-label": 5,
          "digit": 1,
          "tSNE-1": 6.343892574310303,
          "tSNE-2": 7.624999046325684
         },
         {
          "KM-label": 8,
          "digit": 0,
          "tSNE-1": -49.61294937133789,
          "tSNE-2": -5.72682523727417
         },
         {
          "KM-label": 8,
          "digit": 0,
          "tSNE-1": -49.56757354736328,
          "tSNE-2": -5.7121968269348145
         },
         {
          "KM-label": 3,
          "digit": 7,
          "tSNE-1": 22.08779525756836,
          "tSNE-2": 23.959012985229492
         },
         {
          "KM-label": 5,
          "digit": 8,
          "tSNE-1": 9.054607391357422,
          "tSNE-2": -2.895411491394043
         },
         {
          "KM-label": 2,
          "digit": 2,
          "tSNE-1": 36.420711517333984,
          "tSNE-2": -9.163159370422363
         },
         {
          "KM-label": 8,
          "digit": 0,
          "tSNE-1": -48.061153411865234,
          "tSNE-2": -2.4505507946014404
         },
         {
          "KM-label": 5,
          "digit": 1,
          "tSNE-1": 4.630574703216553,
          "tSNE-2": 2.902235746383667
         },
         {
          "KM-label": 2,
          "digit": 2,
          "tSNE-1": 37.4456787109375,
          "tSNE-2": -7.594115257263184
         },
         {
          "KM-label": 7,
          "digit": 6,
          "tSNE-1": -27.33828353881836,
          "tSNE-2": 19.231060028076172
         },
         {
          "KM-label": 6,
          "digit": 3,
          "tSNE-1": 21.11576271057129,
          "tSNE-2": -34.97990417480469
         },
         {
          "KM-label": 6,
          "digit": 3,
          "tSNE-1": 23.958251953125,
          "tSNE-2": -31.38175392150879
         },
         {
          "KM-label": 3,
          "digit": 7,
          "tSNE-1": 21.80034828186035,
          "tSNE-2": 22.49232292175293
         },
         {
          "KM-label": 6,
          "digit": 3,
          "tSNE-1": 21.173301696777344,
          "tSNE-2": -33.88013458251953
         },
         {
          "KM-label": 6,
          "digit": 3,
          "tSNE-1": 21.11777687072754,
          "tSNE-2": -34.866119384765625
         },
         {
          "KM-label": 0,
          "digit": 4,
          "tSNE-1": 0.1684139519929886,
          "tSNE-2": 35.99937057495117
         },
         {
          "KM-label": 7,
          "digit": 6,
          "tSNE-1": -29.20560073852539,
          "tSNE-2": 25.414813995361328
         },
         {
          "KM-label": 7,
          "digit": 6,
          "tSNE-1": -33.79907989501953,
          "tSNE-2": 21.775468826293945
         },
         {
          "KM-label": 7,
          "digit": 6,
          "tSNE-1": -31.974071502685547,
          "tSNE-2": 23.45488166809082
         },
         {
          "KM-label": 3,
          "digit": 4,
          "tSNE-1": 2.506967544555664,
          "tSNE-2": 36.153377532958984
         },
         {
          "KM-label": 4,
          "digit": 9,
          "tSNE-1": 3.582503080368042,
          "tSNE-2": -30.406171798706055
         },
         {
          "KM-label": 5,
          "digit": 1,
          "tSNE-1": 7.200746059417725,
          "tSNE-2": 9.326003074645996
         },
         {
          "KM-label": 9,
          "digit": 5,
          "tSNE-1": -16.093236923217773,
          "tSNE-2": -20.300243377685547
         },
         {
          "KM-label": 8,
          "digit": 0,
          "tSNE-1": -42.98029708862305,
          "tSNE-2": -5.053744792938232
         },
         {
          "KM-label": 9,
          "digit": 9,
          "tSNE-1": 1.8423435688018799,
          "tSNE-2": -6.550032138824463
         },
         {
          "KM-label": 9,
          "digit": 5,
          "tSNE-1": -20.44739532470703,
          "tSNE-2": -11.198766708374023
         },
         {
          "KM-label": 2,
          "digit": 2,
          "tSNE-1": 40.265010833740234,
          "tSNE-2": -6.603430271148682
         },
         {
          "KM-label": 6,
          "digit": 8,
          "tSNE-1": 12.572304725646973,
          "tSNE-2": -13.312006950378418
         },
         {
          "KM-label": 6,
          "digit": 2,
          "tSNE-1": 36.54368209838867,
          "tSNE-2": -10.824365615844727
         },
         {
          "KM-label": 8,
          "digit": 0,
          "tSNE-1": -48.269874572753906,
          "tSNE-2": -2.321049690246582
         },
         {
          "KM-label": 8,
          "digit": 0,
          "tSNE-1": -47.59843063354492,
          "tSNE-2": -1.837628960609436
         },
         {
          "KM-label": 5,
          "digit": 1,
          "tSNE-1": 5.5375471115112305,
          "tSNE-2": 5.861908912658691
         },
         {
          "KM-label": 3,
          "digit": 7,
          "tSNE-1": 24.778554916381836,
          "tSNE-2": 23.707500457763672
         },
         {
          "KM-label": 7,
          "digit": 6,
          "tSNE-1": -28.526477813720703,
          "tSNE-2": 22.318195343017578
         },
         {
          "KM-label": 6,
          "digit": 3,
          "tSNE-1": 18.95880699157715,
          "tSNE-2": -35.617820739746094
         },
         {
          "KM-label": 2,
          "digit": 2,
          "tSNE-1": 38.548797607421875,
          "tSNE-2": -3.6671290397644043
         },
         {
          "KM-label": 5,
          "digit": 1,
          "tSNE-1": 7.747496604919434,
          "tSNE-2": 9.205161094665527
         },
         {
          "KM-label": 3,
          "digit": 7,
          "tSNE-1": 21.796123504638672,
          "tSNE-2": 22.3155460357666
         },
         {
          "KM-label": 0,
          "digit": 4,
          "tSNE-1": -0.036751531064510345,
          "tSNE-2": 35.36165237426758
         },
         {
          "KM-label": 7,
          "digit": 6,
          "tSNE-1": -29.466039657592773,
          "tSNE-2": 25.458843231201172
         },
         {
          "KM-label": 6,
          "digit": 3,
          "tSNE-1": 18.984447479248047,
          "tSNE-2": -35.75914764404297
         },
         {
          "KM-label": 5,
          "digit": 1,
          "tSNE-1": 10.872029304504395,
          "tSNE-2": 4.535059452056885
         },
         {
          "KM-label": 3,
          "digit": 3,
          "tSNE-1": 16.591407775878906,
          "tSNE-2": 33.0228157043457
         },
         {
          "KM-label": 4,
          "digit": 9,
          "tSNE-1": 4.010976791381836,
          "tSNE-2": -30.718669891357422
         },
         {
          "KM-label": 5,
          "digit": 1,
          "tSNE-1": 8.876842498779297,
          "tSNE-2": 7.402628421783447
         },
         {
          "KM-label": 3,
          "digit": 7,
          "tSNE-1": 20.8952579498291,
          "tSNE-2": 25.42741584777832
         },
         {
          "KM-label": 7,
          "digit": 6,
          "tSNE-1": -34.42292404174805,
          "tSNE-2": 23.294322967529297
         },
         {
          "KM-label": 5,
          "digit": 8,
          "tSNE-1": 12.451689720153809,
          "tSNE-2": -13.164528846740723
         },
         {
          "KM-label": 0,
          "digit": 4,
          "tSNE-1": 0.9462512731552124,
          "tSNE-2": 36.43309020996094
         },
         {
          "KM-label": 6,
          "digit": 3,
          "tSNE-1": 19.281641006469727,
          "tSNE-2": -36.06386184692383
         },
         {
          "KM-label": 5,
          "digit": 1,
          "tSNE-1": 5.019030570983887,
          "tSNE-2": 6.629206657409668
         },
         {
          "KM-label": 0,
          "digit": 4,
          "tSNE-1": -1.182342529296875,
          "tSNE-2": 37.242958068847656
         },
         {
          "KM-label": 8,
          "digit": 0,
          "tSNE-1": -41.2819709777832,
          "tSNE-2": -7.032731533050537
         },
         {
          "KM-label": 9,
          "digit": 5,
          "tSNE-1": -15.281140327453613,
          "tSNE-2": -17.31554412841797
         },
         {
          "KM-label": 6,
          "digit": 3,
          "tSNE-1": 21.334774017333984,
          "tSNE-2": -35.571170806884766
         },
         {
          "KM-label": 7,
          "digit": 6,
          "tSNE-1": -25.388925552368164,
          "tSNE-2": 22.012348175048828
         },
         {
          "KM-label": 4,
          "digit": 9,
          "tSNE-1": 1.7282792329788208,
          "tSNE-2": -33.14254379272461
         },
         {
          "KM-label": 7,
          "digit": 6,
          "tSNE-1": -33.558841705322266,
          "tSNE-2": 27.426958084106445
         },
         {
          "KM-label": 5,
          "digit": 1,
          "tSNE-1": 6.014071464538574,
          "tSNE-2": 6.992834091186523
         },
         {
          "KM-label": 3,
          "digit": 7,
          "tSNE-1": 26.0123348236084,
          "tSNE-2": 23.963815689086914
         },
         {
          "KM-label": 9,
          "digit": 5,
          "tSNE-1": -14.943727493286133,
          "tSNE-2": -20.716049194335938
         },
         {
          "KM-label": 0,
          "digit": 4,
          "tSNE-1": -5.121235370635986,
          "tSNE-2": 35.93364334106445
         },
         {
          "KM-label": 0,
          "digit": 4,
          "tSNE-1": -0.0698637142777443,
          "tSNE-2": 35.3739013671875
         },
         {
          "KM-label": 3,
          "digit": 7,
          "tSNE-1": 24.196697235107422,
          "tSNE-2": 23.966886520385742
         },
         {
          "KM-label": 2,
          "digit": 2,
          "tSNE-1": 40.639442443847656,
          "tSNE-2": -1.9643619060516357
         },
         {
          "KM-label": 5,
          "digit": 8,
          "tSNE-1": 2.5078353881835938,
          "tSNE-2": -6.854172229766846
         },
         {
          "KM-label": 2,
          "digit": 2,
          "tSNE-1": 34.79940414428711,
          "tSNE-2": -3.3351492881774902
         },
         {
          "KM-label": 2,
          "digit": 2,
          "tSNE-1": 37.897098541259766,
          "tSNE-2": -9.158556938171387
         },
         {
          "KM-label": 9,
          "digit": 5,
          "tSNE-1": -17.424421310424805,
          "tSNE-2": -13.471809387207031
         },
         {
          "KM-label": 3,
          "digit": 7,
          "tSNE-1": 22.228822708129883,
          "tSNE-2": 23.729515075683594
         },
         {
          "KM-label": 6,
          "digit": 9,
          "tSNE-1": 0.37658482789993286,
          "tSNE-2": -33.493507385253906
         },
         {
          "KM-label": 9,
          "digit": 5,
          "tSNE-1": -14.531445503234863,
          "tSNE-2": -20.05757713317871
         },
         {
          "KM-label": 0,
          "digit": 4,
          "tSNE-1": -2.359484910964966,
          "tSNE-2": 37.00212478637695
         },
         {
          "KM-label": 2,
          "digit": 8,
          "tSNE-1": 12.90281867980957,
          "tSNE-2": -14.42540454864502
         },
         {
          "KM-label": 6,
          "digit": 8,
          "tSNE-1": 10.295611381530762,
          "tSNE-2": -9.874382972717285
         },
         {
          "KM-label": 0,
          "digit": 4,
          "tSNE-1": 1.1791540384292603,
          "tSNE-2": 36.53516387939453
         },
         {
          "KM-label": 4,
          "digit": 9,
          "tSNE-1": 4.119947910308838,
          "tSNE-2": -29.92106819152832
         },
         {
          "KM-label": 8,
          "digit": 0,
          "tSNE-1": -46.68771743774414,
          "tSNE-2": -5.124116897583008
         },
         {
          "KM-label": 5,
          "digit": 8,
          "tSNE-1": 13.603732109069824,
          "tSNE-2": -11.919590950012207
         },
         {
          "KM-label": 4,
          "digit": 9,
          "tSNE-1": 1.2437301874160767,
          "tSNE-2": -32.22087478637695
         },
         {
          "KM-label": 5,
          "digit": 8,
          "tSNE-1": 13.06756591796875,
          "tSNE-2": -12.457348823547363
         },
         {
          "KM-label": 8,
          "digit": 0,
          "tSNE-1": -41.8878288269043,
          "tSNE-2": -4.45046329498291
         },
         {
          "KM-label": 1,
          "digit": 1,
          "tSNE-1": -3.136570692062378,
          "tSNE-2": 9.41809368133545
         },
         {
          "KM-label": 2,
          "digit": 2,
          "tSNE-1": 37.70697784423828,
          "tSNE-2": 2.9595820903778076
         },
         {
          "KM-label": 6,
          "digit": 3,
          "tSNE-1": 20.31008529663086,
          "tSNE-2": -33.807010650634766
         },
         {
          "KM-label": 0,
          "digit": 4,
          "tSNE-1": -3.1202127933502197,
          "tSNE-2": 37.54808044433594
         },
         {
          "KM-label": 9,
          "digit": 5,
          "tSNE-1": -12.89699649810791,
          "tSNE-2": -21.58753204345703
         },
         {
          "KM-label": 7,
          "digit": 6,
          "tSNE-1": -32.9256706237793,
          "tSNE-2": 30.350011825561523
         },
         {
          "KM-label": 3,
          "digit": 7,
          "tSNE-1": 28.647756576538086,
          "tSNE-2": 24.607126235961914
         },
         {
          "KM-label": 6,
          "digit": 8,
          "tSNE-1": 9.18248176574707,
          "tSNE-2": -16.32577896118164
         },
         {
          "KM-label": 4,
          "digit": 9,
          "tSNE-1": -2.364772081375122,
          "tSNE-2": -30.239564895629883
         },
         {
          "KM-label": 8,
          "digit": 0,
          "tSNE-1": -41.28527069091797,
          "tSNE-2": -8.483708381652832
         },
         {
          "KM-label": 1,
          "digit": 1,
          "tSNE-1": -3.641913414001465,
          "tSNE-2": 9.597365379333496
         },
         {
          "KM-label": 2,
          "digit": 2,
          "tSNE-1": 36.349937438964844,
          "tSNE-2": -1.6688917875289917
         },
         {
          "KM-label": 6,
          "digit": 3,
          "tSNE-1": 23.78500747680664,
          "tSNE-2": -30.56113624572754
         },
         {
          "KM-label": 0,
          "digit": 4,
          "tSNE-1": -8.85552978515625,
          "tSNE-2": 34.67300796508789
         },
         {
          "KM-label": 9,
          "digit": 5,
          "tSNE-1": -13.09497356414795,
          "tSNE-2": -22.721099853515625
         },
         {
          "KM-label": 7,
          "digit": 6,
          "tSNE-1": -25.63804054260254,
          "tSNE-2": 18.765666961669922
         },
         {
          "KM-label": 3,
          "digit": 7,
          "tSNE-1": 23.03748893737793,
          "tSNE-2": 31.39950942993164
         },
         {
          "KM-label": 5,
          "digit": 8,
          "tSNE-1": 4.992778301239014,
          "tSNE-2": -3.196796417236328
         },
         {
          "KM-label": 4,
          "digit": 9,
          "tSNE-1": 3.8781521320343018,
          "tSNE-2": -39.1473388671875
         },
         {
          "KM-label": 8,
          "digit": 0,
          "tSNE-1": -41.04315948486328,
          "tSNE-2": -10.10970687866211
         },
         {
          "KM-label": 5,
          "digit": 1,
          "tSNE-1": 1.4248346090316772,
          "tSNE-2": 7.127899169921875
         },
         {
          "KM-label": 2,
          "digit": 2,
          "tSNE-1": 31.71729850769043,
          "tSNE-2": 0.4550990164279938
         },
         {
          "KM-label": 6,
          "digit": 3,
          "tSNE-1": 20.385671615600586,
          "tSNE-2": -36.92939758300781
         },
         {
          "KM-label": 0,
          "digit": 4,
          "tSNE-1": -3.510946035385132,
          "tSNE-2": 42.524696350097656
         },
         {
          "KM-label": 9,
          "digit": 5,
          "tSNE-1": -16.425148010253906,
          "tSNE-2": -6.370903491973877
         },
         {
          "KM-label": 7,
          "digit": 6,
          "tSNE-1": -33.21583938598633,
          "tSNE-2": 22.632902145385742
         },
         {
          "KM-label": 3,
          "digit": 7,
          "tSNE-1": 18.37165069580078,
          "tSNE-2": 33.12907791137695
         },
         {
          "KM-label": 5,
          "digit": 8,
          "tSNE-1": 5.981488227844238,
          "tSNE-2": -3.4148168563842773
         },
         {
          "KM-label": 4,
          "digit": 9,
          "tSNE-1": -2.2395036220550537,
          "tSNE-2": -30.359092712402344
         },
         {
          "KM-label": 8,
          "digit": 0,
          "tSNE-1": -38.238380432128906,
          "tSNE-2": -10.718647003173828
         },
         {
          "KM-label": 4,
          "digit": 9,
          "tSNE-1": -4.96750020980835,
          "tSNE-2": -35.03112030029297
         },
         {
          "KM-label": 9,
          "digit": 5,
          "tSNE-1": -16.762737274169922,
          "tSNE-2": -20.15923309326172
         },
         {
          "KM-label": 9,
          "digit": 5,
          "tSNE-1": -14.402234077453613,
          "tSNE-2": -13.494485855102539
         },
         {
          "KM-label": 7,
          "digit": 6,
          "tSNE-1": -32.50923156738281,
          "tSNE-2": 23.340991973876953
         },
         {
          "KM-label": 9,
          "digit": 5,
          "tSNE-1": -15.663934707641602,
          "tSNE-2": -11.996267318725586
         },
         {
          "KM-label": 8,
          "digit": 0,
          "tSNE-1": -34.70265579223633,
          "tSNE-2": -9.524649620056152
         },
         {
          "KM-label": 4,
          "digit": 9,
          "tSNE-1": -6.0199456214904785,
          "tSNE-2": -34.94261932373047
         },
         {
          "KM-label": 9,
          "digit": 8,
          "tSNE-1": 2.312619209289551,
          "tSNE-2": -4.87636661529541
         },
         {
          "KM-label": 4,
          "digit": 9,
          "tSNE-1": -4.816143989562988,
          "tSNE-2": -34.950740814208984
         },
         {
          "KM-label": 9,
          "digit": 8,
          "tSNE-1": 6.500377655029297,
          "tSNE-2": -2.0384621620178223
         },
         {
          "KM-label": 0,
          "digit": 4,
          "tSNE-1": -8.16827392578125,
          "tSNE-2": 34.070980072021484
         },
         {
          "KM-label": 5,
          "digit": 1,
          "tSNE-1": 9.992281913757324,
          "tSNE-2": 6.117325305938721
         },
         {
          "KM-label": 3,
          "digit": 7,
          "tSNE-1": 29.73395538330078,
          "tSNE-2": 25.57472801208496
         },
         {
          "KM-label": 3,
          "digit": 7,
          "tSNE-1": 27.580556869506836,
          "tSNE-2": 24.495325088500977
         },
         {
          "KM-label": 3,
          "digit": 3,
          "tSNE-1": 22.287633895874023,
          "tSNE-2": -17.87071990966797
         },
         {
          "KM-label": 9,
          "digit": 5,
          "tSNE-1": -11.821332931518555,
          "tSNE-2": -21.091026306152344
         },
         {
          "KM-label": 5,
          "digit": 1,
          "tSNE-1": -0.0919913500547409,
          "tSNE-2": 8.186397552490234
         },
         {
          "KM-label": 8,
          "digit": 0,
          "tSNE-1": -35.37287521362305,
          "tSNE-2": -8.58981704711914
         },
         {
          "KM-label": 8,
          "digit": 0,
          "tSNE-1": -34.734519958496094,
          "tSNE-2": -9.508496284484863
         },
         {
          "KM-label": 2,
          "digit": 2,
          "tSNE-1": 32.19482421875,
          "tSNE-2": -3.1917147636413574
         },
         {
          "KM-label": 2,
          "digit": 2,
          "tSNE-1": 31.709592819213867,
          "tSNE-2": 1.3706611394882202
         },
         {
          "KM-label": 3,
          "digit": 7,
          "tSNE-1": 26.930356979370117,
          "tSNE-2": 27.015731811523438
         },
         {
          "KM-label": 3,
          "digit": 8,
          "tSNE-1": 0.9478920102119446,
          "tSNE-2": -5.15919828414917
         },
         {
          "KM-label": 2,
          "digit": 2,
          "tSNE-1": 36.196571350097656,
          "tSNE-2": 3.632946729660034
         },
         {
          "KM-label": 8,
          "digit": 0,
          "tSNE-1": -38.05022430419922,
          "tSNE-2": -10.25882625579834
         },
         {
          "KM-label": 5,
          "digit": 1,
          "tSNE-1": 6.482654094696045,
          "tSNE-2": 10.735238075256348
         },
         {
          "KM-label": 2,
          "digit": 2,
          "tSNE-1": 34.85586166381836,
          "tSNE-2": 0.0746307522058487
         },
         {
          "KM-label": 7,
          "digit": 6,
          "tSNE-1": -33.4183235168457,
          "tSNE-2": 15.838747024536133
         },
         {
          "KM-label": 6,
          "digit": 3,
          "tSNE-1": 20.644790649414062,
          "tSNE-2": -37.046546936035156
         },
         {
          "KM-label": 6,
          "digit": 3,
          "tSNE-1": 21.903335571289062,
          "tSNE-2": -25.384113311767578
         },
         {
          "KM-label": 3,
          "digit": 7,
          "tSNE-1": 28.59488868713379,
          "tSNE-2": 23.9504337310791
         },
         {
          "KM-label": 6,
          "digit": 3,
          "tSNE-1": 25.683788299560547,
          "tSNE-2": -23.414165496826172
         },
         {
          "KM-label": 6,
          "digit": 3,
          "tSNE-1": 24.6245059967041,
          "tSNE-2": -30.85870933532715
         },
         {
          "KM-label": 0,
          "digit": 4,
          "tSNE-1": -10.347580909729004,
          "tSNE-2": 37.41840744018555
         },
         {
          "KM-label": 7,
          "digit": 6,
          "tSNE-1": -34.05195617675781,
          "tSNE-2": 22.017030715942383
         },
         {
          "KM-label": 7,
          "digit": 6,
          "tSNE-1": -28.380979537963867,
          "tSNE-2": 18.404558181762695
         },
         {
          "KM-label": 7,
          "digit": 6,
          "tSNE-1": -28.129213333129883,
          "tSNE-2": 18.70299530029297
         },
         {
          "KM-label": 0,
          "digit": 4,
          "tSNE-1": -4.265707492828369,
          "tSNE-2": 36.389427185058594
         },
         {
          "KM-label": 4,
          "digit": 9,
          "tSNE-1": 1.5276142358779907,
          "tSNE-2": -34.82066345214844
         },
         {
          "KM-label": 5,
          "digit": 1,
          "tSNE-1": 5.693878173828125,
          "tSNE-2": 6.064271450042725
         },
         {
          "KM-label": 9,
          "digit": 5,
          "tSNE-1": -19.203399658203125,
          "tSNE-2": -9.097136497497559
         },
         {
          "KM-label": 8,
          "digit": 0,
          "tSNE-1": -38.62251281738281,
          "tSNE-2": -11.398725509643555
         },
         {
          "KM-label": 4,
          "digit": 9,
          "tSNE-1": -3.3538975715637207,
          "tSNE-2": -32.604270935058594
         },
         {
          "KM-label": 9,
          "digit": 5,
          "tSNE-1": -13.410231590270996,
          "tSNE-2": -20.913619995117188
         },
         {
          "KM-label": 2,
          "digit": 2,
          "tSNE-1": 34.275474548339844,
          "tSNE-2": -0.1733512282371521
         },
         {
          "KM-label": 9,
          "digit": 8,
          "tSNE-1": 2.446495771408081,
          "tSNE-2": -5.132330894470215
         },
         {
          "KM-label": 2,
          "digit": 2,
          "tSNE-1": 30.776891708374023,
          "tSNE-2": -4.210300922393799
         },
         {
          "KM-label": 8,
          "digit": 0,
          "tSNE-1": -38.121238708496094,
          "tSNE-2": -11.126258850097656
         },
         {
          "KM-label": 8,
          "digit": 0,
          "tSNE-1": -38.25716018676758,
          "tSNE-2": -10.34821891784668
         },
         {
          "KM-label": 5,
          "digit": 1,
          "tSNE-1": 7.921215057373047,
          "tSNE-2": 9.36622142791748
         },
         {
          "KM-label": 3,
          "digit": 7,
          "tSNE-1": 29.64616584777832,
          "tSNE-2": 25.2930850982666
         },
         {
          "KM-label": 7,
          "digit": 6,
          "tSNE-1": -34.99898910522461,
          "tSNE-2": 22.60807228088379
         },
         {
          "KM-label": 6,
          "digit": 3,
          "tSNE-1": 24.40424346923828,
          "tSNE-2": -24.141305923461914
         },
         {
          "KM-label": 2,
          "digit": 2,
          "tSNE-1": 34.11159133911133,
          "tSNE-2": 1.2226202487945557
         },
         {
          "KM-label": 5,
          "digit": 1,
          "tSNE-1": 0.6890267133712769,
          "tSNE-2": 7.9640212059021
         },
         {
          "KM-label": 3,
          "digit": 7,
          "tSNE-1": 30.836030960083008,
          "tSNE-2": 26.420835494995117
         },
         {
          "KM-label": 0,
          "digit": 4,
          "tSNE-1": -6.087855815887451,
          "tSNE-2": 35.997535705566406
         },
         {
          "KM-label": 7,
          "digit": 6,
          "tSNE-1": -34.716556549072266,
          "tSNE-2": 21.765897750854492
         },
         {
          "KM-label": 6,
          "digit": 3,
          "tSNE-1": 24.172794342041016,
          "tSNE-2": -26.213668823242188
         },
         {
          "KM-label": 5,
          "digit": 1,
          "tSNE-1": 6.219543933868408,
          "tSNE-2": 6.6218791007995605
         },
         {
          "KM-label": 6,
          "digit": 3,
          "tSNE-1": 19.747644424438477,
          "tSNE-2": -33.28829574584961
         },
         {
          "KM-label": 4,
          "digit": 9,
          "tSNE-1": -5.096599102020264,
          "tSNE-2": -34.61026382446289
         },
         {
          "KM-label": 5,
          "digit": 1,
          "tSNE-1": 6.080039024353027,
          "tSNE-2": 6.390588760375977
         },
         {
          "KM-label": 3,
          "digit": 7,
          "tSNE-1": 27.38898468017578,
          "tSNE-2": 27.955163955688477
         },
         {
          "KM-label": 7,
          "digit": 6,
          "tSNE-1": -34.53384780883789,
          "tSNE-2": 21.615352630615234
         },
         {
          "KM-label": 5,
          "digit": 8,
          "tSNE-1": 8.141949653625488,
          "tSNE-2": -3.17744779586792
         },
         {
          "KM-label": 0,
          "digit": 4,
          "tSNE-1": -5.560161113739014,
          "tSNE-2": 36.690670013427734
         },
         {
          "KM-label": 6,
          "digit": 3,
          "tSNE-1": 20.925029754638672,
          "tSNE-2": -27.913549423217773
         },
         {
          "KM-label": 5,
          "digit": 1,
          "tSNE-1": 3.614968776702881,
          "tSNE-2": 4.798870086669922
         },
         {
          "KM-label": 0,
          "digit": 4,
          "tSNE-1": -7.785101413726807,
          "tSNE-2": 38.444496154785156
         },
         {
          "KM-label": 8,
          "digit": 0,
          "tSNE-1": -39.94511795043945,
          "tSNE-2": 2.9883055686950684
         },
         {
          "KM-label": 9,
          "digit": 5,
          "tSNE-1": -15.465641021728516,
          "tSNE-2": -6.09242057800293
         },
         {
          "KM-label": 6,
          "digit": 3,
          "tSNE-1": 24.529300689697266,
          "tSNE-2": -24.005712509155273
         },
         {
          "KM-label": 7,
          "digit": 6,
          "tSNE-1": -28.088985443115234,
          "tSNE-2": 17.649978637695312
         },
         {
          "KM-label": 4,
          "digit": 9,
          "tSNE-1": -3.246699333190918,
          "tSNE-2": -33.390689849853516
         },
         {
          "KM-label": 7,
          "digit": 6,
          "tSNE-1": -34.866676330566406,
          "tSNE-2": 20.72953987121582
         },
         {
          "KM-label": 9,
          "digit": 1,
          "tSNE-1": 1.7552989721298218,
          "tSNE-2": 6.043591022491455
         },
         {
          "KM-label": 3,
          "digit": 7,
          "tSNE-1": 29.170860290527344,
          "tSNE-2": 24.075138092041016
         },
         {
          "KM-label": 9,
          "digit": 5,
          "tSNE-1": -15.833710670471191,
          "tSNE-2": -7.485042572021484
         },
         {
          "KM-label": 0,
          "digit": 4,
          "tSNE-1": -8.792946815490723,
          "tSNE-2": 37.45613479614258
         },
         {
          "KM-label": 0,
          "digit": 4,
          "tSNE-1": -4.688113689422607,
          "tSNE-2": 37.530967712402344
         },
         {
          "KM-label": 3,
          "digit": 7,
          "tSNE-1": 19.81955337524414,
          "tSNE-2": 33.063087463378906
         },
         {
          "KM-label": 2,
          "digit": 2,
          "tSNE-1": 36.618804931640625,
          "tSNE-2": 5.365737438201904
         },
         {
          "KM-label": 2,
          "digit": 8,
          "tSNE-1": 20.978307723999023,
          "tSNE-2": 2.666025161743164
         },
         {
          "KM-label": 2,
          "digit": 2,
          "tSNE-1": 35.56166076660156,
          "tSNE-2": 2.884098768234253
         },
         {
          "KM-label": 2,
          "digit": 2,
          "tSNE-1": 33.95004653930664,
          "tSNE-2": 0.10190539062023163
         },
         {
          "KM-label": 9,
          "digit": 5,
          "tSNE-1": -18.888525009155273,
          "tSNE-2": -5.108336925506592
         },
         {
          "KM-label": 3,
          "digit": 7,
          "tSNE-1": 23.34844207763672,
          "tSNE-2": 33.68144989013672
         },
         {
          "KM-label": 4,
          "digit": 9,
          "tSNE-1": -2.9651052951812744,
          "tSNE-2": -33.08000946044922
         },
         {
          "KM-label": 9,
          "digit": 5,
          "tSNE-1": -17.0235652923584,
          "tSNE-2": -9.651410102844238
         },
         {
          "KM-label": 0,
          "digit": 4,
          "tSNE-1": -6.818668365478516,
          "tSNE-2": 35.69596862792969
         },
         {
          "KM-label": 5,
          "digit": 8,
          "tSNE-1": 5.87050199508667,
          "tSNE-2": -2.6354305744171143
         },
         {
          "KM-label": 5,
          "digit": 8,
          "tSNE-1": 8.238736152648926,
          "tSNE-2": -4.0141496658325195
         },
         {
          "KM-label": 0,
          "digit": 4,
          "tSNE-1": 0.33870863914489746,
          "tSNE-2": 39.81537628173828
         },
         {
          "KM-label": 4,
          "digit": 9,
          "tSNE-1": -3.795936107635498,
          "tSNE-2": -39.31616973876953
         },
         {
          "KM-label": 8,
          "digit": 0,
          "tSNE-1": -37.939212799072266,
          "tSNE-2": -11.635022163391113
         },
         {
          "KM-label": 5,
          "digit": 8,
          "tSNE-1": 9.390490531921387,
          "tSNE-2": -4.372121334075928
         },
         {
          "KM-label": 4,
          "digit": 9,
          "tSNE-1": -4.584225177764893,
          "tSNE-2": -32.42353820800781
         },
         {
          "KM-label": 5,
          "digit": 8,
          "tSNE-1": 8.770462989807129,
          "tSNE-2": -4.030651092529297
         },
         {
          "KM-label": 8,
          "digit": 0,
          "tSNE-1": -48.32845687866211,
          "tSNE-2": -5.395461082458496
         },
         {
          "KM-label": 1,
          "digit": 1,
          "tSNE-1": -9.121278762817383,
          "tSNE-2": 7.838241100311279
         },
         {
          "KM-label": 2,
          "digit": 2,
          "tSNE-1": 35.899478912353516,
          "tSNE-2": -9.73633098602295
         },
         {
          "KM-label": 6,
          "digit": 3,
          "tSNE-1": 19.812231063842773,
          "tSNE-2": -32.276527404785156
         },
         {
          "KM-label": 0,
          "digit": 4,
          "tSNE-1": -11.673730850219727,
          "tSNE-2": 37.15678787231445
         },
         {
          "KM-label": 4,
          "digit": 5,
          "tSNE-1": -14.76009750366211,
          "tSNE-2": -25.41988182067871
         },
         {
          "KM-label": 7,
          "digit": 6,
          "tSNE-1": -34.5477409362793,
          "tSNE-2": 18.758529663085938
         },
         {
          "KM-label": 3,
          "digit": 7,
          "tSNE-1": 30.75912094116211,
          "tSNE-2": 25.806142807006836
         },
         {
          "KM-label": 5,
          "digit": 8,
          "tSNE-1": 6.102780818939209,
          "tSNE-2": -6.277440547943115
         },
         {
          "KM-label": 4,
          "digit": 9,
          "tSNE-1": -0.24046838283538818,
          "tSNE-2": -42.65559387207031
         },
         {
          "KM-label": 8,
          "digit": 0,
          "tSNE-1": -39.52138137817383,
          "tSNE-2": -3.590242385864258
         },
         {
          "KM-label": 5,
          "digit": 1,
          "tSNE-1": 0.5475925803184509,
          "tSNE-2": 7.9316911697387695
         },
         {
          "KM-label": 2,
          "digit": 2,
          "tSNE-1": 38.84624099731445,
          "tSNE-2": -9.64048957824707
         },
         {
          "KM-label": 6,
          "digit": 3,
          "tSNE-1": 24.134597778320312,
          "tSNE-2": -31.312618255615234
         },
         {
          "KM-label": 0,
          "digit": 4,
          "tSNE-1": -12.085381507873535,
          "tSNE-2": 37.11027145385742
         },
         {
          "KM-label": 9,
          "digit": 5,
          "tSNE-1": -16.67940330505371,
          "tSNE-2": -23.434858322143555
         },
         {
          "KM-label": 7,
          "digit": 6,
          "tSNE-1": -34.28903579711914,
          "tSNE-2": 19.41299819946289
         },
         {
          "KM-label": 3,
          "digit": 7,
          "tSNE-1": 20.205827713012695,
          "tSNE-2": 29.06512451171875
         },
         {
          "KM-label": 5,
          "digit": 8,
          "tSNE-1": 5.012135982513428,
          "tSNE-2": -4.845293998718262
         },
         {
          "KM-label": 4,
          "digit": 9,
          "tSNE-1": -4.425636291503906,
          "tSNE-2": -36.19377136230469
         },
         {
          "KM-label": 8,
          "digit": 0,
          "tSNE-1": -40.35565948486328,
          "tSNE-2": -3.1067311763763428
         },
         {
          "KM-label": 1,
          "digit": 1,
          "tSNE-1": -8.125625610351562,
          "tSNE-2": 12.797490119934082
         },
         {
          "KM-label": 6,
          "digit": 2,
          "tSNE-1": 36.56854248046875,
          "tSNE-2": -10.02786922454834
         },
         {
          "KM-label": 6,
          "digit": 3,
          "tSNE-1": 12.83574104309082,
          "tSNE-2": -33.199317932128906
         },
         {
          "KM-label": 0,
          "digit": 4,
          "tSNE-1": -12.186859130859375,
          "tSNE-2": 37.125465393066406
         },
         {
          "KM-label": 9,
          "digit": 5,
          "tSNE-1": -13.297496795654297,
          "tSNE-2": -20.304691314697266
         },
         {
          "KM-label": 7,
          "digit": 6,
          "tSNE-1": -36.03218460083008,
          "tSNE-2": 19.924467086791992
         },
         {
          "KM-label": 3,
          "digit": 7,
          "tSNE-1": 23.835905075073242,
          "tSNE-2": 27.26866340637207
         },
         {
          "KM-label": 5,
          "digit": 8,
          "tSNE-1": 6.381107807159424,
          "tSNE-2": -4.1097493171691895
         },
         {
          "KM-label": 4,
          "digit": 9,
          "tSNE-1": -5.06708288192749,
          "tSNE-2": -35.545623779296875
         },
         {
          "KM-label": 8,
          "digit": 0,
          "tSNE-1": -46.77155303955078,
          "tSNE-2": -0.9480361342430115
         },
         {
          "KM-label": 4,
          "digit": 9,
          "tSNE-1": -3.9421286582946777,
          "tSNE-2": -37.0599365234375
         },
         {
          "KM-label": 9,
          "digit": 5,
          "tSNE-1": -13.343530654907227,
          "tSNE-2": -19.385807037353516
         },
         {
          "KM-label": 9,
          "digit": 5,
          "tSNE-1": -13.735953330993652,
          "tSNE-2": -19.001873016357422
         },
         {
          "KM-label": 7,
          "digit": 6,
          "tSNE-1": -35.46571350097656,
          "tSNE-2": 19.93458366394043
         },
         {
          "KM-label": 9,
          "digit": 5,
          "tSNE-1": -18.324697494506836,
          "tSNE-2": -18.463396072387695
         },
         {
          "KM-label": 8,
          "digit": 0,
          "tSNE-1": -34.77522659301758,
          "tSNE-2": -0.4037959575653076
         },
         {
          "KM-label": 4,
          "digit": 9,
          "tSNE-1": -2.9508087635040283,
          "tSNE-2": -36.511024475097656
         },
         {
          "KM-label": 5,
          "digit": 8,
          "tSNE-1": 9.700511932373047,
          "tSNE-2": -4.974974155426025
         },
         {
          "KM-label": 4,
          "digit": 9,
          "tSNE-1": -5.37194299697876,
          "tSNE-2": -33.962059020996094
         },
         {
          "KM-label": 5,
          "digit": 8,
          "tSNE-1": 7.019628524780273,
          "tSNE-2": -6.064915180206299
         },
         {
          "KM-label": 0,
          "digit": 4,
          "tSNE-1": -11.262186050415039,
          "tSNE-2": 37.06532287597656
         },
         {
          "KM-label": 5,
          "digit": 1,
          "tSNE-1": 6.233266830444336,
          "tSNE-2": 10.195858001708984
         },
         {
          "KM-label": 3,
          "digit": 7,
          "tSNE-1": 19.61789894104004,
          "tSNE-2": 28.926700592041016
         },
         {
          "KM-label": 3,
          "digit": 7,
          "tSNE-1": 24.56830406188965,
          "tSNE-2": 26.702882766723633
         },
         {
          "KM-label": 6,
          "digit": 3,
          "tSNE-1": 19.170894622802734,
          "tSNE-2": -33.54939270019531
         },
         {
          "KM-label": 9,
          "digit": 5,
          "tSNE-1": -13.117501258850098,
          "tSNE-2": -19.492340087890625
         },
         {
          "KM-label": 5,
          "digit": 1,
          "tSNE-1": 7.2650370597839355,
          "tSNE-2": 10.193852424621582
         },
         {
          "KM-label": 8,
          "digit": 0,
          "tSNE-1": -38.813785552978516,
          "tSNE-2": -2.41782808303833
         },
         {
          "KM-label": 8,
          "digit": 0,
          "tSNE-1": -38.5810546875,
          "tSNE-2": -2.2977664470672607
         },
         {
          "KM-label": 6,
          "digit": 2,
          "tSNE-1": 36.54829406738281,
          "tSNE-2": -11.082669258117676
         },
         {
          "KM-label": 6,
          "digit": 2,
          "tSNE-1": 37.12212371826172,
          "tSNE-2": -11.580199241638184
         },
         {
          "KM-label": 3,
          "digit": 7,
          "tSNE-1": 23.840866088867188,
          "tSNE-2": 27.39655876159668
         },
         {
          "KM-label": 5,
          "digit": 8,
          "tSNE-1": 5.911527156829834,
          "tSNE-2": -5.3289103507995605
         },
         {
          "KM-label": 6,
          "digit": 2,
          "tSNE-1": 38.340972900390625,
          "tSNE-2": -11.878386497497559
         },
         {
          "KM-label": 8,
          "digit": 0,
          "tSNE-1": -35.898841857910156,
          "tSNE-2": -7.032126426696777
         },
         {
          "KM-label": 1,
          "digit": 1,
          "tSNE-1": -6.702591419219971,
          "tSNE-2": 9.228273391723633
         },
         {
          "KM-label": 6,
          "digit": 2,
          "tSNE-1": 36.94212341308594,
          "tSNE-2": -10.913434982299805
         },
         {
          "KM-label": 7,
          "digit": 6,
          "tSNE-1": -32.546390533447266,
          "tSNE-2": 16.037364959716797
         },
         {
          "KM-label": 6,
          "digit": 3,
          "tSNE-1": 22.56970977783203,
          "tSNE-2": -26.628263473510742
         },
         {
          "KM-label": 6,
          "digit": 3,
          "tSNE-1": 22.704673767089844,
          "tSNE-2": -31.764060974121094
         },
         {
          "KM-label": 3,
          "digit": 7,
          "tSNE-1": 29.913869857788086,
          "tSNE-2": 24.303876876831055
         },
         {
          "KM-label": 6,
          "digit": 3,
          "tSNE-1": 22.16551971435547,
          "tSNE-2": -34.02959060668945
         },
         {
          "KM-label": 6,
          "digit": 3,
          "tSNE-1": 21.468107223510742,
          "tSNE-2": -33.84575271606445
         },
         {
          "KM-label": 0,
          "digit": 4,
          "tSNE-1": -11.446505546569824,
          "tSNE-2": 36.66456604003906
         },
         {
          "KM-label": 7,
          "digit": 6,
          "tSNE-1": -32.801944732666016,
          "tSNE-2": 15.478029251098633
         },
         {
          "KM-label": 7,
          "digit": 6,
          "tSNE-1": -33.4484977722168,
          "tSNE-2": 15.421320915222168
         },
         {
          "KM-label": 7,
          "digit": 6,
          "tSNE-1": -32.32288360595703,
          "tSNE-2": 16.62771224975586
         },
         {
          "KM-label": 0,
          "digit": 4,
          "tSNE-1": -9.123064994812012,
          "tSNE-2": 38.349571228027344
         },
         {
          "KM-label": 4,
          "digit": 9,
          "tSNE-1": 2.3060591220855713,
          "tSNE-2": -39.28004455566406
         },
         {
          "KM-label": 5,
          "digit": 1,
          "tSNE-1": 8.37270736694336,
          "tSNE-2": 9.015799522399902
         },
         {
          "KM-label": 9,
          "digit": 5,
          "tSNE-1": -12.690380096435547,
          "tSNE-2": -21.45878791809082
         },
         {
          "KM-label": 8,
          "digit": 0,
          "tSNE-1": -40.17948532104492,
          "tSNE-2": -8.263452529907227
         },
         {
          "KM-label": 4,
          "digit": 9,
          "tSNE-1": -3.8921804428100586,
          "tSNE-2": -35.96274185180664
         },
         {
          "KM-label": 7,
          "digit": 5,
          "tSNE-1": -24.062747955322266,
          "tSNE-2": 15.785557746887207
         },
         {
          "KM-label": 2,
          "digit": 2,
          "tSNE-1": 39.658145904541016,
          "tSNE-2": -5.412707805633545
         },
         {
          "KM-label": 5,
          "digit": 8,
          "tSNE-1": 7.14952278137207,
          "tSNE-2": -8.655229568481445
         },
         {
          "KM-label": 6,
          "digit": 2,
          "tSNE-1": 38.16699981689453,
          "tSNE-2": -12.408178329467773
         },
         {
          "KM-label": 8,
          "digit": 0,
          "tSNE-1": -41.87871551513672,
          "tSNE-2": -7.750003814697266
         },
         {
          "KM-label": 8,
          "digit": 0,
          "tSNE-1": -39.84202575683594,
          "tSNE-2": -2.3250691890716553
         },
         {
          "KM-label": 1,
          "digit": 1,
          "tSNE-1": -3.408400774002075,
          "tSNE-2": 9.48153018951416
         },
         {
          "KM-label": 3,
          "digit": 7,
          "tSNE-1": 28.19668960571289,
          "tSNE-2": 24.984664916992188
         },
         {
          "KM-label": 7,
          "digit": 6,
          "tSNE-1": -33.297645568847656,
          "tSNE-2": 18.93020248413086
         },
         {
          "KM-label": 6,
          "digit": 3,
          "tSNE-1": 18.871047973632812,
          "tSNE-2": -33.170623779296875
         },
         {
          "KM-label": 2,
          "digit": 2,
          "tSNE-1": 37.44981002807617,
          "tSNE-2": -6.868529796600342
         },
         {
          "KM-label": 5,
          "digit": 1,
          "tSNE-1": 9.087393760681152,
          "tSNE-2": 11.080916404724121
         },
         {
          "KM-label": 3,
          "digit": 7,
          "tSNE-1": 31.38689613342285,
          "tSNE-2": 29.013778686523438
         },
         {
          "KM-label": 0,
          "digit": 4,
          "tSNE-1": -9.061380386352539,
          "tSNE-2": 38.52021026611328
         },
         {
          "KM-label": 7,
          "digit": 6,
          "tSNE-1": -35.9033203125,
          "tSNE-2": 19.908374786376953
         },
         {
          "KM-label": 6,
          "digit": 3,
          "tSNE-1": 22.428199768066406,
          "tSNE-2": -24.595569610595703
         },
         {
          "KM-label": 5,
          "digit": 1,
          "tSNE-1": 7.869637489318848,
          "tSNE-2": 10.754505157470703
         },
         {
          "KM-label": 6,
          "digit": 3,
          "tSNE-1": 17.45720672607422,
          "tSNE-2": -32.533592224121094
         },
         {
          "KM-label": 4,
          "digit": 9,
          "tSNE-1": -1.345759391784668,
          "tSNE-2": -38.27005386352539
         },
         {
          "KM-label": 5,
          "digit": 1,
          "tSNE-1": 6.7910990715026855,
          "tSNE-2": 9.617505073547363
         },
         {
          "KM-label": 3,
          "digit": 7,
          "tSNE-1": 20.868356704711914,
          "tSNE-2": 29.98379135131836
         },
         {
          "KM-label": 7,
          "digit": 6,
          "tSNE-1": -34.01569366455078,
          "tSNE-2": 19.76295280456543
         },
         {
          "KM-label": 5,
          "digit": 8,
          "tSNE-1": 9.0765962600708,
          "tSNE-2": -3.4707329273223877
         },
         {
          "KM-label": 0,
          "digit": 4,
          "tSNE-1": -11.640959739685059,
          "tSNE-2": 36.64707946777344
         },
         {
          "KM-label": 6,
          "digit": 3,
          "tSNE-1": 21.960895538330078,
          "tSNE-2": -32.492027282714844
         },
         {
          "KM-label": 5,
          "digit": 1,
          "tSNE-1": 5.745187759399414,
          "tSNE-2": 8.223361015319824
         },
         {
          "KM-label": 0,
          "digit": 4,
          "tSNE-1": -4.799985885620117,
          "tSNE-2": 36.96446990966797
         },
         {
          "KM-label": 8,
          "digit": 0,
          "tSNE-1": -39.64686965942383,
          "tSNE-2": -3.045567750930786
         },
         {
          "KM-label": 9,
          "digit": 5,
          "tSNE-1": -15.408703804016113,
          "tSNE-2": -16.53424835205078
         },
         {
          "KM-label": 6,
          "digit": 3,
          "tSNE-1": 19.725427627563477,
          "tSNE-2": -33.533687591552734
         },
         {
          "KM-label": 7,
          "digit": 6,
          "tSNE-1": -35.31082534790039,
          "tSNE-2": 16.856481552124023
         },
         {
          "KM-label": 4,
          "digit": 9,
          "tSNE-1": -6.327215194702148,
          "tSNE-2": -36.20579147338867
         },
         {
          "KM-label": 7,
          "digit": 6,
          "tSNE-1": -34.330013275146484,
          "tSNE-2": 15.191330909729004
         },
         {
          "KM-label": 5,
          "digit": 1,
          "tSNE-1": 5.207930564880371,
          "tSNE-2": 8.759978294372559
         },
         {
          "KM-label": 3,
          "digit": 7,
          "tSNE-1": 29.063196182250977,
          "tSNE-2": 28.779582977294922
         },
         {
          "KM-label": 9,
          "digit": 5,
          "tSNE-1": -16.656362533569336,
          "tSNE-2": -16.138408660888672
         },
         {
          "KM-label": 0,
          "digit": 4,
          "tSNE-1": -8.1917085647583,
          "tSNE-2": 35.462974548339844
         },
         {
          "KM-label": 0,
          "digit": 4,
          "tSNE-1": -7.931931972503662,
          "tSNE-2": 35.53113555908203
         },
         {
          "KM-label": 3,
          "digit": 7,
          "tSNE-1": 20.106273651123047,
          "tSNE-2": 31.54512596130371
         },
         {
          "KM-label": 4,
          "digit": 2,
          "tSNE-1": 37.38904571533203,
          "tSNE-2": -10.402152061462402
         },
         {
          "KM-label": 5,
          "digit": 8,
          "tSNE-1": 10.120412826538086,
          "tSNE-2": -4.971837997436523
         },
         {
          "KM-label": 2,
          "digit": 2,
          "tSNE-1": 37.89698791503906,
          "tSNE-2": -8.052529335021973
         },
         {
          "KM-label": 2,
          "digit": 2,
          "tSNE-1": 37.18970489501953,
          "tSNE-2": -8.971158981323242
         },
         {
          "KM-label": 4,
          "digit": 5,
          "tSNE-1": -12.007087707519531,
          "tSNE-2": -22.2783145904541
         },
         {
          "KM-label": 3,
          "digit": 7,
          "tSNE-1": 25.249513626098633,
          "tSNE-2": 26.49329376220703
         },
         {
          "KM-label": 4,
          "digit": 9,
          "tSNE-1": -6.31355094909668,
          "tSNE-2": -35.795501708984375
         },
         {
          "KM-label": 9,
          "digit": 5,
          "tSNE-1": -19.703386306762695,
          "tSNE-2": -18.6030216217041
         },
         {
          "KM-label": 0,
          "digit": 4,
          "tSNE-1": -7.526413917541504,
          "tSNE-2": 35.48323440551758
         },
         {
          "KM-label": 5,
          "digit": 8,
          "tSNE-1": 6.686889171600342,
          "tSNE-2": -5.533265113830566
         },
         {
          "KM-label": 5,
          "digit": 8,
          "tSNE-1": 4.899704456329346,
          "tSNE-2": -4.5904693603515625
         },
         {
          "KM-label": 0,
          "digit": 4,
          "tSNE-1": -9.099959373474121,
          "tSNE-2": 38.41537094116211
         },
         {
          "KM-label": 4,
          "digit": 9,
          "tSNE-1": -7.889543533325195,
          "tSNE-2": -36.29806137084961
         },
         {
          "KM-label": 8,
          "digit": 0,
          "tSNE-1": -34.767860412597656,
          "tSNE-2": -0.30622491240501404
         },
         {
          "KM-label": 5,
          "digit": 8,
          "tSNE-1": 7.381992340087891,
          "tSNE-2": -3.4759814739227295
         },
         {
          "KM-label": 8,
          "digit": 0,
          "tSNE-1": -45.36674118041992,
          "tSNE-2": -6.208094120025635
         },
         {
          "KM-label": 1,
          "digit": 1,
          "tSNE-1": -8.731438636779785,
          "tSNE-2": 8.26260757446289
         },
         {
          "KM-label": 2,
          "digit": 2,
          "tSNE-1": 40.93318557739258,
          "tSNE-2": 0.591529130935669
         },
         {
          "KM-label": 6,
          "digit": 3,
          "tSNE-1": 14.077220916748047,
          "tSNE-2": -30.525278091430664
         },
         {
          "KM-label": 0,
          "digit": 4,
          "tSNE-1": -1.6348789930343628,
          "tSNE-2": 44.313758850097656
         },
         {
          "KM-label": 9,
          "digit": 5,
          "tSNE-1": -17.554353713989258,
          "tSNE-2": -24.4631404876709
         },
         {
          "KM-label": 7,
          "digit": 6,
          "tSNE-1": -34.997432708740234,
          "tSNE-2": 29.046119689941406
         },
         {
          "KM-label": 3,
          "digit": 7,
          "tSNE-1": 17.290010452270508,
          "tSNE-2": 28.42099952697754
         },
         {
          "KM-label": 4,
          "digit": 8,
          "tSNE-1": 3.9414167404174805,
          "tSNE-2": -16.407106399536133
         },
         {
          "KM-label": 4,
          "digit": 9,
          "tSNE-1": -2.418269395828247,
          "tSNE-2": -40.89890670776367
         },
         {
          "KM-label": 8,
          "digit": 0,
          "tSNE-1": -44.1244010925293,
          "tSNE-2": -2.515880584716797
         },
         {
          "KM-label": 1,
          "digit": 1,
          "tSNE-1": -9.314675331115723,
          "tSNE-2": 9.064193725585938
         },
         {
          "KM-label": 2,
          "digit": 2,
          "tSNE-1": 42.27610778808594,
          "tSNE-2": 1.2009105682373047
         },
         {
          "KM-label": 6,
          "digit": 3,
          "tSNE-1": 13.148076057434082,
          "tSNE-2": -31.736129760742188
         },
         {
          "KM-label": 0,
          "digit": 4,
          "tSNE-1": -5.568866729736328,
          "tSNE-2": 43.182212829589844
         },
         {
          "KM-label": 4,
          "digit": 5,
          "tSNE-1": -14.953166961669922,
          "tSNE-2": -25.899709701538086
         },
         {
          "KM-label": 7,
          "digit": 6,
          "tSNE-1": -35.0533332824707,
          "tSNE-2": 29.536388397216797
         },
         {
          "KM-label": 3,
          "digit": 7,
          "tSNE-1": 16.725170135498047,
          "tSNE-2": 29.137203216552734
         },
         {
          "KM-label": 4,
          "digit": 8,
          "tSNE-1": 4.226702690124512,
          "tSNE-2": -16.73968505859375
         },
         {
          "KM-label": 4,
          "digit": 9,
          "tSNE-1": -4.6869611740112305,
          "tSNE-2": -39.95506286621094
         },
         {
          "KM-label": 8,
          "digit": 0,
          "tSNE-1": -46.39327621459961,
          "tSNE-2": -8.599905967712402
         },
         {
          "KM-label": 1,
          "digit": 1,
          "tSNE-1": -7.432168483734131,
          "tSNE-2": 9.71073055267334
         },
         {
          "KM-label": 2,
          "digit": 2,
          "tSNE-1": 41.11241912841797,
          "tSNE-2": -0.014833906665444374
         },
         {
          "KM-label": 6,
          "digit": 3,
          "tSNE-1": 14.98396110534668,
          "tSNE-2": -29.958980560302734
         },
         {
          "KM-label": 0,
          "digit": 4,
          "tSNE-1": -4.027658939361572,
          "tSNE-2": 43.116600036621094
         },
         {
          "KM-label": 4,
          "digit": 5,
          "tSNE-1": -12.718389511108398,
          "tSNE-2": -28.41530418395996
         },
         {
          "KM-label": 7,
          "digit": 6,
          "tSNE-1": -33.46288299560547,
          "tSNE-2": 29.920772552490234
         },
         {
          "KM-label": 3,
          "digit": 7,
          "tSNE-1": 17.152545928955078,
          "tSNE-2": 28.23455810546875
         },
         {
          "KM-label": 4,
          "digit": 8,
          "tSNE-1": 4.561160564422607,
          "tSNE-2": -17.188737869262695
         },
         {
          "KM-label": 4,
          "digit": 9,
          "tSNE-1": -2.2848660945892334,
          "tSNE-2": -40.92173767089844
         },
         {
          "KM-label": 8,
          "digit": 0,
          "tSNE-1": -44.871673583984375,
          "tSNE-2": -3.357347249984741
         },
         {
          "KM-label": 4,
          "digit": 9,
          "tSNE-1": -2.9749791622161865,
          "tSNE-2": -38.21765899658203
         },
         {
          "KM-label": 4,
          "digit": 5,
          "tSNE-1": -14.916584968566895,
          "tSNE-2": -25.934728622436523
         },
         {
          "KM-label": 4,
          "digit": 5,
          "tSNE-1": -14.842041969299316,
          "tSNE-2": -25.945850372314453
         },
         {
          "KM-label": 7,
          "digit": 6,
          "tSNE-1": -35.819129943847656,
          "tSNE-2": 25.955482482910156
         },
         {
          "KM-label": 4,
          "digit": 5,
          "tSNE-1": -15.083259582519531,
          "tSNE-2": -25.516145706176758
         },
         {
          "KM-label": 8,
          "digit": 0,
          "tSNE-1": -44.37893295288086,
          "tSNE-2": -3.440011978149414
         },
         {
          "KM-label": 4,
          "digit": 9,
          "tSNE-1": -4.317997932434082,
          "tSNE-2": -39.338356018066406
         },
         {
          "KM-label": 4,
          "digit": 8,
          "tSNE-1": 4.334532737731934,
          "tSNE-2": -14.53337574005127
         },
         {
          "KM-label": 4,
          "digit": 9,
          "tSNE-1": -3.860370397567749,
          "tSNE-2": -40.886356353759766
         },
         {
          "KM-label": 4,
          "digit": 8,
          "tSNE-1": 3.8095571994781494,
          "tSNE-2": -14.628610610961914
         },
         {
          "KM-label": 0,
          "digit": 4,
          "tSNE-1": -5.496425151824951,
          "tSNE-2": 40.0611686706543
         },
         {
          "KM-label": 1,
          "digit": 1,
          "tSNE-1": -9.13050365447998,
          "tSNE-2": 10.783644676208496
         },
         {
          "KM-label": 3,
          "digit": 7,
          "tSNE-1": 18.87594223022461,
          "tSNE-2": 28.065662384033203
         },
         {
          "KM-label": 3,
          "digit": 7,
          "tSNE-1": 18.50018882751465,
          "tSNE-2": 27.336198806762695
         },
         {
          "KM-label": 6,
          "digit": 3,
          "tSNE-1": 17.7904052734375,
          "tSNE-2": -31.496566772460938
         },
         {
          "KM-label": 4,
          "digit": 5,
          "tSNE-1": -16.96023178100586,
          "tSNE-2": -27.243833541870117
         },
         {
          "KM-label": 1,
          "digit": 1,
          "tSNE-1": -9.607762336730957,
          "tSNE-2": 10.657537460327148
         },
         {
          "KM-label": 8,
          "digit": 0,
          "tSNE-1": -44.17625427246094,
          "tSNE-2": -4.49375057220459
         },
         {
          "KM-label": 8,
          "digit": 0,
          "tSNE-1": -44.384056091308594,
          "tSNE-2": -4.373807907104492
         },
         {
          "KM-label": 2,
          "digit": 2,
          "tSNE-1": 41.78663635253906,
          "tSNE-2": -2.746371030807495
         },
         {
          "KM-label": 2,
          "digit": 2,
          "tSNE-1": 40.746726989746094,
          "tSNE-2": -0.5755810141563416
         },
         {
          "KM-label": 3,
          "digit": 7,
          "tSNE-1": 16.33970069885254,
          "tSNE-2": 29.955589294433594
         },
         {
          "KM-label": 1,
          "digit": 8,
          "tSNE-1": -0.24811041355133057,
          "tSNE-2": -16.240705490112305
         },
         {
          "KM-label": 2,
          "digit": 2,
          "tSNE-1": 42.04219436645508,
          "tSNE-2": -1.1710013151168823
         },
         {
          "KM-label": 8,
          "digit": 0,
          "tSNE-1": -46.883602142333984,
          "tSNE-2": -1.1188571453094482
         },
         {
          "KM-label": 1,
          "digit": 1,
          "tSNE-1": -9.792474746704102,
          "tSNE-2": 9.202781677246094
         },
         {
          "KM-label": 2,
          "digit": 2,
          "tSNE-1": 42.43227005004883,
          "tSNE-2": -0.8263927698135376
         },
         {
          "KM-label": 7,
          "digit": 6,
          "tSNE-1": -34.664913177490234,
          "tSNE-2": 30.181869506835938
         },
         {
          "KM-label": 6,
          "digit": 3,
          "tSNE-1": 13.22789192199707,
          "tSNE-2": -31.505802154541016
         },
         {
          "KM-label": 6,
          "digit": 3,
          "tSNE-1": 16.371503829956055,
          "tSNE-2": -33.03734588623047
         },
         {
          "KM-label": 3,
          "digit": 7,
          "tSNE-1": 17.85393524169922,
          "tSNE-2": 29.21226692199707
         },
         {
          "KM-label": 6,
          "digit": 3,
          "tSNE-1": 13.446152687072754,
          "tSNE-2": -32.26567077636719
         },
         {
          "KM-label": 6,
          "digit": 3,
          "tSNE-1": 17.974014282226562,
          "tSNE-2": -33.4333610534668
         },
         {
          "KM-label": 0,
          "digit": 4,
          "tSNE-1": -5.227787494659424,
          "tSNE-2": 43.547142028808594
         },
         {
          "KM-label": 7,
          "digit": 6,
          "tSNE-1": -33.2467041015625,
          "tSNE-2": 28.81549644470215
         },
         {
          "KM-label": 7,
          "digit": 6,
          "tSNE-1": -30.042495727539062,
          "tSNE-2": 30.05463218688965
         },
         {
          "KM-label": 7,
          "digit": 6,
          "tSNE-1": -33.13199234008789,
          "tSNE-2": 26.179758071899414
         },
         {
          "KM-label": 0,
          "digit": 4,
          "tSNE-1": -4.7184858322143555,
          "tSNE-2": 42.12653350830078
         },
         {
          "KM-label": 4,
          "digit": 9,
          "tSNE-1": -1.68807852268219,
          "tSNE-2": -41.44463348388672
         },
         {
          "KM-label": 1,
          "digit": 1,
          "tSNE-1": -9.804611206054688,
          "tSNE-2": 9.254510879516602
         },
         {
          "KM-label": 4,
          "digit": 5,
          "tSNE-1": -13.935364723205566,
          "tSNE-2": -25.493423461914062
         },
         {
          "KM-label": 8,
          "digit": 0,
          "tSNE-1": -45.63288879394531,
          "tSNE-2": -0.277300626039505
         },
         {
          "KM-label": 4,
          "digit": 9,
          "tSNE-1": -3.224886894226074,
          "tSNE-2": -41.44371795654297
         },
         {
          "KM-label": 9,
          "digit": 5,
          "tSNE-1": -12.707001686096191,
          "tSNE-2": -20.150413513183594
         },
         {
          "KM-label": 2,
          "digit": 2,
          "tSNE-1": 41.48264694213867,
          "tSNE-2": -0.4422115087509155
         },
         {
          "KM-label": 4,
          "digit": 8,
          "tSNE-1": 2.160451650619507,
          "tSNE-2": -16.432872772216797
         },
         {
          "KM-label": 2,
          "digit": 2,
          "tSNE-1": 41.92782974243164,
          "tSNE-2": -1.172966718673706
         },
         {
          "KM-label": 8,
          "digit": 0,
          "tSNE-1": -46.60076141357422,
          "tSNE-2": -0.8041132688522339
         },
         {
          "KM-label": 8,
          "digit": 0,
          "tSNE-1": -44.105369567871094,
          "tSNE-2": -4.946034908294678
         },
         {
          "KM-label": 1,
          "digit": 1,
          "tSNE-1": -10.20666790008545,
          "tSNE-2": 9.617177963256836
         },
         {
          "KM-label": 3,
          "digit": 7,
          "tSNE-1": 19.10533332824707,
          "tSNE-2": 28.807029724121094
         },
         {
          "KM-label": 7,
          "digit": 6,
          "tSNE-1": -35.45541000366211,
          "tSNE-2": 29.022706985473633
         },
         {
          "KM-label": 6,
          "digit": 3,
          "tSNE-1": 15.560053825378418,
          "tSNE-2": -31.820932388305664
         },
         {
          "KM-label": 2,
          "digit": 2,
          "tSNE-1": 41.006038665771484,
          "tSNE-2": 4.259244441986084
         },
         {
          "KM-label": 1,
          "digit": 1,
          "tSNE-1": -9.040914535522461,
          "tSNE-2": 8.147761344909668
         },
         {
          "KM-label": 3,
          "digit": 7,
          "tSNE-1": 19.70702362060547,
          "tSNE-2": 27.92999267578125
         },
         {
          "KM-label": 0,
          "digit": 4,
          "tSNE-1": -5.663803577423096,
          "tSNE-2": 42.20028305053711
         },
         {
          "KM-label": 7,
          "digit": 6,
          "tSNE-1": -35.219207763671875,
          "tSNE-2": 28.471033096313477
         },
         {
          "KM-label": 6,
          "digit": 3,
          "tSNE-1": 18.498918533325195,
          "tSNE-2": -29.79279327392578
         },
         {
          "KM-label": 1,
          "digit": 1,
          "tSNE-1": -7.449114799499512,
          "tSNE-2": 9.77843952178955
         },
         {
          "KM-label": 6,
          "digit": 3,
          "tSNE-1": 17.8875675201416,
          "tSNE-2": -31.762874603271484
         },
         {
          "KM-label": 4,
          "digit": 9,
          "tSNE-1": -4.343555927276611,
          "tSNE-2": -39.11616134643555
         },
         {
          "KM-label": 1,
          "digit": 1,
          "tSNE-1": -9.501883506774902,
          "tSNE-2": 9.9445219039917
         },
         {
          "KM-label": 3,
          "digit": 7,
          "tSNE-1": 18.677270889282227,
          "tSNE-2": 28.221899032592773
         },
         {
          "KM-label": 7,
          "digit": 6,
          "tSNE-1": -35.03761291503906,
          "tSNE-2": 27.166852951049805
         },
         {
          "KM-label": 4,
          "digit": 8,
          "tSNE-1": 1.9180216789245605,
          "tSNE-2": -16.111398696899414
         },
         {
          "KM-label": 0,
          "digit": 4,
          "tSNE-1": -3.826962947845459,
          "tSNE-2": 43.27098846435547
         },
         {
          "KM-label": 6,
          "digit": 3,
          "tSNE-1": 17.093402862548828,
          "tSNE-2": -33.33590316772461
         },
         {
          "KM-label": 1,
          "digit": 1,
          "tSNE-1": -9.878384590148926,
          "tSNE-2": 10.414618492126465
         },
         {
          "KM-label": 0,
          "digit": 4,
          "tSNE-1": -4.128352165222168,
          "tSNE-2": 42.902008056640625
         },
         {
          "KM-label": 8,
          "digit": 0,
          "tSNE-1": -45.04477310180664,
          "tSNE-2": -3.513144016265869
         },
         {
          "KM-label": 4,
          "digit": 5,
          "tSNE-1": -17.068897247314453,
          "tSNE-2": -27.293447494506836
         },
         {
          "KM-label": 6,
          "digit": 3,
          "tSNE-1": 16.037240982055664,
          "tSNE-2": -30.98061752319336
         },
         {
          "KM-label": 7,
          "digit": 6,
          "tSNE-1": -35.0440673828125,
          "tSNE-2": 27.37425994873047
         },
         {
          "KM-label": 4,
          "digit": 9,
          "tSNE-1": -2.103856086730957,
          "tSNE-2": -41.534481048583984
         },
         {
          "KM-label": 7,
          "digit": 6,
          "tSNE-1": -33.52605056762695,
          "tSNE-2": 23.049692153930664
         },
         {
          "KM-label": 1,
          "digit": 1,
          "tSNE-1": -9.77919864654541,
          "tSNE-2": 8.80744743347168
         },
         {
          "KM-label": 3,
          "digit": 7,
          "tSNE-1": 16.656885147094727,
          "tSNE-2": 27.543481826782227
         },
         {
          "KM-label": 4,
          "digit": 5,
          "tSNE-1": -16.40092658996582,
          "tSNE-2": -29.579530715942383
         },
         {
          "KM-label": 0,
          "digit": 4,
          "tSNE-1": -5.247716903686523,
          "tSNE-2": 42.413394927978516
         },
         {
          "KM-label": 0,
          "digit": 4,
          "tSNE-1": -0.7617602944374084,
          "tSNE-2": 43.178401947021484
         },
         {
          "KM-label": 3,
          "digit": 7,
          "tSNE-1": 17.18138313293457,
          "tSNE-2": 29.318798065185547
         },
         {
          "KM-label": 2,
          "digit": 2,
          "tSNE-1": 40.99697494506836,
          "tSNE-2": -2.351353406906128
         },
         {
          "KM-label": 4,
          "digit": 8,
          "tSNE-1": 1.0079338550567627,
          "tSNE-2": -15.69145679473877
         },
         {
          "KM-label": 2,
          "digit": 2,
          "tSNE-1": 32.421791076660156,
          "tSNE-2": -3.699103355407715
         },
         {
          "KM-label": 2,
          "digit": 2,
          "tSNE-1": 42.42197799682617,
          "tSNE-2": -0.8687858581542969
         },
         {
          "KM-label": 9,
          "digit": 5,
          "tSNE-1": -14.874153137207031,
          "tSNE-2": -24.48482894897461
         },
         {
          "KM-label": 3,
          "digit": 7,
          "tSNE-1": 16.995492935180664,
          "tSNE-2": 28.036136627197266
         },
         {
          "KM-label": 4,
          "digit": 9,
          "tSNE-1": -3.4971423149108887,
          "tSNE-2": -37.47974395751953
         },
         {
          "KM-label": 9,
          "digit": 5,
          "tSNE-1": -17.198375701904297,
          "tSNE-2": -23.168270111083984
         },
         {
          "KM-label": 0,
          "digit": 4,
          "tSNE-1": -5.117803573608398,
          "tSNE-2": 43.11648941040039
         },
         {
          "KM-label": 4,
          "digit": 8,
          "tSNE-1": 1.2695672512054443,
          "tSNE-2": -14.855213165283203
         },
         {
          "KM-label": 3,
          "digit": 8,
          "tSNE-1": 1.7220388650894165,
          "tSNE-2": -14.580887794494629
         },
         {
          "KM-label": 0,
          "digit": 4,
          "tSNE-1": -5.713963985443115,
          "tSNE-2": 40.964324951171875
         },
         {
          "KM-label": 6,
          "digit": 9,
          "tSNE-1": -5.624615669250488,
          "tSNE-2": -41.251708984375
         },
         {
          "KM-label": 8,
          "digit": 0,
          "tSNE-1": -43.31477355957031,
          "tSNE-2": -6.392673969268799
         },
         {
          "KM-label": 3,
          "digit": 8,
          "tSNE-1": 0.8942056894302368,
          "tSNE-2": -15.36608600616455
         },
         {
          "KM-label": 4,
          "digit": 9,
          "tSNE-1": -5.408795356750488,
          "tSNE-2": -40.81378173828125
         },
         {
          "KM-label": 4,
          "digit": 8,
          "tSNE-1": 1.8916330337524414,
          "tSNE-2": -14.330750465393066
         },
         {
          "KM-label": 8,
          "digit": 0,
          "tSNE-1": -37.821895599365234,
          "tSNE-2": -1.9690532684326172
         },
         {
          "KM-label": 5,
          "digit": 1,
          "tSNE-1": 5.20831298828125,
          "tSNE-2": 10.415568351745605
         },
         {
          "KM-label": 2,
          "digit": 2,
          "tSNE-1": 36.06997299194336,
          "tSNE-2": -3.236361503601074
         },
         {
          "KM-label": 6,
          "digit": 3,
          "tSNE-1": 23.489463806152344,
          "tSNE-2": -26.57101058959961
         },
         {
          "KM-label": 0,
          "digit": 4,
          "tSNE-1": -1.2910072803497314,
          "tSNE-2": 38.40935516357422
         },
         {
          "KM-label": 9,
          "digit": 5,
          "tSNE-1": -17.918262481689453,
          "tSNE-2": -7.317443370819092
         },
         {
          "KM-label": 1,
          "digit": 6,
          "tSNE-1": -35.023094177246094,
          "tSNE-2": 18.235088348388672
         },
         {
          "KM-label": 5,
          "digit": 7,
          "tSNE-1": 31.68182373046875,
          "tSNE-2": 22.69454574584961
         },
         {
          "KM-label": 5,
          "digit": 8,
          "tSNE-1": 0.7413952946662903,
          "tSNE-2": 6.859025478363037
         },
         {
          "KM-label": 1,
          "digit": 9,
          "tSNE-1": -10.561230659484863,
          "tSNE-2": 15.134507179260254
         },
         {
          "KM-label": 8,
          "digit": 0,
          "tSNE-1": -38.229652404785156,
          "tSNE-2": -1.2628940343856812
         },
         {
          "KM-label": 5,
          "digit": 1,
          "tSNE-1": 3.5005247592926025,
          "tSNE-2": 6.3065338134765625
         },
         {
          "KM-label": 6,
          "digit": 2,
          "tSNE-1": 39.12217330932617,
          "tSNE-2": -11.853663444519043
         },
         {
          "KM-label": 6,
          "digit": 3,
          "tSNE-1": 25.846439361572266,
          "tSNE-2": -30.03484344482422
         },
         {
          "KM-label": 0,
          "digit": 4,
          "tSNE-1": -0.8077235817909241,
          "tSNE-2": 38.60899353027344
         },
         {
          "KM-label": 9,
          "digit": 5,
          "tSNE-1": -18.802263259887695,
          "tSNE-2": -7.59352970123291
         },
         {
          "KM-label": 7,
          "digit": 6,
          "tSNE-1": -32.23213195800781,
          "tSNE-2": 18.053274154663086
         },
         {
          "KM-label": 1,
          "digit": 9,
          "tSNE-1": -9.752967834472656,
          "tSNE-2": 17.847909927368164
         },
         {
          "KM-label": 8,
          "digit": 0,
          "tSNE-1": -37.01602554321289,
          "tSNE-2": -2.3381404876708984
         },
         {
          "KM-label": 5,
          "digit": 1,
          "tSNE-1": 3.63344669342041,
          "tSNE-2": 5.589917182922363
         },
         {
          "KM-label": 2,
          "digit": 2,
          "tSNE-1": 40.57122039794922,
          "tSNE-2": -7.299150466918945
         },
         {
          "KM-label": 6,
          "digit": 3,
          "tSNE-1": 22.57657814025879,
          "tSNE-2": -24.698204040527344
         },
         {
          "KM-label": 0,
          "digit": 4,
          "tSNE-1": -0.3593114912509918,
          "tSNE-2": 41.310272216796875
         },
         {
          "KM-label": 9,
          "digit": 5,
          "tSNE-1": -17.462919235229492,
          "tSNE-2": -13.31020736694336
         },
         {
          "KM-label": 7,
          "digit": 6,
          "tSNE-1": -26.648635864257812,
          "tSNE-2": 20.383567810058594
         },
         {
          "KM-label": 3,
          "digit": 7,
          "tSNE-1": 31.221866607666016,
          "tSNE-2": 23.23171043395996
         },
         {
          "KM-label": 9,
          "digit": 8,
          "tSNE-1": 4.175079345703125,
          "tSNE-2": -0.40885183215141296
         },
         {
          "KM-label": 1,
          "digit": 9,
          "tSNE-1": -9.795808792114258,
          "tSNE-2": 17.924076080322266
         },
         {
          "KM-label": 0,
          "digit": 0,
          "tSNE-1": -34.21307373046875,
          "tSNE-2": 0.9499245285987854
         },
         {
          "KM-label": 1,
          "digit": 9,
          "tSNE-1": -9.834174156188965,
          "tSNE-2": 17.61172866821289
         },
         {
          "KM-label": 9,
          "digit": 5,
          "tSNE-1": -12.206367492675781,
          "tSNE-2": -8.929844856262207
         },
         {
          "KM-label": 9,
          "digit": 5,
          "tSNE-1": -16.01340103149414,
          "tSNE-2": -5.296502113342285
         },
         {
          "KM-label": 7,
          "digit": 6,
          "tSNE-1": -32.27690505981445,
          "tSNE-2": 17.331619262695312
         },
         {
          "KM-label": 9,
          "digit": 5,
          "tSNE-1": -18.470218658447266,
          "tSNE-2": -7.306499004364014
         },
         {
          "KM-label": 8,
          "digit": 0,
          "tSNE-1": -40.43518829345703,
          "tSNE-2": -3.754859209060669
         },
         {
          "KM-label": 9,
          "digit": 9,
          "tSNE-1": 9.572808265686035,
          "tSNE-2": 20.99028968811035
         },
         {
          "KM-label": 5,
          "digit": 8,
          "tSNE-1": 14.734539031982422,
          "tSNE-2": -2.8772213459014893
         },
         {
          "KM-label": 9,
          "digit": 9,
          "tSNE-1": -12.042720794677734,
          "tSNE-2": -8.904210090637207
         },
         {
          "KM-label": 5,
          "digit": 8,
          "tSNE-1": 14.951617240905762,
          "tSNE-2": -5.978450298309326
         },
         {
          "KM-label": 0,
          "digit": 4,
          "tSNE-1": -2.671437978744507,
          "tSNE-2": 40.017791748046875
         },
         {
          "KM-label": 5,
          "digit": 1,
          "tSNE-1": 7.413359642028809,
          "tSNE-2": 11.318937301635742
         },
         {
          "KM-label": 3,
          "digit": 7,
          "tSNE-1": 28.75244140625,
          "tSNE-2": 27.335834503173828
         },
         {
          "KM-label": 3,
          "digit": 7,
          "tSNE-1": 32.13602066040039,
          "tSNE-2": 26.450729370117188
         },
         {
          "KM-label": 5,
          "digit": 3,
          "tSNE-1": 21.105012893676758,
          "tSNE-2": -17.980812072753906
         },
         {
          "KM-label": 9,
          "digit": 5,
          "tSNE-1": -17.159425735473633,
          "tSNE-2": -5.015477657318115
         },
         {
          "KM-label": 5,
          "digit": 1,
          "tSNE-1": 5.517683982849121,
          "tSNE-2": 9.297433853149414
         },
         {
          "KM-label": 8,
          "digit": 0,
          "tSNE-1": -35.22996139526367,
          "tSNE-2": 1.0803191661834717
         },
         {
          "KM-label": 8,
          "digit": 0,
          "tSNE-1": -40.53235626220703,
          "tSNE-2": -6.930163383483887
         },
         {
          "KM-label": 8,
          "digit": 2,
          "tSNE-1": 38.257789611816406,
          "tSNE-2": -12.802414894104004
         },
         {
          "KM-label": 2,
          "digit": 2,
          "tSNE-1": 37.83425521850586,
          "tSNE-2": -2.346953868865967
         },
         {
          "KM-label": 5,
          "digit": 7,
          "tSNE-1": 32.94711685180664,
          "tSNE-2": 26.1624813079834
         },
         {
          "KM-label": 5,
          "digit": 8,
          "tSNE-1": 6.136280536651611,
          "tSNE-2": -4.6300435066223145
         },
         {
          "KM-label": 6,
          "digit": 2,
          "tSNE-1": 38.281497955322266,
          "tSNE-2": -12.410837173461914
         },
         {
          "KM-label": 8,
          "digit": 0,
          "tSNE-1": -38.743736267089844,
          "tSNE-2": -0.5247095227241516
         },
         {
          "KM-label": 5,
          "digit": 1,
          "tSNE-1": 3.773723840713501,
          "tSNE-2": 6.593255996704102
         },
         {
          "KM-label": 2,
          "digit": 2,
          "tSNE-1": 32.02566146850586,
          "tSNE-2": 2.624857187271118
         },
         {
          "KM-label": 7,
          "digit": 6,
          "tSNE-1": -33.911258697509766,
          "tSNE-2": 18.150291442871094
         },
         {
          "KM-label": 5,
          "digit": 3,
          "tSNE-1": 21.045543670654297,
          "tSNE-2": -18.141862869262695
         },
         {
          "KM-label": 3,
          "digit": 3,
          "tSNE-1": 21.259916305541992,
          "tSNE-2": -17.30462646484375
         },
         {
          "KM-label": 3,
          "digit": 7,
          "tSNE-1": 31.969921112060547,
          "tSNE-2": 26.79320526123047
         },
         {
          "KM-label": 3,
          "digit": 3,
          "tSNE-1": 23.55222511291504,
          "tSNE-2": 18.676788330078125
         },
         {
          "KM-label": 5,
          "digit": 3,
          "tSNE-1": 20.837739944458008,
          "tSNE-2": -18.571895599365234
         },
         {
          "KM-label": 0,
          "digit": 4,
          "tSNE-1": -0.017697175964713097,
          "tSNE-2": 41.35285949707031
         },
         {
          "KM-label": 7,
          "digit": 6,
          "tSNE-1": -29.760427474975586,
          "tSNE-2": 19.99143409729004
         },
         {
          "KM-label": 7,
          "digit": 6,
          "tSNE-1": -30.116437911987305,
          "tSNE-2": 19.188810348510742
         },
         {
          "KM-label": 7,
          "digit": 6,
          "tSNE-1": -33.32307815551758,
          "tSNE-2": 18.451133728027344
         },
         {
          "KM-label": 3,
          "digit": 4,
          "tSNE-1": 18.89720916748047,
          "tSNE-2": 15.48500919342041
         },
         {
          "KM-label": 1,
          "digit": 9,
          "tSNE-1": -10.997325897216797,
          "tSNE-2": 17.169286727905273
         },
         {
          "KM-label": 5,
          "digit": 1,
          "tSNE-1": 6.163136005401611,
          "tSNE-2": 8.761541366577148
         },
         {
          "KM-label": 9,
          "digit": 5,
          "tSNE-1": -17.493200302124023,
          "tSNE-2": -7.2599263191223145
         },
         {
          "KM-label": 8,
          "digit": 0,
          "tSNE-1": -35.62123107910156,
          "tSNE-2": 1.132677674293518
         },
         {
          "KM-label": 4,
          "digit": 9,
          "tSNE-1": 3.1142539978027344,
          "tSNE-2": -38.458866119384766
         },
         {
          "KM-label": 9,
          "digit": 5,
          "tSNE-1": -15.878779411315918,
          "tSNE-2": -17.025175094604492
         },
         {
          "KM-label": 6,
          "digit": 2,
          "tSNE-1": 38.99412536621094,
          "tSNE-2": -11.93228816986084
         },
         {
          "KM-label": 5,
          "digit": 8,
          "tSNE-1": 14.031420707702637,
          "tSNE-2": -5.718908309936523
         },
         {
          "KM-label": 8,
          "digit": 0,
          "tSNE-1": -47.67750549316406,
          "tSNE-2": -3.193532943725586
         },
         {
          "KM-label": 5,
          "digit": 1,
          "tSNE-1": 5.81641149520874,
          "tSNE-2": 9.680022239685059
         },
         {
          "KM-label": 3,
          "digit": 7,
          "tSNE-1": 30.119211196899414,
          "tSNE-2": 26.759323120117188
         },
         {
          "KM-label": 7,
          "digit": 6,
          "tSNE-1": -34.0010986328125,
          "tSNE-2": 18.14521026611328
         },
         {
          "KM-label": 6,
          "digit": 3,
          "tSNE-1": 23.229618072509766,
          "tSNE-2": -24.42589569091797
         },
         {
          "KM-label": 2,
          "digit": 2,
          "tSNE-1": 37.86376190185547,
          "tSNE-2": 3.381378412246704
         },
         {
          "KM-label": 5,
          "digit": 1,
          "tSNE-1": 6.449898719787598,
          "tSNE-2": 11.396528244018555
         },
         {
          "KM-label": 3,
          "digit": 7,
          "tSNE-1": 32.29521179199219,
          "tSNE-2": 28.82730484008789
         },
         {
          "KM-label": 3,
          "digit": 4,
          "tSNE-1": 18.877216339111328,
          "tSNE-2": 15.519987106323242
         },
         {
          "KM-label": 7,
          "digit": 6,
          "tSNE-1": -31.290693283081055,
          "tSNE-2": 18.906543731689453
         },
         {
          "KM-label": 6,
          "digit": 3,
          "tSNE-1": 24.13481330871582,
          "tSNE-2": -26.78435516357422
         },
         {
          "KM-label": 5,
          "digit": 1,
          "tSNE-1": 7.104158878326416,
          "tSNE-2": 11.392664909362793
         },
         {
          "KM-label": 6,
          "digit": 3,
          "tSNE-1": 21.03564453125,
          "tSNE-2": -23.705276489257812
         },
         {
          "KM-label": 3,
          "digit": 9,
          "tSNE-1": 10.430499076843262,
          "tSNE-2": 21.577547073364258
         },
         {
          "KM-label": 5,
          "digit": 1,
          "tSNE-1": 7.196130752563477,
          "tSNE-2": 10.085768699645996
         },
         {
          "KM-label": 3,
          "digit": 7,
          "tSNE-1": 31.800426483154297,
          "tSNE-2": 25.862285614013672
         },
         {
          "KM-label": 7,
          "digit": 6,
          "tSNE-1": -33.07337951660156,
          "tSNE-2": 20.637924194335938
         },
         {
          "KM-label": 5,
          "digit": 8,
          "tSNE-1": 14.91622257232666,
          "tSNE-2": -5.257038116455078
         },
         {
          "KM-label": 0,
          "digit": 4,
          "tSNE-1": -3.1722605228424072,
          "tSNE-2": 40.116004943847656
         },
         {
          "KM-label": 6,
          "digit": 3,
          "tSNE-1": 23.07568359375,
          "tSNE-2": -26.480844497680664
         },
         {
          "KM-label": 5,
          "digit": 1,
          "tSNE-1": 7.732004165649414,
          "tSNE-2": 11.098854064941406
         },
         {
          "KM-label": 0,
          "digit": 4,
          "tSNE-1": -1.773014783859253,
          "tSNE-2": 38.55989074707031
         },
         {
          "KM-label": 8,
          "digit": 0,
          "tSNE-1": -36.24685287475586,
          "tSNE-2": -1.1159982681274414
         },
         {
          "KM-label": 9,
          "digit": 5,
          "tSNE-1": -18.369770050048828,
          "tSNE-2": -12.7822904586792
         },
         {
          "KM-label": 6,
          "digit": 3,
          "tSNE-1": 23.830379486083984,
          "tSNE-2": -26.949657440185547
         },
         {
          "KM-label": 7,
          "digit": 6,
          "tSNE-1": -30.189199447631836,
          "tSNE-2": 18.690664291381836
         },
         {
          "KM-label": 6,
          "digit": 9,
          "tSNE-1": 4.285017013549805,
          "tSNE-2": -37.6049919128418
         },
         {
          "KM-label": 7,
          "digit": 6,
          "tSNE-1": -29.11932373046875,
          "tSNE-2": 16.70677947998047
         },
         {
          "KM-label": 5,
          "digit": 1,
          "tSNE-1": 7.609264373779297,
          "tSNE-2": 11.384854316711426
         },
         {
          "KM-label": 3,
          "digit": 7,
          "tSNE-1": 25.635343551635742,
          "tSNE-2": 28.666934967041016
         },
         {
          "KM-label": 9,
          "digit": 5,
          "tSNE-1": -14.774800300598145,
          "tSNE-2": -10.111404418945312
         },
         {
          "KM-label": 0,
          "digit": 4,
          "tSNE-1": -1.3290364742279053,
          "tSNE-2": 38.53126907348633
         },
         {
          "KM-label": 0,
          "digit": 4,
          "tSNE-1": -0.1927751898765564,
          "tSNE-2": 42.43668746948242
         },
         {
          "KM-label": 3,
          "digit": 7,
          "tSNE-1": 29.656566619873047,
          "tSNE-2": 28.92344093322754
         },
         {
          "KM-label": 2,
          "digit": 2,
          "tSNE-1": 41.47352600097656,
          "tSNE-2": 1.9370198249816895
         },
         {
          "KM-label": 6,
          "digit": 2,
          "tSNE-1": 36.060123443603516,
          "tSNE-2": -10.52324390411377
         },
         {
          "KM-label": 9,
          "digit": 5,
          "tSNE-1": -19.222412109375,
          "tSNE-2": -7.852057456970215
         },
         {
          "KM-label": 3,
          "digit": 7,
          "tSNE-1": 32.47690963745117,
          "tSNE-2": 27.35663604736328
         },
         {
          "KM-label": 6,
          "digit": 9,
          "tSNE-1": 20.137317657470703,
          "tSNE-2": -24.249862670898438
         },
         {
          "KM-label": 9,
          "digit": 5,
          "tSNE-1": -18.382986068725586,
          "tSNE-2": -12.867086410522461
         },
         {
          "KM-label": 3,
          "digit": 4,
          "tSNE-1": 18.931907653808594,
          "tSNE-2": 15.442416191101074
         },
         {
          "KM-label": 0,
          "digit": 4,
          "tSNE-1": -2.0796566009521484,
          "tSNE-2": 39.62173843383789
         },
         {
          "KM-label": 9,
          "digit": 9,
          "tSNE-1": -12.252802848815918,
          "tSNE-2": -8.80575942993164
         },
         {
          "KM-label": 8,
          "digit": 0,
          "tSNE-1": -39.96305465698242,
          "tSNE-2": -8.177865028381348
         },
         {
          "KM-label": 5,
          "digit": 8,
          "tSNE-1": 13.215843200683594,
          "tSNE-2": -3.9610037803649902
         },
         {
          "KM-label": 9,
          "digit": 9,
          "tSNE-1": 10.12588119506836,
          "tSNE-2": 21.30011558532715
         },
         {
          "KM-label": 3,
          "digit": 8,
          "tSNE-1": 13.465707778930664,
          "tSNE-2": -4.408397197723389
         },
         {
          "KM-label": 8,
          "digit": 0,
          "tSNE-1": -44.11919021606445,
          "tSNE-2": -1.9472558498382568
         },
         {
          "KM-label": 5,
          "digit": 1,
          "tSNE-1": 7.288390636444092,
          "tSNE-2": 1.914269208908081
         },
         {
          "KM-label": 2,
          "digit": 2,
          "tSNE-1": 39.116310119628906,
          "tSNE-2": -1.7245441675186157
         },
         {
          "KM-label": 6,
          "digit": 3,
          "tSNE-1": 14.986555099487305,
          "tSNE-2": -26.98299789428711
         },
         {
          "KM-label": 0,
          "digit": 4,
          "tSNE-1": -9.225504875183105,
          "tSNE-2": 31.68221092224121
         },
         {
          "KM-label": 9,
          "digit": 5,
          "tSNE-1": -15.735939979553223,
          "tSNE-2": -23.11996841430664
         },
         {
          "KM-label": 7,
          "digit": 6,
          "tSNE-1": -25.94363784790039,
          "tSNE-2": 24.333412170410156
         },
         {
          "KM-label": 3,
          "digit": 7,
          "tSNE-1": 26.91327667236328,
          "tSNE-2": 25.976045608520508
         },
         {
          "KM-label": 6,
          "digit": 8,
          "tSNE-1": 11.12488079071045,
          "tSNE-2": -9.368851661682129
         },
         {
          "KM-label": 4,
          "digit": 9,
          "tSNE-1": -0.4571826457977295,
          "tSNE-2": -40.11705017089844
         },
         {
          "KM-label": 8,
          "digit": 0,
          "tSNE-1": -42.780601501464844,
          "tSNE-2": -1.744092345237732
         },
         {
          "KM-label": 5,
          "digit": 1,
          "tSNE-1": 8.513287544250488,
          "tSNE-2": 2.836245059967041
         },
         {
          "KM-label": 2,
          "digit": 2,
          "tSNE-1": 31.299386978149414,
          "tSNE-2": 2.1153318881988525
         },
         {
          "KM-label": 5,
          "digit": 3,
          "tSNE-1": 22.0423641204834,
          "tSNE-2": -19.768033981323242
         },
         {
          "KM-label": 0,
          "digit": 4,
          "tSNE-1": -6.228039264678955,
          "tSNE-2": 38.296443939208984
         },
         {
          "KM-label": 9,
          "digit": 5,
          "tSNE-1": -15.158289909362793,
          "tSNE-2": -22.418445587158203
         },
         {
          "KM-label": 7,
          "digit": 6,
          "tSNE-1": -36.443626403808594,
          "tSNE-2": 28.353626251220703
         },
         {
          "KM-label": 3,
          "digit": 7,
          "tSNE-1": 21.142305374145508,
          "tSNE-2": 32.20490264892578
         },
         {
          "KM-label": 5,
          "digit": 8,
          "tSNE-1": 8.705073356628418,
          "tSNE-2": -5.363124370574951
         },
         {
          "KM-label": 4,
          "digit": 9,
          "tSNE-1": -2.941659927368164,
          "tSNE-2": -34.55249786376953
         },
         {
          "KM-label": 8,
          "digit": 0,
          "tSNE-1": -43.85818862915039,
          "tSNE-2": 1.7714020013809204
         },
         {
          "KM-label": 5,
          "digit": 1,
          "tSNE-1": 6.254262447357178,
          "tSNE-2": 4.089456558227539
         },
         {
          "KM-label": 2,
          "digit": 2,
          "tSNE-1": 31.589614868164062,
          "tSNE-2": -1.2431552410125732
         },
         {
          "KM-label": 9,
          "digit": 3,
          "tSNE-1": -5.304008483886719,
          "tSNE-2": -19.325519561767578
         },
         {
          "KM-label": 0,
          "digit": 4,
          "tSNE-1": -6.171329021453857,
          "tSNE-2": 37.416748046875
         },
         {
          "KM-label": 0,
          "digit": 5,
          "tSNE-1": -15.46791934967041,
          "tSNE-2": -22.0471134185791
         },
         {
          "KM-label": 7,
          "digit": 6,
          "tSNE-1": -25.894685745239258,
          "tSNE-2": 25.007692337036133
         },
         {
          "KM-label": 3,
          "digit": 7,
          "tSNE-1": 26.811037063598633,
          "tSNE-2": 25.859485626220703
         },
         {
          "KM-label": 5,
          "digit": 8,
          "tSNE-1": 11.605494499206543,
          "tSNE-2": -9.150468826293945
         },
         {
          "KM-label": 4,
          "digit": 9,
          "tSNE-1": 2.3600826263427734,
          "tSNE-2": -37.83976364135742
         },
         {
          "KM-label": 8,
          "digit": 0,
          "tSNE-1": -42.57386779785156,
          "tSNE-2": -7.697544574737549
         },
         {
          "KM-label": 4,
          "digit": 9,
          "tSNE-1": -0.15555456280708313,
          "tSNE-2": -35.42936706542969
         },
         {
          "KM-label": 9,
          "digit": 5,
          "tSNE-1": -15.603022575378418,
          "tSNE-2": -18.992238998413086
         },
         {
          "KM-label": 9,
          "digit": 5,
          "tSNE-1": -17.59746742248535,
          "tSNE-2": -21.076644897460938
         },
         {
          "KM-label": 7,
          "digit": 6,
          "tSNE-1": -26.25851058959961,
          "tSNE-2": 25.613574981689453
         },
         {
          "KM-label": 9,
          "digit": 5,
          "tSNE-1": -19.373790740966797,
          "tSNE-2": -18.84336280822754
         },
         {
          "KM-label": 8,
          "digit": 0,
          "tSNE-1": -36.081573486328125,
          "tSNE-2": -3.275475263595581
         },
         {
          "KM-label": 4,
          "digit": 9,
          "tSNE-1": -5.542959690093994,
          "tSNE-2": -39.13508605957031
         },
         {
          "KM-label": 4,
          "digit": 8,
          "tSNE-1": 10.951955795288086,
          "tSNE-2": -11.590271949768066
         },
         {
          "KM-label": 4,
          "digit": 9,
          "tSNE-1": -4.550373077392578,
          "tSNE-2": -38.57600021362305
         },
         {
          "KM-label": 5,
          "digit": 8,
          "tSNE-1": 8.011054039001465,
          "tSNE-2": -5.152577877044678
         },
         {
          "KM-label": 0,
          "digit": 4,
          "tSNE-1": -5.326058387756348,
          "tSNE-2": 38.52865982055664
         },
         {
          "KM-label": 5,
          "digit": 1,
          "tSNE-1": 7.822920322418213,
          "tSNE-2": 1.8579332828521729
         },
         {
          "KM-label": 3,
          "digit": 7,
          "tSNE-1": 17.258352279663086,
          "tSNE-2": 25.156810760498047
         },
         {
          "KM-label": 3,
          "digit": 7,
          "tSNE-1": 19.858396530151367,
          "tSNE-2": 33.640926361083984
         },
         {
          "KM-label": 3,
          "digit": 3,
          "tSNE-1": 22.491893768310547,
          "tSNE-2": -18.090309143066406
         },
         {
          "KM-label": 9,
          "digit": 5,
          "tSNE-1": -15.312455177307129,
          "tSNE-2": -22.482967376708984
         },
         {
          "KM-label": 5,
          "digit": 1,
          "tSNE-1": 8.339311599731445,
          "tSNE-2": 4.357311248779297
         },
         {
          "KM-label": 8,
          "digit": 0,
          "tSNE-1": -42.72021484375,
          "tSNE-2": 0.8652849793434143
         },
         {
          "KM-label": 8,
          "digit": 0,
          "tSNE-1": -43.13714599609375,
          "tSNE-2": -8.414745330810547
         },
         {
          "KM-label": 2,
          "digit": 2,
          "tSNE-1": 41.101009368896484,
          "tSNE-2": 4.153797149658203
         },
         {
          "KM-label": 2,
          "digit": 2,
          "tSNE-1": 40.83867645263672,
          "tSNE-2": 0.32952043414115906
         },
         {
          "KM-label": 3,
          "digit": 7,
          "tSNE-1": 28.120176315307617,
          "tSNE-2": 29.348413467407227
         },
         {
          "KM-label": 5,
          "digit": 8,
          "tSNE-1": 2.6992340087890625,
          "tSNE-2": -6.347167015075684
         },
         {
          "KM-label": 2,
          "digit": 2,
          "tSNE-1": 40.90156555175781,
          "tSNE-2": 4.045812129974365
         },
         {
          "KM-label": 8,
          "digit": 0,
          "tSNE-1": -33.664817810058594,
          "tSNE-2": -3.022519111633301
         },
         {
          "KM-label": 5,
          "digit": 1,
          "tSNE-1": 6.977090358734131,
          "tSNE-2": 4.095761775970459
         },
         {
          "KM-label": 2,
          "digit": 2,
          "tSNE-1": 42.80775833129883,
          "tSNE-2": 1.1159346103668213
         },
         {
          "KM-label": 7,
          "digit": 6,
          "tSNE-1": -36.84223556518555,
          "tSNE-2": 27.931787490844727
         },
         {
          "KM-label": 5,
          "digit": 3,
          "tSNE-1": 22.62111473083496,
          "tSNE-2": -19.997407913208008
         },
         {
          "KM-label": 5,
          "digit": 3,
          "tSNE-1": 22.94060707092285,
          "tSNE-2": -19.649864196777344
         },
         {
          "KM-label": 3,
          "digit": 7,
          "tSNE-1": 27.528841018676758,
          "tSNE-2": 32.44161605834961
         },
         {
          "KM-label": 4,
          "digit": 3,
          "tSNE-1": 14.698978424072266,
          "tSNE-2": -26.413379669189453
         },
         {
          "KM-label": 5,
          "digit": 3,
          "tSNE-1": 22.481300354003906,
          "tSNE-2": -19.437559127807617
         },
         {
          "KM-label": 0,
          "digit": 4,
          "tSNE-1": -5.016536235809326,
          "tSNE-2": 34.911842346191406
         },
         {
          "KM-label": 7,
          "digit": 6,
          "tSNE-1": -25.033157348632812,
          "tSNE-2": 22.733905792236328
         },
         {
          "KM-label": 7,
          "digit": 6,
          "tSNE-1": -26.544925689697266,
          "tSNE-2": 25.84347915649414
         },
         {
          "KM-label": 7,
          "digit": 6,
          "tSNE-1": -27.053861618041992,
          "tSNE-2": 27.782697677612305
         },
         {
          "KM-label": 0,
          "digit": 4,
          "tSNE-1": -8.908760070800781,
          "tSNE-2": 32.62866973876953
         },
         {
          "KM-label": 4,
          "digit": 9,
          "tSNE-1": -1.8577535152435303,
          "tSNE-2": -36.074462890625
         },
         {
          "KM-label": 5,
          "digit": 1,
          "tSNE-1": 9.790282249450684,
          "tSNE-2": 3.8054356575012207
         },
         {
          "KM-label": 9,
          "digit": 5,
          "tSNE-1": -19.973068237304688,
          "tSNE-2": -23.429641723632812
         },
         {
          "KM-label": 8,
          "digit": 0,
          "tSNE-1": -42.498069763183594,
          "tSNE-2": 1.3680377006530762
         },
         {
          "KM-label": 4,
          "digit": 9,
          "tSNE-1": -0.18146172165870667,
          "tSNE-2": -35.58875274658203
         },
         {
          "KM-label": 4,
          "digit": 5,
          "tSNE-1": -15.639359474182129,
          "tSNE-2": -22.089080810546875
         },
         {
          "KM-label": 2,
          "digit": 2,
          "tSNE-1": 42.978485107421875,
          "tSNE-2": -3.1662065982818604
         },
         {
          "KM-label": 5,
          "digit": 8,
          "tSNE-1": 11.750082969665527,
          "tSNE-2": -8.569562911987305
         },
         {
          "KM-label": 2,
          "digit": 2,
          "tSNE-1": 31.498916625976562,
          "tSNE-2": 0.26808521151542664
         },
         {
          "KM-label": 8,
          "digit": 0,
          "tSNE-1": -40.93063735961914,
          "tSNE-2": -11.373011589050293
         },
         {
          "KM-label": 8,
          "digit": 0,
          "tSNE-1": -43.876373291015625,
          "tSNE-2": 1.573702096939087
         },
         {
          "KM-label": 5,
          "digit": 1,
          "tSNE-1": 9.747514724731445,
          "tSNE-2": 1.7777286767959595
         },
         {
          "KM-label": 3,
          "digit": 7,
          "tSNE-1": 30.40027618408203,
          "tSNE-2": 30.201066970825195
         },
         {
          "KM-label": 7,
          "digit": 6,
          "tSNE-1": -25.860950469970703,
          "tSNE-2": 22.90237045288086
         },
         {
          "KM-label": 6,
          "digit": 3,
          "tSNE-1": 22.547035217285156,
          "tSNE-2": -20.744659423828125
         },
         {
          "KM-label": 2,
          "digit": 2,
          "tSNE-1": 31.601539611816406,
          "tSNE-2": -1.1692365407943726
         },
         {
          "KM-label": 5,
          "digit": 1,
          "tSNE-1": -1.8920296430587769,
          "tSNE-2": 5.444503307342529
         },
         {
          "KM-label": 3,
          "digit": 7,
          "tSNE-1": 29.537893295288086,
          "tSNE-2": 31.302879333496094
         },
         {
          "KM-label": 0,
          "digit": 4,
          "tSNE-1": -9.04787540435791,
          "tSNE-2": 33.33297348022461
         },
         {
          "KM-label": 7,
          "digit": 6,
          "tSNE-1": -27.96078109741211,
          "tSNE-2": 21.90596580505371
         },
         {
          "KM-label": 6,
          "digit": 3,
          "tSNE-1": 22.382619857788086,
          "tSNE-2": -25.426572799682617
         },
         {
          "KM-label": 5,
          "digit": 1,
          "tSNE-1": 10.665749549865723,
          "tSNE-2": 4.6848626136779785
         },
         {
          "KM-label": 6,
          "digit": 3,
          "tSNE-1": 18.77594566345215,
          "tSNE-2": -28.978055953979492
         },
         {
          "KM-label": 4,
          "digit": 9,
          "tSNE-1": -1.760688304901123,
          "tSNE-2": -35.648128509521484
         },
         {
          "KM-label": 5,
          "digit": 1,
          "tSNE-1": 6.992583274841309,
          "tSNE-2": 3.5737171173095703
         },
         {
          "KM-label": 3,
          "digit": 7,
          "tSNE-1": 23.892515182495117,
          "tSNE-2": 28.764299392700195
         },
         {
          "KM-label": 7,
          "digit": 6,
          "tSNE-1": -27.02463722229004,
          "tSNE-2": 23.785383224487305
         },
         {
          "KM-label": 5,
          "digit": 8,
          "tSNE-1": 10.672233581542969,
          "tSNE-2": -1.7915669679641724
         },
         {
          "KM-label": 0,
          "digit": 4,
          "tSNE-1": -9.453510284423828,
          "tSNE-2": 37.07439422607422
         },
         {
          "KM-label": 9,
          "digit": 3,
          "tSNE-1": -5.357120037078857,
          "tSNE-2": -19.326475143432617
         },
         {
          "KM-label": 5,
          "digit": 1,
          "tSNE-1": 9.591289520263672,
          "tSNE-2": 2.1378700733184814
         },
         {
          "KM-label": 0,
          "digit": 4,
          "tSNE-1": -6.000052452087402,
          "tSNE-2": 32.66280746459961
         },
         {
          "KM-label": 8,
          "digit": 0,
          "tSNE-1": -39.20258331298828,
          "tSNE-2": -0.18458561599254608
         },
         {
          "KM-label": 4,
          "digit": 5,
          "tSNE-1": -17.066564559936523,
          "tSNE-2": -24.85984992980957
         },
         {
          "KM-label": 6,
          "digit": 3,
          "tSNE-1": 20.016271591186523,
          "tSNE-2": -26.86126136779785
         },
         {
          "KM-label": 7,
          "digit": 6,
          "tSNE-1": -27.1395320892334,
          "tSNE-2": 20.86128044128418
         },
         {
          "KM-label": 4,
          "digit": 9,
          "tSNE-1": -2.208125591278076,
          "tSNE-2": -34.966583251953125
         },
         {
          "KM-label": 7,
          "digit": 6,
          "tSNE-1": -34.769386291503906,
          "tSNE-2": 27.780248641967773
         },
         {
          "KM-label": 5,
          "digit": 1,
          "tSNE-1": 9.887393951416016,
          "tSNE-2": 2.296344041824341
         },
         {
          "KM-label": 3,
          "digit": 7,
          "tSNE-1": 30.60218620300293,
          "tSNE-2": 24.24155044555664
         },
         {
          "KM-label": 9,
          "digit": 5,
          "tSNE-1": -14.230835914611816,
          "tSNE-2": -23.037019729614258
         },
         {
          "KM-label": 0,
          "digit": 4,
          "tSNE-1": -7.905307292938232,
          "tSNE-2": 32.27766036987305
         },
         {
          "KM-label": 0,
          "digit": 4,
          "tSNE-1": -10.174920082092285,
          "tSNE-2": 35.46011734008789
         },
         {
          "KM-label": 3,
          "digit": 7,
          "tSNE-1": 23.177284240722656,
          "tSNE-2": 31.98703384399414
         },
         {
          "KM-label": 2,
          "digit": 2,
          "tSNE-1": 41.941673278808594,
          "tSNE-2": -2.636428117752075
         },
         {
          "KM-label": 5,
          "digit": 8,
          "tSNE-1": 12.244789123535156,
          "tSNE-2": -10.038019180297852
         },
         {
          "KM-label": 2,
          "digit": 2,
          "tSNE-1": 41.13695526123047,
          "tSNE-2": -1.1973936557769775
         },
         {
          "KM-label": 2,
          "digit": 2,
          "tSNE-1": 42.777305603027344,
          "tSNE-2": 0.15799662470817566
         },
         {
          "KM-label": 4,
          "digit": 5,
          "tSNE-1": -15.365934371948242,
          "tSNE-2": -21.59855842590332
         },
         {
          "KM-label": 3,
          "digit": 7,
          "tSNE-1": 29.9012508392334,
          "tSNE-2": 29.405885696411133
         },
         {
          "KM-label": 4,
          "digit": 9,
          "tSNE-1": 2.278831958770752,
          "tSNE-2": -34.906219482421875
         },
         {
          "KM-label": 4,
          "digit": 5,
          "tSNE-1": -16.585750579833984,
          "tSNE-2": -24.967975616455078
         },
         {
          "KM-label": 0,
          "digit": 4,
          "tSNE-1": -9.07160472869873,
          "tSNE-2": 34.968589782714844
         },
         {
          "KM-label": 5,
          "digit": 8,
          "tSNE-1": 9.630351066589355,
          "tSNE-2": -1.1816715002059937
         },
         {
          "KM-label": 5,
          "digit": 8,
          "tSNE-1": 12.235230445861816,
          "tSNE-2": 5.0218048095703125
         },
         {
          "KM-label": 0,
          "digit": 4,
          "tSNE-1": -6.890769004821777,
          "tSNE-2": 36.62859344482422
         },
         {
          "KM-label": 4,
          "digit": 9,
          "tSNE-1": -0.9366523623466492,
          "tSNE-2": -35.1989631652832
         },
         {
          "KM-label": 8,
          "digit": 0,
          "tSNE-1": -35.33391571044922,
          "tSNE-2": -3.595062017440796
         },
         {
          "KM-label": 5,
          "digit": 8,
          "tSNE-1": 10.960410118103027,
          "tSNE-2": -1.862971544265747
         },
         {
          "KM-label": 4,
          "digit": 9,
          "tSNE-1": -1.5230261087417603,
          "tSNE-2": -31.55146598815918
         },
         {
          "KM-label": 4,
          "digit": 8,
          "tSNE-1": 11.364105224609375,
          "tSNE-2": -11.172503471374512
         }
        ]
       },
       "hconcat": [
        {
         "encoding": {
          "color": {
           "field": "KM-label",
           "scale": {
            "scheme": "Spectral"
           },
           "type": "nominal"
          },
          "x": {
           "field": "tSNE-1",
           "type": "quantitative"
          },
          "y": {
           "field": "tSNE-2",
           "type": "quantitative"
          }
         },
         "height": 500,
         "mark": {
          "size": 40,
          "type": "circle"
         },
         "selection": {
          "selector003": {
           "type": "interval"
          }
         },
         "width": 500
        },
        {
         "encoding": {
          "text": {
           "field": "digit",
           "type": "nominal"
          },
          "y": {
           "axis": null,
           "field": "row_number",
           "type": "ordinal"
          }
         },
         "mark": "text",
         "title": "digit",
         "transform": [
          {
           "window": [
            {
             "as": "row_number",
             "field": "",
             "op": "row_number"
            }
           ]
          },
          {
           "filter": {
            "selection": "selector003"
           }
          },
          {
           "window": [
            {
             "as": "rank",
             "field": "row_number",
             "op": "rank"
            }
           ]
          },
          {
           "filter": "(datum.rank < 25)"
          }
         ]
        }
       ]
      },
      "image/png": "[encoded data removed]",
      "text/plain": [
       "<VegaLite 3 object>\n",
       "\n",
       "If you see this message, it means the renderer has not been properly enabled\n",
       "for the frontend that you are using. For more information, see\n",
       "https://altair-viz.github.io/user_guide/troubleshooting.html\n"
      ]
     },
     "execution_count": 7,
     "metadata": {},
     "output_type": "execute_result"
    }
   ],
   "source": [
    "#collapse-show\n",
    "\n",
    "import pandas as pd\n",
    "from sklearn.datasets import load_digits\n",
    "from sklearn.manifold import TSNE\n",
    "from sklearn.cluster import KMeans\n",
    "\n",
    "import altair as alt\n",
    "\n",
    "\n",
    "source=digits_df\n",
    "x=\"tSNE-1\"\n",
    "y=\"tSNE-2\"\n",
    "target_col=\"digit\"\n",
    "color_col=\"KM-label\"\n",
    "alpha=0.9\n",
    "markersize=40\n",
    "grid=True\n",
    "max_n_show = 25\n",
    "width, height = 500, 500\n",
    "\n",
    "# Brush for selection\n",
    "brush = alt.selection(type='interval')\n",
    "\n",
    "# Scatter Plot\n",
    "points = alt.Chart(\n",
    "    source,\n",
    "    width=width,\n",
    "    height=height\n",
    ").mark_circle(size=markersize).encode(\n",
    "    x=x,\n",
    "    y=y,\n",
    "    color=alt.value('steelblue')\n",
    "          if color_col is None\n",
    "          else alt.Color(color_col+\":N\", scale=alt.Scale(scheme='Spectral'))\n",
    "\n",
    ").add_selection(brush)\n",
    "\n",
    "# Base chart for data tables\n",
    "ranked_text = alt.Chart(source).mark_text().encode(\n",
    "    y=alt.Y('row_number:O',axis=None)\n",
    ").transform_window(\n",
    "    row_number='row_number()'\n",
    ").transform_filter(\n",
    "    brush\n",
    ").transform_window(\n",
    "    rank='rank(row_number)'\n",
    ").transform_filter(\n",
    "    alt.datum.rank < max_n_show\n",
    ")\n",
    "\n",
    "# Data Tables\n",
    "text = ranked_text.encode(text=target_col+\":N\").properties(title=target_col)\n",
    "\n",
    "alt.hconcat(\n",
    "points,\n",
    "text,\n",
    ").configure_axis(grid=grid)"
   ]
  },
  {
   "cell_type": "code",
   "execution_count": 4,
   "metadata": {},
   "outputs": [],
   "source": [
    "#collapse-hide\n",
    "\n",
    "# Get digits dataset\n",
    "digits = load_digits()\n",
    "# Cluster it with kmeans and get the predicted labels\n",
    "kmlabel = KMeans(n_clusters=10, n_jobs=-1).fit_predict(digits.data)\n",
    "# Embed in 2D with tSNE\n",
    "embedding = TSNE(n_components=2, n_iter=500).fit_transform(digits.data)"
   ]
  },
  {
   "cell_type": "code",
   "execution_count": 5,
   "metadata": {},
   "outputs": [],
   "source": [
    "#collapse-hide\n",
    "\n",
    "# Turn data into a dataframe\n",
    "digits_df = pd.DataFrame({\n",
    "    \"tSNE-1\": embedding[:, 0],\n",
    "    \"tSNE-2\": embedding[:, 1],    \n",
    "    \"digit\": digits.target,\n",
    "    \"KM-label\": kmlabel\n",
    "})"
   ]
  },
  {
   "cell_type": "code",
   "execution_count": 4,
   "metadata": {},
   "outputs": [
    {
     "data": {
      "application/vnd.vegalite.v3+json": {
       "$schema": "https://vega.github.io/schema/vega-lite/v3.4.0.json",
       "config": {
        "axis": {
         "grid": true
        },
        "mark": {
         "tooltip": null
        },
        "view": {
         "height": 300,
         "width": 400
        }
       },
       "data": {
        "name": "data-5d88efcea6cee7556c0ea757d84194f3"
       },
       "datasets": {
        "data-5d88efcea6cee7556c0ea757d84194f3": [
         {
          "KM-label": 1,
          "digit": 0,
          "tSNE-1": 42.659210205078125,
          "tSNE-2": 7.778562068939209
         },
         {
          "KM-label": 3,
          "digit": 1,
          "tSNE-1": -10.845887184143066,
          "tSNE-2": 19.330644607543945
         },
         {
          "KM-label": 3,
          "digit": 2,
          "tSNE-1": 3.405686378479004,
          "tSNE-2": 9.086298942565918
         },
         {
          "KM-label": 2,
          "digit": 3,
          "tSNE-1": 10.175363540649414,
          "tSNE-2": -9.870277404785156
         },
         {
          "KM-label": 0,
          "digit": 4,
          "tSNE-1": -23.187808990478516,
          "tSNE-2": 34.84178924560547
         },
         {
          "KM-label": 5,
          "digit": 5,
          "tSNE-1": 4.513367176055908,
          "tSNE-2": -21.337371826171875
         },
         {
          "KM-label": 6,
          "digit": 6,
          "tSNE-1": 30.575414657592773,
          "tSNE-2": -20.704755783081055
         },
         {
          "KM-label": 4,
          "digit": 7,
          "tSNE-1": -40.13584518432617,
          "tSNE-2": -9.338221549987793
         },
         {
          "KM-label": 3,
          "digit": 8,
          "tSNE-1": -2.916292667388916,
          "tSNE-2": -1.5631141662597656
         },
         {
          "KM-label": 5,
          "digit": 9,
          "tSNE-1": -2.063385009765625,
          "tSNE-2": -21.982013702392578
         },
         {
          "KM-label": 1,
          "digit": 0,
          "tSNE-1": 43.2783203125,
          "tSNE-2": 10.950555801391602
         },
         {
          "KM-label": 9,
          "digit": 1,
          "tSNE-1": -20.607135772705078,
          "tSNE-2": 18.78839683532715
         },
         {
          "KM-label": 7,
          "digit": 2,
          "tSNE-1": 15.967391967773438,
          "tSNE-2": 27.30282974243164
         },
         {
          "KM-label": 2,
          "digit": 3,
          "tSNE-1": 14.038599014282227,
          "tSNE-2": -1.9647775888442993
         },
         {
          "KM-label": 0,
          "digit": 4,
          "tSNE-1": -27.70992660522461,
          "tSNE-2": 32.752140045166016
         },
         {
          "KM-label": 8,
          "digit": 5,
          "tSNE-1": -21.891292572021484,
          "tSNE-2": -27.8116512298584
         },
         {
          "KM-label": 6,
          "digit": 6,
          "tSNE-1": 35.061031341552734,
          "tSNE-2": -23.698078155517578
         },
         {
          "KM-label": 4,
          "digit": 7,
          "tSNE-1": -39.41017150878906,
          "tSNE-2": -1.7611472606658936
         },
         {
          "KM-label": 3,
          "digit": 8,
          "tSNE-1": -11.725753784179688,
          "tSNE-2": 3.1014468669891357
         },
         {
          "KM-label": 5,
          "digit": 9,
          "tSNE-1": 7.2290778160095215,
          "tSNE-2": -21.030437469482422
         },
         {
          "KM-label": 1,
          "digit": 0,
          "tSNE-1": 36.16624069213867,
          "tSNE-2": 2.2210171222686768
         },
         {
          "KM-label": 9,
          "digit": 1,
          "tSNE-1": -19.59908103942871,
          "tSNE-2": 16.569988250732422
         },
         {
          "KM-label": 7,
          "digit": 2,
          "tSNE-1": 12.97774887084961,
          "tSNE-2": 28.750516891479492
         },
         {
          "KM-label": 2,
          "digit": 3,
          "tSNE-1": 13.34666633605957,
          "tSNE-2": 3.433093547821045
         },
         {
          "KM-label": 9,
          "digit": 4,
          "tSNE-1": -23.137521743774414,
          "tSNE-2": 32.937774658203125
         },
         {
          "KM-label": 8,
          "digit": 5,
          "tSNE-1": -25.765169143676758,
          "tSNE-2": -28.750463485717773
         },
         {
          "KM-label": 6,
          "digit": 6,
          "tSNE-1": 29.780498504638672,
          "tSNE-2": -20.766756057739258
         },
         {
          "KM-label": 9,
          "digit": 7,
          "tSNE-1": -41.43934631347656,
          "tSNE-2": 3.5142059326171875
         },
         {
          "KM-label": 3,
          "digit": 8,
          "tSNE-1": -7.489641189575195,
          "tSNE-2": 2.3719570636749268
         },
         {
          "KM-label": 5,
          "digit": 9,
          "tSNE-1": 6.5890278816223145,
          "tSNE-2": -20.974706649780273
         },
         {
          "KM-label": 1,
          "digit": 0,
          "tSNE-1": 36.090389251708984,
          "tSNE-2": 9.256204605102539
         },
         {
          "KM-label": 5,
          "digit": 9,
          "tSNE-1": 7.518048286437988,
          "tSNE-2": -21.332460403442383
         },
         {
          "KM-label": 8,
          "digit": 5,
          "tSNE-1": -16.451923370361328,
          "tSNE-2": -29.707157135009766
         },
         {
          "KM-label": 8,
          "digit": 5,
          "tSNE-1": -18.617536544799805,
          "tSNE-2": -24.652873992919922
         },
         {
          "KM-label": 6,
          "digit": 6,
          "tSNE-1": 34.61629867553711,
          "tSNE-2": -21.977319717407227
         },
         {
          "KM-label": 8,
          "digit": 5,
          "tSNE-1": -18.573665618896484,
          "tSNE-2": -24.593517303466797
         },
         {
          "KM-label": 1,
          "digit": 0,
          "tSNE-1": 34.43798828125,
          "tSNE-2": 4.2301554679870605
         },
         {
          "KM-label": 5,
          "digit": 9,
          "tSNE-1": 5.2539849281311035,
          "tSNE-2": -18.166824340820312
         },
         {
          "KM-label": 8,
          "digit": 8,
          "tSNE-1": -12.882411003112793,
          "tSNE-2": 4.757112503051758
         },
         {
          "KM-label": 5,
          "digit": 9,
          "tSNE-1": 2.738086700439453,
          "tSNE-2": -27.243608474731445
         },
         {
          "KM-label": 3,
          "digit": 8,
          "tSNE-1": -8.366069793701172,
          "tSNE-2": 2.642995595932007
         },
         {
          "KM-label": 0,
          "digit": 4,
          "tSNE-1": -28.8124942779541,
          "tSNE-2": 33.072078704833984
         },
         {
          "KM-label": 9,
          "digit": 1,
          "tSNE-1": -19.055686950683594,
          "tSNE-2": 18.545642852783203
         },
         {
          "KM-label": 4,
          "digit": 7,
          "tSNE-1": -41.5496940612793,
          "tSNE-2": 2.6068525314331055
         },
         {
          "KM-label": 4,
          "digit": 7,
          "tSNE-1": -40.87380599975586,
          "tSNE-2": -9.058377265930176
         },
         {
          "KM-label": 2,
          "digit": 3,
          "tSNE-1": 16.27004051208496,
          "tSNE-2": -0.5715882182121277
         },
         {
          "KM-label": 8,
          "digit": 5,
          "tSNE-1": -19.287080764770508,
          "tSNE-2": -23.92879867553711
         },
         {
          "KM-label": 9,
          "digit": 1,
          "tSNE-1": -17.960237503051758,
          "tSNE-2": 17.667970657348633
         },
         {
          "KM-label": 1,
          "digit": 0,
          "tSNE-1": 45.46955490112305,
          "tSNE-2": 8.5446138381958
         },
         {
          "KM-label": 1,
          "digit": 0,
          "tSNE-1": 42.34358596801758,
          "tSNE-2": 2.932757616043091
         },
         {
          "KM-label": 3,
          "digit": 2,
          "tSNE-1": 4.357717514038086,
          "tSNE-2": 9.821490287780762
         },
         {
          "KM-label": 3,
          "digit": 2,
          "tSNE-1": 3.1536507606506348,
          "tSNE-2": 9.796807289123535
         },
         {
          "KM-label": 4,
          "digit": 7,
          "tSNE-1": -40.68386459350586,
          "tSNE-2": 1.844916820526123
         },
         {
          "KM-label": 3,
          "digit": 8,
          "tSNE-1": -6.47885274887085,
          "tSNE-2": 5.56869649887085
         },
         {
          "KM-label": 4,
          "digit": 2,
          "tSNE-1": 2.9768331050872803,
          "tSNE-2": 9.82054328918457
         },
         {
          "KM-label": 1,
          "digit": 0,
          "tSNE-1": 35.73655319213867,
          "tSNE-2": 1.4874770641326904
         },
         {
          "KM-label": 9,
          "digit": 1,
          "tSNE-1": -18.645170211791992,
          "tSNE-2": 17.342615127563477
         },
         {
          "KM-label": 3,
          "digit": 2,
          "tSNE-1": 3.3369383811950684,
          "tSNE-2": 9.217034339904785
         },
         {
          "KM-label": 6,
          "digit": 6,
          "tSNE-1": 29.99709701538086,
          "tSNE-2": -21.68111228942871
         },
         {
          "KM-label": 2,
          "digit": 3,
          "tSNE-1": 12.57586669921875,
          "tSNE-2": -0.2636295258998871
         },
         {
          "KM-label": 2,
          "digit": 3,
          "tSNE-1": 15.92812442779541,
          "tSNE-2": -0.3010419011116028
         },
         {
          "KM-label": 4,
          "digit": 7,
          "tSNE-1": -39.624393463134766,
          "tSNE-2": -1.1562647819519043
         },
         {
          "KM-label": 2,
          "digit": 3,
          "tSNE-1": 15.91540241241455,
          "tSNE-2": 0.38705015182495117
         },
         {
          "KM-label": 2,
          "digit": 3,
          "tSNE-1": 13.9260892868042,
          "tSNE-2": 0.9323545098304749
         },
         {
          "KM-label": 0,
          "digit": 4,
          "tSNE-1": -26.266883850097656,
          "tSNE-2": 34.93698501586914
         },
         {
          "KM-label": 6,
          "digit": 6,
          "tSNE-1": 33.89970779418945,
          "tSNE-2": -25.683441162109375
         },
         {
          "KM-label": 6,
          "digit": 6,
          "tSNE-1": 30.486845016479492,
          "tSNE-2": -21.36715316772461
         },
         {
          "KM-label": 6,
          "digit": 6,
          "tSNE-1": 26.637834548950195,
          "tSNE-2": -33.22011947631836
         },
         {
          "KM-label": 0,
          "digit": 4,
          "tSNE-1": -31.668867111206055,
          "tSNE-2": 30.415218353271484
         },
         {
          "KM-label": 3,
          "digit": 9,
          "tSNE-1": -23.80194854736328,
          "tSNE-2": -6.081340789794922
         },
         {
          "KM-label": 9,
          "digit": 1,
          "tSNE-1": -17.108488082885742,
          "tSNE-2": 17.462726593017578
         },
         {
          "KM-label": 8,
          "digit": 5,
          "tSNE-1": -15.740140914916992,
          "tSNE-2": -29.18069839477539
         },
         {
          "KM-label": 1,
          "digit": 0,
          "tSNE-1": 37.2454948425293,
          "tSNE-2": 1.1639927625656128
         },
         {
          "KM-label": 5,
          "digit": 9,
          "tSNE-1": 5.466911315917969,
          "tSNE-2": -21.326099395751953
         },
         {
          "KM-label": 8,
          "digit": 5,
          "tSNE-1": -19.063241958618164,
          "tSNE-2": -33.09174728393555
         },
         {
          "KM-label": 9,
          "digit": 2,
          "tSNE-1": 2.8204398155212402,
          "tSNE-2": 9.892333984375
         },
         {
          "KM-label": 3,
          "digit": 8,
          "tSNE-1": -9.5405855178833,
          "tSNE-2": 5.732727527618408
         },
         {
          "KM-label": 9,
          "digit": 2,
          "tSNE-1": 2.4977641105651855,
          "tSNE-2": 10.060205459594727
         },
         {
          "KM-label": 1,
          "digit": 0,
          "tSNE-1": 44.841651916503906,
          "tSNE-2": 1.726847529411316
         },
         {
          "KM-label": 1,
          "digit": 0,
          "tSNE-1": 42.75321960449219,
          "tSNE-2": 1.477268099784851
         },
         {
          "KM-label": 9,
          "digit": 1,
          "tSNE-1": -18.59697151184082,
          "tSNE-2": 17.062374114990234
         },
         {
          "KM-label": 4,
          "digit": 7,
          "tSNE-1": -41.401058197021484,
          "tSNE-2": -5.708751201629639
         },
         {
          "KM-label": 6,
          "digit": 6,
          "tSNE-1": 30.36458969116211,
          "tSNE-2": -21.03835105895996
         },
         {
          "KM-label": 2,
          "digit": 3,
          "tSNE-1": 15.050040245056152,
          "tSNE-2": 2.14410138130188
         },
         {
          "KM-label": 7,
          "digit": 2,
          "tSNE-1": 13.402718544006348,
          "tSNE-2": 35.158870697021484
         },
         {
          "KM-label": 9,
          "digit": 1,
          "tSNE-1": -17.729751586914062,
          "tSNE-2": 18.923198699951172
         },
         {
          "KM-label": 4,
          "digit": 7,
          "tSNE-1": -40.935646057128906,
          "tSNE-2": 4.835421562194824
         },
         {
          "KM-label": 0,
          "digit": 4,
          "tSNE-1": -32.450706481933594,
          "tSNE-2": 27.194944381713867
         },
         {
          "KM-label": 6,
          "digit": 6,
          "tSNE-1": 32.121063232421875,
          "tSNE-2": -21.33892250061035
         },
         {
          "KM-label": 2,
          "digit": 3,
          "tSNE-1": 15.737960815429688,
          "tSNE-2": 0.8303514122962952
         },
         {
          "KM-label": 9,
          "digit": 1,
          "tSNE-1": -19.056665420532227,
          "tSNE-2": 18.705154418945312
         },
         {
          "KM-label": 2,
          "digit": 3,
          "tSNE-1": 13.405633926391602,
          "tSNE-2": 1.511722445487976
         },
         {
          "KM-label": 2,
          "digit": 9,
          "tSNE-1": 4.2058305740356445,
          "tSNE-2": -24.990751266479492
         },
         {
          "KM-label": 3,
          "digit": 1,
          "tSNE-1": -11.070324897766113,
          "tSNE-2": 19.341110229492188
         },
         {
          "KM-label": 4,
          "digit": 7,
          "tSNE-1": -38.035797119140625,
          "tSNE-2": -3.4979612827301025
         },
         {
          "KM-label": 3,
          "digit": 6,
          "tSNE-1": 29.658662796020508,
          "tSNE-2": -19.221410751342773
         },
         {
          "KM-label": 3,
          "digit": 8,
          "tSNE-1": -11.765176773071289,
          "tSNE-2": 4.602686405181885
         },
         {
          "KM-label": 0,
          "digit": 4,
          "tSNE-1": -23.788663864135742,
          "tSNE-2": 33.279396057128906
         },
         {
          "KM-label": 2,
          "digit": 3,
          "tSNE-1": 14.251206398010254,
          "tSNE-2": 1.5759391784667969
         },
         {
          "KM-label": 3,
          "digit": 1,
          "tSNE-1": -4.050529479980469,
          "tSNE-2": 18.171293258666992
         },
         {
          "KM-label": 0,
          "digit": 4,
          "tSNE-1": -23.634525299072266,
          "tSNE-2": 33.587894439697266
         },
         {
          "KM-label": 1,
          "digit": 0,
          "tSNE-1": 37.945030212402344,
          "tSNE-2": -0.23525361716747284
         },
         {
          "KM-label": 8,
          "digit": 5,
          "tSNE-1": -19.635887145996094,
          "tSNE-2": -32.24652862548828
         },
         {
          "KM-label": 4,
          "digit": 3,
          "tSNE-1": -16.928327560424805,
          "tSNE-2": 0.2269783318042755
         },
         {
          "KM-label": 6,
          "digit": 6,
          "tSNE-1": 27.866649627685547,
          "tSNE-2": -21.071231842041016
         },
         {
          "KM-label": 5,
          "digit": 9,
          "tSNE-1": 7.270905017852783,
          "tSNE-2": -22.57269859313965
         },
         {
          "KM-label": 6,
          "digit": 6,
          "tSNE-1": 30.961776733398438,
          "tSNE-2": -19.347089767456055
         },
         {
          "KM-label": 9,
          "digit": 1,
          "tSNE-1": -21.78854751586914,
          "tSNE-2": 18.298080444335938
         },
         {
          "KM-label": 4,
          "digit": 7,
          "tSNE-1": -39.886680603027344,
          "tSNE-2": -0.27859947085380554
         },
         {
          "KM-label": 8,
          "digit": 5,
          "tSNE-1": -24.11153793334961,
          "tSNE-2": -28.300838470458984
         },
         {
          "KM-label": 0,
          "digit": 4,
          "tSNE-1": -33.01133728027344,
          "tSNE-2": 30.95248794555664
         },
         {
          "KM-label": 0,
          "digit": 4,
          "tSNE-1": -31.720726013183594,
          "tSNE-2": 30.932109832763672
         },
         {
          "KM-label": 4,
          "digit": 7,
          "tSNE-1": -41.135311126708984,
          "tSNE-2": -4.204817771911621
         },
         {
          "KM-label": 7,
          "digit": 2,
          "tSNE-1": 11.069587707519531,
          "tSNE-2": 28.43661880493164
         },
         {
          "KM-label": 3,
          "digit": 8,
          "tSNE-1": -7.459530353546143,
          "tSNE-2": 5.294593811035156
         },
         {
          "KM-label": 3,
          "digit": 2,
          "tSNE-1": 3.929246664047241,
          "tSNE-2": 9.830963134765625
         },
         {
          "KM-label": 3,
          "digit": 2,
          "tSNE-1": 4.536831378936768,
          "tSNE-2": 9.944537162780762
         },
         {
          "KM-label": 8,
          "digit": 5,
          "tSNE-1": -23.65846061706543,
          "tSNE-2": -25.57244110107422
         },
         {
          "KM-label": 4,
          "digit": 7,
          "tSNE-1": -40.993587493896484,
          "tSNE-2": -2.0729482173919678
         },
         {
          "KM-label": 5,
          "digit": 9,
          "tSNE-1": 8.21308708190918,
          "tSNE-2": -23.333181381225586
         },
         {
          "KM-label": 8,
          "digit": 5,
          "tSNE-1": -18.13517951965332,
          "tSNE-2": -24.302162170410156
         },
         {
          "KM-label": 0,
          "digit": 4,
          "tSNE-1": -32.4326057434082,
          "tSNE-2": 27.394287109375
         },
         {
          "KM-label": 3,
          "digit": 8,
          "tSNE-1": -5.987381935119629,
          "tSNE-2": 6.621496677398682
         },
         {
          "KM-label": 3,
          "digit": 8,
          "tSNE-1": -3.321051836013794,
          "tSNE-2": 3.783693313598633
         },
         {
          "KM-label": 0,
          "digit": 4,
          "tSNE-1": -29.148366928100586,
          "tSNE-2": 33.153953552246094
         },
         {
          "KM-label": 5,
          "digit": 9,
          "tSNE-1": 1.3941493034362793,
          "tSNE-2": -20.435325622558594
         },
         {
          "KM-label": 1,
          "digit": 0,
          "tSNE-1": 36.86389923095703,
          "tSNE-2": 1.0684791803359985
         },
         {
          "KM-label": 3,
          "digit": 8,
          "tSNE-1": -13.029407501220703,
          "tSNE-2": 5.056057453155518
         },
         {
          "KM-label": 5,
          "digit": 9,
          "tSNE-1": 2.5591282844543457,
          "tSNE-2": -31.062490463256836
         },
         {
          "KM-label": 3,
          "digit": 8,
          "tSNE-1": -3.0161855220794678,
          "tSNE-2": 19.26341438293457
         },
         {
          "KM-label": 1,
          "digit": 0,
          "tSNE-1": 42.0570068359375,
          "tSNE-2": 4.1830034255981445
         },
         {
          "KM-label": 9,
          "digit": 1,
          "tSNE-1": -22.84080696105957,
          "tSNE-2": 15.200043678283691
         },
         {
          "KM-label": 7,
          "digit": 2,
          "tSNE-1": 11.484916687011719,
          "tSNE-2": 35.51472473144531
         },
         {
          "KM-label": 2,
          "digit": 3,
          "tSNE-1": 14.57663345336914,
          "tSNE-2": 2.7889351844787598
         },
         {
          "KM-label": 0,
          "digit": 4,
          "tSNE-1": -17.97177505493164,
          "tSNE-2": 28.594579696655273
         },
         {
          "KM-label": 8,
          "digit": 5,
          "tSNE-1": -25.134973526000977,
          "tSNE-2": -25.715007781982422
         },
         {
          "KM-label": 6,
          "digit": 6,
          "tSNE-1": 28.67119789123535,
          "tSNE-2": -30.312341690063477
         },
         {
          "KM-label": 4,
          "digit": 7,
          "tSNE-1": -44.42837142944336,
          "tSNE-2": -3.594083070755005
         },
         {
          "KM-label": 3,
          "digit": 8,
          "tSNE-1": -5.768590927124023,
          "tSNE-2": 1.5971213579177856
         },
         {
          "KM-label": 5,
          "digit": 9,
          "tSNE-1": 6.1534247398376465,
          "tSNE-2": -23.263179779052734
         },
         {
          "KM-label": 1,
          "digit": 0,
          "tSNE-1": 33.717037200927734,
          "tSNE-2": 4.044792175292969
         },
         {
          "KM-label": 9,
          "digit": 1,
          "tSNE-1": -22.06220054626465,
          "tSNE-2": 17.71024513244629
         },
         {
          "KM-label": 7,
          "digit": 2,
          "tSNE-1": 8.846841812133789,
          "tSNE-2": 35.12197494506836
         },
         {
          "KM-label": 2,
          "digit": 3,
          "tSNE-1": 16.30783462524414,
          "tSNE-2": 0.6550723314285278
         },
         {
          "KM-label": 0,
          "digit": 4,
          "tSNE-1": -17.587886810302734,
          "tSNE-2": 29.485254287719727
         },
         {
          "KM-label": 8,
          "digit": 5,
          "tSNE-1": -22.407629013061523,
          "tSNE-2": -25.891586303710938
         },
         {
          "KM-label": 6,
          "digit": 6,
          "tSNE-1": 37.149044036865234,
          "tSNE-2": -21.865814208984375
         },
         {
          "KM-label": 4,
          "digit": 7,
          "tSNE-1": -44.96485900878906,
          "tSNE-2": -3.7826390266418457
         },
         {
          "KM-label": 3,
          "digit": 8,
          "tSNE-1": -5.678557872772217,
          "tSNE-2": 3.0891473293304443
         },
         {
          "KM-label": 5,
          "digit": 9,
          "tSNE-1": 4.150450229644775,
          "tSNE-2": -22.324081420898438
         },
         {
          "KM-label": 1,
          "digit": 0,
          "tSNE-1": 38.816715240478516,
          "tSNE-2": 0.2767975926399231
         },
         {
          "KM-label": 9,
          "digit": 1,
          "tSNE-1": -22.908220291137695,
          "tSNE-2": 17.01224708557129
         },
         {
          "KM-label": 7,
          "digit": 2,
          "tSNE-1": 8.044647216796875,
          "tSNE-2": 27.069486618041992
         },
         {
          "KM-label": 2,
          "digit": 3,
          "tSNE-1": 13.9376802444458,
          "tSNE-2": 2.9417331218719482
         },
         {
          "KM-label": 0,
          "digit": 4,
          "tSNE-1": -19.02155876159668,
          "tSNE-2": 30.438426971435547
         },
         {
          "KM-label": 8,
          "digit": 5,
          "tSNE-1": -28.962940216064453,
          "tSNE-2": -25.42781639099121
         },
         {
          "KM-label": 6,
          "digit": 6,
          "tSNE-1": 31.814960479736328,
          "tSNE-2": -21.62501335144043
         },
         {
          "KM-label": 4,
          "digit": 7,
          "tSNE-1": -46.06135177612305,
          "tSNE-2": -6.307318210601807
         },
         {
          "KM-label": 3,
          "digit": 8,
          "tSNE-1": -4.531373023986816,
          "tSNE-2": 6.606764316558838
         },
         {
          "KM-label": 5,
          "digit": 9,
          "tSNE-1": 5.361558437347412,
          "tSNE-2": -22.810049057006836
         },
         {
          "KM-label": 1,
          "digit": 0,
          "tSNE-1": 34.839622497558594,
          "tSNE-2": 5.062051773071289
         },
         {
          "KM-label": 2,
          "digit": 9,
          "tSNE-1": 5.868223667144775,
          "tSNE-2": -22.40812110900879
         },
         {
          "KM-label": 8,
          "digit": 5,
          "tSNE-1": -23.489957809448242,
          "tSNE-2": -26.17172622680664
         },
         {
          "KM-label": 8,
          "digit": 5,
          "tSNE-1": -27.91648292541504,
          "tSNE-2": -25.28396987915039
         },
         {
          "KM-label": 6,
          "digit": 6,
          "tSNE-1": 27.484893798828125,
          "tSNE-2": -32.295841217041016
         },
         {
          "KM-label": 8,
          "digit": 5,
          "tSNE-1": -26.30238914489746,
          "tSNE-2": -25.085006713867188
         },
         {
          "KM-label": 1,
          "digit": 0,
          "tSNE-1": 37.623714447021484,
          "tSNE-2": 6.445013523101807
         },
         {
          "KM-label": 5,
          "digit": 9,
          "tSNE-1": 7.895630359649658,
          "tSNE-2": -25.133625030517578
         },
         {
          "KM-label": 3,
          "digit": 8,
          "tSNE-1": -5.907703399658203,
          "tSNE-2": 1.7041889429092407
         },
         {
          "KM-label": 5,
          "digit": 9,
          "tSNE-1": 6.555501461029053,
          "tSNE-2": -23.30325698852539
         },
         {
          "KM-label": 3,
          "digit": 8,
          "tSNE-1": -5.9596710205078125,
          "tSNE-2": 8.277759552001953
         },
         {
          "KM-label": 0,
          "digit": 4,
          "tSNE-1": -17.066144943237305,
          "tSNE-2": 30.59355354309082
         },
         {
          "KM-label": 9,
          "digit": 1,
          "tSNE-1": -21.31977653503418,
          "tSNE-2": 16.385360717773438
         },
         {
          "KM-label": 4,
          "digit": 7,
          "tSNE-1": -40.45265579223633,
          "tSNE-2": 1.9084079265594482
         },
         {
          "KM-label": 4,
          "digit": 7,
          "tSNE-1": -36.95465087890625,
          "tSNE-2": 0.38813793659210205
         },
         {
          "KM-label": 2,
          "digit": 3,
          "tSNE-1": 12.731806755065918,
          "tSNE-2": 0.45485419034957886
         },
         {
          "KM-label": 8,
          "digit": 5,
          "tSNE-1": -24.01262092590332,
          "tSNE-2": -26.7208194732666
         },
         {
          "KM-label": 9,
          "digit": 1,
          "tSNE-1": -22.682634353637695,
          "tSNE-2": 16.5736083984375
         },
         {
          "KM-label": 1,
          "digit": 0,
          "tSNE-1": 43.43789291381836,
          "tSNE-2": 1.0262783765792847
         },
         {
          "KM-label": 1,
          "digit": 0,
          "tSNE-1": 35.554500579833984,
          "tSNE-2": 0.8928262591362
         },
         {
          "KM-label": 7,
          "digit": 2,
          "tSNE-1": 6.923353672027588,
          "tSNE-2": 34.21371841430664
         },
         {
          "KM-label": 7,
          "digit": 2,
          "tSNE-1": 8.660566329956055,
          "tSNE-2": 34.58014678955078
         },
         {
          "KM-label": 4,
          "digit": 7,
          "tSNE-1": -43.75649642944336,
          "tSNE-2": -4.570585250854492
         },
         {
          "KM-label": 3,
          "digit": 8,
          "tSNE-1": -3.778643846511841,
          "tSNE-2": 2.511873483657837
         },
         {
          "KM-label": 7,
          "digit": 2,
          "tSNE-1": 13.98746395111084,
          "tSNE-2": 37.145084381103516
         },
         {
          "KM-label": 1,
          "digit": 0,
          "tSNE-1": 36.76325225830078,
          "tSNE-2": 0.9875826239585876
         },
         {
          "KM-label": 9,
          "digit": 1,
          "tSNE-1": -20.459774017333984,
          "tSNE-2": 16.073617935180664
         },
         {
          "KM-label": 7,
          "digit": 2,
          "tSNE-1": 15.67982006072998,
          "tSNE-2": 34.85170364379883
         },
         {
          "KM-label": 6,
          "digit": 6,
          "tSNE-1": 26.61893081665039,
          "tSNE-2": -30.91843605041504
         },
         {
          "KM-label": 2,
          "digit": 3,
          "tSNE-1": 16.622407913208008,
          "tSNE-2": 0.7233080267906189
         },
         {
          "KM-label": 2,
          "digit": 3,
          "tSNE-1": 15.92189884185791,
          "tSNE-2": 1.692852258682251
         },
         {
          "KM-label": 4,
          "digit": 7,
          "tSNE-1": -47.93423080444336,
          "tSNE-2": -6.767251968383789
         },
         {
          "KM-label": 2,
          "digit": 3,
          "tSNE-1": 14.375733375549316,
          "tSNE-2": 3.9166667461395264
         },
         {
          "KM-label": 2,
          "digit": 3,
          "tSNE-1": 15.165282249450684,
          "tSNE-2": 0.7770068049430847
         },
         {
          "KM-label": 0,
          "digit": 4,
          "tSNE-1": -18.594280242919922,
          "tSNE-2": 32.162384033203125
         },
         {
          "KM-label": 6,
          "digit": 6,
          "tSNE-1": 32.261295318603516,
          "tSNE-2": -21.892822265625
         },
         {
          "KM-label": 6,
          "digit": 6,
          "tSNE-1": 26.565670013427734,
          "tSNE-2": -31.060522079467773
         },
         {
          "KM-label": 6,
          "digit": 6,
          "tSNE-1": 27.747102737426758,
          "tSNE-2": -31.243261337280273
         },
         {
          "KM-label": 3,
          "digit": 4,
          "tSNE-1": -16.78425407409668,
          "tSNE-2": 31.896944046020508
         },
         {
          "KM-label": 5,
          "digit": 9,
          "tSNE-1": 3.224196672439575,
          "tSNE-2": -22.171348571777344
         },
         {
          "KM-label": 9,
          "digit": 1,
          "tSNE-1": -21.237791061401367,
          "tSNE-2": 19.25970458984375
         },
         {
          "KM-label": 8,
          "digit": 5,
          "tSNE-1": -24.72951316833496,
          "tSNE-2": -26.505184173583984
         },
         {
          "KM-label": 1,
          "digit": 0,
          "tSNE-1": 40.07125473022461,
          "tSNE-2": 1.1966557502746582
         },
         {
          "KM-label": 5,
          "digit": 9,
          "tSNE-1": 0.6904987692832947,
          "tSNE-2": -22.470903396606445
         },
         {
          "KM-label": 8,
          "digit": 5,
          "tSNE-1": -28.725126266479492,
          "tSNE-2": -25.039794921875
         },
         {
          "KM-label": 7,
          "digit": 2,
          "tSNE-1": 7.603760242462158,
          "tSNE-2": 27.071636199951172
         },
         {
          "KM-label": 3,
          "digit": 8,
          "tSNE-1": -5.9872822761535645,
          "tSNE-2": 8.199913024902344
         },
         {
          "KM-label": 7,
          "digit": 2,
          "tSNE-1": 7.7408318519592285,
          "tSNE-2": 34.29594039916992
         },
         {
          "KM-label": 1,
          "digit": 0,
          "tSNE-1": 34.90155029296875,
          "tSNE-2": 2.271418333053589
         },
         {
          "KM-label": 1,
          "digit": 0,
          "tSNE-1": 37.87614440917969,
          "tSNE-2": 0.0735393762588501
         },
         {
          "KM-label": 9,
          "digit": 1,
          "tSNE-1": -21.451871871948242,
          "tSNE-2": 16.533920288085938
         },
         {
          "KM-label": 4,
          "digit": 7,
          "tSNE-1": -43.642208099365234,
          "tSNE-2": -11.875395774841309
         },
         {
          "KM-label": 6,
          "digit": 6,
          "tSNE-1": 26.46877670288086,
          "tSNE-2": -32.80491256713867
         },
         {
          "KM-label": 2,
          "digit": 3,
          "tSNE-1": 15.046601295471191,
          "tSNE-2": 2.084202289581299
         },
         {
          "KM-label": 7,
          "digit": 2,
          "tSNE-1": 9.117729187011719,
          "tSNE-2": 34.985076904296875
         },
         {
          "KM-label": 9,
          "digit": 1,
          "tSNE-1": -21.668420791625977,
          "tSNE-2": 19.89615821838379
         },
         {
          "KM-label": 4,
          "digit": 7,
          "tSNE-1": -47.45912170410156,
          "tSNE-2": -6.468092441558838
         },
         {
          "KM-label": 2,
          "digit": 3,
          "tSNE-1": 15.376038551330566,
          "tSNE-2": 2.197286367416382
         },
         {
          "KM-label": 9,
          "digit": 1,
          "tSNE-1": -22.934982299804688,
          "tSNE-2": 17.11452293395996
         },
         {
          "KM-label": 2,
          "digit": 3,
          "tSNE-1": 14.776040077209473,
          "tSNE-2": 1.1276885271072388
         },
         {
          "KM-label": 5,
          "digit": 9,
          "tSNE-1": -0.9738253951072693,
          "tSNE-2": -23.691429138183594
         },
         {
          "KM-label": 9,
          "digit": 1,
          "tSNE-1": -20.334636688232422,
          "tSNE-2": 17.328628540039062
         },
         {
          "KM-label": 4,
          "digit": 7,
          "tSNE-1": -41.24941635131836,
          "tSNE-2": -0.5911310315132141
         },
         {
          "KM-label": 6,
          "digit": 6,
          "tSNE-1": 34.08109664916992,
          "tSNE-2": -22.84111976623535
         },
         {
          "KM-label": 3,
          "digit": 8,
          "tSNE-1": -1.5271917581558228,
          "tSNE-2": 4.219144821166992
         },
         {
          "KM-label": 0,
          "digit": 4,
          "tSNE-1": -17.572622299194336,
          "tSNE-2": 30.128141403198242
         },
         {
          "KM-label": 2,
          "digit": 3,
          "tSNE-1": 14.460744857788086,
          "tSNE-2": 3.4986777305603027
         },
         {
          "KM-label": 9,
          "digit": 1,
          "tSNE-1": -20.62633514404297,
          "tSNE-2": 18.81292152404785
         },
         {
          "KM-label": 0,
          "digit": 4,
          "tSNE-1": -17.94295883178711,
          "tSNE-2": 30.166990280151367
         },
         {
          "KM-label": 1,
          "digit": 0,
          "tSNE-1": 42.224674224853516,
          "tSNE-2": 1.1168012619018555
         },
         {
          "KM-label": 8,
          "digit": 5,
          "tSNE-1": -25.74798583984375,
          "tSNE-2": -24.802038192749023
         },
         {
          "KM-label": 4,
          "digit": 3,
          "tSNE-1": 13.121954917907715,
          "tSNE-2": 3.820997714996338
         },
         {
          "KM-label": 6,
          "digit": 6,
          "tSNE-1": 35.722782135009766,
          "tSNE-2": -19.642927169799805
         },
         {
          "KM-label": 5,
          "digit": 9,
          "tSNE-1": 4.954458236694336,
          "tSNE-2": -22.255962371826172
         },
         {
          "KM-label": 6,
          "digit": 6,
          "tSNE-1": 31.31353759765625,
          "tSNE-2": -30.060386657714844
         },
         {
          "KM-label": 9,
          "digit": 1,
          "tSNE-1": -20.7532958984375,
          "tSNE-2": 17.418291091918945
         },
         {
          "KM-label": 4,
          "digit": 7,
          "tSNE-1": -45.0903205871582,
          "tSNE-2": -6.590795516967773
         },
         {
          "KM-label": 8,
          "digit": 5,
          "tSNE-1": -25.78131866455078,
          "tSNE-2": -25.621395111083984
         },
         {
          "KM-label": 3,
          "digit": 4,
          "tSNE-1": -16.888959884643555,
          "tSNE-2": 31.938907623291016
         },
         {
          "KM-label": 0,
          "digit": 4,
          "tSNE-1": -18.5679988861084,
          "tSNE-2": 30.127178192138672
         },
         {
          "KM-label": 4,
          "digit": 7,
          "tSNE-1": -47.18436813354492,
          "tSNE-2": -6.109081745147705
         },
         {
          "KM-label": 7,
          "digit": 2,
          "tSNE-1": 14.084341049194336,
          "tSNE-2": 37.48091506958008
         },
         {
          "KM-label": 3,
          "digit": 8,
          "tSNE-1": -5.114260196685791,
          "tSNE-2": 6.280045032501221
         },
         {
          "KM-label": 7,
          "digit": 2,
          "tSNE-1": 13.741865158081055,
          "tSNE-2": 37.60464859008789
         },
         {
          "KM-label": 7,
          "digit": 2,
          "tSNE-1": 6.683452606201172,
          "tSNE-2": 34.424591064453125
         },
         {
          "KM-label": 8,
          "digit": 5,
          "tSNE-1": -26.03569221496582,
          "tSNE-2": -24.925941467285156
         },
         {
          "KM-label": 8,
          "digit": 5,
          "tSNE-1": -24.959274291992188,
          "tSNE-2": -25.1983642578125
         },
         {
          "KM-label": 9,
          "digit": 4,
          "tSNE-1": -19.27169418334961,
          "tSNE-2": 29.577091217041016
         },
         {
          "KM-label": 3,
          "digit": 8,
          "tSNE-1": -4.164464473724365,
          "tSNE-2": 3.8465583324432373
         },
         {
          "KM-label": 3,
          "digit": 8,
          "tSNE-1": -3.3760807514190674,
          "tSNE-2": 3.4452805519104004
         },
         {
          "KM-label": 0,
          "digit": 4,
          "tSNE-1": -17.69939422607422,
          "tSNE-2": 29.568138122558594
         },
         {
          "KM-label": 5,
          "digit": 9,
          "tSNE-1": -2.50061297416687,
          "tSNE-2": -21.68876838684082
         },
         {
          "KM-label": 1,
          "digit": 0,
          "tSNE-1": 38.855491638183594,
          "tSNE-2": 1.2448792457580566
         },
         {
          "KM-label": 3,
          "digit": 8,
          "tSNE-1": -1.6605019569396973,
          "tSNE-2": 4.2614946365356445
         },
         {
          "KM-label": 5,
          "digit": 9,
          "tSNE-1": -0.7578692436218262,
          "tSNE-2": -22.379579544067383
         },
         {
          "KM-label": 3,
          "digit": 8,
          "tSNE-1": -7.269687175750732,
          "tSNE-2": 4.775063991546631
         },
         {
          "KM-label": 1,
          "digit": 0,
          "tSNE-1": 43.3748779296875,
          "tSNE-2": 11.580965995788574
         },
         {
          "KM-label": 3,
          "digit": 1,
          "tSNE-1": -6.597114086151123,
          "tSNE-2": 16.27189826965332
         },
         {
          "KM-label": 7,
          "digit": 2,
          "tSNE-1": 11.465353012084961,
          "tSNE-2": 31.986988067626953
         },
         {
          "KM-label": 2,
          "digit": 3,
          "tSNE-1": 9.76657772064209,
          "tSNE-2": -9.939712524414062
         },
         {
          "KM-label": 0,
          "digit": 4,
          "tSNE-1": -31.72170639038086,
          "tSNE-2": 31.124309539794922
         },
         {
          "KM-label": 5,
          "digit": 5,
          "tSNE-1": -10.664667129516602,
          "tSNE-2": -33.82609176635742
         },
         {
          "KM-label": 6,
          "digit": 6,
          "tSNE-1": 30.845918655395508,
          "tSNE-2": -31.282695770263672
         },
         {
          "KM-label": 4,
          "digit": 7,
          "tSNE-1": -42.020973205566406,
          "tSNE-2": 0.8927967548370361
         },
         {
          "KM-label": 5,
          "digit": 8,
          "tSNE-1": -4.544678688049316,
          "tSNE-2": -6.533980369567871
         },
         {
          "KM-label": 8,
          "digit": 9,
          "tSNE-1": -26.922203063964844,
          "tSNE-2": -0.5686846971511841
         },
         {
          "KM-label": 1,
          "digit": 0,
          "tSNE-1": 41.00994110107422,
          "tSNE-2": -0.8251534104347229
         },
         {
          "KM-label": 3,
          "digit": 1,
          "tSNE-1": -10.597478866577148,
          "tSNE-2": 15.612401008605957
         },
         {
          "KM-label": 7,
          "digit": 2,
          "tSNE-1": 11.710972785949707,
          "tSNE-2": 32.16825485229492
         },
         {
          "KM-label": 2,
          "digit": 3,
          "tSNE-1": 14.005523681640625,
          "tSNE-2": -5.3959641456604
         },
         {
          "KM-label": 0,
          "digit": 4,
          "tSNE-1": -30.971534729003906,
          "tSNE-2": 32.577476501464844
         },
         {
          "KM-label": 8,
          "digit": 5,
          "tSNE-1": -22.426837921142578,
          "tSNE-2": -25.05680274963379
         },
         {
          "KM-label": 6,
          "digit": 6,
          "tSNE-1": 32.142086029052734,
          "tSNE-2": -29.645675659179688
         },
         {
          "KM-label": 4,
          "digit": 7,
          "tSNE-1": -42.71628952026367,
          "tSNE-2": -6.2361741065979
         },
         {
          "KM-label": 3,
          "digit": 8,
          "tSNE-1": -10.4420747756958,
          "tSNE-2": -0.7525836229324341
         },
         {
          "KM-label": 4,
          "digit": 9,
          "tSNE-1": -26.734407424926758,
          "tSNE-2": -1.8856379985809326
         },
         {
          "KM-label": 1,
          "digit": 0,
          "tSNE-1": 43.65196990966797,
          "tSNE-2": 9.797298431396484
         },
         {
          "KM-label": 3,
          "digit": 1,
          "tSNE-1": -9.203380584716797,
          "tSNE-2": 15.09720516204834
         },
         {
          "KM-label": 7,
          "digit": 2,
          "tSNE-1": 10.428250312805176,
          "tSNE-2": 32.99309158325195
         },
         {
          "KM-label": 2,
          "digit": 3,
          "tSNE-1": 14.50669002532959,
          "tSNE-2": -10.10802173614502
         },
         {
          "KM-label": 0,
          "digit": 4,
          "tSNE-1": -33.236541748046875,
          "tSNE-2": 32.77656936645508
         },
         {
          "KM-label": 8,
          "digit": 5,
          "tSNE-1": -13.900245666503906,
          "tSNE-2": -31.83788299560547
         },
         {
          "KM-label": 6,
          "digit": 6,
          "tSNE-1": 27.400724411010742,
          "tSNE-2": -32.77982711791992
         },
         {
          "KM-label": 4,
          "digit": 7,
          "tSNE-1": -36.682010650634766,
          "tSNE-2": 2.4469411373138428
         },
         {
          "KM-label": 8,
          "digit": 8,
          "tSNE-1": -10.184428215026855,
          "tSNE-2": -1.0125303268432617
         },
         {
          "KM-label": 5,
          "digit": 9,
          "tSNE-1": 3.5227890014648438,
          "tSNE-2": -27.754369735717773
         },
         {
          "KM-label": 1,
          "digit": 0,
          "tSNE-1": 44.1253662109375,
          "tSNE-2": 11.397205352783203
         },
         {
          "KM-label": 5,
          "digit": 9,
          "tSNE-1": 8.363277435302734,
          "tSNE-2": -24.611177444458008
         },
         {
          "KM-label": 8,
          "digit": 5,
          "tSNE-1": -13.872527122497559,
          "tSNE-2": -30.822364807128906
         },
         {
          "KM-label": 5,
          "digit": 5,
          "tSNE-1": -12.466702461242676,
          "tSNE-2": -37.20876693725586
         },
         {
          "KM-label": 6,
          "digit": 6,
          "tSNE-1": 33.396820068359375,
          "tSNE-2": -27.248790740966797
         },
         {
          "KM-label": 5,
          "digit": 5,
          "tSNE-1": -8.636234283447266,
          "tSNE-2": -37.47295379638672
         },
         {
          "KM-label": 1,
          "digit": 0,
          "tSNE-1": 45.24650573730469,
          "tSNE-2": 11.660211563110352
         },
         {
          "KM-label": 5,
          "digit": 9,
          "tSNE-1": -2.5553414821624756,
          "tSNE-2": -25.335752487182617
         },
         {
          "KM-label": 3,
          "digit": 8,
          "tSNE-1": -4.403107643127441,
          "tSNE-2": -2.1163647174835205
         },
         {
          "KM-label": 5,
          "digit": 9,
          "tSNE-1": 8.181071281433105,
          "tSNE-2": -30.48488998413086
         },
         {
          "KM-label": 3,
          "digit": 8,
          "tSNE-1": -4.623440742492676,
          "tSNE-2": -2.5870044231414795
         },
         {
          "KM-label": 0,
          "digit": 4,
          "tSNE-1": -29.114601135253906,
          "tSNE-2": 35.8236198425293
         },
         {
          "KM-label": 3,
          "digit": 1,
          "tSNE-1": -2.0806076526641846,
          "tSNE-2": 15.046805381774902
         },
         {
          "KM-label": 4,
          "digit": 7,
          "tSNE-1": -43.19911575317383,
          "tSNE-2": -6.592452526092529
         },
         {
          "KM-label": 4,
          "digit": 7,
          "tSNE-1": -36.08358383178711,
          "tSNE-2": 0.8850370049476624
         },
         {
          "KM-label": 2,
          "digit": 3,
          "tSNE-1": 14.697105407714844,
          "tSNE-2": -5.1808762550354
         },
         {
          "KM-label": 8,
          "digit": 5,
          "tSNE-1": -13.986825942993164,
          "tSNE-2": -30.394336700439453
         },
         {
          "KM-label": 3,
          "digit": 1,
          "tSNE-1": -4.213742256164551,
          "tSNE-2": 12.683098793029785
         },
         {
          "KM-label": 1,
          "digit": 0,
          "tSNE-1": 45.515769958496094,
          "tSNE-2": 8.556588172912598
         },
         {
          "KM-label": 1,
          "digit": 0,
          "tSNE-1": 44.79520034790039,
          "tSNE-2": 8.545961380004883
         },
         {
          "KM-label": 7,
          "digit": 2,
          "tSNE-1": 10.896869659423828,
          "tSNE-2": 35.51322937011719
         },
         {
          "KM-label": 7,
          "digit": 2,
          "tSNE-1": 8.810357093811035,
          "tSNE-2": 33.64201736450195
         },
         {
          "KM-label": 4,
          "digit": 7,
          "tSNE-1": -39.16990661621094,
          "tSNE-2": 2.449662923812866
         },
         {
          "KM-label": 5,
          "digit": 8,
          "tSNE-1": -6.366979122161865,
          "tSNE-2": -8.369315147399902
         },
         {
          "KM-label": 7,
          "digit": 2,
          "tSNE-1": 11.188692092895508,
          "tSNE-2": 31.537635803222656
         },
         {
          "KM-label": 1,
          "digit": 0,
          "tSNE-1": 44.45247268676758,
          "tSNE-2": 9.351024627685547
         },
         {
          "KM-label": 9,
          "digit": 1,
          "tSNE-1": -21.537364959716797,
          "tSNE-2": 19.75629425048828
         },
         {
          "KM-label": 7,
          "digit": 2,
          "tSNE-1": 11.830379486083984,
          "tSNE-2": 33.23578643798828
         },
         {
          "KM-label": 6,
          "digit": 6,
          "tSNE-1": 32.72651290893555,
          "tSNE-2": -32.1813850402832
         },
         {
          "KM-label": 2,
          "digit": 3,
          "tSNE-1": 9.459616661071777,
          "tSNE-2": -7.243797779083252
         },
         {
          "KM-label": 2,
          "digit": 3,
          "tSNE-1": 15.444568634033203,
          "tSNE-2": -4.168054580688477
         },
         {
          "KM-label": 4,
          "digit": 7,
          "tSNE-1": -36.90324783325195,
          "tSNE-2": 2.6235954761505127
         },
         {
          "KM-label": 2,
          "digit": 3,
          "tSNE-1": 13.094258308410645,
          "tSNE-2": -6.168248176574707
         },
         {
          "KM-label": 2,
          "digit": 3,
          "tSNE-1": 13.035953521728516,
          "tSNE-2": -6.0523481369018555
         },
         {
          "KM-label": 0,
          "digit": 4,
          "tSNE-1": -31.68535804748535,
          "tSNE-2": 33.494285583496094
         },
         {
          "KM-label": 6,
          "digit": 6,
          "tSNE-1": 31.24720573425293,
          "tSNE-2": -34.56229019165039
         },
         {
          "KM-label": 6,
          "digit": 6,
          "tSNE-1": 31.357316970825195,
          "tSNE-2": -34.44745635986328
         },
         {
          "KM-label": 6,
          "digit": 6,
          "tSNE-1": 35.47425079345703,
          "tSNE-2": -28.172571182250977
         },
         {
          "KM-label": 0,
          "digit": 4,
          "tSNE-1": -33.29021072387695,
          "tSNE-2": 33.68242263793945
         },
         {
          "KM-label": 4,
          "digit": 9,
          "tSNE-1": -26.383270263671875,
          "tSNE-2": -1.011435866355896
         },
         {
          "KM-label": 3,
          "digit": 1,
          "tSNE-1": -5.272147178649902,
          "tSNE-2": 17.43572425842285
         },
         {
          "KM-label": 8,
          "digit": 5,
          "tSNE-1": -22.29209327697754,
          "tSNE-2": -30.16876983642578
         },
         {
          "KM-label": 1,
          "digit": 0,
          "tSNE-1": 40.87619400024414,
          "tSNE-2": 8.738133430480957
         },
         {
          "KM-label": 4,
          "digit": 9,
          "tSNE-1": -26.718116760253906,
          "tSNE-2": -1.7698664665222168
         },
         {
          "KM-label": 8,
          "digit": 5,
          "tSNE-1": -13.787795066833496,
          "tSNE-2": -30.802217483520508
         },
         {
          "KM-label": 7,
          "digit": 2,
          "tSNE-1": 10.653220176696777,
          "tSNE-2": 31.774154663085938
         },
         {
          "KM-label": 5,
          "digit": 8,
          "tSNE-1": -4.597318649291992,
          "tSNE-2": -5.984231948852539
         },
         {
          "KM-label": 7,
          "digit": 2,
          "tSNE-1": 10.403447151184082,
          "tSNE-2": 34.540462493896484
         },
         {
          "KM-label": 1,
          "digit": 0,
          "tSNE-1": 43.41883850097656,
          "tSNE-2": 10.320561408996582
         },
         {
          "KM-label": 1,
          "digit": 0,
          "tSNE-1": 40.89963150024414,
          "tSNE-2": 9.358158111572266
         },
         {
          "KM-label": 3,
          "digit": 1,
          "tSNE-1": -9.717164993286133,
          "tSNE-2": 15.659019470214844
         },
         {
          "KM-label": 4,
          "digit": 7,
          "tSNE-1": -37.56407165527344,
          "tSNE-2": -2.892653226852417
         },
         {
          "KM-label": 6,
          "digit": 6,
          "tSNE-1": 33.83210372924805,
          "tSNE-2": -23.935060501098633
         },
         {
          "KM-label": 2,
          "digit": 3,
          "tSNE-1": 14.172000885009766,
          "tSNE-2": -5.386560440063477
         },
         {
          "KM-label": 7,
          "digit": 2,
          "tSNE-1": 9.424013137817383,
          "tSNE-2": 33.28373336791992
         },
         {
          "KM-label": 3,
          "digit": 1,
          "tSNE-1": -10.259784698486328,
          "tSNE-2": 15.5416841506958
         },
         {
          "KM-label": 4,
          "digit": 7,
          "tSNE-1": -38.2803840637207,
          "tSNE-2": -2.922539234161377
         },
         {
          "KM-label": 0,
          "digit": 4,
          "tSNE-1": -31.047128677368164,
          "tSNE-2": 32.81444549560547
         },
         {
          "KM-label": 6,
          "digit": 6,
          "tSNE-1": 31.31941795349121,
          "tSNE-2": -31.886167526245117
         },
         {
          "KM-label": 2,
          "digit": 3,
          "tSNE-1": 14.00055980682373,
          "tSNE-2": -3.356332778930664
         },
         {
          "KM-label": 3,
          "digit": 1,
          "tSNE-1": -7.609464645385742,
          "tSNE-2": 16.66461753845215
         },
         {
          "KM-label": 2,
          "digit": 3,
          "tSNE-1": 9.422911643981934,
          "tSNE-2": -7.4394755363464355
         },
         {
          "KM-label": 4,
          "digit": 9,
          "tSNE-1": -26.833227157592773,
          "tSNE-2": -1.0131021738052368
         },
         {
          "KM-label": 3,
          "digit": 1,
          "tSNE-1": -5.84019136428833,
          "tSNE-2": 19.382417678833008
         },
         {
          "KM-label": 4,
          "digit": 7,
          "tSNE-1": -45.36399841308594,
          "tSNE-2": -5.215888977050781
         },
         {
          "KM-label": 6,
          "digit": 6,
          "tSNE-1": 33.525299072265625,
          "tSNE-2": -27.507366180419922
         },
         {
          "KM-label": 3,
          "digit": 8,
          "tSNE-1": -7.038735866546631,
          "tSNE-2": 0.26474717259407043
         },
         {
          "KM-label": 0,
          "digit": 4,
          "tSNE-1": -28.559364318847656,
          "tSNE-2": 37.49342727661133
         },
         {
          "KM-label": 2,
          "digit": 3,
          "tSNE-1": 9.072722434997559,
          "tSNE-2": -7.18253231048584
         },
         {
          "KM-label": 3,
          "digit": 1,
          "tSNE-1": -8.091384887695312,
          "tSNE-2": 19.915691375732422
         },
         {
          "KM-label": 0,
          "digit": 4,
          "tSNE-1": -32.368587493896484,
          "tSNE-2": 29.381065368652344
         },
         {
          "KM-label": 1,
          "digit": 0,
          "tSNE-1": 39.88227081298828,
          "tSNE-2": -1.6051732301712036
         },
         {
          "KM-label": 5,
          "digit": 5,
          "tSNE-1": -11.476353645324707,
          "tSNE-2": -33.687896728515625
         },
         {
          "KM-label": 2,
          "digit": 3,
          "tSNE-1": 14.655657768249512,
          "tSNE-2": -10.14694595336914
         },
         {
          "KM-label": 6,
          "digit": 6,
          "tSNE-1": 29.816810607910156,
          "tSNE-2": -31.553579330444336
         },
         {
          "KM-label": 4,
          "digit": 9,
          "tSNE-1": -26.523101806640625,
          "tSNE-2": -1.4581636190414429
         },
         {
          "KM-label": 6,
          "digit": 6,
          "tSNE-1": 31.4399471282959,
          "tSNE-2": -35.20957565307617
         },
         {
          "KM-label": 3,
          "digit": 1,
          "tSNE-1": -2.7862143516540527,
          "tSNE-2": 15.725192070007324
         },
         {
          "KM-label": 4,
          "digit": 7,
          "tSNE-1": -46.57768630981445,
          "tSNE-2": -5.219236850738525
         },
         {
          "KM-label": 8,
          "digit": 5,
          "tSNE-1": -17.139183044433594,
          "tSNE-2": -30.674354553222656
         },
         {
          "KM-label": 0,
          "digit": 4,
          "tSNE-1": -27.149015426635742,
          "tSNE-2": 39.77500915527344
         },
         {
          "KM-label": 0,
          "digit": 4,
          "tSNE-1": -29.941186904907227,
          "tSNE-2": 33.79640197753906
         },
         {
          "KM-label": 4,
          "digit": 7,
          "tSNE-1": -38.333187103271484,
          "tSNE-2": -2.9229633808135986
         },
         {
          "KM-label": 7,
          "digit": 2,
          "tSNE-1": 10.540433883666992,
          "tSNE-2": 32.32338333129883
         },
         {
          "KM-label": 5,
          "digit": 8,
          "tSNE-1": -4.900533676147461,
          "tSNE-2": -3.6459624767303467
         },
         {
          "KM-label": 7,
          "digit": 2,
          "tSNE-1": 10.350905418395996,
          "tSNE-2": 34.59872817993164
         },
         {
          "KM-label": 7,
          "digit": 2,
          "tSNE-1": 12.562490463256836,
          "tSNE-2": 33.43059539794922
         },
         {
          "KM-label": 5,
          "digit": 5,
          "tSNE-1": -11.29206657409668,
          "tSNE-2": -36.60853576660156
         },
         {
          "KM-label": 4,
          "digit": 7,
          "tSNE-1": -38.25950241088867,
          "tSNE-2": 0.6330676674842834
         },
         {
          "KM-label": 9,
          "digit": 9,
          "tSNE-1": -28.206050872802734,
          "tSNE-2": 12.214680671691895
         },
         {
          "KM-label": 8,
          "digit": 5,
          "tSNE-1": -26.439510345458984,
          "tSNE-2": -23.787092208862305
         },
         {
          "KM-label": 0,
          "digit": 4,
          "tSNE-1": -32.38751220703125,
          "tSNE-2": 33.71512222290039
         },
         {
          "KM-label": 5,
          "digit": 8,
          "tSNE-1": -0.8045436143875122,
          "tSNE-2": -6.131910800933838
         },
         {
          "KM-label": 5,
          "digit": 8,
          "tSNE-1": -4.830723285675049,
          "tSNE-2": -2.9320995807647705
         },
         {
          "KM-label": 0,
          "digit": 4,
          "tSNE-1": -28.877416610717773,
          "tSNE-2": 33.07550811767578
         },
         {
          "KM-label": 9,
          "digit": 9,
          "tSNE-1": -28.0584716796875,
          "tSNE-2": 12.995488166809082
         },
         {
          "KM-label": 1,
          "digit": 0,
          "tSNE-1": 43.2369499206543,
          "tSNE-2": 3.4232757091522217
         },
         {
          "KM-label": 3,
          "digit": 8,
          "tSNE-1": -10.127318382263184,
          "tSNE-2": -0.6959308981895447
         },
         {
          "KM-label": 4,
          "digit": 9,
          "tSNE-1": -26.722715377807617,
          "tSNE-2": -0.7989581227302551
         },
         {
          "KM-label": 2,
          "digit": 3,
          "tSNE-1": 11.834301948547363,
          "tSNE-2": -1.7462303638458252
         },
         {
          "KM-label": 1,
          "digit": 0,
          "tSNE-1": 43.27605056762695,
          "tSNE-2": -0.5734118819236755
         },
         {
          "KM-label": 9,
          "digit": 1,
          "tSNE-1": -21.216083526611328,
          "tSNE-2": 13.870434761047363
         },
         {
          "KM-label": 7,
          "digit": 2,
          "tSNE-1": 15.230530738830566,
          "tSNE-2": 28.029624938964844
         },
         {
          "KM-label": 2,
          "digit": 3,
          "tSNE-1": 15.226851463317871,
          "tSNE-2": -3.368698835372925
         },
         {
          "KM-label": 0,
          "digit": 4,
          "tSNE-1": -17.860469818115234,
          "tSNE-2": 32.6076774597168
         },
         {
          "KM-label": 8,
          "digit": 5,
          "tSNE-1": -14.6522855758667,
          "tSNE-2": -26.87912368774414
         },
         {
          "KM-label": 6,
          "digit": 6,
          "tSNE-1": 35.281349182128906,
          "tSNE-2": -18.523387908935547
         },
         {
          "KM-label": 4,
          "digit": 7,
          "tSNE-1": -30.087629318237305,
          "tSNE-2": 2.0156972408294678
         },
         {
          "KM-label": 5,
          "digit": 8,
          "tSNE-1": -7.729355812072754,
          "tSNE-2": -6.89894962310791
         },
         {
          "KM-label": 5,
          "digit": 9,
          "tSNE-1": 3.9296181201934814,
          "tSNE-2": -25.225234985351562
         },
         {
          "KM-label": 1,
          "digit": 0,
          "tSNE-1": 41.69667053222656,
          "tSNE-2": 0.9860870838165283
         },
         {
          "KM-label": 9,
          "digit": 1,
          "tSNE-1": -17.007219314575195,
          "tSNE-2": 15.433359146118164
         },
         {
          "KM-label": 7,
          "digit": 2,
          "tSNE-1": 17.644031524658203,
          "tSNE-2": 26.97966194152832
         },
         {
          "KM-label": 2,
          "digit": 3,
          "tSNE-1": 8.641521453857422,
          "tSNE-2": -11.952376365661621
         },
         {
          "KM-label": 0,
          "digit": 4,
          "tSNE-1": -35.29652786254883,
          "tSNE-2": 37.92633056640625
         },
         {
          "KM-label": 8,
          "digit": 5,
          "tSNE-1": -17.32312774658203,
          "tSNE-2": -26.288461685180664
         },
         {
          "KM-label": 6,
          "digit": 6,
          "tSNE-1": 36.042816162109375,
          "tSNE-2": -17.81070327758789
         },
         {
          "KM-label": 4,
          "digit": 7,
          "tSNE-1": -29.862884521484375,
          "tSNE-2": 2.3460960388183594
         },
         {
          "KM-label": 3,
          "digit": 8,
          "tSNE-1": -8.027091979980469,
          "tSNE-2": 1.1291743516921997
         },
         {
          "KM-label": 5,
          "digit": 9,
          "tSNE-1": 8.201257705688477,
          "tSNE-2": -25.973628997802734
         },
         {
          "KM-label": 1,
          "digit": 0,
          "tSNE-1": 39.88492965698242,
          "tSNE-2": 1.4084769487380981
         },
         {
          "KM-label": 9,
          "digit": 1,
          "tSNE-1": -19.070268630981445,
          "tSNE-2": 15.75334358215332
         },
         {
          "KM-label": 7,
          "digit": 2,
          "tSNE-1": 16.267688751220703,
          "tSNE-2": 31.459260940551758
         },
         {
          "KM-label": 2,
          "digit": 3,
          "tSNE-1": 13.365504264831543,
          "tSNE-2": -14.621529579162598
         },
         {
          "KM-label": 0,
          "digit": 4,
          "tSNE-1": -19.314716339111328,
          "tSNE-2": 31.8140811920166
         },
         {
          "KM-label": 8,
          "digit": 5,
          "tSNE-1": -17.081815719604492,
          "tSNE-2": -26.4527530670166
         },
         {
          "KM-label": 6,
          "digit": 6,
          "tSNE-1": 36.89264678955078,
          "tSNE-2": -19.220285415649414
         },
         {
          "KM-label": 8,
          "digit": 7,
          "tSNE-1": -29.76297950744629,
          "tSNE-2": 2.6995246410369873
         },
         {
          "KM-label": 5,
          "digit": 8,
          "tSNE-1": -8.817985534667969,
          "tSNE-2": -10.744114875793457
         },
         {
          "KM-label": 5,
          "digit": 9,
          "tSNE-1": 8.18283462524414,
          "tSNE-2": -25.976533889770508
         },
         {
          "KM-label": 1,
          "digit": 0,
          "tSNE-1": 33.58839416503906,
          "tSNE-2": 4.625006675720215
         },
         {
          "KM-label": 5,
          "digit": 9,
          "tSNE-1": -2.26986026763916,
          "tSNE-2": -20.477888107299805
         },
         {
          "KM-label": 5,
          "digit": 5,
          "tSNE-1": -14.124724388122559,
          "tSNE-2": -26.7116756439209
         },
         {
          "KM-label": 8,
          "digit": 5,
          "tSNE-1": -17.184799194335938,
          "tSNE-2": -27.054611206054688
         },
         {
          "KM-label": 6,
          "digit": 6,
          "tSNE-1": 36.93528747558594,
          "tSNE-2": -17.841920852661133
         },
         {
          "KM-label": 5,
          "digit": 5,
          "tSNE-1": -12.90408706665039,
          "tSNE-2": -26.072444915771484
         },
         {
          "KM-label": 1,
          "digit": 0,
          "tSNE-1": 42.77090072631836,
          "tSNE-2": -0.6214936971664429
         },
         {
          "KM-label": 5,
          "digit": 9,
          "tSNE-1": -2.2164511680603027,
          "tSNE-2": -20.279298782348633
         },
         {
          "KM-label": 5,
          "digit": 8,
          "tSNE-1": -6.523472785949707,
          "tSNE-2": -6.140524864196777
         },
         {
          "KM-label": 5,
          "digit": 9,
          "tSNE-1": 1.3106157779693604,
          "tSNE-2": -25.43764877319336
         },
         {
          "KM-label": 5,
          "digit": 8,
          "tSNE-1": -6.864550590515137,
          "tSNE-2": -5.433899879455566
         },
         {
          "KM-label": 0,
          "digit": 4,
          "tSNE-1": -20.983922958374023,
          "tSNE-2": 30.8429012298584
         },
         {
          "KM-label": 9,
          "digit": 1,
          "tSNE-1": -19.76460075378418,
          "tSNE-2": 15.83362102508545
         },
         {
          "KM-label": 4,
          "digit": 7,
          "tSNE-1": -28.712268829345703,
          "tSNE-2": 3.6760265827178955
         },
         {
          "KM-label": 4,
          "digit": 7,
          "tSNE-1": -30.92673110961914,
          "tSNE-2": 0.6655591726303101
         },
         {
          "KM-label": 2,
          "digit": 3,
          "tSNE-1": 9.0906400680542,
          "tSNE-2": -12.667409896850586
         },
         {
          "KM-label": 8,
          "digit": 5,
          "tSNE-1": -16.265417098999023,
          "tSNE-2": -26.18810272216797
         },
         {
          "KM-label": 9,
          "digit": 1,
          "tSNE-1": -17.052507400512695,
          "tSNE-2": 15.540895462036133
         },
         {
          "KM-label": 1,
          "digit": 0,
          "tSNE-1": 42.492401123046875,
          "tSNE-2": 1.8889187574386597
         },
         {
          "KM-label": 1,
          "digit": 0,
          "tSNE-1": 40.70090866088867,
          "tSNE-2": 2.1699345111846924
         },
         {
          "KM-label": 7,
          "digit": 2,
          "tSNE-1": 17.900737762451172,
          "tSNE-2": 27.320783615112305
         },
         {
          "KM-label": 7,
          "digit": 2,
          "tSNE-1": 16.049236297607422,
          "tSNE-2": 29.327058792114258
         },
         {
          "KM-label": 4,
          "digit": 7,
          "tSNE-1": -29.93993377685547,
          "tSNE-2": 2.1444034576416016
         },
         {
          "KM-label": 5,
          "digit": 8,
          "tSNE-1": -7.545432090759277,
          "tSNE-2": -9.098204612731934
         },
         {
          "KM-label": 7,
          "digit": 2,
          "tSNE-1": 16.568876266479492,
          "tSNE-2": 28.606374740600586
         },
         {
          "KM-label": 1,
          "digit": 0,
          "tSNE-1": 44.241214752197266,
          "tSNE-2": 5.655952453613281
         },
         {
          "KM-label": 7,
          "digit": 1,
          "tSNE-1": 26.939668655395508,
          "tSNE-2": 26.208402633666992
         },
         {
          "KM-label": 7,
          "digit": 2,
          "tSNE-1": 17.69623565673828,
          "tSNE-2": 26.61796760559082
         },
         {
          "KM-label": 6,
          "digit": 6,
          "tSNE-1": 28.568819046020508,
          "tSNE-2": -26.881383895874023
         },
         {
          "KM-label": 2,
          "digit": 3,
          "tSNE-1": 8.969958305358887,
          "tSNE-2": -13.30073356628418
         },
         {
          "KM-label": 5,
          "digit": 3,
          "tSNE-1": 8.127323150634766,
          "tSNE-2": -11.972350120544434
         },
         {
          "KM-label": 8,
          "digit": 7,
          "tSNE-1": -29.615846633911133,
          "tSNE-2": 3.369276762008667
         },
         {
          "KM-label": 5,
          "digit": 3,
          "tSNE-1": 8.889971733093262,
          "tSNE-2": -12.97402572631836
         },
         {
          "KM-label": 5,
          "digit": 3,
          "tSNE-1": 8.059651374816895,
          "tSNE-2": -11.593883514404297
         },
         {
          "KM-label": 0,
          "digit": 4,
          "tSNE-1": -19.579200744628906,
          "tSNE-2": 32.841243743896484
         },
         {
          "KM-label": 6,
          "digit": 6,
          "tSNE-1": 36.869808197021484,
          "tSNE-2": -19.519079208374023
         },
         {
          "KM-label": 6,
          "digit": 6,
          "tSNE-1": 35.71565246582031,
          "tSNE-2": -18.209693908691406
         },
         {
          "KM-label": 6,
          "digit": 6,
          "tSNE-1": 36.96193313598633,
          "tSNE-2": -19.428993225097656
         },
         {
          "KM-label": 0,
          "digit": 4,
          "tSNE-1": -19.374799728393555,
          "tSNE-2": 31.982769012451172
         },
         {
          "KM-label": 5,
          "digit": 9,
          "tSNE-1": 0.8896244168281555,
          "tSNE-2": -25.64950180053711
         },
         {
          "KM-label": 9,
          "digit": 1,
          "tSNE-1": -19.551849365234375,
          "tSNE-2": 16.171621322631836
         },
         {
          "KM-label": 5,
          "digit": 5,
          "tSNE-1": -12.810218811035156,
          "tSNE-2": -29.045854568481445
         },
         {
          "KM-label": 1,
          "digit": 0,
          "tSNE-1": 37.50481414794922,
          "tSNE-2": 6.4068427085876465
         },
         {
          "KM-label": 5,
          "digit": 9,
          "tSNE-1": -2.1586837768554688,
          "tSNE-2": -20.213830947875977
         },
         {
          "KM-label": 8,
          "digit": 5,
          "tSNE-1": -17.189823150634766,
          "tSNE-2": -27.104398727416992
         },
         {
          "KM-label": 7,
          "digit": 2,
          "tSNE-1": 17.735498428344727,
          "tSNE-2": 28.50313377380371
         },
         {
          "KM-label": 3,
          "digit": 8,
          "tSNE-1": -7.467788219451904,
          "tSNE-2": -4.8823323249816895
         },
         {
          "KM-label": 7,
          "digit": 2,
          "tSNE-1": 14.84786605834961,
          "tSNE-2": 32.05868148803711
         },
         {
          "KM-label": 1,
          "digit": 0,
          "tSNE-1": 42.98469161987305,
          "tSNE-2": 6.474656581878662
         },
         {
          "KM-label": 1,
          "digit": 0,
          "tSNE-1": 42.89308166503906,
          "tSNE-2": 0.7902007699012756
         },
         {
          "KM-label": 9,
          "digit": 1,
          "tSNE-1": -16.754579544067383,
          "tSNE-2": 16.30628776550293
         },
         {
          "KM-label": 8,
          "digit": 7,
          "tSNE-1": -28.705657958984375,
          "tSNE-2": 3.68635892868042
         },
         {
          "KM-label": 6,
          "digit": 6,
          "tSNE-1": 29.893232345581055,
          "tSNE-2": -23.40766143798828
         },
         {
          "KM-label": 2,
          "digit": 3,
          "tSNE-1": 8.474742889404297,
          "tSNE-2": -11.714930534362793
         },
         {
          "KM-label": 7,
          "digit": 2,
          "tSNE-1": 16.57010269165039,
          "tSNE-2": 34.046844482421875
         },
         {
          "KM-label": 9,
          "digit": 1,
          "tSNE-1": -16.305967330932617,
          "tSNE-2": 16.557132720947266
         },
         {
          "KM-label": 4,
          "digit": 7,
          "tSNE-1": -30.71412467956543,
          "tSNE-2": 1.1617367267608643
         },
         {
          "KM-label": 9,
          "digit": 4,
          "tSNE-1": -22.676433563232422,
          "tSNE-2": 32.416316986083984
         },
         {
          "KM-label": 6,
          "digit": 6,
          "tSNE-1": 37.931602478027344,
          "tSNE-2": -20.91562271118164
         },
         {
          "KM-label": 2,
          "digit": 3,
          "tSNE-1": 8.335766792297363,
          "tSNE-2": -11.2234468460083
         },
         {
          "KM-label": 9,
          "digit": 1,
          "tSNE-1": -19.09574317932129,
          "tSNE-2": 17.620067596435547
         },
         {
          "KM-label": 2,
          "digit": 3,
          "tSNE-1": 7.974278926849365,
          "tSNE-2": -10.144858360290527
         },
         {
          "KM-label": 5,
          "digit": 9,
          "tSNE-1": 0.9649384021759033,
          "tSNE-2": -23.86849594116211
         },
         {
          "KM-label": 9,
          "digit": 1,
          "tSNE-1": -18.29580307006836,
          "tSNE-2": 15.55524730682373
         },
         {
          "KM-label": 8,
          "digit": 7,
          "tSNE-1": -27.449241638183594,
          "tSNE-2": 0.35572439432144165
         },
         {
          "KM-label": 6,
          "digit": 6,
          "tSNE-1": 38.126705169677734,
          "tSNE-2": -18.79912567138672
         },
         {
          "KM-label": 5,
          "digit": 8,
          "tSNE-1": -2.8900787830352783,
          "tSNE-2": -7.689305782318115
         },
         {
          "KM-label": 0,
          "digit": 4,
          "tSNE-1": -19.42473030090332,
          "tSNE-2": 33.17782974243164
         },
         {
          "KM-label": 2,
          "digit": 3,
          "tSNE-1": 8.539984703063965,
          "tSNE-2": -10.261423110961914
         },
         {
          "KM-label": 9,
          "digit": 1,
          "tSNE-1": -17.702455520629883,
          "tSNE-2": 15.45431137084961
         },
         {
          "KM-label": 0,
          "digit": 4,
          "tSNE-1": -19.775623321533203,
          "tSNE-2": 31.5616397857666
         },
         {
          "KM-label": 1,
          "digit": 0,
          "tSNE-1": 42.201446533203125,
          "tSNE-2": -1.7479312419891357
         },
         {
          "KM-label": 8,
          "digit": 5,
          "tSNE-1": -16.767168045043945,
          "tSNE-2": -28.547801971435547
         },
         {
          "KM-label": 2,
          "digit": 3,
          "tSNE-1": 7.453638076782227,
          "tSNE-2": -12.146655082702637
         },
         {
          "KM-label": 6,
          "digit": 6,
          "tSNE-1": 36.275047302246094,
          "tSNE-2": -19.928220748901367
         },
         {
          "KM-label": 5,
          "digit": 9,
          "tSNE-1": -2.204267740249634,
          "tSNE-2": -20.09799575805664
         },
         {
          "KM-label": 3,
          "digit": 6,
          "tSNE-1": -10.25501537322998,
          "tSNE-2": 8.33655834197998
         },
         {
          "KM-label": 9,
          "digit": 1,
          "tSNE-1": -19.51645851135254,
          "tSNE-2": 15.540060043334961
         },
         {
          "KM-label": 4,
          "digit": 7,
          "tSNE-1": -29.791597366333008,
          "tSNE-2": 3.030994176864624
         },
         {
          "KM-label": 8,
          "digit": 5,
          "tSNE-1": -17.474266052246094,
          "tSNE-2": -26.89581871032715
         },
         {
          "KM-label": 9,
          "digit": 4,
          "tSNE-1": -22.22716522216797,
          "tSNE-2": 31.898521423339844
         },
         {
          "KM-label": 0,
          "digit": 4,
          "tSNE-1": -20.487804412841797,
          "tSNE-2": 32.118045806884766
         },
         {
          "KM-label": 8,
          "digit": 7,
          "tSNE-1": -29.61131477355957,
          "tSNE-2": 2.4741227626800537
         },
         {
          "KM-label": 7,
          "digit": 2,
          "tSNE-1": 14.668855667114258,
          "tSNE-2": 32.73225021362305
         },
         {
          "KM-label": 5,
          "digit": 8,
          "tSNE-1": -4.280147552490234,
          "tSNE-2": -7.566206932067871
         },
         {
          "KM-label": 7,
          "digit": 2,
          "tSNE-1": 16.216787338256836,
          "tSNE-2": 32.37294006347656
         },
         {
          "KM-label": 3,
          "digit": 2,
          "tSNE-1": 4.3020124435424805,
          "tSNE-2": 9.190652847290039
         },
         {
          "KM-label": 8,
          "digit": 5,
          "tSNE-1": -24.466960906982422,
          "tSNE-2": -27.84785270690918
         },
         {
          "KM-label": 4,
          "digit": 7,
          "tSNE-1": -30.556564331054688,
          "tSNE-2": 1.2807728052139282
         },
         {
          "KM-label": 5,
          "digit": 9,
          "tSNE-1": 1.0583983659744263,
          "tSNE-2": -24.327022552490234
         },
         {
          "KM-label": 8,
          "digit": 5,
          "tSNE-1": -16.47866439819336,
          "tSNE-2": -26.331064224243164
         },
         {
          "KM-label": 0,
          "digit": 4,
          "tSNE-1": -22.480905532836914,
          "tSNE-2": 32.32743835449219
         },
         {
          "KM-label": 3,
          "digit": 8,
          "tSNE-1": -7.308258056640625,
          "tSNE-2": 0.8575172424316406
         },
         {
          "KM-label": 3,
          "digit": 8,
          "tSNE-1": -6.972555160522461,
          "tSNE-2": 1.4279022216796875
         },
         {
          "KM-label": 0,
          "digit": 4,
          "tSNE-1": -17.589977264404297,
          "tSNE-2": 32.496070861816406
         },
         {
          "KM-label": 5,
          "digit": 9,
          "tSNE-1": 1.4548484086990356,
          "tSNE-2": -31.628154754638672
         },
         {
          "KM-label": 1,
          "digit": 0,
          "tSNE-1": 41.34545135498047,
          "tSNE-2": 6.040293216705322
         },
         {
          "KM-label": 5,
          "digit": 8,
          "tSNE-1": -5.663198471069336,
          "tSNE-2": -5.606470584869385
         },
         {
          "KM-label": 5,
          "digit": 9,
          "tSNE-1": 0.976159393787384,
          "tSNE-2": -24.406679153442383
         },
         {
          "KM-label": 5,
          "digit": 8,
          "tSNE-1": -7.019645690917969,
          "tSNE-2": -5.762857913970947
         },
         {
          "KM-label": 1,
          "digit": 0,
          "tSNE-1": 38.670555114746094,
          "tSNE-2": 6.7721381187438965
         },
         {
          "KM-label": 7,
          "digit": 1,
          "tSNE-1": 27.626691818237305,
          "tSNE-2": 24.584806442260742
         },
         {
          "KM-label": 7,
          "digit": 2,
          "tSNE-1": 16.29833984375,
          "tSNE-2": 23.184900283813477
         },
         {
          "KM-label": 5,
          "digit": 3,
          "tSNE-1": 2.0650839805603027,
          "tSNE-2": -11.41356372833252
         },
         {
          "KM-label": 0,
          "digit": 4,
          "tSNE-1": -36.23889923095703,
          "tSNE-2": 35.23246765136719
         },
         {
          "KM-label": 8,
          "digit": 5,
          "tSNE-1": -11.75100040435791,
          "tSNE-2": -30.26665496826172
         },
         {
          "KM-label": 6,
          "digit": 6,
          "tSNE-1": 29.25519561767578,
          "tSNE-2": -24.297016143798828
         },
         {
          "KM-label": 4,
          "digit": 7,
          "tSNE-1": -43.520240783691406,
          "tSNE-2": -12.170334815979004
         },
         {
          "KM-label": 3,
          "digit": 8,
          "tSNE-1": 0.030310317873954773,
          "tSNE-2": 5.985713005065918
         },
         {
          "KM-label": 5,
          "digit": 9,
          "tSNE-1": -2.309204578399658,
          "tSNE-2": -17.426952362060547
         },
         {
          "KM-label": 1,
          "digit": 0,
          "tSNE-1": 46.703857421875,
          "tSNE-2": 7.819301605224609
         },
         {
          "KM-label": 7,
          "digit": 1,
          "tSNE-1": 27.38243293762207,
          "tSNE-2": 26.271047592163086
         },
         {
          "KM-label": 7,
          "digit": 2,
          "tSNE-1": 12.045153617858887,
          "tSNE-2": 24.113393783569336
         },
         {
          "KM-label": 5,
          "digit": 3,
          "tSNE-1": 2.3691179752349854,
          "tSNE-2": -10.209304809570312
         },
         {
          "KM-label": 4,
          "digit": 4,
          "tSNE-1": -36.406551361083984,
          "tSNE-2": 33.55272674560547
         },
         {
          "KM-label": 5,
          "digit": 5,
          "tSNE-1": -9.746769905090332,
          "tSNE-2": -31.886144638061523
         },
         {
          "KM-label": 6,
          "digit": 6,
          "tSNE-1": 27.443836212158203,
          "tSNE-2": -26.467546463012695
         },
         {
          "KM-label": 4,
          "digit": 7,
          "tSNE-1": -40.81488037109375,
          "tSNE-2": -7.9058356285095215
         },
         {
          "KM-label": 3,
          "digit": 8,
          "tSNE-1": 0.4152856767177582,
          "tSNE-2": 4.431801795959473
         },
         {
          "KM-label": 5,
          "digit": 9,
          "tSNE-1": -0.050978243350982666,
          "tSNE-2": -31.27512550354004
         },
         {
          "KM-label": 1,
          "digit": 0,
          "tSNE-1": 38.530792236328125,
          "tSNE-2": 8.022719383239746
         },
         {
          "KM-label": 7,
          "digit": 1,
          "tSNE-1": 28.33774185180664,
          "tSNE-2": 26.103647232055664
         },
         {
          "KM-label": 7,
          "digit": 2,
          "tSNE-1": 12.241382598876953,
          "tSNE-2": 23.99563980102539
         },
         {
          "KM-label": 5,
          "digit": 3,
          "tSNE-1": 1.7819921970367432,
          "tSNE-2": -9.497129440307617
         },
         {
          "KM-label": 0,
          "digit": 4,
          "tSNE-1": -34.15121841430664,
          "tSNE-2": 38.44484329223633
         },
         {
          "KM-label": 5,
          "digit": 5,
          "tSNE-1": -11.05252742767334,
          "tSNE-2": -31.908756256103516
         },
         {
          "KM-label": 6,
          "digit": 6,
          "tSNE-1": 29.527864456176758,
          "tSNE-2": -25.695837020874023
         },
         {
          "KM-label": 4,
          "digit": 7,
          "tSNE-1": -39.34870910644531,
          "tSNE-2": 2.623335361480713
         },
         {
          "KM-label": 3,
          "digit": 8,
          "tSNE-1": 0.6580848097801208,
          "tSNE-2": 3.802915096282959
         },
         {
          "KM-label": 5,
          "digit": 9,
          "tSNE-1": -0.6532250642776489,
          "tSNE-2": -16.81012725830078
         },
         {
          "KM-label": 1,
          "digit": 0,
          "tSNE-1": 38.43113327026367,
          "tSNE-2": 7.088993549346924
         },
         {
          "KM-label": 8,
          "digit": 9,
          "tSNE-1": -8.583293914794922,
          "tSNE-2": -0.26542866230010986
         },
         {
          "KM-label": 8,
          "digit": 5,
          "tSNE-1": -14.065842628479004,
          "tSNE-2": -29.130596160888672
         },
         {
          "KM-label": 5,
          "digit": 5,
          "tSNE-1": -9.799216270446777,
          "tSNE-2": -32.5936279296875
         },
         {
          "KM-label": 6,
          "digit": 6,
          "tSNE-1": 27.692901611328125,
          "tSNE-2": -24.076683044433594
         },
         {
          "KM-label": 5,
          "digit": 5,
          "tSNE-1": -10.397690773010254,
          "tSNE-2": -32.12587356567383
         },
         {
          "KM-label": 1,
          "digit": 0,
          "tSNE-1": 46.18338394165039,
          "tSNE-2": 5.409064292907715
         },
         {
          "KM-label": 5,
          "digit": 9,
          "tSNE-1": 2.801537275314331,
          "tSNE-2": -31.160972595214844
         },
         {
          "KM-label": 3,
          "digit": 8,
          "tSNE-1": 0.5021365284919739,
          "tSNE-2": 5.794753551483154
         },
         {
          "KM-label": 5,
          "digit": 9,
          "tSNE-1": -1.9019821882247925,
          "tSNE-2": -16.555368423461914
         },
         {
          "KM-label": 3,
          "digit": 8,
          "tSNE-1": 1.0729119777679443,
          "tSNE-2": 4.228185653686523
         },
         {
          "KM-label": 0,
          "digit": 4,
          "tSNE-1": -34.863800048828125,
          "tSNE-2": 35.77924728393555
         },
         {
          "KM-label": 7,
          "digit": 1,
          "tSNE-1": 28.18508529663086,
          "tSNE-2": 26.46744155883789
         },
         {
          "KM-label": 4,
          "digit": 7,
          "tSNE-1": -40.38962173461914,
          "tSNE-2": -1.832891583442688
         },
         {
          "KM-label": 4,
          "digit": 7,
          "tSNE-1": -40.31987762451172,
          "tSNE-2": -6.816708087921143
         },
         {
          "KM-label": 2,
          "digit": 3,
          "tSNE-1": 2.641653299331665,
          "tSNE-2": -11.122666358947754
         },
         {
          "KM-label": 5,
          "digit": 5,
          "tSNE-1": -11.159770011901855,
          "tSNE-2": -32.052330017089844
         },
         {
          "KM-label": 6,
          "digit": 1,
          "tSNE-1": 29.335350036621094,
          "tSNE-2": 25.496015548706055
         },
         {
          "KM-label": 1,
          "digit": 0,
          "tSNE-1": 40.20427322387695,
          "tSNE-2": 5.216563701629639
         },
         {
          "KM-label": 1,
          "digit": 0,
          "tSNE-1": 46.52016830444336,
          "tSNE-2": 1.2854820489883423
         },
         {
          "KM-label": 7,
          "digit": 2,
          "tSNE-1": 12.865047454833984,
          "tSNE-2": 25.74575424194336
         },
         {
          "KM-label": 7,
          "digit": 2,
          "tSNE-1": 12.63591194152832,
          "tSNE-2": 25.588716506958008
         },
         {
          "KM-label": 4,
          "digit": 7,
          "tSNE-1": -42.382835388183594,
          "tSNE-2": -9.860595703125
         },
         {
          "KM-label": 6,
          "digit": 8,
          "tSNE-1": 1.8596793413162231,
          "tSNE-2": 3.8120880126953125
         },
         {
          "KM-label": 7,
          "digit": 2,
          "tSNE-1": 14.09678840637207,
          "tSNE-2": 26.032390594482422
         },
         {
          "KM-label": 1,
          "digit": 0,
          "tSNE-1": 42.37180709838867,
          "tSNE-2": 10.457552909851074
         },
         {
          "KM-label": 7,
          "digit": 1,
          "tSNE-1": 28.19847869873047,
          "tSNE-2": 26.788034439086914
         },
         {
          "KM-label": 7,
          "digit": 2,
          "tSNE-1": 12.6710205078125,
          "tSNE-2": 25.610088348388672
         },
         {
          "KM-label": 6,
          "digit": 6,
          "tSNE-1": 26.67872428894043,
          "tSNE-2": -23.117246627807617
         },
         {
          "KM-label": 5,
          "digit": 3,
          "tSNE-1": 2.4195001125335693,
          "tSNE-2": -11.95393180847168
         },
         {
          "KM-label": 2,
          "digit": 3,
          "tSNE-1": 7.6514763832092285,
          "tSNE-2": -3.4936118125915527
         },
         {
          "KM-label": 4,
          "digit": 7,
          "tSNE-1": -38.78296661376953,
          "tSNE-2": 2.9735491275787354
         },
         {
          "KM-label": 5,
          "digit": 3,
          "tSNE-1": 1.080426573753357,
          "tSNE-2": -10.748156547546387
         },
         {
          "KM-label": 5,
          "digit": 3,
          "tSNE-1": 2.203368663787842,
          "tSNE-2": -11.04670238494873
         },
         {
          "KM-label": 0,
          "digit": 4,
          "tSNE-1": -33.49385452270508,
          "tSNE-2": 35.25539779663086
         },
         {
          "KM-label": 6,
          "digit": 6,
          "tSNE-1": 26.704164505004883,
          "tSNE-2": -25.081676483154297
         },
         {
          "KM-label": 6,
          "digit": 6,
          "tSNE-1": 28.822181701660156,
          "tSNE-2": -24.1572322845459
         },
         {
          "KM-label": 6,
          "digit": 6,
          "tSNE-1": 26.843364715576172,
          "tSNE-2": -26.243717193603516
         },
         {
          "KM-label": 0,
          "digit": 4,
          "tSNE-1": -36.37483215332031,
          "tSNE-2": 33.94769287109375
         },
         {
          "KM-label": 5,
          "digit": 9,
          "tSNE-1": 0.28448015451431274,
          "tSNE-2": -30.63079833984375
         },
         {
          "KM-label": 6,
          "digit": 1,
          "tSNE-1": 29.028907775878906,
          "tSNE-2": 25.2927303314209
         },
         {
          "KM-label": 8,
          "digit": 5,
          "tSNE-1": -12.177560806274414,
          "tSNE-2": -31.90987777709961
         },
         {
          "KM-label": 1,
          "digit": 0,
          "tSNE-1": 38.29090881347656,
          "tSNE-2": 1.89681077003479
         },
         {
          "KM-label": 5,
          "digit": 9,
          "tSNE-1": -1.20730721950531,
          "tSNE-2": -28.027894973754883
         },
         {
          "KM-label": 5,
          "digit": 5,
          "tSNE-1": -9.486611366271973,
          "tSNE-2": -31.433917999267578
         },
         {
          "KM-label": 7,
          "digit": 2,
          "tSNE-1": 14.715794563293457,
          "tSNE-2": 24.347780227661133
         },
         {
          "KM-label": 3,
          "digit": 8,
          "tSNE-1": 1.6475049257278442,
          "tSNE-2": 4.247567176818848
         },
         {
          "KM-label": 7,
          "digit": 2,
          "tSNE-1": 12.022480010986328,
          "tSNE-2": 31.896236419677734
         },
         {
          "KM-label": 1,
          "digit": 0,
          "tSNE-1": 42.20247268676758,
          "tSNE-2": 5.627490997314453
         },
         {
          "KM-label": 1,
          "digit": 0,
          "tSNE-1": 38.35039138793945,
          "tSNE-2": 7.3825201988220215
         },
         {
          "KM-label": 7,
          "digit": 1,
          "tSNE-1": 29.118059158325195,
          "tSNE-2": 26.048128128051758
         },
         {
          "KM-label": 4,
          "digit": 7,
          "tSNE-1": -42.05767059326172,
          "tSNE-2": -7.852414608001709
         },
         {
          "KM-label": 6,
          "digit": 6,
          "tSNE-1": 26.706432342529297,
          "tSNE-2": -25.101049423217773
         },
         {
          "KM-label": 5,
          "digit": 3,
          "tSNE-1": 2.4074041843414307,
          "tSNE-2": -11.940157890319824
         },
         {
          "KM-label": 7,
          "digit": 2,
          "tSNE-1": 13.974002838134766,
          "tSNE-2": 35.1032600402832
         },
         {
          "KM-label": 7,
          "digit": 1,
          "tSNE-1": 28.815650939941406,
          "tSNE-2": 25.248579025268555
         },
         {
          "KM-label": 4,
          "digit": 7,
          "tSNE-1": -40.93379592895508,
          "tSNE-2": -7.165440082550049
         },
         {
          "KM-label": 0,
          "digit": 4,
          "tSNE-1": -36.65297317504883,
          "tSNE-2": 35.45943069458008
         },
         {
          "KM-label": 6,
          "digit": 6,
          "tSNE-1": 26.74896240234375,
          "tSNE-2": -22.917810440063477
         },
         {
          "KM-label": 2,
          "digit": 3,
          "tSNE-1": 1.6156166791915894,
          "tSNE-2": -10.268938064575195
         },
         {
          "KM-label": 7,
          "digit": 1,
          "tSNE-1": 29.373388290405273,
          "tSNE-2": 26.31216049194336
         },
         {
          "KM-label": 5,
          "digit": 3,
          "tSNE-1": 1.7608537673950195,
          "tSNE-2": -10.084874153137207
         },
         {
          "KM-label": 5,
          "digit": 9,
          "tSNE-1": -1.929180383682251,
          "tSNE-2": -16.563007354736328
         },
         {
          "KM-label": 7,
          "digit": 1,
          "tSNE-1": 28.08328628540039,
          "tSNE-2": 24.595651626586914
         },
         {
          "KM-label": 4,
          "digit": 7,
          "tSNE-1": -43.296607971191406,
          "tSNE-2": -5.152705192565918
         },
         {
          "KM-label": 6,
          "digit": 6,
          "tSNE-1": 29.249727249145508,
          "tSNE-2": -24.32317543029785
         },
         {
          "KM-label": 3,
          "digit": 8,
          "tSNE-1": 1.0067702531814575,
          "tSNE-2": 4.386265277862549
         },
         {
          "KM-label": 0,
          "digit": 4,
          "tSNE-1": -35.22352600097656,
          "tSNE-2": 36.160709381103516
         },
         {
          "KM-label": 2,
          "digit": 3,
          "tSNE-1": 2.762455940246582,
          "tSNE-2": -10.7533540725708
         },
         {
          "KM-label": 3,
          "digit": 1,
          "tSNE-1": -3.000455856323242,
          "tSNE-2": 12.069283485412598
         },
         {
          "KM-label": 0,
          "digit": 4,
          "tSNE-1": -35.814903259277344,
          "tSNE-2": 36.12506866455078
         },
         {
          "KM-label": 1,
          "digit": 0,
          "tSNE-1": 38.1979866027832,
          "tSNE-2": 8.767586708068848
         },
         {
          "KM-label": 5,
          "digit": 5,
          "tSNE-1": -9.471086502075195,
          "tSNE-2": -32.90712356567383
         },
         {
          "KM-label": 2,
          "digit": 3,
          "tSNE-1": 2.619269609451294,
          "tSNE-2": -10.627874374389648
         },
         {
          "KM-label": 6,
          "digit": 6,
          "tSNE-1": 29.256912231445312,
          "tSNE-2": -23.87340545654297
         },
         {
          "KM-label": 5,
          "digit": 9,
          "tSNE-1": -1.9017562866210938,
          "tSNE-2": -16.56580352783203
         },
         {
          "KM-label": 6,
          "digit": 6,
          "tSNE-1": 27.270668029785156,
          "tSNE-2": -23.714189529418945
         },
         {
          "KM-label": 7,
          "digit": 1,
          "tSNE-1": 27.500118255615234,
          "tSNE-2": 23.490140914916992
         },
         {
          "KM-label": 4,
          "digit": 7,
          "tSNE-1": -41.562644958496094,
          "tSNE-2": -5.8750715255737305
         },
         {
          "KM-label": 8,
          "digit": 5,
          "tSNE-1": -12.484126091003418,
          "tSNE-2": -32.22742462158203
         },
         {
          "KM-label": 0,
          "digit": 4,
          "tSNE-1": -34.987327575683594,
          "tSNE-2": 39.448081970214844
         },
         {
          "KM-label": 0,
          "digit": 4,
          "tSNE-1": -33.10560989379883,
          "tSNE-2": 35.126285552978516
         },
         {
          "KM-label": 4,
          "digit": 7,
          "tSNE-1": -45.243568420410156,
          "tSNE-2": -9.019898414611816
         },
         {
          "KM-label": 7,
          "digit": 2,
          "tSNE-1": 12.396944999694824,
          "tSNE-2": 25.09562873840332
         },
         {
          "KM-label": 3,
          "digit": 8,
          "tSNE-1": 0.9754502177238464,
          "tSNE-2": 6.274113655090332
         },
         {
          "KM-label": 7,
          "digit": 2,
          "tSNE-1": 11.625436782836914,
          "tSNE-2": 30.5311279296875
         },
         {
          "KM-label": 7,
          "digit": 2,
          "tSNE-1": 12.778754234313965,
          "tSNE-2": 25.64786148071289
         },
         {
          "KM-label": 8,
          "digit": 5,
          "tSNE-1": -11.69367790222168,
          "tSNE-2": -29.911596298217773
         },
         {
          "KM-label": 4,
          "digit": 7,
          "tSNE-1": -40.3665771484375,
          "tSNE-2": -7.1307053565979
         },
         {
          "KM-label": 5,
          "digit": 9,
          "tSNE-1": 6.484038352966309,
          "tSNE-2": -28.21629524230957
         },
         {
          "KM-label": 5,
          "digit": 5,
          "tSNE-1": -9.941794395446777,
          "tSNE-2": -31.88231658935547
         },
         {
          "KM-label": 4,
          "digit": 4,
          "tSNE-1": -36.9383544921875,
          "tSNE-2": 35.200477600097656
         },
         {
          "KM-label": 9,
          "digit": 8,
          "tSNE-1": 0.29500770568847656,
          "tSNE-2": 5.819944381713867
         },
         {
          "KM-label": 3,
          "digit": 8,
          "tSNE-1": 1.490535020828247,
          "tSNE-2": 4.584810733795166
         },
         {
          "KM-label": 0,
          "digit": 4,
          "tSNE-1": -36.233890533447266,
          "tSNE-2": 35.356773376464844
         },
         {
          "KM-label": 5,
          "digit": 9,
          "tSNE-1": 0.8931041955947876,
          "tSNE-2": -29.831571578979492
         },
         {
          "KM-label": 1,
          "digit": 0,
          "tSNE-1": 39.259456634521484,
          "tSNE-2": 6.583690643310547
         },
         {
          "KM-label": 3,
          "digit": 8,
          "tSNE-1": 1.4097590446472168,
          "tSNE-2": 4.361912250518799
         },
         {
          "KM-label": 5,
          "digit": 9,
          "tSNE-1": 7.0525641441345215,
          "tSNE-2": -26.341999053955078
         },
         {
          "KM-label": 3,
          "digit": 8,
          "tSNE-1": 0.5840036869049072,
          "tSNE-2": 5.674691677093506
         },
         {
          "KM-label": 1,
          "digit": 0,
          "tSNE-1": 35.600555419921875,
          "tSNE-2": 6.802877426147461
         },
         {
          "KM-label": 3,
          "digit": 1,
          "tSNE-1": -6.301191329956055,
          "tSNE-2": 14.694208145141602
         },
         {
          "KM-label": 7,
          "digit": 2,
          "tSNE-1": 6.437540054321289,
          "tSNE-2": 32.47379684448242
         },
         {
          "KM-label": 2,
          "digit": 3,
          "tSNE-1": 15.457094192504883,
          "tSNE-2": -5.19157075881958
         },
         {
          "KM-label": 0,
          "digit": 4,
          "tSNE-1": -19.4428768157959,
          "tSNE-2": 30.56924819946289
         },
         {
          "KM-label": 8,
          "digit": 5,
          "tSNE-1": -15.849933624267578,
          "tSNE-2": -33.74862289428711
         },
         {
          "KM-label": 6,
          "digit": 6,
          "tSNE-1": 30.171831130981445,
          "tSNE-2": -34.685848236083984
         },
         {
          "KM-label": 4,
          "digit": 7,
          "tSNE-1": -41.561195373535156,
          "tSNE-2": -6.3122758865356445
         },
         {
          "KM-label": 5,
          "digit": 8,
          "tSNE-1": -4.149133205413818,
          "tSNE-2": -4.644428730010986
         },
         {
          "KM-label": 9,
          "digit": 9,
          "tSNE-1": -27.61298370361328,
          "tSNE-2": 12.786255836486816
         },
         {
          "KM-label": 1,
          "digit": 0,
          "tSNE-1": 39.2161750793457,
          "tSNE-2": 12.584531784057617
         },
         {
          "KM-label": 3,
          "digit": 1,
          "tSNE-1": -2.418954849243164,
          "tSNE-2": 14.471994400024414
         },
         {
          "KM-label": 7,
          "digit": 2,
          "tSNE-1": 5.8989152908325195,
          "tSNE-2": 32.813148498535156
         },
         {
          "KM-label": 2,
          "digit": 3,
          "tSNE-1": 16.677934646606445,
          "tSNE-2": -5.784180641174316
         },
         {
          "KM-label": 0,
          "digit": 4,
          "tSNE-1": -19.024517059326172,
          "tSNE-2": 30.73319435119629
         },
         {
          "KM-label": 8,
          "digit": 5,
          "tSNE-1": -25.968952178955078,
          "tSNE-2": -28.98245620727539
         },
         {
          "KM-label": 6,
          "digit": 6,
          "tSNE-1": 30.0854549407959,
          "tSNE-2": -34.155765533447266
         },
         {
          "KM-label": 4,
          "digit": 7,
          "tSNE-1": -38.96858215332031,
          "tSNE-2": 3.0729777812957764
         },
         {
          "KM-label": 3,
          "digit": 8,
          "tSNE-1": -6.808122158050537,
          "tSNE-2": -1.5438481569290161
         },
         {
          "KM-label": 9,
          "digit": 9,
          "tSNE-1": -27.95009422302246,
          "tSNE-2": 14.100656509399414
         },
         {
          "KM-label": 1,
          "digit": 0,
          "tSNE-1": 35.56226348876953,
          "tSNE-2": 6.284439563751221
         },
         {
          "KM-label": 3,
          "digit": 1,
          "tSNE-1": -2.4947621822357178,
          "tSNE-2": 14.955046653747559
         },
         {
          "KM-label": 7,
          "digit": 2,
          "tSNE-1": 7.403377056121826,
          "tSNE-2": 31.055809020996094
         },
         {
          "KM-label": 2,
          "digit": 3,
          "tSNE-1": 14.085468292236328,
          "tSNE-2": -4.991364002227783
         },
         {
          "KM-label": 9,
          "digit": 4,
          "tSNE-1": -22.32275390625,
          "tSNE-2": 31.279756546020508
         },
         {
          "KM-label": 8,
          "digit": 5,
          "tSNE-1": -26.032854080200195,
          "tSNE-2": -28.676959991455078
         },
         {
          "KM-label": 6,
          "digit": 6,
          "tSNE-1": 29.977718353271484,
          "tSNE-2": -33.6108283996582
         },
         {
          "KM-label": 4,
          "digit": 7,
          "tSNE-1": -39.094268798828125,
          "tSNE-2": 6.423758506774902
         },
         {
          "KM-label": 5,
          "digit": 8,
          "tSNE-1": -4.2495436668396,
          "tSNE-2": -4.64755392074585
         },
         {
          "KM-label": 9,
          "digit": 9,
          "tSNE-1": -27.603416442871094,
          "tSNE-2": 13.406378746032715
         },
         {
          "KM-label": 1,
          "digit": 0,
          "tSNE-1": 41.04918670654297,
          "tSNE-2": 9.278850555419922
         },
         {
          "KM-label": 9,
          "digit": 9,
          "tSNE-1": -27.924705505371094,
          "tSNE-2": 14.42391586303711
         },
         {
          "KM-label": 0,
          "digit": 5,
          "tSNE-1": -19.400344848632812,
          "tSNE-2": -37.175167083740234
         },
         {
          "KM-label": 8,
          "digit": 5,
          "tSNE-1": -24.79491424560547,
          "tSNE-2": -30.31163787841797
         },
         {
          "KM-label": 6,
          "digit": 6,
          "tSNE-1": 27.764802932739258,
          "tSNE-2": -31.630401611328125
         },
         {
          "KM-label": 8,
          "digit": 5,
          "tSNE-1": -26.515689849853516,
          "tSNE-2": -28.990205764770508
         },
         {
          "KM-label": 1,
          "digit": 0,
          "tSNE-1": 41.489376068115234,
          "tSNE-2": 1.254406452178955
         },
         {
          "KM-label": 9,
          "digit": 9,
          "tSNE-1": -25.494352340698242,
          "tSNE-2": 13.396817207336426
         },
         {
          "KM-label": 3,
          "digit": 8,
          "tSNE-1": -6.751595497131348,
          "tSNE-2": -2.442410945892334
         },
         {
          "KM-label": 9,
          "digit": 9,
          "tSNE-1": -27.72020721435547,
          "tSNE-2": 13.909835815429688
         },
         {
          "KM-label": 5,
          "digit": 8,
          "tSNE-1": -6.535286903381348,
          "tSNE-2": -2.7443933486938477
         },
         {
          "KM-label": 0,
          "digit": 4,
          "tSNE-1": -20.934572219848633,
          "tSNE-2": 29.923250198364258
         },
         {
          "KM-label": 3,
          "digit": 1,
          "tSNE-1": -7.5648369789123535,
          "tSNE-2": 14.085268020629883
         },
         {
          "KM-label": 4,
          "digit": 7,
          "tSNE-1": -39.383262634277344,
          "tSNE-2": 6.3116631507873535
         },
         {
          "KM-label": 9,
          "digit": 7,
          "tSNE-1": -39.31914138793945,
          "tSNE-2": 6.343255996704102
         },
         {
          "KM-label": 2,
          "digit": 3,
          "tSNE-1": 18.896953582763672,
          "tSNE-2": -3.6578073501586914
         },
         {
          "KM-label": 8,
          "digit": 5,
          "tSNE-1": -24.998756408691406,
          "tSNE-2": -27.94352912902832
         },
         {
          "KM-label": 3,
          "digit": 1,
          "tSNE-1": -7.437140464782715,
          "tSNE-2": 14.08655071258545
         },
         {
          "KM-label": 1,
          "digit": 0,
          "tSNE-1": 36.92331314086914,
          "tSNE-2": 4.757690906524658
         },
         {
          "KM-label": 1,
          "digit": 0,
          "tSNE-1": 40.860008239746094,
          "tSNE-2": 11.147851943969727
         },
         {
          "KM-label": 2,
          "digit": 2,
          "tSNE-1": 6.595276832580566,
          "tSNE-2": 27.564977645874023
         },
         {
          "KM-label": 7,
          "digit": 2,
          "tSNE-1": 6.106921195983887,
          "tSNE-2": 29.930866241455078
         },
         {
          "KM-label": 4,
          "digit": 7,
          "tSNE-1": -40.068389892578125,
          "tSNE-2": 3.144219160079956
         },
         {
          "KM-label": 3,
          "digit": 8,
          "tSNE-1": -7.472105026245117,
          "tSNE-2": -1.599062442779541
         },
         {
          "KM-label": 3,
          "digit": 2,
          "tSNE-1": 6.033697605133057,
          "tSNE-2": 27.152318954467773
         },
         {
          "KM-label": 1,
          "digit": 0,
          "tSNE-1": 34.85798263549805,
          "tSNE-2": 1.7588062286376953
         },
         {
          "KM-label": 3,
          "digit": 1,
          "tSNE-1": -8.925413131713867,
          "tSNE-2": 17.90957260131836
         },
         {
          "KM-label": 5,
          "digit": 2,
          "tSNE-1": 6.190221309661865,
          "tSNE-2": 27.0926570892334
         },
         {
          "KM-label": 6,
          "digit": 6,
          "tSNE-1": 27.07131004333496,
          "tSNE-2": -33.60959243774414
         },
         {
          "KM-label": 2,
          "digit": 3,
          "tSNE-1": 17.099422454833984,
          "tSNE-2": -5.228887557983398
         },
         {
          "KM-label": 2,
          "digit": 3,
          "tSNE-1": 15.710433006286621,
          "tSNE-2": -5.078851699829102
         },
         {
          "KM-label": 4,
          "digit": 7,
          "tSNE-1": -39.30751037597656,
          "tSNE-2": 3.440929889678955
         },
         {
          "KM-label": 2,
          "digit": 3,
          "tSNE-1": 17.598421096801758,
          "tSNE-2": -5.753423690795898
         },
         {
          "KM-label": 2,
          "digit": 3,
          "tSNE-1": 13.91089153289795,
          "tSNE-2": -4.386460781097412
         },
         {
          "KM-label": 0,
          "digit": 4,
          "tSNE-1": -21.534727096557617,
          "tSNE-2": 29.53591537475586
         },
         {
          "KM-label": 6,
          "digit": 6,
          "tSNE-1": 30.947509765625,
          "tSNE-2": -32.374576568603516
         },
         {
          "KM-label": 6,
          "digit": 6,
          "tSNE-1": 35.81013870239258,
          "tSNE-2": -28.284509658813477
         },
         {
          "KM-label": 6,
          "digit": 6,
          "tSNE-1": 29.173580169677734,
          "tSNE-2": -33.28059387207031
         },
         {
          "KM-label": 0,
          "digit": 4,
          "tSNE-1": -19.354625701904297,
          "tSNE-2": 31.20550537109375
         },
         {
          "KM-label": 9,
          "digit": 9,
          "tSNE-1": -27.34248161315918,
          "tSNE-2": 13.8107271194458
         },
         {
          "KM-label": 3,
          "digit": 1,
          "tSNE-1": -4.941149711608887,
          "tSNE-2": 14.879097938537598
         },
         {
          "KM-label": 8,
          "digit": 5,
          "tSNE-1": -18.734153747558594,
          "tSNE-2": -36.33438491821289
         },
         {
          "KM-label": 1,
          "digit": 0,
          "tSNE-1": 36.34305953979492,
          "tSNE-2": 4.698014736175537
         },
         {
          "KM-label": 9,
          "digit": 9,
          "tSNE-1": -26.839418411254883,
          "tSNE-2": 14.653376579284668
         },
         {
          "KM-label": 8,
          "digit": 5,
          "tSNE-1": -18.91103172302246,
          "tSNE-2": -36.51753234863281
         },
         {
          "KM-label": 2,
          "digit": 2,
          "tSNE-1": 6.399873733520508,
          "tSNE-2": 28.39532470703125
         },
         {
          "KM-label": 5,
          "digit": 8,
          "tSNE-1": -5.279872894287109,
          "tSNE-2": -7.512669086456299
         },
         {
          "KM-label": 7,
          "digit": 2,
          "tSNE-1": 5.970269203186035,
          "tSNE-2": 33.545562744140625
         },
         {
          "KM-label": 1,
          "digit": 0,
          "tSNE-1": 34.80609130859375,
          "tSNE-2": 5.605508804321289
         },
         {
          "KM-label": 1,
          "digit": 0,
          "tSNE-1": 40.669857025146484,
          "tSNE-2": 8.366083145141602
         },
         {
          "KM-label": 3,
          "digit": 1,
          "tSNE-1": -9.119184494018555,
          "tSNE-2": 17.80954360961914
         },
         {
          "KM-label": 4,
          "digit": 7,
          "tSNE-1": -40.17234420776367,
          "tSNE-2": 3.843989372253418
         },
         {
          "KM-label": 6,
          "digit": 6,
          "tSNE-1": 30.39206314086914,
          "tSNE-2": -33.56346130371094
         },
         {
          "KM-label": 2,
          "digit": 3,
          "tSNE-1": 16.430496215820312,
          "tSNE-2": -5.155642509460449
         },
         {
          "KM-label": 7,
          "digit": 2,
          "tSNE-1": 10.41122817993164,
          "tSNE-2": 36.70692443847656
         },
         {
          "KM-label": 3,
          "digit": 1,
          "tSNE-1": -4.103404521942139,
          "tSNE-2": 15.226842880249023
         },
         {
          "KM-label": 4,
          "digit": 7,
          "tSNE-1": -39.2791748046875,
          "tSNE-2": 6.265124320983887
         },
         {
          "KM-label": 0,
          "digit": 4,
          "tSNE-1": -19.62199592590332,
          "tSNE-2": 31.056568145751953
         },
         {
          "KM-label": 6,
          "digit": 6,
          "tSNE-1": 32.51565170288086,
          "tSNE-2": -23.988483428955078
         },
         {
          "KM-label": 2,
          "digit": 3,
          "tSNE-1": 17.91710090637207,
          "tSNE-2": -5.737753391265869
         },
         {
          "KM-label": 3,
          "digit": 1,
          "tSNE-1": -3.6498119831085205,
          "tSNE-2": 14.994771957397461
         },
         {
          "KM-label": 2,
          "digit": 3,
          "tSNE-1": 7.874888896942139,
          "tSNE-2": -7.935834884643555
         },
         {
          "KM-label": 9,
          "digit": 9,
          "tSNE-1": -26.753658294677734,
          "tSNE-2": 14.259309768676758
         },
         {
          "KM-label": 3,
          "digit": 1,
          "tSNE-1": -4.810041427612305,
          "tSNE-2": 14.290165901184082
         },
         {
          "KM-label": 4,
          "digit": 7,
          "tSNE-1": -40.00886154174805,
          "tSNE-2": 4.096153736114502
         },
         {
          "KM-label": 6,
          "digit": 6,
          "tSNE-1": 31.17460823059082,
          "tSNE-2": -32.201515197753906
         },
         {
          "KM-label": 3,
          "digit": 8,
          "tSNE-1": -6.458996295928955,
          "tSNE-2": 3.472809314727783
         },
         {
          "KM-label": 0,
          "digit": 4,
          "tSNE-1": -36.16255187988281,
          "tSNE-2": 35.841461181640625
         },
         {
          "KM-label": 2,
          "digit": 3,
          "tSNE-1": 7.911869049072266,
          "tSNE-2": -7.949465274810791
         },
         {
          "KM-label": 3,
          "digit": 1,
          "tSNE-1": -5.103871822357178,
          "tSNE-2": 14.977421760559082
         },
         {
          "KM-label": 4,
          "digit": 4,
          "tSNE-1": -36.42531967163086,
          "tSNE-2": 27.757108688354492
         },
         {
          "KM-label": 1,
          "digit": 0,
          "tSNE-1": 38.1669807434082,
          "tSNE-2": 3.7700767517089844
         },
         {
          "KM-label": 8,
          "digit": 5,
          "tSNE-1": -16.180133819580078,
          "tSNE-2": -36.530029296875
         },
         {
          "KM-label": 2,
          "digit": 3,
          "tSNE-1": 13.26267147064209,
          "tSNE-2": -4.907434463500977
         },
         {
          "KM-label": 6,
          "digit": 6,
          "tSNE-1": 32.72884750366211,
          "tSNE-2": -23.827661514282227
         },
         {
          "KM-label": 9,
          "digit": 9,
          "tSNE-1": -28.323795318603516,
          "tSNE-2": 14.236268043518066
         },
         {
          "KM-label": 6,
          "digit": 6,
          "tSNE-1": 32.88719940185547,
          "tSNE-2": -23.878671646118164
         },
         {
          "KM-label": 3,
          "digit": 1,
          "tSNE-1": -6.388411521911621,
          "tSNE-2": 14.780647277832031
         },
         {
          "KM-label": 4,
          "digit": 7,
          "tSNE-1": -40.13883972167969,
          "tSNE-2": 4.17984676361084
         },
         {
          "KM-label": 8,
          "digit": 5,
          "tSNE-1": -25.21800422668457,
          "tSNE-2": -27.460145950317383
         },
         {
          "KM-label": 0,
          "digit": 4,
          "tSNE-1": -35.03753662109375,
          "tSNE-2": 39.54961395263672
         },
         {
          "KM-label": 4,
          "digit": 4,
          "tSNE-1": -35.951576232910156,
          "tSNE-2": 27.975557327270508
         },
         {
          "KM-label": 4,
          "digit": 7,
          "tSNE-1": -40.28255844116211,
          "tSNE-2": 4.938682556152344
         },
         {
          "KM-label": 7,
          "digit": 2,
          "tSNE-1": 6.34714412689209,
          "tSNE-2": 31.409692764282227
         },
         {
          "KM-label": 3,
          "digit": 8,
          "tSNE-1": -9.62409496307373,
          "tSNE-2": 7.4444708824157715
         },
         {
          "KM-label": 7,
          "digit": 2,
          "tSNE-1": 6.093603134155273,
          "tSNE-2": 31.174774169921875
         },
         {
          "KM-label": 7,
          "digit": 2,
          "tSNE-1": 6.587886810302734,
          "tSNE-2": 31.94849395751953
         },
         {
          "KM-label": 8,
          "digit": 5,
          "tSNE-1": -26.83685874938965,
          "tSNE-2": -27.767080307006836
         },
         {
          "KM-label": 4,
          "digit": 7,
          "tSNE-1": -40.91657638549805,
          "tSNE-2": -6.106256484985352
         },
         {
          "KM-label": 9,
          "digit": 9,
          "tSNE-1": -27.982666015625,
          "tSNE-2": 13.472298622131348
         },
         {
          "KM-label": 8,
          "digit": 5,
          "tSNE-1": -29.34664535522461,
          "tSNE-2": -25.8486385345459
         },
         {
          "KM-label": 0,
          "digit": 4,
          "tSNE-1": -34.26740264892578,
          "tSNE-2": 39.917598724365234
         },
         {
          "KM-label": 5,
          "digit": 8,
          "tSNE-1": -5.147560119628906,
          "tSNE-2": -6.249401092529297
         },
         {
          "KM-label": 3,
          "digit": 8,
          "tSNE-1": -10.136466026306152,
          "tSNE-2": 6.417847156524658
         },
         {
          "KM-label": 4,
          "digit": 4,
          "tSNE-1": -36.14163589477539,
          "tSNE-2": 27.914249420166016
         },
         {
          "KM-label": 9,
          "digit": 9,
          "tSNE-1": -27.338045120239258,
          "tSNE-2": 13.123604774475098
         },
         {
          "KM-label": 1,
          "digit": 0,
          "tSNE-1": 36.96665954589844,
          "tSNE-2": 4.930671215057373
         },
         {
          "KM-label": 5,
          "digit": 8,
          "tSNE-1": -4.368435859680176,
          "tSNE-2": -4.327136516571045
         },
         {
          "KM-label": 9,
          "digit": 9,
          "tSNE-1": -26.70579719543457,
          "tSNE-2": 12.700186729431152
         },
         {
          "KM-label": 3,
          "digit": 8,
          "tSNE-1": -7.739207744598389,
          "tSNE-2": -1.2360339164733887
         },
         {
          "KM-label": 1,
          "digit": 0,
          "tSNE-1": 46.327545166015625,
          "tSNE-2": 10.633115768432617
         },
         {
          "KM-label": 3,
          "digit": 1,
          "tSNE-1": -7.294909477233887,
          "tSNE-2": 20.06440544128418
         },
         {
          "KM-label": 7,
          "digit": 2,
          "tSNE-1": 11.55820369720459,
          "tSNE-2": 34.9986572265625
         },
         {
          "KM-label": 2,
          "digit": 3,
          "tSNE-1": 7.971253871917725,
          "tSNE-2": -7.0981645584106445
         },
         {
          "KM-label": 0,
          "digit": 4,
          "tSNE-1": -31.64147186279297,
          "tSNE-2": 39.923133850097656
         },
         {
          "KM-label": 8,
          "digit": 5,
          "tSNE-1": -21.98502540588379,
          "tSNE-2": -26.216171264648438
         },
         {
          "KM-label": 6,
          "digit": 6,
          "tSNE-1": 40.20662307739258,
          "tSNE-2": -18.758474349975586
         },
         {
          "KM-label": 4,
          "digit": 7,
          "tSNE-1": -37.86774444580078,
          "tSNE-2": -2.087597608566284
         },
         {
          "KM-label": 6,
          "digit": 8,
          "tSNE-1": 4.120915412902832,
          "tSNE-2": 17.688411712646484
         },
         {
          "KM-label": 5,
          "digit": 9,
          "tSNE-1": 6.605939865112305,
          "tSNE-2": -27.83880043029785
         },
         {
          "KM-label": 1,
          "digit": 0,
          "tSNE-1": 47.07981872558594,
          "tSNE-2": 2.8583855628967285
         },
         {
          "KM-label": 3,
          "digit": 1,
          "tSNE-1": -8.916499137878418,
          "tSNE-2": 20.34642219543457
         },
         {
          "KM-label": 7,
          "digit": 2,
          "tSNE-1": 12.712797164916992,
          "tSNE-2": 33.99795150756836
         },
         {
          "KM-label": 2,
          "digit": 3,
          "tSNE-1": 10.509234428405762,
          "tSNE-2": -7.121267795562744
         },
         {
          "KM-label": 0,
          "digit": 4,
          "tSNE-1": -31.056320190429688,
          "tSNE-2": 37.83277130126953
         },
         {
          "KM-label": 8,
          "digit": 5,
          "tSNE-1": -27.045413970947266,
          "tSNE-2": -23.97573471069336
         },
         {
          "KM-label": 1,
          "digit": 6,
          "tSNE-1": 40.67024230957031,
          "tSNE-2": -18.399551391601562
         },
         {
          "KM-label": 4,
          "digit": 7,
          "tSNE-1": -43.02970504760742,
          "tSNE-2": -5.501793384552002
         },
         {
          "KM-label": 9,
          "digit": 8,
          "tSNE-1": -16.299795150756836,
          "tSNE-2": 17.3748722076416
         },
         {
          "KM-label": 5,
          "digit": 9,
          "tSNE-1": 3.734501361846924,
          "tSNE-2": -31.752378463745117
         },
         {
          "KM-label": 1,
          "digit": 0,
          "tSNE-1": 44.81924819946289,
          "tSNE-2": 11.176551818847656
         },
         {
          "KM-label": 3,
          "digit": 1,
          "tSNE-1": -8.414888381958008,
          "tSNE-2": 18.1170711517334
         },
         {
          "KM-label": 7,
          "digit": 2,
          "tSNE-1": 10.825211524963379,
          "tSNE-2": 36.489013671875
         },
         {
          "KM-label": 2,
          "digit": 3,
          "tSNE-1": 11.712981224060059,
          "tSNE-2": -7.582578659057617
         },
         {
          "KM-label": 0,
          "digit": 4,
          "tSNE-1": -33.105506896972656,
          "tSNE-2": 38.631744384765625
         },
         {
          "KM-label": 8,
          "digit": 5,
          "tSNE-1": -27.01494598388672,
          "tSNE-2": -24.786176681518555
         },
         {
          "KM-label": 6,
          "digit": 6,
          "tSNE-1": 37.84776306152344,
          "tSNE-2": -19.61514663696289
         },
         {
          "KM-label": 4,
          "digit": 7,
          "tSNE-1": -42.99578094482422,
          "tSNE-2": -4.343560695648193
         },
         {
          "KM-label": 3,
          "digit": 8,
          "tSNE-1": -8.818367958068848,
          "tSNE-2": 6.984464168548584
         },
         {
          "KM-label": 5,
          "digit": 9,
          "tSNE-1": 7.158327102661133,
          "tSNE-2": -26.254518508911133
         },
         {
          "KM-label": 1,
          "digit": 0,
          "tSNE-1": 44.37551498413086,
          "tSNE-2": 8.76323413848877
         },
         {
          "KM-label": 5,
          "digit": 9,
          "tSNE-1": 3.267543077468872,
          "tSNE-2": -31.230451583862305
         },
         {
          "KM-label": 8,
          "digit": 5,
          "tSNE-1": -21.304012298583984,
          "tSNE-2": -24.247425079345703
         },
         {
          "KM-label": 8,
          "digit": 5,
          "tSNE-1": -26.411060333251953,
          "tSNE-2": -26.80866241455078
         },
         {
          "KM-label": 6,
          "digit": 6,
          "tSNE-1": 29.790672302246094,
          "tSNE-2": -27.92764663696289
         },
         {
          "KM-label": 8,
          "digit": 5,
          "tSNE-1": -22.06257438659668,
          "tSNE-2": -25.86276626586914
         },
         {
          "KM-label": 1,
          "digit": 0,
          "tSNE-1": 43.53949737548828,
          "tSNE-2": 9.298646926879883
         },
         {
          "KM-label": 5,
          "digit": 9,
          "tSNE-1": 2.3830246925354004,
          "tSNE-2": -12.777606964111328
         },
         {
          "KM-label": 5,
          "digit": 8,
          "tSNE-1": -5.537099838256836,
          "tSNE-2": -9.095210075378418
         },
         {
          "KM-label": 5,
          "digit": 9,
          "tSNE-1": 1.6046897172927856,
          "tSNE-2": -30.104995727539062
         },
         {
          "KM-label": 5,
          "digit": 8,
          "tSNE-1": -9.562980651855469,
          "tSNE-2": -9.692858695983887
         },
         {
          "KM-label": 0,
          "digit": 4,
          "tSNE-1": -27.78264808654785,
          "tSNE-2": 36.93446350097656
         },
         {
          "KM-label": 3,
          "digit": 1,
          "tSNE-1": -4.399665832519531,
          "tSNE-2": 11.32727336883545
         },
         {
          "KM-label": 4,
          "digit": 7,
          "tSNE-1": -46.45036697387695,
          "tSNE-2": -7.673914432525635
         },
         {
          "KM-label": 4,
          "digit": 7,
          "tSNE-1": -37.8574333190918,
          "tSNE-2": -1.3393337726593018
         },
         {
          "KM-label": 2,
          "digit": 3,
          "tSNE-1": 11.08249568939209,
          "tSNE-2": -6.136486530303955
         },
         {
          "KM-label": 8,
          "digit": 5,
          "tSNE-1": -23.003759384155273,
          "tSNE-2": -25.737548828125
         },
         {
          "KM-label": 3,
          "digit": 1,
          "tSNE-1": -5.612406253814697,
          "tSNE-2": 13.065046310424805
         },
         {
          "KM-label": 1,
          "digit": 0,
          "tSNE-1": 39.12784194946289,
          "tSNE-2": -1.989134430885315
         },
         {
          "KM-label": 1,
          "digit": 0,
          "tSNE-1": 42.75143814086914,
          "tSNE-2": 11.989190101623535
         },
         {
          "KM-label": 7,
          "digit": 2,
          "tSNE-1": 8.234786987304688,
          "tSNE-2": 34.23524475097656
         },
         {
          "KM-label": 7,
          "digit": 2,
          "tSNE-1": 13.373738288879395,
          "tSNE-2": 37.68666458129883
         },
         {
          "KM-label": 4,
          "digit": 7,
          "tSNE-1": -47.44692611694336,
          "tSNE-2": -7.038960933685303
         },
         {
          "KM-label": 5,
          "digit": 8,
          "tSNE-1": -9.653959274291992,
          "tSNE-2": -9.65943717956543
         },
         {
          "KM-label": 7,
          "digit": 2,
          "tSNE-1": 10.320659637451172,
          "tSNE-2": 36.21695327758789
         },
         {
          "KM-label": 1,
          "digit": 0,
          "tSNE-1": 35.72791290283203,
          "tSNE-2": 8.105700492858887
         },
         {
          "KM-label": 7,
          "digit": 1,
          "tSNE-1": 27.107328414916992,
          "tSNE-2": 27.63752555847168
         },
         {
          "KM-label": 7,
          "digit": 2,
          "tSNE-1": 16.439054489135742,
          "tSNE-2": 34.028411865234375
         },
         {
          "KM-label": 6,
          "digit": 6,
          "tSNE-1": 32.79240036010742,
          "tSNE-2": -20.790006637573242
         },
         {
          "KM-label": 2,
          "digit": 3,
          "tSNE-1": 10.396913528442383,
          "tSNE-2": -5.622815132141113
         },
         {
          "KM-label": 2,
          "digit": 3,
          "tSNE-1": 10.407954216003418,
          "tSNE-2": -5.334261417388916
         },
         {
          "KM-label": 4,
          "digit": 7,
          "tSNE-1": -43.00313949584961,
          "tSNE-2": -3.4830117225646973
         },
         {
          "KM-label": 2,
          "digit": 3,
          "tSNE-1": 15.971205711364746,
          "tSNE-2": -2.3172197341918945
         },
         {
          "KM-label": 2,
          "digit": 3,
          "tSNE-1": 15.279879570007324,
          "tSNE-2": -1.9808093309402466
         },
         {
          "KM-label": 0,
          "digit": 4,
          "tSNE-1": -31.97061538696289,
          "tSNE-2": 36.90159225463867
         },
         {
          "KM-label": 6,
          "digit": 6,
          "tSNE-1": 35.67753982543945,
          "tSNE-2": -19.656352996826172
         },
         {
          "KM-label": 6,
          "digit": 6,
          "tSNE-1": 29.763639450073242,
          "tSNE-2": -27.797243118286133
         },
         {
          "KM-label": 6,
          "digit": 6,
          "tSNE-1": 40.28079605102539,
          "tSNE-2": -18.732074737548828
         },
         {
          "KM-label": 0,
          "digit": 4,
          "tSNE-1": -32.439056396484375,
          "tSNE-2": 38.55735397338867
         },
         {
          "KM-label": 5,
          "digit": 9,
          "tSNE-1": 6.951866149902344,
          "tSNE-2": -26.187744140625
         },
         {
          "KM-label": 3,
          "digit": 1,
          "tSNE-1": -7.958574295043945,
          "tSNE-2": 12.284835815429688
         },
         {
          "KM-label": 8,
          "digit": 5,
          "tSNE-1": -21.50940704345703,
          "tSNE-2": -24.188282012939453
         },
         {
          "KM-label": 1,
          "digit": 0,
          "tSNE-1": 36.06137466430664,
          "tSNE-2": 3.4855964183807373
         },
         {
          "KM-label": 5,
          "digit": 9,
          "tSNE-1": 0.05514640733599663,
          "tSNE-2": -23.38109016418457
         },
         {
          "KM-label": 8,
          "digit": 5,
          "tSNE-1": -22.416229248046875,
          "tSNE-2": -24.304763793945312
         },
         {
          "KM-label": 7,
          "digit": 2,
          "tSNE-1": 11.39541244506836,
          "tSNE-2": 37.1668586730957
         },
         {
          "KM-label": 3,
          "digit": 8,
          "tSNE-1": -9.54738998413086,
          "tSNE-2": -5.2671051025390625
         },
         {
          "KM-label": 7,
          "digit": 2,
          "tSNE-1": 13.019519805908203,
          "tSNE-2": 37.360443115234375
         },
         {
          "KM-label": 1,
          "digit": 0,
          "tSNE-1": 34.34687042236328,
          "tSNE-2": 3.124579668045044
         },
         {
          "KM-label": 1,
          "digit": 0,
          "tSNE-1": 43.656002044677734,
          "tSNE-2": 6.176502704620361
         },
         {
          "KM-label": 3,
          "digit": 1,
          "tSNE-1": -1.7581079006195068,
          "tSNE-2": 15.334466934204102
         },
         {
          "KM-label": 4,
          "digit": 7,
          "tSNE-1": -43.27988815307617,
          "tSNE-2": -3.061915159225464
         },
         {
          "KM-label": 6,
          "digit": 6,
          "tSNE-1": 28.33092498779297,
          "tSNE-2": -29.298776626586914
         },
         {
          "KM-label": 2,
          "digit": 3,
          "tSNE-1": 12.633697509765625,
          "tSNE-2": -3.3717565536499023
         },
         {
          "KM-label": 4,
          "digit": 2,
          "tSNE-1": 8.479026794433594,
          "tSNE-2": 26.120389938354492
         },
         {
          "KM-label": 3,
          "digit": 1,
          "tSNE-1": -6.409716606140137,
          "tSNE-2": 15.852291107177734
         },
         {
          "KM-label": 4,
          "digit": 7,
          "tSNE-1": -41.89871597290039,
          "tSNE-2": 0.24218285083770752
         },
         {
          "KM-label": 0,
          "digit": 4,
          "tSNE-1": -25.015756607055664,
          "tSNE-2": 37.4585075378418
         },
         {
          "KM-label": 6,
          "digit": 6,
          "tSNE-1": 39.00481414794922,
          "tSNE-2": -19.553979873657227
         },
         {
          "KM-label": 2,
          "digit": 3,
          "tSNE-1": 9.806801795959473,
          "tSNE-2": -8.244937896728516
         },
         {
          "KM-label": 3,
          "digit": 1,
          "tSNE-1": -5.778709411621094,
          "tSNE-2": 17.589439392089844
         },
         {
          "KM-label": 2,
          "digit": 3,
          "tSNE-1": 11.336252212524414,
          "tSNE-2": -8.324213027954102
         },
         {
          "KM-label": 5,
          "digit": 9,
          "tSNE-1": 2.991392135620117,
          "tSNE-2": -31.195819854736328
         },
         {
          "KM-label": 3,
          "digit": 1,
          "tSNE-1": -5.338282585144043,
          "tSNE-2": 18.102909088134766
         },
         {
          "KM-label": 4,
          "digit": 7,
          "tSNE-1": -46.79779815673828,
          "tSNE-2": -7.079401016235352
         },
         {
          "KM-label": 6,
          "digit": 6,
          "tSNE-1": 31.243730545043945,
          "tSNE-2": -27.428791046142578
         },
         {
          "KM-label": 7,
          "digit": 8,
          "tSNE-1": 4.178009986877441,
          "tSNE-2": 17.736326217651367
         },
         {
          "KM-label": 0,
          "digit": 4,
          "tSNE-1": -32.30258560180664,
          "tSNE-2": 39.714683532714844
         },
         {
          "KM-label": 2,
          "digit": 3,
          "tSNE-1": 10.586078643798828,
          "tSNE-2": -8.74474048614502
         },
         {
          "KM-label": 3,
          "digit": 1,
          "tSNE-1": -7.156222820281982,
          "tSNE-2": 18.25908088684082
         },
         {
          "KM-label": 0,
          "digit": 4,
          "tSNE-1": -26.66035270690918,
          "tSNE-2": 40.73999786376953
         },
         {
          "KM-label": 1,
          "digit": 0,
          "tSNE-1": 42.945255279541016,
          "tSNE-2": 7.8675923347473145
         },
         {
          "KM-label": 8,
          "digit": 5,
          "tSNE-1": -21.363359451293945,
          "tSNE-2": -25.299959182739258
         },
         {
          "KM-label": 2,
          "digit": 3,
          "tSNE-1": 12.891298294067383,
          "tSNE-2": -1.7940791845321655
         },
         {
          "KM-label": 6,
          "digit": 6,
          "tSNE-1": 34.53426742553711,
          "tSNE-2": -21.453495025634766
         },
         {
          "KM-label": 5,
          "digit": 9,
          "tSNE-1": 7.808865070343018,
          "tSNE-2": -25.394285202026367
         },
         {
          "KM-label": 6,
          "digit": 6,
          "tSNE-1": 28.63344383239746,
          "tSNE-2": -32.27877426147461
         },
         {
          "KM-label": 3,
          "digit": 1,
          "tSNE-1": -8.268656730651855,
          "tSNE-2": 13.332423210144043
         },
         {
          "KM-label": 4,
          "digit": 7,
          "tSNE-1": -44.32072448730469,
          "tSNE-2": -4.0436906814575195
         },
         {
          "KM-label": 8,
          "digit": 5,
          "tSNE-1": -26.420520782470703,
          "tSNE-2": -25.689489364624023
         },
         {
          "KM-label": 0,
          "digit": 4,
          "tSNE-1": -32.81040573120117,
          "tSNE-2": 38.65102767944336
         },
         {
          "KM-label": 0,
          "digit": 4,
          "tSNE-1": -27.090898513793945,
          "tSNE-2": 36.04765319824219
         },
         {
          "KM-label": 4,
          "digit": 7,
          "tSNE-1": -43.1916618347168,
          "tSNE-2": -3.4189374446868896
         },
         {
          "KM-label": 7,
          "digit": 2,
          "tSNE-1": 12.028142929077148,
          "tSNE-2": 37.33352279663086
         },
         {
          "KM-label": 9,
          "digit": 8,
          "tSNE-1": -11.23307991027832,
          "tSNE-2": -8.822577476501465
         },
         {
          "KM-label": 4,
          "digit": 2,
          "tSNE-1": -33.24810791015625,
          "tSNE-2": 4.8769145011901855
         },
         {
          "KM-label": 7,
          "digit": 2,
          "tSNE-1": 7.421037197113037,
          "tSNE-2": 31.986255645751953
         },
         {
          "KM-label": 8,
          "digit": 5,
          "tSNE-1": -20.047677993774414,
          "tSNE-2": -26.35791015625
         },
         {
          "KM-label": 4,
          "digit": 7,
          "tSNE-1": -43.237274169921875,
          "tSNE-2": -11.184039115905762
         },
         {
          "KM-label": 5,
          "digit": 9,
          "tSNE-1": 1.8342764377593994,
          "tSNE-2": -31.251808166503906
         },
         {
          "KM-label": 8,
          "digit": 5,
          "tSNE-1": -26.727418899536133,
          "tSNE-2": -24.501644134521484
         },
         {
          "KM-label": 0,
          "digit": 4,
          "tSNE-1": -31.615093231201172,
          "tSNE-2": 39.83120346069336
         },
         {
          "KM-label": 9,
          "digit": 8,
          "tSNE-1": -10.981115341186523,
          "tSNE-2": -8.893451690673828
         },
         {
          "KM-label": 5,
          "digit": 8,
          "tSNE-1": -1.962928056716919,
          "tSNE-2": 0.8160598874092102
         },
         {
          "KM-label": 0,
          "digit": 4,
          "tSNE-1": -26.44985580444336,
          "tSNE-2": 39.84436798095703
         },
         {
          "KM-label": 5,
          "digit": 9,
          "tSNE-1": 1.5320050716400146,
          "tSNE-2": -31.357980728149414
         },
         {
          "KM-label": 1,
          "digit": 0,
          "tSNE-1": 40.39937210083008,
          "tSNE-2": 6.785469055175781
         },
         {
          "KM-label": 3,
          "digit": 8,
          "tSNE-1": -11.396329879760742,
          "tSNE-2": -8.770493507385254
         },
         {
          "KM-label": 5,
          "digit": 9,
          "tSNE-1": 4.651491641998291,
          "tSNE-2": -26.92086410522461
         },
         {
          "KM-label": 3,
          "digit": 8,
          "tSNE-1": 3.892744779586792,
          "tSNE-2": 17.622135162353516
         },
         {
          "KM-label": 7,
          "digit": 1,
          "tSNE-1": 27.347496032714844,
          "tSNE-2": 27.324386596679688
         },
         {
          "KM-label": 7,
          "digit": 2,
          "tSNE-1": 12.354719161987305,
          "tSNE-2": 31.10024642944336
         },
         {
          "KM-label": 2,
          "digit": 3,
          "tSNE-1": 14.017753601074219,
          "tSNE-2": -12.540427207946777
         },
         {
          "KM-label": 0,
          "digit": 4,
          "tSNE-1": -24.874393463134766,
          "tSNE-2": 35.489471435546875
         },
         {
          "KM-label": 8,
          "digit": 5,
          "tSNE-1": -12.81927490234375,
          "tSNE-2": -32.05461502075195
         },
         {
          "KM-label": 6,
          "digit": 6,
          "tSNE-1": 27.524303436279297,
          "tSNE-2": -35.260963439941406
         },
         {
          "KM-label": 4,
          "digit": 7,
          "tSNE-1": -34.182308197021484,
          "tSNE-2": -1.502063274383545
         },
         {
          "KM-label": 5,
          "digit": 8,
          "tSNE-1": -3.1381258964538574,
          "tSNE-2": -4.303811550140381
         },
         {
          "KM-label": 5,
          "digit": 9,
          "tSNE-1": 8.698591232299805,
          "tSNE-2": -28.850961685180664
         },
         {
          "KM-label": 1,
          "digit": 0,
          "tSNE-1": 46.34882354736328,
          "tSNE-2": 6.580158233642578
         },
         {
          "KM-label": 7,
          "digit": 1,
          "tSNE-1": 27.08918571472168,
          "tSNE-2": 27.384531021118164
         },
         {
          "KM-label": 7,
          "digit": 2,
          "tSNE-1": 15.614459991455078,
          "tSNE-2": 36.56441116333008
         },
         {
          "KM-label": 2,
          "digit": 3,
          "tSNE-1": 11.736177444458008,
          "tSNE-2": -11.035114288330078
         },
         {
          "KM-label": 0,
          "digit": 4,
          "tSNE-1": -24.527070999145508,
          "tSNE-2": 35.754756927490234
         },
         {
          "KM-label": 5,
          "digit": 5,
          "tSNE-1": -8.87659740447998,
          "tSNE-2": -34.31989669799805
         },
         {
          "KM-label": 6,
          "digit": 6,
          "tSNE-1": 28.148143768310547,
          "tSNE-2": -33.183349609375
         },
         {
          "KM-label": 4,
          "digit": 7,
          "tSNE-1": -34.54481506347656,
          "tSNE-2": -3.491333246231079
         },
         {
          "KM-label": 5,
          "digit": 8,
          "tSNE-1": -2.7101871967315674,
          "tSNE-2": -5.413054466247559
         },
         {
          "KM-label": 5,
          "digit": 9,
          "tSNE-1": 7.217540740966797,
          "tSNE-2": -29.287273406982422
         },
         {
          "KM-label": 1,
          "digit": 0,
          "tSNE-1": 45.8919677734375,
          "tSNE-2": 6.243935585021973
         },
         {
          "KM-label": 7,
          "digit": 1,
          "tSNE-1": 27.423622131347656,
          "tSNE-2": 27.746286392211914
         },
         {
          "KM-label": 7,
          "digit": 2,
          "tSNE-1": 13.506348609924316,
          "tSNE-2": 30.239721298217773
         },
         {
          "KM-label": 2,
          "digit": 3,
          "tSNE-1": 10.657493591308594,
          "tSNE-2": -12.200775146484375
         },
         {
          "KM-label": 0,
          "digit": 4,
          "tSNE-1": -25.65252685546875,
          "tSNE-2": 31.065959930419922
         },
         {
          "KM-label": 5,
          "digit": 5,
          "tSNE-1": -7.024604797363281,
          "tSNE-2": -34.56250762939453
         },
         {
          "KM-label": 6,
          "digit": 6,
          "tSNE-1": 30.54030990600586,
          "tSNE-2": -32.054691314697266
         },
         {
          "KM-label": 4,
          "digit": 7,
          "tSNE-1": -34.356346130371094,
          "tSNE-2": -1.0423319339752197
         },
         {
          "KM-label": 5,
          "digit": 8,
          "tSNE-1": -2.4505395889282227,
          "tSNE-2": -4.921273231506348
         },
         {
          "KM-label": 5,
          "digit": 9,
          "tSNE-1": 7.946770668029785,
          "tSNE-2": -29.169490814208984
         },
         {
          "KM-label": 1,
          "digit": 0,
          "tSNE-1": 41.54291915893555,
          "tSNE-2": 4.675074577331543
         },
         {
          "KM-label": 5,
          "digit": 9,
          "tSNE-1": 2.8594377040863037,
          "tSNE-2": -28.647188186645508
         },
         {
          "KM-label": 5,
          "digit": 5,
          "tSNE-1": -8.102265357971191,
          "tSNE-2": -35.24162292480469
         },
         {
          "KM-label": 5,
          "digit": 5,
          "tSNE-1": -10.524916648864746,
          "tSNE-2": -34.01704025268555
         },
         {
          "KM-label": 6,
          "digit": 6,
          "tSNE-1": 33.025062561035156,
          "tSNE-2": -30.590797424316406
         },
         {
          "KM-label": 5,
          "digit": 5,
          "tSNE-1": -7.431877613067627,
          "tSNE-2": -34.73671340942383
         },
         {
          "KM-label": 1,
          "digit": 0,
          "tSNE-1": 45.2282600402832,
          "tSNE-2": 6.664371490478516
         },
         {
          "KM-label": 5,
          "digit": 9,
          "tSNE-1": 8.560486793518066,
          "tSNE-2": -27.489465713500977
         },
         {
          "KM-label": 5,
          "digit": 8,
          "tSNE-1": -3.420630931854248,
          "tSNE-2": -5.02650785446167
         },
         {
          "KM-label": 5,
          "digit": 9,
          "tSNE-1": 5.8415656089782715,
          "tSNE-2": -28.53539276123047
         },
         {
          "KM-label": 3,
          "digit": 8,
          "tSNE-1": -6.694189071655273,
          "tSNE-2": -5.394600868225098
         },
         {
          "KM-label": 0,
          "digit": 4,
          "tSNE-1": -28.663223266601562,
          "tSNE-2": 30.107685089111328
         },
         {
          "KM-label": 2,
          "digit": 1,
          "tSNE-1": 27.138256072998047,
          "tSNE-2": 23.540424346923828
         },
         {
          "KM-label": 4,
          "digit": 7,
          "tSNE-1": -35.2950439453125,
          "tSNE-2": -3.6836395263671875
         },
         {
          "KM-label": 4,
          "digit": 7,
          "tSNE-1": -34.559837341308594,
          "tSNE-2": 0.8131768107414246
         },
         {
          "KM-label": 2,
          "digit": 3,
          "tSNE-1": 10.858916282653809,
          "tSNE-2": -11.63044548034668
         },
         {
          "KM-label": 5,
          "digit": 5,
          "tSNE-1": -6.666043758392334,
          "tSNE-2": -35.50370407104492
         },
         {
          "KM-label": 7,
          "digit": 1,
          "tSNE-1": 26.787391662597656,
          "tSNE-2": 25.227144241333008
         },
         {
          "KM-label": 7,
          "digit": 2,
          "tSNE-1": 14.532272338867188,
          "tSNE-2": 29.94806671142578
         },
         {
          "KM-label": 4,
          "digit": 7,
          "tSNE-1": -34.8256950378418,
          "tSNE-2": -3.4701685905456543
         },
         {
          "KM-label": 5,
          "digit": 8,
          "tSNE-1": -2.64351224899292,
          "tSNE-2": -5.856468677520752
         },
         {
          "KM-label": 7,
          "digit": 2,
          "tSNE-1": 16.33363151550293,
          "tSNE-2": 25.0638370513916
         },
         {
          "KM-label": 1,
          "digit": 0,
          "tSNE-1": 44.120697021484375,
          "tSNE-2": 6.049120903015137
         },
         {
          "KM-label": 7,
          "digit": 1,
          "tSNE-1": 26.937301635742188,
          "tSNE-2": 25.81898307800293
         },
         {
          "KM-label": 7,
          "digit": 2,
          "tSNE-1": 15.023468017578125,
          "tSNE-2": 27.328157424926758
         },
         {
          "KM-label": 6,
          "digit": 6,
          "tSNE-1": 27.508344650268555,
          "tSNE-2": -35.26301956176758
         },
         {
          "KM-label": 2,
          "digit": 3,
          "tSNE-1": 11.872224807739258,
          "tSNE-2": -9.766757011413574
         },
         {
          "KM-label": 2,
          "digit": 3,
          "tSNE-1": 12.125781059265137,
          "tSNE-2": -10.98112678527832
         },
         {
          "KM-label": 4,
          "digit": 7,
          "tSNE-1": -33.93181610107422,
          "tSNE-2": -2.212594509124756
         },
         {
          "KM-label": 2,
          "digit": 3,
          "tSNE-1": 14.304876327514648,
          "tSNE-2": -13.667911529541016
         },
         {
          "KM-label": 2,
          "digit": 3,
          "tSNE-1": 12.207792282104492,
          "tSNE-2": -14.026610374450684
         },
         {
          "KM-label": 0,
          "digit": 4,
          "tSNE-1": -26.020917892456055,
          "tSNE-2": 30.33759117126465
         },
         {
          "KM-label": 6,
          "digit": 6,
          "tSNE-1": 32.80744552612305,
          "tSNE-2": -29.90334701538086
         },
         {
          "KM-label": 6,
          "digit": 6,
          "tSNE-1": 33.0903434753418,
          "tSNE-2": -30.997329711914062
         },
         {
          "KM-label": 6,
          "digit": 6,
          "tSNE-1": 29.836992263793945,
          "tSNE-2": -32.490821838378906
         },
         {
          "KM-label": 0,
          "digit": 4,
          "tSNE-1": -25.59446907043457,
          "tSNE-2": 31.13439178466797
         },
         {
          "KM-label": 5,
          "digit": 9,
          "tSNE-1": 8.817815780639648,
          "tSNE-2": -28.459632873535156
         },
         {
          "KM-label": 7,
          "digit": 1,
          "tSNE-1": 27.170352935791016,
          "tSNE-2": 24.016929626464844
         },
         {
          "KM-label": 5,
          "digit": 5,
          "tSNE-1": -10.22118091583252,
          "tSNE-2": -34.21739196777344
         },
         {
          "KM-label": 1,
          "digit": 0,
          "tSNE-1": 45.71867752075195,
          "tSNE-2": 6.357791900634766
         },
         {
          "KM-label": 5,
          "digit": 9,
          "tSNE-1": 8.613069534301758,
          "tSNE-2": -28.887142181396484
         },
         {
          "KM-label": 5,
          "digit": 5,
          "tSNE-1": -8.996224403381348,
          "tSNE-2": -34.75346755981445
         },
         {
          "KM-label": 7,
          "digit": 2,
          "tSNE-1": 15.778030395507812,
          "tSNE-2": 24.83655548095703
         },
         {
          "KM-label": 5,
          "digit": 8,
          "tSNE-1": -5.3275041580200195,
          "tSNE-2": -5.523308277130127
         },
         {
          "KM-label": 7,
          "digit": 2,
          "tSNE-1": 16.0001163482666,
          "tSNE-2": 25.378299713134766
         },
         {
          "KM-label": 1,
          "digit": 0,
          "tSNE-1": 46.39423751831055,
          "tSNE-2": 10.618293762207031
         },
         {
          "KM-label": 1,
          "digit": 0,
          "tSNE-1": 45.308143615722656,
          "tSNE-2": 3.764173746109009
         },
         {
          "KM-label": 7,
          "digit": 1,
          "tSNE-1": 26.904109954833984,
          "tSNE-2": 25.259260177612305
         },
         {
          "KM-label": 4,
          "digit": 7,
          "tSNE-1": -38.4595947265625,
          "tSNE-2": -1.9049127101898193
         },
         {
          "KM-label": 6,
          "digit": 6,
          "tSNE-1": 32.16733932495117,
          "tSNE-2": -31.93077278137207
         },
         {
          "KM-label": 2,
          "digit": 3,
          "tSNE-1": 14.470982551574707,
          "tSNE-2": -14.127604484558105
         },
         {
          "KM-label": 7,
          "digit": 2,
          "tSNE-1": 14.781876564025879,
          "tSNE-2": 31.449443817138672
         },
         {
          "KM-label": 7,
          "digit": 1,
          "tSNE-1": 27.36481285095215,
          "tSNE-2": 27.263397216796875
         },
         {
          "KM-label": 0,
          "digit": 4,
          "tSNE-1": -24.847702026367188,
          "tSNE-2": 41.1264762878418
         },
         {
          "KM-label": 6,
          "digit": 6,
          "tSNE-1": 34.033348083496094,
          "tSNE-2": -25.80539894104004
         },
         {
          "KM-label": 2,
          "digit": 3,
          "tSNE-1": 14.178772926330566,
          "tSNE-2": -12.230046272277832
         },
         {
          "KM-label": 7,
          "digit": 1,
          "tSNE-1": 27.16717529296875,
          "tSNE-2": 25.400226593017578
         },
         {
          "KM-label": 2,
          "digit": 3,
          "tSNE-1": 13.628843307495117,
          "tSNE-2": -14.412381172180176
         },
         {
          "KM-label": 5,
          "digit": 9,
          "tSNE-1": 8.499122619628906,
          "tSNE-2": -27.42144775390625
         },
         {
          "KM-label": 7,
          "digit": 1,
          "tSNE-1": 27.068462371826172,
          "tSNE-2": 24.259708404541016
         },
         {
          "KM-label": 4,
          "digit": 7,
          "tSNE-1": -33.968631744384766,
          "tSNE-2": -2.1697885990142822
         },
         {
          "KM-label": 6,
          "digit": 6,
          "tSNE-1": 34.930938720703125,
          "tSNE-2": -29.98375701904297
         },
         {
          "KM-label": 5,
          "digit": 8,
          "tSNE-1": -6.895450115203857,
          "tSNE-2": -8.82231330871582
         },
         {
          "KM-label": 9,
          "digit": 4,
          "tSNE-1": -26.034215927124023,
          "tSNE-2": 30.270427703857422
         },
         {
          "KM-label": 2,
          "digit": 3,
          "tSNE-1": 11.867609024047852,
          "tSNE-2": -8.952113151550293
         },
         {
          "KM-label": 7,
          "digit": 1,
          "tSNE-1": 26.928003311157227,
          "tSNE-2": 24.140857696533203
         },
         {
          "KM-label": 0,
          "digit": 4,
          "tSNE-1": -22.95255470275879,
          "tSNE-2": 35.730770111083984
         },
         {
          "KM-label": 1,
          "digit": 0,
          "tSNE-1": 44.41942596435547,
          "tSNE-2": 6.66766881942749
         },
         {
          "KM-label": 8,
          "digit": 5,
          "tSNE-1": -13.667516708374023,
          "tSNE-2": -31.635902404785156
         },
         {
          "KM-label": 2,
          "digit": 3,
          "tSNE-1": 12.233505249023438,
          "tSNE-2": -13.914154052734375
         },
         {
          "KM-label": 6,
          "digit": 6,
          "tSNE-1": 31.098217010498047,
          "tSNE-2": -31.576560974121094
         },
         {
          "KM-label": 5,
          "digit": 9,
          "tSNE-1": 6.833151340484619,
          "tSNE-2": -29.72112274169922
         },
         {
          "KM-label": 6,
          "digit": 6,
          "tSNE-1": 30.348445892333984,
          "tSNE-2": -30.20718002319336
         },
         {
          "KM-label": 7,
          "digit": 1,
          "tSNE-1": 27.042888641357422,
          "tSNE-2": 26.194326400756836
         },
         {
          "KM-label": 4,
          "digit": 7,
          "tSNE-1": -34.1688232421875,
          "tSNE-2": -0.8987581729888916
         },
         {
          "KM-label": 5,
          "digit": 5,
          "tSNE-1": -7.924748420715332,
          "tSNE-2": -35.03138732910156
         },
         {
          "KM-label": 0,
          "digit": 4,
          "tSNE-1": -24.889726638793945,
          "tSNE-2": 34.886634826660156
         },
         {
          "KM-label": 0,
          "digit": 4,
          "tSNE-1": -28.38825035095215,
          "tSNE-2": 29.38592529296875
         },
         {
          "KM-label": 4,
          "digit": 7,
          "tSNE-1": -35.94301986694336,
          "tSNE-2": -3.6323766708374023
         },
         {
          "KM-label": 7,
          "digit": 2,
          "tSNE-1": 14.578207015991211,
          "tSNE-2": 27.075267791748047
         },
         {
          "KM-label": 5,
          "digit": 8,
          "tSNE-1": -2.1269216537475586,
          "tSNE-2": -4.924036502838135
         },
         {
          "KM-label": 7,
          "digit": 2,
          "tSNE-1": 16.500757217407227,
          "tSNE-2": 24.70808982849121
         },
         {
          "KM-label": 7,
          "digit": 2,
          "tSNE-1": 16.917213439941406,
          "tSNE-2": 31.602581024169922
         },
         {
          "KM-label": 5,
          "digit": 5,
          "tSNE-1": -7.672943115234375,
          "tSNE-2": -34.90333938598633
         },
         {
          "KM-label": 4,
          "digit": 7,
          "tSNE-1": -35.27517318725586,
          "tSNE-2": -1.998315453529358
         },
         {
          "KM-label": 5,
          "digit": 9,
          "tSNE-1": 3.0965991020202637,
          "tSNE-2": -28.817434310913086
         },
         {
          "KM-label": 5,
          "digit": 5,
          "tSNE-1": -10.615267753601074,
          "tSNE-2": -35.77088928222656
         },
         {
          "KM-label": 0,
          "digit": 4,
          "tSNE-1": -29.08955955505371,
          "tSNE-2": 28.213594436645508
         },
         {
          "KM-label": 0,
          "digit": 4,
          "tSNE-1": -30.69994354248047,
          "tSNE-2": 29.43727684020996
         },
         {
          "KM-label": 5,
          "digit": 9,
          "tSNE-1": 0.37230488657951355,
          "tSNE-2": -17.104196548461914
         },
         {
          "KM-label": 1,
          "digit": 0,
          "tSNE-1": 47.00246810913086,
          "tSNE-2": 6.5354461669921875
         },
         {
          "KM-label": 5,
          "digit": 8,
          "tSNE-1": -5.754827499389648,
          "tSNE-2": -8.437311172485352
         },
         {
          "KM-label": 5,
          "digit": 9,
          "tSNE-1": 6.819814205169678,
          "tSNE-2": -29.513357162475586
         },
         {
          "KM-label": 5,
          "digit": 8,
          "tSNE-1": -3.8626863956451416,
          "tSNE-2": -5.0303425788879395
         },
         {
          "KM-label": 1,
          "digit": 0,
          "tSNE-1": 42.15712356567383,
          "tSNE-2": 7.999849796295166
         },
         {
          "KM-label": 3,
          "digit": 1,
          "tSNE-1": -5.507348537445068,
          "tSNE-2": 11.399645805358887
         },
         {
          "KM-label": 7,
          "digit": 2,
          "tSNE-1": 13.365913391113281,
          "tSNE-2": 33.977149963378906
         },
         {
          "KM-label": 2,
          "digit": 3,
          "tSNE-1": 15.34716510772705,
          "tSNE-2": -10.453505516052246
         },
         {
          "KM-label": 0,
          "digit": 4,
          "tSNE-1": -29.452144622802734,
          "tSNE-2": 28.787517547607422
         },
         {
          "KM-label": 8,
          "digit": 5,
          "tSNE-1": -21.22951889038086,
          "tSNE-2": -28.786643981933594
         },
         {
          "KM-label": 6,
          "digit": 6,
          "tSNE-1": 31.369705200195312,
          "tSNE-2": -32.688114166259766
         },
         {
          "KM-label": 4,
          "digit": 7,
          "tSNE-1": -37.17363739013672,
          "tSNE-2": -5.575026988983154
         },
         {
          "KM-label": 4,
          "digit": 8,
          "tSNE-1": -10.684529304504395,
          "tSNE-2": -1.7536364793777466
         },
         {
          "KM-label": 2,
          "digit": 9,
          "tSNE-1": 7.838591575622559,
          "tSNE-2": -16.88269805908203
         },
         {
          "KM-label": 1,
          "digit": 0,
          "tSNE-1": 41.742279052734375,
          "tSNE-2": 2.755519151687622
         },
         {
          "KM-label": 3,
          "digit": 1,
          "tSNE-1": -4.594034671783447,
          "tSNE-2": 12.457508087158203
         },
         {
          "KM-label": 7,
          "digit": 2,
          "tSNE-1": 11.701234817504883,
          "tSNE-2": 27.98861312866211
         },
         {
          "KM-label": 2,
          "digit": 3,
          "tSNE-1": 15.631301879882812,
          "tSNE-2": -10.737495422363281
         },
         {
          "KM-label": 0,
          "digit": 4,
          "tSNE-1": -28.963701248168945,
          "tSNE-2": 28.65557098388672
         },
         {
          "KM-label": 8,
          "digit": 5,
          "tSNE-1": -18.900802612304688,
          "tSNE-2": -28.590286254882812
         },
         {
          "KM-label": 6,
          "digit": 6,
          "tSNE-1": 30.58648109436035,
          "tSNE-2": -29.159191131591797
         },
         {
          "KM-label": 4,
          "digit": 7,
          "tSNE-1": -36.1038818359375,
          "tSNE-2": -3.531195640563965
         },
         {
          "KM-label": 3,
          "digit": 8,
          "tSNE-1": -10.851633071899414,
          "tSNE-2": 1.5431145429611206
         },
         {
          "KM-label": 5,
          "digit": 9,
          "tSNE-1": 2.4039511680603027,
          "tSNE-2": -17.608142852783203
         },
         {
          "KM-label": 1,
          "digit": 0,
          "tSNE-1": 47.90769577026367,
          "tSNE-2": 4.610013961791992
         },
         {
          "KM-label": 3,
          "digit": 1,
          "tSNE-1": -6.438973426818848,
          "tSNE-2": 19.24159049987793
         },
         {
          "KM-label": 7,
          "digit": 2,
          "tSNE-1": 14.982744216918945,
          "tSNE-2": 24.433696746826172
         },
         {
          "KM-label": 2,
          "digit": 3,
          "tSNE-1": 16.249162673950195,
          "tSNE-2": -9.20218276977539
         },
         {
          "KM-label": 0,
          "digit": 4,
          "tSNE-1": -29.308897018432617,
          "tSNE-2": 29.61935043334961
         },
         {
          "KM-label": 8,
          "digit": 5,
          "tSNE-1": -13.318568229675293,
          "tSNE-2": -30.555891036987305
         },
         {
          "KM-label": 6,
          "digit": 6,
          "tSNE-1": 33.827430725097656,
          "tSNE-2": -30.615966796875
         },
         {
          "KM-label": 4,
          "digit": 7,
          "tSNE-1": -36.72874450683594,
          "tSNE-2": -5.9404144287109375
         },
         {
          "KM-label": 5,
          "digit": 8,
          "tSNE-1": -0.6427162885665894,
          "tSNE-2": -1.3644105195999146
         },
         {
          "KM-label": 5,
          "digit": 9,
          "tSNE-1": 2.613708972930908,
          "tSNE-2": -18.609556198120117
         },
         {
          "KM-label": 1,
          "digit": 0,
          "tSNE-1": 45.34899139404297,
          "tSNE-2": 4.755428791046143
         },
         {
          "KM-label": 5,
          "digit": 9,
          "tSNE-1": -3.3520967960357666,
          "tSNE-2": -24.215665817260742
         },
         {
          "KM-label": 8,
          "digit": 5,
          "tSNE-1": -20.44819450378418,
          "tSNE-2": -29.739221572875977
         },
         {
          "KM-label": 8,
          "digit": 5,
          "tSNE-1": -21.813791275024414,
          "tSNE-2": -29.582857131958008
         },
         {
          "KM-label": 6,
          "digit": 6,
          "tSNE-1": 34.60096740722656,
          "tSNE-2": -23.31620216369629
         },
         {
          "KM-label": 8,
          "digit": 5,
          "tSNE-1": -20.55157470703125,
          "tSNE-2": -29.644189834594727
         },
         {
          "KM-label": 1,
          "digit": 0,
          "tSNE-1": 40.88675308227539,
          "tSNE-2": 2.724832773208618
         },
         {
          "KM-label": 5,
          "digit": 9,
          "tSNE-1": 2.756082057952881,
          "tSNE-2": -17.725229263305664
         },
         {
          "KM-label": 5,
          "digit": 8,
          "tSNE-1": -0.5235435366630554,
          "tSNE-2": -2.739466428756714
         },
         {
          "KM-label": 5,
          "digit": 9,
          "tSNE-1": -3.280914545059204,
          "tSNE-2": -24.594120025634766
         },
         {
          "KM-label": 3,
          "digit": 8,
          "tSNE-1": -4.619104862213135,
          "tSNE-2": 2.7086033821105957
         },
         {
          "KM-label": 0,
          "digit": 4,
          "tSNE-1": -28.109859466552734,
          "tSNE-2": 28.91500473022461
         },
         {
          "KM-label": 3,
          "digit": 1,
          "tSNE-1": -6.299717903137207,
          "tSNE-2": 12.388015747070312
         },
         {
          "KM-label": 4,
          "digit": 7,
          "tSNE-1": -35.5232048034668,
          "tSNE-2": -5.699288845062256
         },
         {
          "KM-label": 4,
          "digit": 7,
          "tSNE-1": -37.09445571899414,
          "tSNE-2": -4.19168758392334
         },
         {
          "KM-label": 2,
          "digit": 3,
          "tSNE-1": 17.94657325744629,
          "tSNE-2": -4.040777683258057
         },
         {
          "KM-label": 8,
          "digit": 5,
          "tSNE-1": -16.7333984375,
          "tSNE-2": -30.530202865600586
         },
         {
          "KM-label": 3,
          "digit": 1,
          "tSNE-1": -5.22275972366333,
          "tSNE-2": 18.415569305419922
         },
         {
          "KM-label": 1,
          "digit": 0,
          "tSNE-1": 49.26013946533203,
          "tSNE-2": 4.796329498291016
         },
         {
          "KM-label": 1,
          "digit": 0,
          "tSNE-1": 49.20765686035156,
          "tSNE-2": 4.797075271606445
         },
         {
          "KM-label": 4,
          "digit": 7,
          "tSNE-1": -36.22854995727539,
          "tSNE-2": -6.225174903869629
         },
         {
          "KM-label": 3,
          "digit": 8,
          "tSNE-1": -10.961132049560547,
          "tSNE-2": 1.6801012754440308
         },
         {
          "KM-label": 7,
          "digit": 2,
          "tSNE-1": 14.939793586730957,
          "tSNE-2": 22.947221755981445
         },
         {
          "KM-label": 1,
          "digit": 0,
          "tSNE-1": 47.206214904785156,
          "tSNE-2": 1.8505152463912964
         },
         {
          "KM-label": 3,
          "digit": 1,
          "tSNE-1": -3.9311132431030273,
          "tSNE-2": 15.6997709274292
         },
         {
          "KM-label": 7,
          "digit": 2,
          "tSNE-1": 15.378825187683105,
          "tSNE-2": 24.81817626953125
         },
         {
          "KM-label": 6,
          "digit": 6,
          "tSNE-1": 30.143400192260742,
          "tSNE-2": -22.957643508911133
         },
         {
          "KM-label": 2,
          "digit": 3,
          "tSNE-1": 17.310121536254883,
          "tSNE-2": -8.51321029663086
         },
         {
          "KM-label": 2,
          "digit": 3,
          "tSNE-1": 17.371726989746094,
          "tSNE-2": -3.612151861190796
         },
         {
          "KM-label": 4,
          "digit": 7,
          "tSNE-1": -35.11619186401367,
          "tSNE-2": -7.160606861114502
         },
         {
          "KM-label": 2,
          "digit": 3,
          "tSNE-1": 16.912397384643555,
          "tSNE-2": -7.4904680252075195
         },
         {
          "KM-label": 2,
          "digit": 3,
          "tSNE-1": 17.189044952392578,
          "tSNE-2": -8.461423873901367
         },
         {
          "KM-label": 0,
          "digit": 4,
          "tSNE-1": -30.50833511352539,
          "tSNE-2": 29.391672134399414
         },
         {
          "KM-label": 6,
          "digit": 6,
          "tSNE-1": 30.03693199157715,
          "tSNE-2": -35.445552825927734
         },
         {
          "KM-label": 6,
          "digit": 6,
          "tSNE-1": 35.85512161254883,
          "tSNE-2": -26.28750991821289
         },
         {
          "KM-label": 6,
          "digit": 6,
          "tSNE-1": 34.58816146850586,
          "tSNE-2": -27.685457229614258
         },
         {
          "KM-label": 4,
          "digit": 4,
          "tSNE-1": -33.667137145996094,
          "tSNE-2": 28.93918228149414
         },
         {
          "KM-label": 5,
          "digit": 9,
          "tSNE-1": 2.346433162689209,
          "tSNE-2": -17.719039916992188
         },
         {
          "KM-label": 3,
          "digit": 1,
          "tSNE-1": -6.5548319816589355,
          "tSNE-2": 19.674562454223633
         },
         {
          "KM-label": 8,
          "digit": 5,
          "tSNE-1": -16.06005859375,
          "tSNE-2": -32.03164291381836
         },
         {
          "KM-label": 1,
          "digit": 0,
          "tSNE-1": 42.65144729614258,
          "tSNE-2": 5.206090927124023
         },
         {
          "KM-label": 8,
          "digit": 9,
          "tSNE-1": -11.939329147338867,
          "tSNE-2": -0.6114516258239746
         },
         {
          "KM-label": 8,
          "digit": 5,
          "tSNE-1": -24.782075881958008,
          "tSNE-2": -30.323841094970703
         },
         {
          "KM-label": 7,
          "digit": 2,
          "tSNE-1": 17.601316452026367,
          "tSNE-2": 26.725078582763672
         },
         {
          "KM-label": 5,
          "digit": 8,
          "tSNE-1": -0.6577144265174866,
          "tSNE-2": -2.068364143371582
         },
         {
          "KM-label": 2,
          "digit": 2,
          "tSNE-1": 15.566699981689453,
          "tSNE-2": 21.451030731201172
         },
         {
          "KM-label": 1,
          "digit": 0,
          "tSNE-1": 47.37967300415039,
          "tSNE-2": 1.677268147468567
         },
         {
          "KM-label": 1,
          "digit": 0,
          "tSNE-1": 46.626129150390625,
          "tSNE-2": 1.3548442125320435
         },
         {
          "KM-label": 3,
          "digit": 1,
          "tSNE-1": -3.724351406097412,
          "tSNE-2": 17.309598922729492
         },
         {
          "KM-label": 4,
          "digit": 7,
          "tSNE-1": -38.313602447509766,
          "tSNE-2": -8.0847806930542
         },
         {
          "KM-label": 6,
          "digit": 6,
          "tSNE-1": 31.966251373291016,
          "tSNE-2": -23.175491333007812
         },
         {
          "KM-label": 2,
          "digit": 3,
          "tSNE-1": 16.022300720214844,
          "tSNE-2": -10.11716365814209
         },
         {
          "KM-label": 7,
          "digit": 2,
          "tSNE-1": 15.157115936279297,
          "tSNE-2": 28.83963966369629
         },
         {
          "KM-label": 3,
          "digit": 1,
          "tSNE-1": -7.09792947769165,
          "tSNE-2": 19.37721824645996
         },
         {
          "KM-label": 4,
          "digit": 7,
          "tSNE-1": -35.00849151611328,
          "tSNE-2": -7.299131870269775
         },
         {
          "KM-label": 0,
          "digit": 4,
          "tSNE-1": -29.855976104736328,
          "tSNE-2": 29.207691192626953
         },
         {
          "KM-label": 6,
          "digit": 6,
          "tSNE-1": 30.132402420043945,
          "tSNE-2": -35.41127014160156
         },
         {
          "KM-label": 2,
          "digit": 3,
          "tSNE-1": 16.04564094543457,
          "tSNE-2": -10.172333717346191
         },
         {
          "KM-label": 3,
          "digit": 1,
          "tSNE-1": -7.243875503540039,
          "tSNE-2": 12.07524585723877
         },
         {
          "KM-label": 4,
          "digit": 3,
          "tSNE-1": -37.24674987792969,
          "tSNE-2": 4.35356330871582
         },
         {
          "KM-label": 5,
          "digit": 9,
          "tSNE-1": 2.86098051071167,
          "tSNE-2": -17.64742660522461
         },
         {
          "KM-label": 3,
          "digit": 1,
          "tSNE-1": -7.453816890716553,
          "tSNE-2": 17.122390747070312
         },
         {
          "KM-label": 4,
          "digit": 7,
          "tSNE-1": -36.20509719848633,
          "tSNE-2": -4.3015828132629395
         },
         {
          "KM-label": 6,
          "digit": 6,
          "tSNE-1": 35.13725662231445,
          "tSNE-2": -28.847803115844727
         },
         {
          "KM-label": 3,
          "digit": 8,
          "tSNE-1": -0.8582884073257446,
          "tSNE-2": -2.002641201019287
         },
         {
          "KM-label": 0,
          "digit": 4,
          "tSNE-1": -31.491262435913086,
          "tSNE-2": 29.029518127441406
         },
         {
          "KM-label": 2,
          "digit": 3,
          "tSNE-1": 16.45964241027832,
          "tSNE-2": -10.194487571716309
         },
         {
          "KM-label": 3,
          "digit": 1,
          "tSNE-1": -3.668508529663086,
          "tSNE-2": 18.781211853027344
         },
         {
          "KM-label": 0,
          "digit": 4,
          "tSNE-1": -30.584924697875977,
          "tSNE-2": 31.272972106933594
         },
         {
          "KM-label": 1,
          "digit": 0,
          "tSNE-1": 41.640663146972656,
          "tSNE-2": 7.312493324279785
         },
         {
          "KM-label": 8,
          "digit": 5,
          "tSNE-1": -20.105609893798828,
          "tSNE-2": -32.27644729614258
         },
         {
          "KM-label": 2,
          "digit": 3,
          "tSNE-1": 17.564226150512695,
          "tSNE-2": -9.268115043640137
         },
         {
          "KM-label": 6,
          "digit": 6,
          "tSNE-1": 29.242664337158203,
          "tSNE-2": -20.330703735351562
         },
         {
          "KM-label": 5,
          "digit": 9,
          "tSNE-1": 2.8122968673706055,
          "tSNE-2": -20.80833625793457
         },
         {
          "KM-label": 6,
          "digit": 6,
          "tSNE-1": 34.055999755859375,
          "tSNE-2": -29.730365753173828
         },
         {
          "KM-label": 3,
          "digit": 1,
          "tSNE-1": -4.639143943786621,
          "tSNE-2": 17.9919376373291
         },
         {
          "KM-label": 4,
          "digit": 7,
          "tSNE-1": -39.460548400878906,
          "tSNE-2": -8.536582946777344
         },
         {
          "KM-label": 5,
          "digit": 5,
          "tSNE-1": -16.54695701599121,
          "tSNE-2": -34.99102783203125
         },
         {
          "KM-label": 0,
          "digit": 4,
          "tSNE-1": -27.57277488708496,
          "tSNE-2": 34.07148361206055
         },
         {
          "KM-label": 0,
          "digit": 4,
          "tSNE-1": -29.849172592163086,
          "tSNE-2": 29.251096725463867
         },
         {
          "KM-label": 4,
          "digit": 7,
          "tSNE-1": -37.9888916015625,
          "tSNE-2": -7.556371212005615
         },
         {
          "KM-label": 7,
          "digit": 2,
          "tSNE-1": 16.598079681396484,
          "tSNE-2": 31.289323806762695
         },
         {
          "KM-label": 3,
          "digit": 8,
          "tSNE-1": -11.31164264678955,
          "tSNE-2": -0.33736374974250793
         },
         {
          "KM-label": 7,
          "digit": 2,
          "tSNE-1": 11.821739196777344,
          "tSNE-2": 27.916706085205078
         },
         {
          "KM-label": 7,
          "digit": 2,
          "tSNE-1": 16.3189754486084,
          "tSNE-2": 23.470985412597656
         },
         {
          "KM-label": 8,
          "digit": 5,
          "tSNE-1": -21.571321487426758,
          "tSNE-2": -28.594196319580078
         },
         {
          "KM-label": 4,
          "digit": 7,
          "tSNE-1": -36.20673370361328,
          "tSNE-2": -6.476208209991455
         },
         {
          "KM-label": 5,
          "digit": 9,
          "tSNE-1": 1.9437167644500732,
          "tSNE-2": -21.796905517578125
         },
         {
          "KM-label": 8,
          "digit": 5,
          "tSNE-1": -18.989614486694336,
          "tSNE-2": -34.961814880371094
         },
         {
          "KM-label": 0,
          "digit": 4,
          "tSNE-1": -29.807275772094727,
          "tSNE-2": 32.15816116333008
         },
         {
          "KM-label": 7,
          "digit": 8,
          "tSNE-1": 0.23615363240242004,
          "tSNE-2": -2.8218648433685303
         },
         {
          "KM-label": 2,
          "digit": 8,
          "tSNE-1": -4.463418483734131,
          "tSNE-2": -0.3110266625881195
         },
         {
          "KM-label": 0,
          "digit": 4,
          "tSNE-1": -31.705760955810547,
          "tSNE-2": 28.86551856994629
         },
         {
          "KM-label": 5,
          "digit": 9,
          "tSNE-1": 2.3835766315460205,
          "tSNE-2": -17.020832061767578
         },
         {
          "KM-label": 1,
          "digit": 0,
          "tSNE-1": 46.366905212402344,
          "tSNE-2": 4.781405925750732
         },
         {
          "KM-label": 3,
          "digit": 8,
          "tSNE-1": -0.41565439105033875,
          "tSNE-2": -0.44529542326927185
         },
         {
          "KM-label": 5,
          "digit": 9,
          "tSNE-1": 1.7366424798965454,
          "tSNE-2": -20.39702606201172
         },
         {
          "KM-label": 3,
          "digit": 8,
          "tSNE-1": -0.6354133486747742,
          "tSNE-2": -1.1430660486221313
         },
         {
          "KM-label": 1,
          "digit": 0,
          "tSNE-1": 41.42710494995117,
          "tSNE-2": 4.764900207519531
         },
         {
          "KM-label": 9,
          "digit": 1,
          "tSNE-1": -17.135950088500977,
          "tSNE-2": 17.55510711669922
         },
         {
          "KM-label": 7,
          "digit": 2,
          "tSNE-1": 12.206214904785156,
          "tSNE-2": 34.83958435058594
         },
         {
          "KM-label": 2,
          "digit": 3,
          "tSNE-1": 16.073455810546875,
          "tSNE-2": -7.959095478057861
         },
         {
          "KM-label": 0,
          "digit": 4,
          "tSNE-1": -29.862049102783203,
          "tSNE-2": 33.1031608581543
         },
         {
          "KM-label": 5,
          "digit": 5,
          "tSNE-1": -17.026445388793945,
          "tSNE-2": -35.93856430053711
         },
         {
          "KM-label": 6,
          "digit": 6,
          "tSNE-1": 31.728511810302734,
          "tSNE-2": -31.458898544311523
         },
         {
          "KM-label": 4,
          "digit": 7,
          "tSNE-1": -41.95829772949219,
          "tSNE-2": -9.519268035888672
         },
         {
          "KM-label": 5,
          "digit": 8,
          "tSNE-1": -1.9912598133087158,
          "tSNE-2": -5.946357727050781
         },
         {
          "KM-label": 5,
          "digit": 9,
          "tSNE-1": -3.0366218090057373,
          "tSNE-2": -21.679401397705078
         },
         {
          "KM-label": 1,
          "digit": 0,
          "tSNE-1": 41.93885040283203,
          "tSNE-2": 8.72793960571289
         },
         {
          "KM-label": 9,
          "digit": 1,
          "tSNE-1": -17.636220932006836,
          "tSNE-2": 17.379575729370117
         },
         {
          "KM-label": 7,
          "digit": 2,
          "tSNE-1": 12.471114158630371,
          "tSNE-2": 30.066360473632812
         },
         {
          "KM-label": 2,
          "digit": 3,
          "tSNE-1": 16.70956039428711,
          "tSNE-2": -3.167508602142334
         },
         {
          "KM-label": 0,
          "digit": 4,
          "tSNE-1": -24.76058006286621,
          "tSNE-2": 36.84565734863281
         },
         {
          "KM-label": 8,
          "digit": 5,
          "tSNE-1": -16.00032615661621,
          "tSNE-2": -36.54403305053711
         },
         {
          "KM-label": 6,
          "digit": 6,
          "tSNE-1": 28.2266902923584,
          "tSNE-2": -23.253650665283203
         },
         {
          "KM-label": 4,
          "digit": 7,
          "tSNE-1": -41.46367645263672,
          "tSNE-2": -0.6807692646980286
         },
         {
          "KM-label": 3,
          "digit": 8,
          "tSNE-1": -11.31878662109375,
          "tSNE-2": 5.20231819152832
         },
         {
          "KM-label": 5,
          "digit": 9,
          "tSNE-1": 8.49971866607666,
          "tSNE-2": -23.3076114654541
         },
         {
          "KM-label": 1,
          "digit": 0,
          "tSNE-1": 40.63002014160156,
          "tSNE-2": 9.839242935180664
         },
         {
          "KM-label": 3,
          "digit": 1,
          "tSNE-1": -13.136344909667969,
          "tSNE-2": 19.61216926574707
         },
         {
          "KM-label": 7,
          "digit": 2,
          "tSNE-1": 7.437139511108398,
          "tSNE-2": 30.591157913208008
         },
         {
          "KM-label": 2,
          "digit": 3,
          "tSNE-1": 19.22026252746582,
          "tSNE-2": -7.913949966430664
         },
         {
          "KM-label": 0,
          "digit": 4,
          "tSNE-1": -34.01348876953125,
          "tSNE-2": 35.7443962097168
         },
         {
          "KM-label": 8,
          "digit": 5,
          "tSNE-1": -27.1882381439209,
          "tSNE-2": -24.54920196533203
         },
         {
          "KM-label": 6,
          "digit": 6,
          "tSNE-1": 34.935054779052734,
          "tSNE-2": -26.650453567504883
         },
         {
          "KM-label": 4,
          "digit": 7,
          "tSNE-1": -38.81452941894531,
          "tSNE-2": 3.3606631755828857
         },
         {
          "KM-label": 3,
          "digit": 8,
          "tSNE-1": -10.81017780303955,
          "tSNE-2": 4.436005592346191
         },
         {
          "KM-label": 5,
          "digit": 9,
          "tSNE-1": -2.8453543186187744,
          "tSNE-2": -21.748428344726562
         },
         {
          "KM-label": 1,
          "digit": 0,
          "tSNE-1": 39.26481246948242,
          "tSNE-2": 12.0264310836792
         },
         {
          "KM-label": 5,
          "digit": 9,
          "tSNE-1": -1.0886869430541992,
          "tSNE-2": -27.101512908935547
         },
         {
          "KM-label": 8,
          "digit": 5,
          "tSNE-1": -16.412912368774414,
          "tSNE-2": -31.63665199279785
         },
         {
          "KM-label": 8,
          "digit": 5,
          "tSNE-1": -19.827177047729492,
          "tSNE-2": -26.41391372680664
         },
         {
          "KM-label": 6,
          "digit": 6,
          "tSNE-1": 34.590206146240234,
          "tSNE-2": -27.629173278808594
         },
         {
          "KM-label": 8,
          "digit": 5,
          "tSNE-1": -21.920923233032227,
          "tSNE-2": -26.476547241210938
         },
         {
          "KM-label": 1,
          "digit": 0,
          "tSNE-1": 34.90372848510742,
          "tSNE-2": 11.060302734375
         },
         {
          "KM-label": 5,
          "digit": 9,
          "tSNE-1": -1.6297404766082764,
          "tSNE-2": -26.699731826782227
         },
         {
          "KM-label": 8,
          "digit": 8,
          "tSNE-1": -12.707476615905762,
          "tSNE-2": 0.8653401732444763
         },
         {
          "KM-label": 5,
          "digit": 9,
          "tSNE-1": -1.0558757781982422,
          "tSNE-2": -27.532079696655273
         },
         {
          "KM-label": 8,
          "digit": 8,
          "tSNE-1": -12.631362915039062,
          "tSNE-2": 3.4650259017944336
         },
         {
          "KM-label": 0,
          "digit": 4,
          "tSNE-1": -24.553022384643555,
          "tSNE-2": 35.9708251953125
         },
         {
          "KM-label": 3,
          "digit": 1,
          "tSNE-1": -7.059636116027832,
          "tSNE-2": 13.123233795166016
         },
         {
          "KM-label": 4,
          "digit": 7,
          "tSNE-1": -43.35639572143555,
          "tSNE-2": -9.317899703979492
         },
         {
          "KM-label": 4,
          "digit": 7,
          "tSNE-1": -40.99879837036133,
          "tSNE-2": -9.001171112060547
         },
         {
          "KM-label": 4,
          "digit": 3,
          "tSNE-1": -17.000059127807617,
          "tSNE-2": -0.9464949369430542
         },
         {
          "KM-label": 8,
          "digit": 5,
          "tSNE-1": -18.35655975341797,
          "tSNE-2": -36.4028205871582
         },
         {
          "KM-label": 3,
          "digit": 1,
          "tSNE-1": -14.384976387023926,
          "tSNE-2": 18.840547561645508
         },
         {
          "KM-label": 1,
          "digit": 0,
          "tSNE-1": 35.597625732421875,
          "tSNE-2": 10.144731521606445
         },
         {
          "KM-label": 1,
          "digit": 0,
          "tSNE-1": 34.93121337890625,
          "tSNE-2": 11.044143676757812
         },
         {
          "KM-label": 7,
          "digit": 2,
          "tSNE-1": 9.304553031921387,
          "tSNE-2": 27.622894287109375
         },
         {
          "KM-label": 7,
          "digit": 2,
          "tSNE-1": 7.117486476898193,
          "tSNE-2": 31.441560745239258
         },
         {
          "KM-label": 4,
          "digit": 7,
          "tSNE-1": -41.916744232177734,
          "tSNE-2": -6.571282863616943
         },
         {
          "KM-label": 8,
          "digit": 8,
          "tSNE-1": -12.539752006530762,
          "tSNE-2": -2.1339690685272217
         },
         {
          "KM-label": 7,
          "digit": 2,
          "tSNE-1": 10.61601448059082,
          "tSNE-2": 34.95258331298828
         },
         {
          "KM-label": 1,
          "digit": 0,
          "tSNE-1": 38.964935302734375,
          "tSNE-2": 11.660384178161621
         },
         {
          "KM-label": 3,
          "digit": 1,
          "tSNE-1": -6.319303512573242,
          "tSNE-2": 21.259628295898438
         },
         {
          "KM-label": 7,
          "digit": 2,
          "tSNE-1": 10.475607872009277,
          "tSNE-2": 31.192970275878906
         },
         {
          "KM-label": 6,
          "digit": 6,
          "tSNE-1": 38.15862274169922,
          "tSNE-2": -20.656660079956055
         },
         {
          "KM-label": 2,
          "digit": 3,
          "tSNE-1": 19.325847625732422,
          "tSNE-2": -7.688700199127197
         },
         {
          "KM-label": 2,
          "digit": 3,
          "tSNE-1": 11.73507022857666,
          "tSNE-2": -1.2597419023513794
         },
         {
          "KM-label": 4,
          "digit": 7,
          "tSNE-1": -41.55499267578125,
          "tSNE-2": -10.010540008544922
         },
         {
          "KM-label": 2,
          "digit": 3,
          "tSNE-1": 12.617935180664062,
          "tSNE-2": 2.7852771282196045
         },
         {
          "KM-label": 2,
          "digit": 3,
          "tSNE-1": 17.513547897338867,
          "tSNE-2": -2.7852237224578857
         },
         {
          "KM-label": 0,
          "digit": 4,
          "tSNE-1": -26.372394561767578,
          "tSNE-2": 39.43928909301758
         },
         {
          "KM-label": 6,
          "digit": 6,
          "tSNE-1": 35.98042297363281,
          "tSNE-2": -26.75572395324707
         },
         {
          "KM-label": 6,
          "digit": 6,
          "tSNE-1": 31.00473976135254,
          "tSNE-2": -24.037687301635742
         },
         {
          "KM-label": 6,
          "digit": 6,
          "tSNE-1": 30.926509857177734,
          "tSNE-2": -23.936073303222656
         },
         {
          "KM-label": 0,
          "digit": 4,
          "tSNE-1": -28.355575561523438,
          "tSNE-2": 33.55017852783203
         },
         {
          "KM-label": 5,
          "digit": 9,
          "tSNE-1": 3.716177225112915,
          "tSNE-2": -22.197559356689453
         },
         {
          "KM-label": 3,
          "digit": 1,
          "tSNE-1": -4.0425615310668945,
          "tSNE-2": 17.394956588745117
         },
         {
          "KM-label": 8,
          "digit": 5,
          "tSNE-1": -26.433547973632812,
          "tSNE-2": -28.406879425048828
         },
         {
          "KM-label": 1,
          "digit": 0,
          "tSNE-1": 39.79607009887695,
          "tSNE-2": 12.538923263549805
         },
         {
          "KM-label": 5,
          "digit": 9,
          "tSNE-1": -2.0688905715942383,
          "tSNE-2": -24.37663459777832
         },
         {
          "KM-label": 8,
          "digit": 5,
          "tSNE-1": -17.596370697021484,
          "tSNE-2": -35.309268951416016
         },
         {
          "KM-label": 7,
          "digit": 2,
          "tSNE-1": 10.093196868896484,
          "tSNE-2": 30.70008659362793
         },
         {
          "KM-label": 8,
          "digit": 8,
          "tSNE-1": -12.320255279541016,
          "tSNE-2": 0.8499858379364014
         },
         {
          "KM-label": 7,
          "digit": 2,
          "tSNE-1": 8.687479972839355,
          "tSNE-2": 26.281118392944336
         },
         {
          "KM-label": 1,
          "digit": 0,
          "tSNE-1": 39.254859924316406,
          "tSNE-2": 12.453179359436035
         },
         {
          "KM-label": 1,
          "digit": 0,
          "tSNE-1": 39.210758209228516,
          "tSNE-2": 11.71847915649414
         },
         {
          "KM-label": 3,
          "digit": 1,
          "tSNE-1": -7.133275032043457,
          "tSNE-2": 19.4638614654541
         },
         {
          "KM-label": 4,
          "digit": 7,
          "tSNE-1": -43.12636184692383,
          "tSNE-2": -9.507744789123535
         },
         {
          "KM-label": 6,
          "digit": 6,
          "tSNE-1": 36.48320770263672,
          "tSNE-2": -27.310367584228516
         },
         {
          "KM-label": 2,
          "digit": 3,
          "tSNE-1": 12.601311683654785,
          "tSNE-2": 1.439746379852295
         },
         {
          "KM-label": 7,
          "digit": 2,
          "tSNE-1": 9.431192398071289,
          "tSNE-2": 31.992467880249023
         },
         {
          "KM-label": 3,
          "digit": 1,
          "tSNE-1": -13.783899307250977,
          "tSNE-2": 19.30525779724121
         },
         {
          "KM-label": 4,
          "digit": 7,
          "tSNE-1": -44.7566032409668,
          "tSNE-2": -9.269248962402344
         },
         {
          "KM-label": 0,
          "digit": 4,
          "tSNE-1": -27.13878059387207,
          "tSNE-2": 34.92314910888672
         },
         {
          "KM-label": 6,
          "digit": 6,
          "tSNE-1": 36.61651611328125,
          "tSNE-2": -26.66621208190918
         },
         {
          "KM-label": 2,
          "digit": 3,
          "tSNE-1": 13.868905067443848,
          "tSNE-2": 0.0389384888112545
         },
         {
          "KM-label": 3,
          "digit": 1,
          "tSNE-1": -4.756468296051025,
          "tSNE-2": 17.585227966308594
         },
         {
          "KM-label": 2,
          "digit": 3,
          "tSNE-1": 15.311028480529785,
          "tSNE-2": -7.937899112701416
         },
         {
          "KM-label": 5,
          "digit": 9,
          "tSNE-1": -1.384229302406311,
          "tSNE-2": -27.780611038208008
         },
         {
          "KM-label": 3,
          "digit": 1,
          "tSNE-1": -4.550510883331299,
          "tSNE-2": 17.427806854248047
         },
         {
          "KM-label": 4,
          "digit": 7,
          "tSNE-1": -42.80517578125,
          "tSNE-2": -6.065186500549316
         },
         {
          "KM-label": 6,
          "digit": 6,
          "tSNE-1": 36.544734954833984,
          "tSNE-2": -26.51334571838379
         },
         {
          "KM-label": 3,
          "digit": 8,
          "tSNE-1": -11.717741966247559,
          "tSNE-2": 2.0435800552368164
         },
         {
          "KM-label": 0,
          "digit": 4,
          "tSNE-1": -28.002222061157227,
          "tSNE-2": 34.82512664794922
         },
         {
          "KM-label": 2,
          "digit": 3,
          "tSNE-1": 12.514204978942871,
          "tSNE-2": -3.497711181640625
         },
         {
          "KM-label": 3,
          "digit": 1,
          "tSNE-1": -1.998317003250122,
          "tSNE-2": 17.602476119995117
         },
         {
          "KM-label": 0,
          "digit": 4,
          "tSNE-1": -28.44879722595215,
          "tSNE-2": 37.64659881591797
         },
         {
          "KM-label": 1,
          "digit": 0,
          "tSNE-1": 38.64863204956055,
          "tSNE-2": -1.6501493453979492
         },
         {
          "KM-label": 8,
          "digit": 5,
          "tSNE-1": -26.95346450805664,
          "tSNE-2": -23.611461639404297
         },
         {
          "KM-label": 2,
          "digit": 3,
          "tSNE-1": 12.595418930053711,
          "tSNE-2": 1.6269789934158325
         },
         {
          "KM-label": 6,
          "digit": 6,
          "tSNE-1": 30.396249771118164,
          "tSNE-2": -24.555522918701172
         },
         {
          "KM-label": 5,
          "digit": 9,
          "tSNE-1": -1.4296528100967407,
          "tSNE-2": -24.743850708007812
         },
         {
          "KM-label": 6,
          "digit": 6,
          "tSNE-1": 37.21159362792969,
          "tSNE-2": -25.85209083557129
         },
         {
          "KM-label": 8,
          "digit": 1,
          "tSNE-1": -12.746809959411621,
          "tSNE-2": 20.631912231445312
         },
         {
          "KM-label": 4,
          "digit": 7,
          "tSNE-1": -42.081932067871094,
          "tSNE-2": -10.242203712463379
         },
         {
          "KM-label": 8,
          "digit": 5,
          "tSNE-1": -25.94734764099121,
          "tSNE-2": -24.578065872192383
         },
         {
          "KM-label": 0,
          "digit": 4,
          "tSNE-1": -27.11482048034668,
          "tSNE-2": 38.07943344116211
         },
         {
          "KM-label": 0,
          "digit": 4,
          "tSNE-1": -29.11458969116211,
          "tSNE-2": 34.44915771484375
         },
         {
          "KM-label": 4,
          "digit": 7,
          "tSNE-1": -39.96084976196289,
          "tSNE-2": 2.5076820850372314
         },
         {
          "KM-label": 7,
          "digit": 2,
          "tSNE-1": 10.468681335449219,
          "tSNE-2": 36.76365661621094
         },
         {
          "KM-label": 7,
          "digit": 8,
          "tSNE-1": 4.811772346496582,
          "tSNE-2": 18.140642166137695
         },
         {
          "KM-label": 7,
          "digit": 2,
          "tSNE-1": 10.263343811035156,
          "tSNE-2": 34.04777526855469
         },
         {
          "KM-label": 7,
          "digit": 2,
          "tSNE-1": 9.671929359436035,
          "tSNE-2": 30.848857879638672
         },
         {
          "KM-label": 8,
          "digit": 5,
          "tSNE-1": -29.51668357849121,
          "tSNE-2": -26.05626106262207
         },
         {
          "KM-label": 4,
          "digit": 7,
          "tSNE-1": -43.01539993286133,
          "tSNE-2": 0.9415653944015503
         },
         {
          "KM-label": 5,
          "digit": 9,
          "tSNE-1": -1.5246385335922241,
          "tSNE-2": -24.319276809692383
         },
         {
          "KM-label": 8,
          "digit": 5,
          "tSNE-1": -24.728952407836914,
          "tSNE-2": -26.810949325561523
         },
         {
          "KM-label": 0,
          "digit": 4,
          "tSNE-1": -26.58289909362793,
          "tSNE-2": 35.45393753051758
         },
         {
          "KM-label": 3,
          "digit": 8,
          "tSNE-1": -11.327186584472656,
          "tSNE-2": 4.512638092041016
         },
         {
          "KM-label": 3,
          "digit": 8,
          "tSNE-1": -10.391338348388672,
          "tSNE-2": 3.0532689094543457
         },
         {
          "KM-label": 0,
          "digit": 4,
          "tSNE-1": -33.334835052490234,
          "tSNE-2": 31.229961395263672
         },
         {
          "KM-label": 5,
          "digit": 9,
          "tSNE-1": 3.7747349739074707,
          "tSNE-2": -26.897977828979492
         },
         {
          "KM-label": 1,
          "digit": 0,
          "tSNE-1": 39.212806701660156,
          "tSNE-2": 12.9761381149292
         },
         {
          "KM-label": 3,
          "digit": 8,
          "tSNE-1": -9.285077095031738,
          "tSNE-2": 3.155127763748169
         },
         {
          "KM-label": 5,
          "digit": 9,
          "tSNE-1": -2.8197455406188965,
          "tSNE-2": -25.316370010375977
         },
         {
          "KM-label": 3,
          "digit": 8,
          "tSNE-1": -9.917815208435059,
          "tSNE-2": 2.6855008602142334
         },
         {
          "KM-label": 1,
          "digit": 0,
          "tSNE-1": 47.97520065307617,
          "tSNE-2": 4.764248371124268
         },
         {
          "KM-label": 9,
          "digit": 1,
          "tSNE-1": -20.821836471557617,
          "tSNE-2": 12.333291053771973
         },
         {
          "KM-label": 7,
          "digit": 2,
          "tSNE-1": 14.650135040283203,
          "tSNE-2": 22.25145721435547
         },
         {
          "KM-label": 2,
          "digit": 3,
          "tSNE-1": 14.694938659667969,
          "tSNE-2": -7.160309314727783
         },
         {
          "KM-label": 0,
          "digit": 4,
          "tSNE-1": -25.52389907836914,
          "tSNE-2": 40.493534088134766
         },
         {
          "KM-label": 5,
          "digit": 5,
          "tSNE-1": -12.045809745788574,
          "tSNE-2": -35.66140365600586
         },
         {
          "KM-label": 6,
          "digit": 6,
          "tSNE-1": 37.877384185791016,
          "tSNE-2": -23.822519302368164
         },
         {
          "KM-label": 4,
          "digit": 7,
          "tSNE-1": -44.339393615722656,
          "tSNE-2": -9.701351165771484
         },
         {
          "KM-label": 3,
          "digit": 8,
          "tSNE-1": -7.960803508758545,
          "tSNE-2": 4.907169818878174
         },
         {
          "KM-label": 5,
          "digit": 9,
          "tSNE-1": 6.774394512176514,
          "tSNE-2": -30.40576171875
         },
         {
          "KM-label": 1,
          "digit": 0,
          "tSNE-1": 38.82733154296875,
          "tSNE-2": 2.8665771484375
         },
         {
          "KM-label": 3,
          "digit": 1,
          "tSNE-1": -13.775829315185547,
          "tSNE-2": 19.11812973022461
         },
         {
          "KM-label": 7,
          "digit": 2,
          "tSNE-1": 17.42970848083496,
          "tSNE-2": 23.260440826416016
         },
         {
          "KM-label": 2,
          "digit": 3,
          "tSNE-1": 17.472801208496094,
          "tSNE-2": -3.4530844688415527
         },
         {
          "KM-label": 0,
          "digit": 4,
          "tSNE-1": -25.30217742919922,
          "tSNE-2": 40.83381652832031
         },
         {
          "KM-label": 8,
          "digit": 5,
          "tSNE-1": -13.752991676330566,
          "tSNE-2": -33.12281036376953
         },
         {
          "KM-label": 6,
          "digit": 6,
          "tSNE-1": 37.324981689453125,
          "tSNE-2": -24.242368698120117
         },
         {
          "KM-label": 4,
          "digit": 7,
          "tSNE-1": -37.87721252441406,
          "tSNE-2": -0.9567348957061768
         },
         {
          "KM-label": 3,
          "digit": 8,
          "tSNE-1": -9.390073776245117,
          "tSNE-2": 5.684366226196289
         },
         {
          "KM-label": 5,
          "digit": 9,
          "tSNE-1": 0.1813940703868866,
          "tSNE-2": -27.519926071166992
         },
         {
          "KM-label": 1,
          "digit": 0,
          "tSNE-1": 39.71385955810547,
          "tSNE-2": 3.518552541732788
         },
         {
          "KM-label": 9,
          "digit": 1,
          "tSNE-1": -23.33176040649414,
          "tSNE-2": 16.760486602783203
         },
         {
          "KM-label": 2,
          "digit": 2,
          "tSNE-1": 15.365966796875,
          "tSNE-2": 22.192707061767578
         },
         {
          "KM-label": 2,
          "digit": 3,
          "tSNE-1": 10.762988090515137,
          "tSNE-2": -12.414607048034668
         },
         {
          "KM-label": 0,
          "digit": 4,
          "tSNE-1": -25.264860153198242,
          "tSNE-2": 40.91593933105469
         },
         {
          "KM-label": 8,
          "digit": 5,
          "tSNE-1": -18.3737850189209,
          "tSNE-2": -35.17575454711914
         },
         {
          "KM-label": 6,
          "digit": 6,
          "tSNE-1": 38.54639434814453,
          "tSNE-2": -25.69097137451172
         },
         {
          "KM-label": 4,
          "digit": 7,
          "tSNE-1": -39.57847213745117,
          "tSNE-2": -4.598677158355713
         },
         {
          "KM-label": 3,
          "digit": 8,
          "tSNE-1": -10.056962966918945,
          "tSNE-2": 4.321835517883301
         },
         {
          "KM-label": 5,
          "digit": 9,
          "tSNE-1": -0.63091641664505,
          "tSNE-2": -27.609729766845703
         },
         {
          "KM-label": 1,
          "digit": 0,
          "tSNE-1": 45.65091323852539,
          "tSNE-2": 0.6399983763694763
         },
         {
          "KM-label": 5,
          "digit": 9,
          "tSNE-1": 1.1613181829452515,
          "tSNE-2": -27.672271728515625
         },
         {
          "KM-label": 8,
          "digit": 5,
          "tSNE-1": -18.049297332763672,
          "tSNE-2": -33.92731857299805
         },
         {
          "KM-label": 8,
          "digit": 5,
          "tSNE-1": -18.720243453979492,
          "tSNE-2": -33.71154022216797
         },
         {
          "KM-label": 6,
          "digit": 6,
          "tSNE-1": 38.07363510131836,
          "tSNE-2": -25.402809143066406
         },
         {
          "KM-label": 8,
          "digit": 5,
          "tSNE-1": -16.781944274902344,
          "tSNE-2": -29.43939208984375
         },
         {
          "KM-label": 1,
          "digit": 0,
          "tSNE-1": 33.80180358886719,
          "tSNE-2": 2.1464552879333496
         },
         {
          "KM-label": 5,
          "digit": 9,
          "tSNE-1": 1.9423850774765015,
          "tSNE-2": -23.732261657714844
         },
         {
          "KM-label": 3,
          "digit": 8,
          "tSNE-1": -8.488290786743164,
          "tSNE-2": 3.3408806324005127
         },
         {
          "KM-label": 5,
          "digit": 9,
          "tSNE-1": -2.0802195072174072,
          "tSNE-2": -27.641510009765625
         },
         {
          "KM-label": 3,
          "digit": 8,
          "tSNE-1": -7.1677141189575195,
          "tSNE-2": 5.242195129394531
         },
         {
          "KM-label": 0,
          "digit": 4,
          "tSNE-1": -25.63437843322754,
          "tSNE-2": 40.09058380126953
         },
         {
          "KM-label": 3,
          "digit": 1,
          "tSNE-1": -5.882672309875488,
          "tSNE-2": 20.82715606689453
         },
         {
          "KM-label": 4,
          "digit": 7,
          "tSNE-1": -37.32139587402344,
          "tSNE-2": -0.7259765863418579
         },
         {
          "KM-label": 4,
          "digit": 7,
          "tSNE-1": -39.83613586425781,
          "tSNE-2": -5.457436561584473
         },
         {
          "KM-label": 2,
          "digit": 3,
          "tSNE-1": 14.899251937866211,
          "tSNE-2": -8.39532470703125
         },
         {
          "KM-label": 8,
          "digit": 5,
          "tSNE-1": -17.977432250976562,
          "tSNE-2": -34.147098541259766
         },
         {
          "KM-label": 3,
          "digit": 1,
          "tSNE-1": -6.865291118621826,
          "tSNE-2": 20.469379425048828
         },
         {
          "KM-label": 1,
          "digit": 0,
          "tSNE-1": 38.0040283203125,
          "tSNE-2": 3.8775131702423096
         },
         {
          "KM-label": 1,
          "digit": 0,
          "tSNE-1": 37.720699310302734,
          "tSNE-2": 3.674818992614746
         },
         {
          "KM-label": 2,
          "digit": 2,
          "tSNE-1": 15.650519371032715,
          "tSNE-2": 21.21197509765625
         },
         {
          "KM-label": 2,
          "digit": 2,
          "tSNE-1": 16.31564712524414,
          "tSNE-2": 20.87544822692871
         },
         {
          "KM-label": 4,
          "digit": 7,
          "tSNE-1": -39.65959548950195,
          "tSNE-2": -4.502258777618408
         },
         {
          "KM-label": 3,
          "digit": 8,
          "tSNE-1": -8.784730911254883,
          "tSNE-2": 4.930752754211426
         },
         {
          "KM-label": 2,
          "digit": 2,
          "tSNE-1": 17.51397705078125,
          "tSNE-2": 20.882057189941406
         },
         {
          "KM-label": 1,
          "digit": 0,
          "tSNE-1": 36.0294303894043,
          "tSNE-2": 8.613545417785645
         },
         {
          "KM-label": 9,
          "digit": 1,
          "tSNE-1": -19.767024993896484,
          "tSNE-2": 15.055824279785156
         },
         {
          "KM-label": 2,
          "digit": 2,
          "tSNE-1": 15.963047981262207,
          "tSNE-2": 21.484254837036133
         },
         {
          "KM-label": 6,
          "digit": 6,
          "tSNE-1": 37.3272590637207,
          "tSNE-2": -20.478364944458008
         },
         {
          "KM-label": 2,
          "digit": 3,
          "tSNE-1": 13.177279472351074,
          "tSNE-2": -1.4014497995376587
         },
         {
          "KM-label": 2,
          "digit": 3,
          "tSNE-1": 16.998897552490234,
          "tSNE-2": -4.876898288726807
         },
         {
          "KM-label": 4,
          "digit": 7,
          "tSNE-1": -42.83116149902344,
          "tSNE-2": -10.470415115356445
         },
         {
          "KM-label": 2,
          "digit": 3,
          "tSNE-1": 17.671737670898438,
          "tSNE-2": -7.013942241668701
         },
         {
          "KM-label": 2,
          "digit": 3,
          "tSNE-1": 17.137699127197266,
          "tSNE-2": -7.292870998382568
         },
         {
          "KM-label": 0,
          "digit": 4,
          "tSNE-1": -25.20704460144043,
          "tSNE-2": 40.075958251953125
         },
         {
          "KM-label": 6,
          "digit": 6,
          "tSNE-1": 37.7315673828125,
          "tSNE-2": -20.07891082763672
         },
         {
          "KM-label": 6,
          "digit": 6,
          "tSNE-1": 38.319305419921875,
          "tSNE-2": -20.26823616027832
         },
         {
          "KM-label": 6,
          "digit": 6,
          "tSNE-1": 36.945533752441406,
          "tSNE-2": -20.990007400512695
         },
         {
          "KM-label": 0,
          "digit": 4,
          "tSNE-1": -27.746068954467773,
          "tSNE-2": 38.764678955078125
         },
         {
          "KM-label": 5,
          "digit": 9,
          "tSNE-1": 8.344307899475098,
          "tSNE-2": -24.786806106567383
         },
         {
          "KM-label": 3,
          "digit": 1,
          "tSNE-1": -7.463209629058838,
          "tSNE-2": 18.924659729003906
         },
         {
          "KM-label": 5,
          "digit": 5,
          "tSNE-1": -17.33193016052246,
          "tSNE-2": -36.05650329589844
         },
         {
          "KM-label": 1,
          "digit": 0,
          "tSNE-1": 41.72935485839844,
          "tSNE-2": 9.761655807495117
         },
         {
          "KM-label": 5,
          "digit": 9,
          "tSNE-1": 0.4422873258590698,
          "tSNE-2": -27.14589500427246
         },
         {
          "KM-label": 6,
          "digit": 5,
          "tSNE-1": 26.365745544433594,
          "tSNE-2": -26.108186721801758
         },
         {
          "KM-label": 7,
          "digit": 2,
          "tSNE-1": 16.670644760131836,
          "tSNE-2": 27.906421661376953
         },
         {
          "KM-label": 3,
          "digit": 8,
          "tSNE-1": -5.946178913116455,
          "tSNE-2": 3.4941399097442627
         },
         {
          "KM-label": 2,
          "digit": 2,
          "tSNE-1": 17.522268295288086,
          "tSNE-2": 20.341129302978516
         },
         {
          "KM-label": 1,
          "digit": 0,
          "tSNE-1": 42.29158401489258,
          "tSNE-2": 8.00656795501709
         },
         {
          "KM-label": 1,
          "digit": 0,
          "tSNE-1": 38.9676399230957,
          "tSNE-2": 4.138105392456055
         },
         {
          "KM-label": 9,
          "digit": 1,
          "tSNE-1": -17.383176803588867,
          "tSNE-2": 17.470306396484375
         },
         {
          "KM-label": 4,
          "digit": 7,
          "tSNE-1": -41.79810333251953,
          "tSNE-2": -8.947789192199707
         },
         {
          "KM-label": 6,
          "digit": 6,
          "tSNE-1": 36.731266021728516,
          "tSNE-2": -23.29328155517578
         },
         {
          "KM-label": 2,
          "digit": 3,
          "tSNE-1": 14.453548431396484,
          "tSNE-2": -8.282699584960938
         },
         {
          "KM-label": 7,
          "digit": 2,
          "tSNE-1": 15.152003288269043,
          "tSNE-2": 25.472627639770508
         },
         {
          "KM-label": 3,
          "digit": 1,
          "tSNE-1": -8.744062423706055,
          "tSNE-2": 20.78102684020996
         },
         {
          "KM-label": 4,
          "digit": 7,
          "tSNE-1": -46.63044357299805,
          "tSNE-2": -7.5431928634643555
         },
         {
          "KM-label": 0,
          "digit": 4,
          "tSNE-1": -27.91421890258789,
          "tSNE-2": 38.79539489746094
         },
         {
          "KM-label": 6,
          "digit": 6,
          "tSNE-1": 38.4541015625,
          "tSNE-2": -25.61573600769043
         },
         {
          "KM-label": 2,
          "digit": 3,
          "tSNE-1": 11.649606704711914,
          "tSNE-2": -0.410992830991745
         },
         {
          "KM-label": 3,
          "digit": 1,
          "tSNE-1": -7.535327434539795,
          "tSNE-2": 20.85112953186035
         },
         {
          "KM-label": 2,
          "digit": 3,
          "tSNE-1": 12.96419906616211,
          "tSNE-2": -8.269930839538574
         },
         {
          "KM-label": 5,
          "digit": 9,
          "tSNE-1": 5.978849411010742,
          "tSNE-2": -26.811857223510742
         },
         {
          "KM-label": 3,
          "digit": 1,
          "tSNE-1": -6.26185941696167,
          "tSNE-2": 20.084888458251953
         },
         {
          "KM-label": 4,
          "digit": 7,
          "tSNE-1": -38.95931625366211,
          "tSNE-2": -0.6940470933914185
         },
         {
          "KM-label": 6,
          "digit": 6,
          "tSNE-1": 37.00135040283203,
          "tSNE-2": -24.43227195739746
         },
         {
          "KM-label": 3,
          "digit": 8,
          "tSNE-1": -10.551119804382324,
          "tSNE-2": 2.3709492683410645
         },
         {
          "KM-label": 0,
          "digit": 4,
          "tSNE-1": -25.099517822265625,
          "tSNE-2": 40.23858642578125
         },
         {
          "KM-label": 2,
          "digit": 3,
          "tSNE-1": 16.858356475830078,
          "tSNE-2": -5.957158088684082
         },
         {
          "KM-label": 3,
          "digit": 1,
          "tSNE-1": -4.767324447631836,
          "tSNE-2": 19.30190086364746
         },
         {
          "KM-label": 0,
          "digit": 4,
          "tSNE-1": -28.591400146484375,
          "tSNE-2": 34.26940155029297
         },
         {
          "KM-label": 1,
          "digit": 0,
          "tSNE-1": 38.85771942138672,
          "tSNE-2": 3.1443610191345215
         },
         {
          "KM-label": 8,
          "digit": 5,
          "tSNE-1": -20.796142578125,
          "tSNE-2": -32.62007141113281
         },
         {
          "KM-label": 2,
          "digit": 3,
          "tSNE-1": 15.411459922790527,
          "tSNE-2": -8.092817306518555
         },
         {
          "KM-label": 6,
          "digit": 6,
          "tSNE-1": 39.333030700683594,
          "tSNE-2": -22.414878845214844
         },
         {
          "KM-label": 5,
          "digit": 9,
          "tSNE-1": -0.027224894613027573,
          "tSNE-2": -29.065235137939453
         },
         {
          "KM-label": 6,
          "digit": 6,
          "tSNE-1": 39.2042121887207,
          "tSNE-2": -20.363075256347656
         },
         {
          "KM-label": 3,
          "digit": 1,
          "tSNE-1": -4.492212772369385,
          "tSNE-2": 20.042951583862305
         },
         {
          "KM-label": 4,
          "digit": 7,
          "tSNE-1": -44.653900146484375,
          "tSNE-2": -6.4095458984375
         },
         {
          "KM-label": 8,
          "digit": 5,
          "tSNE-1": -19.163663864135742,
          "tSNE-2": -29.92021369934082
         },
         {
          "KM-label": 0,
          "digit": 4,
          "tSNE-1": -25.75507354736328,
          "tSNE-2": 36.577022552490234
         },
         {
          "KM-label": 0,
          "digit": 4,
          "tSNE-1": -25.935428619384766,
          "tSNE-2": 36.37155532836914
         },
         {
          "KM-label": 4,
          "digit": 7,
          "tSNE-1": -39.26033401489258,
          "tSNE-2": 1.1122437715530396
         },
         {
          "KM-label": 5,
          "digit": 2,
          "tSNE-1": 16.261493682861328,
          "tSNE-2": 22.113216400146484
         },
         {
          "KM-label": 3,
          "digit": 8,
          "tSNE-1": -8.526467323303223,
          "tSNE-2": 2.7726385593414307
         },
         {
          "KM-label": 7,
          "digit": 2,
          "tSNE-1": 15.94493579864502,
          "tSNE-2": 24.514739990234375
         },
         {
          "KM-label": 7,
          "digit": 2,
          "tSNE-1": 15.591231346130371,
          "tSNE-2": 23.380556106567383
         },
         {
          "KM-label": 5,
          "digit": 5,
          "tSNE-1": -17.190685272216797,
          "tSNE-2": -36.945884704589844
         },
         {
          "KM-label": 4,
          "digit": 7,
          "tSNE-1": -40.282806396484375,
          "tSNE-2": -6.024563789367676
         },
         {
          "KM-label": 5,
          "digit": 9,
          "tSNE-1": -0.34454628825187683,
          "tSNE-2": -28.91440773010254
         },
         {
          "KM-label": 8,
          "digit": 5,
          "tSNE-1": -15.668421745300293,
          "tSNE-2": -29.079683303833008
         },
         {
          "KM-label": 0,
          "digit": 4,
          "tSNE-1": -26.08090591430664,
          "tSNE-2": 35.982181549072266
         },
         {
          "KM-label": 3,
          "digit": 8,
          "tSNE-1": -7.787303924560547,
          "tSNE-2": 5.875622272491455
         },
         {
          "KM-label": 3,
          "digit": 8,
          "tSNE-1": -9.75311279296875,
          "tSNE-2": 5.747585296630859
         },
         {
          "KM-label": 0,
          "digit": 4,
          "tSNE-1": -27.815826416015625,
          "tSNE-2": 38.783451080322266
         },
         {
          "KM-label": 5,
          "digit": 9,
          "tSNE-1": -0.18957284092903137,
          "tSNE-2": -30.37735939025879
         },
         {
          "KM-label": 1,
          "digit": 0,
          "tSNE-1": 33.79233169555664,
          "tSNE-2": 1.995129942893982
         },
         {
          "KM-label": 3,
          "digit": 8,
          "tSNE-1": -11.250444412231445,
          "tSNE-2": 3.0752029418945312
         },
         {
          "KM-label": 1,
          "digit": 0,
          "tSNE-1": 45.29668045043945,
          "tSNE-2": 6.055711269378662
         },
         {
          "KM-label": 9,
          "digit": 1,
          "tSNE-1": -20.7242431640625,
          "tSNE-2": 13.00111198425293
         },
         {
          "KM-label": 7,
          "digit": 2,
          "tSNE-1": 15.968199729919434,
          "tSNE-2": 33.71263122558594
         },
         {
          "KM-label": 2,
          "digit": 3,
          "tSNE-1": 9.269561767578125,
          "tSNE-2": -10.026857376098633
         },
         {
          "KM-label": 0,
          "digit": 4,
          "tSNE-1": -36.45170593261719,
          "tSNE-2": 34.8798828125
         },
         {
          "KM-label": 8,
          "digit": 5,
          "tSNE-1": -12.250969886779785,
          "tSNE-2": -32.77187728881836
         },
         {
          "KM-label": 6,
          "digit": 6,
          "tSNE-1": 30.390281677246094,
          "tSNE-2": -29.38150978088379
         },
         {
          "KM-label": 4,
          "digit": 7,
          "tSNE-1": -35.18839645385742,
          "tSNE-2": 0.25622040033340454
         },
         {
          "KM-label": 5,
          "digit": 8,
          "tSNE-1": -6.445888042449951,
          "tSNE-2": -8.535476684570312
         },
         {
          "KM-label": 5,
          "digit": 9,
          "tSNE-1": 4.4911980628967285,
          "tSNE-2": -28.984634399414062
         },
         {
          "KM-label": 1,
          "digit": 0,
          "tSNE-1": 43.363922119140625,
          "tSNE-2": 2.61554217338562
         },
         {
          "KM-label": 9,
          "digit": 1,
          "tSNE-1": -21.64588165283203,
          "tSNE-2": 13.268136978149414
         },
         {
          "KM-label": 7,
          "digit": 2,
          "tSNE-1": 16.972965240478516,
          "tSNE-2": 34.81599426269531
         },
         {
          "KM-label": 2,
          "digit": 3,
          "tSNE-1": 9.72590160369873,
          "tSNE-2": -11.6659574508667
         },
         {
          "KM-label": 0,
          "digit": 4,
          "tSNE-1": -33.64020538330078,
          "tSNE-2": 37.862667083740234
         },
         {
          "KM-label": 5,
          "digit": 5,
          "tSNE-1": -11.555802345275879,
          "tSNE-2": -35.5767936706543
         },
         {
          "KM-label": 6,
          "digit": 6,
          "tSNE-1": 30.55048179626465,
          "tSNE-2": -29.526933670043945
         },
         {
          "KM-label": 4,
          "digit": 7,
          "tSNE-1": -35.16631317138672,
          "tSNE-2": 1.1515350341796875
         },
         {
          "KM-label": 5,
          "digit": 8,
          "tSNE-1": -6.02862024307251,
          "tSNE-2": -8.701861381530762
         },
         {
          "KM-label": 5,
          "digit": 9,
          "tSNE-1": 4.1909356117248535,
          "tSNE-2": -26.317602157592773
         },
         {
          "KM-label": 1,
          "digit": 0,
          "tSNE-1": 46.54634475708008,
          "tSNE-2": 8.495041847229004
         },
         {
          "KM-label": 9,
          "digit": 1,
          "tSNE-1": -20.631996154785156,
          "tSNE-2": 14.943622589111328
         },
         {
          "KM-label": 7,
          "digit": 2,
          "tSNE-1": 16.341432571411133,
          "tSNE-2": 33.22771453857422
         },
         {
          "KM-label": 2,
          "digit": 3,
          "tSNE-1": 9.400492668151855,
          "tSNE-2": -8.902673721313477
         },
         {
          "KM-label": 0,
          "digit": 4,
          "tSNE-1": -34.2910270690918,
          "tSNE-2": 36.483543395996094
         },
         {
          "KM-label": 5,
          "digit": 5,
          "tSNE-1": -8.614005088806152,
          "tSNE-2": -37.48273468017578
         },
         {
          "KM-label": 6,
          "digit": 6,
          "tSNE-1": 31.146808624267578,
          "tSNE-2": -30.987051010131836
         },
         {
          "KM-label": 4,
          "digit": 7,
          "tSNE-1": -34.966312408447266,
          "tSNE-2": 0.18662482500076294
         },
         {
          "KM-label": 5,
          "digit": 8,
          "tSNE-1": -5.517405986785889,
          "tSNE-2": -8.930020332336426
         },
         {
          "KM-label": 5,
          "digit": 9,
          "tSNE-1": 4.614528656005859,
          "tSNE-2": -28.887248992919922
         },
         {
          "KM-label": 1,
          "digit": 0,
          "tSNE-1": 44.30289077758789,
          "tSNE-2": 3.2978358268737793
         },
         {
          "KM-label": 5,
          "digit": 9,
          "tSNE-1": 2.2517707347869873,
          "tSNE-2": -26.60448455810547
         },
         {
          "KM-label": 5,
          "digit": 5,
          "tSNE-1": -11.519984245300293,
          "tSNE-2": -35.61275863647461
         },
         {
          "KM-label": 5,
          "digit": 5,
          "tSNE-1": -11.514508247375488,
          "tSNE-2": -35.68844985961914
         },
         {
          "KM-label": 6,
          "digit": 6,
          "tSNE-1": 28.006195068359375,
          "tSNE-2": -26.94634437561035
         },
         {
          "KM-label": 5,
          "digit": 5,
          "tSNE-1": -11.911444664001465,
          "tSNE-2": -35.38966369628906
         },
         {
          "KM-label": 1,
          "digit": 0,
          "tSNE-1": 43.843238830566406,
          "tSNE-2": 3.4447667598724365
         },
         {
          "KM-label": 5,
          "digit": 9,
          "tSNE-1": 3.664085865020752,
          "tSNE-2": -26.537750244140625
         },
         {
          "KM-label": 5,
          "digit": 8,
          "tSNE-1": -7.029386520385742,
          "tSNE-2": -6.876251697540283
         },
         {
          "KM-label": 5,
          "digit": 9,
          "tSNE-1": 3.0006492137908936,
          "tSNE-2": -27.325334548950195
         },
         {
          "KM-label": 5,
          "digit": 8,
          "tSNE-1": -7.495700359344482,
          "tSNE-2": -7.177204608917236
         },
         {
          "KM-label": 0,
          "digit": 4,
          "tSNE-1": -30.90266227722168,
          "tSNE-2": 36.4217529296875
         },
         {
          "KM-label": 9,
          "digit": 1,
          "tSNE-1": -22.653289794921875,
          "tSNE-2": 14.68886661529541
         },
         {
          "KM-label": 4,
          "digit": 7,
          "tSNE-1": -36.209659576416016,
          "tSNE-2": -0.9839446544647217
         },
         {
          "KM-label": 4,
          "digit": 7,
          "tSNE-1": -35.49744415283203,
          "tSNE-2": -1.3292313814163208
         },
         {
          "KM-label": 2,
          "digit": 3,
          "tSNE-1": 11.948183059692383,
          "tSNE-2": -7.234687328338623
         },
         {
          "KM-label": 5,
          "digit": 5,
          "tSNE-1": -9.785623550415039,
          "tSNE-2": -33.866878509521484
         },
         {
          "KM-label": 9,
          "digit": 1,
          "tSNE-1": -22.892654418945312,
          "tSNE-2": 14.310128211975098
         },
         {
          "KM-label": 1,
          "digit": 0,
          "tSNE-1": 43.78715133666992,
          "tSNE-2": 4.529842376708984
         },
         {
          "KM-label": 1,
          "digit": 0,
          "tSNE-1": 43.97690200805664,
          "tSNE-2": 4.374625205993652
         },
         {
          "KM-label": 7,
          "digit": 2,
          "tSNE-1": 17.931509017944336,
          "tSNE-2": 31.01845932006836
         },
         {
          "KM-label": 7,
          "digit": 2,
          "tSNE-1": 16.223228454589844,
          "tSNE-2": 32.563114166259766
         },
         {
          "KM-label": 4,
          "digit": 7,
          "tSNE-1": -35.35894775390625,
          "tSNE-2": 2.05304217338562
         },
         {
          "KM-label": 9,
          "digit": 8,
          "tSNE-1": -21.066164016723633,
          "tSNE-2": 9.897462844848633
         },
         {
          "KM-label": 7,
          "digit": 2,
          "tSNE-1": 17.62116050720215,
          "tSNE-2": 32.548282623291016
         },
         {
          "KM-label": 1,
          "digit": 0,
          "tSNE-1": 45.796756744384766,
          "tSNE-2": 0.783700704574585
         },
         {
          "KM-label": 9,
          "digit": 1,
          "tSNE-1": -22.081693649291992,
          "tSNE-2": 13.086187362670898
         },
         {
          "KM-label": 7,
          "digit": 2,
          "tSNE-1": 17.846662521362305,
          "tSNE-2": 33.01658248901367
         },
         {
          "KM-label": 6,
          "digit": 6,
          "tSNE-1": 31.20089340209961,
          "tSNE-2": -29.96115493774414
         },
         {
          "KM-label": 2,
          "digit": 3,
          "tSNE-1": 9.533570289611816,
          "tSNE-2": -11.191807746887207
         },
         {
          "KM-label": 2,
          "digit": 3,
          "tSNE-1": 12.495953559875488,
          "tSNE-2": -9.60107135772705
         },
         {
          "KM-label": 4,
          "digit": 7,
          "tSNE-1": -36.09843444824219,
          "tSNE-2": 0.5539568066596985
         },
         {
          "KM-label": 2,
          "digit": 3,
          "tSNE-1": 10.253556251525879,
          "tSNE-2": -11.611473083496094
         },
         {
          "KM-label": 2,
          "digit": 3,
          "tSNE-1": 13.908190727233887,
          "tSNE-2": -9.19947338104248
         },
         {
          "KM-label": 0,
          "digit": 4,
          "tSNE-1": -34.11226272583008,
          "tSNE-2": 37.727901458740234
         },
         {
          "KM-label": 6,
          "digit": 6,
          "tSNE-1": 30.382335662841797,
          "tSNE-2": -31.130151748657227
         },
         {
          "KM-label": 6,
          "digit": 6,
          "tSNE-1": 28.422988891601562,
          "tSNE-2": -33.346099853515625
         },
         {
          "KM-label": 6,
          "digit": 6,
          "tSNE-1": 32.59840393066406,
          "tSNE-2": -28.80032730102539
         },
         {
          "KM-label": 0,
          "digit": 4,
          "tSNE-1": -33.084320068359375,
          "tSNE-2": 36.651451110839844
         },
         {
          "KM-label": 5,
          "digit": 9,
          "tSNE-1": 5.360201835632324,
          "tSNE-2": -28.658300399780273
         },
         {
          "KM-label": 9,
          "digit": 1,
          "tSNE-1": -22.124187469482422,
          "tSNE-2": 13.102142333984375
         },
         {
          "KM-label": 5,
          "digit": 5,
          "tSNE-1": -12.206659317016602,
          "tSNE-2": -36.38389205932617
         },
         {
          "KM-label": 1,
          "digit": 0,
          "tSNE-1": 44.423404693603516,
          "tSNE-2": 0.16840988397598267
         },
         {
          "KM-label": 5,
          "digit": 9,
          "tSNE-1": 3.992398262023926,
          "tSNE-2": -28.221996307373047
         },
         {
          "KM-label": 8,
          "digit": 5,
          "tSNE-1": -17.49411392211914,
          "tSNE-2": -34.663917541503906
         },
         {
          "KM-label": 7,
          "digit": 2,
          "tSNE-1": 16.834918975830078,
          "tSNE-2": 32.9862060546875
         },
         {
          "KM-label": 5,
          "digit": 8,
          "tSNE-1": -7.984739303588867,
          "tSNE-2": -9.231045722961426
         },
         {
          "KM-label": 7,
          "digit": 2,
          "tSNE-1": 17.520179748535156,
          "tSNE-2": 32.5117301940918
         },
         {
          "KM-label": 1,
          "digit": 0,
          "tSNE-1": 45.45900344848633,
          "tSNE-2": 0.5341333746910095
         },
         {
          "KM-label": 1,
          "digit": 0,
          "tSNE-1": 43.799861907958984,
          "tSNE-2": 4.990780353546143
         },
         {
          "KM-label": 9,
          "digit": 1,
          "tSNE-1": -22.65412712097168,
          "tSNE-2": 13.126347541809082
         },
         {
          "KM-label": 4,
          "digit": 7,
          "tSNE-1": -36.825286865234375,
          "tSNE-2": -0.5354666113853455
         },
         {
          "KM-label": 6,
          "digit": 6,
          "tSNE-1": 30.134607315063477,
          "tSNE-2": -29.420976638793945
         },
         {
          "KM-label": 2,
          "digit": 3,
          "tSNE-1": 11.242250442504883,
          "tSNE-2": -9.63644027709961
         },
         {
          "KM-label": 7,
          "digit": 2,
          "tSNE-1": 14.874395370483398,
          "tSNE-2": 37.14780807495117
         },
         {
          "KM-label": 9,
          "digit": 1,
          "tSNE-1": -20.89159393310547,
          "tSNE-2": 12.71476936340332
         },
         {
          "KM-label": 4,
          "digit": 7,
          "tSNE-1": -36.783565521240234,
          "tSNE-2": -1.5506457090377808
         },
         {
          "KM-label": 0,
          "digit": 4,
          "tSNE-1": -32.71260452270508,
          "tSNE-2": 37.50138473510742
         },
         {
          "KM-label": 6,
          "digit": 6,
          "tSNE-1": 31.04171371459961,
          "tSNE-2": -28.795547485351562
         },
         {
          "KM-label": 2,
          "digit": 3,
          "tSNE-1": 12.7100248336792,
          "tSNE-2": -5.945719242095947
         },
         {
          "KM-label": 9,
          "digit": 1,
          "tSNE-1": -20.687036514282227,
          "tSNE-2": 14.982604026794434
         },
         {
          "KM-label": 2,
          "digit": 3,
          "tSNE-1": 12.159695625305176,
          "tSNE-2": -7.314937114715576
         },
         {
          "KM-label": 5,
          "digit": 9,
          "tSNE-1": 3.535578966140747,
          "tSNE-2": -26.559179306030273
         },
         {
          "KM-label": 9,
          "digit": 1,
          "tSNE-1": -22.34218978881836,
          "tSNE-2": 13.832159996032715
         },
         {
          "KM-label": 4,
          "digit": 7,
          "tSNE-1": -36.14552307128906,
          "tSNE-2": -0.7410470843315125
         },
         {
          "KM-label": 6,
          "digit": 6,
          "tSNE-1": 31.464183807373047,
          "tSNE-2": -28.115262985229492
         },
         {
          "KM-label": 5,
          "digit": 8,
          "tSNE-1": -8.357200622558594,
          "tSNE-2": -9.097421646118164
         },
         {
          "KM-label": 0,
          "digit": 4,
          "tSNE-1": -34.52548599243164,
          "tSNE-2": 36.36875534057617
         },
         {
          "KM-label": 2,
          "digit": 3,
          "tSNE-1": 13.121681213378906,
          "tSNE-2": -9.097469329833984
         },
         {
          "KM-label": 9,
          "digit": 1,
          "tSNE-1": -22.92736053466797,
          "tSNE-2": 13.946985244750977
         },
         {
          "KM-label": 0,
          "digit": 4,
          "tSNE-1": -34.05246353149414,
          "tSNE-2": 36.468353271484375
         },
         {
          "KM-label": 1,
          "digit": 0,
          "tSNE-1": 44.494754791259766,
          "tSNE-2": 3.422436237335205
         },
         {
          "KM-label": 5,
          "digit": 5,
          "tSNE-1": -9.717766761779785,
          "tSNE-2": -33.77675247192383
         },
         {
          "KM-label": 2,
          "digit": 3,
          "tSNE-1": 10.896706581115723,
          "tSNE-2": -8.759786605834961
         },
         {
          "KM-label": 6,
          "digit": 6,
          "tSNE-1": 31.372600555419922,
          "tSNE-2": -28.316377639770508
         },
         {
          "KM-label": 5,
          "digit": 9,
          "tSNE-1": 4.979446887969971,
          "tSNE-2": -28.81450843811035
         },
         {
          "KM-label": 6,
          "digit": 6,
          "tSNE-1": 34.3011589050293,
          "tSNE-2": -26.611133575439453
         },
         {
          "KM-label": 9,
          "digit": 1,
          "tSNE-1": -21.86967658996582,
          "tSNE-2": 12.749953269958496
         },
         {
          "KM-label": 4,
          "digit": 7,
          "tSNE-1": -34.16864776611328,
          "tSNE-2": -0.07670652866363525
         },
         {
          "KM-label": 5,
          "digit": 5,
          "tSNE-1": -7.528304100036621,
          "tSNE-2": -34.1905517578125
         },
         {
          "KM-label": 0,
          "digit": 4,
          "tSNE-1": -33.09560012817383,
          "tSNE-2": 37.23176956176758
         },
         {
          "KM-label": 0,
          "digit": 4,
          "tSNE-1": -35.898406982421875,
          "tSNE-2": 33.52667999267578
         },
         {
          "KM-label": 4,
          "digit": 7,
          "tSNE-1": -35.62041091918945,
          "tSNE-2": 1.0383819341659546
         },
         {
          "KM-label": 7,
          "digit": 2,
          "tSNE-1": 17.116439819335938,
          "tSNE-2": 31.103567123413086
         },
         {
          "KM-label": 5,
          "digit": 8,
          "tSNE-1": -9.39249038696289,
          "tSNE-2": -9.206427574157715
         },
         {
          "KM-label": 7,
          "digit": 2,
          "tSNE-1": 9.686589241027832,
          "tSNE-2": 27.194395065307617
         },
         {
          "KM-label": 7,
          "digit": 2,
          "tSNE-1": 17.847658157348633,
          "tSNE-2": 32.97135543823242
         },
         {
          "KM-label": 5,
          "digit": 5,
          "tSNE-1": -13.062376976013184,
          "tSNE-2": -35.34552764892578
         },
         {
          "KM-label": 4,
          "digit": 7,
          "tSNE-1": -34.72710418701172,
          "tSNE-2": 0.11860673874616623
         },
         {
          "KM-label": 5,
          "digit": 9,
          "tSNE-1": 1.5015246868133545,
          "tSNE-2": -26.891420364379883
         },
         {
          "KM-label": 8,
          "digit": 5,
          "tSNE-1": -13.700716972351074,
          "tSNE-2": -32.555816650390625
         },
         {
          "KM-label": 0,
          "digit": 4,
          "tSNE-1": -33.7728157043457,
          "tSNE-2": 37.432491302490234
         },
         {
          "KM-label": 5,
          "digit": 8,
          "tSNE-1": -9.489179611206055,
          "tSNE-2": -8.73969841003418
         },
         {
          "KM-label": 8,
          "digit": 8,
          "tSNE-1": -9.353489875793457,
          "tSNE-2": -8.093029975891113
         },
         {
          "KM-label": 0,
          "digit": 4,
          "tSNE-1": -31.584823608398438,
          "tSNE-2": 37.032283782958984
         },
         {
          "KM-label": 2,
          "digit": 9,
          "tSNE-1": 4.608485221862793,
          "tSNE-2": -25.863183975219727
         },
         {
          "KM-label": 1,
          "digit": 0,
          "tSNE-1": 43.304874420166016,
          "tSNE-2": 6.404108047485352
         },
         {
          "KM-label": 8,
          "digit": 8,
          "tSNE-1": -9.766860008239746,
          "tSNE-2": -8.999909400939941
         },
         {
          "KM-label": 5,
          "digit": 9,
          "tSNE-1": 4.072372913360596,
          "tSNE-2": -26.17404556274414
         },
         {
          "KM-label": 5,
          "digit": 8,
          "tSNE-1": -9.139609336853027,
          "tSNE-2": -8.02916145324707
         },
         {
          "KM-label": 1,
          "digit": 0,
          "tSNE-1": 36.93816375732422,
          "tSNE-2": 3.3835062980651855
         },
         {
          "KM-label": 3,
          "digit": 1,
          "tSNE-1": -5.447856426239014,
          "tSNE-2": 21.50504493713379
         },
         {
          "KM-label": 7,
          "digit": 2,
          "tSNE-1": 12.845438003540039,
          "tSNE-2": 28.473596572875977
         },
         {
          "KM-label": 2,
          "digit": 3,
          "tSNE-1": 13.785040855407715,
          "tSNE-2": -0.7221956849098206
         },
         {
          "KM-label": 0,
          "digit": 4,
          "tSNE-1": -31.541025161743164,
          "tSNE-2": 32.02374267578125
         },
         {
          "KM-label": 8,
          "digit": 5,
          "tSNE-1": -27.105913162231445,
          "tSNE-2": -26.271284103393555
         },
         {
          "KM-label": 9,
          "digit": 6,
          "tSNE-1": 38.562252044677734,
          "tSNE-2": -23.608116149902344
         },
         {
          "KM-label": 3,
          "digit": 7,
          "tSNE-1": -43.58991622924805,
          "tSNE-2": -12.706354141235352
         },
         {
          "KM-label": 3,
          "digit": 8,
          "tSNE-1": -13.055854797363281,
          "tSNE-2": 18.477262496948242
         },
         {
          "KM-label": 9,
          "digit": 9,
          "tSNE-1": -26.918657302856445,
          "tSNE-2": 13.670015335083008
         },
         {
          "KM-label": 1,
          "digit": 0,
          "tSNE-1": 37.12193298339844,
          "tSNE-2": 2.670236587524414
         },
         {
          "KM-label": 3,
          "digit": 1,
          "tSNE-1": -3.0313708782196045,
          "tSNE-2": 17.412147521972656
         },
         {
          "KM-label": 2,
          "digit": 2,
          "tSNE-1": 18.22715187072754,
          "tSNE-2": 21.118654251098633
         },
         {
          "KM-label": 2,
          "digit": 3,
          "tSNE-1": 17.6938533782959,
          "tSNE-2": -1.3084397315979004
         },
         {
          "KM-label": 0,
          "digit": 4,
          "tSNE-1": -31.84427261352539,
          "tSNE-2": 31.662311553955078
         },
         {
          "KM-label": 8,
          "digit": 5,
          "tSNE-1": -27.3475399017334,
          "tSNE-2": -27.174104690551758
         },
         {
          "KM-label": 6,
          "digit": 6,
          "tSNE-1": 36.053993225097656,
          "tSNE-2": -21.903728485107422
         },
         {
          "KM-label": 9,
          "digit": 9,
          "tSNE-1": -27.370800018310547,
          "tSNE-2": 10.77215576171875
         },
         {
          "KM-label": 1,
          "digit": 0,
          "tSNE-1": 36.2718391418457,
          "tSNE-2": 3.8278968334198
         },
         {
          "KM-label": 3,
          "digit": 1,
          "tSNE-1": -2.6476991176605225,
          "tSNE-2": 17.131702423095703
         },
         {
          "KM-label": 7,
          "digit": 2,
          "tSNE-1": 18.075422286987305,
          "tSNE-2": 26.162744522094727
         },
         {
          "KM-label": 2,
          "digit": 3,
          "tSNE-1": 11.812265396118164,
          "tSNE-2": -0.3154226243495941
         },
         {
          "KM-label": 0,
          "digit": 4,
          "tSNE-1": -34.46803283691406,
          "tSNE-2": 32.28462600708008
         },
         {
          "KM-label": 8,
          "digit": 5,
          "tSNE-1": -21.715471267700195,
          "tSNE-2": -28.50172233581543
         },
         {
          "KM-label": 6,
          "digit": 6,
          "tSNE-1": 31.657859802246094,
          "tSNE-2": -19.44791030883789
         },
         {
          "KM-label": 4,
          "digit": 7,
          "tSNE-1": -43.45008850097656,
          "tSNE-2": -12.02912712097168
         },
         {
          "KM-label": 8,
          "digit": 8,
          "tSNE-1": -13.455808639526367,
          "tSNE-2": 5.690572738647461
         },
         {
          "KM-label": 9,
          "digit": 9,
          "tSNE-1": -27.480764389038086,
          "tSNE-2": 10.740063667297363
         },
         {
          "KM-label": 0,
          "digit": 0,
          "tSNE-1": 33.112667083740234,
          "tSNE-2": 0.9719468951225281
         },
         {
          "KM-label": 9,
          "digit": 9,
          "tSNE-1": -27.305261611938477,
          "tSNE-2": 11.015807151794434
         },
         {
          "KM-label": 8,
          "digit": 5,
          "tSNE-1": -22.651948928833008,
          "tSNE-2": -22.114227294921875
         },
         {
          "KM-label": 8,
          "digit": 5,
          "tSNE-1": -27.901840209960938,
          "tSNE-2": -23.65949058532715
         },
         {
          "KM-label": 6,
          "digit": 6,
          "tSNE-1": 36.625755310058594,
          "tSNE-2": -21.578495025634766
         },
         {
          "KM-label": 8,
          "digit": 5,
          "tSNE-1": -27.37228775024414,
          "tSNE-2": -26.731637954711914
         },
         {
          "KM-label": 1,
          "digit": 0,
          "tSNE-1": 39.90398406982422,
          "tSNE-2": 4.193881988525391
         },
         {
          "KM-label": 8,
          "digit": 9,
          "tSNE-1": -24.96986961364746,
          "tSNE-2": -0.8417201638221741
         },
         {
          "KM-label": 3,
          "digit": 8,
          "tSNE-1": -9.033881187438965,
          "tSNE-2": 8.2328519821167
         },
         {
          "KM-label": 8,
          "digit": 9,
          "tSNE-1": -22.597503662109375,
          "tSNE-2": -21.929582595825195
         },
         {
          "KM-label": 3,
          "digit": 8,
          "tSNE-1": -1.3340699672698975,
          "tSNE-2": 5.056557655334473
         },
         {
          "KM-label": 0,
          "digit": 4,
          "tSNE-1": -32.25543975830078,
          "tSNE-2": 33.90154266357422
         },
         {
          "KM-label": 3,
          "digit": 1,
          "tSNE-1": -7.343059062957764,
          "tSNE-2": 21.52931785583496
         },
         {
          "KM-label": 4,
          "digit": 7,
          "tSNE-1": -43.557090759277344,
          "tSNE-2": -7.354008197784424
         },
         {
          "KM-label": 4,
          "digit": 7,
          "tSNE-1": -45.8319091796875,
          "tSNE-2": -9.96657657623291
         },
         {
          "KM-label": 3,
          "digit": 3,
          "tSNE-1": -16.37208366394043,
          "tSNE-2": -0.008867177180945873
         },
         {
          "KM-label": 8,
          "digit": 5,
          "tSNE-1": -28.746286392211914,
          "tSNE-2": -24.519155502319336
         },
         {
          "KM-label": 3,
          "digit": 1,
          "tSNE-1": -4.915562629699707,
          "tSNE-2": 20.374853134155273
         },
         {
          "KM-label": 1,
          "digit": 0,
          "tSNE-1": 34.149322509765625,
          "tSNE-2": 0.6013593077659607
         },
         {
          "KM-label": 1,
          "digit": 0,
          "tSNE-1": 40.730369567871094,
          "tSNE-2": 7.360389709472656
         },
         {
          "KM-label": 1,
          "digit": 2,
          "tSNE-1": 17.737430572509766,
          "tSNE-2": 19.973934173583984
         },
         {
          "KM-label": 7,
          "digit": 2,
          "tSNE-1": 14.099806785583496,
          "tSNE-2": 29.936439514160156
         },
         {
          "KM-label": 3,
          "digit": 7,
          "tSNE-1": -46.346221923828125,
          "tSNE-2": -10.657522201538086
         },
         {
          "KM-label": 3,
          "digit": 8,
          "tSNE-1": -9.597694396972656,
          "tSNE-2": 4.540400981903076
         },
         {
          "KM-label": 2,
          "digit": 2,
          "tSNE-1": 17.592485427856445,
          "tSNE-2": 20.350830078125
         },
         {
          "KM-label": 1,
          "digit": 0,
          "tSNE-1": 36.07725143432617,
          "tSNE-2": -0.4100954234600067
         },
         {
          "KM-label": 3,
          "digit": 1,
          "tSNE-1": -2.7317404747009277,
          "tSNE-2": 17.866365432739258
         },
         {
          "KM-label": 7,
          "digit": 2,
          "tSNE-1": 7.007080554962158,
          "tSNE-2": 32.68624496459961
         },
         {
          "KM-label": 6,
          "digit": 6,
          "tSNE-1": 37.6739616394043,
          "tSNE-2": -22.94036293029785
         },
         {
          "KM-label": 3,
          "digit": 3,
          "tSNE-1": -16.080162048339844,
          "tSNE-2": -0.14980243146419525
         },
         {
          "KM-label": 4,
          "digit": 3,
          "tSNE-1": -16.868515014648438,
          "tSNE-2": 0.1404225081205368
         },
         {
          "KM-label": 4,
          "digit": 7,
          "tSNE-1": -45.88608932495117,
          "tSNE-2": -9.60004997253418
         },
         {
          "KM-label": 4,
          "digit": 3,
          "tSNE-1": -18.64837646484375,
          "tSNE-2": -0.6338785290718079
         },
         {
          "KM-label": 3,
          "digit": 3,
          "tSNE-1": -15.446552276611328,
          "tSNE-2": 0.016870716586709023
         },
         {
          "KM-label": 0,
          "digit": 4,
          "tSNE-1": -34.660831451416016,
          "tSNE-2": 31.913066864013672
         },
         {
          "KM-label": 6,
          "digit": 6,
          "tSNE-1": 33.32405471801758,
          "tSNE-2": -21.668149948120117
         },
         {
          "KM-label": 6,
          "digit": 6,
          "tSNE-1": 33.71369171142578,
          "tSNE-2": -21.061920166015625
         },
         {
          "KM-label": 6,
          "digit": 6,
          "tSNE-1": 36.994728088378906,
          "tSNE-2": -22.904438018798828
         },
         {
          "KM-label": 3,
          "digit": 4,
          "tSNE-1": -23.640443801879883,
          "tSNE-2": -6.154265403747559
         },
         {
          "KM-label": 9,
          "digit": 9,
          "tSNE-1": -28.214632034301758,
          "tSNE-2": 11.933793067932129
         },
         {
          "KM-label": 3,
          "digit": 1,
          "tSNE-1": -5.376061916351318,
          "tSNE-2": 19.57016372680664
         },
         {
          "KM-label": 8,
          "digit": 5,
          "tSNE-1": -26.945636749267578,
          "tSNE-2": -25.8768310546875
         },
         {
          "KM-label": 1,
          "digit": 0,
          "tSNE-1": 34.52177429199219,
          "tSNE-2": 0.4759252667427063
         },
         {
          "KM-label": 5,
          "digit": 9,
          "tSNE-1": 7.54279899597168,
          "tSNE-2": -23.74266815185547
         },
         {
          "KM-label": 8,
          "digit": 5,
          "tSNE-1": -19.56822967529297,
          "tSNE-2": -31.79783058166504
         },
         {
          "KM-label": 2,
          "digit": 2,
          "tSNE-1": 18.133752822875977,
          "tSNE-2": 21.012773513793945
         },
         {
          "KM-label": 3,
          "digit": 8,
          "tSNE-1": -2.2871429920196533,
          "tSNE-2": 5.198322772979736
         },
         {
          "KM-label": 1,
          "digit": 0,
          "tSNE-1": 46.986732482910156,
          "tSNE-2": 2.6383469104766846
         },
         {
          "KM-label": 3,
          "digit": 1,
          "tSNE-1": -5.347527027130127,
          "tSNE-2": 20.56379508972168
         },
         {
          "KM-label": 4,
          "digit": 7,
          "tSNE-1": -44.364009857177734,
          "tSNE-2": -8.59074592590332
         },
         {
          "KM-label": 6,
          "digit": 6,
          "tSNE-1": 37.719505310058594,
          "tSNE-2": -22.993383407592773
         },
         {
          "KM-label": 2,
          "digit": 3,
          "tSNE-1": 12.077522277832031,
          "tSNE-2": 0.3943103849887848
         },
         {
          "KM-label": 7,
          "digit": 2,
          "tSNE-1": 12.21594524383545,
          "tSNE-2": 35.282447814941406
         },
         {
          "KM-label": 3,
          "digit": 1,
          "tSNE-1": -6.4783501625061035,
          "tSNE-2": 21.922224044799805
         },
         {
          "KM-label": 4,
          "digit": 7,
          "tSNE-1": -47.28089141845703,
          "tSNE-2": -8.185189247131348
         },
         {
          "KM-label": 4,
          "digit": 4,
          "tSNE-1": -23.667423248291016,
          "tSNE-2": -6.135599136352539
         },
         {
          "KM-label": 6,
          "digit": 6,
          "tSNE-1": 34.482940673828125,
          "tSNE-2": -21.516403198242188
         },
         {
          "KM-label": 2,
          "digit": 3,
          "tSNE-1": 14.33126449584961,
          "tSNE-2": -0.3598802089691162
         },
         {
          "KM-label": 3,
          "digit": 1,
          "tSNE-1": -7.097801208496094,
          "tSNE-2": 21.708864212036133
         },
         {
          "KM-label": 2,
          "digit": 3,
          "tSNE-1": 9.874894142150879,
          "tSNE-2": -0.3604232370853424
         },
         {
          "KM-label": 4,
          "digit": 9,
          "tSNE-1": -25.942609786987305,
          "tSNE-2": -1.16243314743042
         },
         {
          "KM-label": 3,
          "digit": 1,
          "tSNE-1": -6.77011251449585,
          "tSNE-2": 20.400299072265625
         },
         {
          "KM-label": 4,
          "digit": 7,
          "tSNE-1": -45.243099212646484,
          "tSNE-2": -10.25631046295166
         },
         {
          "KM-label": 6,
          "digit": 6,
          "tSNE-1": 35.941646575927734,
          "tSNE-2": -24.939151763916016
         },
         {
          "KM-label": 3,
          "digit": 8,
          "tSNE-1": -1.5589003562927246,
          "tSNE-2": 5.603443622589111
         },
         {
          "KM-label": 0,
          "digit": 4,
          "tSNE-1": -32.06670379638672,
          "tSNE-2": 34.40371322631836
         },
         {
          "KM-label": 2,
          "digit": 3,
          "tSNE-1": 13.404158592224121,
          "tSNE-2": -0.9335535168647766
         },
         {
          "KM-label": 3,
          "digit": 1,
          "tSNE-1": -7.510488986968994,
          "tSNE-2": 21.21834945678711
         },
         {
          "KM-label": 0,
          "digit": 4,
          "tSNE-1": -31.399436950683594,
          "tSNE-2": 32.51566696166992
         },
         {
          "KM-label": 1,
          "digit": 0,
          "tSNE-1": 35.33945846557617,
          "tSNE-2": 2.7828407287597656
         },
         {
          "KM-label": 8,
          "digit": 5,
          "tSNE-1": -22.632205963134766,
          "tSNE-2": -28.905920028686523
         },
         {
          "KM-label": 2,
          "digit": 3,
          "tSNE-1": 14.213726997375488,
          "tSNE-2": -0.6544151902198792
         },
         {
          "KM-label": 6,
          "digit": 6,
          "tSNE-1": 33.78655242919922,
          "tSNE-2": -20.534772872924805
         },
         {
          "KM-label": 2,
          "digit": 9,
          "tSNE-1": 7.3045172691345215,
          "tSNE-2": -22.408559799194336
         },
         {
          "KM-label": 6,
          "digit": 6,
          "tSNE-1": 32.99311828613281,
          "tSNE-2": -19.449474334716797
         },
         {
          "KM-label": 3,
          "digit": 1,
          "tSNE-1": -7.550997257232666,
          "tSNE-2": 21.521425247192383
         },
         {
          "KM-label": 4,
          "digit": 7,
          "tSNE-1": -41.85369873046875,
          "tSNE-2": -4.48126220703125
         },
         {
          "KM-label": 8,
          "digit": 5,
          "tSNE-1": -23.24837303161621,
          "tSNE-2": -24.93821144104004
         },
         {
          "KM-label": 0,
          "digit": 4,
          "tSNE-1": -31.57471466064453,
          "tSNE-2": 32.11879348754883
         },
         {
          "KM-label": 0,
          "digit": 4,
          "tSNE-1": -35.52103042602539,
          "tSNE-2": 32.602989196777344
         },
         {
          "KM-label": 4,
          "digit": 7,
          "tSNE-1": -45.202571868896484,
          "tSNE-2": -6.653944969177246
         },
         {
          "KM-label": 7,
          "digit": 2,
          "tSNE-1": 15.901491165161133,
          "tSNE-2": 35.06906509399414
         },
         {
          "KM-label": 2,
          "digit": 2,
          "tSNE-1": 15.038389205932617,
          "tSNE-2": 21.584121704101562
         },
         {
          "KM-label": 8,
          "digit": 5,
          "tSNE-1": -27.35536766052246,
          "tSNE-2": -27.63741683959961
         },
         {
          "KM-label": 4,
          "digit": 7,
          "tSNE-1": -46.616111755371094,
          "tSNE-2": -9.460583686828613
         },
         {
          "KM-label": 2,
          "digit": 9,
          "tSNE-1": 9.518290519714355,
          "tSNE-2": -1.192966103553772
         },
         {
          "KM-label": 8,
          "digit": 5,
          "tSNE-1": -22.58969497680664,
          "tSNE-2": -29.003690719604492
         },
         {
          "KM-label": 4,
          "digit": 4,
          "tSNE-1": -23.597126007080078,
          "tSNE-2": -6.1932454109191895
         },
         {
          "KM-label": 0,
          "digit": 4,
          "tSNE-1": -32.19686508178711,
          "tSNE-2": 33.20087814331055
         },
         {
          "KM-label": 8,
          "digit": 9,
          "tSNE-1": -22.78843116760254,
          "tSNE-2": -22.070423126220703
         },
         {
          "KM-label": 1,
          "digit": 0,
          "tSNE-1": 42.00128936767578,
          "tSNE-2": 9.917247772216797
         },
         {
          "KM-label": 3,
          "digit": 8,
          "tSNE-1": -3.622835159301758,
          "tSNE-2": 6.480106353759766
         },
         {
          "KM-label": 8,
          "digit": 9,
          "tSNE-1": -25.5350399017334,
          "tSNE-2": -1.115637183189392
         },
         {
          "KM-label": 4,
          "digit": 8,
          "tSNE-1": -3.2199432849884033,
          "tSNE-2": 6.259135723114014
         },
         {
          "KM-label": 1,
          "digit": 0,
          "tSNE-1": 43.276920318603516,
          "tSNE-2": 2.0586559772491455
         },
         {
          "KM-label": 3,
          "digit": 1,
          "tSNE-1": -2.2646405696868896,
          "tSNE-2": 12.617478370666504
         },
         {
          "KM-label": 7,
          "digit": 2,
          "tSNE-1": 15.087202072143555,
          "tSNE-2": 30.928730010986328
         },
         {
          "KM-label": 2,
          "digit": 3,
          "tSNE-1": 7.353237152099609,
          "tSNE-2": -6.774044990539551
         },
         {
          "KM-label": 9,
          "digit": 4,
          "tSNE-1": -22.086109161376953,
          "tSNE-2": 35.6977424621582
         },
         {
          "KM-label": 5,
          "digit": 5,
          "tSNE-1": -14.243577003479004,
          "tSNE-2": -34.03592300415039
         },
         {
          "KM-label": 6,
          "digit": 6,
          "tSNE-1": 26.101028442382812,
          "tSNE-2": -29.352169036865234
         },
         {
          "KM-label": 4,
          "digit": 7,
          "tSNE-1": -41.29747009277344,
          "tSNE-2": -7.41558837890625
         },
         {
          "KM-label": 2,
          "digit": 8,
          "tSNE-1": -4.023137092590332,
          "tSNE-2": 0.5344825387001038
         },
         {
          "KM-label": 5,
          "digit": 9,
          "tSNE-1": 6.799961566925049,
          "tSNE-2": -28.6380672454834
         },
         {
          "KM-label": 1,
          "digit": 0,
          "tSNE-1": 41.96573257446289,
          "tSNE-2": 2.125114679336548
         },
         {
          "KM-label": 3,
          "digit": 1,
          "tSNE-1": -5.303125858306885,
          "tSNE-2": 13.819366455078125
         },
         {
          "KM-label": 7,
          "digit": 2,
          "tSNE-1": 6.403903484344482,
          "tSNE-2": 31.985532760620117
         },
         {
          "KM-label": 3,
          "digit": 3,
          "tSNE-1": -15.939507484436035,
          "tSNE-2": -1.99165940284729
         },
         {
          "KM-label": 0,
          "digit": 4,
          "tSNE-1": -29.071937561035156,
          "tSNE-2": 36.20392608642578
         },
         {
          "KM-label": 8,
          "digit": 5,
          "tSNE-1": -15.217307090759277,
          "tSNE-2": -34.025550842285156
         },
         {
          "KM-label": 6,
          "digit": 6,
          "tSNE-1": 28.96893882751465,
          "tSNE-2": -28.80434799194336
         },
         {
          "KM-label": 4,
          "digit": 7,
          "tSNE-1": -40.41940689086914,
          "tSNE-2": 0.9931269288063049
         },
         {
          "KM-label": 3,
          "digit": 8,
          "tSNE-1": -9.375426292419434,
          "tSNE-2": 1.378507137298584
         },
         {
          "KM-label": 5,
          "digit": 9,
          "tSNE-1": -0.3688044250011444,
          "tSNE-2": -25.44142723083496
         },
         {
          "KM-label": 1,
          "digit": 0,
          "tSNE-1": 42.27824020385742,
          "tSNE-2": -1.4425286054611206
         },
         {
          "KM-label": 3,
          "digit": 1,
          "tSNE-1": -1.8495559692382812,
          "tSNE-2": 14.39704418182373
         },
         {
          "KM-label": 7,
          "digit": 2,
          "tSNE-1": 7.886512756347656,
          "tSNE-2": 28.984678268432617
         },
         {
          "KM-label": 8,
          "digit": 3,
          "tSNE-1": -14.026753425598145,
          "tSNE-2": -15.84638786315918
         },
         {
          "KM-label": 0,
          "digit": 4,
          "tSNE-1": -28.34799575805664,
          "tSNE-2": 35.729736328125
         },
         {
          "KM-label": 0,
          "digit": 5,
          "tSNE-1": -15.12602424621582,
          "tSNE-2": -34.5750846862793
         },
         {
          "KM-label": 6,
          "digit": 6,
          "tSNE-1": 26.753915786743164,
          "tSNE-2": -29.165130615234375
         },
         {
          "KM-label": 4,
          "digit": 7,
          "tSNE-1": -41.14936447143555,
          "tSNE-2": -7.446804046630859
         },
         {
          "KM-label": 3,
          "digit": 8,
          "tSNE-1": -3.608607292175293,
          "tSNE-2": 0.9938536882400513
         },
         {
          "KM-label": 5,
          "digit": 9,
          "tSNE-1": 6.512333869934082,
          "tSNE-2": -24.155763626098633
         },
         {
          "KM-label": 1,
          "digit": 0,
          "tSNE-1": 42.72411346435547,
          "tSNE-2": 8.204660415649414
         },
         {
          "KM-label": 5,
          "digit": 9,
          "tSNE-1": 3.08237361907959,
          "tSNE-2": -24.072114944458008
         },
         {
          "KM-label": 8,
          "digit": 5,
          "tSNE-1": -17.363903045654297,
          "tSNE-2": -32.55751037597656
         },
         {
          "KM-label": 8,
          "digit": 5,
          "tSNE-1": -15.15970516204834,
          "tSNE-2": -31.464017868041992
         },
         {
          "KM-label": 6,
          "digit": 6,
          "tSNE-1": 27.16346549987793,
          "tSNE-2": -29.693662643432617
         },
         {
          "KM-label": 8,
          "digit": 5,
          "tSNE-1": -15.71116828918457,
          "tSNE-2": -29.398672103881836
         },
         {
          "KM-label": 1,
          "digit": 0,
          "tSNE-1": 35.493988037109375,
          "tSNE-2": 4.985563278198242
         },
         {
          "KM-label": 5,
          "digit": 9,
          "tSNE-1": 3.5655479431152344,
          "tSNE-2": -25.062976837158203
         },
         {
          "KM-label": 5,
          "digit": 8,
          "tSNE-1": -2.7211215496063232,
          "tSNE-2": -1.0042741298675537
         },
         {
          "KM-label": 5,
          "digit": 9,
          "tSNE-1": 3.027647018432617,
          "tSNE-2": -25.83382797241211
         },
         {
          "KM-label": 3,
          "digit": 8,
          "tSNE-1": -10.784881591796875,
          "tSNE-2": 0.6740304231643677
         },
         {
          "KM-label": 0,
          "digit": 4,
          "tSNE-1": -29.679983139038086,
          "tSNE-2": 35.508201599121094
         },
         {
          "KM-label": 3,
          "digit": 1,
          "tSNE-1": -2.751671314239502,
          "tSNE-2": 12.293089866638184
         },
         {
          "KM-label": 4,
          "digit": 7,
          "tSNE-1": -33.20832443237305,
          "tSNE-2": -2.270207405090332
         },
         {
          "KM-label": 4,
          "digit": 7,
          "tSNE-1": -40.27898406982422,
          "tSNE-2": 2.9518942832946777
         },
         {
          "KM-label": 4,
          "digit": 3,
          "tSNE-1": -17.018815994262695,
          "tSNE-2": -1.252425193786621
         },
         {
          "KM-label": 8,
          "digit": 5,
          "tSNE-1": -15.023810386657715,
          "tSNE-2": -34.063011169433594
         },
         {
          "KM-label": 3,
          "digit": 1,
          "tSNE-1": -5.830728054046631,
          "tSNE-2": 13.80091381072998
         },
         {
          "KM-label": 1,
          "digit": 0,
          "tSNE-1": 41.275001525878906,
          "tSNE-2": -0.4031079113483429
         },
         {
          "KM-label": 1,
          "digit": 0,
          "tSNE-1": 43.271148681640625,
          "tSNE-2": 8.75734806060791
         },
         {
          "KM-label": 7,
          "digit": 2,
          "tSNE-1": 14.991104125976562,
          "tSNE-2": 37.07810974121094
         },
         {
          "KM-label": 7,
          "digit": 2,
          "tSNE-1": 15.987424850463867,
          "tSNE-2": 33.45046615600586
         },
         {
          "KM-label": 4,
          "digit": 7,
          "tSNE-1": -44.23224639892578,
          "tSNE-2": -5.399259567260742
         },
         {
          "KM-label": 3,
          "digit": 8,
          "tSNE-1": -11.327681541442871,
          "tSNE-2": -0.25757256150245667
         },
         {
          "KM-label": 7,
          "digit": 2,
          "tSNE-1": 14.846810340881348,
          "tSNE-2": 36.92131042480469
         },
         {
          "KM-label": 1,
          "digit": 0,
          "tSNE-1": 33.11592102050781,
          "tSNE-2": 4.912876605987549
         },
         {
          "KM-label": 3,
          "digit": 1,
          "tSNE-1": -1.7688552141189575,
          "tSNE-2": 13.767874717712402
         },
         {
          "KM-label": 7,
          "digit": 2,
          "tSNE-1": 17.488065719604492,
          "tSNE-2": 34.90633773803711
         },
         {
          "KM-label": 6,
          "digit": 6,
          "tSNE-1": 28.339040756225586,
          "tSNE-2": -28.65582847595215
         },
         {
          "KM-label": 3,
          "digit": 3,
          "tSNE-1": -16.122976303100586,
          "tSNE-2": -2.5982370376586914
         },
         {
          "KM-label": 3,
          "digit": 3,
          "tSNE-1": -16.29176902770996,
          "tSNE-2": -2.7459869384765625
         },
         {
          "KM-label": 4,
          "digit": 7,
          "tSNE-1": -45.55729675292969,
          "tSNE-2": -2.5704503059387207
         },
         {
          "KM-label": 5,
          "digit": 3,
          "tSNE-1": 6.765079975128174,
          "tSNE-2": -6.5566511154174805
         },
         {
          "KM-label": 3,
          "digit": 3,
          "tSNE-1": -16.39209747314453,
          "tSNE-2": -2.0627083778381348
         },
         {
          "KM-label": 0,
          "digit": 4,
          "tSNE-1": -26.740169525146484,
          "tSNE-2": 33.520530700683594
         },
         {
          "KM-label": 6,
          "digit": 6,
          "tSNE-1": 28.55872917175293,
          "tSNE-2": -20.380786895751953
         },
         {
          "KM-label": 6,
          "digit": 6,
          "tSNE-1": 27.341815948486328,
          "tSNE-2": -29.963865280151367
         },
         {
          "KM-label": 6,
          "digit": 6,
          "tSNE-1": 26.078914642333984,
          "tSNE-2": -32.875003814697266
         },
         {
          "KM-label": 0,
          "digit": 4,
          "tSNE-1": -22.98990249633789,
          "tSNE-2": 35.880653381347656
         },
         {
          "KM-label": 5,
          "digit": 9,
          "tSNE-1": 0.9624965786933899,
          "tSNE-2": -25.147476196289062
         },
         {
          "KM-label": 3,
          "digit": 1,
          "tSNE-1": -6.153476715087891,
          "tSNE-2": 12.304048538208008
         },
         {
          "KM-label": 8,
          "digit": 5,
          "tSNE-1": -12.022467613220215,
          "tSNE-2": -30.308271408081055
         },
         {
          "KM-label": 1,
          "digit": 0,
          "tSNE-1": 41.00675964355469,
          "tSNE-2": -0.8577657341957092
         },
         {
          "KM-label": 5,
          "digit": 9,
          "tSNE-1": 2.618227958679199,
          "tSNE-2": -23.6478214263916
         },
         {
          "KM-label": 5,
          "digit": 5,
          "tSNE-1": -14.941476821899414,
          "tSNE-2": -34.67729568481445
         },
         {
          "KM-label": 7,
          "digit": 2,
          "tSNE-1": 19.171730041503906,
          "tSNE-2": 31.09724998474121
         },
         {
          "KM-label": 3,
          "digit": 8,
          "tSNE-1": -3.620478630065918,
          "tSNE-2": 1.580437183380127
         },
         {
          "KM-label": 7,
          "digit": 2,
          "tSNE-1": 7.289310455322266,
          "tSNE-2": 30.33917808532715
         },
         {
          "KM-label": 1,
          "digit": 0,
          "tSNE-1": 39.528350830078125,
          "tSNE-2": 9.53572940826416
         },
         {
          "KM-label": 1,
          "digit": 0,
          "tSNE-1": 42.33584976196289,
          "tSNE-2": -1.251023769378662
         },
         {
          "KM-label": 3,
          "digit": 1,
          "tSNE-1": -4.677240371704102,
          "tSNE-2": 11.074925422668457
         },
         {
          "KM-label": 4,
          "digit": 7,
          "tSNE-1": -46.53372573852539,
          "tSNE-2": -6.041101932525635
         },
         {
          "KM-label": 6,
          "digit": 6,
          "tSNE-1": 29.032115936279297,
          "tSNE-2": -21.157804489135742
         },
         {
          "KM-label": 2,
          "digit": 3,
          "tSNE-1": 10.761795043945312,
          "tSNE-2": 1.032617211341858
         },
         {
          "KM-label": 7,
          "digit": 2,
          "tSNE-1": 7.8711161613464355,
          "tSNE-2": 29.057371139526367
         },
         {
          "KM-label": 3,
          "digit": 1,
          "tSNE-1": -10.190176963806152,
          "tSNE-2": 12.851202011108398
         },
         {
          "KM-label": 4,
          "digit": 7,
          "tSNE-1": -46.50808334350586,
          "tSNE-2": -4.651959419250488
         },
         {
          "KM-label": 0,
          "digit": 4,
          "tSNE-1": -23.51274871826172,
          "tSNE-2": 36.371864318847656
         },
         {
          "KM-label": 6,
          "digit": 6,
          "tSNE-1": 31.2537899017334,
          "tSNE-2": -22.241214752197266
         },
         {
          "KM-label": 2,
          "digit": 3,
          "tSNE-1": 12.116543769836426,
          "tSNE-2": -0.8750621676445007
         },
         {
          "KM-label": 3,
          "digit": 1,
          "tSNE-1": -7.211524963378906,
          "tSNE-2": 12.543091773986816
         },
         {
          "KM-label": 2,
          "digit": 3,
          "tSNE-1": 12.38657283782959,
          "tSNE-2": -5.233499050140381
         },
         {
          "KM-label": 5,
          "digit": 9,
          "tSNE-1": 0.9297405481338501,
          "tSNE-2": -24.96505355834961
         },
         {
          "KM-label": 3,
          "digit": 1,
          "tSNE-1": -2.8981504440307617,
          "tSNE-2": 13.805808067321777
         },
         {
          "KM-label": 4,
          "digit": 7,
          "tSNE-1": -40.51671600341797,
          "tSNE-2": -3.380342960357666
         },
         {
          "KM-label": 6,
          "digit": 6,
          "tSNE-1": 28.510507583618164,
          "tSNE-2": -22.557575225830078
         },
         {
          "KM-label": 3,
          "digit": 8,
          "tSNE-1": -5.557681560516357,
          "tSNE-2": 4.537256240844727
         },
         {
          "KM-label": 0,
          "digit": 4,
          "tSNE-1": -26.489484786987305,
          "tSNE-2": 38.47552490234375
         },
         {
          "KM-label": 8,
          "digit": 3,
          "tSNE-1": -14.038436889648438,
          "tSNE-2": -15.881436347961426
         },
         {
          "KM-label": 3,
          "digit": 1,
          "tSNE-1": -4.819423198699951,
          "tSNE-2": 11.446330070495605
         },
         {
          "KM-label": 0,
          "digit": 4,
          "tSNE-1": -24.495704650878906,
          "tSNE-2": 33.315155029296875
         },
         {
          "KM-label": 1,
          "digit": 0,
          "tSNE-1": 36.4399528503418,
          "tSNE-2": -0.7209995985031128
         },
         {
          "KM-label": 5,
          "digit": 5,
          "tSNE-1": -12.147207260131836,
          "tSNE-2": -33.40974044799805
         },
         {
          "KM-label": 2,
          "digit": 3,
          "tSNE-1": 11.178436279296875,
          "tSNE-2": -3.466275453567505
         },
         {
          "KM-label": 6,
          "digit": 6,
          "tSNE-1": 31.26719093322754,
          "tSNE-2": -20.3247013092041
         },
         {
          "KM-label": 5,
          "digit": 9,
          "tSNE-1": -0.06206796318292618,
          "tSNE-2": -24.742862701416016
         },
         {
          "KM-label": 6,
          "digit": 6,
          "tSNE-1": 29.34857940673828,
          "tSNE-2": -29.29799461364746
         },
         {
          "KM-label": 3,
          "digit": 1,
          "tSNE-1": -5.020117282867432,
          "tSNE-2": 11.481993675231934
         },
         {
          "KM-label": 4,
          "digit": 7,
          "tSNE-1": -43.41302490234375,
          "tSNE-2": -10.863363265991211
         },
         {
          "KM-label": 5,
          "digit": 5,
          "tSNE-1": -15.080078125,
          "tSNE-2": -35.81106185913086
         },
         {
          "KM-label": 0,
          "digit": 4,
          "tSNE-1": -23.20948600769043,
          "tSNE-2": 34.82455825805664
         },
         {
          "KM-label": 0,
          "digit": 4,
          "tSNE-1": -24.801284790039062,
          "tSNE-2": 38.36289596557617
         },
         {
          "KM-label": 4,
          "digit": 7,
          "tSNE-1": -41.91933822631836,
          "tSNE-2": -0.2999719977378845
         },
         {
          "KM-label": 7,
          "digit": 2,
          "tSNE-1": 18.039653778076172,
          "tSNE-2": 31.179929733276367
         },
         {
          "KM-label": 3,
          "digit": 8,
          "tSNE-1": -2.4791336059570312,
          "tSNE-2": 0.7143354415893555
         },
         {
          "KM-label": 7,
          "digit": 2,
          "tSNE-1": 16.79696273803711,
          "tSNE-2": 32.16843795776367
         },
         {
          "KM-label": 7,
          "digit": 2,
          "tSNE-1": 17.831134796142578,
          "tSNE-2": 34.038150787353516
         },
         {
          "KM-label": 5,
          "digit": 5,
          "tSNE-1": -15.522604942321777,
          "tSNE-2": -34.82707214355469
         },
         {
          "KM-label": 4,
          "digit": 7,
          "tSNE-1": -45.67267608642578,
          "tSNE-2": -6.3978590965271
         },
         {
          "KM-label": 5,
          "digit": 9,
          "tSNE-1": 4.332483291625977,
          "tSNE-2": -22.781309127807617
         },
         {
          "KM-label": 5,
          "digit": 5,
          "tSNE-1": -12.22420883178711,
          "tSNE-2": -33.86673355102539
         },
         {
          "KM-label": 0,
          "digit": 4,
          "tSNE-1": -24.91201400756836,
          "tSNE-2": 37.166343688964844
         },
         {
          "KM-label": 3,
          "digit": 8,
          "tSNE-1": -7.938869953155518,
          "tSNE-2": 9.713824272155762
         },
         {
          "KM-label": 3,
          "digit": 8,
          "tSNE-1": -8.260601043701172,
          "tSNE-2": 11.258147239685059
         },
         {
          "KM-label": 0,
          "digit": 4,
          "tSNE-1": -27.337072372436523,
          "tSNE-2": 35.97970199584961
         },
         {
          "KM-label": 5,
          "digit": 9,
          "tSNE-1": 2.356720209121704,
          "tSNE-2": -24.573060989379883
         },
         {
          "KM-label": 1,
          "digit": 0,
          "tSNE-1": 34.78756332397461,
          "tSNE-2": 5.416149139404297
         },
         {
          "KM-label": 3,
          "digit": 8,
          "tSNE-1": -5.177671909332275,
          "tSNE-2": 4.2802934646606445
         },
         {
          "KM-label": 5,
          "digit": 9,
          "tSNE-1": -1.2385140657424927,
          "tSNE-2": -22.014114379882812
         },
         {
          "KM-label": 5,
          "digit": 8,
          "tSNE-1": -2.588242769241333,
          "tSNE-2": -0.44484785199165344
         }
        ]
       },
       "hconcat": [
        {
         "encoding": {
          "color": {
           "field": "KM-label",
           "scale": {
            "scheme": "Spectral"
           },
           "type": "nominal"
          },
          "x": {
           "field": "tSNE-1",
           "type": "quantitative"
          },
          "y": {
           "field": "tSNE-2",
           "type": "quantitative"
          }
         },
         "height": 450,
         "mark": {
          "size": 40,
          "type": "circle"
         },
         "selection": {
          "selector001": {
           "type": "interval"
          }
         },
         "width": 450
        },
        {
         "encoding": {
          "text": {
           "field": "digit",
           "type": "nominal"
          },
          "y": {
           "axis": null,
           "field": "row_number",
           "type": "ordinal"
          }
         },
         "mark": "text",
         "title": "digit",
         "transform": [
          {
           "window": [
            {
             "as": "row_number",
             "field": "",
             "op": "row_number"
            }
           ]
          },
          {
           "filter": {
            "selection": "selector001"
           }
          },
          {
           "window": [
            {
             "as": "rank",
             "field": "row_number",
             "op": "rank"
            }
           ]
          },
          {
           "filter": "(datum.rank < 25)"
          }
         ]
        }
       ]
      },
      "image/png": "[encoded data removed]",
      "text/plain": [
       "<VegaLite 3 object>\n",
       "\n",
       "If you see this message, it means the renderer has not been properly enabled\n",
       "for the frontend that you are using. For more information, see\n",
       "https://altair-viz.github.io/user_guide/troubleshooting.html\n"
      ]
     },
     "metadata": {},
     "output_type": "display_data"
    }
   ],
   "source": [
    "#collapse-show\n",
    "\n",
    "# Make the chart\n",
    "chart = plot_interactive_embedding(\n",
    "    source=digits_df,\n",
    "    x=\"tSNE-1\",\n",
    "    y=\"tSNE-2\",\n",
    "    target_col=\"digit\",\n",
    "    color_col=\"KM-label\",\n",
    "    figsize=(450, 450),\n",
    ")\n",
    "chart.display()"
   ]
  },
  {
   "cell_type": "markdown",
   "metadata": {},
   "source": [
    "#### All the code can be found [here](https://github.com/fabridamicelli/pythonicity)."
   ]
  },
  {
   "cell_type": "markdown",
   "metadata": {},
   "source": [
    "#### Before you leave, check out these:\n",
    "- [Altair](https://altair-viz.github.io/): \"Declarative Visualization in Python\". This does the job under the hood of what I showed you. I did not even scratch the surface of that powerful, neat library.\n",
    "- [This](https://grantcuster.github.io/umap-explorer/) and [this](http://doc.gold.ac.uk/~lfedd001/three/demo.html) for cool visualizations of UMAP projections.\n",
    "- [whatlies](https://rasahq.github.io/whatlies/): \"A library that tries help you to understand. What lies in word embeddings?\". This didn't exist when I wrote this function – would be my first choice now. It goes way beyond of what I showed and has integration with other NLP tools as well."
   ]
  },
  {
   "cell_type": "markdown",
   "metadata": {},
   "source": [
    "----\n",
    "#### Any bugs, questions, comments, suggestions? Ping me on [twitter](https://www.twitter.com/fabridamicelli) or [drop me an e-mail](https://www.uke.de/allgemein/arztprofile-und-wissenschaftlerprofile/wissenschaftlerprofilseite_fabrizio_damicelli.html)."
   ]
  }
 ],
 "metadata": {
  "kernelspec": {
   "display_name": "Python 3",
   "language": "python",
   "name": "python3"
  },
  "language_info": {
   "codemirror_mode": {
    "name": "ipython",
    "version": 3
   },
   "file_extension": ".py",
   "mimetype": "text/x-python",
   "name": "python",
   "nbconvert_exporter": "python",
   "pygments_lexer": "ipython3",
   "version": "3.7.7"
  }
 },
 "nbformat": 4,
 "nbformat_minor": 4
}
