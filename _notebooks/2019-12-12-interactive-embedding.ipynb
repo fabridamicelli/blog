{
 "cells": [
  {
   "cell_type": "markdown",
   "metadata": {},
   "source": [
    "# \"Does your embedding make sense?\"\n",
    "> \"Projecting data is easy. Understanding the outcome, less so. Interactive plots can help.\"\n",
    "\n",
    "- toc: false\n",
    "- author: Fabrizio Damicelli\n",
    "- branch: master\n",
    "- badges: false\n",
    "- comments: false\n",
    "- categories: [python, dataviz, dimensionality-reduction]"
   ]
  },
  {
   "cell_type": "markdown",
   "metadata": {},
   "source": [
    "It's not about the projections for the rest of 2020, I promise. Nor 2021.\n",
    "\n",
    "Imagine you are working with high-dimensional data, that is, the position of each data point in that multidimensional space can be represented by a large number of other features/coordinates.\n",
    "For example, you measure a bunch of properties of a product where each item has some values associated, say, size, cost of production, price, CO2 footprint, etc.\n",
    "It could also be the case that your features are more abstract quantities.\n",
    "Instead of price or size, you could just have a bunch of numbers representing each item that don't necessarily have a human meaning, for instance a vector like this [0.11, 0.34, 0.15, 0.9].\n",
    "Hopefully, those number actually mean something (whatever we understand by \"meaning something\").\n",
    "Hopefully.\n",
    "Things start to get trickier.\n",
    "A beautiful example of that are [word-embeddings](https://en.wikipedia.org/wiki/Word_embedding), which is the thing I was originally playing with when I needed the visualization that I will show you.\n",
    "These embeddings represent each word with a vector, typically of length between 300 and 1000.\n",
    "That's what I mean high-dimensional.\n",
    "What the coordinates actually mean in that case is highly non-trivial and you can find out about it in the article linked above.\n",
    "Other datasets are even more massive in terms of the number of features though, e.g., [gene expression data](https://en.wikipedia.org/wiki/DNA_microarray) are usually orders of magnitude larger.\n",
    "\n",
    "I'd be saying nothing new if I pointed out that humans (we typically don't talk about that with other animals) have a hard time visualizing space with more than three dimensions. \n",
    "Even with [86 billion of neurons](https://en.wikipedia.org/wiki/List_of_animals_by_number_of_neurons) between their ears.\n",
    "At this point, several of you will be saying: \"but! Carl Sagan... bla, bla\"..\n",
    "In case you're too young, too old or simple had something else better to do and didn't watch that episode, just this short video and then get back – you won't regreat:"
   ]
  },
  {
   "cell_type": "markdown",
   "metadata": {},
   "source": [
    "> youtube: https://www.youtu.be/N0WjV6MmCyM"
   ]
  },
  {
   "cell_type": "markdown",
   "metadata": {},
   "source": [
    "Back to your data.\n",
    "People do all sorts of tricks to wrap their mind around those wild, high-dimensional data, living in spaces with really funky shapes and fundamentally counterintuitive to our daily spatial perception of the world.\n",
    "Here comes a whole zoo of [dimensionality reduction methods](https://en.wikipedia.org/wiki/Dimensionality_reduction) (e.g., PCA, tSNE) that project your data down to something your visual system can deal with. \n",
    "Of course, visualization is just one use case, but you may also want to store your data more efficiently or find outliers, or simply make life easier to your machine learning algorithm.\n",
    "We won't talk about those here.\n",
    "\n",
    "#### Why bother? *The good, the bad and the ugly* metric.\n",
    "Let's say you have your projected data in 2D, for example, after PCA.\n",
    "First things first: you might want to check if the projection that your method just spit out makes any sense at all.\n",
    "But, why, what can go wrong?\n",
    "Well, a lot.\n",
    "For instance, your dimensionality reduction method might be using an inappropiate metric.\n",
    "In other words, the algorithm could be using a notion of distance between points in the multidimensional space which does not capture some fundamental aspect of the funky space that those data points live in.\n",
    "Thus, further operations we do with/to our data might be strongly misleading.\n",
    "That is not what we want.\n",
    "To keep it concrete, just take a look at these nice examples from the [documentation of the UMAP library](https://umap-learn.readthedocs.io/en/latest/parameters.html#metric), where the effect of using different metrics is clearly depicted."
   ]
  },
  {
   "cell_type": "markdown",
   "metadata": {},
   "source": [
    "Some libraries, like UMAP, also allow you to [document your embedding](https://umap-learn.readthedocs.io/en/latest/document_embedding.html) or [plot interactive figures](https://umap-learn.readthedocs.io/en/latest/plotting.html).\n",
    "But you might have a tougher luck this time around and just get a cloud of unintelligible points scattered when you plot the 2D-projected data.\n",
    "In that case, you might find it useful to interact with it by looking at the labels of your data.\n",
    "The labels can be anything, like known categories of your data or the result of your favourite clustering method.\n",
    "\n",
    "That's what you came for :)\n",
    "So without further ado, on to the code."
   ]
  },
  {
   "cell_type": "code",
   "execution_count": 12,
   "metadata": {},
   "outputs": [],
   "source": [
    "#collapse-hide\n",
    "\n",
    "import pandas as pd\n",
    "from sklearn.datasets import load_digits\n",
    "from sklearn.manifold import TSNE\n",
    "from sklearn.cluster import KMeans\n",
    "import altair as alt\n",
    "\n",
    "\n",
    "def plot_interactive_embedding(\n",
    "    source=None,\n",
    "    x=None,\n",
    "    y=None,\n",
    "    target_col=None,\n",
    "    color_col=None,\n",
    "    alpha=0.9,\n",
    "    markersize=40,\n",
    "    grid=True,\n",
    "    max_n_show = 25,\n",
    "    figsize=(500, 500),\n",
    "    filename=None\n",
    "):\n",
    "    \"\"\"\n",
    "    Simple function for interactive visualization labels of a 2D embedding\n",
    "    (e.g., PCA projection).\n",
    "\n",
    "    Altair Chart is generated (as html), where one can brush over the scatter\n",
    "    plots and given labels are shown.\n",
    "    Color can be optionally mapped to values as well (e.g., to compare embedding\n",
    "    with a clustering method).\n",
    "\n",
    "    This is a quick adaptation of this example:\n",
    "    https://altair-viz.github.io/gallery/scatter_linked_table.html\n",
    "    \n",
    "    Parameters\n",
    "    ----------\n",
    "    source: pandas Dataframe\n",
    "        Data to plot.\n",
    "    x: str\n",
    "        Column name of x coordinate data.\n",
    "        This name will be also used as axis label.\n",
    "    y: str\n",
    "        Column name of y coordinate data.\n",
    "        This name will be also used as axis label.\n",
    "    target_col: str\n",
    "        Column name of target data, i.e., the labels to brush over.\n",
    "    color_col: str, optional. Default None.\n",
    "        Column name of data encoding color.\n",
    "        If None, all points will have same color.\n",
    "    alpha: float (0-1), optional. Default .9.\n",
    "        Opacity of points.\n",
    "    markersize: float, int, optional. Default 40.\n",
    "        Size of the points.\n",
    "    grid: bool, optional. Default True.\n",
    "        Grid in the background. Set to False to remove it.\n",
    "    max_n_show: int, optional. Dafault 25.\n",
    "        Maximum number of (target) labels to show when brushing over the points.\n",
    "    figsize: tuple (floats), optional. Default (500, 500).\n",
    "        Values for (width, height)\n",
    "    filename: str, optional. Default None.\n",
    "        If given, the chart will be saved.\n",
    "        The name must include extension - one of [.json, .html, .svg, .png].\n",
    "\n",
    "    Returns\n",
    "    -------\n",
    "    chart: Altair Chart\n",
    "        Instance of chart for further tweaking\n",
    "\n",
    "    \"\"\"\n",
    "    width, height = figsize\n",
    "    # Brush for selection\n",
    "    brush = alt.selection(type='interval')\n",
    "\n",
    "    # Scatter Plot\n",
    "    points = alt.Chart(\n",
    "        source,\n",
    "        width=width,\n",
    "        height=height\n",
    "    ).mark_circle(size=markersize).encode(\n",
    "        x=x,\n",
    "        y=y,\n",
    "        color=alt.value('steelblue')\n",
    "              if color_col is None\n",
    "              else alt.Color(color_col+\":N\", scale=alt.Scale(scheme='Spectral'))\n",
    "\n",
    "    ).add_selection(brush)\n",
    "\n",
    "    # Base chart for data tables\n",
    "    ranked_text = alt.Chart(source).mark_text().encode(\n",
    "        y=alt.Y('row_number:O',axis=None)\n",
    "    ).transform_window(\n",
    "        row_number='row_number()'\n",
    "    ).transform_filter(\n",
    "        brush\n",
    "    ).transform_window(\n",
    "        rank='rank(row_number)'\n",
    "    ).transform_filter(\n",
    "        alt.datum.rank < max_n_show\n",
    "    )\n",
    "\n",
    "    # Data Tables\n",
    "    text = ranked_text.encode(text=target_col+\":N\").properties(title=target_col)\n",
    "\n",
    "    chart = alt.hconcat(\n",
    "    points,\n",
    "    text,\n",
    "    ).configure_axis(grid=grid)\n",
    "\n",
    "    if filename:\n",
    "        chart.save(filename)\n",
    "\n",
    "    return chart"
   ]
  },
  {
   "cell_type": "code",
   "execution_count": 17,
   "metadata": {},
   "outputs": [
    {
     "data": {
      "application/vnd.vegalite.v3+json": {
       "$schema": "https://vega.github.io/schema/vega-lite/v3.4.0.json",
       "config": {
        "axis": {
         "grid": true
        },
        "mark": {
         "tooltip": null
        },
        "view": {
         "height": 300,
         "width": 400
        }
       },
       "data": {
        "name": "data-39dcea1abbdff5cccf4d5da0a925726a"
       },
       "datasets": {
        "data-39dcea1abbdff5cccf4d5da0a925726a": [
         {
          "KM-label": 1,
          "digit": 0,
          "tSNE-1": 40.044189453125,
          "tSNE-2": -0.9280431270599365
         },
         {
          "KM-label": 6,
          "digit": 1,
          "tSNE-1": 4.359930515289307,
          "tSNE-2": -16.244361877441406
         },
         {
          "KM-label": 6,
          "digit": 2,
          "tSNE-1": -22.044973373413086,
          "tSNE-2": -10.765443801879883
         },
         {
          "KM-label": 8,
          "digit": 3,
          "tSNE-1": -26.290752410888672,
          "tSNE-2": 6.982556343078613
         },
         {
          "KM-label": 5,
          "digit": 4,
          "tSNE-1": 18.251564025878906,
          "tSNE-2": -32.70037841796875
         },
         {
          "KM-label": 4,
          "digit": 5,
          "tSNE-1": -9.839276313781738,
          "tSNE-2": 18.45177459716797
         },
         {
          "KM-label": 7,
          "digit": 6,
          "tSNE-1": 19.181013107299805,
          "tSNE-2": 26.317726135253906
         },
         {
          "KM-label": 2,
          "digit": 7,
          "tSNE-1": -24.862674713134766,
          "tSNE-2": -26.23113250732422
         },
         {
          "KM-label": 4,
          "digit": 8,
          "tSNE-1": -14.834821701049805,
          "tSNE-2": -1.5314751863479614
         },
         {
          "KM-label": 4,
          "digit": 9,
          "tSNE-1": -6.305395603179932,
          "tSNE-2": 14.407124519348145
         },
         {
          "KM-label": 1,
          "digit": 0,
          "tSNE-1": 39.001155853271484,
          "tSNE-2": 1.737225890159607
         },
         {
          "KM-label": 9,
          "digit": 1,
          "tSNE-1": 7.452938556671143,
          "tSNE-2": -24.15423011779785
         },
         {
          "KM-label": 0,
          "digit": 2,
          "tSNE-1": -24.09381866455078,
          "tSNE-2": 33.77999496459961
         },
         {
          "KM-label": 8,
          "digit": 3,
          "tSNE-1": -33.44348907470703,
          "tSNE-2": 2.4001691341400146
         },
         {
          "KM-label": 5,
          "digit": 4,
          "tSNE-1": 14.968266487121582,
          "tSNE-2": -36.283382415771484
         },
         {
          "KM-label": 3,
          "digit": 5,
          "tSNE-1": 14.176918983459473,
          "tSNE-2": 1.796218752861023
         },
         {
          "KM-label": 7,
          "digit": 6,
          "tSNE-1": 23.439876556396484,
          "tSNE-2": 23.963960647583008
         },
         {
          "KM-label": 2,
          "digit": 7,
          "tSNE-1": -20.386484146118164,
          "tSNE-2": -32.36822509765625
         },
         {
          "KM-label": 6,
          "digit": 8,
          "tSNE-1": -12.348057746887207,
          "tSNE-2": -9.191370964050293
         },
         {
          "KM-label": 4,
          "digit": 9,
          "tSNE-1": -11.583453178405762,
          "tSNE-2": 20.447002410888672
         },
         {
          "KM-label": 1,
          "digit": 0,
          "tSNE-1": 35.376949310302734,
          "tSNE-2": -7.832508087158203
         },
         {
          "KM-label": 9,
          "digit": 1,
          "tSNE-1": 5.345094680786133,
          "tSNE-2": -22.87968635559082
         },
         {
          "KM-label": 0,
          "digit": 2,
          "tSNE-1": -26.888198852539062,
          "tSNE-2": 31.736774444580078
         },
         {
          "KM-label": 8,
          "digit": 3,
          "tSNE-1": -36.30344772338867,
          "tSNE-2": -2.1957528591156006
         },
         {
          "KM-label": 5,
          "digit": 4,
          "tSNE-1": 16.516189575195312,
          "tSNE-2": -32.05655288696289
         },
         {
          "KM-label": 3,
          "digit": 5,
          "tSNE-1": 17.832239151000977,
          "tSNE-2": 0.2738294303417206
         },
         {
          "KM-label": 7,
          "digit": 6,
          "tSNE-1": 18.457958221435547,
          "tSNE-2": 26.97081756591797
         },
         {
          "KM-label": 9,
          "digit": 7,
          "tSNE-1": -18.24101448059082,
          "tSNE-2": -38.376216888427734
         },
         {
          "KM-label": 6,
          "digit": 8,
          "tSNE-1": -13.48940372467041,
          "tSNE-2": -6.028647422790527
         },
         {
          "KM-label": 4,
          "digit": 9,
          "tSNE-1": -11.26142406463623,
          "tSNE-2": 19.916339874267578
         },
         {
          "KM-label": 1,
          "digit": 0,
          "tSNE-1": 39.18422317504883,
          "tSNE-2": -11.975345611572266
         },
         {
          "KM-label": 4,
          "digit": 9,
          "tSNE-1": -11.502381324768066,
          "tSNE-2": 20.828350067138672
         },
         {
          "KM-label": 3,
          "digit": 5,
          "tSNE-1": 10.499825477600098,
          "tSNE-2": 6.445777416229248
         },
         {
          "KM-label": 3,
          "digit": 5,
          "tSNE-1": 9.71563720703125,
          "tSNE-2": 1.3622667789459229
         },
         {
          "KM-label": 7,
          "digit": 6,
          "tSNE-1": 22.411846160888672,
          "tSNE-2": 23.393753051757812
         },
         {
          "KM-label": 3,
          "digit": 5,
          "tSNE-1": 9.654509544372559,
          "tSNE-2": 1.343840479850769
         },
         {
          "KM-label": 1,
          "digit": 0,
          "tSNE-1": 36.66638946533203,
          "tSNE-2": -9.858208656311035
         },
         {
          "KM-label": 4,
          "digit": 9,
          "tSNE-1": -12.510571479797363,
          "tSNE-2": 17.93691635131836
         },
         {
          "KM-label": 6,
          "digit": 8,
          "tSNE-1": -9.662176132202148,
          "tSNE-2": -10.455817222595215
         },
         {
          "KM-label": 4,
          "digit": 9,
          "tSNE-1": -2.261415719985962,
          "tSNE-2": 23.795433044433594
         },
         {
          "KM-label": 6,
          "digit": 8,
          "tSNE-1": -13.335945129394531,
          "tSNE-2": -6.892416477203369
         },
         {
          "KM-label": 5,
          "digit": 4,
          "tSNE-1": 14.972410202026367,
          "tSNE-2": -37.44313049316406
         },
         {
          "KM-label": 9,
          "digit": 1,
          "tSNE-1": 7.204419136047363,
          "tSNE-2": -22.475902557373047
         },
         {
          "KM-label": 2,
          "digit": 7,
          "tSNE-1": -19.914453506469727,
          "tSNE-2": -34.810394287109375
         },
         {
          "KM-label": 2,
          "digit": 7,
          "tSNE-1": -25.379884719848633,
          "tSNE-2": -26.80904769897461
         },
         {
          "KM-label": 8,
          "digit": 3,
          "tSNE-1": -36.0291862487793,
          "tSNE-2": 2.677182912826538
         },
         {
          "KM-label": 3,
          "digit": 5,
          "tSNE-1": 9.79104232788086,
          "tSNE-2": 0.390746146440506
         },
         {
          "KM-label": 9,
          "digit": 1,
          "tSNE-1": 6.415552616119385,
          "tSNE-2": -21.27838706970215
         },
         {
          "KM-label": 1,
          "digit": 0,
          "tSNE-1": 41.87675476074219,
          "tSNE-2": 1.3478264808654785
         },
         {
          "KM-label": 1,
          "digit": 0,
          "tSNE-1": 42.438743591308594,
          "tSNE-2": -4.631730079650879
         },
         {
          "KM-label": 6,
          "digit": 2,
          "tSNE-1": -23.10407257080078,
          "tSNE-2": -10.511345863342285
         },
         {
          "KM-label": 6,
          "digit": 2,
          "tSNE-1": -22.366106033325195,
          "tSNE-2": -11.46939754486084
         },
         {
          "KM-label": 2,
          "digit": 7,
          "tSNE-1": -19.48036766052246,
          "tSNE-2": -35.595985412597656
         },
         {
          "KM-label": 6,
          "digit": 8,
          "tSNE-1": -11.402148246765137,
          "tSNE-2": -6.1317572593688965
         },
         {
          "KM-label": 2,
          "digit": 2,
          "tSNE-1": -22.294998168945312,
          "tSNE-2": -11.624979972839355
         },
         {
          "KM-label": 1,
          "digit": 0,
          "tSNE-1": 34.566036224365234,
          "tSNE-2": -8.332985877990723
         },
         {
          "KM-label": 9,
          "digit": 1,
          "tSNE-1": 6.0467448234558105,
          "tSNE-2": -21.95871353149414
         },
         {
          "KM-label": 6,
          "digit": 2,
          "tSNE-1": -22.078235626220703,
          "tSNE-2": -10.92680549621582
         },
         {
          "KM-label": 7,
          "digit": 6,
          "tSNE-1": 19.253934860229492,
          "tSNE-2": 27.202829360961914
         },
         {
          "KM-label": 8,
          "digit": 3,
          "tSNE-1": -33.40696716308594,
          "tSNE-2": 0.11900780349969864
         },
         {
          "KM-label": 8,
          "digit": 3,
          "tSNE-1": -35.92892074584961,
          "tSNE-2": 2.267298936843872
         },
         {
          "KM-label": 2,
          "digit": 7,
          "tSNE-1": -20.25368309020996,
          "tSNE-2": -32.96376037597656
         },
         {
          "KM-label": 8,
          "digit": 3,
          "tSNE-1": -36.31034851074219,
          "tSNE-2": 1.7125786542892456
         },
         {
          "KM-label": 8,
          "digit": 3,
          "tSNE-1": -35.0245475769043,
          "tSNE-2": 0.05052531138062477
         },
         {
          "KM-label": 5,
          "digit": 4,
          "tSNE-1": 17.39980697631836,
          "tSNE-2": -35.62434005737305
         },
         {
          "KM-label": 7,
          "digit": 6,
          "tSNE-1": 23.610084533691406,
          "tSNE-2": 26.943470001220703
         },
         {
          "KM-label": 7,
          "digit": 6,
          "tSNE-1": 19.169607162475586,
          "tSNE-2": 26.621980667114258
         },
         {
          "KM-label": 7,
          "digit": 6,
          "tSNE-1": 23.047033309936523,
          "tSNE-2": 34.68526077270508
         },
         {
          "KM-label": 5,
          "digit": 4,
          "tSNE-1": 11.675864219665527,
          "tSNE-2": -39.25885009765625
         },
         {
          "KM-label": 2,
          "digit": 9,
          "tSNE-1": -13.626941680908203,
          "tSNE-2": -17.52442741394043
         },
         {
          "KM-label": 9,
          "digit": 1,
          "tSNE-1": 6.27335786819458,
          "tSNE-2": -20.459205627441406
         },
         {
          "KM-label": 3,
          "digit": 5,
          "tSNE-1": 10.983770370483398,
          "tSNE-2": 5.639443397521973
         },
         {
          "KM-label": 1,
          "digit": 0,
          "tSNE-1": 34.089847564697266,
          "tSNE-2": -7.241036891937256
         },
         {
          "KM-label": 4,
          "digit": 9,
          "tSNE-1": -10.414175987243652,
          "tSNE-2": 19.24797821044922
         },
         {
          "KM-label": 3,
          "digit": 5,
          "tSNE-1": 14.676864624023438,
          "tSNE-2": 7.665070533752441
         },
         {
          "KM-label": 9,
          "digit": 2,
          "tSNE-1": -22.17650604248047,
          "tSNE-2": -11.785545349121094
         },
         {
          "KM-label": 6,
          "digit": 8,
          "tSNE-1": -9.116853713989258,
          "tSNE-2": -7.658973693847656
         },
         {
          "KM-label": 9,
          "digit": 2,
          "tSNE-1": -22.078025817871094,
          "tSNE-2": -12.125141143798828
         },
         {
          "KM-label": 1,
          "digit": 0,
          "tSNE-1": 44.73271560668945,
          "tSNE-2": -5.011510372161865
         },
         {
          "KM-label": 1,
          "digit": 0,
          "tSNE-1": 42.78281784057617,
          "tSNE-2": -5.974856376647949
         },
         {
          "KM-label": 9,
          "digit": 1,
          "tSNE-1": 5.850306034088135,
          "tSNE-2": -21.89689826965332
         },
         {
          "KM-label": 2,
          "digit": 7,
          "tSNE-1": -23.97170066833496,
          "tSNE-2": -29.796648025512695
         },
         {
          "KM-label": 7,
          "digit": 6,
          "tSNE-1": 18.903846740722656,
          "tSNE-2": 26.534963607788086
         },
         {
          "KM-label": 8,
          "digit": 3,
          "tSNE-1": -36.67234802246094,
          "tSNE-2": -0.16166028380393982
         },
         {
          "KM-label": 0,
          "digit": 2,
          "tSNE-1": -31.52590560913086,
          "tSNE-2": 35.70781707763672
         },
         {
          "KM-label": 6,
          "digit": 1,
          "tSNE-1": 7.503841876983643,
          "tSNE-2": -21.289928436279297
         },
         {
          "KM-label": 2,
          "digit": 7,
          "tSNE-1": -16.79206085205078,
          "tSNE-2": -36.92573928833008
         },
         {
          "KM-label": 5,
          "digit": 4,
          "tSNE-1": 8.366694450378418,
          "tSNE-2": -39.15531921386719
         },
         {
          "KM-label": 7,
          "digit": 6,
          "tSNE-1": 20.5902156829834,
          "tSNE-2": 25.593347549438477
         },
         {
          "KM-label": 8,
          "digit": 3,
          "tSNE-1": -36.41454315185547,
          "tSNE-2": 1.2638683319091797
         },
         {
          "KM-label": 9,
          "digit": 1,
          "tSNE-1": 7.346537113189697,
          "tSNE-2": -22.493913650512695
         },
         {
          "KM-label": 8,
          "digit": 3,
          "tSNE-1": -34.97250747680664,
          "tSNE-2": -0.7906855940818787
         },
         {
          "KM-label": 8,
          "digit": 9,
          "tSNE-1": -1.0526100397109985,
          "tSNE-2": 23.71422004699707
         },
         {
          "KM-label": 6,
          "digit": 1,
          "tSNE-1": 4.529284954071045,
          "tSNE-2": -16.386123657226562
         },
         {
          "KM-label": 2,
          "digit": 7,
          "tSNE-1": -20.04901123046875,
          "tSNE-2": -30.47480010986328
         },
         {
          "KM-label": 6,
          "digit": 6,
          "tSNE-1": 16.94600486755371,
          "tSNE-2": 26.831708908081055
         },
         {
          "KM-label": 6,
          "digit": 8,
          "tSNE-1": -10.312499046325684,
          "tSNE-2": -9.524163246154785
         },
         {
          "KM-label": 5,
          "digit": 4,
          "tSNE-1": 16.64678192138672,
          "tSNE-2": -32.780948638916016
         },
         {
          "KM-label": 8,
          "digit": 3,
          "tSNE-1": -35.688743591308594,
          "tSNE-2": -0.21543294191360474
         },
         {
          "KM-label": 6,
          "digit": 1,
          "tSNE-1": 2.168466806411743,
          "tSNE-2": -9.208271026611328
         },
         {
          "KM-label": 5,
          "digit": 4,
          "tSNE-1": 16.968799591064453,
          "tSNE-2": -32.7357292175293
         },
         {
          "KM-label": 1,
          "digit": 0,
          "tSNE-1": 32.964778900146484,
          "tSNE-2": -6.400124549865723
         },
         {
          "KM-label": 3,
          "digit": 5,
          "tSNE-1": 14.756084442138672,
          "tSNE-2": 6.649177551269531
         },
         {
          "KM-label": 2,
          "digit": 3,
          "tSNE-1": -30.133975982666016,
          "tSNE-2": -7.02883243560791
         },
         {
          "KM-label": 7,
          "digit": 6,
          "tSNE-1": 17.877304077148438,
          "tSNE-2": 28.70132064819336
         },
         {
          "KM-label": 4,
          "digit": 9,
          "tSNE-1": -10.421906471252441,
          "tSNE-2": 21.39078712463379
         },
         {
          "KM-label": 7,
          "digit": 6,
          "tSNE-1": 19.319801330566406,
          "tSNE-2": 23.783374786376953
         },
         {
          "KM-label": 9,
          "digit": 1,
          "tSNE-1": 6.666831970214844,
          "tSNE-2": -25.284513473510742
         },
         {
          "KM-label": 2,
          "digit": 7,
          "tSNE-1": -19.97149658203125,
          "tSNE-2": -33.93964767456055
         },
         {
          "KM-label": 3,
          "digit": 5,
          "tSNE-1": 16.252531051635742,
          "tSNE-2": 0.9330112934112549
         },
         {
          "KM-label": 5,
          "digit": 4,
          "tSNE-1": 11.742462158203125,
          "tSNE-2": -40.70062255859375
         },
         {
          "KM-label": 5,
          "digit": 4,
          "tSNE-1": 12.13432502746582,
          "tSNE-2": -39.457740783691406
         },
         {
          "KM-label": 2,
          "digit": 7,
          "tSNE-1": -22.929126739501953,
          "tSNE-2": -31.13922119140625
         },
         {
          "KM-label": 0,
          "digit": 2,
          "tSNE-1": -27.525001525878906,
          "tSNE-2": 30.010196685791016
         },
         {
          "KM-label": 6,
          "digit": 8,
          "tSNE-1": -10.118658065795898,
          "tSNE-2": -5.959381580352783
         },
         {
          "KM-label": 6,
          "digit": 2,
          "tSNE-1": -22.875303268432617,
          "tSNE-2": -10.869515419006348
         },
         {
          "KM-label": 6,
          "digit": 2,
          "tSNE-1": -23.285158157348633,
          "tSNE-2": -10.426544189453125
         },
         {
          "KM-label": 3,
          "digit": 5,
          "tSNE-1": 14.340081214904785,
          "tSNE-2": -0.9133419990539551
         },
         {
          "KM-label": 2,
          "digit": 7,
          "tSNE-1": -21.86652946472168,
          "tSNE-2": -33.08438491821289
         },
         {
          "KM-label": 4,
          "digit": 9,
          "tSNE-1": -10.022647857666016,
          "tSNE-2": 22.54741668701172
         },
         {
          "KM-label": 3,
          "digit": 5,
          "tSNE-1": 9.188175201416016,
          "tSNE-2": 1.3604825735092163
         },
         {
          "KM-label": 5,
          "digit": 4,
          "tSNE-1": 8.55703067779541,
          "tSNE-2": -39.19252014160156
         },
         {
          "KM-label": 6,
          "digit": 8,
          "tSNE-1": -13.942795753479004,
          "tSNE-2": -8.093208312988281
         },
         {
          "KM-label": 6,
          "digit": 8,
          "tSNE-1": -15.623455047607422,
          "tSNE-2": -5.501655101776123
         },
         {
          "KM-label": 5,
          "digit": 4,
          "tSNE-1": 14.948101043701172,
          "tSNE-2": -37.771575927734375
         },
         {
          "KM-label": 4,
          "digit": 9,
          "tSNE-1": -8.461638450622559,
          "tSNE-2": 15.7517728805542
         },
         {
          "KM-label": 1,
          "digit": 0,
          "tSNE-1": 34.07411193847656,
          "tSNE-2": -7.455636501312256
         },
         {
          "KM-label": 6,
          "digit": 8,
          "tSNE-1": -9.314906120300293,
          "tSNE-2": -10.567177772521973
         },
         {
          "KM-label": 4,
          "digit": 9,
          "tSNE-1": 0.5274186134338379,
          "tSNE-2": 22.543487548828125
         },
         {
          "KM-label": 6,
          "digit": 8,
          "tSNE-1": 0.4612920880317688,
          "tSNE-2": -8.545354843139648
         },
         {
          "KM-label": 1,
          "digit": 0,
          "tSNE-1": 41.31781768798828,
          "tSNE-2": -3.7467331886291504
         },
         {
          "KM-label": 9,
          "digit": 1,
          "tSNE-1": 3.6068220138549805,
          "tSNE-2": -25.858675003051758
         },
         {
          "KM-label": 0,
          "digit": 2,
          "tSNE-1": -32.911964416503906,
          "tSNE-2": 34.30166244506836
         },
         {
          "KM-label": 8,
          "digit": 3,
          "tSNE-1": -36.52202224731445,
          "tSNE-2": -0.9736810922622681
         },
         {
          "KM-label": 5,
          "digit": 4,
          "tSNE-1": 14.857093811035156,
          "tSNE-2": -25.573854446411133
         },
         {
          "KM-label": 3,
          "digit": 5,
          "tSNE-1": 15.585736274719238,
          "tSNE-2": -1.6856026649475098
         },
         {
          "KM-label": 7,
          "digit": 6,
          "tSNE-1": 28.34676170349121,
          "tSNE-2": 32.11246109008789
         },
         {
          "KM-label": 2,
          "digit": 7,
          "tSNE-1": -25.346393585205078,
          "tSNE-2": -33.274330139160156
         },
         {
          "KM-label": 6,
          "digit": 8,
          "tSNE-1": -13.387006759643555,
          "tSNE-2": -4.260855197906494
         },
         {
          "KM-label": 4,
          "digit": 9,
          "tSNE-1": -9.152922630310059,
          "tSNE-2": 20.737001419067383
         },
         {
          "KM-label": 1,
          "digit": 0,
          "tSNE-1": 39.7014045715332,
          "tSNE-2": -8.25541877746582
         },
         {
          "KM-label": 9,
          "digit": 1,
          "tSNE-1": 6.087124824523926,
          "tSNE-2": -25.447036743164062
         },
         {
          "KM-label": 0,
          "digit": 2,
          "tSNE-1": -34.05201721191406,
          "tSNE-2": 31.87333869934082
         },
         {
          "KM-label": 8,
          "digit": 3,
          "tSNE-1": -36.7850227355957,
          "tSNE-2": 1.7314752340316772
         },
         {
          "KM-label": 5,
          "digit": 4,
          "tSNE-1": 15.79432201385498,
          "tSNE-2": -25.704120635986328
         },
         {
          "KM-label": 3,
          "digit": 5,
          "tSNE-1": 13.469306945800781,
          "tSNE-2": 0.039849910885095596
         },
         {
          "KM-label": 7,
          "digit": 6,
          "tSNE-1": 27.140419006347656,
          "tSNE-2": 23.591588973999023
         },
         {
          "KM-label": 2,
          "digit": 7,
          "tSNE-1": -25.89301300048828,
          "tSNE-2": -33.41206741333008
         },
         {
          "KM-label": 6,
          "digit": 8,
          "tSNE-1": -9.949132919311523,
          "tSNE-2": -2.939318895339966
         },
         {
          "KM-label": 4,
          "digit": 9,
          "tSNE-1": -8.864126205444336,
          "tSNE-2": 18.63459587097168
         },
         {
          "KM-label": 1,
          "digit": 0,
          "tSNE-1": 33.48426818847656,
          "tSNE-2": -5.932252883911133
         },
         {
          "KM-label": 9,
          "digit": 1,
          "tSNE-1": 5.300544261932373,
          "tSNE-2": -26.176851272583008
         },
         {
          "KM-label": 0,
          "digit": 2,
          "tSNE-1": -27.45033836364746,
          "tSNE-2": 26.822668075561523
         },
         {
          "KM-label": 8,
          "digit": 3,
          "tSNE-1": -36.399322509765625,
          "tSNE-2": -1.4794483184814453
         },
         {
          "KM-label": 5,
          "digit": 4,
          "tSNE-1": 16.01744842529297,
          "tSNE-2": -27.37248420715332
         },
         {
          "KM-label": 3,
          "digit": 5,
          "tSNE-1": 18.298498153686523,
          "tSNE-2": -4.282589435577393
         },
         {
          "KM-label": 7,
          "digit": 6,
          "tSNE-1": 20.663461685180664,
          "tSNE-2": 26.242082595825195
         },
         {
          "KM-label": 2,
          "digit": 7,
          "tSNE-1": -28.285114288330078,
          "tSNE-2": -32.05618667602539
         },
         {
          "KM-label": 6,
          "digit": 8,
          "tSNE-1": -15.15676498413086,
          "tSNE-2": -7.440193176269531
         },
         {
          "KM-label": 4,
          "digit": 9,
          "tSNE-1": -9.032004356384277,
          "tSNE-2": 19.916536331176758
         },
         {
          "KM-label": 1,
          "digit": 0,
          "tSNE-1": 37.61418151855469,
          "tSNE-2": -9.2567720413208
         },
         {
          "KM-label": 8,
          "digit": 9,
          "tSNE-1": -9.685897827148438,
          "tSNE-2": 20.07432746887207
         },
         {
          "KM-label": 3,
          "digit": 5,
          "tSNE-1": 14.536971092224121,
          "tSNE-2": -0.3610146641731262
         },
         {
          "KM-label": 3,
          "digit": 5,
          "tSNE-1": 17.44365119934082,
          "tSNE-2": -3.7166335582733154
         },
         {
          "KM-label": 7,
          "digit": 6,
          "tSNE-1": 24.258899688720703,
          "tSNE-2": 34.67538833618164
         },
         {
          "KM-label": 3,
          "digit": 5,
          "tSNE-1": 16.140968322753906,
          "tSNE-2": -2.8656396865844727
         },
         {
          "KM-label": 1,
          "digit": 0,
          "tSNE-1": 38.9841194152832,
          "tSNE-2": -6.394068241119385
         },
         {
          "KM-label": 4,
          "digit": 9,
          "tSNE-1": -8.039939880371094,
          "tSNE-2": 22.19485855102539
         },
         {
          "KM-label": 6,
          "digit": 8,
          "tSNE-1": -13.370062828063965,
          "tSNE-2": -4.483311653137207
         },
         {
          "KM-label": 4,
          "digit": 9,
          "tSNE-1": -9.474433898925781,
          "tSNE-2": 21.093772888183594
         },
         {
          "KM-label": 6,
          "digit": 8,
          "tSNE-1": -19.201438903808594,
          "tSNE-2": -2.494246482849121
         },
         {
          "KM-label": 5,
          "digit": 4,
          "tSNE-1": 16.980113983154297,
          "tSNE-2": -25.74365997314453
         },
         {
          "KM-label": 9,
          "digit": 1,
          "tSNE-1": 4.986449241638184,
          "tSNE-2": -24.517908096313477
         },
         {
          "KM-label": 2,
          "digit": 7,
          "tSNE-1": -20.116191864013672,
          "tSNE-2": -36.29533004760742
         },
         {
          "KM-label": 2,
          "digit": 7,
          "tSNE-1": -17.128623962402344,
          "tSNE-2": -33.12458038330078
         },
         {
          "KM-label": 8,
          "digit": 3,
          "tSNE-1": -33.92500305175781,
          "tSNE-2": -0.3783247172832489
         },
         {
          "KM-label": 3,
          "digit": 5,
          "tSNE-1": 15.262134552001953,
          "tSNE-2": -0.2494921237230301
         },
         {
          "KM-label": 9,
          "digit": 1,
          "tSNE-1": 4.924307823181152,
          "tSNE-2": -25.907569885253906
         },
         {
          "KM-label": 1,
          "digit": 0,
          "tSNE-1": 42.985286712646484,
          "tSNE-2": -6.475738525390625
         },
         {
          "KM-label": 1,
          "digit": 0,
          "tSNE-1": 34.08831024169922,
          "tSNE-2": -8.466387748718262
         },
         {
          "KM-label": 0,
          "digit": 2,
          "tSNE-1": -34.29644775390625,
          "tSNE-2": 29.820858001708984
         },
         {
          "KM-label": 0,
          "digit": 2,
          "tSNE-1": -33.69764709472656,
          "tSNE-2": 31.41952896118164
         },
         {
          "KM-label": 2,
          "digit": 7,
          "tSNE-1": -25.32428741455078,
          "tSNE-2": -32.1057014465332
         },
         {
          "KM-label": 6,
          "digit": 8,
          "tSNE-1": -15.075390815734863,
          "tSNE-2": -4.426950931549072
         },
         {
          "KM-label": 0,
          "digit": 2,
          "tSNE-1": -32.795021057128906,
          "tSNE-2": 37.18280029296875
         },
         {
          "KM-label": 1,
          "digit": 0,
          "tSNE-1": 33.9389762878418,
          "tSNE-2": -7.5498127937316895
         },
         {
          "KM-label": 9,
          "digit": 1,
          "tSNE-1": 4.77787971496582,
          "tSNE-2": -23.64807891845703
         },
         {
          "KM-label": 0,
          "digit": 2,
          "tSNE-1": -29.912076950073242,
          "tSNE-2": 38.11164093017578
         },
         {
          "KM-label": 7,
          "digit": 6,
          "tSNE-1": 22.27377700805664,
          "tSNE-2": 33.28229522705078
         },
         {
          "KM-label": 8,
          "digit": 3,
          "tSNE-1": -37.07184982299805,
          "tSNE-2": 1.8691909313201904
         },
         {
          "KM-label": 8,
          "digit": 3,
          "tSNE-1": -37.07197570800781,
          "tSNE-2": 0.7059335708618164
         },
         {
          "KM-label": 2,
          "digit": 7,
          "tSNE-1": -30.098955154418945,
          "tSNE-2": -32.475547790527344
         },
         {
          "KM-label": 8,
          "digit": 3,
          "tSNE-1": -37.40614318847656,
          "tSNE-2": -1.8091365098953247
         },
         {
          "KM-label": 8,
          "digit": 3,
          "tSNE-1": -35.928955078125,
          "tSNE-2": 0.9619500637054443
         },
         {
          "KM-label": 5,
          "digit": 4,
          "tSNE-1": 17.733285903930664,
          "tSNE-2": -27.700315475463867
         },
         {
          "KM-label": 7,
          "digit": 6,
          "tSNE-1": 21.237930297851562,
          "tSNE-2": 26.034961700439453
         },
         {
          "KM-label": 7,
          "digit": 6,
          "tSNE-1": 22.384902954101562,
          "tSNE-2": 33.283748626708984
         },
         {
          "KM-label": 7,
          "digit": 6,
          "tSNE-1": 24.441774368286133,
          "tSNE-2": 34.013065338134766
         },
         {
          "KM-label": 6,
          "digit": 4,
          "tSNE-1": 18.255990982055664,
          "tSNE-2": -26.025121688842773
         },
         {
          "KM-label": 4,
          "digit": 9,
          "tSNE-1": -7.992882251739502,
          "tSNE-2": 18.218828201293945
         },
         {
          "KM-label": 9,
          "digit": 1,
          "tSNE-1": 7.609811782836914,
          "tSNE-2": -25.00999641418457
         },
         {
          "KM-label": 3,
          "digit": 5,
          "tSNE-1": 15.719016075134277,
          "tSNE-2": -0.8210915327072144
         },
         {
          "KM-label": 1,
          "digit": 0,
          "tSNE-1": 40.67354965209961,
          "tSNE-2": -6.869227409362793
         },
         {
          "KM-label": 4,
          "digit": 9,
          "tSNE-1": -5.935398101806641,
          "tSNE-2": 16.771114349365234
         },
         {
          "KM-label": 3,
          "digit": 5,
          "tSNE-1": 17.880727767944336,
          "tSNE-2": -4.409139633178711
         },
         {
          "KM-label": 0,
          "digit": 2,
          "tSNE-1": -27.653276443481445,
          "tSNE-2": 26.456254959106445
         },
         {
          "KM-label": 6,
          "digit": 8,
          "tSNE-1": -19.06096649169922,
          "tSNE-2": -2.3724746704101562
         },
         {
          "KM-label": 0,
          "digit": 2,
          "tSNE-1": -33.93806457519531,
          "tSNE-2": 30.50196075439453
         },
         {
          "KM-label": 1,
          "digit": 0,
          "tSNE-1": 35.137996673583984,
          "tSNE-2": -9.081604957580566
         },
         {
          "KM-label": 1,
          "digit": 0,
          "tSNE-1": 33.03759765625,
          "tSNE-2": -6.8958210945129395
         },
         {
          "KM-label": 9,
          "digit": 1,
          "tSNE-1": 5.089463710784912,
          "tSNE-2": -24.679058074951172
         },
         {
          "KM-label": 2,
          "digit": 7,
          "tSNE-1": -29.11212158203125,
          "tSNE-2": -25.749797821044922
         },
         {
          "KM-label": 7,
          "digit": 6,
          "tSNE-1": 22.77960205078125,
          "tSNE-2": 34.541263580322266
         },
         {
          "KM-label": 8,
          "digit": 3,
          "tSNE-1": -36.6422004699707,
          "tSNE-2": -0.1204158365726471
         },
         {
          "KM-label": 0,
          "digit": 2,
          "tSNE-1": -33.785484313964844,
          "tSNE-2": 31.97121238708496
         },
         {
          "KM-label": 9,
          "digit": 1,
          "tSNE-1": 8.112286567687988,
          "tSNE-2": -25.574352264404297
         },
         {
          "KM-label": 2,
          "digit": 7,
          "tSNE-1": -29.54451560974121,
          "tSNE-2": -32.508705139160156
         },
         {
          "KM-label": 8,
          "digit": 3,
          "tSNE-1": -36.94245529174805,
          "tSNE-2": -0.015519028529524803
         },
         {
          "KM-label": 9,
          "digit": 1,
          "tSNE-1": 5.3935675621032715,
          "tSNE-2": -26.22154426574707
         },
         {
          "KM-label": 8,
          "digit": 3,
          "tSNE-1": -35.81914138793945,
          "tSNE-2": 0.43085265159606934
         },
         {
          "KM-label": 4,
          "digit": 9,
          "tSNE-1": -5.08889627456665,
          "tSNE-2": 16.501523971557617
         },
         {
          "KM-label": 9,
          "digit": 1,
          "tSNE-1": 6.071855068206787,
          "tSNE-2": -23.686464309692383
         },
         {
          "KM-label": 2,
          "digit": 7,
          "tSNE-1": -21.543764114379883,
          "tSNE-2": -34.580657958984375
         },
         {
          "KM-label": 7,
          "digit": 6,
          "tSNE-1": 22.422138214111328,
          "tSNE-2": 24.267452239990234
         },
         {
          "KM-label": 6,
          "digit": 8,
          "tSNE-1": -17.84848403930664,
          "tSNE-2": -6.196146488189697
         },
         {
          "KM-label": 5,
          "digit": 4,
          "tSNE-1": 16.348379135131836,
          "tSNE-2": -25.97658920288086
         },
         {
          "KM-label": 8,
          "digit": 3,
          "tSNE-1": -37.151817321777344,
          "tSNE-2": -1.4819862842559814
         },
         {
          "KM-label": 9,
          "digit": 1,
          "tSNE-1": 7.477932453155518,
          "tSNE-2": -24.166973114013672
         },
         {
          "KM-label": 5,
          "digit": 4,
          "tSNE-1": 16.219594955444336,
          "tSNE-2": -26.307849884033203
         },
         {
          "KM-label": 1,
          "digit": 0,
          "tSNE-1": 42.28765869140625,
          "tSNE-2": -6.614310264587402
         },
         {
          "KM-label": 3,
          "digit": 5,
          "tSNE-1": 15.567028045654297,
          "tSNE-2": -2.728153705596924
         },
         {
          "KM-label": 2,
          "digit": 3,
          "tSNE-1": -36.3828125,
          "tSNE-2": -2.67328143119812
         },
         {
          "KM-label": 7,
          "digit": 6,
          "tSNE-1": 29.694738388061523,
          "tSNE-2": 26.666227340698242
         },
         {
          "KM-label": 4,
          "digit": 9,
          "tSNE-1": -9.333919525146484,
          "tSNE-2": 19.27353858947754
         },
         {
          "KM-label": 7,
          "digit": 6,
          "tSNE-1": 29.865819931030273,
          "tSNE-2": 32.370609283447266
         },
         {
          "KM-label": 9,
          "digit": 1,
          "tSNE-1": 6.112207889556885,
          "tSNE-2": -24.091135025024414
         },
         {
          "KM-label": 2,
          "digit": 7,
          "tSNE-1": -27.6019287109375,
          "tSNE-2": -31.342092514038086
         },
         {
          "KM-label": 3,
          "digit": 5,
          "tSNE-1": 16.069713592529297,
          "tSNE-2": -2.1108851432800293
         },
         {
          "KM-label": 6,
          "digit": 4,
          "tSNE-1": 18.248489379882812,
          "tSNE-2": -26.135757446289062
         },
         {
          "KM-label": 5,
          "digit": 4,
          "tSNE-1": 15.89684772491455,
          "tSNE-2": -26.856956481933594
         },
         {
          "KM-label": 2,
          "digit": 7,
          "tSNE-1": -29.144763946533203,
          "tSNE-2": -32.676204681396484
         },
         {
          "KM-label": 0,
          "digit": 2,
          "tSNE-1": -32.99443435668945,
          "tSNE-2": 37.423927307128906
         },
         {
          "KM-label": 6,
          "digit": 8,
          "tSNE-1": -14.675827026367188,
          "tSNE-2": -6.602273941040039
         },
         {
          "KM-label": 0,
          "digit": 2,
          "tSNE-1": -33.291297912597656,
          "tSNE-2": 37.22746658325195
         },
         {
          "KM-label": 0,
          "digit": 2,
          "tSNE-1": -34.602752685546875,
          "tSNE-2": 29.751914978027344
         },
         {
          "KM-label": 3,
          "digit": 5,
          "tSNE-1": 15.968302726745605,
          "tSNE-2": -2.8460397720336914
         },
         {
          "KM-label": 3,
          "digit": 5,
          "tSNE-1": 15.221365928649902,
          "tSNE-2": -1.9385017156600952
         },
         {
          "KM-label": 9,
          "digit": 4,
          "tSNE-1": 15.111279487609863,
          "tSNE-2": -27.232181549072266
         },
         {
          "KM-label": 6,
          "digit": 8,
          "tSNE-1": -14.768796920776367,
          "tSNE-2": -5.38212251663208
         },
         {
          "KM-label": 6,
          "digit": 8,
          "tSNE-1": -15.495772361755371,
          "tSNE-2": -5.255753040313721
         },
         {
          "KM-label": 5,
          "digit": 4,
          "tSNE-1": 15.811101913452148,
          "tSNE-2": -25.832439422607422
         },
         {
          "KM-label": 4,
          "digit": 9,
          "tSNE-1": -5.772723197937012,
          "tSNE-2": 13.911203384399414
         },
         {
          "KM-label": 1,
          "digit": 0,
          "tSNE-1": 35.671897888183594,
          "tSNE-2": -6.904813766479492
         },
         {
          "KM-label": 6,
          "digit": 8,
          "tSNE-1": -17.734949111938477,
          "tSNE-2": -6.194368362426758
         },
         {
          "KM-label": 4,
          "digit": 9,
          "tSNE-1": -5.9453444480896,
          "tSNE-2": 15.56059741973877
         },
         {
          "KM-label": 6,
          "digit": 8,
          "tSNE-1": -10.422686576843262,
          "tSNE-2": -5.670400619506836
         },
         {
          "KM-label": 1,
          "digit": 0,
          "tSNE-1": 39.04894256591797,
          "tSNE-2": 2.393378973007202
         },
         {
          "KM-label": 6,
          "digit": 1,
          "tSNE-1": -0.6956586837768555,
          "tSNE-2": -10.827590942382812
         },
         {
          "KM-label": 0,
          "digit": 2,
          "tSNE-1": -30.196657180786133,
          "tSNE-2": 32.4587287902832
         },
         {
          "KM-label": 8,
          "digit": 3,
          "tSNE-1": -25.913833618164062,
          "tSNE-2": 6.772680759429932
         },
         {
          "KM-label": 5,
          "digit": 4,
          "tSNE-1": 12.302773475646973,
          "tSNE-2": -39.52058029174805
         },
         {
          "KM-label": 4,
          "digit": 5,
          "tSNE-1": 6.264245510101318,
          "tSNE-2": 11.372807502746582
         },
         {
          "KM-label": 7,
          "digit": 6,
          "tSNE-1": 27.597719192504883,
          "tSNE-2": 32.61501693725586
         },
         {
          "KM-label": 2,
          "digit": 7,
          "tSNE-1": -21.49958038330078,
          "tSNE-2": -36.41294479370117
         },
         {
          "KM-label": 4,
          "digit": 8,
          "tSNE-1": -12.604877471923828,
          "tSNE-2": 3.372419834136963
         },
         {
          "KM-label": 3,
          "digit": 9,
          "tSNE-1": -9.688922882080078,
          "tSNE-2": -26.812725067138672
         },
         {
          "KM-label": 1,
          "digit": 0,
          "tSNE-1": 41.90521240234375,
          "tSNE-2": -8.791397094726562
         },
         {
          "KM-label": 6,
          "digit": 1,
          "tSNE-1": -2.9641146659851074,
          "tSNE-2": -15.573925018310547
         },
         {
          "KM-label": 0,
          "digit": 2,
          "tSNE-1": -30.19263458251953,
          "tSNE-2": 32.74665832519531
         },
         {
          "KM-label": 8,
          "digit": 3,
          "tSNE-1": -31.05790901184082,
          "tSNE-2": 4.682359218597412
         },
         {
          "KM-label": 5,
          "digit": 4,
          "tSNE-1": 13.87906265258789,
          "tSNE-2": -39.271244049072266
         },
         {
          "KM-label": 3,
          "digit": 5,
          "tSNE-1": 13.081591606140137,
          "tSNE-2": -0.6606501936912537
         },
         {
          "KM-label": 7,
          "digit": 6,
          "tSNE-1": 26.502870559692383,
          "tSNE-2": 31.618545532226562
         },
         {
          "KM-label": 2,
          "digit": 7,
          "tSNE-1": -25.39731216430664,
          "tSNE-2": -30.18824005126953
         },
         {
          "KM-label": 6,
          "digit": 8,
          "tSNE-1": -11.756964683532715,
          "tSNE-2": -12.062488555908203
         },
         {
          "KM-label": 2,
          "digit": 9,
          "tSNE-1": -9.952640533447266,
          "tSNE-2": -25.690046310424805
         },
         {
          "KM-label": 1,
          "digit": 0,
          "tSNE-1": 39.899566650390625,
          "tSNE-2": 1.2243428230285645
         },
         {
          "KM-label": 6,
          "digit": 1,
          "tSNE-1": -3.221285581588745,
          "tSNE-2": -14.359416961669922
         },
         {
          "KM-label": 0,
          "digit": 2,
          "tSNE-1": -31.53125762939453,
          "tSNE-2": 32.08582305908203
         },
         {
          "KM-label": 8,
          "digit": 3,
          "tSNE-1": -30.43658447265625,
          "tSNE-2": 10.105623245239258
         },
         {
          "KM-label": 5,
          "digit": 4,
          "tSNE-1": 13.387784957885742,
          "tSNE-2": -41.44029235839844
         },
         {
          "KM-label": 3,
          "digit": 5,
          "tSNE-1": 9.744720458984375,
          "tSNE-2": 8.827841758728027
         },
         {
          "KM-label": 7,
          "digit": 6,
          "tSNE-1": 24.1585750579834,
          "tSNE-2": 34.95252990722656
         },
         {
          "KM-label": 2,
          "digit": 7,
          "tSNE-1": -15.244540214538574,
          "tSNE-2": -34.94700241088867
         },
         {
          "KM-label": 6,
          "digit": 8,
          "tSNE-1": -11.279439926147461,
          "tSNE-2": -12.09831428527832
         },
         {
          "KM-label": 4,
          "digit": 9,
          "tSNE-1": -3.359470844268799,
          "tSNE-2": 22.200393676757812
         },
         {
          "KM-label": 1,
          "digit": 0,
          "tSNE-1": 39.55607604980469,
          "tSNE-2": 2.6728456020355225
         },
         {
          "KM-label": 4,
          "digit": 9,
          "tSNE-1": -8.785484313964844,
          "tSNE-2": 22.87042999267578
         },
         {
          "KM-label": 3,
          "digit": 5,
          "tSNE-1": 8.738821983337402,
          "tSNE-2": 8.278372764587402
         },
         {
          "KM-label": 4,
          "digit": 5,
          "tSNE-1": 11.036104202270508,
          "tSNE-2": 14.779159545898438
         },
         {
          "KM-label": 7,
          "digit": 6,
          "tSNE-1": 24.882829666137695,
          "tSNE-2": 29.2440128326416
         },
         {
          "KM-label": 4,
          "digit": 5,
          "tSNE-1": 8.227726936340332,
          "tSNE-2": 16.64943504333496
         },
         {
          "KM-label": 1,
          "digit": 0,
          "tSNE-1": 40.272281646728516,
          "tSNE-2": 3.5828020572662354
         },
         {
          "KM-label": 4,
          "digit": 9,
          "tSNE-1": -2.9129838943481445,
          "tSNE-2": 15.714444160461426
         },
         {
          "KM-label": 6,
          "digit": 8,
          "tSNE-1": -13.868252754211426,
          "tSNE-2": -0.4428104758262634
         },
         {
          "KM-label": 4,
          "digit": 9,
          "tSNE-1": -6.787525653839111,
          "tSNE-2": 24.16891860961914
         },
         {
          "KM-label": 6,
          "digit": 8,
          "tSNE-1": -13.516119003295898,
          "tSNE-2": -0.09598401188850403
         },
         {
          "KM-label": 5,
          "digit": 4,
          "tSNE-1": 17.432687759399414,
          "tSNE-2": -38.50176239013672
         },
         {
          "KM-label": 6,
          "digit": 1,
          "tSNE-1": -0.3696139454841614,
          "tSNE-2": -6.153006553649902
         },
         {
          "KM-label": 2,
          "digit": 7,
          "tSNE-1": -26.08702278137207,
          "tSNE-2": -30.178693771362305
         },
         {
          "KM-label": 2,
          "digit": 7,
          "tSNE-1": -16.123146057128906,
          "tSNE-2": -33.220314025878906
         },
         {
          "KM-label": 8,
          "digit": 3,
          "tSNE-1": -31.837129592895508,
          "tSNE-2": 4.95968770980835
         },
         {
          "KM-label": 3,
          "digit": 5,
          "tSNE-1": 8.438616752624512,
          "tSNE-2": 7.929831027984619
         },
         {
          "KM-label": 6,
          "digit": 1,
          "tSNE-1": -2.1503212451934814,
          "tSNE-2": -12.592903137207031
         },
         {
          "KM-label": 1,
          "digit": 0,
          "tSNE-1": 41.93210220336914,
          "tSNE-2": 1.36404287815094
         },
         {
          "KM-label": 1,
          "digit": 0,
          "tSNE-1": 41.39892578125,
          "tSNE-2": 0.7830991744995117
         },
         {
          "KM-label": 0,
          "digit": 2,
          "tSNE-1": -33.267425537109375,
          "tSNE-2": 33.823307037353516
         },
         {
          "KM-label": 0,
          "digit": 2,
          "tSNE-1": -32.881805419921875,
          "tSNE-2": 31.084775924682617
         },
         {
          "KM-label": 2,
          "digit": 7,
          "tSNE-1": -18.851049423217773,
          "tSNE-2": -36.510746002197266
         },
         {
          "KM-label": 4,
          "digit": 8,
          "tSNE-1": -10.535061836242676,
          "tSNE-2": 4.545670509338379
         },
         {
          "KM-label": 0,
          "digit": 2,
          "tSNE-1": -29.973257064819336,
          "tSNE-2": 31.9912109375
         },
         {
          "KM-label": 1,
          "digit": 0,
          "tSNE-1": 40.7745361328125,
          "tSNE-2": 1.2203571796417236
         },
         {
          "KM-label": 9,
          "digit": 1,
          "tSNE-1": 8.016630172729492,
          "tSNE-2": -25.420551300048828
         },
         {
          "KM-label": 0,
          "digit": 2,
          "tSNE-1": -30.97235679626465,
          "tSNE-2": 33.406044006347656
         },
         {
          "KM-label": 7,
          "digit": 6,
          "tSNE-1": 29.866987228393555,
          "tSNE-2": 33.84407424926758
         },
         {
          "KM-label": 8,
          "digit": 3,
          "tSNE-1": -27.344144821166992,
          "tSNE-2": 4.5486226081848145
         },
         {
          "KM-label": 8,
          "digit": 3,
          "tSNE-1": -33.126380920410156,
          "tSNE-2": 4.770884037017822
         },
         {
          "KM-label": 2,
          "digit": 7,
          "tSNE-1": -15.346902847290039,
          "tSNE-2": -35.046173095703125
         },
         {
          "KM-label": 8,
          "digit": 3,
          "tSNE-1": -29.77623748779297,
          "tSNE-2": 5.041014671325684
         },
         {
          "KM-label": 8,
          "digit": 3,
          "tSNE-1": -29.782676696777344,
          "tSNE-2": 4.963836669921875
         },
         {
          "KM-label": 5,
          "digit": 4,
          "tSNE-1": 14.510982513427734,
          "tSNE-2": -40.22650146484375
         },
         {
          "KM-label": 7,
          "digit": 6,
          "tSNE-1": 24.671045303344727,
          "tSNE-2": 31.82016944885254
         },
         {
          "KM-label": 7,
          "digit": 6,
          "tSNE-1": 24.684326171875,
          "tSNE-2": 31.658140182495117
         },
         {
          "KM-label": 7,
          "digit": 6,
          "tSNE-1": 25.289352416992188,
          "tSNE-2": 28.163206100463867
         },
         {
          "KM-label": 5,
          "digit": 4,
          "tSNE-1": 14.225118637084961,
          "tSNE-2": -41.78385925292969
         },
         {
          "KM-label": 2,
          "digit": 9,
          "tSNE-1": -9.205872535705566,
          "tSNE-2": -26.264320373535156
         },
         {
          "KM-label": 6,
          "digit": 1,
          "tSNE-1": 0.713126540184021,
          "tSNE-2": -10.10849380493164
         },
         {
          "KM-label": 3,
          "digit": 5,
          "tSNE-1": 15.85097599029541,
          "tSNE-2": 3.4270009994506836
         },
         {
          "KM-label": 1,
          "digit": 0,
          "tSNE-1": 37.70878219604492,
          "tSNE-2": -1.3466556072235107
         },
         {
          "KM-label": 2,
          "digit": 9,
          "tSNE-1": -9.891334533691406,
          "tSNE-2": -25.778738021850586
         },
         {
          "KM-label": 3,
          "digit": 5,
          "tSNE-1": 8.727459907531738,
          "tSNE-2": 8.375167846679688
         },
         {
          "KM-label": 0,
          "digit": 2,
          "tSNE-1": -30.426450729370117,
          "tSNE-2": 31.676712036132812
         },
         {
          "KM-label": 4,
          "digit": 8,
          "tSNE-1": -12.750750541687012,
          "tSNE-2": 2.8319928646087646
         },
         {
          "KM-label": 0,
          "digit": 2,
          "tSNE-1": -32.810638427734375,
          "tSNE-2": 32.896697998046875
         },
         {
          "KM-label": 1,
          "digit": 0,
          "tSNE-1": 39.381065368652344,
          "tSNE-2": 1.2738336324691772
         },
         {
          "KM-label": 1,
          "digit": 0,
          "tSNE-1": 37.58585739135742,
          "tSNE-2": -0.7530787587165833
         },
         {
          "KM-label": 6,
          "digit": 1,
          "tSNE-1": -2.886683940887451,
          "tSNE-2": -14.909460067749023
         },
         {
          "KM-label": 2,
          "digit": 7,
          "tSNE-1": -19.372928619384766,
          "tSNE-2": -30.738698959350586
         },
         {
          "KM-label": 7,
          "digit": 6,
          "tSNE-1": 22.7342472076416,
          "tSNE-2": 25.013275146484375
         },
         {
          "KM-label": 8,
          "digit": 3,
          "tSNE-1": -31.279417037963867,
          "tSNE-2": 4.861007213592529
         },
         {
          "KM-label": 0,
          "digit": 2,
          "tSNE-1": -32.2573127746582,
          "tSNE-2": 31.413633346557617
         },
         {
          "KM-label": 6,
          "digit": 1,
          "tSNE-1": -3.0443572998046875,
          "tSNE-2": -15.330963134765625
         },
         {
          "KM-label": 2,
          "digit": 7,
          "tSNE-1": -19.971925735473633,
          "tSNE-2": -31.032730102539062
         },
         {
          "KM-label": 5,
          "digit": 4,
          "tSNE-1": 14.06772518157959,
          "tSNE-2": -39.42654800415039
         },
         {
          "KM-label": 7,
          "digit": 6,
          "tSNE-1": 28.320520401000977,
          "tSNE-2": 33.3158073425293
         },
         {
          "KM-label": 8,
          "digit": 3,
          "tSNE-1": -32.6260986328125,
          "tSNE-2": 3.510354518890381
         },
         {
          "KM-label": 6,
          "digit": 1,
          "tSNE-1": -0.7955418229103088,
          "tSNE-2": -12.177146911621094
         },
         {
          "KM-label": 8,
          "digit": 3,
          "tSNE-1": -27.102828979492188,
          "tSNE-2": 4.70170259475708
         },
         {
          "KM-label": 2,
          "digit": 9,
          "tSNE-1": -9.650304794311523,
          "tSNE-2": -26.43504524230957
         },
         {
          "KM-label": 6,
          "digit": 1,
          "tSNE-1": 2.2683794498443604,
          "tSNE-2": -11.300495147705078
         },
         {
          "KM-label": 2,
          "digit": 7,
          "tSNE-1": -27.02786636352539,
          "tSNE-2": -32.48782730102539
         },
         {
          "KM-label": 7,
          "digit": 6,
          "tSNE-1": 25.161802291870117,
          "tSNE-2": 29.16617202758789
         },
         {
          "KM-label": 6,
          "digit": 8,
          "tSNE-1": -12.35777759552002,
          "tSNE-2": -3.775562286376953
         },
         {
          "KM-label": 5,
          "digit": 4,
          "tSNE-1": 19.17763900756836,
          "tSNE-2": -38.460933685302734
         },
         {
          "KM-label": 8,
          "digit": 3,
          "tSNE-1": -26.91914176940918,
          "tSNE-2": 4.351710319519043
         },
         {
          "KM-label": 6,
          "digit": 1,
          "tSNE-1": 1.6902406215667725,
          "tSNE-2": -13.571553230285645
         },
         {
          "KM-label": 5,
          "digit": 4,
          "tSNE-1": 10.486031532287598,
          "tSNE-2": -39.65951156616211
         },
         {
          "KM-label": 1,
          "digit": 0,
          "tSNE-1": 34.001686096191406,
          "tSNE-2": -2.583299398422241
         },
         {
          "KM-label": 4,
          "digit": 5,
          "tSNE-1": 9.200163841247559,
          "tSNE-2": 11.50066089630127
         },
         {
          "KM-label": 8,
          "digit": 3,
          "tSNE-1": -30.298919677734375,
          "tSNE-2": 10.153227806091309
         },
         {
          "KM-label": 7,
          "digit": 6,
          "tSNE-1": 26.293968200683594,
          "tSNE-2": 32.30926513671875
         },
         {
          "KM-label": 2,
          "digit": 9,
          "tSNE-1": -9.551621437072754,
          "tSNE-2": -25.951908111572266
         },
         {
          "KM-label": 7,
          "digit": 6,
          "tSNE-1": 24.12517547607422,
          "tSNE-2": 31.47455596923828
         },
         {
          "KM-label": 6,
          "digit": 1,
          "tSNE-1": -0.03882117196917534,
          "tSNE-2": -6.976533889770508
         },
         {
          "KM-label": 2,
          "digit": 7,
          "tSNE-1": -28.128551483154297,
          "tSNE-2": -33.170833587646484
         },
         {
          "KM-label": 3,
          "digit": 5,
          "tSNE-1": 11.402527809143066,
          "tSNE-2": 7.07175350189209
         },
         {
          "KM-label": 5,
          "digit": 4,
          "tSNE-1": 21.726707458496094,
          "tSNE-2": -37.7468376159668
         },
         {
          "KM-label": 5,
          "digit": 4,
          "tSNE-1": 15.31644344329834,
          "tSNE-2": -38.68524169921875
         },
         {
          "KM-label": 2,
          "digit": 7,
          "tSNE-1": -20.01346206665039,
          "tSNE-2": -31.060726165771484
         },
         {
          "KM-label": 0,
          "digit": 2,
          "tSNE-1": -30.95121192932129,
          "tSNE-2": 31.832691192626953
         },
         {
          "KM-label": 4,
          "digit": 8,
          "tSNE-1": -13.14430046081543,
          "tSNE-2": 0.7577154636383057
         },
         {
          "KM-label": 0,
          "digit": 2,
          "tSNE-1": -32.89712142944336,
          "tSNE-2": 32.87041091918945
         },
         {
          "KM-label": 0,
          "digit": 2,
          "tSNE-1": -30.679670333862305,
          "tSNE-2": 34.09606170654297
         },
         {
          "KM-label": 4,
          "digit": 5,
          "tSNE-1": 9.912960052490234,
          "tSNE-2": 14.771849632263184
         },
         {
          "KM-label": 2,
          "digit": 7,
          "tSNE-1": -17.753328323364258,
          "tSNE-2": -34.15316390991211
         },
         {
          "KM-label": 9,
          "digit": 9,
          "tSNE-1": -0.18292182683944702,
          "tSNE-2": -30.51626205444336
         },
         {
          "KM-label": 3,
          "digit": 5,
          "tSNE-1": 15.361157417297363,
          "tSNE-2": -3.9053356647491455
         },
         {
          "KM-label": 5,
          "digit": 4,
          "tSNE-1": 14.512701034545898,
          "tSNE-2": -40.93364334106445
         },
         {
          "KM-label": 4,
          "digit": 8,
          "tSNE-1": -16.587636947631836,
          "tSNE-2": 3.879531145095825
         },
         {
          "KM-label": 4,
          "digit": 8,
          "tSNE-1": -13.10171890258789,
          "tSNE-2": 0.15914972126483917
         },
         {
          "KM-label": 5,
          "digit": 4,
          "tSNE-1": 14.94372844696045,
          "tSNE-2": -37.49359893798828
         },
         {
          "KM-label": 9,
          "digit": 9,
          "tSNE-1": 0.6013613939285278,
          "tSNE-2": -30.514863967895508
         },
         {
          "KM-label": 1,
          "digit": 0,
          "tSNE-1": 42.67550277709961,
          "tSNE-2": -3.7805004119873047
         },
         {
          "KM-label": 6,
          "digit": 8,
          "tSNE-1": -11.45671272277832,
          "tSNE-2": -11.817944526672363
         },
         {
          "KM-label": 2,
          "digit": 9,
          "tSNE-1": -9.456448554992676,
          "tSNE-2": -26.562681198120117
         },
         {
          "KM-label": 8,
          "digit": 3,
          "tSNE-1": -32.143028259277344,
          "tSNE-2": 0.6373053789138794
         },
         {
          "KM-label": 1,
          "digit": 0,
          "tSNE-1": 43.74586486816406,
          "tSNE-2": -7.5198140144348145
         },
         {
          "KM-label": 9,
          "digit": 1,
          "tSNE-1": 2.568880319595337,
          "tSNE-2": -24.109943389892578
         },
         {
          "KM-label": 0,
          "digit": 2,
          "tSNE-1": -25.100366592407227,
          "tSNE-2": 33.2230224609375
         },
         {
          "KM-label": 8,
          "digit": 3,
          "tSNE-1": -33.616722106933594,
          "tSNE-2": 4.177189350128174
         },
         {
          "KM-label": 5,
          "digit": 4,
          "tSNE-1": 18.433002471923828,
          "tSNE-2": -27.24578857421875
         },
         {
          "KM-label": 3,
          "digit": 5,
          "tSNE-1": 7.701369762420654,
          "tSNE-2": 5.4955735206604
         },
         {
          "KM-label": 7,
          "digit": 6,
          "tSNE-1": 30.09174346923828,
          "tSNE-2": 25.868125915527344
         },
         {
          "KM-label": 2,
          "digit": 7,
          "tSNE-1": -10.2628173828125,
          "tSNE-2": -30.971263885498047
         },
         {
          "KM-label": 4,
          "digit": 8,
          "tSNE-1": -9.613551139831543,
          "tSNE-2": 2.7990620136260986
         },
         {
          "KM-label": 4,
          "digit": 9,
          "tSNE-1": -0.8648236393928528,
          "tSNE-2": 23.154071807861328
         },
         {
          "KM-label": 1,
          "digit": 0,
          "tSNE-1": 41.73507308959961,
          "tSNE-2": -6.92840051651001
         },
         {
          "KM-label": 9,
          "digit": 1,
          "tSNE-1": 4.283700942993164,
          "tSNE-2": -20.256898880004883
         },
         {
          "KM-label": 0,
          "digit": 2,
          "tSNE-1": -23.133594512939453,
          "tSNE-2": 33.885684967041016
         },
         {
          "KM-label": 8,
          "digit": 3,
          "tSNE-1": -23.75908851623535,
          "tSNE-2": 7.483675956726074
         },
         {
          "KM-label": 5,
          "digit": 4,
          "tSNE-1": 17.617229461669922,
          "tSNE-2": -44.88909912109375
         },
         {
          "KM-label": 3,
          "digit": 5,
          "tSNE-1": 9.255960464477539,
          "tSNE-2": 3.3413360118865967
         },
         {
          "KM-label": 7,
          "digit": 6,
          "tSNE-1": 30.728628158569336,
          "tSNE-2": 24.969696044921875
         },
         {
          "KM-label": 2,
          "digit": 7,
          "tSNE-1": -9.898208618164062,
          "tSNE-2": -31.095117568969727
         },
         {
          "KM-label": 6,
          "digit": 8,
          "tSNE-1": -12.594799995422363,
          "tSNE-2": -5.393649101257324
         },
         {
          "KM-label": 4,
          "digit": 9,
          "tSNE-1": -7.445972442626953,
          "tSNE-2": 21.52013397216797
         },
         {
          "KM-label": 1,
          "digit": 0,
          "tSNE-1": 40.4636116027832,
          "tSNE-2": -6.551889419555664
         },
         {
          "KM-label": 9,
          "digit": 1,
          "tSNE-1": 4.596353054046631,
          "tSNE-2": -22.30615997314453
         },
         {
          "KM-label": 0,
          "digit": 2,
          "tSNE-1": -26.040014266967773,
          "tSNE-2": 36.95292663574219
         },
         {
          "KM-label": 8,
          "digit": 3,
          "tSNE-1": -26.40072250366211,
          "tSNE-2": 12.46792221069336
         },
         {
          "KM-label": 5,
          "digit": 4,
          "tSNE-1": 17.10639762878418,
          "tSNE-2": -28.18601417541504
         },
         {
          "KM-label": 3,
          "digit": 5,
          "tSNE-1": 9.134066581726074,
          "tSNE-2": 3.623169183731079
         },
         {
          "KM-label": 7,
          "digit": 6,
          "tSNE-1": 29.41720199584961,
          "tSNE-2": 23.98702621459961
         },
         {
          "KM-label": 2,
          "digit": 7,
          "tSNE-1": -9.621777534484863,
          "tSNE-2": -31.31650733947754
         },
         {
          "KM-label": 4,
          "digit": 8,
          "tSNE-1": -7.443018436431885,
          "tSNE-2": 6.324127197265625
         },
         {
          "KM-label": 4,
          "digit": 9,
          "tSNE-1": -7.417330265045166,
          "tSNE-2": 21.620031356811523
         },
         {
          "KM-label": 1,
          "digit": 0,
          "tSNE-1": 39.43646240234375,
          "tSNE-2": -8.591972351074219
         },
         {
          "KM-label": 4,
          "digit": 9,
          "tSNE-1": -6.654839038848877,
          "tSNE-2": 13.098320007324219
         },
         {
          "KM-label": 4,
          "digit": 5,
          "tSNE-1": 7.174410820007324,
          "tSNE-2": 5.676041126251221
         },
         {
          "KM-label": 3,
          "digit": 5,
          "tSNE-1": 9.53445816040039,
          "tSNE-2": 3.9929416179656982
         },
         {
          "KM-label": 7,
          "digit": 6,
          "tSNE-1": 30.783817291259766,
          "tSNE-2": 24.10589599609375
         },
         {
          "KM-label": 4,
          "digit": 5,
          "tSNE-1": 5.91027307510376,
          "tSNE-2": 5.891384601593018
         },
         {
          "KM-label": 1,
          "digit": 0,
          "tSNE-1": 42.595184326171875,
          "tSNE-2": -7.917934417724609
         },
         {
          "KM-label": 4,
          "digit": 9,
          "tSNE-1": -6.820306301116943,
          "tSNE-2": 12.957657814025879
         },
         {
          "KM-label": 4,
          "digit": 8,
          "tSNE-1": -10.855855941772461,
          "tSNE-2": 2.310107946395874
         },
         {
          "KM-label": 4,
          "digit": 9,
          "tSNE-1": -4.986116886138916,
          "tSNE-2": 20.16553497314453
         },
         {
          "KM-label": 4,
          "digit": 8,
          "tSNE-1": -10.76620101928711,
          "tSNE-2": 1.5871001482009888
         },
         {
          "KM-label": 5,
          "digit": 4,
          "tSNE-1": 15.545178413391113,
          "tSNE-2": -29.300779342651367
         },
         {
          "KM-label": 9,
          "digit": 1,
          "tSNE-1": 4.636622905731201,
          "tSNE-2": -22.958227157592773
         },
         {
          "KM-label": 2,
          "digit": 7,
          "tSNE-1": -8.241738319396973,
          "tSNE-2": -31.429262161254883
         },
         {
          "KM-label": 2,
          "digit": 7,
          "tSNE-1": -11.706460952758789,
          "tSNE-2": -30.394811630249023
         },
         {
          "KM-label": 8,
          "digit": 3,
          "tSNE-1": -23.587474822998047,
          "tSNE-2": 8.368748664855957
         },
         {
          "KM-label": 3,
          "digit": 5,
          "tSNE-1": 8.362576484680176,
          "tSNE-2": 3.8997678756713867
         },
         {
          "KM-label": 9,
          "digit": 1,
          "tSNE-1": 4.383150577545166,
          "tSNE-2": -20.300785064697266
         },
         {
          "KM-label": 1,
          "digit": 0,
          "tSNE-1": 42.44352722167969,
          "tSNE-2": -5.631888389587402
         },
         {
          "KM-label": 1,
          "digit": 0,
          "tSNE-1": 40.90309524536133,
          "tSNE-2": -5.694133758544922
         },
         {
          "KM-label": 0,
          "digit": 2,
          "tSNE-1": -23.152658462524414,
          "tSNE-2": 34.27995681762695
         },
         {
          "KM-label": 0,
          "digit": 2,
          "tSNE-1": -25.651878356933594,
          "tSNE-2": 34.25433349609375
         },
         {
          "KM-label": 2,
          "digit": 7,
          "tSNE-1": -10.073983192443848,
          "tSNE-2": -30.976402282714844
         },
         {
          "KM-label": 4,
          "digit": 8,
          "tSNE-1": -9.262943267822266,
          "tSNE-2": 5.050345420837402
         },
         {
          "KM-label": 0,
          "digit": 2,
          "tSNE-1": -24.776948928833008,
          "tSNE-2": 34.150054931640625
         },
         {
          "KM-label": 1,
          "digit": 0,
          "tSNE-1": 42.33045196533203,
          "tSNE-2": -1.7771097421646118
         },
         {
          "KM-label": 0,
          "digit": 1,
          "tSNE-1": -11.73254680633545,
          "tSNE-2": 41.738616943359375
         },
         {
          "KM-label": 0,
          "digit": 2,
          "tSNE-1": -22.863582611083984,
          "tSNE-2": 33.43748092651367
         },
         {
          "KM-label": 7,
          "digit": 6,
          "tSNE-1": 28.675800323486328,
          "tSNE-2": 28.222244262695312
         },
         {
          "KM-label": 8,
          "digit": 3,
          "tSNE-1": -23.099145889282227,
          "tSNE-2": 8.78275203704834
         },
         {
          "KM-label": 4,
          "digit": 3,
          "tSNE-1": -23.250545501708984,
          "tSNE-2": 7.325733184814453
         },
         {
          "KM-label": 2,
          "digit": 7,
          "tSNE-1": -9.103378295898438,
          "tSNE-2": -31.722990036010742
         },
         {
          "KM-label": 4,
          "digit": 3,
          "tSNE-1": -23.230409622192383,
          "tSNE-2": 8.48926830291748
         },
         {
          "KM-label": 4,
          "digit": 3,
          "tSNE-1": -23.50141143798828,
          "tSNE-2": 6.892543792724609
         },
         {
          "KM-label": 5,
          "digit": 4,
          "tSNE-1": 17.906143188476562,
          "tSNE-2": -28.852869033813477
         },
         {
          "KM-label": 7,
          "digit": 6,
          "tSNE-1": 29.133100509643555,
          "tSNE-2": 23.967666625976562
         },
         {
          "KM-label": 7,
          "digit": 6,
          "tSNE-1": 30.38876724243164,
          "tSNE-2": 25.315650939941406
         },
         {
          "KM-label": 7,
          "digit": 6,
          "tSNE-1": 29.182456970214844,
          "tSNE-2": 23.949316024780273
         },
         {
          "KM-label": 5,
          "digit": 4,
          "tSNE-1": 17.24620246887207,
          "tSNE-2": -28.29403305053711
         },
         {
          "KM-label": 4,
          "digit": 9,
          "tSNE-1": -4.540843963623047,
          "tSNE-2": 19.600133895874023
         },
         {
          "KM-label": 9,
          "digit": 1,
          "tSNE-1": 4.951910018920898,
          "tSNE-2": -22.79700469970703
         },
         {
          "KM-label": 4,
          "digit": 5,
          "tSNE-1": 6.996147632598877,
          "tSNE-2": 7.88734245300293
         },
         {
          "KM-label": 1,
          "digit": 0,
          "tSNE-1": 39.1446647644043,
          "tSNE-2": -6.57822322845459
         },
         {
          "KM-label": 4,
          "digit": 9,
          "tSNE-1": -6.905920028686523,
          "tSNE-2": 12.933310508728027
         },
         {
          "KM-label": 3,
          "digit": 5,
          "tSNE-1": 9.575005531311035,
          "tSNE-2": 4.0370564460754395
         },
         {
          "KM-label": 0,
          "digit": 2,
          "tSNE-1": -24.07271385192871,
          "tSNE-2": 34.9864501953125
         },
         {
          "KM-label": 6,
          "digit": 8,
          "tSNE-1": -10.443852424621582,
          "tSNE-2": 0.9277937412261963
         },
         {
          "KM-label": 0,
          "digit": 2,
          "tSNE-1": -28.36156463623047,
          "tSNE-2": 35.20506286621094
         },
         {
          "KM-label": 1,
          "digit": 0,
          "tSNE-1": 41.05576705932617,
          "tSNE-2": -1.8751842975616455
         },
         {
          "KM-label": 1,
          "digit": 0,
          "tSNE-1": 43.67621994018555,
          "tSNE-2": -6.075378894805908
         },
         {
          "KM-label": 9,
          "digit": 1,
          "tSNE-1": 5.0936360359191895,
          "tSNE-2": -19.978090286254883
         },
         {
          "KM-label": 2,
          "digit": 7,
          "tSNE-1": -8.236522674560547,
          "tSNE-2": -31.434123992919922
         },
         {
          "KM-label": 7,
          "digit": 6,
          "tSNE-1": 20.879444122314453,
          "tSNE-2": 28.09621810913086
         },
         {
          "KM-label": 8,
          "digit": 3,
          "tSNE-1": -23.721595764160156,
          "tSNE-2": 7.284477710723877
         },
         {
          "KM-label": 0,
          "digit": 2,
          "tSNE-1": -28.808860778808594,
          "tSNE-2": 37.63706970214844
         },
         {
          "KM-label": 9,
          "digit": 1,
          "tSNE-1": 5.436651229858398,
          "tSNE-2": -19.569833755493164
         },
         {
          "KM-label": 2,
          "digit": 7,
          "tSNE-1": -11.249133110046387,
          "tSNE-2": -30.625709533691406
         },
         {
          "KM-label": 5,
          "digit": 4,
          "tSNE-1": 16.201730728149414,
          "tSNE-2": -31.429080963134766
         },
         {
          "KM-label": 7,
          "digit": 6,
          "tSNE-1": 28.098779678344727,
          "tSNE-2": 23.015718460083008
         },
         {
          "KM-label": 8,
          "digit": 3,
          "tSNE-1": -23.926515579223633,
          "tSNE-2": 6.794586181640625
         },
         {
          "KM-label": 9,
          "digit": 1,
          "tSNE-1": 6.337073802947998,
          "tSNE-2": -22.425888061523438
         },
         {
          "KM-label": 8,
          "digit": 3,
          "tSNE-1": -24.496313095092773,
          "tSNE-2": 5.90026330947876
         },
         {
          "KM-label": 4,
          "digit": 9,
          "tSNE-1": -5.737035274505615,
          "tSNE-2": 19.669069290161133
         },
         {
          "KM-label": 9,
          "digit": 1,
          "tSNE-1": 4.419244289398193,
          "tSNE-2": -21.501604080200195
         },
         {
          "KM-label": 3,
          "digit": 7,
          "tSNE-1": -9.326265335083008,
          "tSNE-2": -27.87257194519043
         },
         {
          "KM-label": 7,
          "digit": 6,
          "tSNE-1": 30.136821746826172,
          "tSNE-2": 23.06155776977539
         },
         {
          "KM-label": 4,
          "digit": 8,
          "tSNE-1": -13.88316822052002,
          "tSNE-2": 4.821028232574463
         },
         {
          "KM-label": 5,
          "digit": 4,
          "tSNE-1": 18.26788330078125,
          "tSNE-2": -28.850337982177734
         },
         {
          "KM-label": 8,
          "digit": 3,
          "tSNE-1": -24.75286102294922,
          "tSNE-2": 6.289032459259033
         },
         {
          "KM-label": 9,
          "digit": 1,
          "tSNE-1": 4.32488489151001,
          "tSNE-2": -20.910444259643555
         },
         {
          "KM-label": 5,
          "digit": 4,
          "tSNE-1": 16.702056884765625,
          "tSNE-2": -28.485380172729492
         },
         {
          "KM-label": 1,
          "digit": 0,
          "tSNE-1": 43.66756820678711,
          "tSNE-2": -8.545220375061035
         },
         {
          "KM-label": 3,
          "digit": 5,
          "tSNE-1": 9.326353073120117,
          "tSNE-2": 5.747649192810059
         },
         {
          "KM-label": 8,
          "digit": 3,
          "tSNE-1": -22.804874420166016,
          "tSNE-2": 6.754400730133057
         },
         {
          "KM-label": 7,
          "digit": 6,
          "tSNE-1": 28.780818939208984,
          "tSNE-2": 24.387168884277344
         },
         {
          "KM-label": 4,
          "digit": 9,
          "tSNE-1": -6.948212146759033,
          "tSNE-2": 12.833581924438477
         },
         {
          "KM-label": 6,
          "digit": 6,
          "tSNE-1": -6.726194381713867,
          "tSNE-2": -5.617525100708008
         },
         {
          "KM-label": 9,
          "digit": 1,
          "tSNE-1": 4.359363555908203,
          "tSNE-2": -22.702945709228516
         },
         {
          "KM-label": 2,
          "digit": 7,
          "tSNE-1": -9.44155216217041,
          "tSNE-2": -31.581615447998047
         },
         {
          "KM-label": 3,
          "digit": 5,
          "tSNE-1": 9.67584228515625,
          "tSNE-2": 3.7292003631591797
         },
         {
          "KM-label": 9,
          "digit": 4,
          "tSNE-1": 15.909453392028809,
          "tSNE-2": -30.816436767578125
         },
         {
          "KM-label": 5,
          "digit": 4,
          "tSNE-1": 16.88041877746582,
          "tSNE-2": -29.338409423828125
         },
         {
          "KM-label": 2,
          "digit": 7,
          "tSNE-1": -9.649958610534668,
          "tSNE-2": -31.055038452148438
         },
         {
          "KM-label": 0,
          "digit": 2,
          "tSNE-1": -29.005741119384766,
          "tSNE-2": 35.49814224243164
         },
         {
          "KM-label": 4,
          "digit": 8,
          "tSNE-1": -12.618932723999023,
          "tSNE-2": 4.474350929260254
         },
         {
          "KM-label": 0,
          "digit": 2,
          "tSNE-1": -27.625011444091797,
          "tSNE-2": 36.47500991821289
         },
         {
          "KM-label": 6,
          "digit": 2,
          "tSNE-1": -22.640993118286133,
          "tSNE-2": -10.265070915222168
         },
         {
          "KM-label": 3,
          "digit": 5,
          "tSNE-1": 16.27645492553711,
          "tSNE-2": 0.3710813820362091
         },
         {
          "KM-label": 2,
          "digit": 7,
          "tSNE-1": -11.054306030273438,
          "tSNE-2": -30.646472930908203
         },
         {
          "KM-label": 4,
          "digit": 9,
          "tSNE-1": -5.41490364074707,
          "tSNE-2": 20.001907348632812
         },
         {
          "KM-label": 3,
          "digit": 5,
          "tSNE-1": 8.523679733276367,
          "tSNE-2": 3.7139737606048584
         },
         {
          "KM-label": 5,
          "digit": 4,
          "tSNE-1": 16.210237503051758,
          "tSNE-2": -31.221437454223633
         },
         {
          "KM-label": 6,
          "digit": 8,
          "tSNE-1": -12.43649673461914,
          "tSNE-2": -4.5555338859558105
         },
         {
          "KM-label": 6,
          "digit": 8,
          "tSNE-1": -11.465557098388672,
          "tSNE-2": -4.686708450317383
         },
         {
          "KM-label": 5,
          "digit": 4,
          "tSNE-1": 18.448238372802734,
          "tSNE-2": -26.962528228759766
         },
         {
          "KM-label": 4,
          "digit": 9,
          "tSNE-1": 1.070167899131775,
          "tSNE-2": 21.32522201538086
         },
         {
          "KM-label": 1,
          "digit": 0,
          "tSNE-1": 39.80555725097656,
          "tSNE-2": -2.7795615196228027
         },
         {
          "KM-label": 4,
          "digit": 8,
          "tSNE-1": -11.803215026855469,
          "tSNE-2": 2.2131149768829346
         },
         {
          "KM-label": 4,
          "digit": 9,
          "tSNE-1": -5.258634090423584,
          "tSNE-2": 19.764741897583008
         },
         {
          "KM-label": 4,
          "digit": 8,
          "tSNE-1": -10.547847747802734,
          "tSNE-2": 1.87846040725708
         },
         {
          "KM-label": 1,
          "digit": 0,
          "tSNE-1": 39.15495681762695,
          "tSNE-2": -4.857428073883057
         },
         {
          "KM-label": 0,
          "digit": 1,
          "tSNE-1": -10.230597496032715,
          "tSNE-2": 40.901580810546875
         },
         {
          "KM-label": 0,
          "digit": 2,
          "tSNE-1": -21.872573852539062,
          "tSNE-2": 29.537227630615234
         },
         {
          "KM-label": 4,
          "digit": 3,
          "tSNE-1": -19.686986923217773,
          "tSNE-2": 13.933012008666992
         },
         {
          "KM-label": 5,
          "digit": 4,
          "tSNE-1": 14.789837837219238,
          "tSNE-2": -45.001808166503906
         },
         {
          "KM-label": 3,
          "digit": 5,
          "tSNE-1": 7.138597011566162,
          "tSNE-2": 9.446611404418945
         },
         {
          "KM-label": 7,
          "digit": 6,
          "tSNE-1": 21.094545364379883,
          "tSNE-2": 28.99597930908203
         },
         {
          "KM-label": 2,
          "digit": 7,
          "tSNE-1": -29.199670791625977,
          "tSNE-2": -25.475685119628906
         },
         {
          "KM-label": 6,
          "digit": 8,
          "tSNE-1": -19.096349716186523,
          "tSNE-2": -8.099445343017578
         },
         {
          "KM-label": 4,
          "digit": 9,
          "tSNE-1": -9.191981315612793,
          "tSNE-2": 11.792162895202637
         },
         {
          "KM-label": 1,
          "digit": 0,
          "tSNE-1": 43.371604919433594,
          "tSNE-2": 1.2293494939804077
         },
         {
          "KM-label": 0,
          "digit": 1,
          "tSNE-1": -11.439270973205566,
          "tSNE-2": 42.041011810302734
         },
         {
          "KM-label": 0,
          "digit": 2,
          "tSNE-1": -20.13700294494629,
          "tSNE-2": 32.833919525146484
         },
         {
          "KM-label": 4,
          "digit": 3,
          "tSNE-1": -20.24313735961914,
          "tSNE-2": 12.87354564666748
         },
         {
          "KM-label": 2,
          "digit": 4,
          "tSNE-1": 13.177170753479004,
          "tSNE-2": -44.627479553222656
         },
         {
          "KM-label": 4,
          "digit": 5,
          "tSNE-1": 8.548301696777344,
          "tSNE-2": 12.427774429321289
         },
         {
          "KM-label": 7,
          "digit": 6,
          "tSNE-1": 27.744792938232422,
          "tSNE-2": 29.2794189453125
         },
         {
          "KM-label": 2,
          "digit": 7,
          "tSNE-1": -24.704574584960938,
          "tSNE-2": -27.72608757019043
         },
         {
          "KM-label": 6,
          "digit": 8,
          "tSNE-1": -19.61029624938965,
          "tSNE-2": -6.763646602630615
         },
         {
          "KM-label": 4,
          "digit": 9,
          "tSNE-1": 1.4844341278076172,
          "tSNE-2": 19.688236236572266
         },
         {
          "KM-label": 1,
          "digit": 0,
          "tSNE-1": 39.111717224121094,
          "tSNE-2": -3.882922410964966
         },
         {
          "KM-label": 0,
          "digit": 1,
          "tSNE-1": -10.581470489501953,
          "tSNE-2": 42.4929313659668
         },
         {
          "KM-label": 0,
          "digit": 2,
          "tSNE-1": -20.27492904663086,
          "tSNE-2": 32.63872528076172
         },
         {
          "KM-label": 4,
          "digit": 3,
          "tSNE-1": -19.71831703186035,
          "tSNE-2": 12.172210693359375
         },
         {
          "KM-label": 5,
          "digit": 4,
          "tSNE-1": 18.451021194458008,
          "tSNE-2": -43.97654724121094
         },
         {
          "KM-label": 4,
          "digit": 5,
          "tSNE-1": 7.725116729736328,
          "tSNE-2": 10.932275772094727
         },
         {
          "KM-label": 7,
          "digit": 6,
          "tSNE-1": 26.457353591918945,
          "tSNE-2": 29.814714431762695
         },
         {
          "KM-label": 2,
          "digit": 7,
          "tSNE-1": -19.172115325927734,
          "tSNE-2": -36.737945556640625
         },
         {
          "KM-label": 6,
          "digit": 8,
          "tSNE-1": -19.9106502532959,
          "tSNE-2": -6.2351837158203125
         },
         {
          "KM-label": 4,
          "digit": 9,
          "tSNE-1": -10.725915908813477,
          "tSNE-2": 12.780752182006836
         },
         {
          "KM-label": 1,
          "digit": 0,
          "tSNE-1": 39.05341720581055,
          "tSNE-2": -4.892886161804199
         },
         {
          "KM-label": 6,
          "digit": 9,
          "tSNE-1": -11.79560375213623,
          "tSNE-2": -3.9409372806549072
         },
         {
          "KM-label": 3,
          "digit": 5,
          "tSNE-1": 9.234405517578125,
          "tSNE-2": 6.993667125701904
         },
         {
          "KM-label": 4,
          "digit": 5,
          "tSNE-1": 7.825771808624268,
          "tSNE-2": 12.46105670928955
         },
         {
          "KM-label": 7,
          "digit": 6,
          "tSNE-1": 19.825965881347656,
          "tSNE-2": 30.0865421295166
         },
         {
          "KM-label": 4,
          "digit": 5,
          "tSNE-1": 7.7603912353515625,
          "tSNE-2": 11.559318542480469
         },
         {
          "KM-label": 1,
          "digit": 0,
          "tSNE-1": 44.1844482421875,
          "tSNE-2": -0.9504140019416809
         },
         {
          "KM-label": 4,
          "digit": 9,
          "tSNE-1": 1.0998790264129639,
          "tSNE-2": 22.698732376098633
         },
         {
          "KM-label": 6,
          "digit": 8,
          "tSNE-1": -19.42458152770996,
          "tSNE-2": -8.12448501586914
         },
         {
          "KM-label": 4,
          "digit": 9,
          "tSNE-1": -10.11303424835205,
          "tSNE-2": 11.688446998596191
         },
         {
          "KM-label": 6,
          "digit": 8,
          "tSNE-1": -20.28603172302246,
          "tSNE-2": -6.652032375335693
         },
         {
          "KM-label": 5,
          "digit": 4,
          "tSNE-1": 15.706862449645996,
          "tSNE-2": -43.8377571105957
         },
         {
          "KM-label": 0,
          "digit": 1,
          "tSNE-1": -10.930719375610352,
          "tSNE-2": 42.69438552856445
         },
         {
          "KM-label": 2,
          "digit": 7,
          "tSNE-1": -21.169925689697266,
          "tSNE-2": -32.91873550415039
         },
         {
          "KM-label": 2,
          "digit": 7,
          "tSNE-1": -23.6302547454834,
          "tSNE-2": -28.287063598632812
         },
         {
          "KM-label": 8,
          "digit": 3,
          "tSNE-1": -20.34041976928711,
          "tSNE-2": 13.7909517288208
         },
         {
          "KM-label": 4,
          "digit": 5,
          "tSNE-1": 8.128094673156738,
          "tSNE-2": 11.007320404052734
         },
         {
          "KM-label": 7,
          "digit": 1,
          "tSNE-1": -9.427946090698242,
          "tSNE-2": 42.61550521850586
         },
         {
          "KM-label": 1,
          "digit": 0,
          "tSNE-1": 38.23165512084961,
          "tSNE-2": -3.3485889434814453
         },
         {
          "KM-label": 1,
          "digit": 0,
          "tSNE-1": 46.40532302856445,
          "tSNE-2": -4.669057369232178
         },
         {
          "KM-label": 0,
          "digit": 2,
          "tSNE-1": -20.35957908630371,
          "tSNE-2": 34.382877349853516
         },
         {
          "KM-label": 0,
          "digit": 2,
          "tSNE-1": -20.237957000732422,
          "tSNE-2": 34.322296142578125
         },
         {
          "KM-label": 2,
          "digit": 7,
          "tSNE-1": -27.132909774780273,
          "tSNE-2": -27.01165199279785
         },
         {
          "KM-label": 7,
          "digit": 8,
          "tSNE-1": -21.105762481689453,
          "tSNE-2": -6.3712615966796875
         },
         {
          "KM-label": 0,
          "digit": 2,
          "tSNE-1": -24.48024559020996,
          "tSNE-2": 31.010499954223633
         },
         {
          "KM-label": 1,
          "digit": 0,
          "tSNE-1": 38.36083984375,
          "tSNE-2": 1.0088331699371338
         },
         {
          "KM-label": 0,
          "digit": 1,
          "tSNE-1": -11.103157043457031,
          "tSNE-2": 42.94466781616211
         },
         {
          "KM-label": 0,
          "digit": 2,
          "tSNE-1": -20.25777816772461,
          "tSNE-2": 34.33221435546875
         },
         {
          "KM-label": 7,
          "digit": 6,
          "tSNE-1": 18.47031021118164,
          "tSNE-2": 29.880043029785156
         },
         {
          "KM-label": 4,
          "digit": 3,
          "tSNE-1": -19.882427215576172,
          "tSNE-2": 14.51541519165039
         },
         {
          "KM-label": 8,
          "digit": 3,
          "tSNE-1": -38.01153564453125,
          "tSNE-2": 7.048620700836182
         },
         {
          "KM-label": 2,
          "digit": 7,
          "tSNE-1": -19.722393035888672,
          "tSNE-2": -37.30846405029297
         },
         {
          "KM-label": 4,
          "digit": 3,
          "tSNE-1": -18.887958526611328,
          "tSNE-2": 13.111224174499512
         },
         {
          "KM-label": 4,
          "digit": 3,
          "tSNE-1": -19.926515579223633,
          "tSNE-2": 13.637694358825684
         },
         {
          "KM-label": 5,
          "digit": 4,
          "tSNE-1": 15.637965202331543,
          "tSNE-2": -42.430397033691406
         },
         {
          "KM-label": 7,
          "digit": 6,
          "tSNE-1": 19.017253875732422,
          "tSNE-2": 30.950510025024414
         },
         {
          "KM-label": 7,
          "digit": 6,
          "tSNE-1": 20.6740665435791,
          "tSNE-2": 29.198627471923828
         },
         {
          "KM-label": 7,
          "digit": 6,
          "tSNE-1": 28.006013870239258,
          "tSNE-2": 29.11842155456543
         },
         {
          "KM-label": 5,
          "digit": 4,
          "tSNE-1": 13.554499626159668,
          "tSNE-2": -44.74330520629883
         },
         {
          "KM-label": 4,
          "digit": 9,
          "tSNE-1": 0.8121359348297119,
          "tSNE-2": 19.850088119506836
         },
         {
          "KM-label": 7,
          "digit": 1,
          "tSNE-1": -9.559834480285645,
          "tSNE-2": 42.282005310058594
         },
         {
          "KM-label": 3,
          "digit": 5,
          "tSNE-1": 8.539905548095703,
          "tSNE-2": 10.123221397399902
         },
         {
          "KM-label": 1,
          "digit": 0,
          "tSNE-1": 34.93929672241211,
          "tSNE-2": -3.8205084800720215
         },
         {
          "KM-label": 4,
          "digit": 9,
          "tSNE-1": -2.0229640007019043,
          "tSNE-2": 17.664283752441406
         },
         {
          "KM-label": 4,
          "digit": 5,
          "tSNE-1": 8.629953384399414,
          "tSNE-2": 12.330256462097168
         },
         {
          "KM-label": 0,
          "digit": 2,
          "tSNE-1": -21.749977111816406,
          "tSNE-2": 31.34660530090332
         },
         {
          "KM-label": 6,
          "digit": 8,
          "tSNE-1": -20.830232620239258,
          "tSNE-2": -6.7444257736206055
         },
         {
          "KM-label": 0,
          "digit": 2,
          "tSNE-1": -29.842559814453125,
          "tSNE-2": 32.90119934082031
         },
         {
          "KM-label": 1,
          "digit": 0,
          "tSNE-1": 40.62022018432617,
          "tSNE-2": -2.756882429122925
         },
         {
          "KM-label": 1,
          "digit": 0,
          "tSNE-1": 38.836524963378906,
          "tSNE-2": -4.832425117492676
         },
         {
          "KM-label": 0,
          "digit": 1,
          "tSNE-1": -9.926671028137207,
          "tSNE-2": 42.89813995361328
         },
         {
          "KM-label": 2,
          "digit": 7,
          "tSNE-1": -25.655855178833008,
          "tSNE-2": -28.415327072143555
         },
         {
          "KM-label": 7,
          "digit": 6,
          "tSNE-1": 19.011154174804688,
          "tSNE-2": 30.870018005371094
         },
         {
          "KM-label": 4,
          "digit": 3,
          "tSNE-1": -19.92609977722168,
          "tSNE-2": 14.541048049926758
         },
         {
          "KM-label": 0,
          "digit": 2,
          "tSNE-1": -31.084455490112305,
          "tSNE-2": 36.15964126586914
         },
         {
          "KM-label": 0,
          "digit": 1,
          "tSNE-1": -9.691693305969238,
          "tSNE-2": 42.115360260009766
         },
         {
          "KM-label": 2,
          "digit": 7,
          "tSNE-1": -24.31541633605957,
          "tSNE-2": -28.375410079956055
         },
         {
          "KM-label": 5,
          "digit": 4,
          "tSNE-1": 14.906946182250977,
          "tSNE-2": -45.43046188354492
         },
         {
          "KM-label": 7,
          "digit": 6,
          "tSNE-1": 18.36530303955078,
          "tSNE-2": 29.697141647338867
         },
         {
          "KM-label": 4,
          "digit": 3,
          "tSNE-1": -19.504810333251953,
          "tSNE-2": 12.83329963684082
         },
         {
          "KM-label": 0,
          "digit": 1,
          "tSNE-1": -9.876701354980469,
          "tSNE-2": 43.259151458740234
         },
         {
          "KM-label": 4,
          "digit": 3,
          "tSNE-1": -19.651226043701172,
          "tSNE-2": 12.681955337524414
         },
         {
          "KM-label": 4,
          "digit": 9,
          "tSNE-1": -10.100292205810547,
          "tSNE-2": 11.680275917053223
         },
         {
          "KM-label": 0,
          "digit": 1,
          "tSNE-1": -9.866195678710938,
          "tSNE-2": 41.159000396728516
         },
         {
          "KM-label": 2,
          "digit": 7,
          "tSNE-1": -25.35128402709961,
          "tSNE-2": -31.40565299987793
         },
         {
          "KM-label": 7,
          "digit": 6,
          "tSNE-1": 21.103633880615234,
          "tSNE-2": 28.99855613708496
         },
         {
          "KM-label": 6,
          "digit": 8,
          "tSNE-1": -20.201982498168945,
          "tSNE-2": -6.784361839294434
         },
         {
          "KM-label": 5,
          "digit": 4,
          "tSNE-1": 15.945311546325684,
          "tSNE-2": -44.287498474121094
         },
         {
          "KM-label": 8,
          "digit": 3,
          "tSNE-1": -20.525192260742188,
          "tSNE-2": 13.437307357788086
         },
         {
          "KM-label": 6,
          "digit": 1,
          "tSNE-1": -3.3360846042633057,
          "tSNE-2": -6.289842128753662
         },
         {
          "KM-label": 5,
          "digit": 4,
          "tSNE-1": 15.71158504486084,
          "tSNE-2": -44.81509017944336
         },
         {
          "KM-label": 1,
          "digit": 0,
          "tSNE-1": 37.53898239135742,
          "tSNE-2": 3.445434808731079
         },
         {
          "KM-label": 4,
          "digit": 5,
          "tSNE-1": 7.4783525466918945,
          "tSNE-2": 12.660326957702637
         },
         {
          "KM-label": 8,
          "digit": 3,
          "tSNE-1": -20.407434463500977,
          "tSNE-2": 13.282691955566406
         },
         {
          "KM-label": 7,
          "digit": 6,
          "tSNE-1": 20.882740020751953,
          "tSNE-2": 28.99552345275879
         },
         {
          "KM-label": 4,
          "digit": 9,
          "tSNE-1": -10.11255931854248,
          "tSNE-2": 11.699569702148438
         },
         {
          "KM-label": 7,
          "digit": 6,
          "tSNE-1": 19.397294998168945,
          "tSNE-2": 29.7651309967041
         },
         {
          "KM-label": 0,
          "digit": 1,
          "tSNE-1": -9.682079315185547,
          "tSNE-2": 39.99271011352539
         },
         {
          "KM-label": 2,
          "digit": 7,
          "tSNE-1": -24.204696655273438,
          "tSNE-2": -29.80851173400879
         },
         {
          "KM-label": 3,
          "digit": 5,
          "tSNE-1": 9.093742370605469,
          "tSNE-2": 10.210859298706055
         },
         {
          "KM-label": 5,
          "digit": 4,
          "tSNE-1": 19.175636291503906,
          "tSNE-2": -45.01991653442383
         },
         {
          "KM-label": 5,
          "digit": 4,
          "tSNE-1": 15.62387752532959,
          "tSNE-2": -42.01803970336914
         },
         {
          "KM-label": 2,
          "digit": 7,
          "tSNE-1": -29.122638702392578,
          "tSNE-2": -29.1210880279541
         },
         {
          "KM-label": 0,
          "digit": 2,
          "tSNE-1": -20.175575256347656,
          "tSNE-2": 33.76141357421875
         },
         {
          "KM-label": 6,
          "digit": 8,
          "tSNE-1": -19.493650436401367,
          "tSNE-2": -8.821284294128418
         },
         {
          "KM-label": 0,
          "digit": 2,
          "tSNE-1": -28.86409568786621,
          "tSNE-2": 31.831661224365234
         },
         {
          "KM-label": 0,
          "digit": 2,
          "tSNE-1": -20.219268798828125,
          "tSNE-2": 34.4730110168457
         },
         {
          "KM-label": 3,
          "digit": 5,
          "tSNE-1": 6.8148956298828125,
          "tSNE-2": 9.237768173217773
         },
         {
          "KM-label": 2,
          "digit": 7,
          "tSNE-1": -23.852245330810547,
          "tSNE-2": -28.073261260986328
         },
         {
          "KM-label": 4,
          "digit": 9,
          "tSNE-1": -5.576549530029297,
          "tSNE-2": 22.94422721862793
         },
         {
          "KM-label": 4,
          "digit": 5,
          "tSNE-1": 8.529013633728027,
          "tSNE-2": 12.142797470092773
         },
         {
          "KM-label": 2,
          "digit": 4,
          "tSNE-1": 14.59654426574707,
          "tSNE-2": -45.64246368408203
         },
         {
          "KM-label": 9,
          "digit": 8,
          "tSNE-1": -19.469022750854492,
          "tSNE-2": -8.036896705627441
         },
         {
          "KM-label": 6,
          "digit": 8,
          "tSNE-1": -20.643550872802734,
          "tSNE-2": -7.023561954498291
         },
         {
          "KM-label": 2,
          "digit": 4,
          "tSNE-1": 14.83299732208252,
          "tSNE-2": -44.965789794921875
         },
         {
          "KM-label": 4,
          "digit": 9,
          "tSNE-1": 0.007135447114706039,
          "tSNE-2": 19.96527862548828
         },
         {
          "KM-label": 1,
          "digit": 0,
          "tSNE-1": 39.457305908203125,
          "tSNE-2": -4.231331825256348
         },
         {
          "KM-label": 6,
          "digit": 8,
          "tSNE-1": -20.597152709960938,
          "tSNE-2": -6.81078577041626
         },
         {
          "KM-label": 4,
          "digit": 9,
          "tSNE-1": -6.3161725997924805,
          "tSNE-2": 21.39051628112793
         },
         {
          "KM-label": 6,
          "digit": 8,
          "tSNE-1": -19.55131721496582,
          "tSNE-2": -8.004400253295898
         },
         {
          "KM-label": 1,
          "digit": 0,
          "tSNE-1": 37.848724365234375,
          "tSNE-2": -10.304888725280762
         },
         {
          "KM-label": 6,
          "digit": 1,
          "tSNE-1": -1.9039067029953003,
          "tSNE-2": -10.081271171569824
         },
         {
          "KM-label": 0,
          "digit": 2,
          "tSNE-1": -33.112510681152344,
          "tSNE-2": 28.427635192871094
         },
         {
          "KM-label": 8,
          "digit": 3,
          "tSNE-1": -32.497196197509766,
          "tSNE-2": 5.4082560539245605
         },
         {
          "KM-label": 5,
          "digit": 4,
          "tSNE-1": 15.94661808013916,
          "tSNE-2": -27.785245895385742
         },
         {
          "KM-label": 3,
          "digit": 5,
          "tSNE-1": 12.402782440185547,
          "tSNE-2": 10.034483909606934
         },
         {
          "KM-label": 7,
          "digit": 6,
          "tSNE-1": 24.359752655029297,
          "tSNE-2": 32.57323455810547
         },
         {
          "KM-label": 2,
          "digit": 7,
          "tSNE-1": -24.4544677734375,
          "tSNE-2": -29.4508056640625
         },
         {
          "KM-label": 4,
          "digit": 8,
          "tSNE-1": -13.59687614440918,
          "tSNE-2": 1.8464648723602295
         },
         {
          "KM-label": 9,
          "digit": 9,
          "tSNE-1": 0.4594585597515106,
          "tSNE-2": -30.072481155395508
         },
         {
          "KM-label": 1,
          "digit": 0,
          "tSNE-1": 35.57124710083008,
          "tSNE-2": 2.6909372806549072
         },
         {
          "KM-label": 6,
          "digit": 1,
          "tSNE-1": -1.0788449048995972,
          "tSNE-2": -6.277505874633789
         },
         {
          "KM-label": 0,
          "digit": 2,
          "tSNE-1": -33.683162689208984,
          "tSNE-2": 28.20696449279785
         },
         {
          "KM-label": 8,
          "digit": 3,
          "tSNE-1": -33.224815368652344,
          "tSNE-2": 6.511592864990234
         },
         {
          "KM-label": 5,
          "digit": 4,
          "tSNE-1": 16.265125274658203,
          "tSNE-2": -27.484811782836914
         },
         {
          "KM-label": 3,
          "digit": 5,
          "tSNE-1": 18.129592895507812,
          "tSNE-2": 0.3497912883758545
         },
         {
          "KM-label": 7,
          "digit": 6,
          "tSNE-1": 25.040678024291992,
          "tSNE-2": 32.78644943237305
         },
         {
          "KM-label": 2,
          "digit": 7,
          "tSNE-1": -19.712947845458984,
          "tSNE-2": -37.390708923339844
         },
         {
          "KM-label": 6,
          "digit": 8,
          "tSNE-1": -12.267921447753906,
          "tSNE-2": -1.9127278327941895
         },
         {
          "KM-label": 9,
          "digit": 9,
          "tSNE-1": 1.6767804622650146,
          "tSNE-2": -30.56353759765625
         },
         {
          "KM-label": 1,
          "digit": 0,
          "tSNE-1": 37.51271438598633,
          "tSNE-2": -10.060396194458008
         },
         {
          "KM-label": 6,
          "digit": 1,
          "tSNE-1": -0.6794208884239197,
          "tSNE-2": -6.504458427429199
         },
         {
          "KM-label": 0,
          "digit": 2,
          "tSNE-1": -31.438718795776367,
          "tSNE-2": 28.44051170349121
         },
         {
          "KM-label": 8,
          "digit": 3,
          "tSNE-1": -31.1293888092041,
          "tSNE-2": 4.176040172576904
         },
         {
          "KM-label": 9,
          "digit": 4,
          "tSNE-1": 15.289880752563477,
          "tSNE-2": -30.666847229003906
         },
         {
          "KM-label": 3,
          "digit": 5,
          "tSNE-1": 18.000822067260742,
          "tSNE-2": 0.07594937086105347
         },
         {
          "KM-label": 7,
          "digit": 6,
          "tSNE-1": 25.395950317382812,
          "tSNE-2": 32.904945373535156
         },
         {
          "KM-label": 2,
          "digit": 7,
          "tSNE-1": -15.629704475402832,
          "tSNE-2": -38.66060256958008
         },
         {
          "KM-label": 4,
          "digit": 8,
          "tSNE-1": -13.505573272705078,
          "tSNE-2": 1.8483166694641113
         },
         {
          "KM-label": 9,
          "digit": 9,
          "tSNE-1": 1.0459505319595337,
          "tSNE-2": -30.139511108398438
         },
         {
          "KM-label": 1,
          "digit": 0,
          "tSNE-1": 37.461036682128906,
          "tSNE-2": -0.8073460459709167
         },
         {
          "KM-label": 9,
          "digit": 9,
          "tSNE-1": 1.9913725852966309,
          "tSNE-2": -30.587966918945312
         },
         {
          "KM-label": 5,
          "digit": 5,
          "tSNE-1": 17.168682098388672,
          "tSNE-2": 10.717659950256348
         },
         {
          "KM-label": 3,
          "digit": 5,
          "tSNE-1": 18.080284118652344,
          "tSNE-2": 2.0961930751800537
         },
         {
          "KM-label": 7,
          "digit": 6,
          "tSNE-1": 24.552339553833008,
          "tSNE-2": 34.35331726074219
         },
         {
          "KM-label": 3,
          "digit": 5,
          "tSNE-1": 18.538002014160156,
          "tSNE-2": 0.03591715544462204
         },
         {
          "KM-label": 1,
          "digit": 0,
          "tSNE-1": 41.50639343261719,
          "tSNE-2": -6.681522369384766
         },
         {
          "KM-label": 9,
          "digit": 9,
          "tSNE-1": 1.4098998308181763,
          "tSNE-2": -28.05722427368164
         },
         {
          "KM-label": 6,
          "digit": 8,
          "tSNE-1": -11.44054889678955,
          "tSNE-2": -1.2359046936035156
         },
         {
          "KM-label": 9,
          "digit": 9,
          "tSNE-1": 1.5231856107711792,
          "tSNE-2": -30.318161010742188
         },
         {
          "KM-label": 4,
          "digit": 8,
          "tSNE-1": -11.666655540466309,
          "tSNE-2": -0.8818539977073669
         },
         {
          "KM-label": 5,
          "digit": 4,
          "tSNE-1": 14.743785858154297,
          "tSNE-2": -28.865938186645508
         },
         {
          "KM-label": 6,
          "digit": 1,
          "tSNE-1": -4.816701889038086,
          "tSNE-2": -9.961179733276367
         },
         {
          "KM-label": 2,
          "digit": 7,
          "tSNE-1": -15.714578628540039,
          "tSNE-2": -38.406700134277344
         },
         {
          "KM-label": 9,
          "digit": 7,
          "tSNE-1": -15.647303581237793,
          "tSNE-2": -38.38978958129883
         },
         {
          "KM-label": 8,
          "digit": 3,
          "tSNE-1": -36.384578704833984,
          "tSNE-2": 6.991141319274902
         },
         {
          "KM-label": 3,
          "digit": 5,
          "tSNE-1": 16.752750396728516,
          "tSNE-2": 0.12861385941505432
         },
         {
          "KM-label": 6,
          "digit": 1,
          "tSNE-1": -4.750858783721924,
          "tSNE-2": -9.840657234191895
         },
         {
          "KM-label": 1,
          "digit": 0,
          "tSNE-1": 37.435272216796875,
          "tSNE-2": -7.407925128936768
         },
         {
          "KM-label": 1,
          "digit": 0,
          "tSNE-1": 36.939064025878906,
          "tSNE-2": 0.8722379803657532
         },
         {
          "KM-label": 8,
          "digit": 2,
          "tSNE-1": -28.595909118652344,
          "tSNE-2": 25.756254196166992
         },
         {
          "KM-label": 0,
          "digit": 2,
          "tSNE-1": -31.247936248779297,
          "tSNE-2": 26.791847229003906
         },
         {
          "KM-label": 2,
          "digit": 7,
          "tSNE-1": -18.551387786865234,
          "tSNE-2": -36.751834869384766
         },
         {
          "KM-label": 6,
          "digit": 8,
          "tSNE-1": -11.566298484802246,
          "tSNE-2": -2.050171136856079
         },
         {
          "KM-label": 6,
          "digit": 2,
          "tSNE-1": -28.554269790649414,
          "tSNE-2": 25.08807373046875
         },
         {
          "KM-label": 1,
          "digit": 0,
          "tSNE-1": 34.66191864013672,
          "tSNE-2": -9.158041000366211
         },
         {
          "KM-label": 6,
          "digit": 1,
          "tSNE-1": -0.17400310933589935,
          "tSNE-2": -13.984888076782227
         },
         {
          "KM-label": 4,
          "digit": 2,
          "tSNE-1": -28.42083168029785,
          "tSNE-2": 25.185733795166016
         },
         {
          "KM-label": 7,
          "digit": 6,
          "tSNE-1": 23.372312545776367,
          "tSNE-2": 34.5227165222168
         },
         {
          "KM-label": 8,
          "digit": 3,
          "tSNE-1": -33.952964782714844,
          "tSNE-2": 6.319392681121826
         },
         {
          "KM-label": 8,
          "digit": 3,
          "tSNE-1": -32.808040618896484,
          "tSNE-2": 5.5276947021484375
         },
         {
          "KM-label": 2,
          "digit": 7,
          "tSNE-1": -18.663833618164062,
          "tSNE-2": -37.2292594909668
         },
         {
          "KM-label": 8,
          "digit": 3,
          "tSNE-1": -34.15633010864258,
          "tSNE-2": 7.164085865020752
         },
         {
          "KM-label": 8,
          "digit": 3,
          "tSNE-1": -31.881689071655273,
          "tSNE-2": 4.077741622924805
         },
         {
          "KM-label": 5,
          "digit": 4,
          "tSNE-1": 14.174870491027832,
          "tSNE-2": -29.250568389892578
         },
         {
          "KM-label": 7,
          "digit": 6,
          "tSNE-1": 27.502368927001953,
          "tSNE-2": 33.594459533691406
         },
         {
          "KM-label": 7,
          "digit": 6,
          "tSNE-1": 25.66880989074707,
          "tSNE-2": 27.985868453979492
         },
         {
          "KM-label": 7,
          "digit": 6,
          "tSNE-1": 26.96564483642578,
          "tSNE-2": 34.963966369628906
         },
         {
          "KM-label": 5,
          "digit": 4,
          "tSNE-1": 16.5461483001709,
          "tSNE-2": -27.983352661132812
         },
         {
          "KM-label": 9,
          "digit": 9,
          "tSNE-1": 1.4723992347717285,
          "tSNE-2": -29.945323944091797
         },
         {
          "KM-label": 6,
          "digit": 1,
          "tSNE-1": -1.6898889541625977,
          "tSNE-2": -8.560917854309082
         },
         {
          "KM-label": 3,
          "digit": 5,
          "tSNE-1": 16.158119201660156,
          "tSNE-2": 10.506773948669434
         },
         {
          "KM-label": 1,
          "digit": 0,
          "tSNE-1": 37.11531448364258,
          "tSNE-2": -7.951216697692871
         },
         {
          "KM-label": 9,
          "digit": 9,
          "tSNE-1": 2.3559045791625977,
          "tSNE-2": -29.570703506469727
         },
         {
          "KM-label": 3,
          "digit": 5,
          "tSNE-1": 16.400646209716797,
          "tSNE-2": 10.544236183166504
         },
         {
          "KM-label": 8,
          "digit": 2,
          "tSNE-1": -29.405975341796875,
          "tSNE-2": 26.036516189575195
         },
         {
          "KM-label": 4,
          "digit": 8,
          "tSNE-1": -11.763132095336914,
          "tSNE-2": 4.109382152557373
         },
         {
          "KM-label": 0,
          "digit": 2,
          "tSNE-1": -34.25516891479492,
          "tSNE-2": 28.679027557373047
         },
         {
          "KM-label": 1,
          "digit": 0,
          "tSNE-1": 38.29515838623047,
          "tSNE-2": -8.706378936767578
         },
         {
          "KM-label": 1,
          "digit": 0,
          "tSNE-1": 37.6923942565918,
          "tSNE-2": -1.7879061698913574
         },
         {
          "KM-label": 6,
          "digit": 1,
          "tSNE-1": -0.27840015292167664,
          "tSNE-2": -14.111628532409668
         },
         {
          "KM-label": 2,
          "digit": 7,
          "tSNE-1": -17.99388313293457,
          "tSNE-2": -37.115570068359375
         },
         {
          "KM-label": 7,
          "digit": 6,
          "tSNE-1": 25.770442962646484,
          "tSNE-2": 32.681182861328125
         },
         {
          "KM-label": 8,
          "digit": 3,
          "tSNE-1": -33.373348236083984,
          "tSNE-2": 5.947872161865234
         },
         {
          "KM-label": 0,
          "digit": 2,
          "tSNE-1": -34.515743255615234,
          "tSNE-2": 34.01428985595703
         },
         {
          "KM-label": 6,
          "digit": 1,
          "tSNE-1": -1.1543701887130737,
          "tSNE-2": -8.018582344055176
         },
         {
          "KM-label": 2,
          "digit": 7,
          "tSNE-1": -15.794907569885254,
          "tSNE-2": -38.5289192199707
         },
         {
          "KM-label": 5,
          "digit": 4,
          "tSNE-1": 16.297224044799805,
          "tSNE-2": -28.15088653564453
         },
         {
          "KM-label": 7,
          "digit": 6,
          "tSNE-1": 17.69100570678711,
          "tSNE-2": 24.563735961914062
         },
         {
          "KM-label": 8,
          "digit": 3,
          "tSNE-1": -34.15198516845703,
          "tSNE-2": 7.185300350189209
         },
         {
          "KM-label": 6,
          "digit": 1,
          "tSNE-1": -1.2145799398422241,
          "tSNE-2": -7.580136299133301
         },
         {
          "KM-label": 8,
          "digit": 3,
          "tSNE-1": -25.58028221130371,
          "tSNE-2": 4.146329879760742
         },
         {
          "KM-label": 9,
          "digit": 9,
          "tSNE-1": 1.9971309900283813,
          "tSNE-2": -29.446617126464844
         },
         {
          "KM-label": 6,
          "digit": 1,
          "tSNE-1": -2.2373170852661133,
          "tSNE-2": -8.382160186767578
         },
         {
          "KM-label": 2,
          "digit": 7,
          "tSNE-1": -17.807458877563477,
          "tSNE-2": -37.13638687133789
         },
         {
          "KM-label": 7,
          "digit": 6,
          "tSNE-1": 27.982784271240234,
          "tSNE-2": 33.332557678222656
         },
         {
          "KM-label": 6,
          "digit": 8,
          "tSNE-1": -9.324241638183594,
          "tSNE-2": -2.877054214477539
         },
         {
          "KM-label": 5,
          "digit": 4,
          "tSNE-1": 15.350825309753418,
          "tSNE-2": -45.05014419555664
         },
         {
          "KM-label": 8,
          "digit": 3,
          "tSNE-1": -25.59766387939453,
          "tSNE-2": 4.179262161254883
         },
         {
          "KM-label": 6,
          "digit": 1,
          "tSNE-1": -1.6496964693069458,
          "tSNE-2": -8.713173866271973
         },
         {
          "KM-label": 2,
          "digit": 4,
          "tSNE-1": 8.060561180114746,
          "tSNE-2": -43.086570739746094
         },
         {
          "KM-label": 1,
          "digit": 0,
          "tSNE-1": 36.65478515625,
          "tSNE-2": -5.730544567108154
         },
         {
          "KM-label": 3,
          "digit": 5,
          "tSNE-1": 14.143324851989746,
          "tSNE-2": 11.952703475952148
         },
         {
          "KM-label": 8,
          "digit": 3,
          "tSNE-1": -30.684736251831055,
          "tSNE-2": 3.8991329669952393
         },
         {
          "KM-label": 7,
          "digit": 6,
          "tSNE-1": 18.095901489257812,
          "tSNE-2": 24.726877212524414
         },
         {
          "KM-label": 9,
          "digit": 9,
          "tSNE-1": 1.7694612741470337,
          "tSNE-2": -30.93350601196289
         },
         {
          "KM-label": 7,
          "digit": 6,
          "tSNE-1": 18.07331085205078,
          "tSNE-2": 24.569292068481445
         },
         {
          "KM-label": 6,
          "digit": 1,
          "tSNE-1": -1.8603466749191284,
          "tSNE-2": -9.64649486541748
         },
         {
          "KM-label": 2,
          "digit": 7,
          "tSNE-1": -17.78382110595703,
          "tSNE-2": -37.39486312866211
         },
         {
          "KM-label": 3,
          "digit": 5,
          "tSNE-1": 16.642845153808594,
          "tSNE-2": -0.3711070716381073
         },
         {
          "KM-label": 5,
          "digit": 4,
          "tSNE-1": 19.257946014404297,
          "tSNE-2": -45.103275299072266
         },
         {
          "KM-label": 2,
          "digit": 4,
          "tSNE-1": 8.382756233215332,
          "tSNE-2": -42.704769134521484
         },
         {
          "KM-label": 2,
          "digit": 7,
          "tSNE-1": -16.984363555908203,
          "tSNE-2": -37.60639953613281
         },
         {
          "KM-label": 0,
          "digit": 2,
          "tSNE-1": -32.31731033325195,
          "tSNE-2": 27.787487030029297
         },
         {
          "KM-label": 6,
          "digit": 8,
          "tSNE-1": -7.737025737762451,
          "tSNE-2": -6.568002223968506
         },
         {
          "KM-label": 0,
          "digit": 2,
          "tSNE-1": -32.26996612548828,
          "tSNE-2": 27.455913543701172
         },
         {
          "KM-label": 0,
          "digit": 2,
          "tSNE-1": -32.60371017456055,
          "tSNE-2": 28.27141761779785
         },
         {
          "KM-label": 3,
          "digit": 5,
          "tSNE-1": 18.104108810424805,
          "tSNE-2": -1.1364370584487915
         },
         {
          "KM-label": 2,
          "digit": 7,
          "tSNE-1": -23.782310485839844,
          "tSNE-2": -29.243988037109375
         },
         {
          "KM-label": 9,
          "digit": 9,
          "tSNE-1": 1.070675015449524,
          "tSNE-2": -30.5118350982666
         },
         {
          "KM-label": 3,
          "digit": 5,
          "tSNE-1": 18.84189224243164,
          "tSNE-2": -4.2172932624816895
         },
         {
          "KM-label": 5,
          "digit": 4,
          "tSNE-1": 19.8037052154541,
          "tSNE-2": -44.47548294067383
         },
         {
          "KM-label": 4,
          "digit": 8,
          "tSNE-1": -12.143512725830078,
          "tSNE-2": 2.9048373699188232
         },
         {
          "KM-label": 6,
          "digit": 8,
          "tSNE-1": -8.318755149841309,
          "tSNE-2": -7.989131450653076
         },
         {
          "KM-label": 2,
          "digit": 4,
          "tSNE-1": 8.277928352355957,
          "tSNE-2": -42.86913299560547
         },
         {
          "KM-label": 9,
          "digit": 9,
          "tSNE-1": 0.8275092840194702,
          "tSNE-2": -29.849119186401367
         },
         {
          "KM-label": 1,
          "digit": 0,
          "tSNE-1": 37.52121353149414,
          "tSNE-2": -7.392504692077637
         },
         {
          "KM-label": 4,
          "digit": 8,
          "tSNE-1": -13.462846755981445,
          "tSNE-2": 1.5285693407058716
         },
         {
          "KM-label": 9,
          "digit": 9,
          "tSNE-1": 0.48341313004493713,
          "tSNE-2": -29.15103530883789
         },
         {
          "KM-label": 6,
          "digit": 8,
          "tSNE-1": -11.211369514465332,
          "tSNE-2": -2.5340044498443604
         },
         {
          "KM-label": 1,
          "digit": 0,
          "tSNE-1": 41.668434143066406,
          "tSNE-2": 3.370403289794922
         },
         {
          "KM-label": 6,
          "digit": 1,
          "tSNE-1": 2.1546032428741455,
          "tSNE-2": -12.881990432739258
         },
         {
          "KM-label": 0,
          "digit": 2,
          "tSNE-1": -32.510677337646484,
          "tSNE-2": 34.08356475830078
         },
         {
          "KM-label": 8,
          "digit": 3,
          "tSNE-1": -26.05675506591797,
          "tSNE-2": 3.5506274700164795
         },
         {
          "KM-label": 5,
          "digit": 4,
          "tSNE-1": 20.553817749023438,
          "tSNE-2": -42.07303237915039
         },
         {
          "KM-label": 3,
          "digit": 5,
          "tSNE-1": 13.368372917175293,
          "tSNE-2": 0.487010657787323
         },
         {
          "KM-label": 7,
          "digit": 6,
          "tSNE-1": 30.995882034301758,
          "tSNE-2": 21.288108825683594
         },
         {
          "KM-label": 2,
          "digit": 7,
          "tSNE-1": -19.10740852355957,
          "tSNE-2": -31.500757217407227
         },
         {
          "KM-label": 7,
          "digit": 8,
          "tSNE-1": -4.368811130523682,
          "tSNE-2": -0.4664721190929413
         },
         {
          "KM-label": 4,
          "digit": 9,
          "tSNE-1": -6.033097267150879,
          "tSNE-2": 23.207199096679688
         },
         {
          "KM-label": 1,
          "digit": 0,
          "tSNE-1": 46.258644104003906,
          "tSNE-2": -3.0385353565216064
         },
         {
          "KM-label": 6,
          "digit": 1,
          "tSNE-1": 1.6827858686447144,
          "tSNE-2": -14.501739501953125
         },
         {
          "KM-label": 0,
          "digit": 2,
          "tSNE-1": -31.040393829345703,
          "tSNE-2": 34.52602005004883
         },
         {
          "KM-label": 8,
          "digit": 3,
          "tSNE-1": -28.18189811706543,
          "tSNE-2": 5.048139572143555
         },
         {
          "KM-label": 5,
          "digit": 4,
          "tSNE-1": 18.75861167907715,
          "tSNE-2": -40.89027786254883
         },
         {
          "KM-label": 3,
          "digit": 5,
          "tSNE-1": 15.949298858642578,
          "tSNE-2": -4.175075054168701
         },
         {
          "KM-label": 1,
          "digit": 6,
          "tSNE-1": 31.411584854125977,
          "tSNE-2": 20.91170310974121
         },
         {
          "KM-label": 2,
          "digit": 7,
          "tSNE-1": -25.194456100463867,
          "tSNE-2": -30.929513931274414
         },
         {
          "KM-label": 9,
          "digit": 8,
          "tSNE-1": 6.481433868408203,
          "tSNE-2": -19.68183135986328
         },
         {
          "KM-label": 4,
          "digit": 9,
          "tSNE-1": 1.5918728113174438,
          "tSNE-2": 23.56479835510254
         },
         {
          "KM-label": 1,
          "digit": 0,
          "tSNE-1": 40.20618438720703,
          "tSNE-2": 2.8912580013275146
         },
         {
          "KM-label": 6,
          "digit": 1,
          "tSNE-1": 0.1516394317150116,
          "tSNE-2": -13.44524097442627
         },
         {
          "KM-label": 0,
          "digit": 2,
          "tSNE-1": -34.115142822265625,
          "tSNE-2": 34.23173522949219
         },
         {
          "KM-label": 8,
          "digit": 3,
          "tSNE-1": -28.9908390045166,
          "tSNE-2": 6.752655506134033
         },
         {
          "KM-label": 5,
          "digit": 4,
          "tSNE-1": 18.892744064331055,
          "tSNE-2": -43.04913330078125
         },
         {
          "KM-label": 3,
          "digit": 5,
          "tSNE-1": 16.45368003845215,
          "tSNE-2": -3.5533950328826904
         },
         {
          "KM-label": 7,
          "digit": 6,
          "tSNE-1": 29.32846450805664,
          "tSNE-2": 22.975439071655273
         },
         {
          "KM-label": 2,
          "digit": 7,
          "tSNE-1": -24.66141700744629,
          "tSNE-2": -31.825002670288086
         },
         {
          "KM-label": 6,
          "digit": 8,
          "tSNE-1": -8.271236419677734,
          "tSNE-2": -6.1615824699401855
         },
         {
          "KM-label": 4,
          "digit": 9,
          "tSNE-1": -6.482792377471924,
          "tSNE-2": 21.639158248901367
         },
         {
          "KM-label": 1,
          "digit": 0,
          "tSNE-1": 40.896907806396484,
          "tSNE-2": 0.7169223427772522
         },
         {
          "KM-label": 4,
          "digit": 9,
          "tSNE-1": 1.1713324785232544,
          "tSNE-2": 23.063508987426758
         },
         {
          "KM-label": 3,
          "digit": 5,
          "tSNE-1": 11.619406700134277,
          "tSNE-2": -0.47122371196746826
         },
         {
          "KM-label": 3,
          "digit": 5,
          "tSNE-1": 17.21943473815918,
          "tSNE-2": -1.6122796535491943
         },
         {
          "KM-label": 7,
          "digit": 6,
          "tSNE-1": 31.881328582763672,
          "tSNE-2": 30.320430755615234
         },
         {
          "KM-label": 3,
          "digit": 5,
          "tSNE-1": 13.229659080505371,
          "tSNE-2": 0.1566377431154251
         },
         {
          "KM-label": 1,
          "digit": 0,
          "tSNE-1": 39.989173889160156,
          "tSNE-2": 0.6639606952667236
         },
         {
          "KM-label": 4,
          "digit": 9,
          "tSNE-1": -19.511383056640625,
          "tSNE-2": 15.171737670898438
         },
         {
          "KM-label": 4,
          "digit": 8,
          "tSNE-1": -10.979754447937012,
          "tSNE-2": 5.4691948890686035
         },
         {
          "KM-label": 4,
          "digit": 9,
          "tSNE-1": 0.14466214179992676,
          "tSNE-2": 20.784147262573242
         },
         {
          "KM-label": 4,
          "digit": 8,
          "tSNE-1": -7.290032863616943,
          "tSNE-2": 5.106162071228027
         },
         {
          "KM-label": 5,
          "digit": 4,
          "tSNE-1": 18.856843948364258,
          "tSNE-2": -37.581207275390625
         },
         {
          "KM-label": 6,
          "digit": 1,
          "tSNE-1": -4.041093349456787,
          "tSNE-2": -7.621693134307861
         },
         {
          "KM-label": 2,
          "digit": 7,
          "tSNE-1": -29.246000289916992,
          "tSNE-2": -30.955364227294922
         },
         {
          "KM-label": 2,
          "digit": 7,
          "tSNE-1": -18.74529457092285,
          "tSNE-2": -32.1322021484375
         },
         {
          "KM-label": 8,
          "digit": 3,
          "tSNE-1": -28.752840042114258,
          "tSNE-2": 3.1524569988250732
         },
         {
          "KM-label": 3,
          "digit": 5,
          "tSNE-1": 13.94374942779541,
          "tSNE-2": -0.39750203490257263
         },
         {
          "KM-label": 6,
          "digit": 1,
          "tSNE-1": -2.927747964859009,
          "tSNE-2": -9.489609718322754
         },
         {
          "KM-label": 1,
          "digit": 0,
          "tSNE-1": 34.155391693115234,
          "tSNE-2": -1.8487558364868164
         },
         {
          "KM-label": 1,
          "digit": 0,
          "tSNE-1": 34.57284927368164,
          "tSNE-2": -1.0028696060180664
         },
         {
          "KM-label": 0,
          "digit": 2,
          "tSNE-1": -33.628108978271484,
          "tSNE-2": 30.8765869140625
         },
         {
          "KM-label": 0,
          "digit": 2,
          "tSNE-1": -33.58053207397461,
          "tSNE-2": 36.97614669799805
         },
         {
          "KM-label": 2,
          "digit": 7,
          "tSNE-1": -29.807092666625977,
          "tSNE-2": -32.00743103027344
         },
         {
          "KM-label": 9,
          "digit": 8,
          "tSNE-1": -7.225964546203613,
          "tSNE-2": 5.05457878112793
         },
         {
          "KM-label": 0,
          "digit": 2,
          "tSNE-1": -34.1620979309082,
          "tSNE-2": 33.67443084716797
         },
         {
          "KM-label": 1,
          "digit": 0,
          "tSNE-1": 38.41495132446289,
          "tSNE-2": -11.200035095214844
         },
         {
          "KM-label": 0,
          "digit": 1,
          "tSNE-1": -12.459948539733887,
          "tSNE-2": 42.93429183959961
         },
         {
          "KM-label": 0,
          "digit": 2,
          "tSNE-1": -28.809959411621094,
          "tSNE-2": 37.60729217529297
         },
         {
          "KM-label": 7,
          "digit": 6,
          "tSNE-1": 21.164243698120117,
          "tSNE-2": 25.457164764404297
         },
         {
          "KM-label": 8,
          "digit": 3,
          "tSNE-1": -28.534435272216797,
          "tSNE-2": 2.7866456508636475
         },
         {
          "KM-label": 8,
          "digit": 3,
          "tSNE-1": -28.645221710205078,
          "tSNE-2": 2.571760892868042
         },
         {
          "KM-label": 2,
          "digit": 7,
          "tSNE-1": -24.15984344482422,
          "tSNE-2": -32.56270217895508
         },
         {
          "KM-label": 8,
          "digit": 3,
          "tSNE-1": -34.78599548339844,
          "tSNE-2": 3.8671422004699707
         },
         {
          "KM-label": 8,
          "digit": 3,
          "tSNE-1": -34.39289474487305,
          "tSNE-2": 3.1531600952148438
         },
         {
          "KM-label": 5,
          "digit": 4,
          "tSNE-1": 17.62593650817871,
          "tSNE-2": -41.479949951171875
         },
         {
          "KM-label": 7,
          "digit": 6,
          "tSNE-1": 28.96065330505371,
          "tSNE-2": 24.967662811279297
         },
         {
          "KM-label": 7,
          "digit": 6,
          "tSNE-1": 32.00197982788086,
          "tSNE-2": 30.282596588134766
         },
         {
          "KM-label": 7,
          "digit": 6,
          "tSNE-1": 30.994842529296875,
          "tSNE-2": 21.16701316833496
         },
         {
          "KM-label": 5,
          "digit": 4,
          "tSNE-1": 19.020862579345703,
          "tSNE-2": -42.41631317138672
         },
         {
          "KM-label": 4,
          "digit": 9,
          "tSNE-1": -6.453559398651123,
          "tSNE-2": 21.956560134887695
         },
         {
          "KM-label": 6,
          "digit": 1,
          "tSNE-1": -3.912003755569458,
          "tSNE-2": -11.929046630859375
         },
         {
          "KM-label": 3,
          "digit": 5,
          "tSNE-1": 11.744436264038086,
          "tSNE-2": -0.6394144892692566
         },
         {
          "KM-label": 1,
          "digit": 0,
          "tSNE-1": 36.29269790649414,
          "tSNE-2": -7.783201217651367
         },
         {
          "KM-label": 4,
          "digit": 9,
          "tSNE-1": -5.425161838531494,
          "tSNE-2": 17.546117782592773
         },
         {
          "KM-label": 3,
          "digit": 5,
          "tSNE-1": 12.532264709472656,
          "tSNE-2": -1.0900146961212158
         },
         {
          "KM-label": 0,
          "digit": 2,
          "tSNE-1": -34.34075927734375,
          "tSNE-2": 35.06475830078125
         },
         {
          "KM-label": 6,
          "digit": 8,
          "tSNE-1": -8.559925079345703,
          "tSNE-2": -0.2419566959142685
         },
         {
          "KM-label": 0,
          "digit": 2,
          "tSNE-1": -33.529022216796875,
          "tSNE-2": 36.52290725708008
         },
         {
          "KM-label": 1,
          "digit": 0,
          "tSNE-1": 35.84846496582031,
          "tSNE-2": -9.692161560058594
         },
         {
          "KM-label": 1,
          "digit": 0,
          "tSNE-1": 41.61893844604492,
          "tSNE-2": -1.4836872816085815
         },
         {
          "KM-label": 6,
          "digit": 1,
          "tSNE-1": -0.020107420161366463,
          "tSNE-2": -5.975363254547119
         },
         {
          "KM-label": 2,
          "digit": 7,
          "tSNE-1": -24.138702392578125,
          "tSNE-2": -33.03224563598633
         },
         {
          "KM-label": 7,
          "digit": 6,
          "tSNE-1": 30.29400634765625,
          "tSNE-2": 28.584232330322266
         },
         {
          "KM-label": 8,
          "digit": 3,
          "tSNE-1": -31.103057861328125,
          "tSNE-2": 6.3852434158325195
         },
         {
          "KM-label": 2,
          "digit": 2,
          "tSNE-1": -26.449350357055664,
          "tSNE-2": 26.684017181396484
         },
         {
          "KM-label": 6,
          "digit": 1,
          "tSNE-1": -0.9904030561447144,
          "tSNE-2": -10.46617603302002
         },
         {
          "KM-label": 2,
          "digit": 7,
          "tSNE-1": -21.619821548461914,
          "tSNE-2": -35.67097091674805
         },
         {
          "KM-label": 5,
          "digit": 4,
          "tSNE-1": 20.121540069580078,
          "tSNE-2": -35.162376403808594
         },
         {
          "KM-label": 7,
          "digit": 6,
          "tSNE-1": 29.725725173950195,
          "tSNE-2": 22.080610275268555
         },
         {
          "KM-label": 8,
          "digit": 3,
          "tSNE-1": -26.970081329345703,
          "tSNE-2": 5.556163311004639
         },
         {
          "KM-label": 6,
          "digit": 1,
          "tSNE-1": 0.7029663324356079,
          "tSNE-2": -10.539990425109863
         },
         {
          "KM-label": 8,
          "digit": 3,
          "tSNE-1": -28.183584213256836,
          "tSNE-2": 6.42823600769043
         },
         {
          "KM-label": 4,
          "digit": 9,
          "tSNE-1": 0.9111195802688599,
          "tSNE-2": 22.896442413330078
         },
         {
          "KM-label": 6,
          "digit": 1,
          "tSNE-1": 1.3600385189056396,
          "tSNE-2": -10.392857551574707
         },
         {
          "KM-label": 2,
          "digit": 7,
          "tSNE-1": -29.267311096191406,
          "tSNE-2": -31.620698928833008
         },
         {
          "KM-label": 7,
          "digit": 6,
          "tSNE-1": 29.957870483398438,
          "tSNE-2": 29.869020462036133
         },
         {
          "KM-label": 0,
          "digit": 8,
          "tSNE-1": -4.508942604064941,
          "tSNE-2": -0.537920355796814
         },
         {
          "KM-label": 5,
          "digit": 4,
          "tSNE-1": 20.13504409790039,
          "tSNE-2": -42.612098693847656
         },
         {
          "KM-label": 8,
          "digit": 3,
          "tSNE-1": -27.279356002807617,
          "tSNE-2": 6.493131160736084
         },
         {
          "KM-label": 6,
          "digit": 1,
          "tSNE-1": 0.6263415217399597,
          "tSNE-2": -12.152209281921387
         },
         {
          "KM-label": 5,
          "digit": 4,
          "tSNE-1": 22.747669219970703,
          "tSNE-2": -37.55392837524414
         },
         {
          "KM-label": 1,
          "digit": 0,
          "tSNE-1": 40.251434326171875,
          "tSNE-2": -0.7022610902786255
         },
         {
          "KM-label": 3,
          "digit": 5,
          "tSNE-1": 12.293980598449707,
          "tSNE-2": 0.26180699467658997
         },
         {
          "KM-label": 8,
          "digit": 3,
          "tSNE-1": -32.4936637878418,
          "tSNE-2": 1.6066542863845825
         },
         {
          "KM-label": 7,
          "digit": 6,
          "tSNE-1": 22.074825286865234,
          "tSNE-2": 23.173961639404297
         },
         {
          "KM-label": 4,
          "digit": 9,
          "tSNE-1": -7.77286958694458,
          "tSNE-2": 22.216283798217773
         },
         {
          "KM-label": 7,
          "digit": 6,
          "tSNE-1": 25.452667236328125,
          "tSNE-2": 34.33594512939453
         },
         {
          "KM-label": 6,
          "digit": 1,
          "tSNE-1": -3.579752206802368,
          "tSNE-2": -12.207001686096191
         },
         {
          "KM-label": 2,
          "digit": 7,
          "tSNE-1": -25.50987434387207,
          "tSNE-2": -32.86234664916992
         },
         {
          "KM-label": 3,
          "digit": 5,
          "tSNE-1": 16.568700790405273,
          "tSNE-2": -2.4773435592651367
         },
         {
          "KM-label": 5,
          "digit": 4,
          "tSNE-1": 18.99962043762207,
          "tSNE-2": -42.7858772277832
         },
         {
          "KM-label": 5,
          "digit": 4,
          "tSNE-1": 18.229211807250977,
          "tSNE-2": -36.6882438659668
         },
         {
          "KM-label": 2,
          "digit": 7,
          "tSNE-1": -24.26329231262207,
          "tSNE-2": -32.709815979003906
         },
         {
          "KM-label": 0,
          "digit": 2,
          "tSNE-1": -34.11496353149414,
          "tSNE-2": 35.67694854736328
         },
         {
          "KM-label": 9,
          "digit": 8,
          "tSNE-1": -5.917163848876953,
          "tSNE-2": 3.923013210296631
         },
         {
          "KM-label": 2,
          "digit": 2,
          "tSNE-1": -28.934192657470703,
          "tSNE-2": -13.249368667602539
         },
         {
          "KM-label": 0,
          "digit": 2,
          "tSNE-1": -32.21341323852539,
          "tSNE-2": 28.970407485961914
         },
         {
          "KM-label": 3,
          "digit": 5,
          "tSNE-1": 11.833484649658203,
          "tSNE-2": 1.721535086631775
         },
         {
          "KM-label": 2,
          "digit": 7,
          "tSNE-1": -28.374418258666992,
          "tSNE-2": -26.04820442199707
         },
         {
          "KM-label": 4,
          "digit": 9,
          "tSNE-1": 0.7864049077033997,
          "tSNE-2": 21.73342514038086
         },
         {
          "KM-label": 3,
          "digit": 5,
          "tSNE-1": 16.007240295410156,
          "tSNE-2": -3.589109420776367
         },
         {
          "KM-label": 5,
          "digit": 4,
          "tSNE-1": 20.458187103271484,
          "tSNE-2": -42.01972961425781
         },
         {
          "KM-label": 9,
          "digit": 8,
          "tSNE-1": -6.1569929122924805,
          "tSNE-2": 4.048450469970703
         },
         {
          "KM-label": 4,
          "digit": 8,
          "tSNE-1": -19.70262908935547,
          "tSNE-2": 2.8605823516845703
         },
         {
          "KM-label": 5,
          "digit": 4,
          "tSNE-1": 21.97275733947754,
          "tSNE-2": -37.113155364990234
         },
         {
          "KM-label": 4,
          "digit": 9,
          "tSNE-1": 0.9348173141479492,
          "tSNE-2": 21.42232894897461
         },
         {
          "KM-label": 1,
          "digit": 0,
          "tSNE-1": 36.242374420166016,
          "tSNE-2": -2.6122782230377197
         },
         {
          "KM-label": 6,
          "digit": 8,
          "tSNE-1": -5.774745941162109,
          "tSNE-2": 3.8165698051452637
         },
         {
          "KM-label": 4,
          "digit": 9,
          "tSNE-1": -1.77268648147583,
          "tSNE-2": 22.807682037353516
         },
         {
          "KM-label": 6,
          "digit": 8,
          "tSNE-1": -4.193783760070801,
          "tSNE-2": -0.5731832385063171
         },
         {
          "KM-label": 0,
          "digit": 1,
          "tSNE-1": -12.099759101867676,
          "tSNE-2": 42.830772399902344
         },
         {
          "KM-label": 0,
          "digit": 2,
          "tSNE-1": -29.04599380493164,
          "tSNE-2": 32.63105773925781
         },
         {
          "KM-label": 8,
          "digit": 3,
          "tSNE-1": -28.143835067749023,
          "tSNE-2": 11.350724220275879
         },
         {
          "KM-label": 5,
          "digit": 4,
          "tSNE-1": 18.344526290893555,
          "tSNE-2": -34.4553108215332
         },
         {
          "KM-label": 3,
          "digit": 5,
          "tSNE-1": 9.118573188781738,
          "tSNE-2": 9.7684907913208
         },
         {
          "KM-label": 7,
          "digit": 6,
          "tSNE-1": 25.905038833618164,
          "tSNE-2": 36.56980514526367
         },
         {
          "KM-label": 2,
          "digit": 7,
          "tSNE-1": -15.68509578704834,
          "tSNE-2": -30.289491653442383
         },
         {
          "KM-label": 4,
          "digit": 8,
          "tSNE-1": -14.676513671875,
          "tSNE-2": 1.6544989347457886
         },
         {
          "KM-label": 4,
          "digit": 9,
          "tSNE-1": -7.969510555267334,
          "tSNE-2": 25.176897048950195
         },
         {
          "KM-label": 1,
          "digit": 0,
          "tSNE-1": 43.70582962036133,
          "tSNE-2": 0.10820237547159195
         },
         {
          "KM-label": 0,
          "digit": 1,
          "tSNE-1": -12.31387996673584,
          "tSNE-2": 42.735774993896484
         },
         {
          "KM-label": 0,
          "digit": 2,
          "tSNE-1": -31.451152801513672,
          "tSNE-2": 38.051109313964844
         },
         {
          "KM-label": 8,
          "digit": 3,
          "tSNE-1": -26.69647979736328,
          "tSNE-2": 8.826098442077637
         },
         {
          "KM-label": 5,
          "digit": 4,
          "tSNE-1": 18.689437866210938,
          "tSNE-2": -34.21697998046875
         },
         {
          "KM-label": 4,
          "digit": 5,
          "tSNE-1": 6.45892858505249,
          "tSNE-2": 13.623760223388672
         },
         {
          "KM-label": 7,
          "digit": 6,
          "tSNE-1": 25.540096282958984,
          "tSNE-2": 35.085811614990234
         },
         {
          "KM-label": 2,
          "digit": 7,
          "tSNE-1": -16.998620986938477,
          "tSNE-2": -28.727684020996094
         },
         {
          "KM-label": 4,
          "digit": 8,
          "tSNE-1": -14.774561882019043,
          "tSNE-2": 2.835172414779663
         },
         {
          "KM-label": 4,
          "digit": 9,
          "tSNE-1": -6.2605061531066895,
          "tSNE-2": 24.512996673583984
         },
         {
          "KM-label": 1,
          "digit": 0,
          "tSNE-1": 43.481529235839844,
          "tSNE-2": -0.39320293068885803
         },
         {
          "KM-label": 0,
          "digit": 1,
          "tSNE-1": -12.296916961669922,
          "tSNE-2": 43.18086624145508
         },
         {
          "KM-label": 0,
          "digit": 2,
          "tSNE-1": -27.74016571044922,
          "tSNE-2": 33.01170349121094
         },
         {
          "KM-label": 8,
          "digit": 3,
          "tSNE-1": -25.155479431152344,
          "tSNE-2": 8.931015968322754
         },
         {
          "KM-label": 5,
          "digit": 4,
          "tSNE-1": 14.00732135772705,
          "tSNE-2": -33.81840896606445
         },
         {
          "KM-label": 4,
          "digit": 5,
          "tSNE-1": 5.84813117980957,
          "tSNE-2": 15.52918529510498
         },
         {
          "KM-label": 7,
          "digit": 6,
          "tSNE-1": 27.636728286743164,
          "tSNE-2": 34.128543853759766
         },
         {
          "KM-label": 2,
          "digit": 7,
          "tSNE-1": -15.593518257141113,
          "tSNE-2": -30.755184173583984
         },
         {
          "KM-label": 4,
          "digit": 8,
          "tSNE-1": -15.141764640808105,
          "tSNE-2": 2.4573850631713867
         },
         {
          "KM-label": 4,
          "digit": 9,
          "tSNE-1": -7.055573463439941,
          "tSNE-2": 25.166292190551758
         },
         {
          "KM-label": 1,
          "digit": 0,
          "tSNE-1": 40.658878326416016,
          "tSNE-2": -3.68259334564209
         },
         {
          "KM-label": 4,
          "digit": 9,
          "tSNE-1": -3.5621471405029297,
          "tSNE-2": 22.310821533203125
         },
         {
          "KM-label": 4,
          "digit": 5,
          "tSNE-1": 6.423097133636475,
          "tSNE-2": 14.752382278442383
         },
         {
          "KM-label": 4,
          "digit": 5,
          "tSNE-1": 6.935441970825195,
          "tSNE-2": 12.017668724060059
         },
         {
          "KM-label": 7,
          "digit": 6,
          "tSNE-1": 26.74241065979004,
          "tSNE-2": 30.72269058227539
         },
         {
          "KM-label": 4,
          "digit": 5,
          "tSNE-1": 5.968020439147949,
          "tSNE-2": 15.134410858154297
         },
         {
          "KM-label": 1,
          "digit": 0,
          "tSNE-1": 42.76337432861328,
          "tSNE-2": -0.3734453320503235
         },
         {
          "KM-label": 4,
          "digit": 9,
          "tSNE-1": -7.330946445465088,
          "tSNE-2": 23.67156982421875
         },
         {
          "KM-label": 4,
          "digit": 8,
          "tSNE-1": -14.19817066192627,
          "tSNE-2": 2.3266847133636475
         },
         {
          "KM-label": 4,
          "digit": 9,
          "tSNE-1": -5.101128578186035,
          "tSNE-2": 24.09821891784668
         },
         {
          "KM-label": 4,
          "digit": 8,
          "tSNE-1": -10.958100318908691,
          "tSNE-2": 1.589455485343933
         },
         {
          "KM-label": 5,
          "digit": 4,
          "tSNE-1": 12.230877876281738,
          "tSNE-2": -36.40678024291992
         },
         {
          "KM-label": 8,
          "digit": 1,
          "tSNE-1": -9.989053726196289,
          "tSNE-2": 39.82337951660156
         },
         {
          "KM-label": 2,
          "digit": 7,
          "tSNE-1": -17.7210693359375,
          "tSNE-2": -28.9691104888916
         },
         {
          "KM-label": 2,
          "digit": 7,
          "tSNE-1": -14.80998706817627,
          "tSNE-2": -32.385108947753906
         },
         {
          "KM-label": 8,
          "digit": 3,
          "tSNE-1": -25.641704559326172,
          "tSNE-2": 8.645851135253906
         },
         {
          "KM-label": 4,
          "digit": 5,
          "tSNE-1": 4.8420729637146,
          "tSNE-2": 15.09709358215332
         },
         {
          "KM-label": 0,
          "digit": 1,
          "tSNE-1": -11.27000617980957,
          "tSNE-2": 40.895301818847656
         },
         {
          "KM-label": 0,
          "digit": 2,
          "tSNE-1": -26.955495834350586,
          "tSNE-2": 33.629234313964844
         },
         {
          "KM-label": 2,
          "digit": 7,
          "tSNE-1": -17.214675903320312,
          "tSNE-2": -28.90506935119629
         },
         {
          "KM-label": 4,
          "digit": 8,
          "tSNE-1": -14.73390007019043,
          "tSNE-2": 3.264003276824951
         },
         {
          "KM-label": 0,
          "digit": 2,
          "tSNE-1": -22.784854888916016,
          "tSNE-2": 31.192243576049805
         },
         {
          "KM-label": 1,
          "digit": 0,
          "tSNE-1": 42.106971740722656,
          "tSNE-2": -1.4196419715881348
         },
         {
          "KM-label": 0,
          "digit": 1,
          "tSNE-1": -11.502756118774414,
          "tSNE-2": 41.44457244873047
         },
         {
          "KM-label": 0,
          "digit": 2,
          "tSNE-1": -24.848669052124023,
          "tSNE-2": 32.36977005004883
         },
         {
          "KM-label": 7,
          "digit": 6,
          "tSNE-1": 25.906509399414062,
          "tSNE-2": 36.59907531738281
         },
         {
          "KM-label": 8,
          "digit": 3,
          "tSNE-1": -27.702381134033203,
          "tSNE-2": 8.159760475158691
         },
         {
          "KM-label": 8,
          "digit": 3,
          "tSNE-1": -26.99315643310547,
          "tSNE-2": 9.016417503356934
         },
         {
          "KM-label": 2,
          "digit": 7,
          "tSNE-1": -15.789372444152832,
          "tSNE-2": -29.574993133544922
         },
         {
          "KM-label": 8,
          "digit": 3,
          "tSNE-1": -27.720630645751953,
          "tSNE-2": 12.352425575256348
         },
         {
          "KM-label": 8,
          "digit": 3,
          "tSNE-1": -25.82981300354004,
          "tSNE-2": 11.307987213134766
         },
         {
          "KM-label": 5,
          "digit": 4,
          "tSNE-1": 13.21477222442627,
          "tSNE-2": -33.94538879394531
         },
         {
          "KM-label": 7,
          "digit": 6,
          "tSNE-1": 27.117319107055664,
          "tSNE-2": 30.292564392089844
         },
         {
          "KM-label": 7,
          "digit": 6,
          "tSNE-1": 27.179672241210938,
          "tSNE-2": 31.380220413208008
         },
         {
          "KM-label": 7,
          "digit": 6,
          "tSNE-1": 26.48666763305664,
          "tSNE-2": 33.61880874633789
         },
         {
          "KM-label": 5,
          "digit": 4,
          "tSNE-1": 14.088160514831543,
          "tSNE-2": -33.78288650512695
         },
         {
          "KM-label": 4,
          "digit": 9,
          "tSNE-1": -8.178900718688965,
          "tSNE-2": 24.697660446166992
         },
         {
          "KM-label": 0,
          "digit": 1,
          "tSNE-1": -10.249013900756836,
          "tSNE-2": 40.19111251831055
         },
         {
          "KM-label": 4,
          "digit": 5,
          "tSNE-1": 6.566636562347412,
          "tSNE-2": 12.245509147644043
         },
         {
          "KM-label": 1,
          "digit": 0,
          "tSNE-1": 43.35353088378906,
          "tSNE-2": -0.3937072455883026
         },
         {
          "KM-label": 4,
          "digit": 9,
          "tSNE-1": -7.82529354095459,
          "tSNE-2": 25.196868896484375
         },
         {
          "KM-label": 4,
          "digit": 5,
          "tSNE-1": 6.696284770965576,
          "tSNE-2": 13.902891159057617
         },
         {
          "KM-label": 0,
          "digit": 2,
          "tSNE-1": -22.999221801757812,
          "tSNE-2": 30.750272750854492
         },
         {
          "KM-label": 4,
          "digit": 8,
          "tSNE-1": -12.171605110168457,
          "tSNE-2": 2.2195305824279785
         },
         {
          "KM-label": 0,
          "digit": 2,
          "tSNE-1": -23.12551498413086,
          "tSNE-2": 31.296039581298828
         },
         {
          "KM-label": 1,
          "digit": 0,
          "tSNE-1": 41.728294372558594,
          "tSNE-2": 3.3979382514953613
         },
         {
          "KM-label": 1,
          "digit": 0,
          "tSNE-1": 44.386898040771484,
          "tSNE-2": -2.765087366104126
         },
         {
          "KM-label": 0,
          "digit": 1,
          "tSNE-1": -11.1968355178833,
          "tSNE-2": 40.985992431640625
         },
         {
          "KM-label": 2,
          "digit": 7,
          "tSNE-1": -19.50604248046875,
          "tSNE-2": -31.914335250854492
         },
         {
          "KM-label": 7,
          "digit": 6,
          "tSNE-1": 27.213010787963867,
          "tSNE-2": 33.342044830322266
         },
         {
          "KM-label": 8,
          "digit": 3,
          "tSNE-1": -27.546659469604492,
          "tSNE-2": 12.807316780090332
         },
         {
          "KM-label": 0,
          "digit": 2,
          "tSNE-1": -27.950382232666016,
          "tSNE-2": 34.81092834472656
         },
         {
          "KM-label": 0,
          "digit": 1,
          "tSNE-1": -12.04629135131836,
          "tSNE-2": 42.79639434814453
         },
         {
          "KM-label": 5,
          "digit": 4,
          "tSNE-1": 23.62174415588379,
          "tSNE-2": -36.00755310058594
         },
         {
          "KM-label": 7,
          "digit": 6,
          "tSNE-1": 23.792566299438477,
          "tSNE-2": 26.942718505859375
         },
         {
          "KM-label": 8,
          "digit": 3,
          "tSNE-1": -28.4746036529541,
          "tSNE-2": 11.234882354736328
         },
         {
          "KM-label": 0,
          "digit": 1,
          "tSNE-1": -11.077289581298828,
          "tSNE-2": 41.248680114746094
         },
         {
          "KM-label": 8,
          "digit": 3,
          "tSNE-1": -26.738563537597656,
          "tSNE-2": 12.472460746765137
         },
         {
          "KM-label": 4,
          "digit": 9,
          "tSNE-1": -7.399736404418945,
          "tSNE-2": 23.604385375976562
         },
         {
          "KM-label": 0,
          "digit": 1,
          "tSNE-1": -10.446534156799316,
          "tSNE-2": 40.31736373901367
         },
         {
          "KM-label": 2,
          "digit": 7,
          "tSNE-1": -15.803825378417969,
          "tSNE-2": -29.629098892211914
         },
         {
          "KM-label": 7,
          "digit": 6,
          "tSNE-1": 26.80602264404297,
          "tSNE-2": 28.586009979248047
         },
         {
          "KM-label": 4,
          "digit": 8,
          "tSNE-1": -9.906562805175781,
          "tSNE-2": 4.864930629730225
         },
         {
          "KM-label": 5,
          "digit": 4,
          "tSNE-1": 13.149354934692383,
          "tSNE-2": -33.93470764160156
         },
         {
          "KM-label": 8,
          "digit": 3,
          "tSNE-1": -28.09214210510254,
          "tSNE-2": 7.695649147033691
         },
         {
          "KM-label": 0,
          "digit": 1,
          "tSNE-1": -10.490961074829102,
          "tSNE-2": 40.13299560546875
         },
         {
          "KM-label": 5,
          "digit": 4,
          "tSNE-1": 19.146350860595703,
          "tSNE-2": -32.74477767944336
         },
         {
          "KM-label": 1,
          "digit": 0,
          "tSNE-1": 42.14139938354492,
          "tSNE-2": -0.8624416589736938
         },
         {
          "KM-label": 3,
          "digit": 5,
          "tSNE-1": 9.532221794128418,
          "tSNE-2": 8.628539085388184
         },
         {
          "KM-label": 8,
          "digit": 3,
          "tSNE-1": -25.900819778442383,
          "tSNE-2": 11.230612754821777
         },
         {
          "KM-label": 7,
          "digit": 6,
          "tSNE-1": 27.95058250427246,
          "tSNE-2": 32.79922103881836
         },
         {
          "KM-label": 4,
          "digit": 9,
          "tSNE-1": -5.783700942993164,
          "tSNE-2": 25.047487258911133
         },
         {
          "KM-label": 7,
          "digit": 6,
          "tSNE-1": 29.219846725463867,
          "tSNE-2": 31.671049118041992
         },
         {
          "KM-label": 0,
          "digit": 1,
          "tSNE-1": -11.641678810119629,
          "tSNE-2": 41.77716064453125
         },
         {
          "KM-label": 2,
          "digit": 7,
          "tSNE-1": -15.367267608642578,
          "tSNE-2": -30.796510696411133
         },
         {
          "KM-label": 4,
          "digit": 5,
          "tSNE-1": 5.8542327880859375,
          "tSNE-2": 14.49262809753418
         },
         {
          "KM-label": 5,
          "digit": 4,
          "tSNE-1": 17.757644653320312,
          "tSNE-2": -34.30874252319336
         },
         {
          "KM-label": 5,
          "digit": 4,
          "tSNE-1": 11.61404037475586,
          "tSNE-2": -35.94328308105469
         },
         {
          "KM-label": 2,
          "digit": 7,
          "tSNE-1": -18.25438690185547,
          "tSNE-2": -29.335468292236328
         },
         {
          "KM-label": 0,
          "digit": 2,
          "tSNE-1": -24.93748664855957,
          "tSNE-2": 31.942373275756836
         },
         {
          "KM-label": 4,
          "digit": 8,
          "tSNE-1": -15.468791007995605,
          "tSNE-2": 2.52895450592041
         },
         {
          "KM-label": 0,
          "digit": 2,
          "tSNE-1": -22.613353729248047,
          "tSNE-2": 30.857057571411133
         },
         {
          "KM-label": 0,
          "digit": 2,
          "tSNE-1": -26.714797973632812,
          "tSNE-2": 36.4158821105957
         },
         {
          "KM-label": 4,
          "digit": 5,
          "tSNE-1": 5.864518642425537,
          "tSNE-2": 14.766386985778809
         },
         {
          "KM-label": 2,
          "digit": 7,
          "tSNE-1": -16.86751365661621,
          "tSNE-2": -30.362268447875977
         },
         {
          "KM-label": 4,
          "digit": 9,
          "tSNE-1": -4.011666297912598,
          "tSNE-2": 22.568058013916016
         },
         {
          "KM-label": 4,
          "digit": 5,
          "tSNE-1": 8.819315910339355,
          "tSNE-2": 14.304641723632812
         },
         {
          "KM-label": 5,
          "digit": 4,
          "tSNE-1": 10.316240310668945,
          "tSNE-2": -36.29726028442383
         },
         {
          "KM-label": 5,
          "digit": 4,
          "tSNE-1": 11.030998229980469,
          "tSNE-2": -38.13207244873047
         },
         {
          "KM-label": 4,
          "digit": 9,
          "tSNE-1": -11.165629386901855,
          "tSNE-2": 13.693098068237305
         },
         {
          "KM-label": 1,
          "digit": 0,
          "tSNE-1": 44.32105255126953,
          "tSNE-2": 0.38758423924446106
         },
         {
          "KM-label": 4,
          "digit": 8,
          "tSNE-1": -11.013833999633789,
          "tSNE-2": 4.816769599914551
         },
         {
          "KM-label": 4,
          "digit": 9,
          "tSNE-1": -5.881072044372559,
          "tSNE-2": 24.689830780029297
         },
         {
          "KM-label": 4,
          "digit": 8,
          "tSNE-1": -13.770417213439941,
          "tSNE-2": 2.24200701713562
         },
         {
          "KM-label": 1,
          "digit": 0,
          "tSNE-1": 39.33820724487305,
          "tSNE-2": -0.9121404886245728
         },
         {
          "KM-label": 6,
          "digit": 1,
          "tSNE-1": -4.448722839355469,
          "tSNE-2": -8.718892097473145
         },
         {
          "KM-label": 0,
          "digit": 2,
          "tSNE-1": -30.649490356445312,
          "tSNE-2": 35.065711975097656
         },
         {
          "KM-label": 8,
          "digit": 3,
          "tSNE-1": -30.79651641845703,
          "tSNE-2": 10.732412338256836
         },
         {
          "KM-label": 5,
          "digit": 4,
          "tSNE-1": 10.759222984313965,
          "tSNE-2": -36.795494079589844
         },
         {
          "KM-label": 3,
          "digit": 5,
          "tSNE-1": 14.207448959350586,
          "tSNE-2": 2.9409520626068115
         },
         {
          "KM-label": 7,
          "digit": 6,
          "tSNE-1": 28.21805191040039,
          "tSNE-2": 33.95402908325195
         },
         {
          "KM-label": 2,
          "digit": 7,
          "tSNE-1": -20.09756851196289,
          "tSNE-2": -28.55862808227539
         },
         {
          "KM-label": 2,
          "digit": 8,
          "tSNE-1": -11.091564178466797,
          "tSNE-2": -12.888906478881836
         },
         {
          "KM-label": 8,
          "digit": 9,
          "tSNE-1": -15.48266315460205,
          "tSNE-2": 16.852563858032227
         },
         {
          "KM-label": 1,
          "digit": 0,
          "tSNE-1": 41.61911392211914,
          "tSNE-2": -5.155567169189453
         },
         {
          "KM-label": 6,
          "digit": 1,
          "tSNE-1": -2.4444940090179443,
          "tSNE-2": -11.631230354309082
         },
         {
          "KM-label": 0,
          "digit": 2,
          "tSNE-1": -26.686721801757812,
          "tSNE-2": 30.208988189697266
         },
         {
          "KM-label": 8,
          "digit": 3,
          "tSNE-1": -30.855566024780273,
          "tSNE-2": 11.11640739440918
         },
         {
          "KM-label": 5,
          "digit": 4,
          "tSNE-1": 10.760580062866211,
          "tSNE-2": -36.29349136352539
         },
         {
          "KM-label": 3,
          "digit": 5,
          "tSNE-1": 12.173425674438477,
          "tSNE-2": 3.742776870727539
         },
         {
          "KM-label": 7,
          "digit": 6,
          "tSNE-1": 30.545801162719727,
          "tSNE-2": 31.48963737487793
         },
         {
          "KM-label": 2,
          "digit": 7,
          "tSNE-1": -18.341115951538086,
          "tSNE-2": -29.48902130126953
         },
         {
          "KM-label": 6,
          "digit": 8,
          "tSNE-1": -13.935388565063477,
          "tSNE-2": -9.733911514282227
         },
         {
          "KM-label": 4,
          "digit": 9,
          "tSNE-1": -11.899358749389648,
          "tSNE-2": 15.390007972717285
         },
         {
          "KM-label": 1,
          "digit": 0,
          "tSNE-1": 46.0500602722168,
          "tSNE-2": -1.0256550312042236
         },
         {
          "KM-label": 6,
          "digit": 1,
          "tSNE-1": 1.8693958520889282,
          "tSNE-2": -11.806087493896484
         },
         {
          "KM-label": 0,
          "digit": 2,
          "tSNE-1": -22.068355560302734,
          "tSNE-2": 31.16530990600586
         },
         {
          "KM-label": 8,
          "digit": 3,
          "tSNE-1": -32.35172653198242,
          "tSNE-2": 10.111981391906738
         },
         {
          "KM-label": 5,
          "digit": 4,
          "tSNE-1": 11.5809326171875,
          "tSNE-2": -36.8671760559082
         },
         {
          "KM-label": 3,
          "digit": 5,
          "tSNE-1": 8.22714614868164,
          "tSNE-2": 8.662821769714355
         },
         {
          "KM-label": 7,
          "digit": 6,
          "tSNE-1": 25.801992416381836,
          "tSNE-2": 30.501575469970703
         },
         {
          "KM-label": 2,
          "digit": 7,
          "tSNE-1": -20.128461837768555,
          "tSNE-2": -27.85674476623535
         },
         {
          "KM-label": 4,
          "digit": 8,
          "tSNE-1": -17.990089416503906,
          "tSNE-2": -0.9342794418334961
         },
         {
          "KM-label": 4,
          "digit": 9,
          "tSNE-1": -10.983126640319824,
          "tSNE-2": 15.857239723205566
         },
         {
          "KM-label": 1,
          "digit": 0,
          "tSNE-1": 43.83944320678711,
          "tSNE-2": -1.9015843868255615
         },
         {
          "KM-label": 4,
          "digit": 9,
          "tSNE-1": -3.403453826904297,
          "tSNE-2": 14.531197547912598
         },
         {
          "KM-label": 3,
          "digit": 5,
          "tSNE-1": 14.124463081359863,
          "tSNE-2": 4.129821300506592
         },
         {
          "KM-label": 3,
          "digit": 5,
          "tSNE-1": 15.128058433532715,
          "tSNE-2": 3.211967706680298
         },
         {
          "KM-label": 7,
          "digit": 6,
          "tSNE-1": 22.980464935302734,
          "tSNE-2": 24.23023796081543
         },
         {
          "KM-label": 3,
          "digit": 5,
          "tSNE-1": 14.162290573120117,
          "tSNE-2": 4.00535249710083
         },
         {
          "KM-label": 1,
          "digit": 0,
          "tSNE-1": 41.2138671875,
          "tSNE-2": -4.953763008117676
         },
         {
          "KM-label": 4,
          "digit": 9,
          "tSNE-1": -11.913796424865723,
          "tSNE-2": 15.740165710449219
         },
         {
          "KM-label": 4,
          "digit": 8,
          "tSNE-1": -17.6759033203125,
          "tSNE-2": 0.44256365299224854
         },
         {
          "KM-label": 4,
          "digit": 9,
          "tSNE-1": -3.139453887939453,
          "tSNE-2": 14.775310516357422
         },
         {
          "KM-label": 6,
          "digit": 8,
          "tSNE-1": -14.358420372009277,
          "tSNE-2": -4.575343608856201
         },
         {
          "KM-label": 5,
          "digit": 4,
          "tSNE-1": 11.243576049804688,
          "tSNE-2": -35.56142807006836
         },
         {
          "KM-label": 6,
          "digit": 1,
          "tSNE-1": -3.564962863922119,
          "tSNE-2": -9.993634223937988
         },
         {
          "KM-label": 2,
          "digit": 7,
          "tSNE-1": -18.98043441772461,
          "tSNE-2": -27.411001205444336
         },
         {
          "KM-label": 2,
          "digit": 7,
          "tSNE-1": -19.48295783996582,
          "tSNE-2": -29.466075897216797
         },
         {
          "KM-label": 8,
          "digit": 3,
          "tSNE-1": -35.40890884399414,
          "tSNE-2": 6.768584251403809
         },
         {
          "KM-label": 3,
          "digit": 5,
          "tSNE-1": 11.02117919921875,
          "tSNE-2": 7.1281352043151855
         },
         {
          "KM-label": 6,
          "digit": 1,
          "tSNE-1": 1.7212626934051514,
          "tSNE-2": -10.386855125427246
         },
         {
          "KM-label": 1,
          "digit": 0,
          "tSNE-1": 46.84091567993164,
          "tSNE-2": 0.1325923651456833
         },
         {
          "KM-label": 1,
          "digit": 0,
          "tSNE-1": 46.817352294921875,
          "tSNE-2": 0.0884433314204216
         },
         {
          "KM-label": 2,
          "digit": 7,
          "tSNE-1": -19.844045639038086,
          "tSNE-2": -27.355836868286133
         },
         {
          "KM-label": 6,
          "digit": 8,
          "tSNE-1": -13.918014526367188,
          "tSNE-2": -9.675228118896484
         },
         {
          "KM-label": 0,
          "digit": 2,
          "tSNE-1": -23.27662467956543,
          "tSNE-2": 29.02548599243164
         },
         {
          "KM-label": 1,
          "digit": 0,
          "tSNE-1": 46.775856018066406,
          "tSNE-2": -3.8751397132873535
         },
         {
          "KM-label": 6,
          "digit": 1,
          "tSNE-1": -0.5374929308891296,
          "tSNE-2": -8.02086353302002
         },
         {
          "KM-label": 0,
          "digit": 2,
          "tSNE-1": -23.395177841186523,
          "tSNE-2": 30.40984535217285
         },
         {
          "KM-label": 7,
          "digit": 6,
          "tSNE-1": 20.709362030029297,
          "tSNE-2": 27.546266555786133
         },
         {
          "KM-label": 8,
          "digit": 3,
          "tSNE-1": -33.50310134887695,
          "tSNE-2": 9.421744346618652
         },
         {
          "KM-label": 8,
          "digit": 3,
          "tSNE-1": -35.42194366455078,
          "tSNE-2": 6.097692966461182
         },
         {
          "KM-label": 2,
          "digit": 7,
          "tSNE-1": -19.367416381835938,
          "tSNE-2": -25.96602439880371
         },
         {
          "KM-label": 8,
          "digit": 3,
          "tSNE-1": -32.86782455444336,
          "tSNE-2": 8.263097763061523
         },
         {
          "KM-label": 8,
          "digit": 3,
          "tSNE-1": -33.43680191040039,
          "tSNE-2": 9.374435424804688
         },
         {
          "KM-label": 5,
          "digit": 4,
          "tSNE-1": 11.022730827331543,
          "tSNE-2": -37.938438415527344
         },
         {
          "KM-label": 7,
          "digit": 6,
          "tSNE-1": 23.452028274536133,
          "tSNE-2": 32.34806442260742
         },
         {
          "KM-label": 7,
          "digit": 6,
          "tSNE-1": 25.204870223999023,
          "tSNE-2": 26.250051498413086
         },
         {
          "KM-label": 7,
          "digit": 6,
          "tSNE-1": 24.0975399017334,
          "tSNE-2": 28.438737869262695
         },
         {
          "KM-label": 2,
          "digit": 4,
          "tSNE-1": 9.623244285583496,
          "tSNE-2": -40.638301849365234
         },
         {
          "KM-label": 4,
          "digit": 9,
          "tSNE-1": -11.777143478393555,
          "tSNE-2": 15.377138137817383
         },
         {
          "KM-label": 6,
          "digit": 1,
          "tSNE-1": 2.172694683074951,
          "tSNE-2": -12.054420471191406
         },
         {
          "KM-label": 3,
          "digit": 5,
          "tSNE-1": 12.085970878601074,
          "tSNE-2": 8.480377197265625
         },
         {
          "KM-label": 1,
          "digit": 0,
          "tSNE-1": 41.31443786621094,
          "tSNE-2": -2.833404302597046
         },
         {
          "KM-label": 3,
          "digit": 9,
          "tSNE-1": -13.177485466003418,
          "tSNE-2": -12.631062507629395
         },
         {
          "KM-label": 3,
          "digit": 5,
          "tSNE-1": 18.070714950561523,
          "tSNE-2": 2.1083598136901855
         },
         {
          "KM-label": 0,
          "digit": 2,
          "tSNE-1": -22.97245216369629,
          "tSNE-2": 33.41064453125
         },
         {
          "KM-label": 4,
          "digit": 8,
          "tSNE-1": -17.83657455444336,
          "tSNE-2": -0.26062458753585815
         },
         {
          "KM-label": 8,
          "digit": 2,
          "tSNE-1": -22.21206283569336,
          "tSNE-2": 27.776453018188477
         },
         {
          "KM-label": 1,
          "digit": 0,
          "tSNE-1": 46.99068832397461,
          "tSNE-2": -3.949592351913452
         },
         {
          "KM-label": 1,
          "digit": 0,
          "tSNE-1": 46.4825553894043,
          "tSNE-2": -4.57804536819458
         },
         {
          "KM-label": 6,
          "digit": 1,
          "tSNE-1": 1.5349634885787964,
          "tSNE-2": -8.692096710205078
         },
         {
          "KM-label": 2,
          "digit": 7,
          "tSNE-1": -26.932575225830078,
          "tSNE-2": -28.647300720214844
         },
         {
          "KM-label": 7,
          "digit": 6,
          "tSNE-1": 18.148056030273438,
          "tSNE-2": 25.285465240478516
         },
         {
          "KM-label": 8,
          "digit": 3,
          "tSNE-1": -31.519916534423828,
          "tSNE-2": 10.66431999206543
         },
         {
          "KM-label": 0,
          "digit": 2,
          "tSNE-1": -25.798633575439453,
          "tSNE-2": 33.247520446777344
         },
         {
          "KM-label": 6,
          "digit": 1,
          "tSNE-1": 1.712913990020752,
          "tSNE-2": -12.457220077514648
         },
         {
          "KM-label": 2,
          "digit": 7,
          "tSNE-1": -19.346542358398438,
          "tSNE-2": -25.79263687133789
         },
         {
          "KM-label": 5,
          "digit": 4,
          "tSNE-1": 11.034539222717285,
          "tSNE-2": -37.27558135986328
         },
         {
          "KM-label": 7,
          "digit": 6,
          "tSNE-1": 23.62729263305664,
          "tSNE-2": 32.226165771484375
         },
         {
          "KM-label": 8,
          "digit": 3,
          "tSNE-1": -31.525798797607422,
          "tSNE-2": 10.70210075378418
         },
         {
          "KM-label": 6,
          "digit": 1,
          "tSNE-1": -3.919187307357788,
          "tSNE-2": -11.069792747497559
         },
         {
          "KM-label": 2,
          "digit": 3,
          "tSNE-1": -17.018356323242188,
          "tSNE-2": -35.55802917480469
         },
         {
          "KM-label": 4,
          "digit": 9,
          "tSNE-1": -11.98564624786377,
          "tSNE-2": 15.797002792358398
         },
         {
          "KM-label": 6,
          "digit": 1,
          "tSNE-1": -0.45806705951690674,
          "tSNE-2": -12.104703903198242
         },
         {
          "KM-label": 2,
          "digit": 7,
          "tSNE-1": -18.77953338623047,
          "tSNE-2": -28.91486167907715
         },
         {
          "KM-label": 7,
          "digit": 6,
          "tSNE-1": 26.258987426757812,
          "tSNE-2": 27.513254165649414
         },
         {
          "KM-label": 6,
          "digit": 8,
          "tSNE-1": -17.717344284057617,
          "tSNE-2": -0.3793698847293854
         },
         {
          "KM-label": 5,
          "digit": 4,
          "tSNE-1": 10.406956672668457,
          "tSNE-2": -38.75288391113281
         },
         {
          "KM-label": 8,
          "digit": 3,
          "tSNE-1": -31.928966522216797,
          "tSNE-2": 10.924938201904297
         },
         {
          "KM-label": 6,
          "digit": 1,
          "tSNE-1": 0.8995156288146973,
          "tSNE-2": -8.860448837280273
         },
         {
          "KM-label": 5,
          "digit": 4,
          "tSNE-1": 12.762887954711914,
          "tSNE-2": -38.533836364746094
         },
         {
          "KM-label": 1,
          "digit": 0,
          "tSNE-1": 39.15160369873047,
          "tSNE-2": -1.5690363645553589
         },
         {
          "KM-label": 3,
          "digit": 5,
          "tSNE-1": 15.16067123413086,
          "tSNE-2": 6.425687313079834
         },
         {
          "KM-label": 8,
          "digit": 3,
          "tSNE-1": -33.51302719116211,
          "tSNE-2": 10.286687850952148
         },
         {
          "KM-label": 7,
          "digit": 6,
          "tSNE-1": 17.835050582885742,
          "tSNE-2": 27.33539390563965
         },
         {
          "KM-label": 4,
          "digit": 9,
          "tSNE-1": -8.920860290527344,
          "tSNE-2": 16.98978042602539
         },
         {
          "KM-label": 7,
          "digit": 6,
          "tSNE-1": 27.901628494262695,
          "tSNE-2": 31.318601608276367
         },
         {
          "KM-label": 6,
          "digit": 1,
          "tSNE-1": 1.6455228328704834,
          "tSNE-2": -9.717423439025879
         },
         {
          "KM-label": 2,
          "digit": 7,
          "tSNE-1": -23.936124801635742,
          "tSNE-2": -26.552356719970703
         },
         {
          "KM-label": 3,
          "digit": 5,
          "tSNE-1": 13.629671096801758,
          "tSNE-2": 10.523723602294922
         },
         {
          "KM-label": 5,
          "digit": 4,
          "tSNE-1": 16.234066009521484,
          "tSNE-2": -36.55809783935547
         },
         {
          "KM-label": 5,
          "digit": 4,
          "tSNE-1": 11.081131935119629,
          "tSNE-2": -37.28193664550781
         },
         {
          "KM-label": 2,
          "digit": 7,
          "tSNE-1": -26.861042022705078,
          "tSNE-2": -29.25644874572754
         },
         {
          "KM-label": 0,
          "digit": 2,
          "tSNE-1": -26.765579223632812,
          "tSNE-2": 36.08049011230469
         },
         {
          "KM-label": 6,
          "digit": 8,
          "tSNE-1": -12.8744478225708,
          "tSNE-2": -12.220193862915039
         },
         {
          "KM-label": 0,
          "digit": 2,
          "tSNE-1": -26.563194274902344,
          "tSNE-2": 30.270910263061523
         },
         {
          "KM-label": 0,
          "digit": 2,
          "tSNE-1": -22.00343894958496,
          "tSNE-2": 29.76990509033203
         },
         {
          "KM-label": 3,
          "digit": 5,
          "tSNE-1": 14.36849308013916,
          "tSNE-2": 2.5939741134643555
         },
         {
          "KM-label": 2,
          "digit": 7,
          "tSNE-1": -19.78690528869629,
          "tSNE-2": -27.157485961914062
         },
         {
          "KM-label": 4,
          "digit": 9,
          "tSNE-1": -7.476254463195801,
          "tSNE-2": 17.01586151123047
         },
         {
          "KM-label": 3,
          "digit": 5,
          "tSNE-1": 15.57551383972168,
          "tSNE-2": 9.255576133728027
         },
         {
          "KM-label": 5,
          "digit": 4,
          "tSNE-1": 13.814990997314453,
          "tSNE-2": -38.061553955078125
         },
         {
          "KM-label": 0,
          "digit": 8,
          "tSNE-1": -18.346120834350586,
          "tSNE-2": 0.7308541536331177
         },
         {
          "KM-label": 8,
          "digit": 8,
          "tSNE-1": -17.042686462402344,
          "tSNE-2": -3.4799304008483887
         },
         {
          "KM-label": 5,
          "digit": 4,
          "tSNE-1": 10.198904991149902,
          "tSNE-2": -38.89964294433594
         },
         {
          "KM-label": 4,
          "digit": 9,
          "tSNE-1": -12.404894828796387,
          "tSNE-2": 15.113897323608398
         },
         {
          "KM-label": 1,
          "digit": 0,
          "tSNE-1": 44.62672424316406,
          "tSNE-2": -1.4018033742904663
         },
         {
          "KM-label": 6,
          "digit": 8,
          "tSNE-1": -18.501306533813477,
          "tSNE-2": -1.7741774320602417
         },
         {
          "KM-label": 4,
          "digit": 9,
          "tSNE-1": -8.674352645874023,
          "tSNE-2": 15.982619285583496
         },
         {
          "KM-label": 6,
          "digit": 8,
          "tSNE-1": -18.15932273864746,
          "tSNE-2": -1.2289680242538452
         },
         {
          "KM-label": 1,
          "digit": 0,
          "tSNE-1": 40.52151107788086,
          "tSNE-2": -3.6521317958831787
         },
         {
          "KM-label": 9,
          "digit": 1,
          "tSNE-1": 5.999444007873535,
          "tSNE-2": -20.540035247802734
         },
         {
          "KM-label": 0,
          "digit": 2,
          "tSNE-1": -32.00675582885742,
          "tSNE-2": 34.547935485839844
         },
         {
          "KM-label": 8,
          "digit": 3,
          "tSNE-1": -31.976598739624023,
          "tSNE-2": 8.262815475463867
         },
         {
          "KM-label": 5,
          "digit": 4,
          "tSNE-1": 14.693221092224121,
          "tSNE-2": -38.41779708862305
         },
         {
          "KM-label": 3,
          "digit": 5,
          "tSNE-1": 14.57174015045166,
          "tSNE-2": 11.093720436096191
         },
         {
          "KM-label": 7,
          "digit": 6,
          "tSNE-1": 29.039653778076172,
          "tSNE-2": 33.77540588378906
         },
         {
          "KM-label": 2,
          "digit": 7,
          "tSNE-1": -26.579198837280273,
          "tSNE-2": -27.067289352416992
         },
         {
          "KM-label": 4,
          "digit": 8,
          "tSNE-1": -15.339577674865723,
          "tSNE-2": 3.5573570728302
         },
         {
          "KM-label": 4,
          "digit": 9,
          "tSNE-1": -5.410380840301514,
          "tSNE-2": 13.633646011352539
         },
         {
          "KM-label": 1,
          "digit": 0,
          "tSNE-1": 38.84895324707031,
          "tSNE-2": -0.4868990182876587
         },
         {
          "KM-label": 9,
          "digit": 1,
          "tSNE-1": 6.082319259643555,
          "tSNE-2": -20.972999572753906
         },
         {
          "KM-label": 0,
          "digit": 2,
          "tSNE-1": -28.100149154663086,
          "tSNE-2": 32.072052001953125
         },
         {
          "KM-label": 8,
          "digit": 3,
          "tSNE-1": -35.255435943603516,
          "tSNE-2": 5.277426242828369
         },
         {
          "KM-label": 5,
          "digit": 4,
          "tSNE-1": 19.624958038330078,
          "tSNE-2": -34.75477981567383
         },
         {
          "KM-label": 3,
          "digit": 5,
          "tSNE-1": 14.010395050048828,
          "tSNE-2": 12.061151504516602
         },
         {
          "KM-label": 7,
          "digit": 6,
          "tSNE-1": 20.448911666870117,
          "tSNE-2": 30.305118560791016
         },
         {
          "KM-label": 2,
          "digit": 7,
          "tSNE-1": -21.68280601501465,
          "tSNE-2": -34.61860275268555
         },
         {
          "KM-label": 6,
          "digit": 8,
          "tSNE-1": -9.645647048950195,
          "tSNE-2": -9.176124572753906
         },
         {
          "KM-label": 4,
          "digit": 9,
          "tSNE-1": -10.125101089477539,
          "tSNE-2": 22.89598274230957
         },
         {
          "KM-label": 1,
          "digit": 0,
          "tSNE-1": 36.84121322631836,
          "tSNE-2": -0.44956421852111816
         },
         {
          "KM-label": 6,
          "digit": 1,
          "tSNE-1": 6.957128047943115,
          "tSNE-2": -14.478968620300293
         },
         {
          "KM-label": 0,
          "digit": 2,
          "tSNE-1": -31.07999038696289,
          "tSNE-2": 28.191144943237305
         },
         {
          "KM-label": 8,
          "digit": 3,
          "tSNE-1": -35.3679313659668,
          "tSNE-2": 9.32895565032959
         },
         {
          "KM-label": 5,
          "digit": 4,
          "tSNE-1": 15.982806205749512,
          "tSNE-2": -43.02981948852539
         },
         {
          "KM-label": 3,
          "digit": 5,
          "tSNE-1": 16.440095901489258,
          "tSNE-2": -3.8316328525543213
         },
         {
          "KM-label": 7,
          "digit": 6,
          "tSNE-1": 24.754610061645508,
          "tSNE-2": 27.100051879882812
         },
         {
          "KM-label": 2,
          "digit": 7,
          "tSNE-1": -19.484027862548828,
          "tSNE-2": -37.5181770324707
         },
         {
          "KM-label": 6,
          "digit": 8,
          "tSNE-1": -10.580829620361328,
          "tSNE-2": -8.761085510253906
         },
         {
          "KM-label": 4,
          "digit": 9,
          "tSNE-1": -5.494100570678711,
          "tSNE-2": 13.76600456237793
         },
         {
          "KM-label": 1,
          "digit": 0,
          "tSNE-1": 36.14453887939453,
          "tSNE-2": 2.584190607070923
         },
         {
          "KM-label": 4,
          "digit": 9,
          "tSNE-1": -2.0442514419555664,
          "tSNE-2": 18.02631187438965
         },
         {
          "KM-label": 3,
          "digit": 5,
          "tSNE-1": 11.55519962310791,
          "tSNE-2": 8.0609130859375
         },
         {
          "KM-label": 3,
          "digit": 5,
          "tSNE-1": 11.680330276489258,
          "tSNE-2": 1.877586841583252
         },
         {
          "KM-label": 7,
          "digit": 6,
          "tSNE-1": 24.323179244995117,
          "tSNE-2": 28.308759689331055
         },
         {
          "KM-label": 3,
          "digit": 5,
          "tSNE-1": 13.465914726257324,
          "tSNE-2": 0.7331065535545349
         },
         {
          "KM-label": 1,
          "digit": 0,
          "tSNE-1": 38.50205612182617,
          "tSNE-2": -13.787674903869629
         },
         {
          "KM-label": 4,
          "digit": 9,
          "tSNE-1": -1.0696313381195068,
          "tSNE-2": 18.04365348815918
         },
         {
          "KM-label": 3,
          "digit": 8,
          "tSNE-1": -12.808801651000977,
          "tSNE-2": -11.099319458007812
         },
         {
          "KM-label": 4,
          "digit": 9,
          "tSNE-1": -2.1808652877807617,
          "tSNE-2": 17.905033111572266
         },
         {
          "KM-label": 3,
          "digit": 8,
          "tSNE-1": -11.299426078796387,
          "tSNE-2": -9.970037460327148
         },
         {
          "KM-label": 5,
          "digit": 4,
          "tSNE-1": 18.87928581237793,
          "tSNE-2": -34.30057144165039
         },
         {
          "KM-label": 6,
          "digit": 1,
          "tSNE-1": -2.1687188148498535,
          "tSNE-2": -11.705806732177734
         },
         {
          "KM-label": 2,
          "digit": 7,
          "tSNE-1": -27.85175132751465,
          "tSNE-2": -27.83612632751465
         },
         {
          "KM-label": 2,
          "digit": 7,
          "tSNE-1": -25.46404266357422,
          "tSNE-2": -26.940067291259766
         },
         {
          "KM-label": 2,
          "digit": 3,
          "tSNE-1": -31.205995559692383,
          "tSNE-2": -6.409671783447266
         },
         {
          "KM-label": 3,
          "digit": 5,
          "tSNE-1": 15.909634590148926,
          "tSNE-2": 10.794289588928223
         },
         {
          "KM-label": 6,
          "digit": 1,
          "tSNE-1": 6.701114654541016,
          "tSNE-2": -16.15886116027832
         },
         {
          "KM-label": 1,
          "digit": 0,
          "tSNE-1": 39.00740432739258,
          "tSNE-2": -12.94013500213623
         },
         {
          "KM-label": 1,
          "digit": 0,
          "tSNE-1": 38.503177642822266,
          "tSNE-2": -13.767810821533203
         },
         {
          "KM-label": 0,
          "digit": 2,
          "tSNE-1": -26.807992935180664,
          "tSNE-2": 28.143489837646484
         },
         {
          "KM-label": 0,
          "digit": 2,
          "tSNE-1": -31.912433624267578,
          "tSNE-2": 28.423189163208008
         },
         {
          "KM-label": 2,
          "digit": 7,
          "tSNE-1": -24.854591369628906,
          "tSNE-2": -29.436973571777344
         },
         {
          "KM-label": 2,
          "digit": 8,
          "tSNE-1": -11.816082954406738,
          "tSNE-2": -14.096638679504395
         },
         {
          "KM-label": 0,
          "digit": 2,
          "tSNE-1": -33.044185638427734,
          "tSNE-2": 33.27485656738281
         },
         {
          "KM-label": 1,
          "digit": 0,
          "tSNE-1": 36.23591232299805,
          "tSNE-2": 2.1935462951660156
         },
         {
          "KM-label": 6,
          "digit": 1,
          "tSNE-1": 3.6390347480773926,
          "tSNE-2": -12.395071029663086
         },
         {
          "KM-label": 0,
          "digit": 2,
          "tSNE-1": -30.018997192382812,
          "tSNE-2": 31.239126205444336
         },
         {
          "KM-label": 7,
          "digit": 6,
          "tSNE-1": 28.330215454101562,
          "tSNE-2": 22.653772354125977
         },
         {
          "KM-label": 8,
          "digit": 3,
          "tSNE-1": -35.522972106933594,
          "tSNE-2": 9.1315336227417
         },
         {
          "KM-label": 8,
          "digit": 3,
          "tSNE-1": -32.38852310180664,
          "tSNE-2": 0.1528680920600891
         },
         {
          "KM-label": 2,
          "digit": 7,
          "tSNE-1": -26.481788635253906,
          "tSNE-2": -26.49515151977539
         },
         {
          "KM-label": 8,
          "digit": 3,
          "tSNE-1": -35.42360305786133,
          "tSNE-2": -2.1205062866210938
         },
         {
          "KM-label": 8,
          "digit": 3,
          "tSNE-1": -36.078433990478516,
          "tSNE-2": 5.543577194213867
         },
         {
          "KM-label": 5,
          "digit": 4,
          "tSNE-1": 21.62469482421875,
          "tSNE-2": -36.94455337524414
         },
         {
          "KM-label": 7,
          "digit": 6,
          "tSNE-1": 25.584606170654297,
          "tSNE-2": 26.526161193847656
         },
         {
          "KM-label": 7,
          "digit": 6,
          "tSNE-1": 22.085023880004883,
          "tSNE-2": 27.566089630126953
         },
         {
          "KM-label": 7,
          "digit": 6,
          "tSNE-1": 21.94841766357422,
          "tSNE-2": 27.61752700805664
         },
         {
          "KM-label": 5,
          "digit": 4,
          "tSNE-1": 15.50022029876709,
          "tSNE-2": -37.11176681518555
         },
         {
          "KM-label": 4,
          "digit": 9,
          "tSNE-1": -8.38785171508789,
          "tSNE-2": 18.474361419677734
         },
         {
          "KM-label": 6,
          "digit": 1,
          "tSNE-1": 1.162473440170288,
          "tSNE-2": -8.954937934875488
         },
         {
          "KM-label": 3,
          "digit": 5,
          "tSNE-1": 18.165348052978516,
          "tSNE-2": -0.3794350326061249
         },
         {
          "KM-label": 1,
          "digit": 0,
          "tSNE-1": 36.091163635253906,
          "tSNE-2": 3.117131233215332
         },
         {
          "KM-label": 4,
          "digit": 9,
          "tSNE-1": -3.9588029384613037,
          "tSNE-2": 15.796513557434082
         },
         {
          "KM-label": 3,
          "digit": 5,
          "tSNE-1": 14.636991500854492,
          "tSNE-2": 10.256895065307617
         },
         {
          "KM-label": 0,
          "digit": 2,
          "tSNE-1": -29.929304122924805,
          "tSNE-2": 30.639612197875977
         },
         {
          "KM-label": 3,
          "digit": 8,
          "tSNE-1": -12.893289566040039,
          "tSNE-2": -11.110809326171875
         },
         {
          "KM-label": 0,
          "digit": 2,
          "tSNE-1": -26.397615432739258,
          "tSNE-2": 26.942386627197266
         },
         {
          "KM-label": 1,
          "digit": 0,
          "tSNE-1": 35.749385833740234,
          "tSNE-2": 2.715728521347046
         },
         {
          "KM-label": 1,
          "digit": 0,
          "tSNE-1": 36.37346267700195,
          "tSNE-2": 2.387296438217163
         },
         {
          "KM-label": 6,
          "digit": 1,
          "tSNE-1": 1.702867031097412,
          "tSNE-2": -12.511363983154297
         },
         {
          "KM-label": 2,
          "digit": 7,
          "tSNE-1": -27.702878952026367,
          "tSNE-2": -27.616926193237305
         },
         {
          "KM-label": 7,
          "digit": 6,
          "tSNE-1": 26.62518882751465,
          "tSNE-2": 26.73390007019043
         },
         {
          "KM-label": 8,
          "digit": 3,
          "tSNE-1": -34.37351989746094,
          "tSNE-2": -1.2599983215332031
         },
         {
          "KM-label": 0,
          "digit": 2,
          "tSNE-1": -31.256229400634766,
          "tSNE-2": 30.737462997436523
         },
         {
          "KM-label": 6,
          "digit": 1,
          "tSNE-1": 6.719748020172119,
          "tSNE-2": -15.46385383605957
         },
         {
          "KM-label": 2,
          "digit": 7,
          "tSNE-1": -28.850805282592773,
          "tSNE-2": -28.65151023864746
         },
         {
          "KM-label": 5,
          "digit": 4,
          "tSNE-1": 17.163530349731445,
          "tSNE-2": -36.42034149169922
         },
         {
          "KM-label": 7,
          "digit": 6,
          "tSNE-1": 26.060029983520508,
          "tSNE-2": 26.12845802307129
         },
         {
          "KM-label": 8,
          "digit": 3,
          "tSNE-1": -34.49694061279297,
          "tSNE-2": 0.7864962220191956
         },
         {
          "KM-label": 6,
          "digit": 1,
          "tSNE-1": 1.0619059801101685,
          "tSNE-2": -9.703968048095703
         },
         {
          "KM-label": 8,
          "digit": 3,
          "tSNE-1": -31.22102165222168,
          "tSNE-2": 7.843696594238281
         },
         {
          "KM-label": 4,
          "digit": 9,
          "tSNE-1": -1.9372446537017822,
          "tSNE-2": 17.561195373535156
         },
         {
          "KM-label": 6,
          "digit": 1,
          "tSNE-1": 0.945531964302063,
          "tSNE-2": -9.441974639892578
         },
         {
          "KM-label": 2,
          "digit": 7,
          "tSNE-1": -25.257184982299805,
          "tSNE-2": -30.34059715270996
         },
         {
          "KM-label": 7,
          "digit": 6,
          "tSNE-1": 25.817398071289062,
          "tSNE-2": 26.05821418762207
         },
         {
          "KM-label": 6,
          "digit": 8,
          "tSNE-1": -12.977911949157715,
          "tSNE-2": -9.62950325012207
         },
         {
          "KM-label": 5,
          "digit": 4,
          "tSNE-1": 16.81476593017578,
          "tSNE-2": -37.16963195800781
         },
         {
          "KM-label": 8,
          "digit": 3,
          "tSNE-1": -31.052396774291992,
          "tSNE-2": 6.614950180053711
         },
         {
          "KM-label": 6,
          "digit": 1,
          "tSNE-1": 1.1590975522994995,
          "tSNE-2": -7.541412830352783
         },
         {
          "KM-label": 5,
          "digit": 4,
          "tSNE-1": 19.360240936279297,
          "tSNE-2": -38.406227111816406
         },
         {
          "KM-label": 1,
          "digit": 0,
          "tSNE-1": 34.7204475402832,
          "tSNE-2": -2.5671355724334717
         },
         {
          "KM-label": 3,
          "digit": 5,
          "tSNE-1": 15.68004035949707,
          "tSNE-2": -4.382392406463623
         },
         {
          "KM-label": 8,
          "digit": 3,
          "tSNE-1": -34.470458984375,
          "tSNE-2": -1.3993290662765503
         },
         {
          "KM-label": 7,
          "digit": 6,
          "tSNE-1": 22.082674026489258,
          "tSNE-2": 28.352418899536133
         },
         {
          "KM-label": 4,
          "digit": 9,
          "tSNE-1": -3.9588587284088135,
          "tSNE-2": 16.559152603149414
         },
         {
          "KM-label": 7,
          "digit": 6,
          "tSNE-1": 26.03460121154785,
          "tSNE-2": 25.24506950378418
         },
         {
          "KM-label": 3,
          "digit": 1,
          "tSNE-1": 7.6901326179504395,
          "tSNE-2": -12.922167778015137
         },
         {
          "KM-label": 2,
          "digit": 7,
          "tSNE-1": -27.186857223510742,
          "tSNE-2": -26.884958267211914
         },
         {
          "KM-label": 3,
          "digit": 5,
          "tSNE-1": 15.572343826293945,
          "tSNE-2": -3.013021230697632
         },
         {
          "KM-label": 5,
          "digit": 4,
          "tSNE-1": 20.13190269470215,
          "tSNE-2": -37.280757904052734
         },
         {
          "KM-label": 5,
          "digit": 4,
          "tSNE-1": 16.149219512939453,
          "tSNE-2": -38.085445404052734
         },
         {
          "KM-label": 2,
          "digit": 7,
          "tSNE-1": -20.08232879638672,
          "tSNE-2": -36.924583435058594
         },
         {
          "KM-label": 0,
          "digit": 2,
          "tSNE-1": -34.533668518066406,
          "tSNE-2": 34.077030181884766
         },
         {
          "KM-label": 0,
          "digit": 8,
          "tSNE-1": -5.274703025817871,
          "tSNE-2": -0.929854691028595
         },
         {
          "KM-label": 0,
          "digit": 2,
          "tSNE-1": -32.49515914916992,
          "tSNE-2": 32.51527404785156
         },
         {
          "KM-label": 0,
          "digit": 2,
          "tSNE-1": -30.271663665771484,
          "tSNE-2": 30.378873825073242
         },
         {
          "KM-label": 3,
          "digit": 5,
          "tSNE-1": 19.098430633544922,
          "tSNE-2": -4.1729044914245605
         },
         {
          "KM-label": 2,
          "digit": 7,
          "tSNE-1": -22.095314025878906,
          "tSNE-2": -36.98621368408203
         },
         {
          "KM-label": 4,
          "digit": 9,
          "tSNE-1": -4.274877548217773,
          "tSNE-2": 16.291780471801758
         },
         {
          "KM-label": 3,
          "digit": 5,
          "tSNE-1": 15.898346900939941,
          "tSNE-2": -0.5780429840087891
         },
         {
          "KM-label": 5,
          "digit": 4,
          "tSNE-1": 17.787199020385742,
          "tSNE-2": -36.06425476074219
         },
         {
          "KM-label": 6,
          "digit": 8,
          "tSNE-1": -10.424192428588867,
          "tSNE-2": -9.205631256103516
         },
         {
          "KM-label": 6,
          "digit": 8,
          "tSNE-1": -12.45613956451416,
          "tSNE-2": -8.342253684997559
         },
         {
          "KM-label": 5,
          "digit": 4,
          "tSNE-1": 11.896011352539062,
          "tSNE-2": -41.08995819091797
         },
         {
          "KM-label": 4,
          "digit": 9,
          "tSNE-1": -2.7708113193511963,
          "tSNE-2": 22.1989803314209
         },
         {
          "KM-label": 1,
          "digit": 0,
          "tSNE-1": 35.3606071472168,
          "tSNE-2": 3.003567934036255
         },
         {
          "KM-label": 6,
          "digit": 8,
          "tSNE-1": -12.4526948928833,
          "tSNE-2": -7.641778469085693
         },
         {
          "KM-label": 4,
          "digit": 9,
          "tSNE-1": -2.798745632171631,
          "tSNE-2": 15.48133373260498
         },
         {
          "KM-label": 6,
          "digit": 8,
          "tSNE-1": -12.883227348327637,
          "tSNE-2": -8.342432022094727
         },
         {
          "KM-label": 1,
          "digit": 0,
          "tSNE-1": 46.05839920043945,
          "tSNE-2": -0.8643209934234619
         },
         {
          "KM-label": 9,
          "digit": 1,
          "tSNE-1": 1.1890230178833008,
          "tSNE-2": -23.45988655090332
         },
         {
          "KM-label": 0,
          "digit": 2,
          "tSNE-1": -23.350114822387695,
          "tSNE-2": 28.303791046142578
         },
         {
          "KM-label": 8,
          "digit": 3,
          "tSNE-1": -32.25990295410156,
          "tSNE-2": 9.454411506652832
         },
         {
          "KM-label": 5,
          "digit": 4,
          "tSNE-1": 22.842205047607422,
          "tSNE-2": -36.4420280456543
         },
         {
          "KM-label": 4,
          "digit": 5,
          "tSNE-1": 9.943613052368164,
          "tSNE-2": 13.519759178161621
         },
         {
          "KM-label": 7,
          "digit": 6,
          "tSNE-1": 24.84714126586914,
          "tSNE-2": 22.752145767211914
         },
         {
          "KM-label": 2,
          "digit": 7,
          "tSNE-1": -28.763338088989258,
          "tSNE-2": -28.040315628051758
         },
         {
          "KM-label": 6,
          "digit": 8,
          "tSNE-1": -9.9551420211792,
          "tSNE-2": -6.266302108764648
         },
         {
          "KM-label": 4,
          "digit": 9,
          "tSNE-1": -5.740228652954102,
          "tSNE-2": 25.749267578125
         },
         {
          "KM-label": 1,
          "digit": 0,
          "tSNE-1": 35.75587463378906,
          "tSNE-2": -3.947906970977783
         },
         {
          "KM-label": 6,
          "digit": 1,
          "tSNE-1": 6.731265068054199,
          "tSNE-2": -15.55632495880127
         },
         {
          "KM-label": 0,
          "digit": 2,
          "tSNE-1": -20.80076026916504,
          "tSNE-2": 29.71725082397461
         },
         {
          "KM-label": 8,
          "digit": 3,
          "tSNE-1": -35.630950927734375,
          "tSNE-2": 6.059625625610352
         },
         {
          "KM-label": 5,
          "digit": 4,
          "tSNE-1": 23.216896057128906,
          "tSNE-2": -36.33806228637695
         },
         {
          "KM-label": 3,
          "digit": 5,
          "tSNE-1": 10.563756942749023,
          "tSNE-2": 9.800785064697266
         },
         {
          "KM-label": 7,
          "digit": 6,
          "tSNE-1": 24.461450576782227,
          "tSNE-2": 23.411035537719727
         },
         {
          "KM-label": 2,
          "digit": 7,
          "tSNE-1": -18.576560974121094,
          "tSNE-2": -32.501930236816406
         },
         {
          "KM-label": 6,
          "digit": 8,
          "tSNE-1": -9.107264518737793,
          "tSNE-2": -7.569949626922607
         },
         {
          "KM-label": 4,
          "digit": 9,
          "tSNE-1": -2.533679246902466,
          "tSNE-2": 19.08854103088379
         },
         {
          "KM-label": 1,
          "digit": 0,
          "tSNE-1": 36.764678955078125,
          "tSNE-2": -4.215823173522949
         },
         {
          "KM-label": 9,
          "digit": 1,
          "tSNE-1": 4.999680519104004,
          "tSNE-2": -26.547592163085938
         },
         {
          "KM-label": 8,
          "digit": 2,
          "tSNE-1": -22.684404373168945,
          "tSNE-2": 28.357135772705078
         },
         {
          "KM-label": 8,
          "digit": 3,
          "tSNE-1": -25.104358673095703,
          "tSNE-2": 9.164429664611816
         },
         {
          "KM-label": 5,
          "digit": 4,
          "tSNE-1": 23.31399917602539,
          "tSNE-2": -36.339500427246094
         },
         {
          "KM-label": 3,
          "digit": 5,
          "tSNE-1": 15.216245651245117,
          "tSNE-2": 9.749702453613281
         },
         {
          "KM-label": 7,
          "digit": 6,
          "tSNE-1": 26.105836868286133,
          "tSNE-2": 24.47858428955078
         },
         {
          "KM-label": 2,
          "digit": 7,
          "tSNE-1": -21.93332290649414,
          "tSNE-2": -29.86467933654785
         },
         {
          "KM-label": 6,
          "digit": 8,
          "tSNE-1": -10.843317031860352,
          "tSNE-2": -8.04945182800293
         },
         {
          "KM-label": 4,
          "digit": 9,
          "tSNE-1": -1.92435884475708,
          "tSNE-2": 18.464582443237305
         },
         {
          "KM-label": 1,
          "digit": 0,
          "tSNE-1": 45.87399673461914,
          "tSNE-2": -5.584920406341553
         },
         {
          "KM-label": 4,
          "digit": 9,
          "tSNE-1": -2.8917856216430664,
          "tSNE-2": 20.012529373168945
         },
         {
          "KM-label": 3,
          "digit": 5,
          "tSNE-1": 14.226502418518066,
          "tSNE-2": 8.893379211425781
         },
         {
          "KM-label": 3,
          "digit": 5,
          "tSNE-1": 14.718194961547852,
          "tSNE-2": 8.381412506103516
         },
         {
          "KM-label": 7,
          "digit": 6,
          "tSNE-1": 25.993545532226562,
          "tSNE-2": 24.46396255493164
         },
         {
          "KM-label": 3,
          "digit": 5,
          "tSNE-1": 10.287771224975586,
          "tSNE-2": 6.212066173553467
         },
         {
          "KM-label": 1,
          "digit": 0,
          "tSNE-1": 34.93626022338867,
          "tSNE-2": -10.182775497436523
         },
         {
          "KM-label": 4,
          "digit": 9,
          "tSNE-1": -3.916750907897949,
          "tSNE-2": 19.57603645324707
         },
         {
          "KM-label": 6,
          "digit": 8,
          "tSNE-1": -12.463083267211914,
          "tSNE-2": -6.9806671142578125
         },
         {
          "KM-label": 4,
          "digit": 9,
          "tSNE-1": -1.7485257387161255,
          "tSNE-2": 16.946304321289062
         },
         {
          "KM-label": 6,
          "digit": 8,
          "tSNE-1": -10.312395095825195,
          "tSNE-2": -5.978027820587158
         },
         {
          "KM-label": 5,
          "digit": 4,
          "tSNE-1": 22.433042526245117,
          "tSNE-2": -36.422542572021484
         },
         {
          "KM-label": 6,
          "digit": 1,
          "tSNE-1": 3.461326837539673,
          "tSNE-2": -11.854137420654297
         },
         {
          "KM-label": 2,
          "digit": 7,
          "tSNE-1": -18.008161544799805,
          "tSNE-2": -32.42314910888672
         },
         {
          "KM-label": 2,
          "digit": 7,
          "tSNE-1": -22.55606460571289,
          "tSNE-2": -29.184417724609375
         },
         {
          "KM-label": 8,
          "digit": 3,
          "tSNE-1": -31.125633239746094,
          "tSNE-2": 8.70868968963623
         },
         {
          "KM-label": 3,
          "digit": 5,
          "tSNE-1": 14.300055503845215,
          "tSNE-2": 9.110589027404785
         },
         {
          "KM-label": 6,
          "digit": 1,
          "tSNE-1": 2.7318015098571777,
          "tSNE-2": -12.636174201965332
         },
         {
          "KM-label": 1,
          "digit": 0,
          "tSNE-1": 36.637264251708984,
          "tSNE-2": -5.8311381340026855
         },
         {
          "KM-label": 1,
          "digit": 0,
          "tSNE-1": 36.65726852416992,
          "tSNE-2": -6.244696617126465
         },
         {
          "KM-label": 8,
          "digit": 2,
          "tSNE-1": -22.078521728515625,
          "tSNE-2": 27.590898513793945
         },
         {
          "KM-label": 8,
          "digit": 2,
          "tSNE-1": -21.336071014404297,
          "tSNE-2": 27.467632293701172
         },
         {
          "KM-label": 2,
          "digit": 7,
          "tSNE-1": -21.95326042175293,
          "tSNE-2": -30.006084442138672
         },
         {
          "KM-label": 6,
          "digit": 8,
          "tSNE-1": -10.020527839660645,
          "tSNE-2": -7.127750873565674
         },
         {
          "KM-label": 8,
          "digit": 2,
          "tSNE-1": -20.20492935180664,
          "tSNE-2": 27.798728942871094
         },
         {
          "KM-label": 1,
          "digit": 0,
          "tSNE-1": 38.94525909423828,
          "tSNE-2": -11.503095626831055
         },
         {
          "KM-label": 9,
          "digit": 1,
          "tSNE-1": 3.871211528778076,
          "tSNE-2": -22.84724235534668
         },
         {
          "KM-label": 8,
          "digit": 2,
          "tSNE-1": -21.834396362304688,
          "tSNE-2": 27.91086769104004
         },
         {
          "KM-label": 7,
          "digit": 6,
          "tSNE-1": 28.33502769470215,
          "tSNE-2": 23.22011947631836
         },
         {
          "KM-label": 8,
          "digit": 3,
          "tSNE-1": -32.90167999267578,
          "tSNE-2": 1.4947490692138672
         },
         {
          "KM-label": 8,
          "digit": 3,
          "tSNE-1": -34.054046630859375,
          "tSNE-2": 5.962678909301758
         },
         {
          "KM-label": 2,
          "digit": 7,
          "tSNE-1": -27.54168128967285,
          "tSNE-2": -26.213626861572266
         },
         {
          "KM-label": 8,
          "digit": 3,
          "tSNE-1": -33.8292236328125,
          "tSNE-2": 8.270062446594238
         },
         {
          "KM-label": 8,
          "digit": 3,
          "tSNE-1": -33.112918853759766,
          "tSNE-2": 8.225397109985352
         },
         {
          "KM-label": 5,
          "digit": 4,
          "tSNE-1": 22.54334259033203,
          "tSNE-2": -36.02465057373047
         },
         {
          "KM-label": 7,
          "digit": 6,
          "tSNE-1": 28.872737884521484,
          "tSNE-2": 22.940311431884766
         },
         {
          "KM-label": 7,
          "digit": 6,
          "tSNE-1": 28.77147102355957,
          "tSNE-2": 22.473613739013672
         },
         {
          "KM-label": 7,
          "digit": 6,
          "tSNE-1": 27.728479385375977,
          "tSNE-2": 23.519386291503906
         },
         {
          "KM-label": 5,
          "digit": 4,
          "tSNE-1": 20.61623191833496,
          "tSNE-2": -38.05241775512695
         },
         {
          "KM-label": 4,
          "digit": 9,
          "tSNE-1": -8.56423282623291,
          "tSNE-2": 22.804250717163086
         },
         {
          "KM-label": 6,
          "digit": 1,
          "tSNE-1": 1.1299127340316772,
          "tSNE-2": -12.617819786071777
         },
         {
          "KM-label": 3,
          "digit": 5,
          "tSNE-1": 14.865854263305664,
          "tSNE-2": 11.016698837280273
         },
         {
          "KM-label": 1,
          "digit": 0,
          "tSNE-1": 38.00364303588867,
          "tSNE-2": 0.08997184038162231
         },
         {
          "KM-label": 4,
          "digit": 9,
          "tSNE-1": -3.042146921157837,
          "tSNE-2": 18.946399688720703
         },
         {
          "KM-label": 7,
          "digit": 5,
          "tSNE-1": 17.39242172241211,
          "tSNE-2": 13.829442024230957
         },
         {
          "KM-label": 0,
          "digit": 2,
          "tSNE-1": -23.826629638671875,
          "tSNE-2": 32.8387451171875
         },
         {
          "KM-label": 6,
          "digit": 8,
          "tSNE-1": -9.439590454101562,
          "tSNE-2": -2.9856810569763184
         },
         {
          "KM-label": 8,
          "digit": 2,
          "tSNE-1": -20.047849655151367,
          "tSNE-2": 27.281448364257812
         },
         {
          "KM-label": 1,
          "digit": 0,
          "tSNE-1": 39.75175476074219,
          "tSNE-2": -1.014191746711731
         },
         {
          "KM-label": 1,
          "digit": 0,
          "tSNE-1": 36.759891510009766,
          "tSNE-2": -4.969707489013672
         },
         {
          "KM-label": 9,
          "digit": 1,
          "tSNE-1": 6.221139907836914,
          "tSNE-2": -20.70535659790039
         },
         {
          "KM-label": 2,
          "digit": 7,
          "tSNE-1": -26.0330867767334,
          "tSNE-2": -27.30449104309082
         },
         {
          "KM-label": 7,
          "digit": 6,
          "tSNE-1": 25.830184936523438,
          "tSNE-2": 23.09184455871582
         },
         {
          "KM-label": 8,
          "digit": 3,
          "tSNE-1": -30.77769660949707,
          "tSNE-2": 8.609943389892578
         },
         {
          "KM-label": 0,
          "digit": 2,
          "tSNE-1": -23.6390323638916,
          "tSNE-2": 31.01889419555664
         },
         {
          "KM-label": 6,
          "digit": 1,
          "tSNE-1": 2.1773316860198975,
          "tSNE-2": -14.466937065124512
         },
         {
          "KM-label": 2,
          "digit": 7,
          "tSNE-1": -29.365835189819336,
          "tSNE-2": -31.168426513671875
         },
         {
          "KM-label": 5,
          "digit": 4,
          "tSNE-1": 20.59438705444336,
          "tSNE-2": -38.21937561035156
         },
         {
          "KM-label": 7,
          "digit": 6,
          "tSNE-1": 26.01263427734375,
          "tSNE-2": 24.45093536376953
         },
         {
          "KM-label": 8,
          "digit": 3,
          "tSNE-1": -32.6483154296875,
          "tSNE-2": -0.6019758582115173
         },
         {
          "KM-label": 6,
          "digit": 1,
          "tSNE-1": 2.737240791320801,
          "tSNE-2": -13.401290893554688
         },
         {
          "KM-label": 8,
          "digit": 3,
          "tSNE-1": -29.245607376098633,
          "tSNE-2": 8.08346939086914
         },
         {
          "KM-label": 4,
          "digit": 9,
          "tSNE-1": -5.167012691497803,
          "tSNE-2": 21.436769485473633
         },
         {
          "KM-label": 6,
          "digit": 1,
          "tSNE-1": 2.683929443359375,
          "tSNE-2": -11.946048736572266
         },
         {
          "KM-label": 2,
          "digit": 7,
          "tSNE-1": -19.488462448120117,
          "tSNE-2": -33.01406478881836
         },
         {
          "KM-label": 7,
          "digit": 6,
          "tSNE-1": 24.882505416870117,
          "tSNE-2": 23.71635627746582
         },
         {
          "KM-label": 6,
          "digit": 8,
          "tSNE-1": -13.3939790725708,
          "tSNE-2": -8.727218627929688
         },
         {
          "KM-label": 5,
          "digit": 4,
          "tSNE-1": 22.72934341430664,
          "tSNE-2": -35.97248458862305
         },
         {
          "KM-label": 8,
          "digit": 3,
          "tSNE-1": -33.39323043823242,
          "tSNE-2": 6.7915802001953125
         },
         {
          "KM-label": 6,
          "digit": 1,
          "tSNE-1": 2.5149142742156982,
          "tSNE-2": -10.316781997680664
         },
         {
          "KM-label": 5,
          "digit": 4,
          "tSNE-1": 16.13139533996582,
          "tSNE-2": -37.56330871582031
         },
         {
          "KM-label": 1,
          "digit": 0,
          "tSNE-1": 36.27205276489258,
          "tSNE-2": -4.593072891235352
         },
         {
          "KM-label": 3,
          "digit": 5,
          "tSNE-1": 15.914957046508789,
          "tSNE-2": 6.357734680175781
         },
         {
          "KM-label": 8,
          "digit": 3,
          "tSNE-1": -31.392391204833984,
          "tSNE-2": 8.221746444702148
         },
         {
          "KM-label": 7,
          "digit": 6,
          "tSNE-1": 26.99524688720703,
          "tSNE-2": 21.30074119567871
         },
         {
          "KM-label": 4,
          "digit": 9,
          "tSNE-1": -0.7298821210861206,
          "tSNE-2": 19.27263069152832
         },
         {
          "KM-label": 7,
          "digit": 6,
          "tSNE-1": 29.038066864013672,
          "tSNE-2": 21.745351791381836
         },
         {
          "KM-label": 6,
          "digit": 1,
          "tSNE-1": 3.310638904571533,
          "tSNE-2": -10.374468803405762
         },
         {
          "KM-label": 2,
          "digit": 7,
          "tSNE-1": -27.14504623413086,
          "tSNE-2": -31.233943939208984
         },
         {
          "KM-label": 3,
          "digit": 5,
          "tSNE-1": 13.1851224899292,
          "tSNE-2": 4.827813148498535
         },
         {
          "KM-label": 5,
          "digit": 4,
          "tSNE-1": 19.073741912841797,
          "tSNE-2": -35.56886672973633
         },
         {
          "KM-label": 5,
          "digit": 4,
          "tSNE-1": 18.833833694458008,
          "tSNE-2": -35.68306350708008
         },
         {
          "KM-label": 2,
          "digit": 7,
          "tSNE-1": -18.3356876373291,
          "tSNE-2": -35.4959602355957
         },
         {
          "KM-label": 4,
          "digit": 2,
          "tSNE-1": -21.644330978393555,
          "tSNE-2": 28.545551300048828
         },
         {
          "KM-label": 6,
          "digit": 8,
          "tSNE-1": -13.427176475524902,
          "tSNE-2": -7.189701557159424
         },
         {
          "KM-label": 0,
          "digit": 2,
          "tSNE-1": -22.9477481842041,
          "tSNE-2": 30.414634704589844
         },
         {
          "KM-label": 0,
          "digit": 2,
          "tSNE-1": -22.259674072265625,
          "tSNE-2": 29.558168411254883
         },
         {
          "KM-label": 4,
          "digit": 5,
          "tSNE-1": 15.23670768737793,
          "tSNE-2": 11.847857475280762
         },
         {
          "KM-label": 2,
          "digit": 7,
          "tSNE-1": -23.1986141204834,
          "tSNE-2": -28.942020416259766
         },
         {
          "KM-label": 4,
          "digit": 9,
          "tSNE-1": -0.7468942999839783,
          "tSNE-2": 18.836715698242188
         },
         {
          "KM-label": 3,
          "digit": 5,
          "tSNE-1": 11.023307800292969,
          "tSNE-2": 5.5484700202941895
         },
         {
          "KM-label": 5,
          "digit": 4,
          "tSNE-1": 18.422809600830078,
          "tSNE-2": -35.7116813659668
         },
         {
          "KM-label": 6,
          "digit": 8,
          "tSNE-1": -9.590093612670898,
          "tSNE-2": -6.492735385894775
         },
         {
          "KM-label": 6,
          "digit": 8,
          "tSNE-1": -9.055096626281738,
          "tSNE-2": -7.81798791885376
         },
         {
          "KM-label": 5,
          "digit": 4,
          "tSNE-1": 20.610546112060547,
          "tSNE-2": -38.125858306884766
         },
         {
          "KM-label": 4,
          "digit": 9,
          "tSNE-1": 0.7193722128868103,
          "tSNE-2": 19.38587760925293
         },
         {
          "KM-label": 1,
          "digit": 0,
          "tSNE-1": 34.83316421508789,
          "tSNE-2": -10.225546836853027
         },
         {
          "KM-label": 6,
          "digit": 8,
          "tSNE-1": -12.10205364227295,
          "tSNE-2": -8.983813285827637
         },
         {
          "KM-label": 1,
          "digit": 0,
          "tSNE-1": 43.11505126953125,
          "tSNE-2": -0.8293690085411072
         },
         {
          "KM-label": 9,
          "digit": 1,
          "tSNE-1": 1.819097876548767,
          "tSNE-2": -23.498266220092773
         },
         {
          "KM-label": 0,
          "digit": 2,
          "tSNE-1": -28.912878036499023,
          "tSNE-2": 37.032012939453125
         },
         {
          "KM-label": 8,
          "digit": 3,
          "tSNE-1": -25.4761905670166,
          "tSNE-2": 6.529809951782227
         },
         {
          "KM-label": 5,
          "digit": 4,
          "tSNE-1": 14.386303901672363,
          "tSNE-2": -45.17352294921875
         },
         {
          "KM-label": 3,
          "digit": 5,
          "tSNE-1": 9.229610443115234,
          "tSNE-2": 10.754467010498047
         },
         {
          "KM-label": 7,
          "digit": 6,
          "tSNE-1": 29.864465713500977,
          "tSNE-2": 31.412193298339844
         },
         {
          "KM-label": 2,
          "digit": 7,
          "tSNE-1": -15.663926124572754,
          "tSNE-2": -32.2415885925293
         },
         {
          "KM-label": 4,
          "digit": 8,
          "tSNE-1": -10.367961883544922,
          "tSNE-2": 4.72788667678833
         },
         {
          "KM-label": 4,
          "digit": 9,
          "tSNE-1": -3.8895232677459717,
          "tSNE-2": 23.804725646972656
         },
         {
          "KM-label": 1,
          "digit": 0,
          "tSNE-1": 43.1915168762207,
          "tSNE-2": -4.661710739135742
         },
         {
          "KM-label": 9,
          "digit": 1,
          "tSNE-1": 1.931764841079712,
          "tSNE-2": -24.442182540893555
         },
         {
          "KM-label": 0,
          "digit": 2,
          "tSNE-1": -28.921133041381836,
          "tSNE-2": 38.32668685913086
         },
         {
          "KM-label": 8,
          "digit": 3,
          "tSNE-1": -24.764259338378906,
          "tSNE-2": 7.96493673324585
         },
         {
          "KM-label": 5,
          "digit": 4,
          "tSNE-1": 18.039024353027344,
          "tSNE-2": -43.32301712036133
         },
         {
          "KM-label": 4,
          "digit": 5,
          "tSNE-1": 9.658008575439453,
          "tSNE-2": 13.763813018798828
         },
         {
          "KM-label": 7,
          "digit": 6,
          "tSNE-1": 30.260683059692383,
          "tSNE-2": 31.69331932067871
         },
         {
          "KM-label": 2,
          "digit": 7,
          "tSNE-1": -15.217093467712402,
          "tSNE-2": -32.948848724365234
         },
         {
          "KM-label": 4,
          "digit": 8,
          "tSNE-1": -10.706008911132812,
          "tSNE-2": 4.982553482055664
         },
         {
          "KM-label": 4,
          "digit": 9,
          "tSNE-1": -1.8749337196350098,
          "tSNE-2": 22.549116134643555
         },
         {
          "KM-label": 1,
          "digit": 0,
          "tSNE-1": 42.9255485534668,
          "tSNE-2": 1.6461169719696045
         },
         {
          "KM-label": 9,
          "digit": 1,
          "tSNE-1": 3.685310125350952,
          "tSNE-2": -23.685388565063477
         },
         {
          "KM-label": 0,
          "digit": 2,
          "tSNE-1": -28.350452423095703,
          "tSNE-2": 36.88511276245117
         },
         {
          "KM-label": 8,
          "digit": 3,
          "tSNE-1": -26.275461196899414,
          "tSNE-2": 5.780653476715088
         },
         {
          "KM-label": 5,
          "digit": 4,
          "tSNE-1": 16.537853240966797,
          "tSNE-2": -43.537349700927734
         },
         {
          "KM-label": 4,
          "digit": 5,
          "tSNE-1": 8.209405899047852,
          "tSNE-2": 16.664697647094727
         },
         {
          "KM-label": 7,
          "digit": 6,
          "tSNE-1": 29.20926856994629,
          "tSNE-2": 33.12031936645508
         },
         {
          "KM-label": 2,
          "digit": 7,
          "tSNE-1": -15.51049518585205,
          "tSNE-2": -32.06760787963867
         },
         {
          "KM-label": 4,
          "digit": 8,
          "tSNE-1": -11.084320068359375,
          "tSNE-2": 5.340712070465088
         },
         {
          "KM-label": 4,
          "digit": 9,
          "tSNE-1": -4.0177764892578125,
          "tSNE-2": 23.845932006835938
         },
         {
          "KM-label": 1,
          "digit": 0,
          "tSNE-1": 43.66457748413086,
          "tSNE-2": -3.600222587585449
         },
         {
          "KM-label": 4,
          "digit": 9,
          "tSNE-1": -3.730581045150757,
          "tSNE-2": 21.17679786682129
         },
         {
          "KM-label": 4,
          "digit": 5,
          "tSNE-1": 9.581415176391602,
          "tSNE-2": 13.76071548461914
         },
         {
          "KM-label": 4,
          "digit": 5,
          "tSNE-1": 9.620841026306152,
          "tSNE-2": 13.834734916687012
         },
         {
          "KM-label": 7,
          "digit": 6,
          "tSNE-1": 28.179845809936523,
          "tSNE-2": 29.415403366088867
         },
         {
          "KM-label": 4,
          "digit": 5,
          "tSNE-1": 9.962656021118164,
          "tSNE-2": 13.45547866821289
         },
         {
          "KM-label": 1,
          "digit": 0,
          "tSNE-1": 43.187782287597656,
          "tSNE-2": -3.667036533355713
         },
         {
          "KM-label": 4,
          "digit": 9,
          "tSNE-1": -2.1882240772247314,
          "tSNE-2": 21.937917709350586
         },
         {
          "KM-label": 4,
          "digit": 8,
          "tSNE-1": -10.223326683044434,
          "tSNE-2": 2.959108352661133
         },
         {
          "KM-label": 4,
          "digit": 9,
          "tSNE-1": -2.451292037963867,
          "tSNE-2": 23.88811492919922
         },
         {
          "KM-label": 4,
          "digit": 8,
          "tSNE-1": -9.777427673339844,
          "tSNE-2": 3.131734848022461
         },
         {
          "KM-label": 5,
          "digit": 4,
          "tSNE-1": 17.478605270385742,
          "tSNE-2": -40.33659362792969
         },
         {
          "KM-label": 9,
          "digit": 1,
          "tSNE-1": 3.1395370960235596,
          "tSNE-2": -25.60422706604004
         },
         {
          "KM-label": 2,
          "digit": 7,
          "tSNE-1": -17.188566207885742,
          "tSNE-2": -31.657588958740234
         },
         {
          "KM-label": 2,
          "digit": 7,
          "tSNE-1": -16.718292236328125,
          "tSNE-2": -31.0469913482666
         },
         {
          "KM-label": 8,
          "digit": 3,
          "tSNE-1": -29.42310333251953,
          "tSNE-2": 7.034121990203857
         },
         {
          "KM-label": 4,
          "digit": 5,
          "tSNE-1": 6.888422966003418,
          "tSNE-2": 12.725417137145996
         },
         {
          "KM-label": 9,
          "digit": 1,
          "tSNE-1": 2.7546443939208984,
          "tSNE-2": -25.7789363861084
         },
         {
          "KM-label": 1,
          "digit": 0,
          "tSNE-1": 42.61551284790039,
          "tSNE-2": -2.791949510574341
         },
         {
          "KM-label": 1,
          "digit": 0,
          "tSNE-1": 42.865726470947266,
          "tSNE-2": -2.8168978691101074
         },
         {
          "KM-label": 0,
          "digit": 2,
          "tSNE-1": -25.898813247680664,
          "tSNE-2": 35.73967361450195
         },
         {
          "KM-label": 0,
          "digit": 2,
          "tSNE-1": -27.77952766418457,
          "tSNE-2": 36.567378997802734
         },
         {
          "KM-label": 2,
          "digit": 7,
          "tSNE-1": -14.83665943145752,
          "tSNE-2": -33.794254302978516
         },
         {
          "KM-label": 9,
          "digit": 8,
          "tSNE-1": -0.4737401306629181,
          "tSNE-2": -22.599618911743164
         },
         {
          "KM-label": 0,
          "digit": 2,
          "tSNE-1": -27.177743911743164,
          "tSNE-2": 37.45287322998047
         },
         {
          "KM-label": 1,
          "digit": 0,
          "tSNE-1": 45.933292388916016,
          "tSNE-2": -5.41463041305542
         },
         {
          "KM-label": 9,
          "digit": 1,
          "tSNE-1": 1.6967359781265259,
          "tSNE-2": -24.828163146972656
         },
         {
          "KM-label": 0,
          "digit": 2,
          "tSNE-1": -27.31869125366211,
          "tSNE-2": 37.9576530456543
         },
         {
          "KM-label": 7,
          "digit": 6,
          "tSNE-1": 30.406837463378906,
          "tSNE-2": 32.43846130371094
         },
         {
          "KM-label": 8,
          "digit": 3,
          "tSNE-1": -24.895275115966797,
          "tSNE-2": 7.508965492248535
         },
         {
          "KM-label": 8,
          "digit": 3,
          "tSNE-1": -28.356325149536133,
          "tSNE-2": 8.700437545776367
         },
         {
          "KM-label": 2,
          "digit": 7,
          "tSNE-1": -16.29726791381836,
          "tSNE-2": -32.899436950683594
         },
         {
          "KM-label": 8,
          "digit": 3,
          "tSNE-1": -25.200345993041992,
          "tSNE-2": 8.247488975524902
         },
         {
          "KM-label": 8,
          "digit": 3,
          "tSNE-1": -29.981971740722656,
          "tSNE-2": 9.020455360412598
         },
         {
          "KM-label": 5,
          "digit": 4,
          "tSNE-1": 17.787433624267578,
          "tSNE-2": -43.73046112060547
         },
         {
          "KM-label": 7,
          "digit": 6,
          "tSNE-1": 28.37482261657715,
          "tSNE-2": 32.52931594848633
         },
         {
          "KM-label": 7,
          "digit": 6,
          "tSNE-1": 26.348583221435547,
          "tSNE-2": 35.260074615478516
         },
         {
          "KM-label": 7,
          "digit": 6,
          "tSNE-1": 26.472829818725586,
          "tSNE-2": 30.377700805664062
         },
         {
          "KM-label": 5,
          "digit": 4,
          "tSNE-1": 17.061744689941406,
          "tSNE-2": -42.45881271362305
         },
         {
          "KM-label": 4,
          "digit": 9,
          "tSNE-1": -4.501275062561035,
          "tSNE-2": 24.44467544555664
         },
         {
          "KM-label": 9,
          "digit": 1,
          "tSNE-1": 1.7103214263916016,
          "tSNE-2": -24.880001068115234
         },
         {
          "KM-label": 4,
          "digit": 5,
          "tSNE-1": 10.546887397766113,
          "tSNE-2": 14.104626655578613
         },
         {
          "KM-label": 1,
          "digit": 0,
          "tSNE-1": 44.853607177734375,
          "tSNE-2": -6.595193862915039
         },
         {
          "KM-label": 4,
          "digit": 9,
          "tSNE-1": -3.1064045429229736,
          "tSNE-2": 24.336994171142578
         },
         {
          "KM-label": 3,
          "digit": 5,
          "tSNE-1": 14.261002540588379,
          "tSNE-2": 9.82150936126709
         },
         {
          "KM-label": 0,
          "digit": 2,
          "tSNE-1": -27.8540096282959,
          "tSNE-2": 37.12343215942383
         },
         {
          "KM-label": 4,
          "digit": 8,
          "tSNE-1": -8.84654426574707,
          "tSNE-2": 5.076396465301514
         },
         {
          "KM-label": 0,
          "digit": 2,
          "tSNE-1": -27.13714027404785,
          "tSNE-2": 37.39009475708008
         },
         {
          "KM-label": 1,
          "digit": 0,
          "tSNE-1": 45.73350143432617,
          "tSNE-2": -5.753220081329346
         },
         {
          "KM-label": 1,
          "digit": 0,
          "tSNE-1": 42.40964889526367,
          "tSNE-2": -2.417619228363037
         },
         {
          "KM-label": 9,
          "digit": 1,
          "tSNE-1": 1.6555192470550537,
          "tSNE-2": -25.386112213134766
         },
         {
          "KM-label": 2,
          "digit": 7,
          "tSNE-1": -17.51132583618164,
          "tSNE-2": -32.346824645996094
         },
         {
          "KM-label": 7,
          "digit": 6,
          "tSNE-1": 30.201889038085938,
          "tSNE-2": 31.15196418762207
         },
         {
          "KM-label": 8,
          "digit": 3,
          "tSNE-1": -27.254215240478516,
          "tSNE-2": 7.480081558227539
         },
         {
          "KM-label": 0,
          "digit": 2,
          "tSNE-1": -32.297550201416016,
          "tSNE-2": 37.845428466796875
         },
         {
          "KM-label": 9,
          "digit": 1,
          "tSNE-1": 1.5218565464019775,
          "tSNE-2": -23.6252498626709
         },
         {
          "KM-label": 2,
          "digit": 7,
          "tSNE-1": -17.95431900024414,
          "tSNE-2": -31.45074462890625
         },
         {
          "KM-label": 5,
          "digit": 4,
          "tSNE-1": 17.970224380493164,
          "tSNE-2": -42.36103820800781
         },
         {
          "KM-label": 7,
          "digit": 6,
          "tSNE-1": 29.946014404296875,
          "tSNE-2": 30.796232223510742
         },
         {
          "KM-label": 8,
          "digit": 3,
          "tSNE-1": -29.619140625,
          "tSNE-2": 4.938501358032227
         },
         {
          "KM-label": 9,
          "digit": 1,
          "tSNE-1": 3.7214181423187256,
          "tSNE-2": -23.74856185913086
         },
         {
          "KM-label": 8,
          "digit": 3,
          "tSNE-1": -29.467201232910156,
          "tSNE-2": 7.295988082885742
         },
         {
          "KM-label": 4,
          "digit": 9,
          "tSNE-1": -2.1899728775024414,
          "tSNE-2": 21.748090744018555
         },
         {
          "KM-label": 9,
          "digit": 1,
          "tSNE-1": 2.3720016479492188,
          "tSNE-2": -25.194421768188477
         },
         {
          "KM-label": 2,
          "digit": 7,
          "tSNE-1": -17.009798049926758,
          "tSNE-2": -31.834497451782227
         },
         {
          "KM-label": 7,
          "digit": 6,
          "tSNE-1": 28.902690887451172,
          "tSNE-2": 30.251800537109375
         },
         {
          "KM-label": 4,
          "digit": 8,
          "tSNE-1": -8.542597770690918,
          "tSNE-2": 4.842796802520752
         },
         {
          "KM-label": 5,
          "digit": 4,
          "tSNE-1": 16.35833168029785,
          "tSNE-2": -43.71651840209961
         },
         {
          "KM-label": 8,
          "digit": 3,
          "tSNE-1": -29.102638244628906,
          "tSNE-2": 8.891379356384277
         },
         {
          "KM-label": 9,
          "digit": 1,
          "tSNE-1": 2.400367021560669,
          "tSNE-2": -25.75562858581543
         },
         {
          "KM-label": 5,
          "digit": 4,
          "tSNE-1": 16.604473114013672,
          "tSNE-2": -43.31380844116211
         },
         {
          "KM-label": 1,
          "digit": 0,
          "tSNE-1": 43.77362060546875,
          "tSNE-2": -3.4154202938079834
         },
         {
          "KM-label": 4,
          "digit": 5,
          "tSNE-1": 6.85540771484375,
          "tSNE-2": 12.694602012634277
         },
         {
          "KM-label": 8,
          "digit": 3,
          "tSNE-1": -27.537965774536133,
          "tSNE-2": 6.660836696624756
         },
         {
          "KM-label": 7,
          "digit": 6,
          "tSNE-1": 29.059810638427734,
          "tSNE-2": 30.287538528442383
         },
         {
          "KM-label": 4,
          "digit": 9,
          "tSNE-1": -4.1043877601623535,
          "tSNE-2": 24.480253219604492
         },
         {
          "KM-label": 7,
          "digit": 6,
          "tSNE-1": 24.7424259185791,
          "tSNE-2": 27.328899383544922
         },
         {
          "KM-label": 9,
          "digit": 1,
          "tSNE-1": 1.4081428050994873,
          "tSNE-2": -24.580318450927734
         },
         {
          "KM-label": 2,
          "digit": 7,
          "tSNE-1": -14.994866371154785,
          "tSNE-2": -31.468841552734375
         },
         {
          "KM-label": 4,
          "digit": 5,
          "tSNE-1": 6.345499038696289,
          "tSNE-2": 15.25178050994873
         },
         {
          "KM-label": 5,
          "digit": 4,
          "tSNE-1": 17.605514526367188,
          "tSNE-2": -42.63794708251953
         },
         {
          "KM-label": 5,
          "digit": 4,
          "tSNE-1": 13.306017875671387,
          "tSNE-2": -44.172630310058594
         },
         {
          "KM-label": 2,
          "digit": 7,
          "tSNE-1": -15.66215705871582,
          "tSNE-2": -33.07989501953125
         },
         {
          "KM-label": 0,
          "digit": 2,
          "tSNE-1": -26.7606143951416,
          "tSNE-2": 35.67797088623047
         },
         {
          "KM-label": 4,
          "digit": 8,
          "tSNE-1": -7.618557453155518,
          "tSNE-2": 4.700369834899902
         },
         {
          "KM-label": 0,
          "digit": 2,
          "tSNE-1": -25.991289138793945,
          "tSNE-2": 28.412187576293945
         },
         {
          "KM-label": 0,
          "digit": 2,
          "tSNE-1": -27.237682342529297,
          "tSNE-2": 37.93482208251953
         },
         {
          "KM-label": 3,
          "digit": 5,
          "tSNE-1": 10.914092063903809,
          "tSNE-2": 12.890130996704102
         },
         {
          "KM-label": 2,
          "digit": 7,
          "tSNE-1": -15.356565475463867,
          "tSNE-2": -31.908863067626953
         },
         {
          "KM-label": 4,
          "digit": 9,
          "tSNE-1": -3.319145679473877,
          "tSNE-2": 20.43315887451172
         },
         {
          "KM-label": 3,
          "digit": 5,
          "tSNE-1": 10.122591018676758,
          "tSNE-2": 9.545736312866211
         },
         {
          "KM-label": 5,
          "digit": 4,
          "tSNE-1": 17.60017204284668,
          "tSNE-2": -43.33791732788086
         },
         {
          "KM-label": 4,
          "digit": 8,
          "tSNE-1": -7.577999114990234,
          "tSNE-2": 4.216958045959473
         },
         {
          "KM-label": 2,
          "digit": 8,
          "tSNE-1": -7.869588375091553,
          "tSNE-2": 3.627082109451294
         },
         {
          "KM-label": 5,
          "digit": 4,
          "tSNE-1": 17.863611221313477,
          "tSNE-2": -41.15153121948242
         },
         {
          "KM-label": 8,
          "digit": 9,
          "tSNE-1": -1.0679901838302612,
          "tSNE-2": 21.69155502319336
         },
         {
          "KM-label": 1,
          "digit": 0,
          "tSNE-1": 41.269775390625,
          "tSNE-2": -1.6213934421539307
         },
         {
          "KM-label": 2,
          "digit": 8,
          "tSNE-1": -7.377265453338623,
          "tSNE-2": 4.425371170043945
         },
         {
          "KM-label": 4,
          "digit": 9,
          "tSNE-1": -1.315568208694458,
          "tSNE-2": 21.711668014526367
         },
         {
          "KM-label": 4,
          "digit": 8,
          "tSNE-1": -8.048970222473145,
          "tSNE-2": 3.5879788398742676
         },
         {
          "KM-label": 1,
          "digit": 0,
          "tSNE-1": 36.41850280761719,
          "tSNE-2": -6.900046348571777
         },
         {
          "KM-label": 6,
          "digit": 1,
          "tSNE-1": 4.377832889556885,
          "tSNE-2": -11.775809288024902
         },
         {
          "KM-label": 0,
          "digit": 2,
          "tSNE-1": -26.73876953125,
          "tSNE-2": 31.483156204223633
         },
         {
          "KM-label": 8,
          "digit": 3,
          "tSNE-1": -33.835716247558594,
          "tSNE-2": 1.301425576210022
         },
         {
          "KM-label": 5,
          "digit": 4,
          "tSNE-1": 13.18960189819336,
          "tSNE-2": -39.638282775878906
         },
         {
          "KM-label": 3,
          "digit": 5,
          "tSNE-1": 17.459228515625,
          "tSNE-2": -2.4568557739257812
         },
         {
          "KM-label": 6,
          "digit": 6,
          "tSNE-1": 24.381208419799805,
          "tSNE-2": 21.860471725463867
         },
         {
          "KM-label": 6,
          "digit": 7,
          "tSNE-1": -29.527313232421875,
          "tSNE-2": -25.058849334716797
         },
         {
          "KM-label": 6,
          "digit": 8,
          "tSNE-1": 7.423875331878662,
          "tSNE-2": -14.804266929626465
         },
         {
          "KM-label": 9,
          "digit": 9,
          "tSNE-1": 1.3803472518920898,
          "tSNE-2": -29.521968841552734
         },
         {
          "KM-label": 1,
          "digit": 0,
          "tSNE-1": 35.52656555175781,
          "tSNE-2": -6.219665050506592
         },
         {
          "KM-label": 6,
          "digit": 1,
          "tSNE-1": 2.3699889183044434,
          "tSNE-2": -8.07990550994873
         },
         {
          "KM-label": 8,
          "digit": 2,
          "tSNE-1": -19.59026336669922,
          "tSNE-2": 28.149919509887695
         },
         {
          "KM-label": 8,
          "digit": 3,
          "tSNE-1": -36.42861557006836,
          "tSNE-2": 4.063939571380615
         },
         {
          "KM-label": 5,
          "digit": 4,
          "tSNE-1": 12.764735221862793,
          "tSNE-2": -39.79335403442383
         },
         {
          "KM-label": 3,
          "digit": 5,
          "tSNE-1": 18.15768814086914,
          "tSNE-2": -1.9125310182571411
         },
         {
          "KM-label": 7,
          "digit": 6,
          "tSNE-1": 25.567771911621094,
          "tSNE-2": 21.41816520690918
         },
         {
          "KM-label": 9,
          "digit": 9,
          "tSNE-1": -1.4608395099639893,
          "tSNE-2": -29.5897274017334
         },
         {
          "KM-label": 1,
          "digit": 0,
          "tSNE-1": 38.04350662231445,
          "tSNE-2": -6.833225727081299
         },
         {
          "KM-label": 6,
          "digit": 1,
          "tSNE-1": 1.9672901630401611,
          "tSNE-2": -7.569553852081299
         },
         {
          "KM-label": 0,
          "digit": 2,
          "tSNE-1": -22.39044761657715,
          "tSNE-2": 33.342864990234375
         },
         {
          "KM-label": 8,
          "digit": 3,
          "tSNE-1": -32.805885314941406,
          "tSNE-2": -0.4722016155719757
         },
         {
          "KM-label": 5,
          "digit": 4,
          "tSNE-1": 12.56078815460205,
          "tSNE-2": -42.4691162109375
         },
         {
          "KM-label": 3,
          "digit": 5,
          "tSNE-1": 14.424281120300293,
          "tSNE-2": 2.435171365737915
         },
         {
          "KM-label": 7,
          "digit": 6,
          "tSNE-1": 19.95907974243164,
          "tSNE-2": 23.419910430908203
         },
         {
          "KM-label": 2,
          "digit": 7,
          "tSNE-1": -29.051462173461914,
          "tSNE-2": -25.538707733154297
         },
         {
          "KM-label": 3,
          "digit": 8,
          "tSNE-1": -8.62911605834961,
          "tSNE-2": -10.829890251159668
         },
         {
          "KM-label": 9,
          "digit": 9,
          "tSNE-1": -1.4972785711288452,
          "tSNE-2": -29.69426918029785
         },
         {
          "KM-label": 5,
          "digit": 0,
          "tSNE-1": 33.55295181274414,
          "tSNE-2": -10.718805313110352
         },
         {
          "KM-label": 9,
          "digit": 9,
          "tSNE-1": -1.2224204540252686,
          "tSNE-2": -29.55979347229004
         },
         {
          "KM-label": 3,
          "digit": 5,
          "tSNE-1": 11.621268272399902,
          "tSNE-2": -2.851764678955078
         },
         {
          "KM-label": 3,
          "digit": 5,
          "tSNE-1": 16.433910369873047,
          "tSNE-2": -4.931051254272461
         },
         {
          "KM-label": 7,
          "digit": 6,
          "tSNE-1": 26.87749481201172,
          "tSNE-2": 22.784812927246094
         },
         {
          "KM-label": 3,
          "digit": 5,
          "tSNE-1": 17.94295310974121,
          "tSNE-2": -2.2746658325195312
         },
         {
          "KM-label": 1,
          "digit": 0,
          "tSNE-1": 37.097808837890625,
          "tSNE-2": -3.7787511348724365
         },
         {
          "KM-label": 3,
          "digit": 9,
          "tSNE-1": -7.929473876953125,
          "tSNE-2": -25.669275283813477
         },
         {
          "KM-label": 6,
          "digit": 8,
          "tSNE-1": -7.07538366317749,
          "tSNE-2": -6.702481269836426
         },
         {
          "KM-label": 3,
          "digit": 9,
          "tSNE-1": 11.470996856689453,
          "tSNE-2": -2.929344654083252
         },
         {
          "KM-label": 6,
          "digit": 8,
          "tSNE-1": -17.917400360107422,
          "tSNE-2": -7.028897762298584
         },
         {
          "KM-label": 5,
          "digit": 4,
          "tSNE-1": 14.722268104553223,
          "tSNE-2": -40.860408782958984
         },
         {
          "KM-label": 6,
          "digit": 1,
          "tSNE-1": 3.4231741428375244,
          "tSNE-2": -13.425663948059082
         },
         {
          "KM-label": 2,
          "digit": 7,
          "tSNE-1": -26.65540313720703,
          "tSNE-2": -30.096071243286133
         },
         {
          "KM-label": 2,
          "digit": 7,
          "tSNE-1": -30.085224151611328,
          "tSNE-2": -28.62223243713379
         },
         {
          "KM-label": 6,
          "digit": 3,
          "tSNE-1": -30.190685272216797,
          "tSNE-2": -6.345860958099365
         },
         {
          "KM-label": 3,
          "digit": 5,
          "tSNE-1": 17.584516525268555,
          "tSNE-2": -4.797512531280518
         },
         {
          "KM-label": 6,
          "digit": 1,
          "tSNE-1": 3.4428117275238037,
          "tSNE-2": -10.872272491455078
         },
         {
          "KM-label": 1,
          "digit": 0,
          "tSNE-1": 33.489646911621094,
          "tSNE-2": -9.700316429138184
         },
         {
          "KM-label": 1,
          "digit": 0,
          "tSNE-1": 36.462608337402344,
          "tSNE-2": -1.8006234169006348
         },
         {
          "KM-label": 1,
          "digit": 2,
          "tSNE-1": -19.763280868530273,
          "tSNE-2": 26.998018264770508
         },
         {
          "KM-label": 0,
          "digit": 2,
          "tSNE-1": -27.192148208618164,
          "tSNE-2": 33.29122543334961
         },
         {
          "KM-label": 6,
          "digit": 7,
          "tSNE-1": -30.851245880126953,
          "tSNE-2": -28.328630447387695
         },
         {
          "KM-label": 6,
          "digit": 8,
          "tSNE-1": -10.55714225769043,
          "tSNE-2": -7.627779006958008
         },
         {
          "KM-label": 8,
          "digit": 2,
          "tSNE-1": -19.99089813232422,
          "tSNE-2": 27.312667846679688
         },
         {
          "KM-label": 1,
          "digit": 0,
          "tSNE-1": 34.602691650390625,
          "tSNE-2": -5.673959255218506
         },
         {
          "KM-label": 6,
          "digit": 1,
          "tSNE-1": 2.6616601943969727,
          "tSNE-2": -7.947922706604004
         },
         {
          "KM-label": 0,
          "digit": 2,
          "tSNE-1": -32.9902229309082,
          "tSNE-2": 29.01491928100586
         },
         {
          "KM-label": 7,
          "digit": 6,
          "tSNE-1": 25.33350944519043,
          "tSNE-2": 22.182369232177734
         },
         {
          "KM-label": 6,
          "digit": 3,
          "tSNE-1": -30.096179962158203,
          "tSNE-2": -6.110164642333984
         },
         {
          "KM-label": 2,
          "digit": 3,
          "tSNE-1": -30.170387268066406,
          "tSNE-2": -6.954782485961914
         },
         {
          "KM-label": 2,
          "digit": 7,
          "tSNE-1": -29.946741104125977,
          "tSNE-2": -28.955036163330078
         },
         {
          "KM-label": 2,
          "digit": 3,
          "tSNE-1": -31.51529312133789,
          "tSNE-2": -7.827552795410156
         },
         {
          "KM-label": 6,
          "digit": 3,
          "tSNE-1": -29.92808723449707,
          "tSNE-2": -5.632555961608887
         },
         {
          "KM-label": 5,
          "digit": 4,
          "tSNE-1": 12.179539680480957,
          "tSNE-2": -42.54435348510742
         },
         {
          "KM-label": 7,
          "digit": 6,
          "tSNE-1": 21.492694854736328,
          "tSNE-2": 24.485004425048828
         },
         {
          "KM-label": 7,
          "digit": 6,
          "tSNE-1": 21.284727096557617,
          "tSNE-2": 23.496427536010742
         },
         {
          "KM-label": 7,
          "digit": 6,
          "tSNE-1": 25.561641693115234,
          "tSNE-2": 22.75874137878418
         },
         {
          "KM-label": 2,
          "digit": 4,
          "tSNE-1": -13.847923278808594,
          "tSNE-2": -17.69144058227539
         },
         {
          "KM-label": 9,
          "digit": 9,
          "tSNE-1": -0.4583110213279724,
          "tSNE-2": -30.478572845458984
         },
         {
          "KM-label": 6,
          "digit": 1,
          "tSNE-1": 2.5881435871124268,
          "tSNE-2": -10.938163757324219
         },
         {
          "KM-label": 3,
          "digit": 5,
          "tSNE-1": 17.094919204711914,
          "tSNE-2": -2.6512210369110107
         },
         {
          "KM-label": 1,
          "digit": 0,
          "tSNE-1": 33.4450798034668,
          "tSNE-2": -9.339462280273438
         },
         {
          "KM-label": 4,
          "digit": 9,
          "tSNE-1": -9.471654891967773,
          "tSNE-2": 22.160484313964844
         },
         {
          "KM-label": 3,
          "digit": 5,
          "tSNE-1": 14.510961532592773,
          "tSNE-2": 6.312338352203369
         },
         {
          "KM-label": 8,
          "digit": 2,
          "tSNE-1": -19.661975860595703,
          "tSNE-2": 28.053375244140625
         },
         {
          "KM-label": 6,
          "digit": 8,
          "tSNE-1": -17.137935638427734,
          "tSNE-2": -6.9187211990356445
         },
         {
          "KM-label": 1,
          "digit": 0,
          "tSNE-1": 46.265052795410156,
          "tSNE-2": -3.259310007095337
         },
         {
          "KM-label": 6,
          "digit": 1,
          "tSNE-1": 3.4697511196136475,
          "tSNE-2": -11.312803268432617
         },
         {
          "KM-label": 2,
          "digit": 7,
          "tSNE-1": -28.202510833740234,
          "tSNE-2": -29.026636123657227
         },
         {
          "KM-label": 7,
          "digit": 6,
          "tSNE-1": 25.410539627075195,
          "tSNE-2": 22.296123504638672
         },
         {
          "KM-label": 8,
          "digit": 3,
          "tSNE-1": -33.41697311401367,
          "tSNE-2": -0.7008000016212463
         },
         {
          "KM-label": 0,
          "digit": 2,
          "tSNE-1": -32.36402130126953,
          "tSNE-2": 34.79207229614258
         },
         {
          "KM-label": 6,
          "digit": 1,
          "tSNE-1": 4.111235618591309,
          "tSNE-2": -12.77683162689209
         },
         {
          "KM-label": 2,
          "digit": 7,
          "tSNE-1": -30.25153160095215,
          "tSNE-2": -30.95096206665039
         },
         {
          "KM-label": 2,
          "digit": 4,
          "tSNE-1": -13.812207221984863,
          "tSNE-2": -17.68414306640625
         },
         {
          "KM-label": 7,
          "digit": 6,
          "tSNE-1": 22.280744552612305,
          "tSNE-2": 22.750072479248047
         },
         {
          "KM-label": 8,
          "digit": 3,
          "tSNE-1": -34.52424240112305,
          "tSNE-2": 1.372549295425415
         },
         {
          "KM-label": 6,
          "digit": 1,
          "tSNE-1": 3.671034812927246,
          "tSNE-2": -13.253691673278809
         },
         {
          "KM-label": 8,
          "digit": 3,
          "tSNE-1": -30.8059024810791,
          "tSNE-2": -0.5874806046485901
         },
         {
          "KM-label": 2,
          "digit": 9,
          "tSNE-1": -8.887160301208496,
          "tSNE-2": -25.966873168945312
         },
         {
          "KM-label": 6,
          "digit": 1,
          "tSNE-1": 2.710482597351074,
          "tSNE-2": -12.523496627807617
         },
         {
          "KM-label": 2,
          "digit": 7,
          "tSNE-1": -29.7120361328125,
          "tSNE-2": -28.050447463989258
         },
         {
          "KM-label": 7,
          "digit": 6,
          "tSNE-1": 24.47335433959961,
          "tSNE-2": 25.052248001098633
         },
         {
          "KM-label": 6,
          "digit": 8,
          "tSNE-1": -17.59588623046875,
          "tSNE-2": -7.547660827636719
         },
         {
          "KM-label": 5,
          "digit": 4,
          "tSNE-1": 15.235841751098633,
          "tSNE-2": -40.849510192871094
         },
         {
          "KM-label": 8,
          "digit": 3,
          "tSNE-1": -33.41254806518555,
          "tSNE-2": 1.2734756469726562
         },
         {
          "KM-label": 6,
          "digit": 1,
          "tSNE-1": 3.0645511150360107,
          "tSNE-2": -13.489066123962402
         },
         {
          "KM-label": 5,
          "digit": 4,
          "tSNE-1": 13.694302558898926,
          "tSNE-2": -39.65597915649414
         },
         {
          "KM-label": 1,
          "digit": 0,
          "tSNE-1": 35.68941116333008,
          "tSNE-2": -8.623257637023926
         },
         {
          "KM-label": 3,
          "digit": 5,
          "tSNE-1": 15.390871047973633,
          "tSNE-2": 2.222621440887451
         },
         {
          "KM-label": 8,
          "digit": 3,
          "tSNE-1": -34.32484817504883,
          "tSNE-2": 1.542844295501709
         },
         {
          "KM-label": 7,
          "digit": 6,
          "tSNE-1": 21.057004928588867,
          "tSNE-2": 23.056568145751953
         },
         {
          "KM-label": 8,
          "digit": 9,
          "tSNE-1": -10.686474800109863,
          "tSNE-2": 21.45882797241211
         },
         {
          "KM-label": 7,
          "digit": 6,
          "tSNE-1": 20.378925323486328,
          "tSNE-2": 24.725751876831055
         },
         {
          "KM-label": 6,
          "digit": 1,
          "tSNE-1": 3.336108446121216,
          "tSNE-2": -13.605807304382324
         },
         {
          "KM-label": 2,
          "digit": 7,
          "tSNE-1": -23.693073272705078,
          "tSNE-2": -31.11518096923828
         },
         {
          "KM-label": 3,
          "digit": 5,
          "tSNE-1": 13.654253005981445,
          "tSNE-2": -1.1858893632888794
         },
         {
          "KM-label": 5,
          "digit": 4,
          "tSNE-1": 13.27298355102539,
          "tSNE-2": -39.677494049072266
         },
         {
          "KM-label": 5,
          "digit": 4,
          "tSNE-1": 12.563108444213867,
          "tSNE-2": -43.55110168457031
         },
         {
          "KM-label": 2,
          "digit": 7,
          "tSNE-1": -27.721569061279297,
          "tSNE-2": -31.362232208251953
         },
         {
          "KM-label": 0,
          "digit": 2,
          "tSNE-1": -29.914579391479492,
          "tSNE-2": 38.49895477294922
         },
         {
          "KM-label": 8,
          "digit": 2,
          "tSNE-1": -22.84758949279785,
          "tSNE-2": 27.70058250427246
         },
         {
          "KM-label": 3,
          "digit": 5,
          "tSNE-1": 18.424129486083984,
          "tSNE-2": -1.5475831031799316
         },
         {
          "KM-label": 2,
          "digit": 7,
          "tSNE-1": -30.316099166870117,
          "tSNE-2": -29.54471206665039
         },
         {
          "KM-label": 8,
          "digit": 9,
          "tSNE-1": -30.340177536010742,
          "tSNE-2": 0.23367485404014587
         },
         {
          "KM-label": 3,
          "digit": 5,
          "tSNE-1": 15.413581848144531,
          "tSNE-2": 2.324148416519165
         },
         {
          "KM-label": 2,
          "digit": 4,
          "tSNE-1": -13.891303062438965,
          "tSNE-2": -17.691307067871094
         },
         {
          "KM-label": 5,
          "digit": 4,
          "tSNE-1": 14.090296745300293,
          "tSNE-2": -40.58486557006836
         },
         {
          "KM-label": 3,
          "digit": 9,
          "tSNE-1": 11.702170372009277,
          "tSNE-2": -2.965350866317749
         },
         {
          "KM-label": 1,
          "digit": 0,
          "tSNE-1": 38.28215789794922,
          "tSNE-2": 0.36337631940841675
         },
         {
          "KM-label": 6,
          "digit": 8,
          "tSNE-1": -15.864110946655273,
          "tSNE-2": -7.948400020599365
         },
         {
          "KM-label": 3,
          "digit": 9,
          "tSNE-1": -8.529775619506836,
          "tSNE-2": -25.785255432128906
         },
         {
          "KM-label": 2,
          "digit": 8,
          "tSNE-1": -16.33220863342285,
          "tSNE-2": -7.945541858673096
         },
         {
          "KM-label": 1,
          "digit": 0,
          "tSNE-1": 43.21978759765625,
          "tSNE-2": -5.208796977996826
         },
         {
          "KM-label": 6,
          "digit": 1,
          "tSNE-1": -2.7164306640625,
          "tSNE-2": -5.756897449493408
         },
         {
          "KM-label": 0,
          "digit": 2,
          "tSNE-1": -27.388853073120117,
          "tSNE-2": 34.64899826049805
         },
         {
          "KM-label": 8,
          "digit": 3,
          "tSNE-1": -25.6915225982666,
          "tSNE-2": 2.9402475357055664
         },
         {
          "KM-label": 5,
          "digit": 4,
          "tSNE-1": 19.414306640625,
          "tSNE-2": -31.944786071777344
         },
         {
          "KM-label": 3,
          "digit": 5,
          "tSNE-1": 11.094090461730957,
          "tSNE-2": 11.079548835754395
         },
         {
          "KM-label": 7,
          "digit": 6,
          "tSNE-1": 20.674400329589844,
          "tSNE-2": 32.53925323486328
         },
         {
          "KM-label": 2,
          "digit": 7,
          "tSNE-1": -24.746139526367188,
          "tSNE-2": -28.387903213500977
         },
         {
          "KM-label": 8,
          "digit": 8,
          "tSNE-1": -16.429922103881836,
          "tSNE-2": -3.448995590209961
         },
         {
          "KM-label": 4,
          "digit": 9,
          "tSNE-1": -5.849686145782471,
          "tSNE-2": 23.286998748779297
         },
         {
          "KM-label": 1,
          "digit": 0,
          "tSNE-1": 42.087032318115234,
          "tSNE-2": -5.500997066497803
         },
         {
          "KM-label": 6,
          "digit": 1,
          "tSNE-1": -3.0717523097991943,
          "tSNE-2": -8.409072875976562
         },
         {
          "KM-label": 0,
          "digit": 2,
          "tSNE-1": -32.72120666503906,
          "tSNE-2": 28.146060943603516
         },
         {
          "KM-label": 6,
          "digit": 3,
          "tSNE-1": -31.317012786865234,
          "tSNE-2": -4.678589820861816
         },
         {
          "KM-label": 5,
          "digit": 4,
          "tSNE-1": 17.813879013061523,
          "tSNE-2": -38.57859802246094
         },
         {
          "KM-label": 3,
          "digit": 5,
          "tSNE-1": 11.985634803771973,
          "tSNE-2": 10.628626823425293
         },
         {
          "KM-label": 7,
          "digit": 6,
          "tSNE-1": 30.122129440307617,
          "tSNE-2": 28.377309799194336
         },
         {
          "KM-label": 2,
          "digit": 7,
          "tSNE-1": -19.288633346557617,
          "tSNE-2": -34.882904052734375
         },
         {
          "KM-label": 6,
          "digit": 8,
          "tSNE-1": -15.138238906860352,
          "tSNE-2": -10.470691680908203
         },
         {
          "KM-label": 4,
          "digit": 9,
          "tSNE-1": -4.116756439208984,
          "tSNE-2": 17.68855857849121
         },
         {
          "KM-label": 1,
          "digit": 0,
          "tSNE-1": 43.39596939086914,
          "tSNE-2": -8.55801773071289
         },
         {
          "KM-label": 6,
          "digit": 1,
          "tSNE-1": -0.9758179783821106,
          "tSNE-2": -5.733409404754639
         },
         {
          "KM-label": 0,
          "digit": 2,
          "tSNE-1": -29.33099937438965,
          "tSNE-2": 27.724285125732422
         },
         {
          "KM-label": 3,
          "digit": 3,
          "tSNE-1": 0.9686938524246216,
          "tSNE-2": 2.8191099166870117
         },
         {
          "KM-label": 5,
          "digit": 4,
          "tSNE-1": 17.577085494995117,
          "tSNE-2": -37.7541618347168
         },
         {
          "KM-label": 5,
          "digit": 5,
          "tSNE-1": 12.182868003845215,
          "tSNE-2": 11.090378761291504
         },
         {
          "KM-label": 7,
          "digit": 6,
          "tSNE-1": 20.96041488647461,
          "tSNE-2": 32.46860885620117
         },
         {
          "KM-label": 2,
          "digit": 7,
          "tSNE-1": -24.628252029418945,
          "tSNE-2": -28.27217674255371
         },
         {
          "KM-label": 6,
          "digit": 8,
          "tSNE-1": -15.863323211669922,
          "tSNE-2": -3.294833183288574
         },
         {
          "KM-label": 4,
          "digit": 9,
          "tSNE-1": -8.822758674621582,
          "tSNE-2": 21.489030838012695
         },
         {
          "KM-label": 1,
          "digit": 0,
          "tSNE-1": 39.913639068603516,
          "tSNE-2": -0.7062001824378967
         },
         {
          "KM-label": 4,
          "digit": 9,
          "tSNE-1": -6.696228504180908,
          "tSNE-2": 18.878368377685547
         },
         {
          "KM-label": 3,
          "digit": 5,
          "tSNE-1": 13.13292407989502,
          "tSNE-2": 7.745617866516113
         },
         {
          "KM-label": 3,
          "digit": 5,
          "tSNE-1": 10.893912315368652,
          "tSNE-2": 8.518009185791016
         },
         {
          "KM-label": 7,
          "digit": 6,
          "tSNE-1": 21.467308044433594,
          "tSNE-2": 32.66510772705078
         },
         {
          "KM-label": 3,
          "digit": 5,
          "tSNE-1": 10.958807945251465,
          "tSNE-2": 5.786931991577148
         },
         {
          "KM-label": 1,
          "digit": 0,
          "tSNE-1": 37.11040115356445,
          "tSNE-2": -9.154319763183594
         },
         {
          "KM-label": 4,
          "digit": 9,
          "tSNE-1": -0.9618197083473206,
          "tSNE-2": 22.99982452392578
         },
         {
          "KM-label": 4,
          "digit": 8,
          "tSNE-1": -15.420808792114258,
          "tSNE-2": -1.0116361379623413
         },
         {
          "KM-label": 4,
          "digit": 9,
          "tSNE-1": -2.20292592048645,
          "tSNE-2": 21.332244873046875
         },
         {
          "KM-label": 6,
          "digit": 8,
          "tSNE-1": -14.3280668258667,
          "tSNE-2": -11.160545349121094
         },
         {
          "KM-label": 5,
          "digit": 4,
          "tSNE-1": 16.99944496154785,
          "tSNE-2": -38.930850982666016
         },
         {
          "KM-label": 6,
          "digit": 1,
          "tSNE-1": -3.1043057441711426,
          "tSNE-2": -6.135714054107666
         },
         {
          "KM-label": 2,
          "digit": 7,
          "tSNE-1": -15.218460083007812,
          "tSNE-2": -29.20563316345215
         },
         {
          "KM-label": 2,
          "digit": 7,
          "tSNE-1": -18.889591217041016,
          "tSNE-2": -36.71054458618164
         },
         {
          "KM-label": 2,
          "digit": 3,
          "tSNE-1": -31.444995880126953,
          "tSNE-2": -6.220464706420898
         },
         {
          "KM-label": 3,
          "digit": 5,
          "tSNE-1": 11.834996223449707,
          "tSNE-2": 10.737849235534668
         },
         {
          "KM-label": 6,
          "digit": 1,
          "tSNE-1": -2.398790121078491,
          "tSNE-2": -9.949227333068848
         },
         {
          "KM-label": 1,
          "digit": 0,
          "tSNE-1": 41.590904235839844,
          "tSNE-2": -9.049520492553711
         },
         {
          "KM-label": 1,
          "digit": 0,
          "tSNE-1": 39.747047424316406,
          "tSNE-2": 0.0971187949180603
         },
         {
          "KM-label": 0,
          "digit": 2,
          "tSNE-1": -32.17714309692383,
          "tSNE-2": 37.90003967285156
         },
         {
          "KM-label": 0,
          "digit": 2,
          "tSNE-1": -28.70169448852539,
          "tSNE-2": 36.81731033325195
         },
         {
          "KM-label": 2,
          "digit": 7,
          "tSNE-1": -26.196659088134766,
          "tSNE-2": -31.77751350402832
         },
         {
          "KM-label": 6,
          "digit": 8,
          "tSNE-1": -12.712861061096191,
          "tSNE-2": -12.022038459777832
         },
         {
          "KM-label": 0,
          "digit": 2,
          "tSNE-1": -32.12954330444336,
          "tSNE-2": 37.70726013183594
         },
         {
          "KM-label": 1,
          "digit": 0,
          "tSNE-1": 39.80482482910156,
          "tSNE-2": -9.303638458251953
         },
         {
          "KM-label": 6,
          "digit": 1,
          "tSNE-1": -1.3920905590057373,
          "tSNE-2": -5.3538312911987305
         },
         {
          "KM-label": 0,
          "digit": 2,
          "tSNE-1": -28.670015335083008,
          "tSNE-2": 38.866493225097656
         },
         {
          "KM-label": 7,
          "digit": 6,
          "tSNE-1": 30.025453567504883,
          "tSNE-2": 27.683204650878906
         },
         {
          "KM-label": 6,
          "digit": 3,
          "tSNE-1": -31.894323348999023,
          "tSNE-2": -4.540079116821289
         },
         {
          "KM-label": 6,
          "digit": 3,
          "tSNE-1": -32.102230072021484,
          "tSNE-2": -4.918299198150635
         },
         {
          "KM-label": 2,
          "digit": 7,
          "tSNE-1": -25.787912368774414,
          "tSNE-2": -34.72203063964844
         },
         {
          "KM-label": 4,
          "digit": 3,
          "tSNE-1": -25.311065673828125,
          "tSNE-2": 2.424551010131836
         },
         {
          "KM-label": 6,
          "digit": 3,
          "tSNE-1": -31.661893844604492,
          "tSNE-2": -5.100762367248535
         },
         {
          "KM-label": 5,
          "digit": 4,
          "tSNE-1": 15.948753356933594,
          "tSNE-2": -35.601959228515625
         },
         {
          "KM-label": 7,
          "digit": 6,
          "tSNE-1": 17.628110885620117,
          "tSNE-2": 27.949378967285156
         },
         {
          "KM-label": 7,
          "digit": 6,
          "tSNE-1": 21.799177169799805,
          "tSNE-2": 32.782447814941406
         },
         {
          "KM-label": 7,
          "digit": 6,
          "tSNE-1": 22.58331298828125,
          "tSNE-2": 35.15130615234375
         },
         {
          "KM-label": 5,
          "digit": 4,
          "tSNE-1": 19.289400100708008,
          "tSNE-2": -32.82809066772461
         },
         {
          "KM-label": 4,
          "digit": 9,
          "tSNE-1": -4.969550609588623,
          "tSNE-2": 19.212751388549805
         },
         {
          "KM-label": 6,
          "digit": 1,
          "tSNE-1": -3.570800304412842,
          "tSNE-2": -9.825970649719238
         },
         {
          "KM-label": 3,
          "digit": 5,
          "tSNE-1": 7.331467151641846,
          "tSNE-2": 9.3671236038208
         },
         {
          "KM-label": 1,
          "digit": 0,
          "tSNE-1": 41.85464096069336,
          "tSNE-2": -8.950017929077148
         },
         {
          "KM-label": 4,
          "digit": 9,
          "tSNE-1": -6.612677574157715,
          "tSNE-2": 19.008834838867188
         },
         {
          "KM-label": 4,
          "digit": 5,
          "tSNE-1": 12.080101013183594,
          "tSNE-2": 11.27032470703125
         },
         {
          "KM-label": 0,
          "digit": 2,
          "tSNE-1": -29.032625198364258,
          "tSNE-2": 28.339237213134766
         },
         {
          "KM-label": 6,
          "digit": 8,
          "tSNE-1": -15.237799644470215,
          "tSNE-2": -3.5832786560058594
         },
         {
          "KM-label": 0,
          "digit": 2,
          "tSNE-1": -30.868318557739258,
          "tSNE-2": 27.981067657470703
         },
         {
          "KM-label": 1,
          "digit": 0,
          "tSNE-1": 41.870521545410156,
          "tSNE-2": -10.151318550109863
         },
         {
          "KM-label": 1,
          "digit": 0,
          "tSNE-1": 43.282203674316406,
          "tSNE-2": -8.404274940490723
         },
         {
          "KM-label": 6,
          "digit": 1,
          "tSNE-1": -4.339820861816406,
          "tSNE-2": -7.795777320861816
         },
         {
          "KM-label": 2,
          "digit": 7,
          "tSNE-1": -28.543380737304688,
          "tSNE-2": -32.499114990234375
         },
         {
          "KM-label": 7,
          "digit": 6,
          "tSNE-1": 18.49138832092285,
          "tSNE-2": 27.864715576171875
         },
         {
          "KM-label": 8,
          "digit": 3,
          "tSNE-1": -32.003578186035156,
          "tSNE-2": -3.830658197402954
         },
         {
          "KM-label": 0,
          "digit": 2,
          "tSNE-1": -29.39173126220703,
          "tSNE-2": 27.756122589111328
         },
         {
          "KM-label": 6,
          "digit": 1,
          "tSNE-1": -0.7424972653388977,
          "tSNE-2": -15.217784881591797
         },
         {
          "KM-label": 2,
          "digit": 7,
          "tSNE-1": -27.73328399658203,
          "tSNE-2": -33.54907989501953
         },
         {
          "KM-label": 5,
          "digit": 4,
          "tSNE-1": 19.58445167541504,
          "tSNE-2": -33.46106719970703
         },
         {
          "KM-label": 7,
          "digit": 6,
          "tSNE-1": 18.62628173828125,
          "tSNE-2": 25.6994686126709
         },
         {
          "KM-label": 8,
          "digit": 3,
          "tSNE-1": -32.771751403808594,
          "tSNE-2": 0.19683262705802917
         },
         {
          "KM-label": 6,
          "digit": 1,
          "tSNE-1": -3.613414764404297,
          "tSNE-2": -11.045442581176758
         },
         {
          "KM-label": 8,
          "digit": 3,
          "tSNE-1": -29.791908264160156,
          "tSNE-2": 4.066274166107178
         },
         {
          "KM-label": 4,
          "digit": 9,
          "tSNE-1": -5.112904071807861,
          "tSNE-2": 18.82500648498535
         },
         {
          "KM-label": 6,
          "digit": 1,
          "tSNE-1": -1.7334996461868286,
          "tSNE-2": -6.4992828369140625
         },
         {
          "KM-label": 2,
          "digit": 7,
          "tSNE-1": -22.053260803222656,
          "tSNE-2": -31.55219078063965
         },
         {
          "KM-label": 7,
          "digit": 6,
          "tSNE-1": 20.878263473510742,
          "tSNE-2": 30.86341667175293
         },
         {
          "KM-label": 6,
          "digit": 8,
          "tSNE-1": -9.496828079223633,
          "tSNE-2": -4.430579662322998
         },
         {
          "KM-label": 5,
          "digit": 4,
          "tSNE-1": 20.678613662719727,
          "tSNE-2": -36.793155670166016
         },
         {
          "KM-label": 3,
          "digit": 3,
          "tSNE-1": 1.0122202634811401,
          "tSNE-2": 2.8371682167053223
         },
         {
          "KM-label": 6,
          "digit": 1,
          "tSNE-1": -4.106045722961426,
          "tSNE-2": -8.050898551940918
         },
         {
          "KM-label": 5,
          "digit": 4,
          "tSNE-1": 16.45876693725586,
          "tSNE-2": -33.44882583618164
         },
         {
          "KM-label": 1,
          "digit": 0,
          "tSNE-1": 34.13007736206055,
          "tSNE-2": -5.646713733673096
         },
         {
          "KM-label": 4,
          "digit": 5,
          "tSNE-1": 9.727092742919922,
          "tSNE-2": 11.404075622558594
         },
         {
          "KM-label": 8,
          "digit": 3,
          "tSNE-1": -30.779691696166992,
          "tSNE-2": 2.2151200771331787
         },
         {
          "KM-label": 7,
          "digit": 6,
          "tSNE-1": 19.591890335083008,
          "tSNE-2": 25.374359130859375
         },
         {
          "KM-label": 4,
          "digit": 9,
          "tSNE-1": -4.790478706359863,
          "tSNE-2": 18.093887329101562
         },
         {
          "KM-label": 7,
          "digit": 6,
          "tSNE-1": 28.920696258544922,
          "tSNE-2": 30.673503875732422
         },
         {
          "KM-label": 6,
          "digit": 1,
          "tSNE-1": -4.242767333984375,
          "tSNE-2": -8.31392765045166
         },
         {
          "KM-label": 2,
          "digit": 7,
          "tSNE-1": -28.374849319458008,
          "tSNE-2": -26.40764617919922
         },
         {
          "KM-label": 3,
          "digit": 5,
          "tSNE-1": 12.823028564453125,
          "tSNE-2": 12.023835182189941
         },
         {
          "KM-label": 5,
          "digit": 4,
          "tSNE-1": 18.229633331298828,
          "tSNE-2": -32.70606231689453
         },
         {
          "KM-label": 5,
          "digit": 4,
          "tSNE-1": 21.038902282714844,
          "tSNE-2": -35.180355072021484
         },
         {
          "KM-label": 2,
          "digit": 7,
          "tSNE-1": -21.841140747070312,
          "tSNE-2": -35.15412139892578
         },
         {
          "KM-label": 0,
          "digit": 2,
          "tSNE-1": -25.91407585144043,
          "tSNE-2": 35.808895111083984
         },
         {
          "KM-label": 6,
          "digit": 8,
          "tSNE-1": -15.90060806274414,
          "tSNE-2": -2.312648057937622
         },
         {
          "KM-label": 0,
          "digit": 2,
          "tSNE-1": -26.82889175415039,
          "tSNE-2": 36.905616760253906
         },
         {
          "KM-label": 0,
          "digit": 2,
          "tSNE-1": -27.912031173706055,
          "tSNE-2": 38.65226745605469
         },
         {
          "KM-label": 4,
          "digit": 5,
          "tSNE-1": 12.627208709716797,
          "tSNE-2": 11.039504051208496
         },
         {
          "KM-label": 2,
          "digit": 7,
          "tSNE-1": -28.004016876220703,
          "tSNE-2": -31.771230697631836
         },
         {
          "KM-label": 4,
          "digit": 9,
          "tSNE-1": -9.025763511657715,
          "tSNE-2": 18.741193771362305
         },
         {
          "KM-label": 4,
          "digit": 5,
          "tSNE-1": 10.09109115600586,
          "tSNE-2": 11.696199417114258
         },
         {
          "KM-label": 5,
          "digit": 4,
          "tSNE-1": 19.879268646240234,
          "tSNE-2": -34.98360824584961
         },
         {
          "KM-label": 6,
          "digit": 8,
          "tSNE-1": -6.7320146560668945,
          "tSNE-2": -11.360624313354492
         },
         {
          "KM-label": 6,
          "digit": 8,
          "tSNE-1": -4.8265228271484375,
          "tSNE-2": -12.180328369140625
         },
         {
          "KM-label": 5,
          "digit": 4,
          "tSNE-1": 18.100229263305664,
          "tSNE-2": -36.88724899291992
         },
         {
          "KM-label": 4,
          "digit": 9,
          "tSNE-1": -5.9968953132629395,
          "tSNE-2": 18.54438591003418
         },
         {
          "KM-label": 1,
          "digit": 0,
          "tSNE-1": 37.86432647705078,
          "tSNE-2": -9.194567680358887
         },
         {
          "KM-label": 6,
          "digit": 8,
          "tSNE-1": -9.561908721923828,
          "tSNE-2": -4.0549235343933105
         },
         {
          "KM-label": 4,
          "digit": 9,
          "tSNE-1": -5.949246406555176,
          "tSNE-2": 15.001062393188477
         },
         {
          "KM-label": 4,
          "digit": 8,
          "tSNE-1": -15.696009635925293,
          "tSNE-2": -1.3869067430496216
         }
        ]
       },
       "hconcat": [
        {
         "encoding": {
          "color": {
           "field": "KM-label",
           "scale": {
            "scheme": "Spectral"
           },
           "type": "nominal"
          },
          "x": {
           "field": "tSNE-1",
           "type": "quantitative"
          },
          "y": {
           "field": "tSNE-2",
           "type": "quantitative"
          }
         },
         "height": 450,
         "mark": {
          "size": 40,
          "type": "circle"
         },
         "selection": {
          "selector007": {
           "type": "interval"
          }
         },
         "width": 450
        },
        {
         "encoding": {
          "text": {
           "field": "digit",
           "type": "nominal"
          },
          "y": {
           "axis": null,
           "field": "row_number",
           "type": "ordinal"
          }
         },
         "mark": "text",
         "title": "digit",
         "transform": [
          {
           "window": [
            {
             "as": "row_number",
             "field": "",
             "op": "row_number"
            }
           ]
          },
          {
           "filter": {
            "selection": "selector007"
           }
          },
          {
           "window": [
            {
             "as": "rank",
             "field": "row_number",
             "op": "rank"
            }
           ]
          },
          {
           "filter": "(datum.rank < 25)"
          }
         ]
        }
       ]
      },
      "image/png": "[encoded data removed]",
      "text/plain": [
       "<VegaLite 3 object>\n",
       "\n",
       "If you see this message, it means the renderer has not been properly enabled\n",
       "for the frontend that you are using. For more information, see\n",
       "https://altair-viz.github.io/user_guide/troubleshooting.html\n"
      ]
     },
     "metadata": {},
     "output_type": "display_data"
    }
   ],
   "source": [
    "#collapse-show\n",
    "\n",
    "# Get digits dataset\n",
    "digits = load_digits()\n",
    "# Cluster it with kmeans and get the predicted labels\n",
    "kmlabel = KMeans(n_clusters=10, n_jobs=-1).fit_predict(digits.data)\n",
    "# Embed in 2D with tSNE\n",
    "embedding = TSNE(n_components=2, n_iter=500).fit_transform(digits.data)\n",
    "\n",
    "# Turn data into a dataframe\n",
    "digits_df = pd.DataFrame({\n",
    "    \"tSNE-1\": embedding[:, 0],\n",
    "    \"tSNE-2\": embedding[:, 1],    \n",
    "    \"digit\": digits.target,\n",
    "    \"KM-label\": kmlabel\n",
    "})\n",
    "\n",
    "# Make the chart\n",
    "chart = plot_interactive_embedding(\n",
    "    source=digits_df,\n",
    "    x=\"tSNE-1\",\n",
    "    y=\"tSNE-2\",\n",
    "    target_col=\"digit\",\n",
    "    color_col=\"KM-label\",\n",
    "    figsize=(450, 450),\n",
    ")\n",
    "\n",
    "chart.display()"
   ]
  },
  {
   "cell_type": "markdown",
   "metadata": {},
   "source": [
    "You can save the output by passing a ```filename``` argument.\n",
    "That will generate an interactive file like [this](https://nbviewer.jupyter.org/github/fabridamicelli/pythonicity/blob/master/figs/interactiveEmbedding.html)."
   ]
  },
  {
   "cell_type": "markdown",
   "metadata": {},
   "source": [
    "#### All the code can be found [here](https://github.com/fabridamicelli/pythonicity)."
   ]
  },
  {
   "cell_type": "markdown",
   "metadata": {},
   "source": [
    "#### A couple of links worth checking out:\n",
    "- [Altair](https://altair-viz.github.io/): \"Declarative Visualization in Python\". This does the job under the hood of what I showed you. I did not even scratch the surface of that powerful, neat library.\n",
    "- [This](https://grantcuster.github.io/umap-explorer/) and [this](http://doc.gold.ac.uk/~lfedd001/three/demo.html) for cool visualizations of UMAP projections.\n",
    "- [whatlies](https://rasahq.github.io/whatlies/): \"A library that tries help you to understand. What lies in word embeddings?\". This didn't exist when I wrote this function – would be my first choice now. It goes way beyond of what I showed and has integration with other NLP tools as well."
   ]
  },
  {
   "cell_type": "markdown",
   "metadata": {},
   "source": [
    "----\n",
    "#### Any bugs, questions, comments, suggestions? Ping me on [twitter](https://www.twitter.com/fabridamicelli) or [drop me an e-mail](https://www.uke.de/allgemein/arztprofile-und-wissenschaftlerprofile/wissenschaftlerprofilseite_fabrizio_damicelli.html)."
   ]
  }
 ],
 "metadata": {
  "kernelspec": {
   "display_name": "Python 3",
   "language": "python",
   "name": "python3"
  },
  "language_info": {
   "codemirror_mode": {
    "name": "ipython",
    "version": 3
   },
   "file_extension": ".py",
   "mimetype": "text/x-python",
   "name": "python",
   "nbconvert_exporter": "python",
   "pygments_lexer": "ipython3",
   "version": "3.7.7"
  }
 },
 "nbformat": 4,
 "nbformat_minor": 4
}
